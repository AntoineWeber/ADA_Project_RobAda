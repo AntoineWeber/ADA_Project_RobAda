{
 "cells": [
  {
   "cell_type": "markdown",
   "metadata": {},
   "source": [
    "# Free Diving in Food Facts\n",
    "\n",
    "The [dataset](https://world.openfoodfacts.org/data) presents many [fields](https://static.openfoodfacts.org/data/data-fields.txt) for each product. "
   ]
  },
  {
   "cell_type": "code",
   "execution_count": 182,
   "metadata": {},
   "outputs": [],
   "source": [
    "import re\n",
    "import pickle\n",
    "import importlib # reload an imported module \n",
    "import time\n",
    "import sys\n",
    "import pandas as pd\n",
    "import numpy as np\n",
    "import seaborn as sns\n",
    "import matplotlib\n",
    "import matplotlib.pyplot as plt\n",
    "%matplotlib inline\n",
    "from importlib import reload \n",
    "from IPython.display import clear_output"
   ]
  },
  {
   "cell_type": "code",
   "execution_count": 150,
   "metadata": {},
   "outputs": [],
   "source": [
    "import lucas_utils as lu\n",
    "# Once the script is imported, calling import will not reload the script if it is modified \n",
    "lu = importlib.reload(lu)"
   ]
  },
  {
   "cell_type": "code",
   "execution_count": 27,
   "metadata": {},
   "outputs": [],
   "source": [
    "# define some constants\n",
    "DATASET_PATH = 'data/en.openfoodfacts.org.products.csv'\n",
    "ENCODING = 'UTF-8'\n",
    "PICKLE_DATASET_PATH = 'data/en.openfoodfacts.org.products.pickle'"
   ]
  },
  {
   "cell_type": "code",
   "execution_count": 19,
   "metadata": {},
   "outputs": [],
   "source": [
    "# Pickle utilities\n",
    "def load_pickle(file_path):\n",
    "    with open(file_path, 'rb') as file:\n",
    "        return pickle.load(file)\n",
    "\n",
    "def save_pickle(result, file_path = 'pickle'):\n",
    "    with open(file_path, 'wb') as file:\n",
    "        pickle.dump(result, file)"
   ]
  },
  {
   "cell_type": "markdown",
   "metadata": {},
   "source": [
    "**Load the data:**\n",
    "\n",
    "---\n",
    "---\n",
    "Load the whole dataset from the `.csv` file (takes a minute):"
   ]
  },
  {
   "cell_type": "code",
   "execution_count": null,
   "metadata": {},
   "outputs": [],
   "source": [
    "food_facts_df = pd.read_csv(DATASET_PATH, encoding=ENCODING, sep='\\t',low_memory=False)"
   ]
  },
  {
   "cell_type": "code",
   "execution_count": null,
   "metadata": {},
   "outputs": [],
   "source": [
    "# Save the dataframe with pickle for faster loading\n",
    "save_pickle(food_facts_df, PICKLE_DATASET_PATH)"
   ]
  },
  {
   "cell_type": "markdown",
   "metadata": {},
   "source": [
    "---\n",
    "Or use pickle instead to load the dataframe directly:"
   ]
  },
  {
   "cell_type": "code",
   "execution_count": 20,
   "metadata": {},
   "outputs": [],
   "source": [
    "food_facts_df = load_pickle(PICKLE_DATASET_PATH)"
   ]
  },
  {
   "cell_type": "markdown",
   "metadata": {},
   "source": [
    "---\n",
    "---"
   ]
  },
  {
   "cell_type": "code",
   "execution_count": 90,
   "metadata": {},
   "outputs": [
    {
     "name": "stdout",
     "output_type": "stream",
     "text": [
      "The dataset contains  1030905  entries.\n"
     ]
    }
   ],
   "source": [
    "print('The dataset contains ',len(food_facts_df),' entries.')"
   ]
  },
  {
   "cell_type": "markdown",
   "metadata": {},
   "source": [
    "**Use a sample of the dataset**\n",
    "\n",
    "Use only a sample containing 10'000 products for experimenting:"
   ]
  },
  {
   "cell_type": "code",
   "execution_count": 21,
   "metadata": {},
   "outputs": [],
   "source": [
    "sample_df = food_facts_df.head(10000).copy()"
   ]
  },
  {
   "cell_type": "code",
   "execution_count": 22,
   "metadata": {},
   "outputs": [
    {
     "data": {
      "text/html": [
       "<div>\n",
       "<style scoped>\n",
       "    .dataframe tbody tr th:only-of-type {\n",
       "        vertical-align: middle;\n",
       "    }\n",
       "\n",
       "    .dataframe tbody tr th {\n",
       "        vertical-align: top;\n",
       "    }\n",
       "\n",
       "    .dataframe thead th {\n",
       "        text-align: right;\n",
       "    }\n",
       "</style>\n",
       "<table border=\"1\" class=\"dataframe\">\n",
       "  <thead>\n",
       "    <tr style=\"text-align: right;\">\n",
       "      <th></th>\n",
       "      <th>code</th>\n",
       "      <th>url</th>\n",
       "      <th>creator</th>\n",
       "      <th>created_t</th>\n",
       "      <th>created_datetime</th>\n",
       "      <th>last_modified_t</th>\n",
       "      <th>last_modified_datetime</th>\n",
       "      <th>product_name</th>\n",
       "      <th>generic_name</th>\n",
       "      <th>quantity</th>\n",
       "      <th>...</th>\n",
       "      <th>carbon-footprint-from-meat-or-fish_100g</th>\n",
       "      <th>nutrition-score-fr_100g</th>\n",
       "      <th>nutrition-score-uk_100g</th>\n",
       "      <th>glycemic-index_100g</th>\n",
       "      <th>water-hardness_100g</th>\n",
       "      <th>choline_100g</th>\n",
       "      <th>phylloquinone_100g</th>\n",
       "      <th>beta-glucan_100g</th>\n",
       "      <th>inositol_100g</th>\n",
       "      <th>carnitine_100g</th>\n",
       "    </tr>\n",
       "  </thead>\n",
       "  <tbody>\n",
       "    <tr>\n",
       "      <td>0</td>\n",
       "      <td>0000000000017</td>\n",
       "      <td>http://world-en.openfoodfacts.org/product/0000...</td>\n",
       "      <td>kiliweb</td>\n",
       "      <td>1529059080</td>\n",
       "      <td>2018-06-15T10:38:00Z</td>\n",
       "      <td>1561463718</td>\n",
       "      <td>2019-06-25T11:55:18Z</td>\n",
       "      <td>Vitória crackers</td>\n",
       "      <td>NaN</td>\n",
       "      <td>NaN</td>\n",
       "      <td>...</td>\n",
       "      <td>NaN</td>\n",
       "      <td>NaN</td>\n",
       "      <td>NaN</td>\n",
       "      <td>NaN</td>\n",
       "      <td>NaN</td>\n",
       "      <td>NaN</td>\n",
       "      <td>NaN</td>\n",
       "      <td>NaN</td>\n",
       "      <td>NaN</td>\n",
       "      <td>NaN</td>\n",
       "    </tr>\n",
       "    <tr>\n",
       "      <td>1</td>\n",
       "      <td>0000000000031</td>\n",
       "      <td>http://world-en.openfoodfacts.org/product/0000...</td>\n",
       "      <td>isagoofy</td>\n",
       "      <td>1539464774</td>\n",
       "      <td>2018-10-13T21:06:14Z</td>\n",
       "      <td>1539464817</td>\n",
       "      <td>2018-10-13T21:06:57Z</td>\n",
       "      <td>Cacao</td>\n",
       "      <td>NaN</td>\n",
       "      <td>130 g</td>\n",
       "      <td>...</td>\n",
       "      <td>NaN</td>\n",
       "      <td>NaN</td>\n",
       "      <td>NaN</td>\n",
       "      <td>NaN</td>\n",
       "      <td>NaN</td>\n",
       "      <td>NaN</td>\n",
       "      <td>NaN</td>\n",
       "      <td>NaN</td>\n",
       "      <td>NaN</td>\n",
       "      <td>NaN</td>\n",
       "    </tr>\n",
       "  </tbody>\n",
       "</table>\n",
       "<p>2 rows × 175 columns</p>\n",
       "</div>"
      ],
      "text/plain": [
       "            code                                                url   creator  \\\n",
       "0  0000000000017  http://world-en.openfoodfacts.org/product/0000...   kiliweb   \n",
       "1  0000000000031  http://world-en.openfoodfacts.org/product/0000...  isagoofy   \n",
       "\n",
       "    created_t      created_datetime  last_modified_t last_modified_datetime  \\\n",
       "0  1529059080  2018-06-15T10:38:00Z       1561463718   2019-06-25T11:55:18Z   \n",
       "1  1539464774  2018-10-13T21:06:14Z       1539464817   2018-10-13T21:06:57Z   \n",
       "\n",
       "       product_name generic_name quantity  ...  \\\n",
       "0  Vitória crackers          NaN      NaN  ...   \n",
       "1             Cacao          NaN    130 g  ...   \n",
       "\n",
       "  carbon-footprint-from-meat-or-fish_100g nutrition-score-fr_100g  \\\n",
       "0                                     NaN                     NaN   \n",
       "1                                     NaN                     NaN   \n",
       "\n",
       "  nutrition-score-uk_100g glycemic-index_100g water-hardness_100g  \\\n",
       "0                     NaN                 NaN                 NaN   \n",
       "1                     NaN                 NaN                 NaN   \n",
       "\n",
       "  choline_100g phylloquinone_100g beta-glucan_100g inositol_100g  \\\n",
       "0          NaN                NaN              NaN           NaN   \n",
       "1          NaN                NaN              NaN           NaN   \n",
       "\n",
       "  carnitine_100g  \n",
       "0            NaN  \n",
       "1            NaN  \n",
       "\n",
       "[2 rows x 175 columns]"
      ]
     },
     "execution_count": 22,
     "metadata": {},
     "output_type": "execute_result"
    }
   ],
   "source": [
    "sample_df.head(2)"
   ]
  },
  {
   "cell_type": "markdown",
   "metadata": {},
   "source": [
    "## Question: What are the levels of interdependencies between nations based on their production and importations?\n",
    "\n",
    "Let us first identify the [fields](https://static.openfoodfacts.org/data/data-fields.txt) that are relevant to the question:"
   ]
  },
  {
   "cell_type": "code",
   "execution_count": 36,
   "metadata": {},
   "outputs": [],
   "source": [
    "FIELDS = ['origins',\n",
    "          'origins_tags',\n",
    "          'manufacturing_places',\n",
    "          'manufacturing_places_tags',\n",
    "          'first_packaging_code_geo',\n",
    "          'cities',\n",
    "          'cities_tags',\n",
    "          'purchase_places',\n",
    "          'stores',\n",
    "          'countries',\n",
    "          'countries_tags']\n",
    "# 'countries_fr' generates a key error"
   ]
  },
  {
   "cell_type": "markdown",
   "metadata": {},
   "source": [
    "Let us observe the type of information each of them offers: "
   ]
  },
  {
   "cell_type": "code",
   "execution_count": 78,
   "metadata": {},
   "outputs": [
    {
     "name": "stdout",
     "output_type": "stream",
     "text": [
      "Field: origins\n",
      "\t ['France' 'Québec' 'Québec' 'France']\n",
      "Field: origins_tags\n",
      "\t ['france' 'quebec' 'quebec' 'france']\n",
      "Field: manufacturing_places\n",
      "\t ['France' 'France' 'Brossard Québec' 'Brossard Québec']\n",
      "Field: manufacturing_places_tags\n",
      "\t ['france' 'france' 'brossard-quebec' 'brossard-quebec']\n",
      "Field: first_packaging_code_geo\n",
      "\t ['47.833333,-0.333333' '47.883333,-2.766667' '49.083333,2.75'\n",
      " '47.7,-0.366667']\n",
      "Field: cities\n",
      "\t []\n",
      "Field: cities_tags\n",
      "\t ['sable-sur-sarthe-sarthe-france' 'bignan-morbihan-france'\n",
      " 'lagny-le-sec-oise-france' 'daumeray-maine-et-loire-france']\n",
      "Field: purchase_places\n",
      "\t ['France' 'Roissy,France' 'Roissy,France' 'France']\n",
      "Field: stores\n",
      "\t ['courte paille' 'Marks & Spencer' 'Marks & Spencer' \"Sainsbury's\"]\n",
      "Field: countries\n",
      "\t ['France' 'France' 'France' 'en:France']\n",
      "Field: countries_tags\n",
      "\t ['en:france' 'en:france' 'en:france' 'en:france']\n"
     ]
    }
   ],
   "source": [
    "for field in FIELDS:\n",
    "    print('Field: ' + field)\n",
    "    print('\\t',lu.get_field_without_nan(sample_df,field).head(4).values)"
   ]
  },
  {
   "cell_type": "markdown",
   "metadata": {},
   "source": [
    "An important criterion to select reliable fields is how complete the information is per field:"
   ]
  },
  {
   "cell_type": "code",
   "execution_count": 83,
   "metadata": {},
   "outputs": [
    {
     "name": "stdout",
     "output_type": "stream",
     "text": [
      "Done [11/11]\r"
     ]
    },
    {
     "data": {
      "image/png": "[encoded data removed]",
      "text/plain": [
       "<Figure size 432x288 with 1 Axes>"
      ]
     },
     "metadata": {
      "needs_background": "light"
     },
     "output_type": "display_data"
    }
   ],
   "source": [
    "# Levels for the dataset sample\n",
    "lu.show_fields_completeness(sample_df,FIELDS,verbose=True)"
   ]
  },
  {
   "cell_type": "code",
   "execution_count": 84,
   "metadata": {},
   "outputs": [
    {
     "name": "stdout",
     "output_type": "stream",
     "text": [
      "Done [11/11]\r"
     ]
    },
    {
     "data": {
      "image/png": "[encoded data removed]",
      "text/plain": [
       "<Figure size 432x288 with 1 Axes>"
      ]
     },
     "metadata": {
      "needs_background": "light"
     },
     "output_type": "display_data"
    }
   ],
   "source": [
    "# Levels for the full dataset\n",
    "lu.show_fields_completeness(food_facts_df,FIELDS,verbose=True)"
   ]
  },
  {
   "cell_type": "markdown",
   "metadata": {},
   "source": [
    "Clearly, the most reliable fields are `countries` and `countries_tags` since they are almost missing no data! Furthermore, `countries_tags` is essentially a cleaned up version of `countries`. We will therefore definitely use this field. It indicates where the product is sold.\n",
    "\n",
    "Let us analyze this field more in depth. Let us see what `unique()` returns for this field:"
   ]
  },
  {
   "cell_type": "code",
   "execution_count": 100,
   "metadata": {},
   "outputs": [],
   "source": [
    "# Store unique 'countries_tag' \n",
    "unique_countries_tag_s = pd.Series(sample_df['countries_tags'].dropna().unique())"
   ]
  },
  {
   "cell_type": "code",
   "execution_count": 103,
   "metadata": {},
   "outputs": [
    {
     "data": {
      "text/plain": [
       "0                     en:france\n",
       "1              en:united-states\n",
       "2                    en:ireland\n",
       "3                    en:belgium\n",
       "4             en:united-kingdom\n",
       "5    en:france,en:united-states\n",
       "dtype: object"
      ]
     },
     "execution_count": 103,
     "metadata": {},
     "output_type": "execute_result"
    }
   ],
   "source": [
    "unique_countries_tag_s.head(6)"
   ]
  },
  {
   "cell_type": "markdown",
   "metadata": {},
   "source": [
    "The data seems to be clean! Some products exist in different countries. When this is the case, the `countries_tag` field contains a list of countries separated by commas. To really identify unique countries the dataframe should be modified to list a single country per product. In this way, we will exactly know what countries are present and how many products are found in each of them.\n",
    "\n",
    "To do so, we need to explode the `countries_tags` to contain a single value instead of a list of countries. This will create a new row which is a duplicate of the original one where the `countries_tags` field contains a single value. "
   ]
  },
  {
   "cell_type": "code",
   "execution_count": 194,
   "metadata": {},
   "outputs": [],
   "source": [
    "unique_countries_s = lu.get_unique_values_of_field(food_facts_df,field='countries_tags')"
   ]
  },
  {
   "cell_type": "code",
   "execution_count": 195,
   "metadata": {},
   "outputs": [],
   "source": [
    "# Store the countries in a text file\n",
    "with open('data/countries.txt','wb') as file: \n",
    "    for i,country in enumerate(unique_countries_s):\n",
    "        file.write((country+'\\n').encode('utf8'))"
   ]
  }
 ],
 "metadata": {
  "kernelspec": {
   "display_name": "Python 3",
   "language": "python",
   "name": "python3"
  },
  "language_info": {
   "codemirror_mode": {
    "name": "ipython",
    "version": 3
   },
   "file_extension": ".py",
   "mimetype": "text/x-python",
   "name": "python",
   "nbconvert_exporter": "python",
   "pygments_lexer": "ipython3",
   "version": "3.7.4"
  }
 },
 "nbformat": 4,
 "nbformat_minor": 4
}
