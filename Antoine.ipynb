{
 "cells": [
  {
   "cell_type": "code",
   "execution_count": 1,
   "metadata": {
    "ExecuteTime": {
     "end_time": "2019-11-24T19:52:46.220841Z",
     "start_time": "2019-11-24T19:52:42.760546Z"
    }
   },
   "outputs": [],
   "source": [
    "import pickle\n",
    "import time\n",
    "import sys\n",
    "import os\n",
    "import json\n",
    "import folium\n",
    "import itertools\n",
    "import numpy as np\n",
    "import matplotlib as mpl\n",
    "import matplotlib.pyplot as plt\n",
    "import pandas as pd\n",
    "import re\n",
    "import seaborn as sns\n",
    "import statsmodels.formula.api as sm\n",
    "\n",
    "from sklearn.feature_extraction.text import CountVectorizer\n",
    "from string import punctuation\n",
    "from math import pi"
   ]
  },
  {
   "cell_type": "markdown",
   "metadata": {},
   "source": [
    "Let us load the dataset: "
   ]
  },
  {
   "cell_type": "code",
   "execution_count": 2,
   "metadata": {
    "ExecuteTime": {
     "end_time": "2019-11-24T19:54:07.754743Z",
     "start_time": "2019-11-24T19:52:46.220841Z"
    },
    "scrolled": false
   },
   "outputs": [
    {
     "data": {
      "text/html": [
       "<div>\n",
       "<style scoped>\n",
       "    .dataframe tbody tr th:only-of-type {\n",
       "        vertical-align: middle;\n",
       "    }\n",
       "\n",
       "    .dataframe tbody tr th {\n",
       "        vertical-align: top;\n",
       "    }\n",
       "\n",
       "    .dataframe thead th {\n",
       "        text-align: right;\n",
       "    }\n",
       "</style>\n",
       "<table border=\"1\" class=\"dataframe\">\n",
       "  <thead>\n",
       "    <tr style=\"text-align: right;\">\n",
       "      <th></th>\n",
       "      <th>code</th>\n",
       "      <th>url</th>\n",
       "      <th>creator</th>\n",
       "      <th>created_t</th>\n",
       "      <th>created_datetime</th>\n",
       "      <th>last_modified_t</th>\n",
       "      <th>last_modified_datetime</th>\n",
       "      <th>product_name</th>\n",
       "      <th>generic_name</th>\n",
       "      <th>quantity</th>\n",
       "      <th>...</th>\n",
       "      <th>carbon-footprint-from-meat-or-fish_100g</th>\n",
       "      <th>nutrition-score-fr_100g</th>\n",
       "      <th>nutrition-score-uk_100g</th>\n",
       "      <th>glycemic-index_100g</th>\n",
       "      <th>water-hardness_100g</th>\n",
       "      <th>choline_100g</th>\n",
       "      <th>phylloquinone_100g</th>\n",
       "      <th>beta-glucan_100g</th>\n",
       "      <th>inositol_100g</th>\n",
       "      <th>carnitine_100g</th>\n",
       "    </tr>\n",
       "  </thead>\n",
       "  <tbody>\n",
       "    <tr>\n",
       "      <td>0</td>\n",
       "      <td>0000000000017</td>\n",
       "      <td>http://world-en.openfoodfacts.org/product/0000...</td>\n",
       "      <td>kiliweb</td>\n",
       "      <td>1529059080</td>\n",
       "      <td>2018-06-15T10:38:00Z</td>\n",
       "      <td>1561463718</td>\n",
       "      <td>2019-06-25T11:55:18Z</td>\n",
       "      <td>Vitória crackers</td>\n",
       "      <td>NaN</td>\n",
       "      <td>NaN</td>\n",
       "      <td>...</td>\n",
       "      <td>NaN</td>\n",
       "      <td>NaN</td>\n",
       "      <td>NaN</td>\n",
       "      <td>NaN</td>\n",
       "      <td>NaN</td>\n",
       "      <td>NaN</td>\n",
       "      <td>NaN</td>\n",
       "      <td>NaN</td>\n",
       "      <td>NaN</td>\n",
       "      <td>NaN</td>\n",
       "    </tr>\n",
       "    <tr>\n",
       "      <td>1</td>\n",
       "      <td>0000000000031</td>\n",
       "      <td>http://world-en.openfoodfacts.org/product/0000...</td>\n",
       "      <td>isagoofy</td>\n",
       "      <td>1539464774</td>\n",
       "      <td>2018-10-13T21:06:14Z</td>\n",
       "      <td>1539464817</td>\n",
       "      <td>2018-10-13T21:06:57Z</td>\n",
       "      <td>Cacao</td>\n",
       "      <td>NaN</td>\n",
       "      <td>130 g</td>\n",
       "      <td>...</td>\n",
       "      <td>NaN</td>\n",
       "      <td>NaN</td>\n",
       "      <td>NaN</td>\n",
       "      <td>NaN</td>\n",
       "      <td>NaN</td>\n",
       "      <td>NaN</td>\n",
       "      <td>NaN</td>\n",
       "      <td>NaN</td>\n",
       "      <td>NaN</td>\n",
       "      <td>NaN</td>\n",
       "    </tr>\n",
       "    <tr>\n",
       "      <td>2</td>\n",
       "      <td>0000000000100</td>\n",
       "      <td>http://world-en.openfoodfacts.org/product/0000...</td>\n",
       "      <td>del51</td>\n",
       "      <td>1444572561</td>\n",
       "      <td>2015-10-11T14:09:21Z</td>\n",
       "      <td>1444659212</td>\n",
       "      <td>2015-10-12T14:13:32Z</td>\n",
       "      <td>moutarde au moût de raisin</td>\n",
       "      <td>NaN</td>\n",
       "      <td>100g</td>\n",
       "      <td>...</td>\n",
       "      <td>NaN</td>\n",
       "      <td>18.0</td>\n",
       "      <td>18.0</td>\n",
       "      <td>NaN</td>\n",
       "      <td>NaN</td>\n",
       "      <td>NaN</td>\n",
       "      <td>NaN</td>\n",
       "      <td>NaN</td>\n",
       "      <td>NaN</td>\n",
       "      <td>NaN</td>\n",
       "    </tr>\n",
       "    <tr>\n",
       "      <td>3</td>\n",
       "      <td>00000000001111111111</td>\n",
       "      <td>http://world-en.openfoodfacts.org/product/0000...</td>\n",
       "      <td>openfoodfacts-contributors</td>\n",
       "      <td>1560020173</td>\n",
       "      <td>2019-06-08T18:56:13Z</td>\n",
       "      <td>1560020173</td>\n",
       "      <td>2019-06-08T18:56:13Z</td>\n",
       "      <td>Sfiudwx</td>\n",
       "      <td>NaN</td>\n",
       "      <td>dgesc</td>\n",
       "      <td>...</td>\n",
       "      <td>NaN</td>\n",
       "      <td>NaN</td>\n",
       "      <td>NaN</td>\n",
       "      <td>NaN</td>\n",
       "      <td>NaN</td>\n",
       "      <td>NaN</td>\n",
       "      <td>NaN</td>\n",
       "      <td>NaN</td>\n",
       "      <td>NaN</td>\n",
       "      <td>NaN</td>\n",
       "    </tr>\n",
       "    <tr>\n",
       "      <td>4</td>\n",
       "      <td>0000000000123</td>\n",
       "      <td>http://world-en.openfoodfacts.org/product/0000...</td>\n",
       "      <td>kiliweb</td>\n",
       "      <td>1535737982</td>\n",
       "      <td>2018-08-31T17:53:02Z</td>\n",
       "      <td>1535737986</td>\n",
       "      <td>2018-08-31T17:53:06Z</td>\n",
       "      <td>Sauce Sweety chili 0%</td>\n",
       "      <td>NaN</td>\n",
       "      <td>NaN</td>\n",
       "      <td>...</td>\n",
       "      <td>NaN</td>\n",
       "      <td>NaN</td>\n",
       "      <td>NaN</td>\n",
       "      <td>NaN</td>\n",
       "      <td>NaN</td>\n",
       "      <td>NaN</td>\n",
       "      <td>NaN</td>\n",
       "      <td>NaN</td>\n",
       "      <td>NaN</td>\n",
       "      <td>NaN</td>\n",
       "    </tr>\n",
       "  </tbody>\n",
       "</table>\n",
       "<p>5 rows × 175 columns</p>\n",
       "</div>"
      ],
      "text/plain": [
       "                   code                                                url  \\\n",
       "0         0000000000017  http://world-en.openfoodfacts.org/product/0000...   \n",
       "1         0000000000031  http://world-en.openfoodfacts.org/product/0000...   \n",
       "2         0000000000100  http://world-en.openfoodfacts.org/product/0000...   \n",
       "3  00000000001111111111  http://world-en.openfoodfacts.org/product/0000...   \n",
       "4         0000000000123  http://world-en.openfoodfacts.org/product/0000...   \n",
       "\n",
       "                      creator   created_t      created_datetime  \\\n",
       "0                     kiliweb  1529059080  2018-06-15T10:38:00Z   \n",
       "1                    isagoofy  1539464774  2018-10-13T21:06:14Z   \n",
       "2                       del51  1444572561  2015-10-11T14:09:21Z   \n",
       "3  openfoodfacts-contributors  1560020173  2019-06-08T18:56:13Z   \n",
       "4                     kiliweb  1535737982  2018-08-31T17:53:02Z   \n",
       "\n",
       "   last_modified_t last_modified_datetime                  product_name  \\\n",
       "0       1561463718   2019-06-25T11:55:18Z              Vitória crackers   \n",
       "1       1539464817   2018-10-13T21:06:57Z                         Cacao   \n",
       "2       1444659212   2015-10-12T14:13:32Z   moutarde au moût de raisin    \n",
       "3       1560020173   2019-06-08T18:56:13Z                       Sfiudwx   \n",
       "4       1535737986   2018-08-31T17:53:06Z         Sauce Sweety chili 0%   \n",
       "\n",
       "  generic_name quantity  ... carbon-footprint-from-meat-or-fish_100g  \\\n",
       "0          NaN      NaN  ...                                     NaN   \n",
       "1          NaN    130 g  ...                                     NaN   \n",
       "2          NaN     100g  ...                                     NaN   \n",
       "3          NaN    dgesc  ...                                     NaN   \n",
       "4          NaN      NaN  ...                                     NaN   \n",
       "\n",
       "  nutrition-score-fr_100g nutrition-score-uk_100g glycemic-index_100g  \\\n",
       "0                     NaN                     NaN                 NaN   \n",
       "1                     NaN                     NaN                 NaN   \n",
       "2                    18.0                    18.0                 NaN   \n",
       "3                     NaN                     NaN                 NaN   \n",
       "4                     NaN                     NaN                 NaN   \n",
       "\n",
       "  water-hardness_100g choline_100g phylloquinone_100g beta-glucan_100g  \\\n",
       "0                 NaN          NaN                NaN              NaN   \n",
       "1                 NaN          NaN                NaN              NaN   \n",
       "2                 NaN          NaN                NaN              NaN   \n",
       "3                 NaN          NaN                NaN              NaN   \n",
       "4                 NaN          NaN                NaN              NaN   \n",
       "\n",
       "  inositol_100g carnitine_100g  \n",
       "0           NaN            NaN  \n",
       "1           NaN            NaN  \n",
       "2           NaN            NaN  \n",
       "3           NaN            NaN  \n",
       "4           NaN            NaN  \n",
       "\n",
       "[5 rows x 175 columns]"
      ]
     },
     "execution_count": 2,
     "metadata": {},
     "output_type": "execute_result"
    }
   ],
   "source": [
    "OPEN_FOOD_FACTS_PATH = 'data/en.openfoodfacts.org.products.csv'\n",
    "ENCODING = 'UTF-8'\n",
    "\n",
    "chunksize = 100000\n",
    "tfr = pd.read_csv(OPEN_FOOD_FACTS_PATH, encoding=ENCODING, sep='\\t', chunksize=chunksize, iterator=True, low_memory=False)\n",
    "food_facts_df = pd.concat(tfr, ignore_index=True)\n",
    "food_facts_df.head(5)"
   ]
  },
  {
   "cell_type": "code",
   "execution_count": 3,
   "metadata": {
    "ExecuteTime": {
     "end_time": "2019-11-24T19:54:08.302043Z",
     "start_time": "2019-11-24T19:54:07.754743Z"
    },
    "scrolled": false
   },
   "outputs": [
    {
     "name": "stdout",
     "output_type": "stream",
     "text": [
      "We have 1030905 rows, hence products, in the dataset.\n",
      "We have 175 columns, hence fields, in the dataset.\n"
     ]
    }
   ],
   "source": [
    "print(\"We have {} rows, hence products, in the dataset.\".format(food_facts_df.shape[0]))\n",
    "print(\"We have {} columns, hence fields, in the dataset.\".format(food_facts_df.shape[1]))"
   ]
  },
  {
   "cell_type": "markdown",
   "metadata": {},
   "source": [
    "### Available fields <a class=\"anchor\" id=\"availablefields\"></a> \n",
    "\n",
    "The dataset description is available [here](https://static.openfoodfacts.org/data/data-fields.txt).\n",
    "\n",
    "\n",
    "\n",
    "This dataset is provided with a text file describing the different fields. We present a brief overview of the main types of fields:\n",
    "\n",
    "* field `code` containing the product's code. \n",
    "* field `creator` indicating who added the product to the dataset. \n",
    "* field `countries` showing where the product is selled. \n",
    "* fields that end with `_t` are dates in the UNIX timestamp format (number of seconds since Jan 1st 1970)\n",
    "* fields that end with `_datetime` are dates in the iso8601 format: yyyy-mm-ddThh:mn:ssZ\n",
    "* fields that end with `_tags` are comma separated list of tags (e.g. categories_tags is the set of normalized tags computer from the categories field)\n",
    "* fields that end with a language 2 letter code (e.g. fr for French) is the set of tags in that language\n",
    "* fields that end with `_100g` correspond to the amount of a nutriment (in g, or kJ for energy) for 100 g or 100 ml of product\n",
    "* fields that end with `_serving` correspond to the amount of a nutriment (in g, or kJ for energy) for 1 serving of the product"
   ]
  },
  {
   "cell_type": "markdown",
   "metadata": {},
   "source": [
    "### General cleaning <a class=\"anchor\" id=\"generalcleaning\"></a> "
   ]
  },
  {
   "cell_type": "markdown",
   "metadata": {},
   "source": [
    "Each product of the dataset has a field named `code`. It should be unique to each row. This is the case in general, except for a small number of duplicates. Let's check that:"
   ]
  },
  {
   "cell_type": "code",
   "execution_count": 4,
   "metadata": {},
   "outputs": [
    {
     "name": "stdout",
     "output_type": "stream",
     "text": [
      "We have 1030905 rows in the dataset\n",
      "We have 1030740 different code in the dataset\n"
     ]
    }
   ],
   "source": [
    "print(\"We have {} rows in the dataset\".format(food_facts_df.shape[0]))\n",
    "print(\"We have {} different code in the dataset\".format((np.unique(food_facts_df['code']).shape[0])))"
   ]
  },
  {
   "cell_type": "code",
   "execution_count": 5,
   "metadata": {
    "ExecuteTime": {
     "end_time": "2019-11-24T19:54:08.535841Z",
     "start_time": "2019-11-24T19:54:08.302043Z"
    }
   },
   "outputs": [
    {
     "name": "stdout",
     "output_type": "stream",
     "text": [
      "We have 165 duplicated code\n"
     ]
    }
   ],
   "source": [
    "number_duplicates=food_facts_df['code'].duplicated()\n",
    "print(\"We have {} duplicated code\".format(number_duplicates.value_counts()[1]))"
   ]
  },
  {
   "cell_type": "markdown",
   "metadata": {},
   "source": [
    "There are a few codes that are duplicated. Let's start by dropping these duplicated rows:"
   ]
  },
  {
   "cell_type": "code",
   "execution_count": 6,
   "metadata": {
    "ExecuteTime": {
     "end_time": "2019-11-24T19:54:10.191668Z",
     "start_time": "2019-11-24T19:54:08.535841Z"
    },
    "scrolled": true
   },
   "outputs": [
    {
     "name": "stdout",
     "output_type": "stream",
     "text": [
      "We have 1030740 rows in the dataset after dropping the duplicates.\n"
     ]
    }
   ],
   "source": [
    "food_facts_df.drop_duplicates(subset=['code'],inplace=True)\n",
    "print(\"We have {} rows in the dataset after dropping the duplicates.\".format(food_facts_df.shape[0]))"
   ]
  },
  {
   "cell_type": "markdown",
   "metadata": {},
   "source": [
    "Great! We have now a unique code for each row. We can set the code as an index for the whole dataset."
   ]
  },
  {
   "cell_type": "code",
   "execution_count": 7,
   "metadata": {
    "ExecuteTime": {
     "end_time": "2019-11-24T19:54:10.769783Z",
     "start_time": "2019-11-24T19:54:10.191668Z"
    }
   },
   "outputs": [],
   "source": [
    "#lets fix the code as index\n",
    "food_facts_df.set_index('code', inplace=True)"
   ]
  },
  {
   "cell_type": "code",
   "execution_count": 8,
   "metadata": {
    "ExecuteTime": {
     "end_time": "2019-11-24T19:54:10.800899Z",
     "start_time": "2019-11-24T19:54:10.769783Z"
    }
   },
   "outputs": [
    {
     "data": {
      "text/html": [
       "<div>\n",
       "<style scoped>\n",
       "    .dataframe tbody tr th:only-of-type {\n",
       "        vertical-align: middle;\n",
       "    }\n",
       "\n",
       "    .dataframe tbody tr th {\n",
       "        vertical-align: top;\n",
       "    }\n",
       "\n",
       "    .dataframe thead th {\n",
       "        text-align: right;\n",
       "    }\n",
       "</style>\n",
       "<table border=\"1\" class=\"dataframe\">\n",
       "  <thead>\n",
       "    <tr style=\"text-align: right;\">\n",
       "      <th></th>\n",
       "      <th>url</th>\n",
       "      <th>creator</th>\n",
       "      <th>created_t</th>\n",
       "      <th>created_datetime</th>\n",
       "      <th>last_modified_t</th>\n",
       "      <th>last_modified_datetime</th>\n",
       "      <th>product_name</th>\n",
       "      <th>generic_name</th>\n",
       "      <th>quantity</th>\n",
       "      <th>packaging</th>\n",
       "      <th>...</th>\n",
       "      <th>carbon-footprint-from-meat-or-fish_100g</th>\n",
       "      <th>nutrition-score-fr_100g</th>\n",
       "      <th>nutrition-score-uk_100g</th>\n",
       "      <th>glycemic-index_100g</th>\n",
       "      <th>water-hardness_100g</th>\n",
       "      <th>choline_100g</th>\n",
       "      <th>phylloquinone_100g</th>\n",
       "      <th>beta-glucan_100g</th>\n",
       "      <th>inositol_100g</th>\n",
       "      <th>carnitine_100g</th>\n",
       "    </tr>\n",
       "    <tr>\n",
       "      <th>code</th>\n",
       "      <th></th>\n",
       "      <th></th>\n",
       "      <th></th>\n",
       "      <th></th>\n",
       "      <th></th>\n",
       "      <th></th>\n",
       "      <th></th>\n",
       "      <th></th>\n",
       "      <th></th>\n",
       "      <th></th>\n",
       "      <th></th>\n",
       "      <th></th>\n",
       "      <th></th>\n",
       "      <th></th>\n",
       "      <th></th>\n",
       "      <th></th>\n",
       "      <th></th>\n",
       "      <th></th>\n",
       "      <th></th>\n",
       "      <th></th>\n",
       "      <th></th>\n",
       "    </tr>\n",
       "  </thead>\n",
       "  <tbody>\n",
       "    <tr>\n",
       "      <td>0000000000017</td>\n",
       "      <td>http://world-en.openfoodfacts.org/product/0000...</td>\n",
       "      <td>kiliweb</td>\n",
       "      <td>1529059080</td>\n",
       "      <td>2018-06-15T10:38:00Z</td>\n",
       "      <td>1561463718</td>\n",
       "      <td>2019-06-25T11:55:18Z</td>\n",
       "      <td>Vitória crackers</td>\n",
       "      <td>NaN</td>\n",
       "      <td>NaN</td>\n",
       "      <td>NaN</td>\n",
       "      <td>...</td>\n",
       "      <td>NaN</td>\n",
       "      <td>NaN</td>\n",
       "      <td>NaN</td>\n",
       "      <td>NaN</td>\n",
       "      <td>NaN</td>\n",
       "      <td>NaN</td>\n",
       "      <td>NaN</td>\n",
       "      <td>NaN</td>\n",
       "      <td>NaN</td>\n",
       "      <td>NaN</td>\n",
       "    </tr>\n",
       "    <tr>\n",
       "      <td>0000000000031</td>\n",
       "      <td>http://world-en.openfoodfacts.org/product/0000...</td>\n",
       "      <td>isagoofy</td>\n",
       "      <td>1539464774</td>\n",
       "      <td>2018-10-13T21:06:14Z</td>\n",
       "      <td>1539464817</td>\n",
       "      <td>2018-10-13T21:06:57Z</td>\n",
       "      <td>Cacao</td>\n",
       "      <td>NaN</td>\n",
       "      <td>130 g</td>\n",
       "      <td>NaN</td>\n",
       "      <td>...</td>\n",
       "      <td>NaN</td>\n",
       "      <td>NaN</td>\n",
       "      <td>NaN</td>\n",
       "      <td>NaN</td>\n",
       "      <td>NaN</td>\n",
       "      <td>NaN</td>\n",
       "      <td>NaN</td>\n",
       "      <td>NaN</td>\n",
       "      <td>NaN</td>\n",
       "      <td>NaN</td>\n",
       "    </tr>\n",
       "    <tr>\n",
       "      <td>0000000000100</td>\n",
       "      <td>http://world-en.openfoodfacts.org/product/0000...</td>\n",
       "      <td>del51</td>\n",
       "      <td>1444572561</td>\n",
       "      <td>2015-10-11T14:09:21Z</td>\n",
       "      <td>1444659212</td>\n",
       "      <td>2015-10-12T14:13:32Z</td>\n",
       "      <td>moutarde au moût de raisin</td>\n",
       "      <td>NaN</td>\n",
       "      <td>100g</td>\n",
       "      <td>NaN</td>\n",
       "      <td>...</td>\n",
       "      <td>NaN</td>\n",
       "      <td>18.0</td>\n",
       "      <td>18.0</td>\n",
       "      <td>NaN</td>\n",
       "      <td>NaN</td>\n",
       "      <td>NaN</td>\n",
       "      <td>NaN</td>\n",
       "      <td>NaN</td>\n",
       "      <td>NaN</td>\n",
       "      <td>NaN</td>\n",
       "    </tr>\n",
       "    <tr>\n",
       "      <td>00000000001111111111</td>\n",
       "      <td>http://world-en.openfoodfacts.org/product/0000...</td>\n",
       "      <td>openfoodfacts-contributors</td>\n",
       "      <td>1560020173</td>\n",
       "      <td>2019-06-08T18:56:13Z</td>\n",
       "      <td>1560020173</td>\n",
       "      <td>2019-06-08T18:56:13Z</td>\n",
       "      <td>Sfiudwx</td>\n",
       "      <td>NaN</td>\n",
       "      <td>dgesc</td>\n",
       "      <td>NaN</td>\n",
       "      <td>...</td>\n",
       "      <td>NaN</td>\n",
       "      <td>NaN</td>\n",
       "      <td>NaN</td>\n",
       "      <td>NaN</td>\n",
       "      <td>NaN</td>\n",
       "      <td>NaN</td>\n",
       "      <td>NaN</td>\n",
       "      <td>NaN</td>\n",
       "      <td>NaN</td>\n",
       "      <td>NaN</td>\n",
       "    </tr>\n",
       "    <tr>\n",
       "      <td>0000000000123</td>\n",
       "      <td>http://world-en.openfoodfacts.org/product/0000...</td>\n",
       "      <td>kiliweb</td>\n",
       "      <td>1535737982</td>\n",
       "      <td>2018-08-31T17:53:02Z</td>\n",
       "      <td>1535737986</td>\n",
       "      <td>2018-08-31T17:53:06Z</td>\n",
       "      <td>Sauce Sweety chili 0%</td>\n",
       "      <td>NaN</td>\n",
       "      <td>NaN</td>\n",
       "      <td>NaN</td>\n",
       "      <td>...</td>\n",
       "      <td>NaN</td>\n",
       "      <td>NaN</td>\n",
       "      <td>NaN</td>\n",
       "      <td>NaN</td>\n",
       "      <td>NaN</td>\n",
       "      <td>NaN</td>\n",
       "      <td>NaN</td>\n",
       "      <td>NaN</td>\n",
       "      <td>NaN</td>\n",
       "      <td>NaN</td>\n",
       "    </tr>\n",
       "  </tbody>\n",
       "</table>\n",
       "<p>5 rows × 174 columns</p>\n",
       "</div>"
      ],
      "text/plain": [
       "                                                                    url  \\\n",
       "code                                                                      \n",
       "0000000000017         http://world-en.openfoodfacts.org/product/0000...   \n",
       "0000000000031         http://world-en.openfoodfacts.org/product/0000...   \n",
       "0000000000100         http://world-en.openfoodfacts.org/product/0000...   \n",
       "00000000001111111111  http://world-en.openfoodfacts.org/product/0000...   \n",
       "0000000000123         http://world-en.openfoodfacts.org/product/0000...   \n",
       "\n",
       "                                         creator   created_t  \\\n",
       "code                                                           \n",
       "0000000000017                            kiliweb  1529059080   \n",
       "0000000000031                           isagoofy  1539464774   \n",
       "0000000000100                              del51  1444572561   \n",
       "00000000001111111111  openfoodfacts-contributors  1560020173   \n",
       "0000000000123                            kiliweb  1535737982   \n",
       "\n",
       "                          created_datetime  last_modified_t  \\\n",
       "code                                                          \n",
       "0000000000017         2018-06-15T10:38:00Z       1561463718   \n",
       "0000000000031         2018-10-13T21:06:14Z       1539464817   \n",
       "0000000000100         2015-10-11T14:09:21Z       1444659212   \n",
       "00000000001111111111  2019-06-08T18:56:13Z       1560020173   \n",
       "0000000000123         2018-08-31T17:53:02Z       1535737986   \n",
       "\n",
       "                     last_modified_datetime                  product_name  \\\n",
       "code                                                                        \n",
       "0000000000017          2019-06-25T11:55:18Z              Vitória crackers   \n",
       "0000000000031          2018-10-13T21:06:57Z                         Cacao   \n",
       "0000000000100          2015-10-12T14:13:32Z   moutarde au moût de raisin    \n",
       "00000000001111111111   2019-06-08T18:56:13Z                       Sfiudwx   \n",
       "0000000000123          2018-08-31T17:53:06Z         Sauce Sweety chili 0%   \n",
       "\n",
       "                     generic_name quantity packaging  ...  \\\n",
       "code                                                  ...   \n",
       "0000000000017                 NaN      NaN       NaN  ...   \n",
       "0000000000031                 NaN    130 g       NaN  ...   \n",
       "0000000000100                 NaN     100g       NaN  ...   \n",
       "00000000001111111111          NaN    dgesc       NaN  ...   \n",
       "0000000000123                 NaN      NaN       NaN  ...   \n",
       "\n",
       "                     carbon-footprint-from-meat-or-fish_100g  \\\n",
       "code                                                           \n",
       "0000000000017                                            NaN   \n",
       "0000000000031                                            NaN   \n",
       "0000000000100                                            NaN   \n",
       "00000000001111111111                                     NaN   \n",
       "0000000000123                                            NaN   \n",
       "\n",
       "                     nutrition-score-fr_100g nutrition-score-uk_100g  \\\n",
       "code                                                                   \n",
       "0000000000017                            NaN                     NaN   \n",
       "0000000000031                            NaN                     NaN   \n",
       "0000000000100                           18.0                    18.0   \n",
       "00000000001111111111                     NaN                     NaN   \n",
       "0000000000123                            NaN                     NaN   \n",
       "\n",
       "                     glycemic-index_100g water-hardness_100g choline_100g  \\\n",
       "code                                                                        \n",
       "0000000000017                        NaN                 NaN          NaN   \n",
       "0000000000031                        NaN                 NaN          NaN   \n",
       "0000000000100                        NaN                 NaN          NaN   \n",
       "00000000001111111111                 NaN                 NaN          NaN   \n",
       "0000000000123                        NaN                 NaN          NaN   \n",
       "\n",
       "                     phylloquinone_100g beta-glucan_100g inositol_100g  \\\n",
       "code                                                                     \n",
       "0000000000017                       NaN              NaN           NaN   \n",
       "0000000000031                       NaN              NaN           NaN   \n",
       "0000000000100                       NaN              NaN           NaN   \n",
       "00000000001111111111                NaN              NaN           NaN   \n",
       "0000000000123                       NaN              NaN           NaN   \n",
       "\n",
       "                     carnitine_100g  \n",
       "code                                 \n",
       "0000000000017                   NaN  \n",
       "0000000000031                   NaN  \n",
       "0000000000100                   NaN  \n",
       "00000000001111111111            NaN  \n",
       "0000000000123                   NaN  \n",
       "\n",
       "[5 rows x 174 columns]"
      ]
     },
     "execution_count": 8,
     "metadata": {},
     "output_type": "execute_result"
    }
   ],
   "source": [
    "food_facts_df.head(5)"
   ]
  },
  {
   "cell_type": "markdown",
   "metadata": {},
   "source": [
    "# Categories cleaning"
   ]
  },
  {
   "cell_type": "code",
   "execution_count": 9,
   "metadata": {},
   "outputs": [],
   "source": [
    "# Get the relevant column from the dataset\n",
    "categories_df = food_facts_df[['categories_en']].dropna().copy()"
   ]
  },
  {
   "cell_type": "code",
   "execution_count": 10,
   "metadata": {},
   "outputs": [
    {
     "data": {
      "text/html": [
       "<div>\n",
       "<style scoped>\n",
       "    .dataframe tbody tr th:only-of-type {\n",
       "        vertical-align: middle;\n",
       "    }\n",
       "\n",
       "    .dataframe tbody tr th {\n",
       "        vertical-align: top;\n",
       "    }\n",
       "\n",
       "    .dataframe thead th {\n",
       "        text-align: right;\n",
       "    }\n",
       "</style>\n",
       "<table border=\"1\" class=\"dataframe\">\n",
       "  <thead>\n",
       "    <tr style=\"text-align: right;\">\n",
       "      <th></th>\n",
       "      <th>categories_en</th>\n",
       "    </tr>\n",
       "    <tr>\n",
       "      <th>code</th>\n",
       "      <th></th>\n",
       "    </tr>\n",
       "  </thead>\n",
       "  <tbody>\n",
       "    <tr>\n",
       "      <td>0000000000100</td>\n",
       "      <td>Groceries,Condiments,Sauces,Mustards</td>\n",
       "    </tr>\n",
       "    <tr>\n",
       "      <td>00000000001111111111</td>\n",
       "      <td>fr:xsf</td>\n",
       "    </tr>\n",
       "    <tr>\n",
       "      <td>0000000000949</td>\n",
       "      <td>Meals,Prepared vegetables,Grated carrots,Seaso...</td>\n",
       "    </tr>\n",
       "    <tr>\n",
       "      <td>0000000001281</td>\n",
       "      <td>Pies,Sweet pies,Coconut pies</td>\n",
       "    </tr>\n",
       "    <tr>\n",
       "      <td>0000000001885</td>\n",
       "      <td>Plant-based foods and beverages,Plant-based fo...</td>\n",
       "    </tr>\n",
       "    <tr>\n",
       "      <td>...</td>\n",
       "      <td>...</td>\n",
       "    </tr>\n",
       "    <tr>\n",
       "      <td>9999991042742</td>\n",
       "      <td>Desserts,Chocolate desserts,Chocolate mousses</td>\n",
       "    </tr>\n",
       "    <tr>\n",
       "      <td>9999991149090</td>\n",
       "      <td>Plant-based foods and beverages,Plant-based fo...</td>\n",
       "    </tr>\n",
       "    <tr>\n",
       "      <td>99999971</td>\n",
       "      <td>fr:tests</td>\n",
       "    </tr>\n",
       "    <tr>\n",
       "      <td>9999999004360</td>\n",
       "      <td>Snacks,Sweet snacks,Sweet Fritters</td>\n",
       "    </tr>\n",
       "    <tr>\n",
       "      <td>99999995</td>\n",
       "      <td>Meats,Beef,Steaks,Beef steaks,Ground steaks,Gr...</td>\n",
       "    </tr>\n",
       "  </tbody>\n",
       "</table>\n",
       "<p>380069 rows × 1 columns</p>\n",
       "</div>"
      ],
      "text/plain": [
       "                                                          categories_en\n",
       "code                                                                   \n",
       "0000000000100                      Groceries,Condiments,Sauces,Mustards\n",
       "00000000001111111111                                             fr:xsf\n",
       "0000000000949         Meals,Prepared vegetables,Grated carrots,Seaso...\n",
       "0000000001281                              Pies,Sweet pies,Coconut pies\n",
       "0000000001885         Plant-based foods and beverages,Plant-based fo...\n",
       "...                                                                 ...\n",
       "9999991042742             Desserts,Chocolate desserts,Chocolate mousses\n",
       "9999991149090         Plant-based foods and beverages,Plant-based fo...\n",
       "99999971                                                       fr:tests\n",
       "9999999004360                        Snacks,Sweet snacks,Sweet Fritters\n",
       "99999995              Meats,Beef,Steaks,Beef steaks,Ground steaks,Gr...\n",
       "\n",
       "[380069 rows x 1 columns]"
      ]
     },
     "execution_count": 10,
     "metadata": {},
     "output_type": "execute_result"
    }
   ],
   "source": [
    "categories_df"
   ]
  },
  {
   "cell_type": "markdown",
   "metadata": {},
   "source": [
    "Use [CountVectorizer](https://scikit-learn.org/stable/modules/generated/sklearn.feature_extraction.text.CountVectorizer.html) to build a bag of words. The goal is to identify most common words describing the categories of products across the dataset. \n",
    "\n",
    "We leverage the built-in argument of the class to transform all the words to lowercase, ignore stopwords and to perform character normalization."
   ]
  },
  {
   "cell_type": "code",
   "execution_count": 11,
   "metadata": {},
   "outputs": [
    {
     "name": "stdout",
     "output_type": "stream",
     "text": [
      "12190 different words in total.\n"
     ]
    }
   ],
   "source": [
    "vectorizer = CountVectorizer(stop_words = 'english', lowercase=True, strip_accents='ascii')\n",
    "bag = vectorizer.fit_transform(categories_df['categories_en'].values)\n",
    "bag_features = vectorizer.get_feature_names()\n",
    "print('{} different words in total.'.format(len(bag_features)))"
   ]
  },
  {
   "cell_type": "code",
   "execution_count": 12,
   "metadata": {},
   "outputs": [
    {
     "name": "stdout",
     "output_type": "stream",
     "text": [
      "Bag of words:\n",
      "   (0, 5265)\t1\n",
      "  (0, 2898)\t1\n",
      "  (0, 10012)\t1\n",
      "  (0, 7640)\t1\n",
      "  (1, 4514)\t1\n",
      "  (1, 12023)\t1\n",
      "Corresponding features:\n",
      " ['00', '0003', '001', '002']\n"
     ]
    }
   ],
   "source": [
    "print('Bag of words:\\n',bag[0:2])\n",
    "print('Corresponding features:\\n',bag_features[0:4])"
   ]
  },
  {
   "cell_type": "code",
   "execution_count": 13,
   "metadata": {},
   "outputs": [],
   "source": [
    "# Sum along the columns to get the total number of occurencies of each token\n",
    "words_occurences = np.array(bag.sum(axis=0))[0]"
   ]
  },
  {
   "cell_type": "code",
   "execution_count": 14,
   "metadata": {},
   "outputs": [],
   "source": [
    "# Build a dataframe with the words occurencies\n",
    "words_occurencies_df = pd.DataFrame({'word':bag_features,'count':words_occurences}).sort_values(by=['count'],ascending=False)\\\n",
    "                            .reset_index().drop(columns='index')"
   ]
  },
  {
   "cell_type": "code",
   "execution_count": 15,
   "metadata": {},
   "outputs": [
    {
     "data": {
      "text/html": [
       "<div>\n",
       "<style scoped>\n",
       "    .dataframe tbody tr th:only-of-type {\n",
       "        vertical-align: middle;\n",
       "    }\n",
       "\n",
       "    .dataframe tbody tr th {\n",
       "        vertical-align: top;\n",
       "    }\n",
       "\n",
       "    .dataframe thead th {\n",
       "        text-align: right;\n",
       "    }\n",
       "</style>\n",
       "<table border=\"1\" class=\"dataframe\">\n",
       "  <thead>\n",
       "    <tr style=\"text-align: right;\">\n",
       "      <th></th>\n",
       "      <th>word</th>\n",
       "      <th>count</th>\n",
       "    </tr>\n",
       "  </thead>\n",
       "  <tbody>\n",
       "    <tr>\n",
       "      <td>0</td>\n",
       "      <td>foods</td>\n",
       "      <td>352888</td>\n",
       "    </tr>\n",
       "    <tr>\n",
       "      <td>1</td>\n",
       "      <td>based</td>\n",
       "      <td>340181</td>\n",
       "    </tr>\n",
       "    <tr>\n",
       "      <td>2</td>\n",
       "      <td>plant</td>\n",
       "      <td>262650</td>\n",
       "    </tr>\n",
       "    <tr>\n",
       "      <td>3</td>\n",
       "      <td>beverages</td>\n",
       "      <td>260991</td>\n",
       "    </tr>\n",
       "    <tr>\n",
       "      <td>4</td>\n",
       "      <td>snacks</td>\n",
       "      <td>110900</td>\n",
       "    </tr>\n",
       "    <tr>\n",
       "      <td>5</td>\n",
       "      <td>products</td>\n",
       "      <td>108739</td>\n",
       "    </tr>\n",
       "    <tr>\n",
       "      <td>6</td>\n",
       "      <td>fr</td>\n",
       "      <td>93277</td>\n",
       "    </tr>\n",
       "    <tr>\n",
       "      <td>7</td>\n",
       "      <td>fermented</td>\n",
       "      <td>61850</td>\n",
       "    </tr>\n",
       "    <tr>\n",
       "      <td>8</td>\n",
       "      <td>fruits</td>\n",
       "      <td>61803</td>\n",
       "    </tr>\n",
       "    <tr>\n",
       "      <td>9</td>\n",
       "      <td>sweet</td>\n",
       "      <td>61507</td>\n",
       "    </tr>\n",
       "  </tbody>\n",
       "</table>\n",
       "</div>"
      ],
      "text/plain": [
       "        word   count\n",
       "0      foods  352888\n",
       "1      based  340181\n",
       "2      plant  262650\n",
       "3  beverages  260991\n",
       "4     snacks  110900\n",
       "5   products  108739\n",
       "6         fr   93277\n",
       "7  fermented   61850\n",
       "8     fruits   61803\n",
       "9      sweet   61507"
      ]
     },
     "execution_count": 15,
     "metadata": {},
     "output_type": "execute_result"
    }
   ],
   "source": [
    "words_occurencies_df.head(10)"
   ]
  },
  {
   "cell_type": "markdown",
   "metadata": {},
   "source": [
    "Not surprisingly the word \"foods\" is the most common."
   ]
  },
  {
   "cell_type": "code",
   "execution_count": 16,
   "metadata": {},
   "outputs": [
    {
     "data": {
      "image/png": "[encoded data removed]",
      "text/plain": [
       "<Figure size 720x1440 with 1 Axes>"
      ]
     },
     "metadata": {
      "needs_background": "light"
     },
     "output_type": "display_data"
    }
   ],
   "source": [
    "n = 50\n",
    "plt.figure(figsize=(10,20))\n",
    "plt.barh(words_occurencies_df.loc[0:n]['word'].values,words_occurencies_df.loc[0:n]['count'].values)\n",
    "plt.title('Words occurencies of the \"categories_en\" tag (first {})'.format(n))\n",
    "plt.ylabel('Word')\n",
    "plt.xlabel('Nb. occurences')\n",
    "plt.show()"
   ]
  },
  {
   "cell_type": "markdown",
   "metadata": {},
   "source": [
    "The products could be selected and grouped based on their type, following the food pyramid:\n",
    "\n",
    "<img src=\"Food_pyramid.gif\">\n",
    "\n",
    "This should enable an analysis per class with comparable products."
   ]
  },
  {
   "cell_type": "markdown",
   "metadata": {},
   "source": [
    "Here we will test if this cleaning allows us to actually compare the **bio vs non-bio product** using a balanced dataset. Indeed, bio products usually do not span on the entire food pyramid. Hence, comparing these categories on the raw dataset is not \"fair\" for the non-bio products as natively then tend to span on the entire pyramid, including oil, snacks, etc which are of course less healthy than salad, for instance."
   ]
  },
  {
   "cell_type": "markdown",
   "metadata": {},
   "source": [
    "First, let's filter the dataset by taking only the two middle layers of the pyramid, being the blue and yellow rows on the image. We select different keywords present in the bag of words to allow the filtering."
   ]
  },
  {
   "cell_type": "code",
   "execution_count": 17,
   "metadata": {},
   "outputs": [
    {
     "data": {
      "text/plain": [
       "1"
      ]
     },
     "execution_count": 17,
     "metadata": {},
     "output_type": "execute_result"
    }
   ],
   "source": [
    "np.sum(words_occurencies_df['word'].values == 'poultries')"
   ]
  },
  {
   "cell_type": "code",
   "execution_count": 18,
   "metadata": {},
   "outputs": [],
   "source": [
    "# Pick some keyword from the frequent words (see previous barh)\n",
    "middle_layers_keywords = ['meat','milk','cheese','fish','egg','poultry','poultries','yogurt']\n",
    "# add the plurals\n",
    "middle_layers_keywords = middle_layers_keywords + [word + 's' for word in middle_layers_keywords]"
   ]
  },
  {
   "cell_type": "markdown",
   "metadata": {},
   "source": [
    "Let's transform the categories_en column of the dataframe to allow the filtering to be processed."
   ]
  },
  {
   "cell_type": "code",
   "execution_count": 19,
   "metadata": {},
   "outputs": [],
   "source": [
    "food_facts_df.dropna(subset=['categories_en'], inplace=True)"
   ]
  },
  {
   "cell_type": "code",
   "execution_count": 20,
   "metadata": {},
   "outputs": [],
   "source": [
    "food_fact_categories = food_facts_df.copy()\n",
    "\n",
    "food_fact_categories['categories_en'] = food_fact_categories['categories_en'] \\\n",
    "                                                     .apply(lambda x: [word.lower() for word in re.findall(r\"[\\w']+\", x)])"
   ]
  },
  {
   "cell_type": "markdown",
   "metadata": {},
   "source": [
    "finally let's filter the dataframe to keep only products containing the middle_layers_keywords."
   ]
  },
  {
   "cell_type": "code",
   "execution_count": 21,
   "metadata": {},
   "outputs": [],
   "source": [
    "middle_layers_df = food_fact_categories[food_facts_df['categories_en'] \\\n",
    "                                         .apply(lambda x : any(kw in x for kw in middle_layers_keywords))]"
   ]
  },
  {
   "cell_type": "code",
   "execution_count": 22,
   "metadata": {},
   "outputs": [
    {
     "data": {
      "text/plain": [
       "code\n",
       "0000000005005    [dairies, fermented, foods, fermented, milk, p...\n",
       "0000000005661    [seafood, fishes, salmons, smoked, fishes, smo...\n",
       "0000000007160     [canned, foods, canned, meats, fr, corned, beef]\n",
       "0000000274722    [meals, meat, based, products, meals, with, me...\n",
       "0000018927207    [meals, meat, based, products, meals, with, me...\n",
       "                                       ...                        \n",
       "99208653         [dairies, milks, homogenized, milks, uht, milk...\n",
       "9935010000003    [meats, spreads, prepared, meats, salted, spre...\n",
       "997326239        [dairies, fermented, foods, fermented, milk, p...\n",
       "9999729004035    [dairies, fermented, foods, fermented, milk, p...\n",
       "9999864004549    [meats, prepared, meats, fish, and, meat, and,...\n",
       "Name: categories_en, Length: 76970, dtype: object"
      ]
     },
     "execution_count": 22,
     "metadata": {},
     "output_type": "execute_result"
    }
   ],
   "source": [
    "middle_layers_df['categories_en']"
   ]
  },
  {
   "cell_type": "markdown",
   "metadata": {},
   "source": [
    "One important conclusion of this processing is that, **we now ensure that the bio and non-bio products present in the middle_layers_df span the same categories of products.** Hence, this way, we ensure that the products we take into account for the bio and non-bio categories to perform their comparison are not completely different (i.e salad for bio and oil for non bio for instance)."
   ]
  },
  {
   "cell_type": "markdown",
   "metadata": {},
   "source": [
    "## Question 2: Comparing bio vs. normal products, is there a real difference in composition? <a class=\"anchor\" id=\"q2\"></a> "
   ]
  },
  {
   "cell_type": "markdown",
   "metadata": {},
   "source": [
    "A lot of products claim to be bio. Different terms are used depending on the location (organic, bio, ...), but overall they all refer to the same fact that the product was mostly produced in compliance with the standards of [organic farming](https://en.wikipedia.org/wiki/Organic_farming). In the common knowledge, people often claim that organic or bio products are healthier than non-organic products.\n",
    "\n",
    "In the upcoming analysis, we will try to investigate whether this statement is quantitavely true or if sometimes companies take advantage of the \"bio\" acronym to gain market shares.\n",
    "\n",
    "We will conduct this analysis by investigating different columns of interest: \n",
    "\n",
    "* We have access to two different nutritional scores. We will try to investigate whether differences can be observed with respect to this column, i.e if bio/organic products tend to obtain better nutritional scores than standard products.\n",
    "    - In addition, some bio products may obtain bad nutritional scores. We will try to pinpoint why some bio products would still get such bad scores.\n",
    "    \n",
    "    \n",
    "* As stated above, organic products should undergo as little tratment as possible, inducing a more natural product. This should directly be represented by a lower capacity in additives. Hence as a first step we will assess whether there is a different in additives between bio and normal products."
   ]
  },
  {
   "cell_type": "markdown",
   "metadata": {},
   "source": [
    "### Data exploration <a class=\"anchor\" id=\"q2_dataexploration\"></a> \n",
    "\n",
    "Let's see if we can separate the *bio/organic* products from the regular ones.\n",
    "\n",
    "Some product contain words such as 'bio', 'biologic', 'organic' in their `product_name`, so this can be use to distinguish them from normal products. In addition, the dataset contains the columns `labels`, `labels_tags` and `labels_en`, which contain information about quality labels/certifications which also include bio products.\n",
    "\n",
    "Thus, these columns can be used to split the dataset into 'bio' products and regular products. We will seach for keywords in these columns to determine if a product is bio:"
   ]
  },
  {
   "cell_type": "code",
   "execution_count": 23,
   "metadata": {
    "ExecuteTime": {
     "end_time": "2019-11-24T19:54:29.832198Z",
     "start_time": "2019-11-24T19:54:29.816577Z"
    }
   },
   "outputs": [],
   "source": [
    "bio_keywords = ['bio', 'organi'] # bio --> bio, biological, biologique, etc.; organi --> organic, organique\n",
    "\n",
    "contains_bio_keywords = lambda x: any([(kw in str(x)) for kw in bio_keywords])\n",
    "\n",
    "#food_facts_df.dropna(subset=['product_name'], inplace=True)"
   ]
  },
  {
   "cell_type": "code",
   "execution_count": 24,
   "metadata": {
    "ExecuteTime": {
     "end_time": "2019-11-24T19:54:46.218971Z",
     "start_time": "2019-11-24T19:54:29.832198Z"
    }
   },
   "outputs": [
    {
     "name": "stdout",
     "output_type": "stream",
     "text": [
      "There are 6323 bio products, and 70647 non-bio products.\n"
     ]
    },
    {
     "data": {
      "text/html": [
       "<div>\n",
       "<style scoped>\n",
       "    .dataframe tbody tr th:only-of-type {\n",
       "        vertical-align: middle;\n",
       "    }\n",
       "\n",
       "    .dataframe tbody tr th {\n",
       "        vertical-align: top;\n",
       "    }\n",
       "\n",
       "    .dataframe thead th {\n",
       "        text-align: right;\n",
       "    }\n",
       "</style>\n",
       "<table border=\"1\" class=\"dataframe\">\n",
       "  <thead>\n",
       "    <tr style=\"text-align: right;\">\n",
       "      <th></th>\n",
       "      <th>url</th>\n",
       "      <th>creator</th>\n",
       "      <th>created_t</th>\n",
       "      <th>created_datetime</th>\n",
       "      <th>last_modified_t</th>\n",
       "      <th>last_modified_datetime</th>\n",
       "      <th>product_name</th>\n",
       "      <th>generic_name</th>\n",
       "      <th>quantity</th>\n",
       "      <th>packaging</th>\n",
       "      <th>...</th>\n",
       "      <th>carbon-footprint-from-meat-or-fish_100g</th>\n",
       "      <th>nutrition-score-fr_100g</th>\n",
       "      <th>nutrition-score-uk_100g</th>\n",
       "      <th>glycemic-index_100g</th>\n",
       "      <th>water-hardness_100g</th>\n",
       "      <th>choline_100g</th>\n",
       "      <th>phylloquinone_100g</th>\n",
       "      <th>beta-glucan_100g</th>\n",
       "      <th>inositol_100g</th>\n",
       "      <th>carnitine_100g</th>\n",
       "    </tr>\n",
       "    <tr>\n",
       "      <th>code</th>\n",
       "      <th></th>\n",
       "      <th></th>\n",
       "      <th></th>\n",
       "      <th></th>\n",
       "      <th></th>\n",
       "      <th></th>\n",
       "      <th></th>\n",
       "      <th></th>\n",
       "      <th></th>\n",
       "      <th></th>\n",
       "      <th></th>\n",
       "      <th></th>\n",
       "      <th></th>\n",
       "      <th></th>\n",
       "      <th></th>\n",
       "      <th></th>\n",
       "      <th></th>\n",
       "      <th></th>\n",
       "      <th></th>\n",
       "      <th></th>\n",
       "      <th></th>\n",
       "    </tr>\n",
       "  </thead>\n",
       "  <tbody>\n",
       "    <tr>\n",
       "      <td>0002000000714</td>\n",
       "      <td>http://world-en.openfoodfacts.org/product/0002...</td>\n",
       "      <td>kiliweb</td>\n",
       "      <td>1518439760</td>\n",
       "      <td>2018-02-12T12:49:20Z</td>\n",
       "      <td>1552560002</td>\n",
       "      <td>2019-03-14T10:40:02Z</td>\n",
       "      <td>Yaourt nature brebis</td>\n",
       "      <td>NaN</td>\n",
       "      <td>NaN</td>\n",
       "      <td>NaN</td>\n",
       "      <td>...</td>\n",
       "      <td>NaN</td>\n",
       "      <td>-3.0</td>\n",
       "      <td>-3.0</td>\n",
       "      <td>NaN</td>\n",
       "      <td>NaN</td>\n",
       "      <td>NaN</td>\n",
       "      <td>NaN</td>\n",
       "      <td>NaN</td>\n",
       "      <td>NaN</td>\n",
       "      <td>NaN</td>\n",
       "    </tr>\n",
       "    <tr>\n",
       "      <td>0002000001698</td>\n",
       "      <td>http://world-en.openfoodfacts.org/product/0002...</td>\n",
       "      <td>kiliweb</td>\n",
       "      <td>1549132328</td>\n",
       "      <td>2019-02-02T18:32:08Z</td>\n",
       "      <td>1552569293</td>\n",
       "      <td>2019-03-14T13:14:53Z</td>\n",
       "      <td>Yaourt au lait de brebis bio Nature</td>\n",
       "      <td>NaN</td>\n",
       "      <td>NaN</td>\n",
       "      <td>NaN</td>\n",
       "      <td>...</td>\n",
       "      <td>NaN</td>\n",
       "      <td>NaN</td>\n",
       "      <td>NaN</td>\n",
       "      <td>NaN</td>\n",
       "      <td>NaN</td>\n",
       "      <td>NaN</td>\n",
       "      <td>NaN</td>\n",
       "      <td>NaN</td>\n",
       "      <td>NaN</td>\n",
       "      <td>NaN</td>\n",
       "    </tr>\n",
       "    <tr>\n",
       "      <td>0002000001797</td>\n",
       "      <td>http://world-en.openfoodfacts.org/product/0002...</td>\n",
       "      <td>kiliweb</td>\n",
       "      <td>1565433631</td>\n",
       "      <td>2019-08-10T10:40:31Z</td>\n",
       "      <td>1565435010</td>\n",
       "      <td>2019-08-10T11:03:30Z</td>\n",
       "      <td>Jambon cuit decouenné</td>\n",
       "      <td>NaN</td>\n",
       "      <td>NaN</td>\n",
       "      <td>NaN</td>\n",
       "      <td>...</td>\n",
       "      <td>NaN</td>\n",
       "      <td>11.0</td>\n",
       "      <td>11.0</td>\n",
       "      <td>NaN</td>\n",
       "      <td>NaN</td>\n",
       "      <td>NaN</td>\n",
       "      <td>NaN</td>\n",
       "      <td>NaN</td>\n",
       "      <td>NaN</td>\n",
       "      <td>NaN</td>\n",
       "    </tr>\n",
       "    <tr>\n",
       "      <td>0002000002336</td>\n",
       "      <td>http://world-en.openfoodfacts.org/product/0002...</td>\n",
       "      <td>kiliweb</td>\n",
       "      <td>1510839960</td>\n",
       "      <td>2017-11-16T13:46:00Z</td>\n",
       "      <td>1557512187</td>\n",
       "      <td>2019-05-10T18:16:27Z</td>\n",
       "      <td>Yaourt de brebis vanille</td>\n",
       "      <td>NaN</td>\n",
       "      <td>NaN</td>\n",
       "      <td>NaN</td>\n",
       "      <td>...</td>\n",
       "      <td>NaN</td>\n",
       "      <td>1.0</td>\n",
       "      <td>1.0</td>\n",
       "      <td>NaN</td>\n",
       "      <td>NaN</td>\n",
       "      <td>NaN</td>\n",
       "      <td>NaN</td>\n",
       "      <td>NaN</td>\n",
       "      <td>NaN</td>\n",
       "      <td>NaN</td>\n",
       "    </tr>\n",
       "    <tr>\n",
       "      <td>0010852997489</td>\n",
       "      <td>http://world-en.openfoodfacts.org/product/0010...</td>\n",
       "      <td>tacinte</td>\n",
       "      <td>1422846023</td>\n",
       "      <td>2015-02-02T03:00:23Z</td>\n",
       "      <td>1439141749</td>\n",
       "      <td>2015-08-09T17:35:49Z</td>\n",
       "      <td>Cream on Top strawberry Organic Yogurt</td>\n",
       "      <td>NaN</td>\n",
       "      <td>6 oz (170 g)</td>\n",
       "      <td>plastic pot</td>\n",
       "      <td>...</td>\n",
       "      <td>NaN</td>\n",
       "      <td>5.0</td>\n",
       "      <td>5.0</td>\n",
       "      <td>NaN</td>\n",
       "      <td>NaN</td>\n",
       "      <td>NaN</td>\n",
       "      <td>NaN</td>\n",
       "      <td>NaN</td>\n",
       "      <td>NaN</td>\n",
       "      <td>NaN</td>\n",
       "    </tr>\n",
       "  </tbody>\n",
       "</table>\n",
       "<p>5 rows × 174 columns</p>\n",
       "</div>"
      ],
      "text/plain": [
       "                                                             url  creator  \\\n",
       "code                                                                        \n",
       "0002000000714  http://world-en.openfoodfacts.org/product/0002...  kiliweb   \n",
       "0002000001698  http://world-en.openfoodfacts.org/product/0002...  kiliweb   \n",
       "0002000001797  http://world-en.openfoodfacts.org/product/0002...  kiliweb   \n",
       "0002000002336  http://world-en.openfoodfacts.org/product/0002...  kiliweb   \n",
       "0010852997489  http://world-en.openfoodfacts.org/product/0010...  tacinte   \n",
       "\n",
       "                created_t      created_datetime  last_modified_t  \\\n",
       "code                                                               \n",
       "0002000000714  1518439760  2018-02-12T12:49:20Z       1552560002   \n",
       "0002000001698  1549132328  2019-02-02T18:32:08Z       1552569293   \n",
       "0002000001797  1565433631  2019-08-10T10:40:31Z       1565435010   \n",
       "0002000002336  1510839960  2017-11-16T13:46:00Z       1557512187   \n",
       "0010852997489  1422846023  2015-02-02T03:00:23Z       1439141749   \n",
       "\n",
       "              last_modified_datetime                            product_name  \\\n",
       "code                                                                           \n",
       "0002000000714   2019-03-14T10:40:02Z                    Yaourt nature brebis   \n",
       "0002000001698   2019-03-14T13:14:53Z     Yaourt au lait de brebis bio Nature   \n",
       "0002000001797   2019-08-10T11:03:30Z                   Jambon cuit decouenné   \n",
       "0002000002336   2019-05-10T18:16:27Z                Yaourt de brebis vanille   \n",
       "0010852997489   2015-08-09T17:35:49Z  Cream on Top strawberry Organic Yogurt   \n",
       "\n",
       "              generic_name      quantity    packaging  ...  \\\n",
       "code                                                   ...   \n",
       "0002000000714          NaN           NaN          NaN  ...   \n",
       "0002000001698          NaN           NaN          NaN  ...   \n",
       "0002000001797          NaN           NaN          NaN  ...   \n",
       "0002000002336          NaN           NaN          NaN  ...   \n",
       "0010852997489          NaN  6 oz (170 g)  plastic pot  ...   \n",
       "\n",
       "              carbon-footprint-from-meat-or-fish_100g nutrition-score-fr_100g  \\\n",
       "code                                                                            \n",
       "0002000000714                                     NaN                    -3.0   \n",
       "0002000001698                                     NaN                     NaN   \n",
       "0002000001797                                     NaN                    11.0   \n",
       "0002000002336                                     NaN                     1.0   \n",
       "0010852997489                                     NaN                     5.0   \n",
       "\n",
       "              nutrition-score-uk_100g glycemic-index_100g water-hardness_100g  \\\n",
       "code                                                                            \n",
       "0002000000714                    -3.0                 NaN                 NaN   \n",
       "0002000001698                     NaN                 NaN                 NaN   \n",
       "0002000001797                    11.0                 NaN                 NaN   \n",
       "0002000002336                     1.0                 NaN                 NaN   \n",
       "0010852997489                     5.0                 NaN                 NaN   \n",
       "\n",
       "              choline_100g phylloquinone_100g beta-glucan_100g inositol_100g  \\\n",
       "code                                                                           \n",
       "0002000000714          NaN                NaN              NaN           NaN   \n",
       "0002000001698          NaN                NaN              NaN           NaN   \n",
       "0002000001797          NaN                NaN              NaN           NaN   \n",
       "0002000002336          NaN                NaN              NaN           NaN   \n",
       "0010852997489          NaN                NaN              NaN           NaN   \n",
       "\n",
       "              carnitine_100g  \n",
       "code                          \n",
       "0002000000714            NaN  \n",
       "0002000001698            NaN  \n",
       "0002000001797            NaN  \n",
       "0002000002336            NaN  \n",
       "0010852997489            NaN  \n",
       "\n",
       "[5 rows x 174 columns]"
      ]
     },
     "execution_count": 24,
     "metadata": {},
     "output_type": "execute_result"
    }
   ],
   "source": [
    "# Check for products matching the bio keywords in the 4 columns\n",
    "bio_products = (middle_layers_df['product_name'].apply(contains_bio_keywords)) \\\n",
    "             | (middle_layers_df['labels'].apply(contains_bio_keywords)) \\\n",
    "             | (middle_layers_df['labels_tags'].apply(contains_bio_keywords)) \\\n",
    "             | (middle_layers_df['labels_en'].apply(contains_bio_keywords))\n",
    "\n",
    "bio_df = middle_layers_df[bio_products]\n",
    "\n",
    "non_bio_df = middle_layers_df[~bio_products]\n",
    "\n",
    "print('There are {} bio products, and {} non-bio products.'.format(bio_df.shape[0], non_bio_df.shape[0]))\n",
    "bio_df.head(5)"
   ]
  },
  {
   "cell_type": "markdown",
   "metadata": {},
   "source": [
    "### Nutritional score analysis"
   ]
  },
  {
   "cell_type": "markdown",
   "metadata": {},
   "source": [
    "We now have a dataset split into bio and regular products, although the 2 categories are highly unbalanced. Let's analyze quickly if there is a difference in their nutritional score. The French nutritional score (`nutrition_grade_fr`) ranks the products from 'A' (best) to 'E' (worst) depending on their composition. so let's have a look at the relative distribution of those grades among the bio and regular products:"
   ]
  },
  {
   "cell_type": "code",
   "execution_count": 25,
   "metadata": {
    "ExecuteTime": {
     "end_time": "2019-11-24T19:54:46.703236Z",
     "start_time": "2019-11-24T19:54:46.218971Z"
    }
   },
   "outputs": [
    {
     "data": {
      "image/png": "[encoded data removed]",
      "text/plain": [
       "<Figure size 864x432 with 1 Axes>"
      ]
     },
     "metadata": {
      "needs_background": "light"
     },
     "output_type": "display_data"
    }
   ],
   "source": [
    "score_field = 'nutrition_grade_fr'\n",
    "\n",
    "scores_df = pd.DataFrame([bio_df[score_field].value_counts(normalize=True).sort_index().rename('bio'),\n",
    "             non_bio_df[score_field].value_counts(normalize=True).sort_index().rename('regular')])\n",
    "\n",
    "scores_df = scores_df.transpose()\n",
    "\n",
    "scores_df.plot(kind='bar', color=['green', 'orange'], rot=0, figsize=(12, 6))\n",
    "\n",
    "plt.title('Distribution of nutritional score (nutrition_grade_fr field)')\n",
    "plt.xlabel('Score')\n",
    "plt.ylabel('Proportion')\n",
    "\n",
    "plt.show()"
   ]
  },
  {
   "cell_type": "markdown",
   "metadata": {},
   "source": [
    "There is a clear difference in the distribution of the nutritional score. The proportion of bio product with grade 'A' and 'B' is much higher than that of the regular products. Conversaly, there are less bio products with grade 'D' and 'E'. So overall, it seems that the bio products are healthier than the regular ones. \n",
    "\n",
    "There is another nutritional score indicated in the dataset, which is the UK one (`nutrition-score-uk_100g`). Let's see if the trend we observed is similar:"
   ]
  },
  {
   "cell_type": "code",
   "execution_count": 26,
   "metadata": {
    "ExecuteTime": {
     "end_time": "2019-11-24T19:54:47.952929Z",
     "start_time": "2019-11-24T19:54:46.703236Z"
    }
   },
   "outputs": [
    {
     "data": {
      "image/png": "[encoded data removed]",
      "text/plain": [
       "<Figure size 1080x720 with 1 Axes>"
      ]
     },
     "metadata": {
      "needs_background": "light"
     },
     "output_type": "display_data"
    }
   ],
   "source": [
    "score_field = 'nutrition-score-uk_100g'\n",
    "\n",
    "scores_df = pd.DataFrame([bio_df[score_field].value_counts(normalize=True).sort_index().rename('bio'),\n",
    "             non_bio_df[score_field].value_counts(normalize=True).sort_index().rename('regular')])\n",
    "\n",
    "scores_df = scores_df.transpose()\n",
    "\n",
    "scores_df.plot(kind='bar', color=['green', 'orange'], rot=90, figsize=(15, 10))\n",
    "\n",
    "plt.title('Distribution of nutritional score (nutrition_grade_fr field)')\n",
    "plt.xlabel('Score')\n",
    "plt.ylabel('Proportion')\n",
    "\n",
    "plt.show()"
   ]
  },
  {
   "cell_type": "markdown",
   "metadata": {},
   "source": [
    "The same observation can be made for the uk nutritional score (`nutrition-score-uk_100g`): the distribution of bio product shows that in proportion, they are more bio product that have a good nutritional score, and there are more regular products with a bad nutritional score."
   ]
  },
  {
   "cell_type": "markdown",
   "metadata": {},
   "source": [
    "Now, let's have a look at the `nova_group` column. As presented for Q1, the nova group correspond to the level of processing of the food products. Let's see how bio and regular products compare:"
   ]
  },
  {
   "cell_type": "code",
   "execution_count": 27,
   "metadata": {},
   "outputs": [
    {
     "data": {
      "image/png": "[encoded data removed]",
      "text/plain": [
       "<Figure size 864x432 with 1 Axes>"
      ]
     },
     "metadata": {
      "needs_background": "light"
     },
     "output_type": "display_data"
    }
   ],
   "source": [
    "score_field = 'nova_group'\n",
    "\n",
    "scores_df = pd.DataFrame([bio_df[score_field].value_counts(normalize=True).sort_index().rename('bio'),\n",
    "             non_bio_df[score_field].value_counts(normalize=True).sort_index().rename('regular')])\n",
    "\n",
    "scores_df = scores_df.transpose()\n",
    "\n",
    "scores_df.plot(kind='bar', color=['green', 'orange'], rot=0, figsize=(12, 6))\n",
    "\n",
    "plt.title('Distribution of Nova group')\n",
    "plt.xlabel('Group')\n",
    "plt.ylabel('Proportion')\n",
    "\n",
    "plt.show()"
   ]
  },
  {
   "cell_type": "markdown",
   "metadata": {},
   "source": [
    "Interestingly, there are in proportion a lot more unprocessed product that are bio. Conversaly, 80% of regular products are in the 4th category, which is the one that corresponds to the most processed products, which are in general the less healthy."
   ]
  },
  {
   "cell_type": "markdown",
   "metadata": {},
   "source": [
    "### Results <a class=\"anchor\" id=\"q2_results\"></a> \n",
    "\n",
    "We were able to separate products that are bio from the product that are not. Although we obtain two unbalanced sets of products, we obtained encouraging results, so we are going to keep investigating the question 'bio vs. regular products'."
   ]
  },
  {
   "cell_type": "markdown",
   "metadata": {},
   "source": [
    "### Additives analysis"
   ]
  },
  {
   "cell_type": "markdown",
   "metadata": {},
   "source": [
    "First we extract the product_name and additives_tags columns for the bio and non-bio dataframes computed above."
   ]
  },
  {
   "cell_type": "code",
   "execution_count": 28,
   "metadata": {
    "ExecuteTime": {
     "end_time": "2019-11-24T19:54:47.999807Z",
     "start_time": "2019-11-24T19:54:47.952929Z"
    }
   },
   "outputs": [],
   "source": [
    "bio_additives_df = bio_df[['product_name','additives_en']]\n",
    "non_bio_additives_df = non_bio_df[['product_name','additives_en']]"
   ]
  },
  {
   "cell_type": "code",
   "execution_count": 29,
   "metadata": {
    "ExecuteTime": {
     "end_time": "2019-11-24T19:54:48.031035Z",
     "start_time": "2019-11-24T19:54:47.999807Z"
    }
   },
   "outputs": [
    {
     "data": {
      "text/html": [
       "<div>\n",
       "<style scoped>\n",
       "    .dataframe tbody tr th:only-of-type {\n",
       "        vertical-align: middle;\n",
       "    }\n",
       "\n",
       "    .dataframe tbody tr th {\n",
       "        vertical-align: top;\n",
       "    }\n",
       "\n",
       "    .dataframe thead th {\n",
       "        text-align: right;\n",
       "    }\n",
       "</style>\n",
       "<table border=\"1\" class=\"dataframe\">\n",
       "  <thead>\n",
       "    <tr style=\"text-align: right;\">\n",
       "      <th></th>\n",
       "      <th>product_name</th>\n",
       "      <th>additives_en</th>\n",
       "    </tr>\n",
       "    <tr>\n",
       "      <th>code</th>\n",
       "      <th></th>\n",
       "      <th></th>\n",
       "    </tr>\n",
       "  </thead>\n",
       "  <tbody>\n",
       "    <tr>\n",
       "      <td>0002000000714</td>\n",
       "      <td>Yaourt nature brebis</td>\n",
       "      <td>NaN</td>\n",
       "    </tr>\n",
       "    <tr>\n",
       "      <td>0002000001698</td>\n",
       "      <td>Yaourt au lait de brebis bio Nature</td>\n",
       "      <td>NaN</td>\n",
       "    </tr>\n",
       "    <tr>\n",
       "      <td>0002000001797</td>\n",
       "      <td>Jambon cuit decouenné</td>\n",
       "      <td>NaN</td>\n",
       "    </tr>\n",
       "    <tr>\n",
       "      <td>0002000002336</td>\n",
       "      <td>Yaourt de brebis vanille</td>\n",
       "      <td>NaN</td>\n",
       "    </tr>\n",
       "    <tr>\n",
       "      <td>0010852997489</td>\n",
       "      <td>Cream on Top strawberry Organic Yogurt</td>\n",
       "      <td>E330 - Citric acid,E410 - Locust bean gum,E440...</td>\n",
       "    </tr>\n",
       "    <tr>\n",
       "      <td>0011110505392</td>\n",
       "      <td>Mozzarella cheese, low-moisture part-skim</td>\n",
       "      <td>E460 - Cellulose,E460ii - Powdered cellulose</td>\n",
       "    </tr>\n",
       "    <tr>\n",
       "      <td>0011535501351</td>\n",
       "      <td>Wild Harvest Organic Original Soymilk</td>\n",
       "      <td>NaN</td>\n",
       "    </tr>\n",
       "    <tr>\n",
       "      <td>00152116</td>\n",
       "      <td>rillettes du mans</td>\n",
       "      <td>NaN</td>\n",
       "    </tr>\n",
       "    <tr>\n",
       "      <td>0017077001328</td>\n",
       "      <td>Organic Kefir Plain unsweetened</td>\n",
       "      <td>E440 - Pectins,E440i - Pectin</td>\n",
       "    </tr>\n",
       "    <tr>\n",
       "      <td>0017077003322</td>\n",
       "      <td>Probiotic Organic Kefir, Raspberry</td>\n",
       "      <td>E440 - Pectins,E440i - Pectin</td>\n",
       "    </tr>\n",
       "  </tbody>\n",
       "</table>\n",
       "</div>"
      ],
      "text/plain": [
       "                                            product_name  \\\n",
       "code                                                       \n",
       "0002000000714                       Yaourt nature brebis   \n",
       "0002000001698        Yaourt au lait de brebis bio Nature   \n",
       "0002000001797                      Jambon cuit decouenné   \n",
       "0002000002336                   Yaourt de brebis vanille   \n",
       "0010852997489     Cream on Top strawberry Organic Yogurt   \n",
       "0011110505392  Mozzarella cheese, low-moisture part-skim   \n",
       "0011535501351      Wild Harvest Organic Original Soymilk   \n",
       "00152116                               rillettes du mans   \n",
       "0017077001328            Organic Kefir Plain unsweetened   \n",
       "0017077003322         Probiotic Organic Kefir, Raspberry   \n",
       "\n",
       "                                                    additives_en  \n",
       "code                                                              \n",
       "0002000000714                                                NaN  \n",
       "0002000001698                                                NaN  \n",
       "0002000001797                                                NaN  \n",
       "0002000002336                                                NaN  \n",
       "0010852997489  E330 - Citric acid,E410 - Locust bean gum,E440...  \n",
       "0011110505392       E460 - Cellulose,E460ii - Powdered cellulose  \n",
       "0011535501351                                                NaN  \n",
       "00152116                                                     NaN  \n",
       "0017077001328                      E440 - Pectins,E440i - Pectin  \n",
       "0017077003322                      E440 - Pectins,E440i - Pectin  "
      ]
     },
     "execution_count": 29,
     "metadata": {},
     "output_type": "execute_result"
    }
   ],
   "source": [
    "bio_additives_df.head(10)"
   ]
  },
  {
   "cell_type": "markdown",
   "metadata": {},
   "source": [
    "We remark that a lot of products do not contain any additives. One should be careful with this as this could be either that the product indeed does not contain any additives, or simply because the data is missing this information.\n",
    "\n",
    "As we are trying to compare the different additives present in the bio and normal products and not quantizing how many products of these two categories contain additives, we can drop the rows not containing this information."
   ]
  },
  {
   "cell_type": "code",
   "execution_count": 30,
   "metadata": {
    "ExecuteTime": {
     "end_time": "2019-11-24T19:54:48.952694Z",
     "start_time": "2019-11-24T19:54:48.031035Z"
    }
   },
   "outputs": [
    {
     "name": "stdout",
     "output_type": "stream",
     "text": [
      "Length of bio dataset : 1270\n",
      "Length of non-bio dataset : 23901\n"
     ]
    }
   ],
   "source": [
    "bio_additives_df = bio_additives_df.dropna()\n",
    "non_bio_additives_df = non_bio_additives_df.dropna()\n",
    "print(\"Length of bio dataset : {}\\nLength of non-bio dataset : {}\" .format(len(bio_additives_df), len(non_bio_additives_df)))"
   ]
  },
  {
   "cell_type": "code",
   "execution_count": 31,
   "metadata": {
    "ExecuteTime": {
     "end_time": "2019-11-24T19:54:48.983935Z",
     "start_time": "2019-11-24T19:54:48.952694Z"
    }
   },
   "outputs": [
    {
     "data": {
      "text/html": [
       "<div>\n",
       "<style scoped>\n",
       "    .dataframe tbody tr th:only-of-type {\n",
       "        vertical-align: middle;\n",
       "    }\n",
       "\n",
       "    .dataframe tbody tr th {\n",
       "        vertical-align: top;\n",
       "    }\n",
       "\n",
       "    .dataframe thead th {\n",
       "        text-align: right;\n",
       "    }\n",
       "</style>\n",
       "<table border=\"1\" class=\"dataframe\">\n",
       "  <thead>\n",
       "    <tr style=\"text-align: right;\">\n",
       "      <th></th>\n",
       "      <th>product_name</th>\n",
       "      <th>additives_en</th>\n",
       "    </tr>\n",
       "    <tr>\n",
       "      <th>code</th>\n",
       "      <th></th>\n",
       "      <th></th>\n",
       "    </tr>\n",
       "  </thead>\n",
       "  <tbody>\n",
       "    <tr>\n",
       "      <td>0010852997489</td>\n",
       "      <td>Cream on Top strawberry Organic Yogurt</td>\n",
       "      <td>E330 - Citric acid,E410 - Locust bean gum,E440...</td>\n",
       "    </tr>\n",
       "    <tr>\n",
       "      <td>0011110505392</td>\n",
       "      <td>Mozzarella cheese, low-moisture part-skim</td>\n",
       "      <td>E460 - Cellulose,E460ii - Powdered cellulose</td>\n",
       "    </tr>\n",
       "    <tr>\n",
       "      <td>0017077001328</td>\n",
       "      <td>Organic Kefir Plain unsweetened</td>\n",
       "      <td>E440 - Pectins,E440i - Pectin</td>\n",
       "    </tr>\n",
       "    <tr>\n",
       "      <td>0017077003322</td>\n",
       "      <td>Probiotic Organic Kefir, Raspberry</td>\n",
       "      <td>E440 - Pectins,E440i - Pectin</td>\n",
       "    </tr>\n",
       "    <tr>\n",
       "      <td>0017077161169</td>\n",
       "      <td>Probiotic, Protein Kefir</td>\n",
       "      <td>E440 - Pectins,E440i - Pectin</td>\n",
       "    </tr>\n",
       "  </tbody>\n",
       "</table>\n",
       "</div>"
      ],
      "text/plain": [
       "                                            product_name  \\\n",
       "code                                                       \n",
       "0010852997489     Cream on Top strawberry Organic Yogurt   \n",
       "0011110505392  Mozzarella cheese, low-moisture part-skim   \n",
       "0017077001328            Organic Kefir Plain unsweetened   \n",
       "0017077003322         Probiotic Organic Kefir, Raspberry   \n",
       "0017077161169                   Probiotic, Protein Kefir   \n",
       "\n",
       "                                                    additives_en  \n",
       "code                                                              \n",
       "0010852997489  E330 - Citric acid,E410 - Locust bean gum,E440...  \n",
       "0011110505392       E460 - Cellulose,E460ii - Powdered cellulose  \n",
       "0017077001328                      E440 - Pectins,E440i - Pectin  \n",
       "0017077003322                      E440 - Pectins,E440i - Pectin  \n",
       "0017077161169                      E440 - Pectins,E440i - Pectin  "
      ]
     },
     "execution_count": 31,
     "metadata": {},
     "output_type": "execute_result"
    }
   ],
   "source": [
    "bio_additives_df.head()"
   ]
  },
  {
   "cell_type": "markdown",
   "metadata": {},
   "source": [
    "We observe a highly unbalanced dataset between products being organic and products not being organic. This will be taken into account for the upcoming analysis.\n",
    "\n",
    "The additives_tags contains a string being a list. Let's process this column to enable a list representation, and then exploding this column to have a single element per row in this column."
   ]
  },
  {
   "cell_type": "code",
   "execution_count": 32,
   "metadata": {
    "ExecuteTime": {
     "end_time": "2019-11-24T19:54:51.077191Z",
     "start_time": "2019-11-24T19:54:48.983935Z"
    }
   },
   "outputs": [],
   "source": [
    "bio_additives_df['additives_en'] = bio_additives_df['additives_en'].apply(lambda x: list(x.split(\",\")))\n",
    "bio_additives_df_exploded = bio_additives_df.explode('additives_en')\n",
    "\n",
    "non_bio_additives_df['additives_en'] = non_bio_additives_df['additives_en'].apply(lambda x: list(x.split(\",\")))\n",
    "non_bio_additives_df_exploded = non_bio_additives_df.explode('additives_en')"
   ]
  },
  {
   "cell_type": "code",
   "execution_count": 33,
   "metadata": {
    "ExecuteTime": {
     "end_time": "2019-11-24T19:54:51.092813Z",
     "start_time": "2019-11-24T19:54:51.077191Z"
    }
   },
   "outputs": [
    {
     "data": {
      "text/html": [
       "<div>\n",
       "<style scoped>\n",
       "    .dataframe tbody tr th:only-of-type {\n",
       "        vertical-align: middle;\n",
       "    }\n",
       "\n",
       "    .dataframe tbody tr th {\n",
       "        vertical-align: top;\n",
       "    }\n",
       "\n",
       "    .dataframe thead th {\n",
       "        text-align: right;\n",
       "    }\n",
       "</style>\n",
       "<table border=\"1\" class=\"dataframe\">\n",
       "  <thead>\n",
       "    <tr style=\"text-align: right;\">\n",
       "      <th></th>\n",
       "      <th>product_name</th>\n",
       "      <th>additives_en</th>\n",
       "    </tr>\n",
       "    <tr>\n",
       "      <th>code</th>\n",
       "      <th></th>\n",
       "      <th></th>\n",
       "    </tr>\n",
       "  </thead>\n",
       "  <tbody>\n",
       "    <tr>\n",
       "      <td>0010852997489</td>\n",
       "      <td>Cream on Top strawberry Organic Yogurt</td>\n",
       "      <td>E330 - Citric acid</td>\n",
       "    </tr>\n",
       "    <tr>\n",
       "      <td>0010852997489</td>\n",
       "      <td>Cream on Top strawberry Organic Yogurt</td>\n",
       "      <td>E410 - Locust bean gum</td>\n",
       "    </tr>\n",
       "    <tr>\n",
       "      <td>0010852997489</td>\n",
       "      <td>Cream on Top strawberry Organic Yogurt</td>\n",
       "      <td>E440 - Pectins</td>\n",
       "    </tr>\n",
       "    <tr>\n",
       "      <td>0010852997489</td>\n",
       "      <td>Cream on Top strawberry Organic Yogurt</td>\n",
       "      <td>E440i - Pectin</td>\n",
       "    </tr>\n",
       "    <tr>\n",
       "      <td>0011110505392</td>\n",
       "      <td>Mozzarella cheese, low-moisture part-skim</td>\n",
       "      <td>E460 - Cellulose</td>\n",
       "    </tr>\n",
       "    <tr>\n",
       "      <td>0011110505392</td>\n",
       "      <td>Mozzarella cheese, low-moisture part-skim</td>\n",
       "      <td>E460ii - Powdered cellulose</td>\n",
       "    </tr>\n",
       "    <tr>\n",
       "      <td>0017077001328</td>\n",
       "      <td>Organic Kefir Plain unsweetened</td>\n",
       "      <td>E440 - Pectins</td>\n",
       "    </tr>\n",
       "    <tr>\n",
       "      <td>0017077001328</td>\n",
       "      <td>Organic Kefir Plain unsweetened</td>\n",
       "      <td>E440i - Pectin</td>\n",
       "    </tr>\n",
       "    <tr>\n",
       "      <td>0017077003322</td>\n",
       "      <td>Probiotic Organic Kefir, Raspberry</td>\n",
       "      <td>E440 - Pectins</td>\n",
       "    </tr>\n",
       "    <tr>\n",
       "      <td>0017077003322</td>\n",
       "      <td>Probiotic Organic Kefir, Raspberry</td>\n",
       "      <td>E440i - Pectin</td>\n",
       "    </tr>\n",
       "  </tbody>\n",
       "</table>\n",
       "</div>"
      ],
      "text/plain": [
       "                                            product_name  \\\n",
       "code                                                       \n",
       "0010852997489     Cream on Top strawberry Organic Yogurt   \n",
       "0010852997489     Cream on Top strawberry Organic Yogurt   \n",
       "0010852997489     Cream on Top strawberry Organic Yogurt   \n",
       "0010852997489     Cream on Top strawberry Organic Yogurt   \n",
       "0011110505392  Mozzarella cheese, low-moisture part-skim   \n",
       "0011110505392  Mozzarella cheese, low-moisture part-skim   \n",
       "0017077001328            Organic Kefir Plain unsweetened   \n",
       "0017077001328            Organic Kefir Plain unsweetened   \n",
       "0017077003322         Probiotic Organic Kefir, Raspberry   \n",
       "0017077003322         Probiotic Organic Kefir, Raspberry   \n",
       "\n",
       "                              additives_en  \n",
       "code                                        \n",
       "0010852997489           E330 - Citric acid  \n",
       "0010852997489       E410 - Locust bean gum  \n",
       "0010852997489               E440 - Pectins  \n",
       "0010852997489               E440i - Pectin  \n",
       "0011110505392             E460 - Cellulose  \n",
       "0011110505392  E460ii - Powdered cellulose  \n",
       "0017077001328               E440 - Pectins  \n",
       "0017077001328               E440i - Pectin  \n",
       "0017077003322               E440 - Pectins  \n",
       "0017077003322               E440i - Pectin  "
      ]
     },
     "execution_count": 33,
     "metadata": {},
     "output_type": "execute_result"
    }
   ],
   "source": [
    "bio_additives_df_exploded.head(10)"
   ]
  },
  {
   "cell_type": "code",
   "execution_count": 34,
   "metadata": {
    "ExecuteTime": {
     "end_time": "2019-11-24T19:54:51.498977Z",
     "start_time": "2019-11-24T19:54:51.092813Z"
    }
   },
   "outputs": [],
   "source": [
    "bio_additives_df = bio_additives_df_exploded.groupby('additives_en') \\\n",
    "                                                     .count() \\\n",
    "                                                     .sort_values('product_name', ascending=False) \\\n",
    "                                                     .reset_index() \\\n",
    "                                                     .rename(columns={'additives_en' : 'additive', \"product_name\" : \"count\"})\n",
    "    \n",
    "non_bio_additives_df = non_bio_additives_df_exploded.groupby('additives_en') \\\n",
    "                                                             .count() \\\n",
    "                                                             .sort_values('product_name', ascending=False) \\\n",
    "                                                             .reset_index() \\\n",
    "                                                             .rename(columns={'additives_en' : 'additive', \"product_name\" : \"count\"})"
   ]
  },
  {
   "cell_type": "markdown",
   "metadata": {},
   "source": [
    "First let's observe the 5 most used additive in Bio and non-Bio products, which is not biased by the unbalancing of the dataset."
   ]
  },
  {
   "cell_type": "code",
   "execution_count": 35,
   "metadata": {
    "ExecuteTime": {
     "end_time": "2019-11-24T19:54:51.530213Z",
     "start_time": "2019-11-24T19:54:51.498977Z"
    }
   },
   "outputs": [
    {
     "name": "stdout",
     "output_type": "stream",
     "text": [
      "The most used additives for bio products are : \n",
      "0      E250 - Sodium nitrite\n",
      "1             E440 - Pectins\n",
      "2     E410 - Locust bean gum\n",
      "3    E301 - Sodium ascorbate\n",
      "4             E440i - Pectin\n",
      "Name: additive, dtype: object \n",
      "\n",
      "\n",
      "The most used additives for normal products are : \n",
      "0        E250 - Sodium nitrite\n",
      "1      E14XX - Modified Starch\n",
      "2           E330 - Citric acid\n",
      "3      E301 - Sodium ascorbate\n",
      "4    E316 - Sodium erythorbate\n",
      "Name: additive, dtype: object\n"
     ]
    }
   ],
   "source": [
    "most_used_bio = bio_additives_df['additive'][:5]\n",
    "most_used_normal = non_bio_additives_df['additive'][:5]\n",
    "print(\"The most used additives for bio products are : \\n{} \\n\\n\\n\"\n",
    "      \"The most used additives for normal products are : \\n{}\" .format(most_used_bio, most_used_normal))"
   ]
  },
  {
   "cell_type": "markdown",
   "metadata": {},
   "source": [
    "We already observe a difference from the top 5 used additives for bio product vs normal product. Let's try to visualize the global picture"
   ]
  },
  {
   "cell_type": "markdown",
   "metadata": {},
   "source": [
    "First we compute the proportion of each additive in its own dataset"
   ]
  },
  {
   "cell_type": "code",
   "execution_count": 36,
   "metadata": {
    "ExecuteTime": {
     "end_time": "2019-11-24T19:54:51.561462Z",
     "start_time": "2019-11-24T19:54:51.530213Z"
    }
   },
   "outputs": [],
   "source": [
    "bio_additives_df['proportion'] = bio_additives_df['count'] / bio_additives_df['count'].sum()\n",
    "non_bio_additives_df['proportion'] = non_bio_additives_df['count'] / non_bio_additives_df['count'].sum()"
   ]
  },
  {
   "cell_type": "markdown",
   "metadata": {},
   "source": [
    "Let's observe the results, taking the normal products as a reference."
   ]
  },
  {
   "cell_type": "code",
   "execution_count": 37,
   "metadata": {
    "ExecuteTime": {
     "end_time": "2019-11-24T19:54:53.779680Z",
     "start_time": "2019-11-24T19:54:51.561462Z"
    }
   },
   "outputs": [
    {
     "data": {
      "image/png": "[encoded data removed]",
      "text/plain": [
       "<Figure size 1440x504 with 1 Axes>"
      ]
     },
     "metadata": {
      "needs_background": "light"
     },
     "output_type": "display_data"
    }
   ],
   "source": [
    "n_to_plot = 70\n",
    "\n",
    "figure = plt.figure(figsize=(20,7))\n",
    "\n",
    "additive_tag_bio = bio_additives_df.additive.apply(lambda x: x.split(\" \")[0])\n",
    "additive_tag_normal = non_bio_additives_df.additive.apply(lambda x: x.split(\" \")[0])\n",
    "\n",
    "plt.bar(additive_tag_bio[:n_to_plot], bio_additives_df.proportion[:n_to_plot], label='Bio')\n",
    "plt.bar(additive_tag_normal[:n_to_plot], non_bio_additives_df.proportion[:n_to_plot], label='Normal', alpha=0.7)\n",
    "\n",
    "plt.title('Proportion of different additives in bio and normal products')\n",
    "plt.xlabel('Additive')\n",
    "plt.ylabel('Proportion')\n",
    "plt.legend()\n",
    "plt.xticks(rotation = (90), fontsize = 8, va='top')\n",
    "plt.show()"
   ]
  },
  {
   "cell_type": "markdown",
   "metadata": {},
   "source": [
    "Many different analysis can be conducted from this graph.\n",
    "\n",
    "* Let's analyze one of the spike present for the bio products and not for the normal products. One of the biggest is with the E440 and E440i additives. With a quick search online, we determine that this specific additive is [Pectin](https://en.wikipedia.org/wiki/Pectin). This specific additive is also used for [medicine](https://www.webmd.com/vitamins/ai/ingredientmono-500/pectin) and is hence not harmful at all.\n",
    "\n",
    "* Another big peak present for bio products and not for normal products is with the E300 additive. Again, a quick search online revealed that this additive represent [ascorbic acid](https://www.webmd.com/drugs/2/drug-322/ascorbic-acid-vitamin-c-oral/details) and is known to be an antioxident, hence again not harmful at all.\n",
    "\n",
    "* We observe that going down the most present additives, the normal products contains some additives that are not present at all in bio products. Let's observe some of them a bit deeper\n",
    "    - Let's observe the E471 additive which is a big peak for the non-bio products. We found that this additive represent the Mono- and diglycerides of fatty acids. It was set not to be harmful but is still prohibited in biological food in the EU due to its source from fatty acids ([source in french](https://www.additifs-alimentaires.net/E471.php)). The presence of this additive in the dataset even if it is prohibited in the EU may be explained by the fact that it may not be prohibited in other countries, such as in the United States or also that some products may have had contacts to other non-bio products and hence have been contaminated with this additive.\n",
    "    - E450 is another big peak for non-bio products and represents the Diphosphates and Pyrophosphates. These specific products are doubtful as the harmful dosages are not known ([source in french](https://additifs-alimentaires.net/E450.php)). This is hence the first additive which is known to be dangerous, and being present in normal products and not in bio products."
   ]
  },
  {
   "cell_type": "markdown",
   "metadata": {},
   "source": [
    "### Primary results\n",
    "\n",
    "We observe that there is a significant difference in terms of present additives between the two categories of bio and non-bio products. This is encouraging for future work on the differentiation of these two categories. \n",
    "Here we presented a **non-exhaustive** list of the difference with respect to a few additives selected visually on the graph. Future work include the batch processing of such additives which are often represented by groups which are cited on [this](https://en.wikipedia.org/wiki/E_number) wikipedia page. Next steps is to produce a more robust analysis with respect to these groups"
   ]
  },
  {
   "cell_type": "markdown",
   "metadata": {},
   "source": [
    "## Additives group analysis"
   ]
  },
  {
   "cell_type": "markdown",
   "metadata": {},
   "source": [
    "First we merge the two dataframes to have all the information in a single dataframe."
   ]
  },
  {
   "cell_type": "code",
   "execution_count": 38,
   "metadata": {},
   "outputs": [
    {
     "data": {
      "text/html": [
       "<div>\n",
       "<style scoped>\n",
       "    .dataframe tbody tr th:only-of-type {\n",
       "        vertical-align: middle;\n",
       "    }\n",
       "\n",
       "    .dataframe tbody tr th {\n",
       "        vertical-align: top;\n",
       "    }\n",
       "\n",
       "    .dataframe thead th {\n",
       "        text-align: right;\n",
       "    }\n",
       "</style>\n",
       "<table border=\"1\" class=\"dataframe\">\n",
       "  <thead>\n",
       "    <tr style=\"text-align: right;\">\n",
       "      <th></th>\n",
       "      <th>additive</th>\n",
       "      <th>count_bio</th>\n",
       "      <th>count_non_bio</th>\n",
       "    </tr>\n",
       "  </thead>\n",
       "  <tbody>\n",
       "    <tr>\n",
       "      <td>0</td>\n",
       "      <td>E250</td>\n",
       "      <td>285.0</td>\n",
       "      <td>7499.0</td>\n",
       "    </tr>\n",
       "    <tr>\n",
       "      <td>1</td>\n",
       "      <td>E440</td>\n",
       "      <td>209.0</td>\n",
       "      <td>2202.0</td>\n",
       "    </tr>\n",
       "    <tr>\n",
       "      <td>2</td>\n",
       "      <td>E410</td>\n",
       "      <td>202.0</td>\n",
       "      <td>1328.0</td>\n",
       "    </tr>\n",
       "    <tr>\n",
       "      <td>3</td>\n",
       "      <td>E301</td>\n",
       "      <td>187.0</td>\n",
       "      <td>3390.0</td>\n",
       "    </tr>\n",
       "    <tr>\n",
       "      <td>4</td>\n",
       "      <td>E440i</td>\n",
       "      <td>176.0</td>\n",
       "      <td>1573.0</td>\n",
       "    </tr>\n",
       "  </tbody>\n",
       "</table>\n",
       "</div>"
      ],
      "text/plain": [
       "  additive  count_bio  count_non_bio\n",
       "0     E250      285.0         7499.0\n",
       "1     E440      209.0         2202.0\n",
       "2     E410      202.0         1328.0\n",
       "3     E301      187.0         3390.0\n",
       "4    E440i      176.0         1573.0"
      ]
     },
     "execution_count": 38,
     "metadata": {},
     "output_type": "execute_result"
    }
   ],
   "source": [
    "merged_df = pd.merge(bio_additives_df, non_bio_additives_df, on='additive', how='outer') \\\n",
    "                     .drop(['proportion_x', 'proportion_y'], axis=1) \\\n",
    "                     .rename(columns = {\"count_x\" : 'count_bio', \"count_y\" : 'count_non_bio'}) \\\n",
    "                     .fillna(0.0)\n",
    "\n",
    "# keep only the code of the additive\n",
    "merged_df['additive'] = merged_df['additive'].apply(lambda x: x.split()[0])\n",
    "\n",
    "merged_df.head()"
   ]
  },
  {
   "cell_type": "markdown",
   "metadata": {},
   "source": [
    "Now let's process the dataframe to create additive groups with respect to [this](https://en.wikipedia.org/wiki/E_number) wikipedia page. We can observe that the groups are defined with respect to the first digit after the E letter.\n",
    "\n",
    "Hence first let's identify this digit"
   ]
  },
  {
   "cell_type": "code",
   "execution_count": 39,
   "metadata": {},
   "outputs": [],
   "source": [
    "merged_df['code_number'] = merged_df['additive'].apply(lambda x: int(str(x)[1]))"
   ]
  },
  {
   "cell_type": "markdown",
   "metadata": {},
   "source": [
    "Then we define a mapping function based on this digit"
   ]
  },
  {
   "cell_type": "code",
   "execution_count": 40,
   "metadata": {},
   "outputs": [],
   "source": [
    "map_func = {1 : 'Colorants', \\\n",
    "            2 : 'Preservatives', \\\n",
    "            3 : 'Antioxidants / acidity regulators', \\\n",
    "            4 : 'Thickeners, stabilisers and emulsifiers', \\\n",
    "            5 : 'pH regulators and anti-caking agents', \\\n",
    "            6 : 'Flavour enhancers', \\\n",
    "            7 : 'Antibiotics', \\\n",
    "            9 : 'Glazing agents, gases and sweeteners'}"
   ]
  },
  {
   "cell_type": "markdown",
   "metadata": {},
   "source": [
    "We then groupby this digit, taking the sum for all the counts of the additives. Then we normalize by the sum over the entire bio or non bio category to analyze these numbers in proportion."
   ]
  },
  {
   "cell_type": "code",
   "execution_count": 41,
   "metadata": {},
   "outputs": [],
   "source": [
    "summary_df = merged_df.groupby('code_number').sum().reset_index().rename(columns={'code_number':'category'})\n",
    "summary_df['category'] = summary_df['category'].map(map_func)\n",
    "\n",
    "summary_df['proportion_bio'] = summary_df['count_bio'] / np.sum(summary_df['count_bio'].values)\n",
    "summary_df['proportion_non_bio'] = summary_df['count_non_bio'] / np.sum(summary_df['count_non_bio'].values) "
   ]
  },
  {
   "cell_type": "code",
   "execution_count": 42,
   "metadata": {},
   "outputs": [
    {
     "data": {
      "text/html": [
       "<div>\n",
       "<style scoped>\n",
       "    .dataframe tbody tr th:only-of-type {\n",
       "        vertical-align: middle;\n",
       "    }\n",
       "\n",
       "    .dataframe tbody tr th {\n",
       "        vertical-align: top;\n",
       "    }\n",
       "\n",
       "    .dataframe thead th {\n",
       "        text-align: right;\n",
       "    }\n",
       "</style>\n",
       "<table border=\"1\" class=\"dataframe\">\n",
       "  <thead>\n",
       "    <tr style=\"text-align: right;\">\n",
       "      <th></th>\n",
       "      <th>category</th>\n",
       "      <th>count_bio</th>\n",
       "      <th>count_non_bio</th>\n",
       "      <th>proportion_bio</th>\n",
       "      <th>proportion_non_bio</th>\n",
       "    </tr>\n",
       "  </thead>\n",
       "  <tbody>\n",
       "    <tr>\n",
       "      <td>0</td>\n",
       "      <td>Colorants</td>\n",
       "      <td>64.0</td>\n",
       "      <td>11951.0</td>\n",
       "      <td>0.028444</td>\n",
       "      <td>0.163647</td>\n",
       "    </tr>\n",
       "    <tr>\n",
       "      <td>1</td>\n",
       "      <td>Preservatives</td>\n",
       "      <td>421.0</td>\n",
       "      <td>16528.0</td>\n",
       "      <td>0.187111</td>\n",
       "      <td>0.226321</td>\n",
       "    </tr>\n",
       "    <tr>\n",
       "      <td>2</td>\n",
       "      <td>Antioxidants / acidity regulators</td>\n",
       "      <td>674.0</td>\n",
       "      <td>18570.0</td>\n",
       "      <td>0.299556</td>\n",
       "      <td>0.254283</td>\n",
       "    </tr>\n",
       "    <tr>\n",
       "      <td>3</td>\n",
       "      <td>Thickeners, stabilisers and emulsifiers</td>\n",
       "      <td>1063.0</td>\n",
       "      <td>22044.0</td>\n",
       "      <td>0.472444</td>\n",
       "      <td>0.301853</td>\n",
       "    </tr>\n",
       "    <tr>\n",
       "      <td>4</td>\n",
       "      <td>pH regulators and anti-caking agents</td>\n",
       "      <td>24.0</td>\n",
       "      <td>1683.0</td>\n",
       "      <td>0.010667</td>\n",
       "      <td>0.023046</td>\n",
       "    </tr>\n",
       "    <tr>\n",
       "      <td>5</td>\n",
       "      <td>Flavour enhancers</td>\n",
       "      <td>0.0</td>\n",
       "      <td>1167.0</td>\n",
       "      <td>0.000000</td>\n",
       "      <td>0.015980</td>\n",
       "    </tr>\n",
       "    <tr>\n",
       "      <td>6</td>\n",
       "      <td>Antibiotics</td>\n",
       "      <td>0.0</td>\n",
       "      <td>2.0</td>\n",
       "      <td>0.000000</td>\n",
       "      <td>0.000027</td>\n",
       "    </tr>\n",
       "    <tr>\n",
       "      <td>7</td>\n",
       "      <td>Glazing agents, gases and sweeteners</td>\n",
       "      <td>4.0</td>\n",
       "      <td>1084.0</td>\n",
       "      <td>0.001778</td>\n",
       "      <td>0.014843</td>\n",
       "    </tr>\n",
       "  </tbody>\n",
       "</table>\n",
       "</div>"
      ],
      "text/plain": [
       "                                  category  count_bio  count_non_bio  \\\n",
       "0                                Colorants       64.0        11951.0   \n",
       "1                            Preservatives      421.0        16528.0   \n",
       "2        Antioxidants / acidity regulators      674.0        18570.0   \n",
       "3  Thickeners, stabilisers and emulsifiers     1063.0        22044.0   \n",
       "4     pH regulators and anti-caking agents       24.0         1683.0   \n",
       "5                        Flavour enhancers        0.0         1167.0   \n",
       "6                              Antibiotics        0.0            2.0   \n",
       "7     Glazing agents, gases and sweeteners        4.0         1084.0   \n",
       "\n",
       "   proportion_bio  proportion_non_bio  \n",
       "0        0.028444            0.163647  \n",
       "1        0.187111            0.226321  \n",
       "2        0.299556            0.254283  \n",
       "3        0.472444            0.301853  \n",
       "4        0.010667            0.023046  \n",
       "5        0.000000            0.015980  \n",
       "6        0.000000            0.000027  \n",
       "7        0.001778            0.014843  "
      ]
     },
     "execution_count": 42,
     "metadata": {},
     "output_type": "execute_result"
    }
   ],
   "source": [
    "summary_df"
   ]
  },
  {
   "cell_type": "markdown",
   "metadata": {},
   "source": [
    "Finally we observe the results with a radar plot"
   ]
  },
  {
   "cell_type": "code",
   "execution_count": 43,
   "metadata": {},
   "outputs": [
    {
     "data": {
      "image/png": "[encoded data removed]",
      "text/plain": [
       "<Figure size 1080x720 with 1 Axes>"
      ]
     },
     "metadata": {
      "needs_background": "light"
     },
     "output_type": "display_data"
    }
   ],
   "source": [
    "categories=summary_df['category'].values\n",
    "N = len(categories)\n",
    "angles = [n / float(N) * 2 * pi for n in range(N)] + [0.0]\n",
    " \n",
    "# Initialise the spider plot\n",
    "plt.gcf().set_size_inches(15, 10)\n",
    "ax = plt.subplot(111, polar=True)\n",
    " \n",
    "ax.set_theta_offset(pi / 2)\n",
    "ax.set_theta_direction(-1)\n",
    " \n",
    "plt.xticks(angles, categories)\n",
    " \n",
    "ax.set_rlabel_position(0)\n",
    " \n",
    "values=list(summary_df['proportion_bio'].values) + [summary_df['proportion_bio'].values[0]]\n",
    "ax.plot(angles, values, linewidth=1, linestyle='solid', label=\"Bio products\")\n",
    "ax.fill(angles, values, 'b', alpha=0.1)\n",
    "\n",
    "values=list(summary_df['proportion_non_bio'].values) + [summary_df['proportion_non_bio'].values[0]]\n",
    "ax.plot(angles, values, linewidth=1, linestyle='solid', label=\"Non-bio products\")\n",
    "ax.fill(angles, values, 'r', alpha=0.1)\n",
    " \n",
    "\n",
    "plt.title('Radar plot of the contenants of bio and non bio products of additives')\n",
    "plt.legend(loc='upper right')\n",
    "plt.show()"
   ]
  },
  {
   "cell_type": "code",
   "execution_count": null,
   "metadata": {},
   "outputs": [],
   "source": []
  }
 ],
 "metadata": {
  "kernelspec": {
   "display_name": "Python 3",
   "language": "python",
   "name": "python3"
  },
  "language_info": {
   "codemirror_mode": {
    "name": "ipython",
    "version": 3
   },
   "file_extension": ".py",
   "mimetype": "text/x-python",
   "name": "python",
   "nbconvert_exporter": "python",
   "pygments_lexer": "ipython3",
   "version": "3.7.3"
  }
 },
 "nbformat": 4,
 "nbformat_minor": 2
}
