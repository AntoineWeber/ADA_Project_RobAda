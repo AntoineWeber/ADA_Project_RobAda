{
 "cells": [
  {
   "cell_type": "markdown",
   "metadata": {},
   "source": [
    "# Milestone 2\n",
    "\n",
    "## Introduction\n",
    "\n",
    "We are going to analyze the dataset, cleanliness, blabla, start to explore the question.\n",
    "\n",
    "ntm lucas"
   ]
  },
  {
   "cell_type": "markdown",
   "metadata": {},
   "source": [
    "## Dataset overview\n",
    "\n",
    "Size of dataset, blablabla"
   ]
  },
  {
   "cell_type": "code",
   "execution_count": 36,
   "metadata": {
    "ExecuteTime": {
     "end_time": "2019-11-24T17:20:32.099752Z",
     "start_time": "2019-11-24T17:20:27.653244Z"
    }
   },
   "outputs": [],
   "source": [
    "import numpy as np\n",
    "import matplotlib as mpl\n",
    "import matplotlib.pyplot as plt\n",
    "import pandas as pd\n",
    "import re\n",
    "import seaborn as sns\n",
    "import statsmodels.formula.api as sm"
   ]
  },
  {
   "cell_type": "code",
   "execution_count": 2,
   "metadata": {},
   "outputs": [
    {
     "data": {
      "text/html": [
       "<div>\n",
       "<style scoped>\n",
       "    .dataframe tbody tr th:only-of-type {\n",
       "        vertical-align: middle;\n",
       "    }\n",
       "\n",
       "    .dataframe tbody tr th {\n",
       "        vertical-align: top;\n",
       "    }\n",
       "\n",
       "    .dataframe thead th {\n",
       "        text-align: right;\n",
       "    }\n",
       "</style>\n",
       "<table border=\"1\" class=\"dataframe\">\n",
       "  <thead>\n",
       "    <tr style=\"text-align: right;\">\n",
       "      <th></th>\n",
       "      <th>code</th>\n",
       "      <th>url</th>\n",
       "      <th>creator</th>\n",
       "      <th>created_t</th>\n",
       "      <th>created_datetime</th>\n",
       "      <th>last_modified_t</th>\n",
       "      <th>last_modified_datetime</th>\n",
       "      <th>product_name</th>\n",
       "      <th>generic_name</th>\n",
       "      <th>quantity</th>\n",
       "      <th>...</th>\n",
       "      <th>carbon-footprint-from-meat-or-fish_100g</th>\n",
       "      <th>nutrition-score-fr_100g</th>\n",
       "      <th>nutrition-score-uk_100g</th>\n",
       "      <th>glycemic-index_100g</th>\n",
       "      <th>water-hardness_100g</th>\n",
       "      <th>choline_100g</th>\n",
       "      <th>phylloquinone_100g</th>\n",
       "      <th>beta-glucan_100g</th>\n",
       "      <th>inositol_100g</th>\n",
       "      <th>carnitine_100g</th>\n",
       "    </tr>\n",
       "  </thead>\n",
       "  <tbody>\n",
       "    <tr>\n",
       "      <td>0</td>\n",
       "      <td>0000000000017</td>\n",
       "      <td>http://world-en.openfoodfacts.org/product/0000...</td>\n",
       "      <td>kiliweb</td>\n",
       "      <td>1529059080</td>\n",
       "      <td>2018-06-15T10:38:00Z</td>\n",
       "      <td>1561463718</td>\n",
       "      <td>2019-06-25T11:55:18Z</td>\n",
       "      <td>Vitória crackers</td>\n",
       "      <td>NaN</td>\n",
       "      <td>NaN</td>\n",
       "      <td>...</td>\n",
       "      <td>NaN</td>\n",
       "      <td>NaN</td>\n",
       "      <td>NaN</td>\n",
       "      <td>NaN</td>\n",
       "      <td>NaN</td>\n",
       "      <td>NaN</td>\n",
       "      <td>NaN</td>\n",
       "      <td>NaN</td>\n",
       "      <td>NaN</td>\n",
       "      <td>NaN</td>\n",
       "    </tr>\n",
       "    <tr>\n",
       "      <td>1</td>\n",
       "      <td>0000000000031</td>\n",
       "      <td>http://world-en.openfoodfacts.org/product/0000...</td>\n",
       "      <td>isagoofy</td>\n",
       "      <td>1539464774</td>\n",
       "      <td>2018-10-13T21:06:14Z</td>\n",
       "      <td>1539464817</td>\n",
       "      <td>2018-10-13T21:06:57Z</td>\n",
       "      <td>Cacao</td>\n",
       "      <td>NaN</td>\n",
       "      <td>130 g</td>\n",
       "      <td>...</td>\n",
       "      <td>NaN</td>\n",
       "      <td>NaN</td>\n",
       "      <td>NaN</td>\n",
       "      <td>NaN</td>\n",
       "      <td>NaN</td>\n",
       "      <td>NaN</td>\n",
       "      <td>NaN</td>\n",
       "      <td>NaN</td>\n",
       "      <td>NaN</td>\n",
       "      <td>NaN</td>\n",
       "    </tr>\n",
       "    <tr>\n",
       "      <td>2</td>\n",
       "      <td>0000000000100</td>\n",
       "      <td>http://world-en.openfoodfacts.org/product/0000...</td>\n",
       "      <td>del51</td>\n",
       "      <td>1444572561</td>\n",
       "      <td>2015-10-11T14:09:21Z</td>\n",
       "      <td>1444659212</td>\n",
       "      <td>2015-10-12T14:13:32Z</td>\n",
       "      <td>moutarde au moût de raisin</td>\n",
       "      <td>NaN</td>\n",
       "      <td>100g</td>\n",
       "      <td>...</td>\n",
       "      <td>NaN</td>\n",
       "      <td>18.0</td>\n",
       "      <td>18.0</td>\n",
       "      <td>NaN</td>\n",
       "      <td>NaN</td>\n",
       "      <td>NaN</td>\n",
       "      <td>NaN</td>\n",
       "      <td>NaN</td>\n",
       "      <td>NaN</td>\n",
       "      <td>NaN</td>\n",
       "    </tr>\n",
       "    <tr>\n",
       "      <td>3</td>\n",
       "      <td>00000000001111111111</td>\n",
       "      <td>http://world-en.openfoodfacts.org/product/0000...</td>\n",
       "      <td>openfoodfacts-contributors</td>\n",
       "      <td>1560020173</td>\n",
       "      <td>2019-06-08T18:56:13Z</td>\n",
       "      <td>1560020173</td>\n",
       "      <td>2019-06-08T18:56:13Z</td>\n",
       "      <td>Sfiudwx</td>\n",
       "      <td>NaN</td>\n",
       "      <td>dgesc</td>\n",
       "      <td>...</td>\n",
       "      <td>NaN</td>\n",
       "      <td>NaN</td>\n",
       "      <td>NaN</td>\n",
       "      <td>NaN</td>\n",
       "      <td>NaN</td>\n",
       "      <td>NaN</td>\n",
       "      <td>NaN</td>\n",
       "      <td>NaN</td>\n",
       "      <td>NaN</td>\n",
       "      <td>NaN</td>\n",
       "    </tr>\n",
       "    <tr>\n",
       "      <td>4</td>\n",
       "      <td>0000000000123</td>\n",
       "      <td>http://world-en.openfoodfacts.org/product/0000...</td>\n",
       "      <td>kiliweb</td>\n",
       "      <td>1535737982</td>\n",
       "      <td>2018-08-31T17:53:02Z</td>\n",
       "      <td>1535737986</td>\n",
       "      <td>2018-08-31T17:53:06Z</td>\n",
       "      <td>Sauce Sweety chili 0%</td>\n",
       "      <td>NaN</td>\n",
       "      <td>NaN</td>\n",
       "      <td>...</td>\n",
       "      <td>NaN</td>\n",
       "      <td>NaN</td>\n",
       "      <td>NaN</td>\n",
       "      <td>NaN</td>\n",
       "      <td>NaN</td>\n",
       "      <td>NaN</td>\n",
       "      <td>NaN</td>\n",
       "      <td>NaN</td>\n",
       "      <td>NaN</td>\n",
       "      <td>NaN</td>\n",
       "    </tr>\n",
       "  </tbody>\n",
       "</table>\n",
       "<p>5 rows × 175 columns</p>\n",
       "</div>"
      ],
      "text/plain": [
       "                   code                                                url  \\\n",
       "0         0000000000017  http://world-en.openfoodfacts.org/product/0000...   \n",
       "1         0000000000031  http://world-en.openfoodfacts.org/product/0000...   \n",
       "2         0000000000100  http://world-en.openfoodfacts.org/product/0000...   \n",
       "3  00000000001111111111  http://world-en.openfoodfacts.org/product/0000...   \n",
       "4         0000000000123  http://world-en.openfoodfacts.org/product/0000...   \n",
       "\n",
       "                      creator   created_t      created_datetime  \\\n",
       "0                     kiliweb  1529059080  2018-06-15T10:38:00Z   \n",
       "1                    isagoofy  1539464774  2018-10-13T21:06:14Z   \n",
       "2                       del51  1444572561  2015-10-11T14:09:21Z   \n",
       "3  openfoodfacts-contributors  1560020173  2019-06-08T18:56:13Z   \n",
       "4                     kiliweb  1535737982  2018-08-31T17:53:02Z   \n",
       "\n",
       "   last_modified_t last_modified_datetime                  product_name  \\\n",
       "0       1561463718   2019-06-25T11:55:18Z              Vitória crackers   \n",
       "1       1539464817   2018-10-13T21:06:57Z                         Cacao   \n",
       "2       1444659212   2015-10-12T14:13:32Z   moutarde au moût de raisin    \n",
       "3       1560020173   2019-06-08T18:56:13Z                       Sfiudwx   \n",
       "4       1535737986   2018-08-31T17:53:06Z         Sauce Sweety chili 0%   \n",
       "\n",
       "  generic_name quantity  ... carbon-footprint-from-meat-or-fish_100g  \\\n",
       "0          NaN      NaN  ...                                     NaN   \n",
       "1          NaN    130 g  ...                                     NaN   \n",
       "2          NaN     100g  ...                                     NaN   \n",
       "3          NaN    dgesc  ...                                     NaN   \n",
       "4          NaN      NaN  ...                                     NaN   \n",
       "\n",
       "  nutrition-score-fr_100g nutrition-score-uk_100g glycemic-index_100g  \\\n",
       "0                     NaN                     NaN                 NaN   \n",
       "1                     NaN                     NaN                 NaN   \n",
       "2                    18.0                    18.0                 NaN   \n",
       "3                     NaN                     NaN                 NaN   \n",
       "4                     NaN                     NaN                 NaN   \n",
       "\n",
       "  water-hardness_100g choline_100g phylloquinone_100g beta-glucan_100g  \\\n",
       "0                 NaN          NaN                NaN              NaN   \n",
       "1                 NaN          NaN                NaN              NaN   \n",
       "2                 NaN          NaN                NaN              NaN   \n",
       "3                 NaN          NaN                NaN              NaN   \n",
       "4                 NaN          NaN                NaN              NaN   \n",
       "\n",
       "  inositol_100g carnitine_100g  \n",
       "0           NaN            NaN  \n",
       "1           NaN            NaN  \n",
       "2           NaN            NaN  \n",
       "3           NaN            NaN  \n",
       "4           NaN            NaN  \n",
       "\n",
       "[5 rows x 175 columns]"
      ]
     },
     "execution_count": 2,
     "metadata": {},
     "output_type": "execute_result"
    }
   ],
   "source": [
    "OPEN_FOOD_FACTS_PATH = 'data/en.openfoodfacts.org.products.csv'\n",
    "food_facts_df = pd.read_csv(OPEN_FOOD_FACTS_PATH, delimiter='\\t',low_memory=False)\n",
    "food_facts_df.head(5)"
   ]
  },
  {
   "cell_type": "markdown",
   "metadata": {},
   "source": [
    "### Available fields\n",
    "\n",
    "The dataset description is available [here](https://static.openfoodfacts.org/data/data-fields.txt).\n",
    "\n",
    "\n",
    "\n",
    "This dataset is provided with a text file describing the different fields as follows :\n",
    "\n",
    "* fields that end with _t are dates in the UNIX timestamp format (number of seconds since Jan 1st 1970)\n",
    "* fields that end with _datetime are dates in the iso8601 format: yyyy-mm-ddThh:mn:ssZ\n",
    "* fields that end with _tags are comma separated list of tags (e.g. categories_tags is the set of normalized tags computer from the categories field)\n",
    "* fields that end with a language 2 letter code (e.g. fr for French) is the set of tags in that language\n",
    "* fields that end with _100g correspond to the amount of a nutriment (in g, or kJ for energy) for 100 g or 100 ml of product\n",
    "* fields that end with _serving correspond to the amount of a nutriment (in g, or kJ for energy) for 1 serving of the product\n",
    "\n",
    "**TODO**: show data"
   ]
  },
  {
   "cell_type": "markdown",
   "metadata": {},
   "source": [
    "### General cleaning \n"
   ]
  },
  {
   "cell_type": "markdown",
   "metadata": {},
   "source": [
    "Each product of the dataset has a field named `code`. This should be unique to each row:"
   ]
  },
  {
   "cell_type": "code",
   "execution_count": 3,
   "metadata": {
    "scrolled": true
   },
   "outputs": [
    {
     "name": "stdout",
     "output_type": "stream",
     "text": [
      "We have 1029403 rows in the dataset\n",
      "We have 1029238 different code in the dataset\n"
     ]
    }
   ],
   "source": [
    "print(\"We have {} rows in the dataset\".format(food_facts_df.shape[0]))\n",
    "print(\"We have {} different code in the dataset\".format((np.unique(food_facts_df['code']).shape[0])))"
   ]
  },
  {
   "cell_type": "markdown",
   "metadata": {},
   "source": [
    "Indeed, the code is unique for each row of the dataset except for a small number of duplicates. Let's check that. "
   ]
  },
  {
   "cell_type": "code",
   "execution_count": 4,
   "metadata": {},
   "outputs": [
    {
     "name": "stdout",
     "output_type": "stream",
     "text": [
      "We have 165 duplicated code\n"
     ]
    }
   ],
   "source": [
    "number_duplicates=food_facts_df['code'].duplicated()\n",
    "print(\"We have {} duplicated code\".format(number_duplicates.value_counts()[1]))"
   ]
  },
  {
   "cell_type": "markdown",
   "metadata": {},
   "source": [
    "Let's start by dropping these duplicated rows:"
   ]
  },
  {
   "cell_type": "code",
   "execution_count": 5,
   "metadata": {
    "scrolled": true
   },
   "outputs": [
    {
     "name": "stdout",
     "output_type": "stream",
     "text": [
      "We have 1029238 rows in the dataset after dropping the duplicates.\n"
     ]
    }
   ],
   "source": [
    "food_facts_df.drop_duplicates(subset=['code'],inplace=True)\n",
    "print(\"We have {} rows in the dataset after dropping the duplicates.\".format(food_facts_df.shape[0]))"
   ]
  },
  {
   "cell_type": "markdown",
   "metadata": {},
   "source": [
    "Great! We have now a unique code for each row. We can set the code as an index for the whole dataset."
   ]
  },
  {
   "cell_type": "code",
   "execution_count": 6,
   "metadata": {},
   "outputs": [],
   "source": [
    "#lets fix the code as indes \n",
    "food_facts_df.set_index('code', inplace=True)"
   ]
  },
  {
   "cell_type": "code",
   "execution_count": 7,
   "metadata": {},
   "outputs": [
    {
     "data": {
      "text/html": [
       "<div>\n",
       "<style scoped>\n",
       "    .dataframe tbody tr th:only-of-type {\n",
       "        vertical-align: middle;\n",
       "    }\n",
       "\n",
       "    .dataframe tbody tr th {\n",
       "        vertical-align: top;\n",
       "    }\n",
       "\n",
       "    .dataframe thead th {\n",
       "        text-align: right;\n",
       "    }\n",
       "</style>\n",
       "<table border=\"1\" class=\"dataframe\">\n",
       "  <thead>\n",
       "    <tr style=\"text-align: right;\">\n",
       "      <th></th>\n",
       "      <th>url</th>\n",
       "      <th>creator</th>\n",
       "      <th>created_t</th>\n",
       "      <th>created_datetime</th>\n",
       "      <th>last_modified_t</th>\n",
       "      <th>last_modified_datetime</th>\n",
       "      <th>product_name</th>\n",
       "      <th>generic_name</th>\n",
       "      <th>quantity</th>\n",
       "      <th>packaging</th>\n",
       "      <th>...</th>\n",
       "      <th>carbon-footprint-from-meat-or-fish_100g</th>\n",
       "      <th>nutrition-score-fr_100g</th>\n",
       "      <th>nutrition-score-uk_100g</th>\n",
       "      <th>glycemic-index_100g</th>\n",
       "      <th>water-hardness_100g</th>\n",
       "      <th>choline_100g</th>\n",
       "      <th>phylloquinone_100g</th>\n",
       "      <th>beta-glucan_100g</th>\n",
       "      <th>inositol_100g</th>\n",
       "      <th>carnitine_100g</th>\n",
       "    </tr>\n",
       "    <tr>\n",
       "      <th>code</th>\n",
       "      <th></th>\n",
       "      <th></th>\n",
       "      <th></th>\n",
       "      <th></th>\n",
       "      <th></th>\n",
       "      <th></th>\n",
       "      <th></th>\n",
       "      <th></th>\n",
       "      <th></th>\n",
       "      <th></th>\n",
       "      <th></th>\n",
       "      <th></th>\n",
       "      <th></th>\n",
       "      <th></th>\n",
       "      <th></th>\n",
       "      <th></th>\n",
       "      <th></th>\n",
       "      <th></th>\n",
       "      <th></th>\n",
       "      <th></th>\n",
       "      <th></th>\n",
       "    </tr>\n",
       "  </thead>\n",
       "  <tbody>\n",
       "    <tr>\n",
       "      <td>0000000000017</td>\n",
       "      <td>http://world-en.openfoodfacts.org/product/0000...</td>\n",
       "      <td>kiliweb</td>\n",
       "      <td>1529059080</td>\n",
       "      <td>2018-06-15T10:38:00Z</td>\n",
       "      <td>1561463718</td>\n",
       "      <td>2019-06-25T11:55:18Z</td>\n",
       "      <td>Vitória crackers</td>\n",
       "      <td>NaN</td>\n",
       "      <td>NaN</td>\n",
       "      <td>NaN</td>\n",
       "      <td>...</td>\n",
       "      <td>NaN</td>\n",
       "      <td>NaN</td>\n",
       "      <td>NaN</td>\n",
       "      <td>NaN</td>\n",
       "      <td>NaN</td>\n",
       "      <td>NaN</td>\n",
       "      <td>NaN</td>\n",
       "      <td>NaN</td>\n",
       "      <td>NaN</td>\n",
       "      <td>NaN</td>\n",
       "    </tr>\n",
       "    <tr>\n",
       "      <td>0000000000031</td>\n",
       "      <td>http://world-en.openfoodfacts.org/product/0000...</td>\n",
       "      <td>isagoofy</td>\n",
       "      <td>1539464774</td>\n",
       "      <td>2018-10-13T21:06:14Z</td>\n",
       "      <td>1539464817</td>\n",
       "      <td>2018-10-13T21:06:57Z</td>\n",
       "      <td>Cacao</td>\n",
       "      <td>NaN</td>\n",
       "      <td>130 g</td>\n",
       "      <td>NaN</td>\n",
       "      <td>...</td>\n",
       "      <td>NaN</td>\n",
       "      <td>NaN</td>\n",
       "      <td>NaN</td>\n",
       "      <td>NaN</td>\n",
       "      <td>NaN</td>\n",
       "      <td>NaN</td>\n",
       "      <td>NaN</td>\n",
       "      <td>NaN</td>\n",
       "      <td>NaN</td>\n",
       "      <td>NaN</td>\n",
       "    </tr>\n",
       "    <tr>\n",
       "      <td>0000000000100</td>\n",
       "      <td>http://world-en.openfoodfacts.org/product/0000...</td>\n",
       "      <td>del51</td>\n",
       "      <td>1444572561</td>\n",
       "      <td>2015-10-11T14:09:21Z</td>\n",
       "      <td>1444659212</td>\n",
       "      <td>2015-10-12T14:13:32Z</td>\n",
       "      <td>moutarde au moût de raisin</td>\n",
       "      <td>NaN</td>\n",
       "      <td>100g</td>\n",
       "      <td>NaN</td>\n",
       "      <td>...</td>\n",
       "      <td>NaN</td>\n",
       "      <td>18.0</td>\n",
       "      <td>18.0</td>\n",
       "      <td>NaN</td>\n",
       "      <td>NaN</td>\n",
       "      <td>NaN</td>\n",
       "      <td>NaN</td>\n",
       "      <td>NaN</td>\n",
       "      <td>NaN</td>\n",
       "      <td>NaN</td>\n",
       "    </tr>\n",
       "    <tr>\n",
       "      <td>00000000001111111111</td>\n",
       "      <td>http://world-en.openfoodfacts.org/product/0000...</td>\n",
       "      <td>openfoodfacts-contributors</td>\n",
       "      <td>1560020173</td>\n",
       "      <td>2019-06-08T18:56:13Z</td>\n",
       "      <td>1560020173</td>\n",
       "      <td>2019-06-08T18:56:13Z</td>\n",
       "      <td>Sfiudwx</td>\n",
       "      <td>NaN</td>\n",
       "      <td>dgesc</td>\n",
       "      <td>NaN</td>\n",
       "      <td>...</td>\n",
       "      <td>NaN</td>\n",
       "      <td>NaN</td>\n",
       "      <td>NaN</td>\n",
       "      <td>NaN</td>\n",
       "      <td>NaN</td>\n",
       "      <td>NaN</td>\n",
       "      <td>NaN</td>\n",
       "      <td>NaN</td>\n",
       "      <td>NaN</td>\n",
       "      <td>NaN</td>\n",
       "    </tr>\n",
       "    <tr>\n",
       "      <td>0000000000123</td>\n",
       "      <td>http://world-en.openfoodfacts.org/product/0000...</td>\n",
       "      <td>kiliweb</td>\n",
       "      <td>1535737982</td>\n",
       "      <td>2018-08-31T17:53:02Z</td>\n",
       "      <td>1535737986</td>\n",
       "      <td>2018-08-31T17:53:06Z</td>\n",
       "      <td>Sauce Sweety chili 0%</td>\n",
       "      <td>NaN</td>\n",
       "      <td>NaN</td>\n",
       "      <td>NaN</td>\n",
       "      <td>...</td>\n",
       "      <td>NaN</td>\n",
       "      <td>NaN</td>\n",
       "      <td>NaN</td>\n",
       "      <td>NaN</td>\n",
       "      <td>NaN</td>\n",
       "      <td>NaN</td>\n",
       "      <td>NaN</td>\n",
       "      <td>NaN</td>\n",
       "      <td>NaN</td>\n",
       "      <td>NaN</td>\n",
       "    </tr>\n",
       "  </tbody>\n",
       "</table>\n",
       "<p>5 rows × 174 columns</p>\n",
       "</div>"
      ],
      "text/plain": [
       "                                                                    url  \\\n",
       "code                                                                      \n",
       "0000000000017         http://world-en.openfoodfacts.org/product/0000...   \n",
       "0000000000031         http://world-en.openfoodfacts.org/product/0000...   \n",
       "0000000000100         http://world-en.openfoodfacts.org/product/0000...   \n",
       "00000000001111111111  http://world-en.openfoodfacts.org/product/0000...   \n",
       "0000000000123         http://world-en.openfoodfacts.org/product/0000...   \n",
       "\n",
       "                                         creator   created_t  \\\n",
       "code                                                           \n",
       "0000000000017                            kiliweb  1529059080   \n",
       "0000000000031                           isagoofy  1539464774   \n",
       "0000000000100                              del51  1444572561   \n",
       "00000000001111111111  openfoodfacts-contributors  1560020173   \n",
       "0000000000123                            kiliweb  1535737982   \n",
       "\n",
       "                          created_datetime  last_modified_t  \\\n",
       "code                                                          \n",
       "0000000000017         2018-06-15T10:38:00Z       1561463718   \n",
       "0000000000031         2018-10-13T21:06:14Z       1539464817   \n",
       "0000000000100         2015-10-11T14:09:21Z       1444659212   \n",
       "00000000001111111111  2019-06-08T18:56:13Z       1560020173   \n",
       "0000000000123         2018-08-31T17:53:02Z       1535737986   \n",
       "\n",
       "                     last_modified_datetime                  product_name  \\\n",
       "code                                                                        \n",
       "0000000000017          2019-06-25T11:55:18Z              Vitória crackers   \n",
       "0000000000031          2018-10-13T21:06:57Z                         Cacao   \n",
       "0000000000100          2015-10-12T14:13:32Z   moutarde au moût de raisin    \n",
       "00000000001111111111   2019-06-08T18:56:13Z                       Sfiudwx   \n",
       "0000000000123          2018-08-31T17:53:06Z         Sauce Sweety chili 0%   \n",
       "\n",
       "                     generic_name quantity packaging  ...  \\\n",
       "code                                                  ...   \n",
       "0000000000017                 NaN      NaN       NaN  ...   \n",
       "0000000000031                 NaN    130 g       NaN  ...   \n",
       "0000000000100                 NaN     100g       NaN  ...   \n",
       "00000000001111111111          NaN    dgesc       NaN  ...   \n",
       "0000000000123                 NaN      NaN       NaN  ...   \n",
       "\n",
       "                     carbon-footprint-from-meat-or-fish_100g  \\\n",
       "code                                                           \n",
       "0000000000017                                            NaN   \n",
       "0000000000031                                            NaN   \n",
       "0000000000100                                            NaN   \n",
       "00000000001111111111                                     NaN   \n",
       "0000000000123                                            NaN   \n",
       "\n",
       "                     nutrition-score-fr_100g nutrition-score-uk_100g  \\\n",
       "code                                                                   \n",
       "0000000000017                            NaN                     NaN   \n",
       "0000000000031                            NaN                     NaN   \n",
       "0000000000100                           18.0                    18.0   \n",
       "00000000001111111111                     NaN                     NaN   \n",
       "0000000000123                            NaN                     NaN   \n",
       "\n",
       "                     glycemic-index_100g water-hardness_100g choline_100g  \\\n",
       "code                                                                        \n",
       "0000000000017                        NaN                 NaN          NaN   \n",
       "0000000000031                        NaN                 NaN          NaN   \n",
       "0000000000100                        NaN                 NaN          NaN   \n",
       "00000000001111111111                 NaN                 NaN          NaN   \n",
       "0000000000123                        NaN                 NaN          NaN   \n",
       "\n",
       "                     phylloquinone_100g beta-glucan_100g inositol_100g  \\\n",
       "code                                                                     \n",
       "0000000000017                       NaN              NaN           NaN   \n",
       "0000000000031                       NaN              NaN           NaN   \n",
       "0000000000100                       NaN              NaN           NaN   \n",
       "00000000001111111111                NaN              NaN           NaN   \n",
       "0000000000123                       NaN              NaN           NaN   \n",
       "\n",
       "                     carnitine_100g  \n",
       "code                                 \n",
       "0000000000017                   NaN  \n",
       "0000000000031                   NaN  \n",
       "0000000000100                   NaN  \n",
       "00000000001111111111            NaN  \n",
       "0000000000123                   NaN  \n",
       "\n",
       "[5 rows x 174 columns]"
      ]
     },
     "execution_count": 7,
     "metadata": {},
     "output_type": "execute_result"
    }
   ],
   "source": [
    "food_facts_df.head(5)"
   ]
  },
  {
   "cell_type": "markdown",
   "metadata": {},
   "source": [
    "As we can see from the 5 first rows in the dataset, the data is messy and has a huge number of NaNs. We need a huge data cleaning."
   ]
  },
  {
   "cell_type": "markdown",
   "metadata": {},
   "source": [
    "### Data completeness\n",
    "\n",
    "Sparse dataset, lots of quasi empty columns (Lucas)"
   ]
  },
  {
   "cell_type": "markdown",
   "metadata": {},
   "source": [
    "### Reliability of the dataset\n",
    "\n"
   ]
  },
  {
   "cell_type": "markdown",
   "metadata": {},
   "source": [
    "The creators of each row of the dataset are provided as a field. Let's try to see who are the main contributors to this data before starting to analyze it."
   ]
  },
  {
   "cell_type": "code",
   "execution_count": 8,
   "metadata": {},
   "outputs": [
    {
     "name": "stdout",
     "output_type": "stream",
     "text": [
      "We have overall 9514 contributors\n"
     ]
    }
   ],
   "source": [
    "## Computing the number of contributors\n",
    "nb_contributors=food_facts_df['creator'].unique().shape[0]\n",
    "print(\"We have overall {} contributors\".format(nb_contributors))"
   ]
  },
  {
   "cell_type": "markdown",
   "metadata": {},
   "source": [
    "Let's see how many contributions each creator has in the dataset"
   ]
  },
  {
   "cell_type": "code",
   "execution_count": 9,
   "metadata": {},
   "outputs": [
    {
     "name": "stdout",
     "output_type": "stream",
     "text": [
      "The 10 main creators account for 89.0 % of all contributions \n",
      "\n",
      "                            counts  percentage\n",
      "kiliweb                     540476    0.525122\n",
      "usda-ndb-import             169854    0.165029\n",
      "openfoodfacts-contributors  116884    0.113564\n",
      "date-limite-app              25144    0.024430\n",
      "elcoco                       24829    0.024124\n",
      "openfood-ch-import           11459    0.011133\n",
      "sebleouf                     10140    0.009852\n",
      "tacite                        8505    0.008263\n",
      "tacinte                       5556    0.005398\n",
      "waistline-app                 4467    0.004340\n"
     ]
    }
   ],
   "source": [
    "# Computing the contributions \n",
    "counts = food_facts_df['creator'].value_counts()\n",
    "counts = counts.to_frame(name='counts')\n",
    "counts['percentage'] = counts['counts']/food_facts_df.shape[0]\n",
    "\n",
    "# Extracting only the top find and calculating the percentage of contribution\n",
    "top_10 = round(sum(counts[0:10]['percentage']),2)*100\n",
    "print(\"The 10 main\", 'creators',\"account for\", top_10,\"% of all contributions \\n\")\n",
    "print(counts.head(10))"
   ]
  },
  {
   "cell_type": "markdown",
   "metadata": {},
   "source": [
    "After googling these 10 main contributors we can easily identify them: \n",
    "* `kiliweb` represents the YUKA app (a French app aiming to compare the products based on different criterions).\n",
    "* `usda` represnets United States Department of Agriculture. \n",
    "* `openfoodfacts-contributors` a bench of 20 main contributors.\n",
    "* `data-limite-app` food application available for ios and androids users (French app).\n",
    "* `Elcoco` also a food application (spanish app).\n",
    "* `openfood-ch-import` seems to be openfood contributors from Switzerland.\n",
    "* `sebleouf`, `tacite` , `tacinte` and `waistline-app` are unknown contributors. "
   ]
  },
  {
   "cell_type": "markdown",
   "metadata": {},
   "source": [
    "The first 6 sources of contributions seem to be reliable since we can clearly understand where the data comes from."
   ]
  },
  {
   "cell_type": "code",
   "execution_count": 10,
   "metadata": {},
   "outputs": [],
   "source": [
    "#Getting the top 6\n",
    "top5_cont=counts.head(6).index"
   ]
  },
  {
   "cell_type": "markdown",
   "metadata": {},
   "source": [
    "Since the first 6 editors have 85% of the total contributions and are reliable. We will base our analysis on their contributions."
   ]
  },
  {
   "cell_type": "code",
   "execution_count": 11,
   "metadata": {},
   "outputs": [],
   "source": [
    "food_facts_df=food_facts_df.loc[food_facts_df['creator'].isin([top5_cont[0],top5_cont[1],top5_cont[2],top5_cont[3],top5_cont[4],top5_cont[5]])]"
   ]
  },
  {
   "cell_type": "code",
   "execution_count": 12,
   "metadata": {
    "scrolled": true
   },
   "outputs": [
    {
     "name": "stdout",
     "output_type": "stream",
     "text": [
      "There are 888,646 rows and 174 columns in our data\n"
     ]
    }
   ],
   "source": [
    "print('There are {:,} rows '.format(food_facts_df.shape[0]) + 'and {} columns in our data'.format(food_facts_df.shape[1]))"
   ]
  },
  {
   "cell_type": "markdown",
   "metadata": {},
   "source": [
    "## Question 1: How do nutrients influence the selected nutrition scores?"
   ]
  },
  {
   "cell_type": "markdown",
   "metadata": {},
   "source": [
    "The majority of the dataser fields are nutrients. We will try in this part to see their impact on the nutrition score. This analysis requires and additional cleaning of the dataset. "
   ]
  },
  {
   "cell_type": "markdown",
   "metadata": {},
   "source": [
    "### Additional cleaning"
   ]
  },
  {
   "cell_type": "markdown",
   "metadata": {},
   "source": [
    "First, we will see the data type of each field: "
   ]
  },
  {
   "cell_type": "code",
   "execution_count": 13,
   "metadata": {
    "scrolled": false
   },
   "outputs": [
    {
     "data": {
      "text/plain": [
       "url                    object\n",
       "creator                object\n",
       "created_t               int64\n",
       "created_datetime       object\n",
       "last_modified_t         int64\n",
       "                       ...   \n",
       "choline_100g          float64\n",
       "phylloquinone_100g    float64\n",
       "beta-glucan_100g      float64\n",
       "inositol_100g         float64\n",
       "carnitine_100g        float64\n",
       "Length: 174, dtype: object"
      ]
     },
     "execution_count": 13,
     "metadata": {},
     "output_type": "execute_result"
    }
   ],
   "source": [
    "food_facts_df.dtypes"
   ]
  },
  {
   "cell_type": "markdown",
   "metadata": {},
   "source": [
    "We will discard all no-float fields since they cannot represent the nutrients. (ie:object)"
   ]
  },
  {
   "cell_type": "code",
   "execution_count": 14,
   "metadata": {},
   "outputs": [],
   "source": [
    "food_facts_df = food_facts_df.select_dtypes(include=[np.float])"
   ]
  },
  {
   "cell_type": "code",
   "execution_count": 15,
   "metadata": {},
   "outputs": [
    {
     "data": {
      "text/plain": [
       "Index(['cities', 'allergens_en', 'serving_quantity', 'no_nutriments',\n",
       "       'additives_n', 'ingredients_from_palm_oil_n',\n",
       "       'ingredients_from_palm_oil', 'ingredients_that_may_be_from_palm_oil_n',\n",
       "       'ingredients_that_may_be_from_palm_oil', 'nova_group',\n",
       "       ...\n",
       "       'carbon-footprint-from-meat-or-fish_100g', 'nutrition-score-fr_100g',\n",
       "       'nutrition-score-uk_100g', 'glycemic-index_100g', 'water-hardness_100g',\n",
       "       'choline_100g', 'phylloquinone_100g', 'beta-glucan_100g',\n",
       "       'inositol_100g', 'carnitine_100g'],\n",
       "      dtype='object', length=117)"
      ]
     },
     "execution_count": 15,
     "metadata": {},
     "output_type": "execute_result"
    }
   ],
   "source": [
    "food_facts_df.columns"
   ]
  },
  {
   "cell_type": "code",
   "execution_count": 16,
   "metadata": {
    "scrolled": true
   },
   "outputs": [
    {
     "name": "stdout",
     "output_type": "stream",
     "text": [
      "There are 888,646 rows and 117 columns left in our data\n"
     ]
    }
   ],
   "source": [
    "print('There are {:,} rows '.format(food_facts_df.shape[0]) + 'and {} columns left in our data'.format(food_facts_df.shape[1]))"
   ]
  },
  {
   "cell_type": "markdown",
   "metadata": {},
   "source": [
    "Let us now analyze the level of completness for each editor"
   ]
  },
  {
   "cell_type": "code",
   "execution_count": 17,
   "metadata": {
    "scrolled": true
   },
   "outputs": [
    {
     "data": {
      "text/html": [
       "<div>\n",
       "<style scoped>\n",
       "    .dataframe tbody tr th:only-of-type {\n",
       "        vertical-align: middle;\n",
       "    }\n",
       "\n",
       "    .dataframe tbody tr th {\n",
       "        vertical-align: top;\n",
       "    }\n",
       "\n",
       "    .dataframe thead th {\n",
       "        text-align: right;\n",
       "    }\n",
       "</style>\n",
       "<table border=\"1\" class=\"dataframe\">\n",
       "  <thead>\n",
       "    <tr style=\"text-align: right;\">\n",
       "      <th></th>\n",
       "      <th>cities</th>\n",
       "      <th>allergens_en</th>\n",
       "      <th>serving_quantity</th>\n",
       "      <th>no_nutriments</th>\n",
       "      <th>additives_n</th>\n",
       "      <th>ingredients_from_palm_oil_n</th>\n",
       "      <th>ingredients_from_palm_oil</th>\n",
       "      <th>ingredients_that_may_be_from_palm_oil_n</th>\n",
       "      <th>ingredients_that_may_be_from_palm_oil</th>\n",
       "      <th>nova_group</th>\n",
       "      <th>...</th>\n",
       "      <th>carbon-footprint-from-meat-or-fish_100g</th>\n",
       "      <th>nutrition-score-fr_100g</th>\n",
       "      <th>nutrition-score-uk_100g</th>\n",
       "      <th>glycemic-index_100g</th>\n",
       "      <th>water-hardness_100g</th>\n",
       "      <th>choline_100g</th>\n",
       "      <th>phylloquinone_100g</th>\n",
       "      <th>beta-glucan_100g</th>\n",
       "      <th>inositol_100g</th>\n",
       "      <th>carnitine_100g</th>\n",
       "    </tr>\n",
       "    <tr>\n",
       "      <th>code</th>\n",
       "      <th></th>\n",
       "      <th></th>\n",
       "      <th></th>\n",
       "      <th></th>\n",
       "      <th></th>\n",
       "      <th></th>\n",
       "      <th></th>\n",
       "      <th></th>\n",
       "      <th></th>\n",
       "      <th></th>\n",
       "      <th></th>\n",
       "      <th></th>\n",
       "      <th></th>\n",
       "      <th></th>\n",
       "      <th></th>\n",
       "      <th></th>\n",
       "      <th></th>\n",
       "      <th></th>\n",
       "      <th></th>\n",
       "      <th></th>\n",
       "      <th></th>\n",
       "    </tr>\n",
       "  </thead>\n",
       "  <tbody>\n",
       "    <tr>\n",
       "      <td>0000000000017</td>\n",
       "      <td>NaN</td>\n",
       "      <td>NaN</td>\n",
       "      <td>NaN</td>\n",
       "      <td>NaN</td>\n",
       "      <td>NaN</td>\n",
       "      <td>NaN</td>\n",
       "      <td>NaN</td>\n",
       "      <td>NaN</td>\n",
       "      <td>NaN</td>\n",
       "      <td>NaN</td>\n",
       "      <td>...</td>\n",
       "      <td>NaN</td>\n",
       "      <td>NaN</td>\n",
       "      <td>NaN</td>\n",
       "      <td>NaN</td>\n",
       "      <td>NaN</td>\n",
       "      <td>NaN</td>\n",
       "      <td>NaN</td>\n",
       "      <td>NaN</td>\n",
       "      <td>NaN</td>\n",
       "      <td>NaN</td>\n",
       "    </tr>\n",
       "    <tr>\n",
       "      <td>00000000001111111111</td>\n",
       "      <td>NaN</td>\n",
       "      <td>NaN</td>\n",
       "      <td>NaN</td>\n",
       "      <td>NaN</td>\n",
       "      <td>NaN</td>\n",
       "      <td>NaN</td>\n",
       "      <td>NaN</td>\n",
       "      <td>NaN</td>\n",
       "      <td>NaN</td>\n",
       "      <td>NaN</td>\n",
       "      <td>...</td>\n",
       "      <td>NaN</td>\n",
       "      <td>NaN</td>\n",
       "      <td>NaN</td>\n",
       "      <td>NaN</td>\n",
       "      <td>NaN</td>\n",
       "      <td>NaN</td>\n",
       "      <td>NaN</td>\n",
       "      <td>NaN</td>\n",
       "      <td>NaN</td>\n",
       "      <td>NaN</td>\n",
       "    </tr>\n",
       "    <tr>\n",
       "      <td>0000000000123</td>\n",
       "      <td>NaN</td>\n",
       "      <td>NaN</td>\n",
       "      <td>NaN</td>\n",
       "      <td>NaN</td>\n",
       "      <td>NaN</td>\n",
       "      <td>NaN</td>\n",
       "      <td>NaN</td>\n",
       "      <td>NaN</td>\n",
       "      <td>NaN</td>\n",
       "      <td>NaN</td>\n",
       "      <td>...</td>\n",
       "      <td>NaN</td>\n",
       "      <td>NaN</td>\n",
       "      <td>NaN</td>\n",
       "      <td>NaN</td>\n",
       "      <td>NaN</td>\n",
       "      <td>NaN</td>\n",
       "      <td>NaN</td>\n",
       "      <td>NaN</td>\n",
       "      <td>NaN</td>\n",
       "      <td>NaN</td>\n",
       "    </tr>\n",
       "    <tr>\n",
       "      <td>0000000000178</td>\n",
       "      <td>NaN</td>\n",
       "      <td>NaN</td>\n",
       "      <td>NaN</td>\n",
       "      <td>NaN</td>\n",
       "      <td>NaN</td>\n",
       "      <td>NaN</td>\n",
       "      <td>NaN</td>\n",
       "      <td>NaN</td>\n",
       "      <td>NaN</td>\n",
       "      <td>NaN</td>\n",
       "      <td>...</td>\n",
       "      <td>NaN</td>\n",
       "      <td>NaN</td>\n",
       "      <td>NaN</td>\n",
       "      <td>NaN</td>\n",
       "      <td>NaN</td>\n",
       "      <td>NaN</td>\n",
       "      <td>NaN</td>\n",
       "      <td>NaN</td>\n",
       "      <td>NaN</td>\n",
       "      <td>NaN</td>\n",
       "    </tr>\n",
       "    <tr>\n",
       "      <td>0000000000208</td>\n",
       "      <td>NaN</td>\n",
       "      <td>NaN</td>\n",
       "      <td>NaN</td>\n",
       "      <td>NaN</td>\n",
       "      <td>NaN</td>\n",
       "      <td>NaN</td>\n",
       "      <td>NaN</td>\n",
       "      <td>NaN</td>\n",
       "      <td>NaN</td>\n",
       "      <td>NaN</td>\n",
       "      <td>...</td>\n",
       "      <td>NaN</td>\n",
       "      <td>NaN</td>\n",
       "      <td>NaN</td>\n",
       "      <td>NaN</td>\n",
       "      <td>NaN</td>\n",
       "      <td>NaN</td>\n",
       "      <td>NaN</td>\n",
       "      <td>NaN</td>\n",
       "      <td>NaN</td>\n",
       "      <td>NaN</td>\n",
       "    </tr>\n",
       "  </tbody>\n",
       "</table>\n",
       "<p>5 rows × 117 columns</p>\n",
       "</div>"
      ],
      "text/plain": [
       "                      cities  allergens_en  serving_quantity  no_nutriments  \\\n",
       "code                                                                          \n",
       "0000000000017            NaN           NaN               NaN            NaN   \n",
       "00000000001111111111     NaN           NaN               NaN            NaN   \n",
       "0000000000123            NaN           NaN               NaN            NaN   \n",
       "0000000000178            NaN           NaN               NaN            NaN   \n",
       "0000000000208            NaN           NaN               NaN            NaN   \n",
       "\n",
       "                      additives_n  ingredients_from_palm_oil_n  \\\n",
       "code                                                             \n",
       "0000000000017                 NaN                          NaN   \n",
       "00000000001111111111          NaN                          NaN   \n",
       "0000000000123                 NaN                          NaN   \n",
       "0000000000178                 NaN                          NaN   \n",
       "0000000000208                 NaN                          NaN   \n",
       "\n",
       "                      ingredients_from_palm_oil  \\\n",
       "code                                              \n",
       "0000000000017                               NaN   \n",
       "00000000001111111111                        NaN   \n",
       "0000000000123                               NaN   \n",
       "0000000000178                               NaN   \n",
       "0000000000208                               NaN   \n",
       "\n",
       "                      ingredients_that_may_be_from_palm_oil_n  \\\n",
       "code                                                            \n",
       "0000000000017                                             NaN   \n",
       "00000000001111111111                                      NaN   \n",
       "0000000000123                                             NaN   \n",
       "0000000000178                                             NaN   \n",
       "0000000000208                                             NaN   \n",
       "\n",
       "                      ingredients_that_may_be_from_palm_oil  nova_group  ...  \\\n",
       "code                                                                     ...   \n",
       "0000000000017                                           NaN         NaN  ...   \n",
       "00000000001111111111                                    NaN         NaN  ...   \n",
       "0000000000123                                           NaN         NaN  ...   \n",
       "0000000000178                                           NaN         NaN  ...   \n",
       "0000000000208                                           NaN         NaN  ...   \n",
       "\n",
       "                      carbon-footprint-from-meat-or-fish_100g  \\\n",
       "code                                                            \n",
       "0000000000017                                             NaN   \n",
       "00000000001111111111                                      NaN   \n",
       "0000000000123                                             NaN   \n",
       "0000000000178                                             NaN   \n",
       "0000000000208                                             NaN   \n",
       "\n",
       "                      nutrition-score-fr_100g  nutrition-score-uk_100g  \\\n",
       "code                                                                     \n",
       "0000000000017                             NaN                      NaN   \n",
       "00000000001111111111                      NaN                      NaN   \n",
       "0000000000123                             NaN                      NaN   \n",
       "0000000000178                             NaN                      NaN   \n",
       "0000000000208                             NaN                      NaN   \n",
       "\n",
       "                      glycemic-index_100g  water-hardness_100g  choline_100g  \\\n",
       "code                                                                           \n",
       "0000000000017                         NaN                  NaN           NaN   \n",
       "00000000001111111111                  NaN                  NaN           NaN   \n",
       "0000000000123                         NaN                  NaN           NaN   \n",
       "0000000000178                         NaN                  NaN           NaN   \n",
       "0000000000208                         NaN                  NaN           NaN   \n",
       "\n",
       "                      phylloquinone_100g  beta-glucan_100g  inositol_100g  \\\n",
       "code                                                                        \n",
       "0000000000017                        NaN               NaN            NaN   \n",
       "00000000001111111111                 NaN               NaN            NaN   \n",
       "0000000000123                        NaN               NaN            NaN   \n",
       "0000000000178                        NaN               NaN            NaN   \n",
       "0000000000208                        NaN               NaN            NaN   \n",
       "\n",
       "                      carnitine_100g  \n",
       "code                                  \n",
       "0000000000017                    NaN  \n",
       "00000000001111111111             NaN  \n",
       "0000000000123                    NaN  \n",
       "0000000000178                    NaN  \n",
       "0000000000208                    NaN  \n",
       "\n",
       "[5 rows x 117 columns]"
      ]
     },
     "execution_count": 17,
     "metadata": {},
     "output_type": "execute_result"
    }
   ],
   "source": [
    "food_facts_df.head()"
   ]
  },
  {
   "cell_type": "markdown",
   "metadata": {},
   "source": [
    "As we can see, our dataset has a huge number of NaNs. Dropping all of them will lead to an empty dataframe. "
   ]
  },
  {
   "cell_type": "markdown",
   "metadata": {},
   "source": [
    "#### Dealing with missing values\n",
    "As an efficient strategy to deal with these missing values, we will first count the number of NaNs from the dataset and then remove the features where the number of missing values exceeds a certain threshold. "
   ]
  },
  {
   "cell_type": "markdown",
   "metadata": {},
   "source": [
    "Let's count the number of nans for each feature: "
   ]
  },
  {
   "cell_type": "code",
   "execution_count": 18,
   "metadata": {},
   "outputs": [],
   "source": [
    "nutrition_facts_df=food_facts_df.copy()"
   ]
  },
  {
   "cell_type": "code",
   "execution_count": 19,
   "metadata": {},
   "outputs": [
    {
     "data": {
      "text/plain": [
       "energy_100g            165091\n",
       "proteins_100g          166341\n",
       "fat_100g               168234\n",
       "carbohydrates_100g     168364\n",
       "sugars_100g            177824\n",
       "                        ...  \n",
       "-mead-acid_100g        888646\n",
       "-erucic-acid_100g      888646\n",
       "-nervonic-acid_100g    888646\n",
       "-caprylic-acid_100g    888646\n",
       "cities                 888646\n",
       "Length: 117, dtype: int64"
      ]
     },
     "execution_count": 19,
     "metadata": {},
     "output_type": "execute_result"
    }
   ],
   "source": [
    "NaNs_distribution_series=nutrition_facts_df.isnull().sum().sort_values()\n",
    "NaNs_distribution_series"
   ]
  },
  {
   "cell_type": "markdown",
   "metadata": {},
   "source": [
    "Let us visualize the distribution of NaNs in the dataset"
   ]
  },
  {
   "cell_type": "code",
   "execution_count": 20,
   "metadata": {},
   "outputs": [
    {
     "data": {
      "image/png": "[encoded data removed]",
      "text/plain": [
       "<Figure size 864x360 with 1 Axes>"
      ]
     },
     "metadata": {
      "needs_background": "light"
     },
     "output_type": "display_data"
    }
   ],
   "source": [
    "nutrition_facts_df.isnull().sum().plot(kind='hist', figsize=(12,5),bins=50)\n",
    "plt.title('Distribution of NaNs')\n",
    "plt.xlabel('NaNs')\n",
    "\n",
    "plt.show()"
   ]
  },
  {
   "cell_type": "markdown",
   "metadata": {},
   "source": [
    "Many columns have a huge number of missing values(More than 85 columns with 350000 NaNs), let's try to remove some of them by playing with the threshold value.   \n",
    "We will plot the new distribution of NaNs. Our main objective is to remove this huge peak of frequency visualized in the plot above.   \n",
    "We tune the threshold with a trial and error to have a satisfactory result. "
   ]
  },
  {
   "cell_type": "code",
   "execution_count": 21,
   "metadata": {},
   "outputs": [
    {
     "name": "stdout",
     "output_type": "stream",
     "text": [
      "There are now 738,255 rows and 16 columns left in our data\n"
     ]
    }
   ],
   "source": [
    "nutrition_facts_thresh_df = nutrition_facts_df.dropna(axis=1, thresh= len(nutrition_facts_df)*0.2,how='all')\n",
    "nutrition_facts_thresh_df = nutrition_facts_thresh_df.dropna(axis=0, how='all')\n",
    "\n",
    "print('There are now {:,} rows '.format(nutrition_facts_thresh_df.shape[0]) + 'and {} columns left in our data'.format(nutrition_facts_thresh_df.shape[1]))"
   ]
  },
  {
   "cell_type": "code",
   "execution_count": 22,
   "metadata": {},
   "outputs": [
    {
     "data": {
      "image/png": "[encoded data removed]",
      "text/plain": [
       "<Figure size 720x360 with 1 Axes>"
      ]
     },
     "metadata": {
      "needs_background": "light"
     },
     "output_type": "display_data"
    }
   ],
   "source": [
    "nutrition_facts_thresh_df.isnull().sum().plot(kind='hist', figsize=(10,5),bins=50)\n",
    "plt.title('Distribution of NaNs')\n",
    "plt.xlabel('NaNs')\n",
    "\n",
    "plt.show()"
   ]
  },
  {
   "cell_type": "markdown",
   "metadata": {},
   "source": [
    "We will se the total number of missing values for each field in the dataset after filtering them. "
   ]
  },
  {
   "cell_type": "code",
   "execution_count": 23,
   "metadata": {},
   "outputs": [
    {
     "data": {
      "text/plain": [
       "energy_100g                                 14700\n",
       "proteins_100g                               15950\n",
       "fat_100g                                    17843\n",
       "carbohydrates_100g                          17973\n",
       "sugars_100g                                 27433\n",
       "salt_100g                                   29240\n",
       "sodium_100g                                 29281\n",
       "saturated-fat_100g                          42171\n",
       "additives_n                                389096\n",
       "ingredients_from_palm_oil_n                389096\n",
       "ingredients_that_may_be_from_palm_oil_n    389096\n",
       "fiber_100g                                 489602\n",
       "nova_group                                 498883\n",
       "serving_quantity                           514771\n",
       "nutrition-score-fr_100g                    520610\n",
       "nutrition-score-uk_100g                    520610\n",
       "dtype: int64"
      ]
     },
     "execution_count": 23,
     "metadata": {},
     "output_type": "execute_result"
    }
   ],
   "source": [
    "nutrition_facts_thresh_df.isnull().sum().sort_values()"
   ]
  },
  {
   "cell_type": "code",
   "execution_count": 24,
   "metadata": {},
   "outputs": [
    {
     "name": "stdout",
     "output_type": "stream",
     "text": [
      "We have now 738255 of samples with 16 fields\n"
     ]
    }
   ],
   "source": [
    "print (\"We have now {} of samples with {} fields\".format(nutrition_facts_thresh_df.shape[0],\n",
    "                                                         nutrition_facts_thresh_df.shape[1]))"
   ]
  },
  {
   "cell_type": "markdown",
   "metadata": {},
   "source": [
    "We think that this is the optimal way to decrease the number of NaNs in this dataset. Putting the threshold higher then the selected value will delete the nutrition score columns. "
   ]
  },
  {
   "cell_type": "markdown",
   "metadata": {},
   "source": [
    "After dealing with the missing values, let's check the statistics of our data. "
   ]
  },
  {
   "cell_type": "markdown",
   "metadata": {},
   "source": [
    "#### Looking at the stats!"
   ]
  },
  {
   "cell_type": "code",
   "execution_count": 25,
   "metadata": {
    "scrolled": true
   },
   "outputs": [
    {
     "data": {
      "text/html": [
       "<div>\n",
       "<style scoped>\n",
       "    .dataframe tbody tr th:only-of-type {\n",
       "        vertical-align: middle;\n",
       "    }\n",
       "\n",
       "    .dataframe tbody tr th {\n",
       "        vertical-align: top;\n",
       "    }\n",
       "\n",
       "    .dataframe thead th {\n",
       "        text-align: right;\n",
       "    }\n",
       "</style>\n",
       "<table border=\"1\" class=\"dataframe\">\n",
       "  <thead>\n",
       "    <tr style=\"text-align: right;\">\n",
       "      <th></th>\n",
       "      <th>serving_quantity</th>\n",
       "      <th>additives_n</th>\n",
       "      <th>ingredients_from_palm_oil_n</th>\n",
       "      <th>ingredients_that_may_be_from_palm_oil_n</th>\n",
       "      <th>nova_group</th>\n",
       "      <th>energy_100g</th>\n",
       "      <th>fat_100g</th>\n",
       "      <th>saturated-fat_100g</th>\n",
       "      <th>carbohydrates_100g</th>\n",
       "      <th>sugars_100g</th>\n",
       "      <th>fiber_100g</th>\n",
       "      <th>proteins_100g</th>\n",
       "      <th>salt_100g</th>\n",
       "      <th>sodium_100g</th>\n",
       "      <th>nutrition-score-fr_100g</th>\n",
       "      <th>nutrition-score-uk_100g</th>\n",
       "    </tr>\n",
       "  </thead>\n",
       "  <tbody>\n",
       "    <tr>\n",
       "      <td>count</td>\n",
       "      <td>2.234840e+05</td>\n",
       "      <td>349159.000000</td>\n",
       "      <td>349159.000000</td>\n",
       "      <td>349159.000000</td>\n",
       "      <td>239372.000000</td>\n",
       "      <td>7.235550e+05</td>\n",
       "      <td>7.204120e+05</td>\n",
       "      <td>6.960840e+05</td>\n",
       "      <td>720282.00000</td>\n",
       "      <td>7.108220e+05</td>\n",
       "      <td>2.486530e+05</td>\n",
       "      <td>7.223050e+05</td>\n",
       "      <td>7.090150e+05</td>\n",
       "      <td>7.089740e+05</td>\n",
       "      <td>217645.000000</td>\n",
       "      <td>217645.000000</td>\n",
       "    </tr>\n",
       "    <tr>\n",
       "      <td>mean</td>\n",
       "      <td>1.446762e+02</td>\n",
       "      <td>1.618644</td>\n",
       "      <td>0.025696</td>\n",
       "      <td>0.066027</td>\n",
       "      <td>3.665140</td>\n",
       "      <td>9.212235e+36</td>\n",
       "      <td>2.601427e+01</td>\n",
       "      <td>1.171675e+01</td>\n",
       "      <td>30.01567</td>\n",
       "      <td>2.078074e+01</td>\n",
       "      <td>2.122561e+02</td>\n",
       "      <td>1.313906e+02</td>\n",
       "      <td>1.164393e+02</td>\n",
       "      <td>4.679614e+01</td>\n",
       "      <td>9.509251</td>\n",
       "      <td>9.291833</td>\n",
       "    </tr>\n",
       "    <tr>\n",
       "      <td>std</td>\n",
       "      <td>1.622487e+04</td>\n",
       "      <td>2.321812</td>\n",
       "      <td>0.160081</td>\n",
       "      <td>0.301313</td>\n",
       "      <td>0.772107</td>\n",
       "      <td>7.836115e+39</td>\n",
       "      <td>1.030830e+04</td>\n",
       "      <td>5.380194e+03</td>\n",
       "      <td>1013.10020</td>\n",
       "      <td>5.426413e+03</td>\n",
       "      <td>1.020974e+05</td>\n",
       "      <td>1.044948e+05</td>\n",
       "      <td>9.606399e+04</td>\n",
       "      <td>3.842717e+04</td>\n",
       "      <td>8.712979</td>\n",
       "      <td>9.203235</td>\n",
       "    </tr>\n",
       "    <tr>\n",
       "      <td>min</td>\n",
       "      <td>0.000000e+00</td>\n",
       "      <td>0.000000</td>\n",
       "      <td>0.000000</td>\n",
       "      <td>0.000000</td>\n",
       "      <td>1.000000</td>\n",
       "      <td>0.000000e+00</td>\n",
       "      <td>0.000000e+00</td>\n",
       "      <td>0.000000e+00</td>\n",
       "      <td>0.00000</td>\n",
       "      <td>-1.786000e+01</td>\n",
       "      <td>-6.700000e+00</td>\n",
       "      <td>-8.000000e+02</td>\n",
       "      <td>0.000000e+00</td>\n",
       "      <td>0.000000e+00</td>\n",
       "      <td>-15.000000</td>\n",
       "      <td>-15.000000</td>\n",
       "    </tr>\n",
       "    <tr>\n",
       "      <td>25%</td>\n",
       "      <td>2.800000e+01</td>\n",
       "      <td>0.000000</td>\n",
       "      <td>0.000000</td>\n",
       "      <td>0.000000</td>\n",
       "      <td>4.000000</td>\n",
       "      <td>4.390000e+02</td>\n",
       "      <td>5.700000e-01</td>\n",
       "      <td>1.000000e-01</td>\n",
       "      <td>3.57000</td>\n",
       "      <td>7.000000e-01</td>\n",
       "      <td>0.000000e+00</td>\n",
       "      <td>1.100000e+00</td>\n",
       "      <td>6.000000e-02</td>\n",
       "      <td>2.400000e-02</td>\n",
       "      <td>2.000000</td>\n",
       "      <td>1.000000</td>\n",
       "    </tr>\n",
       "    <tr>\n",
       "      <td>50%</td>\n",
       "      <td>4.300000e+01</td>\n",
       "      <td>1.000000</td>\n",
       "      <td>0.000000</td>\n",
       "      <td>0.000000</td>\n",
       "      <td>4.000000</td>\n",
       "      <td>1.117000e+03</td>\n",
       "      <td>6.900000e+00</td>\n",
       "      <td>1.900000e+00</td>\n",
       "      <td>15.80000</td>\n",
       "      <td>4.000000e+00</td>\n",
       "      <td>1.500000e+00</td>\n",
       "      <td>5.700000e+00</td>\n",
       "      <td>5.300000e-01</td>\n",
       "      <td>2.116000e-01</td>\n",
       "      <td>10.000000</td>\n",
       "      <td>10.000000</td>\n",
       "    </tr>\n",
       "    <tr>\n",
       "      <td>75%</td>\n",
       "      <td>1.100000e+02</td>\n",
       "      <td>2.000000</td>\n",
       "      <td>0.000000</td>\n",
       "      <td>0.000000</td>\n",
       "      <td>4.000000</td>\n",
       "      <td>1.674000e+03</td>\n",
       "      <td>2.143000e+01</td>\n",
       "      <td>7.500000e+00</td>\n",
       "      <td>54.00000</td>\n",
       "      <td>2.080000e+01</td>\n",
       "      <td>3.600000e+00</td>\n",
       "      <td>1.200000e+01</td>\n",
       "      <td>1.370000e+00</td>\n",
       "      <td>5.445760e-01</td>\n",
       "      <td>16.000000</td>\n",
       "      <td>17.000000</td>\n",
       "    </tr>\n",
       "    <tr>\n",
       "      <td>max</td>\n",
       "      <td>6.495676e+06</td>\n",
       "      <td>30.000000</td>\n",
       "      <td>3.000000</td>\n",
       "      <td>5.000000</td>\n",
       "      <td>4.000000</td>\n",
       "      <td>6.665559e+42</td>\n",
       "      <td>8.748748e+06</td>\n",
       "      <td>4.488758e+06</td>\n",
       "      <td>857855.00000</td>\n",
       "      <td>4.574988e+06</td>\n",
       "      <td>5.089889e+07</td>\n",
       "      <td>8.880858e+07</td>\n",
       "      <td>8.088869e+07</td>\n",
       "      <td>3.235548e+07</td>\n",
       "      <td>40.000000</td>\n",
       "      <td>40.000000</td>\n",
       "    </tr>\n",
       "  </tbody>\n",
       "</table>\n",
       "</div>"
      ],
      "text/plain": [
       "       serving_quantity    additives_n  ingredients_from_palm_oil_n  \\\n",
       "count      2.234840e+05  349159.000000                349159.000000   \n",
       "mean       1.446762e+02       1.618644                     0.025696   \n",
       "std        1.622487e+04       2.321812                     0.160081   \n",
       "min        0.000000e+00       0.000000                     0.000000   \n",
       "25%        2.800000e+01       0.000000                     0.000000   \n",
       "50%        4.300000e+01       1.000000                     0.000000   \n",
       "75%        1.100000e+02       2.000000                     0.000000   \n",
       "max        6.495676e+06      30.000000                     3.000000   \n",
       "\n",
       "       ingredients_that_may_be_from_palm_oil_n     nova_group   energy_100g  \\\n",
       "count                            349159.000000  239372.000000  7.235550e+05   \n",
       "mean                                  0.066027       3.665140  9.212235e+36   \n",
       "std                                   0.301313       0.772107  7.836115e+39   \n",
       "min                                   0.000000       1.000000  0.000000e+00   \n",
       "25%                                   0.000000       4.000000  4.390000e+02   \n",
       "50%                                   0.000000       4.000000  1.117000e+03   \n",
       "75%                                   0.000000       4.000000  1.674000e+03   \n",
       "max                                   5.000000       4.000000  6.665559e+42   \n",
       "\n",
       "           fat_100g  saturated-fat_100g  carbohydrates_100g   sugars_100g  \\\n",
       "count  7.204120e+05        6.960840e+05        720282.00000  7.108220e+05   \n",
       "mean   2.601427e+01        1.171675e+01            30.01567  2.078074e+01   \n",
       "std    1.030830e+04        5.380194e+03          1013.10020  5.426413e+03   \n",
       "min    0.000000e+00        0.000000e+00             0.00000 -1.786000e+01   \n",
       "25%    5.700000e-01        1.000000e-01             3.57000  7.000000e-01   \n",
       "50%    6.900000e+00        1.900000e+00            15.80000  4.000000e+00   \n",
       "75%    2.143000e+01        7.500000e+00            54.00000  2.080000e+01   \n",
       "max    8.748748e+06        4.488758e+06        857855.00000  4.574988e+06   \n",
       "\n",
       "         fiber_100g  proteins_100g     salt_100g   sodium_100g  \\\n",
       "count  2.486530e+05   7.223050e+05  7.090150e+05  7.089740e+05   \n",
       "mean   2.122561e+02   1.313906e+02  1.164393e+02  4.679614e+01   \n",
       "std    1.020974e+05   1.044948e+05  9.606399e+04  3.842717e+04   \n",
       "min   -6.700000e+00  -8.000000e+02  0.000000e+00  0.000000e+00   \n",
       "25%    0.000000e+00   1.100000e+00  6.000000e-02  2.400000e-02   \n",
       "50%    1.500000e+00   5.700000e+00  5.300000e-01  2.116000e-01   \n",
       "75%    3.600000e+00   1.200000e+01  1.370000e+00  5.445760e-01   \n",
       "max    5.089889e+07   8.880858e+07  8.088869e+07  3.235548e+07   \n",
       "\n",
       "       nutrition-score-fr_100g  nutrition-score-uk_100g  \n",
       "count            217645.000000            217645.000000  \n",
       "mean                  9.509251                 9.291833  \n",
       "std                   8.712979                 9.203235  \n",
       "min                 -15.000000               -15.000000  \n",
       "25%                   2.000000                 1.000000  \n",
       "50%                  10.000000                10.000000  \n",
       "75%                  16.000000                17.000000  \n",
       "max                  40.000000                40.000000  "
      ]
     },
     "execution_count": 25,
     "metadata": {},
     "output_type": "execute_result"
    }
   ],
   "source": [
    "nutrition_facts_thresh_df.describe()"
   ]
  },
  {
   "cell_type": "markdown",
   "metadata": {},
   "source": [
    "Well, It seems that there is no difference between the `nutrition-score-fr_100g` and `nutrition-score-uk_100g`. Let's analyse that. "
   ]
  },
  {
   "cell_type": "code",
   "execution_count": 26,
   "metadata": {},
   "outputs": [
    {
     "data": {
      "image/png": "[encoded data removed]",
      "text/plain": [
       "<Figure size 576x360 with 2 Axes>"
      ]
     },
     "metadata": {
      "needs_background": "light"
     },
     "output_type": "display_data"
    }
   ],
   "source": [
    "nutrition_facts_thresh_df[['nutrition-score-fr_100g','nutrition-score-uk_100g']].select_dtypes(include=float).plot(kind='box', subplots=True, title='Nutrition score uk and fr boxplots', figsize=(8,5))\n",
    "\n",
    "plt.show()"
   ]
  },
  {
   "cell_type": "markdown",
   "metadata": {},
   "source": [
    "As expected, the two scores has the same distribution except some outliers in the `nutrition-score-fr_100g`."
   ]
  },
  {
   "cell_type": "markdown",
   "metadata": {},
   "source": [
    "#### Dealing with outliers\n",
    "\n",
    "Visualizing the stats. We see a huge number of outliers in the dataset after looking to min, max, mean and standard deviation of each feature.\n",
    "All the ingredient features should have a reasonable value <=100g except the energy which is expressed in kJ. "
   ]
  },
  {
   "cell_type": "markdown",
   "metadata": {},
   "source": [
    "First, the column `serving_quantity` is not an ingredient. It can be dropped "
   ]
  },
  {
   "cell_type": "code",
   "execution_count": 27,
   "metadata": {},
   "outputs": [],
   "source": [
    "nutrition_facts_thresh_df=nutrition_facts_thresh_df.drop(columns=['serving_quantity'])"
   ]
  },
  {
   "cell_type": "code",
   "execution_count": 28,
   "metadata": {},
   "outputs": [],
   "source": [
    "# storing the columns fields in a list\n",
    "fields=list(nutrition_facts_thresh_df.columns)"
   ]
  },
  {
   "cell_type": "markdown",
   "metadata": {},
   "source": [
    "Let us now remove the outliers. All nutrition feautres should have a value <=100g (except energy_100g)"
   ]
  },
  {
   "cell_type": "code",
   "execution_count": 29,
   "metadata": {},
   "outputs": [],
   "source": [
    "nutrition_facts_clean_df= nutrition_facts_thresh_df[(nutrition_facts_thresh_df\n",
    "                                                      [nutrition_facts_thresh_df.columns.difference(['energy_100g'])] <= 100.0).all(1)]\n"
   ]
  },
  {
   "cell_type": "markdown",
   "metadata": {},
   "source": [
    "Negative values can not be possible. Except for the nutrition score that is by definition defined between -14 and 40 "
   ]
  },
  {
   "cell_type": "code",
   "execution_count": 30,
   "metadata": {},
   "outputs": [],
   "source": [
    "\n",
    "nutrition_facts_clean_df = nutrition_facts_clean_df[(nutrition_facts_clean_df[nutrition_facts_clean_df.columns.difference(['nutrition_score_fr_100g', 'nutrition_score_uk_100g'])] >= 0).all(1)]"
   ]
  },
  {
   "cell_type": "code",
   "execution_count": 31,
   "metadata": {
    "scrolled": true
   },
   "outputs": [
    {
     "name": "stdout",
     "output_type": "stream",
     "text": [
      "We have only 51160 rows left\n"
     ]
    }
   ],
   "source": [
    "print(\"We have only {} rows left\".format(nutrition_facts_clean_df.shape[0]))"
   ]
  },
  {
   "cell_type": "markdown",
   "metadata": {},
   "source": [
    "We lost a huge number of rows by removing the outliers. The dataset is highly corrupted in terms of ingredients.  We are going to see later if this number of samples is enough to have significant results. "
   ]
  },
  {
   "cell_type": "code",
   "execution_count": 32,
   "metadata": {
    "scrolled": true
   },
   "outputs": [
    {
     "data": {
      "text/html": [
       "<div>\n",
       "<style scoped>\n",
       "    .dataframe tbody tr th:only-of-type {\n",
       "        vertical-align: middle;\n",
       "    }\n",
       "\n",
       "    .dataframe tbody tr th {\n",
       "        vertical-align: top;\n",
       "    }\n",
       "\n",
       "    .dataframe thead th {\n",
       "        text-align: right;\n",
       "    }\n",
       "</style>\n",
       "<table border=\"1\" class=\"dataframe\">\n",
       "  <thead>\n",
       "    <tr style=\"text-align: right;\">\n",
       "      <th></th>\n",
       "      <th>additives_n</th>\n",
       "      <th>ingredients_from_palm_oil_n</th>\n",
       "      <th>ingredients_that_may_be_from_palm_oil_n</th>\n",
       "      <th>nova_group</th>\n",
       "      <th>energy_100g</th>\n",
       "      <th>fat_100g</th>\n",
       "      <th>saturated-fat_100g</th>\n",
       "      <th>carbohydrates_100g</th>\n",
       "      <th>sugars_100g</th>\n",
       "      <th>fiber_100g</th>\n",
       "      <th>proteins_100g</th>\n",
       "      <th>salt_100g</th>\n",
       "      <th>sodium_100g</th>\n",
       "      <th>nutrition-score-fr_100g</th>\n",
       "      <th>nutrition-score-uk_100g</th>\n",
       "    </tr>\n",
       "    <tr>\n",
       "      <th>code</th>\n",
       "      <th></th>\n",
       "      <th></th>\n",
       "      <th></th>\n",
       "      <th></th>\n",
       "      <th></th>\n",
       "      <th></th>\n",
       "      <th></th>\n",
       "      <th></th>\n",
       "      <th></th>\n",
       "      <th></th>\n",
       "      <th></th>\n",
       "      <th></th>\n",
       "      <th></th>\n",
       "      <th></th>\n",
       "      <th></th>\n",
       "    </tr>\n",
       "  </thead>\n",
       "  <tbody>\n",
       "    <tr>\n",
       "      <td>0000000043595</td>\n",
       "      <td>0.0</td>\n",
       "      <td>0.0</td>\n",
       "      <td>0.0</td>\n",
       "      <td>3.0</td>\n",
       "      <td>1255.0</td>\n",
       "      <td>0.00</td>\n",
       "      <td>0.00</td>\n",
       "      <td>83.33</td>\n",
       "      <td>66.67</td>\n",
       "      <td>10.0</td>\n",
       "      <td>0.00</td>\n",
       "      <td>0.00000</td>\n",
       "      <td>0.000000</td>\n",
       "      <td>3.0</td>\n",
       "      <td>3.0</td>\n",
       "    </tr>\n",
       "    <tr>\n",
       "      <td>0000000274722</td>\n",
       "      <td>2.0</td>\n",
       "      <td>0.0</td>\n",
       "      <td>0.0</td>\n",
       "      <td>4.0</td>\n",
       "      <td>450.0</td>\n",
       "      <td>2.20</td>\n",
       "      <td>0.90</td>\n",
       "      <td>15.30</td>\n",
       "      <td>0.50</td>\n",
       "      <td>0.5</td>\n",
       "      <td>6.80</td>\n",
       "      <td>0.70000</td>\n",
       "      <td>0.280000</td>\n",
       "      <td>0.0</td>\n",
       "      <td>0.0</td>\n",
       "    </tr>\n",
       "    <tr>\n",
       "      <td>0000000491228</td>\n",
       "      <td>4.0</td>\n",
       "      <td>0.0</td>\n",
       "      <td>2.0</td>\n",
       "      <td>4.0</td>\n",
       "      <td>1952.4</td>\n",
       "      <td>15.30</td>\n",
       "      <td>11.20</td>\n",
       "      <td>75.50</td>\n",
       "      <td>69.80</td>\n",
       "      <td>0.1</td>\n",
       "      <td>6.80</td>\n",
       "      <td>0.50000</td>\n",
       "      <td>0.200000</td>\n",
       "      <td>2.0</td>\n",
       "      <td>2.0</td>\n",
       "    </tr>\n",
       "    <tr>\n",
       "      <td>0000010206515</td>\n",
       "      <td>5.0</td>\n",
       "      <td>0.0</td>\n",
       "      <td>2.0</td>\n",
       "      <td>4.0</td>\n",
       "      <td>1720.0</td>\n",
       "      <td>6.42</td>\n",
       "      <td>3.53</td>\n",
       "      <td>87.86</td>\n",
       "      <td>81.67</td>\n",
       "      <td>0.0</td>\n",
       "      <td>0.03</td>\n",
       "      <td>0.10000</td>\n",
       "      <td>0.040000</td>\n",
       "      <td>18.0</td>\n",
       "      <td>18.0</td>\n",
       "    </tr>\n",
       "    <tr>\n",
       "      <td>0000020043131</td>\n",
       "      <td>0.0</td>\n",
       "      <td>0.0</td>\n",
       "      <td>0.0</td>\n",
       "      <td>3.0</td>\n",
       "      <td>1527.0</td>\n",
       "      <td>1.18</td>\n",
       "      <td>0.00</td>\n",
       "      <td>71.76</td>\n",
       "      <td>4.71</td>\n",
       "      <td>2.4</td>\n",
       "      <td>12.94</td>\n",
       "      <td>1.19634</td>\n",
       "      <td>0.478536</td>\n",
       "      <td>3.0</td>\n",
       "      <td>3.0</td>\n",
       "    </tr>\n",
       "    <tr>\n",
       "      <td>0000020045791</td>\n",
       "      <td>2.0</td>\n",
       "      <td>0.0</td>\n",
       "      <td>0.0</td>\n",
       "      <td>3.0</td>\n",
       "      <td>1749.0</td>\n",
       "      <td>21.76</td>\n",
       "      <td>5.29</td>\n",
       "      <td>51.76</td>\n",
       "      <td>32.94</td>\n",
       "      <td>2.4</td>\n",
       "      <td>5.88</td>\n",
       "      <td>0.67310</td>\n",
       "      <td>0.269240</td>\n",
       "      <td>17.0</td>\n",
       "      <td>17.0</td>\n",
       "    </tr>\n",
       "    <tr>\n",
       "      <td>0000020047825</td>\n",
       "      <td>0.0</td>\n",
       "      <td>0.0</td>\n",
       "      <td>1.0</td>\n",
       "      <td>3.0</td>\n",
       "      <td>1623.0</td>\n",
       "      <td>22.35</td>\n",
       "      <td>11.76</td>\n",
       "      <td>42.35</td>\n",
       "      <td>15.29</td>\n",
       "      <td>2.4</td>\n",
       "      <td>4.71</td>\n",
       "      <td>0.80772</td>\n",
       "      <td>0.323088</td>\n",
       "      <td>18.0</td>\n",
       "      <td>18.0</td>\n",
       "    </tr>\n",
       "    <tr>\n",
       "      <td>0000030053014</td>\n",
       "      <td>2.0</td>\n",
       "      <td>0.0</td>\n",
       "      <td>0.0</td>\n",
       "      <td>4.0</td>\n",
       "      <td>1046.0</td>\n",
       "      <td>0.00</td>\n",
       "      <td>0.00</td>\n",
       "      <td>95.00</td>\n",
       "      <td>0.00</td>\n",
       "      <td>0.0</td>\n",
       "      <td>0.00</td>\n",
       "      <td>0.00000</td>\n",
       "      <td>0.000000</td>\n",
       "      <td>3.0</td>\n",
       "      <td>3.0</td>\n",
       "    </tr>\n",
       "    <tr>\n",
       "      <td>0000040144078</td>\n",
       "      <td>2.0</td>\n",
       "      <td>0.0</td>\n",
       "      <td>1.0</td>\n",
       "      <td>4.0</td>\n",
       "      <td>2360.0</td>\n",
       "      <td>30.50</td>\n",
       "      <td>18.80</td>\n",
       "      <td>51.60</td>\n",
       "      <td>51.60</td>\n",
       "      <td>0.0</td>\n",
       "      <td>0.00</td>\n",
       "      <td>2.23000</td>\n",
       "      <td>0.892000</td>\n",
       "      <td>36.0</td>\n",
       "      <td>36.0</td>\n",
       "    </tr>\n",
       "    <tr>\n",
       "      <td>0000069006562</td>\n",
       "      <td>0.0</td>\n",
       "      <td>1.0</td>\n",
       "      <td>0.0</td>\n",
       "      <td>4.0</td>\n",
       "      <td>573.0</td>\n",
       "      <td>3.10</td>\n",
       "      <td>1.60</td>\n",
       "      <td>24.00</td>\n",
       "      <td>0.80</td>\n",
       "      <td>2.2</td>\n",
       "      <td>2.20</td>\n",
       "      <td>1.00000</td>\n",
       "      <td>0.400000</td>\n",
       "      <td>3.0</td>\n",
       "      <td>3.0</td>\n",
       "    </tr>\n",
       "  </tbody>\n",
       "</table>\n",
       "</div>"
      ],
      "text/plain": [
       "               additives_n  ingredients_from_palm_oil_n  \\\n",
       "code                                                      \n",
       "0000000043595          0.0                          0.0   \n",
       "0000000274722          2.0                          0.0   \n",
       "0000000491228          4.0                          0.0   \n",
       "0000010206515          5.0                          0.0   \n",
       "0000020043131          0.0                          0.0   \n",
       "0000020045791          2.0                          0.0   \n",
       "0000020047825          0.0                          0.0   \n",
       "0000030053014          2.0                          0.0   \n",
       "0000040144078          2.0                          0.0   \n",
       "0000069006562          0.0                          1.0   \n",
       "\n",
       "               ingredients_that_may_be_from_palm_oil_n  nova_group  \\\n",
       "code                                                                 \n",
       "0000000043595                                      0.0         3.0   \n",
       "0000000274722                                      0.0         4.0   \n",
       "0000000491228                                      2.0         4.0   \n",
       "0000010206515                                      2.0         4.0   \n",
       "0000020043131                                      0.0         3.0   \n",
       "0000020045791                                      0.0         3.0   \n",
       "0000020047825                                      1.0         3.0   \n",
       "0000030053014                                      0.0         4.0   \n",
       "0000040144078                                      1.0         4.0   \n",
       "0000069006562                                      0.0         4.0   \n",
       "\n",
       "               energy_100g  fat_100g  saturated-fat_100g  carbohydrates_100g  \\\n",
       "code                                                                           \n",
       "0000000043595       1255.0      0.00                0.00               83.33   \n",
       "0000000274722        450.0      2.20                0.90               15.30   \n",
       "0000000491228       1952.4     15.30               11.20               75.50   \n",
       "0000010206515       1720.0      6.42                3.53               87.86   \n",
       "0000020043131       1527.0      1.18                0.00               71.76   \n",
       "0000020045791       1749.0     21.76                5.29               51.76   \n",
       "0000020047825       1623.0     22.35               11.76               42.35   \n",
       "0000030053014       1046.0      0.00                0.00               95.00   \n",
       "0000040144078       2360.0     30.50               18.80               51.60   \n",
       "0000069006562        573.0      3.10                1.60               24.00   \n",
       "\n",
       "               sugars_100g  fiber_100g  proteins_100g  salt_100g  sodium_100g  \\\n",
       "code                                                                            \n",
       "0000000043595        66.67        10.0           0.00    0.00000     0.000000   \n",
       "0000000274722         0.50         0.5           6.80    0.70000     0.280000   \n",
       "0000000491228        69.80         0.1           6.80    0.50000     0.200000   \n",
       "0000010206515        81.67         0.0           0.03    0.10000     0.040000   \n",
       "0000020043131         4.71         2.4          12.94    1.19634     0.478536   \n",
       "0000020045791        32.94         2.4           5.88    0.67310     0.269240   \n",
       "0000020047825        15.29         2.4           4.71    0.80772     0.323088   \n",
       "0000030053014         0.00         0.0           0.00    0.00000     0.000000   \n",
       "0000040144078        51.60         0.0           0.00    2.23000     0.892000   \n",
       "0000069006562         0.80         2.2           2.20    1.00000     0.400000   \n",
       "\n",
       "               nutrition-score-fr_100g  nutrition-score-uk_100g  \n",
       "code                                                             \n",
       "0000000043595                      3.0                      3.0  \n",
       "0000000274722                      0.0                      0.0  \n",
       "0000000491228                      2.0                      2.0  \n",
       "0000010206515                     18.0                     18.0  \n",
       "0000020043131                      3.0                      3.0  \n",
       "0000020045791                     17.0                     17.0  \n",
       "0000020047825                     18.0                     18.0  \n",
       "0000030053014                      3.0                      3.0  \n",
       "0000040144078                     36.0                     36.0  \n",
       "0000069006562                      3.0                      3.0  "
      ]
     },
     "execution_count": 32,
     "metadata": {},
     "output_type": "execute_result"
    }
   ],
   "source": [
    "nutrition_facts_clean_df.head(10)"
   ]
  },
  {
   "cell_type": "markdown",
   "metadata": {},
   "source": [
    "We lost a huge number of rows but the dataset is now very clean !! "
   ]
  },
  {
   "cell_type": "markdown",
   "metadata": {},
   "source": [
    "### Data exploration"
   ]
  },
  {
   "cell_type": "markdown",
   "metadata": {},
   "source": [
    "Now we have a clean dataset. Our strategy to find the impact of each variable on the nutrition score is the following: \n",
    "\n",
    "* 1) Correlation analysis between the variables \n",
    "* 2) Performing ordinary least square (OLS) regression using statsmodel \n",
    "* 3) Coefficient analysis\n"
   ]
  },
  {
   "cell_type": "markdown",
   "metadata": {},
   "source": [
    "Before analyzing the impact of our variables on the nutrition score, we need to normalize our data by removing the mean and dividng by the standard deviation "
   ]
  },
  {
   "cell_type": "code",
   "execution_count": 33,
   "metadata": {},
   "outputs": [],
   "source": [
    "nutrition_facts_clean_df = nutrition_facts_clean_df.select_dtypes(include=float).transform(lambda x: (x - x.mean()) / x.std())"
   ]
  },
  {
   "cell_type": "markdown",
   "metadata": {},
   "source": [
    "We can check now if the mean of our variables is close to zero and the standard deviation is close to 1. "
   ]
  },
  {
   "cell_type": "code",
   "execution_count": 34,
   "metadata": {},
   "outputs": [
    {
     "data": {
      "text/html": [
       "<div>\n",
       "<style scoped>\n",
       "    .dataframe tbody tr th:only-of-type {\n",
       "        vertical-align: middle;\n",
       "    }\n",
       "\n",
       "    .dataframe tbody tr th {\n",
       "        vertical-align: top;\n",
       "    }\n",
       "\n",
       "    .dataframe thead th {\n",
       "        text-align: right;\n",
       "    }\n",
       "</style>\n",
       "<table border=\"1\" class=\"dataframe\">\n",
       "  <thead>\n",
       "    <tr style=\"text-align: right;\">\n",
       "      <th></th>\n",
       "      <th>additives_n</th>\n",
       "      <th>ingredients_from_palm_oil_n</th>\n",
       "      <th>ingredients_that_may_be_from_palm_oil_n</th>\n",
       "      <th>nova_group</th>\n",
       "      <th>energy_100g</th>\n",
       "      <th>fat_100g</th>\n",
       "      <th>saturated-fat_100g</th>\n",
       "      <th>carbohydrates_100g</th>\n",
       "      <th>sugars_100g</th>\n",
       "      <th>fiber_100g</th>\n",
       "      <th>proteins_100g</th>\n",
       "      <th>salt_100g</th>\n",
       "      <th>sodium_100g</th>\n",
       "      <th>nutrition-score-fr_100g</th>\n",
       "      <th>nutrition-score-uk_100g</th>\n",
       "    </tr>\n",
       "  </thead>\n",
       "  <tbody>\n",
       "    <tr>\n",
       "      <td>count</td>\n",
       "      <td>5.116000e+04</td>\n",
       "      <td>5.116000e+04</td>\n",
       "      <td>5.116000e+04</td>\n",
       "      <td>5.116000e+04</td>\n",
       "      <td>5.116000e+04</td>\n",
       "      <td>5.116000e+04</td>\n",
       "      <td>5.116000e+04</td>\n",
       "      <td>5.116000e+04</td>\n",
       "      <td>5.116000e+04</td>\n",
       "      <td>5.116000e+04</td>\n",
       "      <td>5.116000e+04</td>\n",
       "      <td>5.116000e+04</td>\n",
       "      <td>5.116000e+04</td>\n",
       "      <td>5.116000e+04</td>\n",
       "      <td>5.116000e+04</td>\n",
       "    </tr>\n",
       "    <tr>\n",
       "      <td>mean</td>\n",
       "      <td>-4.155539e-15</td>\n",
       "      <td>1.462698e-14</td>\n",
       "      <td>4.935030e-14</td>\n",
       "      <td>7.590488e-15</td>\n",
       "      <td>7.866872e-16</td>\n",
       "      <td>1.495354e-14</td>\n",
       "      <td>-1.113358e-14</td>\n",
       "      <td>-2.107991e-15</td>\n",
       "      <td>1.511201e-15</td>\n",
       "      <td>-7.704028e-15</td>\n",
       "      <td>-4.647088e-15</td>\n",
       "      <td>2.043679e-14</td>\n",
       "      <td>-5.278663e-14</td>\n",
       "      <td>-1.167946e-15</td>\n",
       "      <td>3.520967e-15</td>\n",
       "    </tr>\n",
       "    <tr>\n",
       "      <td>std</td>\n",
       "      <td>1.000000e+00</td>\n",
       "      <td>1.000000e+00</td>\n",
       "      <td>1.000000e+00</td>\n",
       "      <td>1.000000e+00</td>\n",
       "      <td>1.000000e+00</td>\n",
       "      <td>1.000000e+00</td>\n",
       "      <td>1.000000e+00</td>\n",
       "      <td>1.000000e+00</td>\n",
       "      <td>1.000000e+00</td>\n",
       "      <td>1.000000e+00</td>\n",
       "      <td>1.000000e+00</td>\n",
       "      <td>1.000000e+00</td>\n",
       "      <td>1.000000e+00</td>\n",
       "      <td>1.000000e+00</td>\n",
       "      <td>1.000000e+00</td>\n",
       "    </tr>\n",
       "    <tr>\n",
       "      <td>min</td>\n",
       "      <td>-8.305190e-01</td>\n",
       "      <td>-2.361537e-01</td>\n",
       "      <td>-2.923363e-01</td>\n",
       "      <td>-3.353480e+00</td>\n",
       "      <td>-1.573062e+00</td>\n",
       "      <td>-8.979809e-01</td>\n",
       "      <td>-7.302076e-01</td>\n",
       "      <td>-1.166672e+00</td>\n",
       "      <td>-8.061611e-01</td>\n",
       "      <td>-6.567236e-01</td>\n",
       "      <td>-9.161775e-01</td>\n",
       "      <td>-3.865021e-01</td>\n",
       "      <td>-3.842646e-01</td>\n",
       "      <td>-1.468158e+00</td>\n",
       "      <td>-1.348280e+00</td>\n",
       "    </tr>\n",
       "    <tr>\n",
       "      <td>25%</td>\n",
       "      <td>-8.305190e-01</td>\n",
       "      <td>-2.361537e-01</td>\n",
       "      <td>-2.923363e-01</td>\n",
       "      <td>-7.443197e-01</td>\n",
       "      <td>-8.512438e-01</td>\n",
       "      <td>-7.780218e-01</td>\n",
       "      <td>-6.795619e-01</td>\n",
       "      <td>-9.237702e-01</td>\n",
       "      <td>-7.333562e-01</td>\n",
       "      <td>-6.567236e-01</td>\n",
       "      <td>-6.937650e-01</td>\n",
       "      <td>-3.491158e-01</td>\n",
       "      <td>-3.502753e-01</td>\n",
       "      <td>-9.272379e-01</td>\n",
       "      <td>-9.634005e-01</td>\n",
       "    </tr>\n",
       "    <tr>\n",
       "      <td>50%</td>\n",
       "      <td>-4.057402e-01</td>\n",
       "      <td>-2.361537e-01</td>\n",
       "      <td>-2.923363e-01</td>\n",
       "      <td>5.602606e-01</td>\n",
       "      <td>-7.563298e-02</td>\n",
       "      <td>-3.038980e-01</td>\n",
       "      <td>-3.630268e-01</td>\n",
       "      <td>-2.873684e-01</td>\n",
       "      <td>-4.808627e-01</td>\n",
       "      <td>-2.994465e-01</td>\n",
       "      <td>-2.372340e-01</td>\n",
       "      <td>-1.485895e-01</td>\n",
       "      <td>-1.463399e-01</td>\n",
       "      <td>1.937258e-02</td>\n",
       "      <td>6.294544e-02</td>\n",
       "    </tr>\n",
       "    <tr>\n",
       "      <td>75%</td>\n",
       "      <td>4.438175e-01</td>\n",
       "      <td>-2.361537e-01</td>\n",
       "      <td>-2.923363e-01</td>\n",
       "      <td>5.602606e-01</td>\n",
       "      <td>7.512683e-01</td>\n",
       "      <td>4.729795e-01</td>\n",
       "      <td>3.080277e-01</td>\n",
       "      <td>8.886483e-01</td>\n",
       "      <td>4.847056e-01</td>\n",
       "      <td>2.227276e-01</td>\n",
       "      <td>2.427087e-01</td>\n",
       "      <td>7.232929e-02</td>\n",
       "      <td>6.898200e-02</td>\n",
       "      <td>6.955229e-01</td>\n",
       "      <td>8.327049e-01</td>\n",
       "    </tr>\n",
       "    <tr>\n",
       "      <td>max</td>\n",
       "      <td>9.364173e+00</td>\n",
       "      <td>8.443173e+00</td>\n",
       "      <td>1.174947e+01</td>\n",
       "      <td>5.602606e-01</td>\n",
       "      <td>2.182286e+01</td>\n",
       "      <td>4.814354e+00</td>\n",
       "      <td>1.193120e+01</td>\n",
       "      <td>2.570274e+00</td>\n",
       "      <td>4.357306e+00</td>\n",
       "      <td>2.682612e+01</td>\n",
       "      <td>1.067268e+01</td>\n",
       "      <td>3.360101e+01</td>\n",
       "      <td>3.360498e+01</td>\n",
       "      <td>3.941044e+00</td>\n",
       "      <td>3.526863e+00</td>\n",
       "    </tr>\n",
       "  </tbody>\n",
       "</table>\n",
       "</div>"
      ],
      "text/plain": [
       "        additives_n  ingredients_from_palm_oil_n  \\\n",
       "count  5.116000e+04                 5.116000e+04   \n",
       "mean  -4.155539e-15                 1.462698e-14   \n",
       "std    1.000000e+00                 1.000000e+00   \n",
       "min   -8.305190e-01                -2.361537e-01   \n",
       "25%   -8.305190e-01                -2.361537e-01   \n",
       "50%   -4.057402e-01                -2.361537e-01   \n",
       "75%    4.438175e-01                -2.361537e-01   \n",
       "max    9.364173e+00                 8.443173e+00   \n",
       "\n",
       "       ingredients_that_may_be_from_palm_oil_n    nova_group   energy_100g  \\\n",
       "count                             5.116000e+04  5.116000e+04  5.116000e+04   \n",
       "mean                              4.935030e-14  7.590488e-15  7.866872e-16   \n",
       "std                               1.000000e+00  1.000000e+00  1.000000e+00   \n",
       "min                              -2.923363e-01 -3.353480e+00 -1.573062e+00   \n",
       "25%                              -2.923363e-01 -7.443197e-01 -8.512438e-01   \n",
       "50%                              -2.923363e-01  5.602606e-01 -7.563298e-02   \n",
       "75%                              -2.923363e-01  5.602606e-01  7.512683e-01   \n",
       "max                               1.174947e+01  5.602606e-01  2.182286e+01   \n",
       "\n",
       "           fat_100g  saturated-fat_100g  carbohydrates_100g   sugars_100g  \\\n",
       "count  5.116000e+04        5.116000e+04        5.116000e+04  5.116000e+04   \n",
       "mean   1.495354e-14       -1.113358e-14       -2.107991e-15  1.511201e-15   \n",
       "std    1.000000e+00        1.000000e+00        1.000000e+00  1.000000e+00   \n",
       "min   -8.979809e-01       -7.302076e-01       -1.166672e+00 -8.061611e-01   \n",
       "25%   -7.780218e-01       -6.795619e-01       -9.237702e-01 -7.333562e-01   \n",
       "50%   -3.038980e-01       -3.630268e-01       -2.873684e-01 -4.808627e-01   \n",
       "75%    4.729795e-01        3.080277e-01        8.886483e-01  4.847056e-01   \n",
       "max    4.814354e+00        1.193120e+01        2.570274e+00  4.357306e+00   \n",
       "\n",
       "         fiber_100g  proteins_100g     salt_100g   sodium_100g  \\\n",
       "count  5.116000e+04   5.116000e+04  5.116000e+04  5.116000e+04   \n",
       "mean  -7.704028e-15  -4.647088e-15  2.043679e-14 -5.278663e-14   \n",
       "std    1.000000e+00   1.000000e+00  1.000000e+00  1.000000e+00   \n",
       "min   -6.567236e-01  -9.161775e-01 -3.865021e-01 -3.842646e-01   \n",
       "25%   -6.567236e-01  -6.937650e-01 -3.491158e-01 -3.502753e-01   \n",
       "50%   -2.994465e-01  -2.372340e-01 -1.485895e-01 -1.463399e-01   \n",
       "75%    2.227276e-01   2.427087e-01  7.232929e-02  6.898200e-02   \n",
       "max    2.682612e+01   1.067268e+01  3.360101e+01  3.360498e+01   \n",
       "\n",
       "       nutrition-score-fr_100g  nutrition-score-uk_100g  \n",
       "count             5.116000e+04             5.116000e+04  \n",
       "mean             -1.167946e-15             3.520967e-15  \n",
       "std               1.000000e+00             1.000000e+00  \n",
       "min              -1.468158e+00            -1.348280e+00  \n",
       "25%              -9.272379e-01            -9.634005e-01  \n",
       "50%               1.937258e-02             6.294544e-02  \n",
       "75%               6.955229e-01             8.327049e-01  \n",
       "max               3.941044e+00             3.526863e+00  "
      ]
     },
     "execution_count": 34,
     "metadata": {},
     "output_type": "execute_result"
    }
   ],
   "source": [
    "nutrition_facts_clean_df.describe()"
   ]
  },
  {
   "cell_type": "markdown",
   "metadata": {},
   "source": [
    "Great! our data is now ready for the analysis on the impact of our variables on the nutrition score."
   ]
  },
  {
   "cell_type": "markdown",
   "metadata": {},
   "source": [
    "Before doing so, let's see the correlation between variables visualized in a heatmap."
   ]
  },
  {
   "cell_type": "markdown",
   "metadata": {},
   "source": [
    "#### Correlation analysis"
   ]
  },
  {
   "cell_type": "code",
   "execution_count": 37,
   "metadata": {},
   "outputs": [
    {
     "data": {
      "text/plain": [
       "<matplotlib.axes._subplots.AxesSubplot at 0x25da6b2d518>"
      ]
     },
     "execution_count": 37,
     "metadata": {},
     "output_type": "execute_result"
    },
    {
     "data": {
      "image/png": "[encoded data removed]",
      "text/plain": [
       "<Figure size 720x720 with 2 Axes>"
      ]
     },
     "metadata": {
      "needs_background": "light"
     },
     "output_type": "display_data"
    }
   ],
   "source": [
    "correlation_variables = nutrition_facts_clean_df.corr(method = \"pearson\")\n",
    "\n",
    "f, ax = plt.subplots(figsize=(10, 10))\n",
    "\n",
    "sns.heatmap(correlation_variables, mask=np.zeros_like(correlation_variables, dtype=np.bool),cmap=sns.diverging_palette(200, 10, as_cmap=True), square=True, ax=ax)"
   ]
  },
  {
   "cell_type": "markdown",
   "metadata": {},
   "source": [
    "From the plot of correlation above we can confirm first that `nutrition-score-fr_100g` and `nutrition-score-uk_100g` are nearly the same.    \n",
    "We can see also a  correlation equal to 1 between `sodium_100g` and `salt_100g`. This is why we will drop the column `sodium_100g` to avoid redundancy. "
   ]
  },
  {
   "cell_type": "code",
   "execution_count": 38,
   "metadata": {},
   "outputs": [],
   "source": [
    "#We drop sodium column. \n",
    "nutrition_facts_clean_df=nutrition_facts_clean_df.drop(columns=['sodium_100g'])\n",
    "fields_left=nutrition_facts_clean_df.columns"
   ]
  },
  {
   "cell_type": "code",
   "execution_count": 41,
   "metadata": {},
   "outputs": [],
   "source": [
    "#We drop one of the nutrition scores \n",
    "nutrition_facts_clean_df=nutrition_facts_clean_df.drop(columns=['nutrition-score-uk_100g'])\n"
   ]
  },
  {
   "cell_type": "code",
   "execution_count": 42,
   "metadata": {},
   "outputs": [],
   "source": [
    "fields_left=nutrition_facts_clean_df.columns"
   ]
  },
  {
   "cell_type": "markdown",
   "metadata": {},
   "source": [
    "Let's see the heatmap again. "
   ]
  },
  {
   "cell_type": "code",
   "execution_count": 43,
   "metadata": {},
   "outputs": [
    {
     "data": {
      "text/plain": [
       "<matplotlib.axes._subplots.AxesSubplot at 0x25dab505390>"
      ]
     },
     "execution_count": 43,
     "metadata": {},
     "output_type": "execute_result"
    },
    {
     "data": {
      "image/png": "[encoded data removed]",
      "text/plain": [
       "<Figure size 720x720 with 2 Axes>"
      ]
     },
     "metadata": {
      "needs_background": "light"
     },
     "output_type": "display_data"
    }
   ],
   "source": [
    "#calculating pearson correlation\n",
    "correlation_variables = nutrition_facts_clean_df.corr(method = \"pearson\")\n",
    "\n",
    "f, ax = plt.subplots(figsize=(10, 10))\n",
    "\n",
    "#we draw the heatmap using seaborn\n",
    "sns.heatmap(correlation_variables, mask=np.zeros_like(correlation_variables, dtype=np.bool),cmap=sns.diverging_palette(200, 10, as_cmap=True), square=True, ax=ax)"
   ]
  },
  {
   "cell_type": "markdown",
   "metadata": {},
   "source": [
    "By looking at the heatmap, we can already see that `energey_100g`, `fat_100g`, `saturated_fat_100g` and `sugar_100g` have the highest correlation on the nutrition score.\n"
   ]
  },
  {
   "cell_type": "markdown",
   "metadata": {},
   "source": [
    "Now everything is ready. What we want to do is to find the impact of each ingredient on the nutrition score. One way to do that is a regression. It allows us to see the impact of each variable on this score by looking to the weights. "
   ]
  },
  {
   "cell_type": "markdown",
   "metadata": {},
   "source": [
    "#### OLS Regression"
   ]
  },
  {
   "cell_type": "markdown",
   "metadata": {},
   "source": [
    "Let's prepare our formula for the regression: "
   ]
  },
  {
   "cell_type": "markdown",
   "metadata": {},
   "source": [
    "We rename the columns by replacing '-' by '_'. This will allow us to create the formula for the statsmodel regression since'-' is interpreted as a math operation while definiing the formula as a string. "
   ]
  },
  {
   "cell_type": "code",
   "execution_count": 52,
   "metadata": {},
   "outputs": [],
   "source": [
    "for field in fields: \n",
    "    nutrition_facts_clean_df = nutrition_facts_clean_df.rename(columns={field: field.replace('-','_')})\n",
    "fields=nutrition_facts_clean_df.columns"
   ]
  },
  {
   "cell_type": "code",
   "execution_count": 53,
   "metadata": {
    "scrolled": false
   },
   "outputs": [
    {
     "data": {
      "text/html": [
       "<div>\n",
       "<style scoped>\n",
       "    .dataframe tbody tr th:only-of-type {\n",
       "        vertical-align: middle;\n",
       "    }\n",
       "\n",
       "    .dataframe tbody tr th {\n",
       "        vertical-align: top;\n",
       "    }\n",
       "\n",
       "    .dataframe thead th {\n",
       "        text-align: right;\n",
       "    }\n",
       "</style>\n",
       "<table border=\"1\" class=\"dataframe\">\n",
       "  <thead>\n",
       "    <tr style=\"text-align: right;\">\n",
       "      <th></th>\n",
       "      <th>additives_n</th>\n",
       "      <th>ingredients_from_palm_oil_n</th>\n",
       "      <th>ingredients_that_may_be_from_palm_oil_n</th>\n",
       "      <th>nova_group</th>\n",
       "      <th>energy_100g</th>\n",
       "      <th>fat_100g</th>\n",
       "      <th>saturated_fat_100g</th>\n",
       "      <th>carbohydrates_100g</th>\n",
       "      <th>sugars_100g</th>\n",
       "      <th>fiber_100g</th>\n",
       "      <th>proteins_100g</th>\n",
       "      <th>salt_100g</th>\n",
       "      <th>nutrition_score_fr_100g</th>\n",
       "    </tr>\n",
       "    <tr>\n",
       "      <th>code</th>\n",
       "      <th></th>\n",
       "      <th></th>\n",
       "      <th></th>\n",
       "      <th></th>\n",
       "      <th></th>\n",
       "      <th></th>\n",
       "      <th></th>\n",
       "      <th></th>\n",
       "      <th></th>\n",
       "      <th></th>\n",
       "      <th></th>\n",
       "      <th></th>\n",
       "      <th></th>\n",
       "    </tr>\n",
       "  </thead>\n",
       "  <tbody>\n",
       "    <tr>\n",
       "      <td>0000000043595</td>\n",
       "      <td>-0.830519</td>\n",
       "      <td>-0.236154</td>\n",
       "      <td>-0.292336</td>\n",
       "      <td>-0.744320</td>\n",
       "      <td>-0.003076</td>\n",
       "      <td>-0.897981</td>\n",
       "      <td>-0.730208</td>\n",
       "      <td>1.947325</td>\n",
       "      <td>2.636322</td>\n",
       "      <td>2.091561</td>\n",
       "      <td>-0.916177</td>\n",
       "      <td>-0.386502</td>\n",
       "      <td>-1.062468</td>\n",
       "    </tr>\n",
       "    <tr>\n",
       "      <td>0000000274722</td>\n",
       "      <td>0.019039</td>\n",
       "      <td>-0.236154</td>\n",
       "      <td>-0.292336</td>\n",
       "      <td>0.560261</td>\n",
       "      <td>-1.010119</td>\n",
       "      <td>-0.772310</td>\n",
       "      <td>-0.616255</td>\n",
       "      <td>-0.594919</td>\n",
       "      <td>-0.780344</td>\n",
       "      <td>-0.519309</td>\n",
       "      <td>-0.120175</td>\n",
       "      <td>-0.148590</td>\n",
       "      <td>-1.468158</td>\n",
       "    </tr>\n",
       "    <tr>\n",
       "      <td>0000000491228</td>\n",
       "      <td>0.868596</td>\n",
       "      <td>-0.236154</td>\n",
       "      <td>4.524387</td>\n",
       "      <td>0.560261</td>\n",
       "      <td>0.869361</td>\n",
       "      <td>-0.023994</td>\n",
       "      <td>0.687870</td>\n",
       "      <td>1.654722</td>\n",
       "      <td>2.797939</td>\n",
       "      <td>-0.629241</td>\n",
       "      <td>-0.120175</td>\n",
       "      <td>-0.216565</td>\n",
       "      <td>-1.197698</td>\n",
       "    </tr>\n",
       "    <tr>\n",
       "      <td>0000010206515</td>\n",
       "      <td>1.293375</td>\n",
       "      <td>-0.236154</td>\n",
       "      <td>4.524387</td>\n",
       "      <td>0.560261</td>\n",
       "      <td>0.578632</td>\n",
       "      <td>-0.531249</td>\n",
       "      <td>-0.283260</td>\n",
       "      <td>2.116609</td>\n",
       "      <td>3.410842</td>\n",
       "      <td>-0.656724</td>\n",
       "      <td>-0.912666</td>\n",
       "      <td>-0.352515</td>\n",
       "      <td>0.965983</td>\n",
       "    </tr>\n",
       "    <tr>\n",
       "      <td>0000020043131</td>\n",
       "      <td>-0.830519</td>\n",
       "      <td>-0.236154</td>\n",
       "      <td>-0.292336</td>\n",
       "      <td>-0.744320</td>\n",
       "      <td>0.337192</td>\n",
       "      <td>-0.830575</td>\n",
       "      <td>-0.730208</td>\n",
       "      <td>1.514960</td>\n",
       "      <td>-0.562962</td>\n",
       "      <td>0.002865</td>\n",
       "      <td>0.598569</td>\n",
       "      <td>0.020104</td>\n",
       "      <td>-1.062468</td>\n",
       "    </tr>\n",
       "  </tbody>\n",
       "</table>\n",
       "</div>"
      ],
      "text/plain": [
       "               additives_n  ingredients_from_palm_oil_n  \\\n",
       "code                                                      \n",
       "0000000043595    -0.830519                    -0.236154   \n",
       "0000000274722     0.019039                    -0.236154   \n",
       "0000000491228     0.868596                    -0.236154   \n",
       "0000010206515     1.293375                    -0.236154   \n",
       "0000020043131    -0.830519                    -0.236154   \n",
       "\n",
       "               ingredients_that_may_be_from_palm_oil_n  nova_group  \\\n",
       "code                                                                 \n",
       "0000000043595                                -0.292336   -0.744320   \n",
       "0000000274722                                -0.292336    0.560261   \n",
       "0000000491228                                 4.524387    0.560261   \n",
       "0000010206515                                 4.524387    0.560261   \n",
       "0000020043131                                -0.292336   -0.744320   \n",
       "\n",
       "               energy_100g  fat_100g  saturated_fat_100g  carbohydrates_100g  \\\n",
       "code                                                                           \n",
       "0000000043595    -0.003076 -0.897981           -0.730208            1.947325   \n",
       "0000000274722    -1.010119 -0.772310           -0.616255           -0.594919   \n",
       "0000000491228     0.869361 -0.023994            0.687870            1.654722   \n",
       "0000010206515     0.578632 -0.531249           -0.283260            2.116609   \n",
       "0000020043131     0.337192 -0.830575           -0.730208            1.514960   \n",
       "\n",
       "               sugars_100g  fiber_100g  proteins_100g  salt_100g  \\\n",
       "code                                                               \n",
       "0000000043595     2.636322    2.091561      -0.916177  -0.386502   \n",
       "0000000274722    -0.780344   -0.519309      -0.120175  -0.148590   \n",
       "0000000491228     2.797939   -0.629241      -0.120175  -0.216565   \n",
       "0000010206515     3.410842   -0.656724      -0.912666  -0.352515   \n",
       "0000020043131    -0.562962    0.002865       0.598569   0.020104   \n",
       "\n",
       "               nutrition_score_fr_100g  \n",
       "code                                    \n",
       "0000000043595                -1.062468  \n",
       "0000000274722                -1.468158  \n",
       "0000000491228                -1.197698  \n",
       "0000010206515                 0.965983  \n",
       "0000020043131                -1.062468  "
      ]
     },
     "execution_count": 53,
     "metadata": {},
     "output_type": "execute_result"
    }
   ],
   "source": [
    "nutrition_facts_clean_df.head()"
   ]
  },
  {
   "cell_type": "code",
   "execution_count": 57,
   "metadata": {},
   "outputs": [
    {
     "data": {
      "text/plain": [
       "Index(['additives_n', 'ingredients_from_palm_oil_n',\n",
       "       'ingredients_that_may_be_from_palm_oil_n', 'nova_group', 'energy_100g',\n",
       "       'fat_100g', 'saturated_fat_100g', 'carbohydrates_100g', 'sugars_100g',\n",
       "       'fiber_100g', 'proteins_100g', 'salt_100g', 'nutrition_score_fr_100g'],\n",
       "      dtype='object')"
      ]
     },
     "execution_count": 57,
     "metadata": {},
     "output_type": "execute_result"
    }
   ],
   "source": [
    "fields_left"
   ]
  },
  {
   "cell_type": "code",
   "execution_count": 58,
   "metadata": {},
   "outputs": [
    {
     "data": {
      "text/plain": [
       "'nutrition_score_fr_100g ~ additives_n+ingredients_from_palm_oil_n+ingredients_that_may_be_from_palm_oil_n+nova_group+energy_100g+fat_100g+saturated_fat_100g+carbohydrates_100g+sugars_100g+fiber_100g+proteins_100g+salt_100g'"
      ]
     },
     "execution_count": 58,
     "metadata": {},
     "output_type": "execute_result"
    }
   ],
   "source": [
    "# OLS regression formula \n",
    "fields_left=nutrition_facts_clean_df.columns\n",
    "formula_string=\"nutrition_score_fr_100g ~ \"\n",
    "for field in fields_left[:-1]:\n",
    "    formula_string=formula_string+field+\"+\"\n",
    "formula_string=formula_string[:-1]\n",
    "formula_string"
   ]
  },
  {
   "cell_type": "code",
   "execution_count": 59,
   "metadata": {
    "scrolled": true
   },
   "outputs": [
    {
     "name": "stdout",
     "output_type": "stream",
     "text": [
      "                               OLS Regression Results                              \n",
      "===================================================================================\n",
      "Dep. Variable:     nutrition_score_fr_100g   R-squared:                       0.599\n",
      "Model:                                 OLS   Adj. R-squared:                  0.599\n",
      "Method:                      Least Squares   F-statistic:                     6367.\n",
      "Date:                     Sun, 24 Nov 2019   Prob (F-statistic):               0.00\n",
      "Time:                             19:37:48   Log-Likelihood:                -49217.\n",
      "No. Observations:                    51160   AIC:                         9.846e+04\n",
      "Df Residuals:                        51147   BIC:                         9.858e+04\n",
      "Df Model:                               12                                         \n",
      "Covariance Type:                 nonrobust                                         \n",
      "===========================================================================================================\n",
      "                                              coef    std err          t      P>|t|      [0.025      0.975]\n",
      "-----------------------------------------------------------------------------------------------------------\n",
      "Intercept                                1.256e-15      0.003   4.49e-13      1.000      -0.005       0.005\n",
      "additives_n                                 0.0421      0.003     12.568      0.000       0.036       0.049\n",
      "ingredients_from_palm_oil_n                 0.0415      0.003     14.293      0.000       0.036       0.047\n",
      "ingredients_that_may_be_from_palm_oil_n    -0.0005      0.003     -0.177      0.860      -0.007       0.006\n",
      "nova_group                                  0.1160      0.003     36.847      0.000       0.110       0.122\n",
      "energy_100g                                 0.1749      0.011     16.619      0.000       0.154       0.195\n",
      "fat_100g                                    0.1565      0.009     16.729      0.000       0.138       0.175\n",
      "saturated_fat_100g                          0.3590      0.004     90.703      0.000       0.351       0.367\n",
      "carbohydrates_100g                          0.0449      0.007      6.306      0.000       0.031       0.059\n",
      "sugars_100g                                 0.3636      0.004     89.888      0.000       0.356       0.371\n",
      "fiber_100g                                 -0.1905      0.003    -60.674      0.000      -0.197      -0.184\n",
      "proteins_100g                               0.1049      0.004     29.898      0.000       0.098       0.112\n",
      "salt_100g                                   0.1527      0.003     53.527      0.000       0.147       0.158\n",
      "==============================================================================\n",
      "Omnibus:                     1613.429   Durbin-Watson:                   1.431\n",
      "Prob(Omnibus):                  0.000   Jarque-Bera (JB):             4446.959\n",
      "Skew:                           0.026   Prob(JB):                         0.00\n",
      "Kurtosis:                       4.443   Cond. No.                         8.78\n",
      "==============================================================================\n",
      "\n",
      "Warnings:\n",
      "[1] Standard Errors assume that the covariance matrix of the errors is correctly specified.\n"
     ]
    }
   ],
   "source": [
    "nutrition_score_regression = sm.ols(formula= formula_string, data = nutrition_facts_clean_df)\n",
    "res = nutrition_score_regression.fit()\n",
    "print(res.summary())"
   ]
  },
  {
   "cell_type": "markdown",
   "metadata": {},
   "source": [
    "### Regression results "
   ]
  },
  {
   "cell_type": "markdown",
   "metadata": {},
   "source": [
    "Analysing the regression results from the coeficents of each ingredient, we can deduce the impact of these ingredients on the the nutrition score.  \n",
    "\n",
    "#### Positive coef \n",
    "* `sugars_100g` has the highest positive impact nutrition score ~ 0.37  \n",
    "* `saturated_fat_100g`has the fourth highest impact on nutrition socre ~ 0,36\n",
    "* `energy_100` has the second highest nutrition score ~ 0.18 \n",
    "* `fat_100g` with a coef ~ 0.16\n",
    "* `salt_100g` with a coef ~ 0.16\n",
    "* `nova_group`with a coef ~ 0.12\n",
    "\n",
    "\n",
    "#### Negative coef \n",
    "* `fiber_100g` has the highest negative nutrition score ~-0.2 \n",
    "\n",
    "From the french nutrition score datasheet page 24, we see that the highest the nutrition score is the lowest the nutritional quality is. We can then deduce that all products with a high percentage of energy, sugar, salt, and saturated fat all unhealthy and products with a high percentage of fiber are healthy. All other ingredients do not have a huge impact on the nutrition score.  \n",
    "By analyzing the p-value we can deduce that our variables are statistically significant except the `carbohydrate_100g`.    \n",
    "The number of samples we have in hand after dropping the outliers and NaNs is enough to have significant results."
   ]
  },
  {
   "cell_type": "markdown",
   "metadata": {},
   "source": [
    "One of the features which seems to have a high impact on the nutrition score is the nova group. The values of this group are {1,2,3,4}\n",
    "\n",
    "* Group 1 - Unprocessed or minimally processed foods :Unprocessed (or natural) foods are edible parts of plants (seeds, fruits, leaves, stems, roots) or of animals (muscle, offal, eggs, milk), and also fungi, algae and water, after separation from nature.\n",
    "* Group 2 - Processed culinary ingredients : Processed culinary ingredients, such as oils, butter, sugar and salt, are substances derived from Group 1 foods or from nature by processes that include pressing, refining, grinding, milling and drying.\n",
    "* Group 3 - Processed foods : Processed foods, such as bottled vegetables, canned fish, fruits in syrup, cheeses and freshly made breads, are made essentially by adding salt, oil, sugar or other substances from Group 2 to Group 1 foods. \n",
    "* Group 4 - Ultra-processed food and drink products: Ultra-processed foods, such as soft drinks, sweet or savoury packaged snacks, reconstituted meat products and pre-prepared frozen dishes.  \n",
    "\n",
    "Beeing in a higher group leads also to a high nutrition score and then low nutritional quality.  "
   ]
  },
  {
   "cell_type": "markdown",
   "metadata": {},
   "source": [
    "## Question 2: Comparing bio vs. normal products, is there a real difference in composition?"
   ]
  },
  {
   "cell_type": "markdown",
   "metadata": {},
   "source": [
    "### Additional cleaning"
   ]
  },
  {
   "cell_type": "markdown",
   "metadata": {},
   "source": [
    "### Data exploration"
   ]
  },
  {
   "cell_type": "markdown",
   "metadata": {},
   "source": [
    "### Results\n",
    "\n",
    "quick conclusion, we keep the question, further investigations"
   ]
  },
  {
   "cell_type": "markdown",
   "metadata": {},
   "source": [
    "## Question 3: What are the levels of interdependencies between nations based on their production and importations?"
   ]
  },
  {
   "cell_type": "markdown",
   "metadata": {},
   "source": [
    "### Additional cleaning"
   ]
  },
  {
   "cell_type": "markdown",
   "metadata": {},
   "source": [
    "### Data exploration"
   ]
  },
  {
   "cell_type": "markdown",
   "metadata": {},
   "source": [
    "### Results\n",
    "\n",
    "quick conclusion, we **don't keep** the question, further investigations"
   ]
  },
  {
   "cell_type": "markdown",
   "metadata": {},
   "source": [
    "## Conclusion: proposed data story"
   ]
  },
  {
   "cell_type": "code",
   "execution_count": null,
   "metadata": {},
   "outputs": [],
   "source": []
  }
 ],
 "metadata": {
  "kernelspec": {
   "display_name": "Python 3",
   "language": "python",
   "name": "python3"
  },
  "language_info": {
   "codemirror_mode": {
    "name": "ipython",
    "version": 3
   },
   "file_extension": ".py",
   "mimetype": "text/x-python",
   "name": "python",
   "nbconvert_exporter": "python",
   "pygments_lexer": "ipython3",
   "version": "3.7.0"
  },
  "toc": {
   "base_numbering": 1,
   "nav_menu": {},
   "number_sections": true,
   "sideBar": true,
   "skip_h1_title": false,
   "title_cell": "Table of Contents",
   "title_sidebar": "Contents",
   "toc_cell": false,
   "toc_position": {},
   "toc_section_display": true,
   "toc_window_display": false
  },
  "varInspector": {
   "cols": {
    "lenName": 16,
    "lenType": 16,
    "lenVar": 40
   },
   "kernels_config": {
    "python": {
     "delete_cmd_postfix": "",
     "delete_cmd_prefix": "del ",
     "library": "var_list.py",
     "varRefreshCmd": "print(var_dic_list())"
    },
    "r": {
     "delete_cmd_postfix": ") ",
     "delete_cmd_prefix": "rm(",
     "library": "var_list.r",
     "varRefreshCmd": "cat(var_dic_list()) "
    }
   },
   "types_to_exclude": [
    "module",
    "function",
    "builtin_function_or_method",
    "instance",
    "_Feature"
   ],
   "window_display": false
  }
 },
 "nbformat": 4,
 "nbformat_minor": 2
}
