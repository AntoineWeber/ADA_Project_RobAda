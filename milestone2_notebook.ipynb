{
 "cells": [
  {
   "cell_type": "markdown",
   "metadata": {},
   "source": [
    "# Milestone 2\n",
    "\n",
    "## Introduction\n",
    "\n",
    "We are going to analyze the dataset, cleanliness, blabla, start to explore the question.\n",
    "\n",
    "ntm lucas"
   ]
  },
  {
   "cell_type": "markdown",
   "metadata": {},
   "source": [
    "## Dataset overview\n",
    "\n",
    "Size of dataset, blablabla"
   ]
  },
  {
   "cell_type": "code",
   "execution_count": 1,
   "metadata": {
    "ExecuteTime": {
     "end_time": "2019-11-24T19:52:46.220841Z",
     "start_time": "2019-11-24T19:52:42.760546Z"
    }
   },
   "outputs": [],
   "source": [
    "import numpy as np\n",
    "import matplotlib as mpl\n",
    "import matplotlib.pyplot as plt\n",
    "import pandas as pd\n",
    "import re\n",
    "import seaborn as sns\n",
    "import statsmodels.formula.api as sm"
   ]
  },
  {
   "cell_type": "code",
   "execution_count": 2,
   "metadata": {
    "ExecuteTime": {
     "end_time": "2019-11-24T19:54:07.754743Z",
     "start_time": "2019-11-24T19:52:46.220841Z"
    }
   },
   "outputs": [
    {
     "data": {
      "text/html": [
       "<div>\n",
       "<style scoped>\n",
       "    .dataframe tbody tr th:only-of-type {\n",
       "        vertical-align: middle;\n",
       "    }\n",
       "\n",
       "    .dataframe tbody tr th {\n",
       "        vertical-align: top;\n",
       "    }\n",
       "\n",
       "    .dataframe thead th {\n",
       "        text-align: right;\n",
       "    }\n",
       "</style>\n",
       "<table border=\"1\" class=\"dataframe\">\n",
       "  <thead>\n",
       "    <tr style=\"text-align: right;\">\n",
       "      <th></th>\n",
       "      <th>code</th>\n",
       "      <th>url</th>\n",
       "      <th>creator</th>\n",
       "      <th>created_t</th>\n",
       "      <th>created_datetime</th>\n",
       "      <th>last_modified_t</th>\n",
       "      <th>last_modified_datetime</th>\n",
       "      <th>product_name</th>\n",
       "      <th>generic_name</th>\n",
       "      <th>quantity</th>\n",
       "      <th>...</th>\n",
       "      <th>carbon-footprint-from-meat-or-fish_100g</th>\n",
       "      <th>nutrition-score-fr_100g</th>\n",
       "      <th>nutrition-score-uk_100g</th>\n",
       "      <th>glycemic-index_100g</th>\n",
       "      <th>water-hardness_100g</th>\n",
       "      <th>choline_100g</th>\n",
       "      <th>phylloquinone_100g</th>\n",
       "      <th>beta-glucan_100g</th>\n",
       "      <th>inositol_100g</th>\n",
       "      <th>carnitine_100g</th>\n",
       "    </tr>\n",
       "  </thead>\n",
       "  <tbody>\n",
       "    <tr>\n",
       "      <td>0</td>\n",
       "      <td>0000000000017</td>\n",
       "      <td>http://world-en.openfoodfacts.org/product/0000...</td>\n",
       "      <td>kiliweb</td>\n",
       "      <td>1529059080</td>\n",
       "      <td>2018-06-15T10:38:00Z</td>\n",
       "      <td>1561463718</td>\n",
       "      <td>2019-06-25T11:55:18Z</td>\n",
       "      <td>Vitória crackers</td>\n",
       "      <td>NaN</td>\n",
       "      <td>NaN</td>\n",
       "      <td>...</td>\n",
       "      <td>NaN</td>\n",
       "      <td>NaN</td>\n",
       "      <td>NaN</td>\n",
       "      <td>NaN</td>\n",
       "      <td>NaN</td>\n",
       "      <td>NaN</td>\n",
       "      <td>NaN</td>\n",
       "      <td>NaN</td>\n",
       "      <td>NaN</td>\n",
       "      <td>NaN</td>\n",
       "    </tr>\n",
       "    <tr>\n",
       "      <td>1</td>\n",
       "      <td>0000000000031</td>\n",
       "      <td>http://world-en.openfoodfacts.org/product/0000...</td>\n",
       "      <td>isagoofy</td>\n",
       "      <td>1539464774</td>\n",
       "      <td>2018-10-13T21:06:14Z</td>\n",
       "      <td>1539464817</td>\n",
       "      <td>2018-10-13T21:06:57Z</td>\n",
       "      <td>Cacao</td>\n",
       "      <td>NaN</td>\n",
       "      <td>130 g</td>\n",
       "      <td>...</td>\n",
       "      <td>NaN</td>\n",
       "      <td>NaN</td>\n",
       "      <td>NaN</td>\n",
       "      <td>NaN</td>\n",
       "      <td>NaN</td>\n",
       "      <td>NaN</td>\n",
       "      <td>NaN</td>\n",
       "      <td>NaN</td>\n",
       "      <td>NaN</td>\n",
       "      <td>NaN</td>\n",
       "    </tr>\n",
       "    <tr>\n",
       "      <td>2</td>\n",
       "      <td>000000000003327986</td>\n",
       "      <td>http://world-en.openfoodfacts.org/product/0000...</td>\n",
       "      <td>kiliweb</td>\n",
       "      <td>1574175736</td>\n",
       "      <td>2019-11-19T15:02:16Z</td>\n",
       "      <td>1574175737</td>\n",
       "      <td>2019-11-19T15:02:17Z</td>\n",
       "      <td>Filetes de pollo empanado</td>\n",
       "      <td>NaN</td>\n",
       "      <td>NaN</td>\n",
       "      <td>...</td>\n",
       "      <td>NaN</td>\n",
       "      <td>NaN</td>\n",
       "      <td>NaN</td>\n",
       "      <td>NaN</td>\n",
       "      <td>NaN</td>\n",
       "      <td>NaN</td>\n",
       "      <td>NaN</td>\n",
       "      <td>NaN</td>\n",
       "      <td>NaN</td>\n",
       "      <td>NaN</td>\n",
       "    </tr>\n",
       "    <tr>\n",
       "      <td>3</td>\n",
       "      <td>0000000000100</td>\n",
       "      <td>http://world-en.openfoodfacts.org/product/0000...</td>\n",
       "      <td>del51</td>\n",
       "      <td>1444572561</td>\n",
       "      <td>2015-10-11T14:09:21Z</td>\n",
       "      <td>1444659212</td>\n",
       "      <td>2015-10-12T14:13:32Z</td>\n",
       "      <td>moutarde au moût de raisin</td>\n",
       "      <td>NaN</td>\n",
       "      <td>100g</td>\n",
       "      <td>...</td>\n",
       "      <td>NaN</td>\n",
       "      <td>18.0</td>\n",
       "      <td>18.0</td>\n",
       "      <td>NaN</td>\n",
       "      <td>NaN</td>\n",
       "      <td>NaN</td>\n",
       "      <td>NaN</td>\n",
       "      <td>NaN</td>\n",
       "      <td>NaN</td>\n",
       "      <td>NaN</td>\n",
       "    </tr>\n",
       "    <tr>\n",
       "      <td>4</td>\n",
       "      <td>00000000001111111111</td>\n",
       "      <td>http://world-en.openfoodfacts.org/product/0000...</td>\n",
       "      <td>openfoodfacts-contributors</td>\n",
       "      <td>1560020173</td>\n",
       "      <td>2019-06-08T18:56:13Z</td>\n",
       "      <td>1560020173</td>\n",
       "      <td>2019-06-08T18:56:13Z</td>\n",
       "      <td>Sfiudwx</td>\n",
       "      <td>NaN</td>\n",
       "      <td>dgesc</td>\n",
       "      <td>...</td>\n",
       "      <td>NaN</td>\n",
       "      <td>NaN</td>\n",
       "      <td>NaN</td>\n",
       "      <td>NaN</td>\n",
       "      <td>NaN</td>\n",
       "      <td>NaN</td>\n",
       "      <td>NaN</td>\n",
       "      <td>NaN</td>\n",
       "      <td>NaN</td>\n",
       "      <td>NaN</td>\n",
       "    </tr>\n",
       "  </tbody>\n",
       "</table>\n",
       "<p>5 rows × 177 columns</p>\n",
       "</div>"
      ],
      "text/plain": [
       "                   code                                                url  \\\n",
       "0         0000000000017  http://world-en.openfoodfacts.org/product/0000...   \n",
       "1         0000000000031  http://world-en.openfoodfacts.org/product/0000...   \n",
       "2    000000000003327986  http://world-en.openfoodfacts.org/product/0000...   \n",
       "3         0000000000100  http://world-en.openfoodfacts.org/product/0000...   \n",
       "4  00000000001111111111  http://world-en.openfoodfacts.org/product/0000...   \n",
       "\n",
       "                      creator   created_t      created_datetime  \\\n",
       "0                     kiliweb  1529059080  2018-06-15T10:38:00Z   \n",
       "1                    isagoofy  1539464774  2018-10-13T21:06:14Z   \n",
       "2                     kiliweb  1574175736  2019-11-19T15:02:16Z   \n",
       "3                       del51  1444572561  2015-10-11T14:09:21Z   \n",
       "4  openfoodfacts-contributors  1560020173  2019-06-08T18:56:13Z   \n",
       "\n",
       "   last_modified_t last_modified_datetime                  product_name  \\\n",
       "0       1561463718   2019-06-25T11:55:18Z              Vitória crackers   \n",
       "1       1539464817   2018-10-13T21:06:57Z                         Cacao   \n",
       "2       1574175737   2019-11-19T15:02:17Z     Filetes de pollo empanado   \n",
       "3       1444659212   2015-10-12T14:13:32Z   moutarde au moût de raisin    \n",
       "4       1560020173   2019-06-08T18:56:13Z                       Sfiudwx   \n",
       "\n",
       "  generic_name quantity  ... carbon-footprint-from-meat-or-fish_100g  \\\n",
       "0          NaN      NaN  ...                                     NaN   \n",
       "1          NaN    130 g  ...                                     NaN   \n",
       "2          NaN      NaN  ...                                     NaN   \n",
       "3          NaN     100g  ...                                     NaN   \n",
       "4          NaN    dgesc  ...                                     NaN   \n",
       "\n",
       "  nutrition-score-fr_100g nutrition-score-uk_100g glycemic-index_100g  \\\n",
       "0                     NaN                     NaN                 NaN   \n",
       "1                     NaN                     NaN                 NaN   \n",
       "2                     NaN                     NaN                 NaN   \n",
       "3                    18.0                    18.0                 NaN   \n",
       "4                     NaN                     NaN                 NaN   \n",
       "\n",
       "  water-hardness_100g choline_100g phylloquinone_100g beta-glucan_100g  \\\n",
       "0                 NaN          NaN                NaN              NaN   \n",
       "1                 NaN          NaN                NaN              NaN   \n",
       "2                 NaN          NaN                NaN              NaN   \n",
       "3                 NaN          NaN                NaN              NaN   \n",
       "4                 NaN          NaN                NaN              NaN   \n",
       "\n",
       "  inositol_100g carnitine_100g  \n",
       "0           NaN            NaN  \n",
       "1           NaN            NaN  \n",
       "2           NaN            NaN  \n",
       "3           NaN            NaN  \n",
       "4           NaN            NaN  \n",
       "\n",
       "[5 rows x 177 columns]"
      ]
     },
     "execution_count": 2,
     "metadata": {},
     "output_type": "execute_result"
    }
   ],
   "source": [
    "OPEN_FOOD_FACTS_PATH = 'data/en.openfoodfacts.org.products.csv'\n",
    "food_facts_df = pd.read_csv(OPEN_FOOD_FACTS_PATH, delimiter='\\t',low_memory=False)\n",
    "food_facts_df.head(5)"
   ]
  },
  {
   "cell_type": "markdown",
   "metadata": {},
   "source": [
    "### Available fields\n",
    "\n",
    "The dataset description is available [here](https://static.openfoodfacts.org/data/data-fields.txt).\n",
    "\n",
    "\n",
    "\n",
    "This dataset is provided with a text file describing the different fields as follows :\n",
    "\n",
    "* fields that end with _t are dates in the UNIX timestamp format (number of seconds since Jan 1st 1970)\n",
    "* fields that end with _datetime are dates in the iso8601 format: yyyy-mm-ddThh:mn:ssZ\n",
    "* fields that end with _tags are comma separated list of tags (e.g. categories_tags is the set of normalized tags computer from the categories field)\n",
    "* fields that end with a language 2 letter code (e.g. fr for French) is the set of tags in that language\n",
    "* fields that end with _100g correspond to the amount of a nutriment (in g, or kJ for energy) for 100 g or 100 ml of product\n",
    "* fields that end with _serving correspond to the amount of a nutriment (in g, or kJ for energy) for 1 serving of the product\n",
    "\n",
    "**TODO**: show data"
   ]
  },
  {
   "cell_type": "markdown",
   "metadata": {},
   "source": [
    "### General cleaning \n"
   ]
  },
  {
   "cell_type": "markdown",
   "metadata": {},
   "source": [
    "Each product of the dataset has a field named `code`. This should be unique to each row:"
   ]
  },
  {
   "cell_type": "code",
   "execution_count": 3,
   "metadata": {
    "ExecuteTime": {
     "end_time": "2019-11-24T19:54:08.302043Z",
     "start_time": "2019-11-24T19:54:07.754743Z"
    },
    "scrolled": true
   },
   "outputs": [
    {
     "name": "stdout",
     "output_type": "stream",
     "text": [
      "We have 1051145 rows in the dataset\n",
      "We have 1050979 different code in the dataset\n"
     ]
    }
   ],
   "source": [
    "print(\"We have {} rows in the dataset\".format(food_facts_df.shape[0]))\n",
    "print(\"We have {} different code in the dataset\".format((np.unique(food_facts_df['code']).shape[0])))"
   ]
  },
  {
   "cell_type": "markdown",
   "metadata": {},
   "source": [
    "Indeed, the code is unique for each row of the dataset except for a small number of duplicates. Let's check that. "
   ]
  },
  {
   "cell_type": "code",
   "execution_count": 4,
   "metadata": {
    "ExecuteTime": {
     "end_time": "2019-11-24T19:54:08.535841Z",
     "start_time": "2019-11-24T19:54:08.302043Z"
    }
   },
   "outputs": [
    {
     "name": "stdout",
     "output_type": "stream",
     "text": [
      "We have 166 duplicated code\n"
     ]
    }
   ],
   "source": [
    "number_duplicates=food_facts_df['code'].duplicated()\n",
    "print(\"We have {} duplicated code\".format(number_duplicates.value_counts()[1]))"
   ]
  },
  {
   "cell_type": "markdown",
   "metadata": {},
   "source": [
    "Let's start by dropping these duplicated rows:"
   ]
  },
  {
   "cell_type": "code",
   "execution_count": 5,
   "metadata": {
    "ExecuteTime": {
     "end_time": "2019-11-24T19:54:10.191668Z",
     "start_time": "2019-11-24T19:54:08.535841Z"
    },
    "scrolled": true
   },
   "outputs": [
    {
     "name": "stdout",
     "output_type": "stream",
     "text": [
      "We have 1050979 rows in the dataset after dropping the duplicates.\n"
     ]
    }
   ],
   "source": [
    "food_facts_df.drop_duplicates(subset=['code'],inplace=True)\n",
    "print(\"We have {} rows in the dataset after dropping the duplicates.\".format(food_facts_df.shape[0]))"
   ]
  },
  {
   "cell_type": "markdown",
   "metadata": {},
   "source": [
    "Great! We have now a unique code for each row. We can set the code as an index for the whole dataset."
   ]
  },
  {
   "cell_type": "code",
   "execution_count": 6,
   "metadata": {
    "ExecuteTime": {
     "end_time": "2019-11-24T19:54:10.769783Z",
     "start_time": "2019-11-24T19:54:10.191668Z"
    }
   },
   "outputs": [],
   "source": [
    "#lets fix the code as indes \n",
    "food_facts_df.set_index('code', inplace=True)"
   ]
  },
  {
   "cell_type": "code",
   "execution_count": 7,
   "metadata": {
    "ExecuteTime": {
     "end_time": "2019-11-24T19:54:10.800899Z",
     "start_time": "2019-11-24T19:54:10.769783Z"
    }
   },
   "outputs": [
    {
     "data": {
      "text/html": [
       "<div>\n",
       "<style scoped>\n",
       "    .dataframe tbody tr th:only-of-type {\n",
       "        vertical-align: middle;\n",
       "    }\n",
       "\n",
       "    .dataframe tbody tr th {\n",
       "        vertical-align: top;\n",
       "    }\n",
       "\n",
       "    .dataframe thead th {\n",
       "        text-align: right;\n",
       "    }\n",
       "</style>\n",
       "<table border=\"1\" class=\"dataframe\">\n",
       "  <thead>\n",
       "    <tr style=\"text-align: right;\">\n",
       "      <th></th>\n",
       "      <th>url</th>\n",
       "      <th>creator</th>\n",
       "      <th>created_t</th>\n",
       "      <th>created_datetime</th>\n",
       "      <th>last_modified_t</th>\n",
       "      <th>last_modified_datetime</th>\n",
       "      <th>product_name</th>\n",
       "      <th>generic_name</th>\n",
       "      <th>quantity</th>\n",
       "      <th>packaging</th>\n",
       "      <th>...</th>\n",
       "      <th>carbon-footprint-from-meat-or-fish_100g</th>\n",
       "      <th>nutrition-score-fr_100g</th>\n",
       "      <th>nutrition-score-uk_100g</th>\n",
       "      <th>glycemic-index_100g</th>\n",
       "      <th>water-hardness_100g</th>\n",
       "      <th>choline_100g</th>\n",
       "      <th>phylloquinone_100g</th>\n",
       "      <th>beta-glucan_100g</th>\n",
       "      <th>inositol_100g</th>\n",
       "      <th>carnitine_100g</th>\n",
       "    </tr>\n",
       "    <tr>\n",
       "      <th>code</th>\n",
       "      <th></th>\n",
       "      <th></th>\n",
       "      <th></th>\n",
       "      <th></th>\n",
       "      <th></th>\n",
       "      <th></th>\n",
       "      <th></th>\n",
       "      <th></th>\n",
       "      <th></th>\n",
       "      <th></th>\n",
       "      <th></th>\n",
       "      <th></th>\n",
       "      <th></th>\n",
       "      <th></th>\n",
       "      <th></th>\n",
       "      <th></th>\n",
       "      <th></th>\n",
       "      <th></th>\n",
       "      <th></th>\n",
       "      <th></th>\n",
       "      <th></th>\n",
       "    </tr>\n",
       "  </thead>\n",
       "  <tbody>\n",
       "    <tr>\n",
       "      <td>0000000000017</td>\n",
       "      <td>http://world-en.openfoodfacts.org/product/0000...</td>\n",
       "      <td>kiliweb</td>\n",
       "      <td>1529059080</td>\n",
       "      <td>2018-06-15T10:38:00Z</td>\n",
       "      <td>1561463718</td>\n",
       "      <td>2019-06-25T11:55:18Z</td>\n",
       "      <td>Vitória crackers</td>\n",
       "      <td>NaN</td>\n",
       "      <td>NaN</td>\n",
       "      <td>NaN</td>\n",
       "      <td>...</td>\n",
       "      <td>NaN</td>\n",
       "      <td>NaN</td>\n",
       "      <td>NaN</td>\n",
       "      <td>NaN</td>\n",
       "      <td>NaN</td>\n",
       "      <td>NaN</td>\n",
       "      <td>NaN</td>\n",
       "      <td>NaN</td>\n",
       "      <td>NaN</td>\n",
       "      <td>NaN</td>\n",
       "    </tr>\n",
       "    <tr>\n",
       "      <td>0000000000031</td>\n",
       "      <td>http://world-en.openfoodfacts.org/product/0000...</td>\n",
       "      <td>isagoofy</td>\n",
       "      <td>1539464774</td>\n",
       "      <td>2018-10-13T21:06:14Z</td>\n",
       "      <td>1539464817</td>\n",
       "      <td>2018-10-13T21:06:57Z</td>\n",
       "      <td>Cacao</td>\n",
       "      <td>NaN</td>\n",
       "      <td>130 g</td>\n",
       "      <td>NaN</td>\n",
       "      <td>...</td>\n",
       "      <td>NaN</td>\n",
       "      <td>NaN</td>\n",
       "      <td>NaN</td>\n",
       "      <td>NaN</td>\n",
       "      <td>NaN</td>\n",
       "      <td>NaN</td>\n",
       "      <td>NaN</td>\n",
       "      <td>NaN</td>\n",
       "      <td>NaN</td>\n",
       "      <td>NaN</td>\n",
       "    </tr>\n",
       "    <tr>\n",
       "      <td>000000000003327986</td>\n",
       "      <td>http://world-en.openfoodfacts.org/product/0000...</td>\n",
       "      <td>kiliweb</td>\n",
       "      <td>1574175736</td>\n",
       "      <td>2019-11-19T15:02:16Z</td>\n",
       "      <td>1574175737</td>\n",
       "      <td>2019-11-19T15:02:17Z</td>\n",
       "      <td>Filetes de pollo empanado</td>\n",
       "      <td>NaN</td>\n",
       "      <td>NaN</td>\n",
       "      <td>NaN</td>\n",
       "      <td>...</td>\n",
       "      <td>NaN</td>\n",
       "      <td>NaN</td>\n",
       "      <td>NaN</td>\n",
       "      <td>NaN</td>\n",
       "      <td>NaN</td>\n",
       "      <td>NaN</td>\n",
       "      <td>NaN</td>\n",
       "      <td>NaN</td>\n",
       "      <td>NaN</td>\n",
       "      <td>NaN</td>\n",
       "    </tr>\n",
       "    <tr>\n",
       "      <td>0000000000100</td>\n",
       "      <td>http://world-en.openfoodfacts.org/product/0000...</td>\n",
       "      <td>del51</td>\n",
       "      <td>1444572561</td>\n",
       "      <td>2015-10-11T14:09:21Z</td>\n",
       "      <td>1444659212</td>\n",
       "      <td>2015-10-12T14:13:32Z</td>\n",
       "      <td>moutarde au moût de raisin</td>\n",
       "      <td>NaN</td>\n",
       "      <td>100g</td>\n",
       "      <td>NaN</td>\n",
       "      <td>...</td>\n",
       "      <td>NaN</td>\n",
       "      <td>18.0</td>\n",
       "      <td>18.0</td>\n",
       "      <td>NaN</td>\n",
       "      <td>NaN</td>\n",
       "      <td>NaN</td>\n",
       "      <td>NaN</td>\n",
       "      <td>NaN</td>\n",
       "      <td>NaN</td>\n",
       "      <td>NaN</td>\n",
       "    </tr>\n",
       "    <tr>\n",
       "      <td>00000000001111111111</td>\n",
       "      <td>http://world-en.openfoodfacts.org/product/0000...</td>\n",
       "      <td>openfoodfacts-contributors</td>\n",
       "      <td>1560020173</td>\n",
       "      <td>2019-06-08T18:56:13Z</td>\n",
       "      <td>1560020173</td>\n",
       "      <td>2019-06-08T18:56:13Z</td>\n",
       "      <td>Sfiudwx</td>\n",
       "      <td>NaN</td>\n",
       "      <td>dgesc</td>\n",
       "      <td>NaN</td>\n",
       "      <td>...</td>\n",
       "      <td>NaN</td>\n",
       "      <td>NaN</td>\n",
       "      <td>NaN</td>\n",
       "      <td>NaN</td>\n",
       "      <td>NaN</td>\n",
       "      <td>NaN</td>\n",
       "      <td>NaN</td>\n",
       "      <td>NaN</td>\n",
       "      <td>NaN</td>\n",
       "      <td>NaN</td>\n",
       "    </tr>\n",
       "  </tbody>\n",
       "</table>\n",
       "<p>5 rows × 176 columns</p>\n",
       "</div>"
      ],
      "text/plain": [
       "                                                                    url  \\\n",
       "code                                                                      \n",
       "0000000000017         http://world-en.openfoodfacts.org/product/0000...   \n",
       "0000000000031         http://world-en.openfoodfacts.org/product/0000...   \n",
       "000000000003327986    http://world-en.openfoodfacts.org/product/0000...   \n",
       "0000000000100         http://world-en.openfoodfacts.org/product/0000...   \n",
       "00000000001111111111  http://world-en.openfoodfacts.org/product/0000...   \n",
       "\n",
       "                                         creator   created_t  \\\n",
       "code                                                           \n",
       "0000000000017                            kiliweb  1529059080   \n",
       "0000000000031                           isagoofy  1539464774   \n",
       "000000000003327986                       kiliweb  1574175736   \n",
       "0000000000100                              del51  1444572561   \n",
       "00000000001111111111  openfoodfacts-contributors  1560020173   \n",
       "\n",
       "                          created_datetime  last_modified_t  \\\n",
       "code                                                          \n",
       "0000000000017         2018-06-15T10:38:00Z       1561463718   \n",
       "0000000000031         2018-10-13T21:06:14Z       1539464817   \n",
       "000000000003327986    2019-11-19T15:02:16Z       1574175737   \n",
       "0000000000100         2015-10-11T14:09:21Z       1444659212   \n",
       "00000000001111111111  2019-06-08T18:56:13Z       1560020173   \n",
       "\n",
       "                     last_modified_datetime                  product_name  \\\n",
       "code                                                                        \n",
       "0000000000017          2019-06-25T11:55:18Z              Vitória crackers   \n",
       "0000000000031          2018-10-13T21:06:57Z                         Cacao   \n",
       "000000000003327986     2019-11-19T15:02:17Z     Filetes de pollo empanado   \n",
       "0000000000100          2015-10-12T14:13:32Z   moutarde au moût de raisin    \n",
       "00000000001111111111   2019-06-08T18:56:13Z                       Sfiudwx   \n",
       "\n",
       "                     generic_name quantity packaging  ...  \\\n",
       "code                                                  ...   \n",
       "0000000000017                 NaN      NaN       NaN  ...   \n",
       "0000000000031                 NaN    130 g       NaN  ...   \n",
       "000000000003327986            NaN      NaN       NaN  ...   \n",
       "0000000000100                 NaN     100g       NaN  ...   \n",
       "00000000001111111111          NaN    dgesc       NaN  ...   \n",
       "\n",
       "                     carbon-footprint-from-meat-or-fish_100g  \\\n",
       "code                                                           \n",
       "0000000000017                                            NaN   \n",
       "0000000000031                                            NaN   \n",
       "000000000003327986                                       NaN   \n",
       "0000000000100                                            NaN   \n",
       "00000000001111111111                                     NaN   \n",
       "\n",
       "                     nutrition-score-fr_100g nutrition-score-uk_100g  \\\n",
       "code                                                                   \n",
       "0000000000017                            NaN                     NaN   \n",
       "0000000000031                            NaN                     NaN   \n",
       "000000000003327986                       NaN                     NaN   \n",
       "0000000000100                           18.0                    18.0   \n",
       "00000000001111111111                     NaN                     NaN   \n",
       "\n",
       "                     glycemic-index_100g water-hardness_100g choline_100g  \\\n",
       "code                                                                        \n",
       "0000000000017                        NaN                 NaN          NaN   \n",
       "0000000000031                        NaN                 NaN          NaN   \n",
       "000000000003327986                   NaN                 NaN          NaN   \n",
       "0000000000100                        NaN                 NaN          NaN   \n",
       "00000000001111111111                 NaN                 NaN          NaN   \n",
       "\n",
       "                     phylloquinone_100g beta-glucan_100g inositol_100g  \\\n",
       "code                                                                     \n",
       "0000000000017                       NaN              NaN           NaN   \n",
       "0000000000031                       NaN              NaN           NaN   \n",
       "000000000003327986                  NaN              NaN           NaN   \n",
       "0000000000100                       NaN              NaN           NaN   \n",
       "00000000001111111111                NaN              NaN           NaN   \n",
       "\n",
       "                     carnitine_100g  \n",
       "code                                 \n",
       "0000000000017                   NaN  \n",
       "0000000000031                   NaN  \n",
       "000000000003327986              NaN  \n",
       "0000000000100                   NaN  \n",
       "00000000001111111111            NaN  \n",
       "\n",
       "[5 rows x 176 columns]"
      ]
     },
     "execution_count": 7,
     "metadata": {},
     "output_type": "execute_result"
    }
   ],
   "source": [
    "food_facts_df.head(5)"
   ]
  },
  {
   "cell_type": "markdown",
   "metadata": {},
   "source": [
    "As we can see from the 5 first rows in the dataset, the data is messy and has a huge number of NaNs. We need a huge data cleaning."
   ]
  },
  {
   "cell_type": "markdown",
   "metadata": {},
   "source": [
    "### Data completeness\n",
    "\n",
    "Sparse dataset, lots of quasi empty columns (Lucas)"
   ]
  },
  {
   "cell_type": "markdown",
   "metadata": {},
   "source": [
    "### Reliability of the dataset\n",
    "\n"
   ]
  },
  {
   "cell_type": "markdown",
   "metadata": {},
   "source": [
    "The creators of each row of the dataset are provided as a field. Let's try to see who are the main contributors to this data before starting to analyze it."
   ]
  },
  {
   "cell_type": "code",
   "execution_count": 8,
   "metadata": {
    "ExecuteTime": {
     "end_time": "2019-11-24T19:54:10.879005Z",
     "start_time": "2019-11-24T19:54:10.800899Z"
    }
   },
   "outputs": [
    {
     "name": "stdout",
     "output_type": "stream",
     "text": [
      "We have overall 9654 contributors\n"
     ]
    }
   ],
   "source": [
    "## Computing the number of contributors\n",
    "nb_contributors=food_facts_df['creator'].unique().shape[0]\n",
    "print(\"We have overall {} contributors\".format(nb_contributors))"
   ]
  },
  {
   "cell_type": "markdown",
   "metadata": {},
   "source": [
    "Let's see how many contributions each creator has in the dataset"
   ]
  },
  {
   "cell_type": "code",
   "execution_count": 9,
   "metadata": {
    "ExecuteTime": {
     "end_time": "2019-11-24T19:54:11.019729Z",
     "start_time": "2019-11-24T19:54:10.879005Z"
    }
   },
   "outputs": [
    {
     "name": "stdout",
     "output_type": "stream",
     "text": [
      "The 10 main creators account for 89.0 % of all contributions \n",
      "\n",
      "                            counts  percentage\n",
      "kiliweb                     557567    0.530522\n",
      "usda-ndb-import             169855    0.161616\n",
      "openfoodfacts-contributors  118744    0.112984\n",
      "elcoco                       26212    0.024941\n",
      "date-limite-app              25438    0.024204\n",
      "openfood-ch-import           11459    0.010903\n",
      "sebleouf                     10140    0.009648\n",
      "tacite                        8511    0.008098\n",
      "tacinte                       5558    0.005288\n",
      "waistline-app                 4511    0.004292\n"
     ]
    }
   ],
   "source": [
    "# Computing the contributions \n",
    "counts = food_facts_df['creator'].value_counts()\n",
    "counts = counts.to_frame(name='counts')\n",
    "counts['percentage'] = counts['counts']/food_facts_df.shape[0]\n",
    "\n",
    "# Extracting only the top find and calculating the percentage of contribution\n",
    "top_10 = round(sum(counts[0:10]['percentage']),2)*100\n",
    "print(\"The 10 main\", 'creators',\"account for\", top_10,\"% of all contributions \\n\")\n",
    "print(counts.head(10))"
   ]
  },
  {
   "cell_type": "markdown",
   "metadata": {},
   "source": [
    "After googling these 10 main contributors we can easily identify them: \n",
    "* `kiliweb` represents the YUKA app (a French app aiming to compare the products based on different criterions).\n",
    "* `usda` represnets United States Department of Agriculture. \n",
    "* `openfoodfacts-contributors` a bench of 20 main contributors.\n",
    "* `data-limite-app` food application available for ios and androids users (French app).\n",
    "* `Elcoco` also a food application (spanish app).\n",
    "* `openfood-ch-import` seems to be openfood contributors from Switzerland.\n",
    "* `sebleouf`, `tacite` , `tacinte` and `waistline-app` are unknown contributors. "
   ]
  },
  {
   "cell_type": "markdown",
   "metadata": {},
   "source": [
    "The first 6 sources of contributions seem to be reliable since we can clearly understand where the data comes from."
   ]
  },
  {
   "cell_type": "code",
   "execution_count": 10,
   "metadata": {
    "ExecuteTime": {
     "end_time": "2019-11-24T19:54:11.035225Z",
     "start_time": "2019-11-24T19:54:11.019729Z"
    }
   },
   "outputs": [],
   "source": [
    "#Getting the top 6\n",
    "top5_cont=counts.head(6).index"
   ]
  },
  {
   "cell_type": "markdown",
   "metadata": {},
   "source": [
    "Since the first 6 editors have 85% of the total contributions and are reliable. We will base our analysis on their contributions."
   ]
  },
  {
   "cell_type": "code",
   "execution_count": 11,
   "metadata": {
    "ExecuteTime": {
     "end_time": "2019-11-24T19:54:17.944372Z",
     "start_time": "2019-11-24T19:54:11.035225Z"
    }
   },
   "outputs": [],
   "source": [
    "reliable_facts_df=food_facts_df.loc[food_facts_df['creator'].isin([top5_cont[0],top5_cont[1],top5_cont[2],top5_cont[3],top5_cont[4],top5_cont[5]])]"
   ]
  },
  {
   "cell_type": "code",
   "execution_count": 12,
   "metadata": {
    "ExecuteTime": {
     "end_time": "2019-11-24T19:54:18.006878Z",
     "start_time": "2019-11-24T19:54:17.959992Z"
    },
    "scrolled": true
   },
   "outputs": [
    {
     "name": "stdout",
     "output_type": "stream",
     "text": [
      "There are 909,275 rows and 176 columns in our data\n"
     ]
    }
   ],
   "source": [
    "print('There are {:,} rows '.format(reliable_facts_df.shape[0]) + 'and {} columns in our data'.format(reliable_facts_df.shape[1]))"
   ]
  },
  {
   "cell_type": "markdown",
   "metadata": {},
   "source": [
    "## Question 1: How do nutrients influence the selected nutrition scores?"
   ]
  },
  {
   "cell_type": "markdown",
   "metadata": {},
   "source": [
    "The majority of the dataser fields are nutrients. We will try in this part to see their impact on the nutrition score. This analysis requires an additional cleaning of the dataset. "
   ]
  },
  {
   "cell_type": "markdown",
   "metadata": {},
   "source": [
    "### Additional cleaning"
   ]
  },
  {
   "cell_type": "markdown",
   "metadata": {},
   "source": [
    "First, we will see the data type of each field: "
   ]
  },
  {
   "cell_type": "code",
   "execution_count": 13,
   "metadata": {
    "ExecuteTime": {
     "end_time": "2019-11-24T19:54:18.272426Z",
     "start_time": "2019-11-24T19:54:18.006878Z"
    },
    "scrolled": false
   },
   "outputs": [
    {
     "data": {
      "text/plain": [
       "url                    object\n",
       "creator                object\n",
       "created_t               int64\n",
       "created_datetime       object\n",
       "last_modified_t         int64\n",
       "                       ...   \n",
       "choline_100g          float64\n",
       "phylloquinone_100g    float64\n",
       "beta-glucan_100g      float64\n",
       "inositol_100g         float64\n",
       "carnitine_100g        float64\n",
       "Length: 176, dtype: object"
      ]
     },
     "execution_count": 13,
     "metadata": {},
     "output_type": "execute_result"
    }
   ],
   "source": [
    "reliable_facts_df.dtypes"
   ]
  },
  {
   "cell_type": "markdown",
   "metadata": {},
   "source": [
    "We will discard all no-float fields since they cannot represent the nutrients. (ie:object)"
   ]
  },
  {
   "cell_type": "code",
   "execution_count": 14,
   "metadata": {
    "ExecuteTime": {
     "end_time": "2019-11-24T19:54:23.661838Z",
     "start_time": "2019-11-24T19:54:18.272426Z"
    }
   },
   "outputs": [],
   "source": [
    "reliable_facts_df = reliable_facts_df.select_dtypes(include=[np.float])"
   ]
  },
  {
   "cell_type": "code",
   "execution_count": 15,
   "metadata": {
    "ExecuteTime": {
     "end_time": "2019-11-24T19:54:23.693021Z",
     "start_time": "2019-11-24T19:54:23.661838Z"
    }
   },
   "outputs": [
    {
     "data": {
      "text/plain": [
       "Index(['cities', 'allergens_en', 'serving_quantity', 'no_nutriments',\n",
       "       'additives_n', 'ingredients_from_palm_oil_n',\n",
       "       'ingredients_from_palm_oil', 'ingredients_that_may_be_from_palm_oil_n',\n",
       "       'ingredients_that_may_be_from_palm_oil', 'nova_group',\n",
       "       ...\n",
       "       'carbon-footprint-from-meat-or-fish_100g', 'nutrition-score-fr_100g',\n",
       "       'nutrition-score-uk_100g', 'glycemic-index_100g', 'water-hardness_100g',\n",
       "       'choline_100g', 'phylloquinone_100g', 'beta-glucan_100g',\n",
       "       'inositol_100g', 'carnitine_100g'],\n",
       "      dtype='object', length=119)"
      ]
     },
     "execution_count": 15,
     "metadata": {},
     "output_type": "execute_result"
    }
   ],
   "source": [
    "reliable_facts_df.columns"
   ]
  },
  {
   "cell_type": "code",
   "execution_count": 16,
   "metadata": {
    "ExecuteTime": {
     "end_time": "2019-11-24T19:54:23.708641Z",
     "start_time": "2019-11-24T19:54:23.693021Z"
    },
    "scrolled": true
   },
   "outputs": [
    {
     "name": "stdout",
     "output_type": "stream",
     "text": [
      "There are 909,275 rows and 119 columns left in our data\n"
     ]
    }
   ],
   "source": [
    "print('There are {:,} rows '.format(reliable_facts_df.shape[0]) + 'and {} columns left in our data'.format(reliable_facts_df.shape[1]))"
   ]
  },
  {
   "cell_type": "markdown",
   "metadata": {},
   "source": [
    "Let us now analyze the level of completness for each editor"
   ]
  },
  {
   "cell_type": "code",
   "execution_count": 17,
   "metadata": {
    "ExecuteTime": {
     "end_time": "2019-11-24T19:54:23.786746Z",
     "start_time": "2019-11-24T19:54:23.708641Z"
    },
    "scrolled": true
   },
   "outputs": [
    {
     "data": {
      "text/html": [
       "<div>\n",
       "<style scoped>\n",
       "    .dataframe tbody tr th:only-of-type {\n",
       "        vertical-align: middle;\n",
       "    }\n",
       "\n",
       "    .dataframe tbody tr th {\n",
       "        vertical-align: top;\n",
       "    }\n",
       "\n",
       "    .dataframe thead th {\n",
       "        text-align: right;\n",
       "    }\n",
       "</style>\n",
       "<table border=\"1\" class=\"dataframe\">\n",
       "  <thead>\n",
       "    <tr style=\"text-align: right;\">\n",
       "      <th></th>\n",
       "      <th>cities</th>\n",
       "      <th>allergens_en</th>\n",
       "      <th>serving_quantity</th>\n",
       "      <th>no_nutriments</th>\n",
       "      <th>additives_n</th>\n",
       "      <th>ingredients_from_palm_oil_n</th>\n",
       "      <th>ingredients_from_palm_oil</th>\n",
       "      <th>ingredients_that_may_be_from_palm_oil_n</th>\n",
       "      <th>ingredients_that_may_be_from_palm_oil</th>\n",
       "      <th>nova_group</th>\n",
       "      <th>...</th>\n",
       "      <th>carbon-footprint-from-meat-or-fish_100g</th>\n",
       "      <th>nutrition-score-fr_100g</th>\n",
       "      <th>nutrition-score-uk_100g</th>\n",
       "      <th>glycemic-index_100g</th>\n",
       "      <th>water-hardness_100g</th>\n",
       "      <th>choline_100g</th>\n",
       "      <th>phylloquinone_100g</th>\n",
       "      <th>beta-glucan_100g</th>\n",
       "      <th>inositol_100g</th>\n",
       "      <th>carnitine_100g</th>\n",
       "    </tr>\n",
       "    <tr>\n",
       "      <th>code</th>\n",
       "      <th></th>\n",
       "      <th></th>\n",
       "      <th></th>\n",
       "      <th></th>\n",
       "      <th></th>\n",
       "      <th></th>\n",
       "      <th></th>\n",
       "      <th></th>\n",
       "      <th></th>\n",
       "      <th></th>\n",
       "      <th></th>\n",
       "      <th></th>\n",
       "      <th></th>\n",
       "      <th></th>\n",
       "      <th></th>\n",
       "      <th></th>\n",
       "      <th></th>\n",
       "      <th></th>\n",
       "      <th></th>\n",
       "      <th></th>\n",
       "      <th></th>\n",
       "    </tr>\n",
       "  </thead>\n",
       "  <tbody>\n",
       "    <tr>\n",
       "      <td>0000000000017</td>\n",
       "      <td>NaN</td>\n",
       "      <td>NaN</td>\n",
       "      <td>NaN</td>\n",
       "      <td>NaN</td>\n",
       "      <td>NaN</td>\n",
       "      <td>NaN</td>\n",
       "      <td>NaN</td>\n",
       "      <td>NaN</td>\n",
       "      <td>NaN</td>\n",
       "      <td>NaN</td>\n",
       "      <td>...</td>\n",
       "      <td>NaN</td>\n",
       "      <td>NaN</td>\n",
       "      <td>NaN</td>\n",
       "      <td>NaN</td>\n",
       "      <td>NaN</td>\n",
       "      <td>NaN</td>\n",
       "      <td>NaN</td>\n",
       "      <td>NaN</td>\n",
       "      <td>NaN</td>\n",
       "      <td>NaN</td>\n",
       "    </tr>\n",
       "    <tr>\n",
       "      <td>000000000003327986</td>\n",
       "      <td>NaN</td>\n",
       "      <td>NaN</td>\n",
       "      <td>NaN</td>\n",
       "      <td>NaN</td>\n",
       "      <td>NaN</td>\n",
       "      <td>NaN</td>\n",
       "      <td>NaN</td>\n",
       "      <td>NaN</td>\n",
       "      <td>NaN</td>\n",
       "      <td>NaN</td>\n",
       "      <td>...</td>\n",
       "      <td>NaN</td>\n",
       "      <td>NaN</td>\n",
       "      <td>NaN</td>\n",
       "      <td>NaN</td>\n",
       "      <td>NaN</td>\n",
       "      <td>NaN</td>\n",
       "      <td>NaN</td>\n",
       "      <td>NaN</td>\n",
       "      <td>NaN</td>\n",
       "      <td>NaN</td>\n",
       "    </tr>\n",
       "    <tr>\n",
       "      <td>00000000001111111111</td>\n",
       "      <td>NaN</td>\n",
       "      <td>NaN</td>\n",
       "      <td>NaN</td>\n",
       "      <td>NaN</td>\n",
       "      <td>NaN</td>\n",
       "      <td>NaN</td>\n",
       "      <td>NaN</td>\n",
       "      <td>NaN</td>\n",
       "      <td>NaN</td>\n",
       "      <td>NaN</td>\n",
       "      <td>...</td>\n",
       "      <td>NaN</td>\n",
       "      <td>NaN</td>\n",
       "      <td>NaN</td>\n",
       "      <td>NaN</td>\n",
       "      <td>NaN</td>\n",
       "      <td>NaN</td>\n",
       "      <td>NaN</td>\n",
       "      <td>NaN</td>\n",
       "      <td>NaN</td>\n",
       "      <td>NaN</td>\n",
       "    </tr>\n",
       "    <tr>\n",
       "      <td>0000000000123</td>\n",
       "      <td>NaN</td>\n",
       "      <td>NaN</td>\n",
       "      <td>NaN</td>\n",
       "      <td>NaN</td>\n",
       "      <td>NaN</td>\n",
       "      <td>NaN</td>\n",
       "      <td>NaN</td>\n",
       "      <td>NaN</td>\n",
       "      <td>NaN</td>\n",
       "      <td>NaN</td>\n",
       "      <td>...</td>\n",
       "      <td>NaN</td>\n",
       "      <td>NaN</td>\n",
       "      <td>NaN</td>\n",
       "      <td>NaN</td>\n",
       "      <td>NaN</td>\n",
       "      <td>NaN</td>\n",
       "      <td>NaN</td>\n",
       "      <td>NaN</td>\n",
       "      <td>NaN</td>\n",
       "      <td>NaN</td>\n",
       "    </tr>\n",
       "    <tr>\n",
       "      <td>0000000000178</td>\n",
       "      <td>NaN</td>\n",
       "      <td>NaN</td>\n",
       "      <td>NaN</td>\n",
       "      <td>NaN</td>\n",
       "      <td>NaN</td>\n",
       "      <td>NaN</td>\n",
       "      <td>NaN</td>\n",
       "      <td>NaN</td>\n",
       "      <td>NaN</td>\n",
       "      <td>NaN</td>\n",
       "      <td>...</td>\n",
       "      <td>NaN</td>\n",
       "      <td>NaN</td>\n",
       "      <td>NaN</td>\n",
       "      <td>NaN</td>\n",
       "      <td>NaN</td>\n",
       "      <td>NaN</td>\n",
       "      <td>NaN</td>\n",
       "      <td>NaN</td>\n",
       "      <td>NaN</td>\n",
       "      <td>NaN</td>\n",
       "    </tr>\n",
       "  </tbody>\n",
       "</table>\n",
       "<p>5 rows × 119 columns</p>\n",
       "</div>"
      ],
      "text/plain": [
       "                      cities  allergens_en  serving_quantity  no_nutriments  \\\n",
       "code                                                                          \n",
       "0000000000017            NaN           NaN               NaN            NaN   \n",
       "000000000003327986       NaN           NaN               NaN            NaN   \n",
       "00000000001111111111     NaN           NaN               NaN            NaN   \n",
       "0000000000123            NaN           NaN               NaN            NaN   \n",
       "0000000000178            NaN           NaN               NaN            NaN   \n",
       "\n",
       "                      additives_n  ingredients_from_palm_oil_n  \\\n",
       "code                                                             \n",
       "0000000000017                 NaN                          NaN   \n",
       "000000000003327986            NaN                          NaN   \n",
       "00000000001111111111          NaN                          NaN   \n",
       "0000000000123                 NaN                          NaN   \n",
       "0000000000178                 NaN                          NaN   \n",
       "\n",
       "                      ingredients_from_palm_oil  \\\n",
       "code                                              \n",
       "0000000000017                               NaN   \n",
       "000000000003327986                          NaN   \n",
       "00000000001111111111                        NaN   \n",
       "0000000000123                               NaN   \n",
       "0000000000178                               NaN   \n",
       "\n",
       "                      ingredients_that_may_be_from_palm_oil_n  \\\n",
       "code                                                            \n",
       "0000000000017                                             NaN   \n",
       "000000000003327986                                        NaN   \n",
       "00000000001111111111                                      NaN   \n",
       "0000000000123                                             NaN   \n",
       "0000000000178                                             NaN   \n",
       "\n",
       "                      ingredients_that_may_be_from_palm_oil  nova_group  ...  \\\n",
       "code                                                                     ...   \n",
       "0000000000017                                           NaN         NaN  ...   \n",
       "000000000003327986                                      NaN         NaN  ...   \n",
       "00000000001111111111                                    NaN         NaN  ...   \n",
       "0000000000123                                           NaN         NaN  ...   \n",
       "0000000000178                                           NaN         NaN  ...   \n",
       "\n",
       "                      carbon-footprint-from-meat-or-fish_100g  \\\n",
       "code                                                            \n",
       "0000000000017                                             NaN   \n",
       "000000000003327986                                        NaN   \n",
       "00000000001111111111                                      NaN   \n",
       "0000000000123                                             NaN   \n",
       "0000000000178                                             NaN   \n",
       "\n",
       "                      nutrition-score-fr_100g  nutrition-score-uk_100g  \\\n",
       "code                                                                     \n",
       "0000000000017                             NaN                      NaN   \n",
       "000000000003327986                        NaN                      NaN   \n",
       "00000000001111111111                      NaN                      NaN   \n",
       "0000000000123                             NaN                      NaN   \n",
       "0000000000178                             NaN                      NaN   \n",
       "\n",
       "                      glycemic-index_100g  water-hardness_100g  choline_100g  \\\n",
       "code                                                                           \n",
       "0000000000017                         NaN                  NaN           NaN   \n",
       "000000000003327986                    NaN                  NaN           NaN   \n",
       "00000000001111111111                  NaN                  NaN           NaN   \n",
       "0000000000123                         NaN                  NaN           NaN   \n",
       "0000000000178                         NaN                  NaN           NaN   \n",
       "\n",
       "                      phylloquinone_100g  beta-glucan_100g  inositol_100g  \\\n",
       "code                                                                        \n",
       "0000000000017                        NaN               NaN            NaN   \n",
       "000000000003327986                   NaN               NaN            NaN   \n",
       "00000000001111111111                 NaN               NaN            NaN   \n",
       "0000000000123                        NaN               NaN            NaN   \n",
       "0000000000178                        NaN               NaN            NaN   \n",
       "\n",
       "                      carnitine_100g  \n",
       "code                                  \n",
       "0000000000017                    NaN  \n",
       "000000000003327986               NaN  \n",
       "00000000001111111111             NaN  \n",
       "0000000000123                    NaN  \n",
       "0000000000178                    NaN  \n",
       "\n",
       "[5 rows x 119 columns]"
      ]
     },
     "execution_count": 17,
     "metadata": {},
     "output_type": "execute_result"
    }
   ],
   "source": [
    "reliable_facts_df.head()"
   ]
  },
  {
   "cell_type": "markdown",
   "metadata": {},
   "source": [
    "As we can see, our dataset has a huge number of NaNs. Dropping all of them will lead to an empty dataframe. "
   ]
  },
  {
   "cell_type": "markdown",
   "metadata": {},
   "source": [
    "#### Dealing with missing values\n",
    "As an efficient strategy to deal with these missing values, we will first count the number of NaNs from the dataset and then remove the features where the number of missing values exceeds a certain threshold. "
   ]
  },
  {
   "cell_type": "markdown",
   "metadata": {},
   "source": [
    "Let's count the number of nans for each feature: "
   ]
  },
  {
   "cell_type": "code",
   "execution_count": 18,
   "metadata": {
    "ExecuteTime": {
     "end_time": "2019-11-24T19:54:24.255387Z",
     "start_time": "2019-11-24T19:54:23.786746Z"
    }
   },
   "outputs": [],
   "source": [
    "nutrition_facts_df=reliable_facts_df.copy()"
   ]
  },
  {
   "cell_type": "code",
   "execution_count": 19,
   "metadata": {
    "ExecuteTime": {
     "end_time": "2019-11-24T19:54:24.645952Z",
     "start_time": "2019-11-24T19:54:24.255387Z"
    }
   },
   "outputs": [
    {
     "data": {
      "text/plain": [
       "energy_100g            171079\n",
       "proteins_100g          172360\n",
       "fat_100g               174227\n",
       "carbohydrates_100g     174367\n",
       "sugars_100g            183886\n",
       "                        ...  \n",
       "-mead-acid_100g        909275\n",
       "-erucic-acid_100g      909275\n",
       "-nervonic-acid_100g    909275\n",
       "-caprylic-acid_100g    909275\n",
       "cities                 909275\n",
       "Length: 119, dtype: int64"
      ]
     },
     "execution_count": 19,
     "metadata": {},
     "output_type": "execute_result"
    }
   ],
   "source": [
    "NaNs_distribution_series=nutrition_facts_df.isnull().sum().sort_values()\n",
    "NaNs_distribution_series"
   ]
  },
  {
   "cell_type": "markdown",
   "metadata": {},
   "source": [
    "Let us visualize the distribution of NaNs in the dataset"
   ]
  },
  {
   "cell_type": "code",
   "execution_count": 20,
   "metadata": {
    "ExecuteTime": {
     "end_time": "2019-11-24T19:54:25.395797Z",
     "start_time": "2019-11-24T19:54:24.645952Z"
    }
   },
   "outputs": [
    {
     "data": {
      "image/png": "[encoded data removed]",
      "text/plain": [
       "<Figure size 864x360 with 1 Axes>"
      ]
     },
     "metadata": {
      "needs_background": "light"
     },
     "output_type": "display_data"
    }
   ],
   "source": [
    "nutrition_facts_df.isnull().sum().plot(kind='hist', figsize=(12,5),bins=50)\n",
    "plt.title('Distribution of NaNs')\n",
    "plt.xlabel('NaNs')\n",
    "\n",
    "plt.show()"
   ]
  },
  {
   "cell_type": "markdown",
   "metadata": {},
   "source": [
    "Many columns have a huge number of missing values(More than 85 columns with 350000 NaNs), let's try to remove some of them by playing with the threshold value.   \n",
    "We will plot the new distribution of NaNs. Our main objective is to remove this huge peak of frequency visualized in the plot above.   \n",
    "We tune the threshold with a trial and error to have a satisfactory result. "
   ]
  },
  {
   "cell_type": "code",
   "execution_count": 21,
   "metadata": {
    "ExecuteTime": {
     "end_time": "2019-11-24T19:54:26.661103Z",
     "start_time": "2019-11-24T19:54:25.395797Z"
    }
   },
   "outputs": [
    {
     "name": "stdout",
     "output_type": "stream",
     "text": [
      "There are now 753,337 rows and 17 columns left in our data\n"
     ]
    }
   ],
   "source": [
    "nutrition_facts_thresh_df = nutrition_facts_df.dropna(axis=1, thresh= len(nutrition_facts_df)*0.2,how='all')\n",
    "nutrition_facts_thresh_df = nutrition_facts_thresh_df.dropna(axis=0, how='all')\n",
    "\n",
    "print('There are now {:,} rows '.format(nutrition_facts_thresh_df.shape[0]) + 'and {} columns left in our data'.format(nutrition_facts_thresh_df.shape[1]))"
   ]
  },
  {
   "cell_type": "code",
   "execution_count": 22,
   "metadata": {
    "ExecuteTime": {
     "end_time": "2019-11-24T19:54:27.082844Z",
     "start_time": "2019-11-24T19:54:26.661103Z"
    }
   },
   "outputs": [
    {
     "data": {
      "image/png": "[encoded data removed]",
      "text/plain": [
       "<Figure size 720x360 with 1 Axes>"
      ]
     },
     "metadata": {
      "needs_background": "light"
     },
     "output_type": "display_data"
    }
   ],
   "source": [
    "nutrition_facts_thresh_df.isnull().sum().plot(kind='hist', figsize=(10,5),bins=50)\n",
    "plt.title('Distribution of NaNs')\n",
    "plt.xlabel('NaNs')\n",
    "\n",
    "plt.show()"
   ]
  },
  {
   "cell_type": "markdown",
   "metadata": {},
   "source": [
    "We will se the total number of missing values for each field in the dataset after filtering them. "
   ]
  },
  {
   "cell_type": "code",
   "execution_count": 23,
   "metadata": {
    "ExecuteTime": {
     "end_time": "2019-11-24T19:54:27.145330Z",
     "start_time": "2019-11-24T19:54:27.082844Z"
    }
   },
   "outputs": [
    {
     "data": {
      "text/plain": [
       "energy_100g                                 15141\n",
       "proteins_100g                               16422\n",
       "fat_100g                                    18289\n",
       "carbohydrates_100g                          18429\n",
       "sugars_100g                                 27948\n",
       "salt_100g                                   29684\n",
       "sodium_100g                                 29725\n",
       "saturated-fat_100g                          42673\n",
       "energy-kcal_100g                            49968\n",
       "additives_n                                402635\n",
       "ingredients_from_palm_oil_n                402635\n",
       "ingredients_that_may_be_from_palm_oil_n    402635\n",
       "fiber_100g                                 503950\n",
       "nova_group                                 512394\n",
       "serving_quantity                           529052\n",
       "nutrition-score-fr_100g                    530078\n",
       "nutrition-score-uk_100g                    530078\n",
       "dtype: int64"
      ]
     },
     "execution_count": 23,
     "metadata": {},
     "output_type": "execute_result"
    }
   ],
   "source": [
    "nutrition_facts_thresh_df.isnull().sum().sort_values()"
   ]
  },
  {
   "cell_type": "code",
   "execution_count": 24,
   "metadata": {
    "ExecuteTime": {
     "end_time": "2019-11-24T19:54:27.160951Z",
     "start_time": "2019-11-24T19:54:27.145330Z"
    }
   },
   "outputs": [
    {
     "name": "stdout",
     "output_type": "stream",
     "text": [
      "We have now 753337 of samples with 17 fields\n"
     ]
    }
   ],
   "source": [
    "print (\"We have now {} of samples with {} fields\".format(nutrition_facts_thresh_df.shape[0],\n",
    "                                                         nutrition_facts_thresh_df.shape[1]))"
   ]
  },
  {
   "cell_type": "markdown",
   "metadata": {},
   "source": [
    "We think that this is the optimal way to decrease the number of NaNs in this dataset. Putting the threshold higher then the selected value will delete the nutrition score columns. "
   ]
  },
  {
   "cell_type": "markdown",
   "metadata": {},
   "source": [
    "After dealing with the missing values, let's check the statistics of our data. "
   ]
  },
  {
   "cell_type": "markdown",
   "metadata": {},
   "source": [
    "#### Looking at the stats!"
   ]
  },
  {
   "cell_type": "code",
   "execution_count": 25,
   "metadata": {
    "ExecuteTime": {
     "end_time": "2019-11-24T19:54:27.942018Z",
     "start_time": "2019-11-24T19:54:27.160951Z"
    },
    "scrolled": true
   },
   "outputs": [
    {
     "data": {
      "text/html": [
       "<div>\n",
       "<style scoped>\n",
       "    .dataframe tbody tr th:only-of-type {\n",
       "        vertical-align: middle;\n",
       "    }\n",
       "\n",
       "    .dataframe tbody tr th {\n",
       "        vertical-align: top;\n",
       "    }\n",
       "\n",
       "    .dataframe thead th {\n",
       "        text-align: right;\n",
       "    }\n",
       "</style>\n",
       "<table border=\"1\" class=\"dataframe\">\n",
       "  <thead>\n",
       "    <tr style=\"text-align: right;\">\n",
       "      <th></th>\n",
       "      <th>serving_quantity</th>\n",
       "      <th>additives_n</th>\n",
       "      <th>ingredients_from_palm_oil_n</th>\n",
       "      <th>ingredients_that_may_be_from_palm_oil_n</th>\n",
       "      <th>nova_group</th>\n",
       "      <th>energy-kcal_100g</th>\n",
       "      <th>energy_100g</th>\n",
       "      <th>fat_100g</th>\n",
       "      <th>saturated-fat_100g</th>\n",
       "      <th>carbohydrates_100g</th>\n",
       "      <th>sugars_100g</th>\n",
       "      <th>fiber_100g</th>\n",
       "      <th>proteins_100g</th>\n",
       "      <th>salt_100g</th>\n",
       "      <th>sodium_100g</th>\n",
       "      <th>nutrition-score-fr_100g</th>\n",
       "      <th>nutrition-score-uk_100g</th>\n",
       "    </tr>\n",
       "  </thead>\n",
       "  <tbody>\n",
       "    <tr>\n",
       "      <td>count</td>\n",
       "      <td>2.242850e+05</td>\n",
       "      <td>350702.000000</td>\n",
       "      <td>350702.000000</td>\n",
       "      <td>350702.000000</td>\n",
       "      <td>240943.000000</td>\n",
       "      <td>7.033690e+05</td>\n",
       "      <td>7.381960e+05</td>\n",
       "      <td>735048.000000</td>\n",
       "      <td>710664.000000</td>\n",
       "      <td>734908.000000</td>\n",
       "      <td>725389.000000</td>\n",
       "      <td>249387.000000</td>\n",
       "      <td>736915.000000</td>\n",
       "      <td>723653.000000</td>\n",
       "      <td>723612.000000</td>\n",
       "      <td>223259.000000</td>\n",
       "      <td>223259.000000</td>\n",
       "    </tr>\n",
       "    <tr>\n",
       "      <td>mean</td>\n",
       "      <td>1.346306e+02</td>\n",
       "      <td>1.619067</td>\n",
       "      <td>0.025666</td>\n",
       "      <td>0.066187</td>\n",
       "      <td>3.663198</td>\n",
       "      <td>1.168606e+03</td>\n",
       "      <td>9.029525e+36</td>\n",
       "      <td>13.874774</td>\n",
       "      <td>5.253641</td>\n",
       "      <td>28.677263</td>\n",
       "      <td>14.280278</td>\n",
       "      <td>3.004989</td>\n",
       "      <td>8.468208</td>\n",
       "      <td>2.361525</td>\n",
       "      <td>0.945357</td>\n",
       "      <td>9.505400</td>\n",
       "      <td>9.298277</td>\n",
       "    </tr>\n",
       "    <tr>\n",
       "      <td>std</td>\n",
       "      <td>1.525221e+04</td>\n",
       "      <td>2.322212</td>\n",
       "      <td>0.160000</td>\n",
       "      <td>0.301945</td>\n",
       "      <td>0.773641</td>\n",
       "      <td>6.739273e+03</td>\n",
       "      <td>7.758017e+39</td>\n",
       "      <td>119.769869</td>\n",
       "      <td>10.920283</td>\n",
       "      <td>33.492672</td>\n",
       "      <td>24.566757</td>\n",
       "      <td>6.174345</td>\n",
       "      <td>35.631759</td>\n",
       "      <td>149.869319</td>\n",
       "      <td>59.950948</td>\n",
       "      <td>8.706922</td>\n",
       "      <td>9.196271</td>\n",
       "    </tr>\n",
       "    <tr>\n",
       "      <td>min</td>\n",
       "      <td>0.000000e+00</td>\n",
       "      <td>0.000000</td>\n",
       "      <td>0.000000</td>\n",
       "      <td>0.000000</td>\n",
       "      <td>1.000000</td>\n",
       "      <td>0.000000e+00</td>\n",
       "      <td>0.000000e+00</td>\n",
       "      <td>0.000000</td>\n",
       "      <td>0.000000</td>\n",
       "      <td>0.000000</td>\n",
       "      <td>-17.860000</td>\n",
       "      <td>-6.700000</td>\n",
       "      <td>-800.000000</td>\n",
       "      <td>0.000000</td>\n",
       "      <td>0.000000</td>\n",
       "      <td>-15.000000</td>\n",
       "      <td>-15.000000</td>\n",
       "    </tr>\n",
       "    <tr>\n",
       "      <td>25%</td>\n",
       "      <td>2.800000e+01</td>\n",
       "      <td>0.000000</td>\n",
       "      <td>0.000000</td>\n",
       "      <td>0.000000</td>\n",
       "      <td>4.000000</td>\n",
       "      <td>4.440000e+02</td>\n",
       "      <td>4.440000e+02</td>\n",
       "      <td>0.600000</td>\n",
       "      <td>0.100000</td>\n",
       "      <td>3.510000</td>\n",
       "      <td>0.700000</td>\n",
       "      <td>0.000000</td>\n",
       "      <td>1.100000</td>\n",
       "      <td>0.060000</td>\n",
       "      <td>0.024000</td>\n",
       "      <td>2.000000</td>\n",
       "      <td>1.000000</td>\n",
       "    </tr>\n",
       "    <tr>\n",
       "      <td>50%</td>\n",
       "      <td>4.300000e+01</td>\n",
       "      <td>1.000000</td>\n",
       "      <td>0.000000</td>\n",
       "      <td>0.000000</td>\n",
       "      <td>4.000000</td>\n",
       "      <td>1.125000e+03</td>\n",
       "      <td>1.117000e+03</td>\n",
       "      <td>7.000000</td>\n",
       "      <td>1.900000</td>\n",
       "      <td>15.660000</td>\n",
       "      <td>4.000000</td>\n",
       "      <td>1.500000</td>\n",
       "      <td>5.800000</td>\n",
       "      <td>0.530000</td>\n",
       "      <td>0.212000</td>\n",
       "      <td>10.000000</td>\n",
       "      <td>10.000000</td>\n",
       "    </tr>\n",
       "    <tr>\n",
       "      <td>75%</td>\n",
       "      <td>1.100000e+02</td>\n",
       "      <td>2.000000</td>\n",
       "      <td>0.000000</td>\n",
       "      <td>0.000000</td>\n",
       "      <td>4.000000</td>\n",
       "      <td>1.678000e+03</td>\n",
       "      <td>1.678000e+03</td>\n",
       "      <td>21.500000</td>\n",
       "      <td>7.500000</td>\n",
       "      <td>54.000000</td>\n",
       "      <td>20.550000</td>\n",
       "      <td>3.600000</td>\n",
       "      <td>12.000000</td>\n",
       "      <td>1.379220</td>\n",
       "      <td>0.551688</td>\n",
       "      <td>16.000000</td>\n",
       "      <td>17.000000</td>\n",
       "    </tr>\n",
       "    <tr>\n",
       "      <td>max</td>\n",
       "      <td>6.495676e+06</td>\n",
       "      <td>30.000000</td>\n",
       "      <td>3.000000</td>\n",
       "      <td>5.000000</td>\n",
       "      <td>4.000000</td>\n",
       "      <td>5.578665e+06</td>\n",
       "      <td>6.665559e+42</td>\n",
       "      <td>100000.111110</td>\n",
       "      <td>5555.000000</td>\n",
       "      <td>9292.000000</td>\n",
       "      <td>7520.000000</td>\n",
       "      <td>900.000000</td>\n",
       "      <td>22000.000000</td>\n",
       "      <td>101600.000000</td>\n",
       "      <td>40640.000000</td>\n",
       "      <td>40.000000</td>\n",
       "      <td>40.000000</td>\n",
       "    </tr>\n",
       "  </tbody>\n",
       "</table>\n",
       "</div>"
      ],
      "text/plain": [
       "       serving_quantity    additives_n  ingredients_from_palm_oil_n  \\\n",
       "count      2.242850e+05  350702.000000                350702.000000   \n",
       "mean       1.346306e+02       1.619067                     0.025666   \n",
       "std        1.525221e+04       2.322212                     0.160000   \n",
       "min        0.000000e+00       0.000000                     0.000000   \n",
       "25%        2.800000e+01       0.000000                     0.000000   \n",
       "50%        4.300000e+01       1.000000                     0.000000   \n",
       "75%        1.100000e+02       2.000000                     0.000000   \n",
       "max        6.495676e+06      30.000000                     3.000000   \n",
       "\n",
       "       ingredients_that_may_be_from_palm_oil_n     nova_group  \\\n",
       "count                            350702.000000  240943.000000   \n",
       "mean                                  0.066187       3.663198   \n",
       "std                                   0.301945       0.773641   \n",
       "min                                   0.000000       1.000000   \n",
       "25%                                   0.000000       4.000000   \n",
       "50%                                   0.000000       4.000000   \n",
       "75%                                   0.000000       4.000000   \n",
       "max                                   5.000000       4.000000   \n",
       "\n",
       "       energy-kcal_100g   energy_100g       fat_100g  saturated-fat_100g  \\\n",
       "count      7.033690e+05  7.381960e+05  735048.000000       710664.000000   \n",
       "mean       1.168606e+03  9.029525e+36      13.874774            5.253641   \n",
       "std        6.739273e+03  7.758017e+39     119.769869           10.920283   \n",
       "min        0.000000e+00  0.000000e+00       0.000000            0.000000   \n",
       "25%        4.440000e+02  4.440000e+02       0.600000            0.100000   \n",
       "50%        1.125000e+03  1.117000e+03       7.000000            1.900000   \n",
       "75%        1.678000e+03  1.678000e+03      21.500000            7.500000   \n",
       "max        5.578665e+06  6.665559e+42  100000.111110         5555.000000   \n",
       "\n",
       "       carbohydrates_100g    sugars_100g     fiber_100g  proteins_100g  \\\n",
       "count       734908.000000  725389.000000  249387.000000  736915.000000   \n",
       "mean            28.677263      14.280278       3.004989       8.468208   \n",
       "std             33.492672      24.566757       6.174345      35.631759   \n",
       "min              0.000000     -17.860000      -6.700000    -800.000000   \n",
       "25%              3.510000       0.700000       0.000000       1.100000   \n",
       "50%             15.660000       4.000000       1.500000       5.800000   \n",
       "75%             54.000000      20.550000       3.600000      12.000000   \n",
       "max           9292.000000    7520.000000     900.000000   22000.000000   \n",
       "\n",
       "           salt_100g    sodium_100g  nutrition-score-fr_100g  \\\n",
       "count  723653.000000  723612.000000            223259.000000   \n",
       "mean        2.361525       0.945357                 9.505400   \n",
       "std       149.869319      59.950948                 8.706922   \n",
       "min         0.000000       0.000000               -15.000000   \n",
       "25%         0.060000       0.024000                 2.000000   \n",
       "50%         0.530000       0.212000                10.000000   \n",
       "75%         1.379220       0.551688                16.000000   \n",
       "max    101600.000000   40640.000000                40.000000   \n",
       "\n",
       "       nutrition-score-uk_100g  \n",
       "count            223259.000000  \n",
       "mean                  9.298277  \n",
       "std                   9.196271  \n",
       "min                 -15.000000  \n",
       "25%                   1.000000  \n",
       "50%                  10.000000  \n",
       "75%                  17.000000  \n",
       "max                  40.000000  "
      ]
     },
     "execution_count": 25,
     "metadata": {},
     "output_type": "execute_result"
    }
   ],
   "source": [
    "nutrition_facts_thresh_df.describe()"
   ]
  },
  {
   "cell_type": "markdown",
   "metadata": {},
   "source": [
    "Well, It seems that there is no difference between the `nutrition-score-fr_100g` and `nutrition-score-uk_100g`. Let's analyse that. "
   ]
  },
  {
   "cell_type": "code",
   "execution_count": 26,
   "metadata": {
    "ExecuteTime": {
     "end_time": "2019-11-24T19:54:28.270065Z",
     "start_time": "2019-11-24T19:54:27.942018Z"
    }
   },
   "outputs": [
    {
     "data": {
      "image/png": "[encoded data removed]",
      "text/plain": [
       "<Figure size 576x360 with 2 Axes>"
      ]
     },
     "metadata": {
      "needs_background": "light"
     },
     "output_type": "display_data"
    }
   ],
   "source": [
    "nutrition_facts_thresh_df[['nutrition-score-fr_100g','nutrition-score-uk_100g']].select_dtypes(include=float).plot(kind='box', subplots=True, title='Nutrition score uk and fr boxplots', figsize=(8,5))\n",
    "\n",
    "plt.show()"
   ]
  },
  {
   "cell_type": "markdown",
   "metadata": {},
   "source": [
    "As expected, the two scores has the same distribution except some outliers in the `nutrition-score-fr_100g`."
   ]
  },
  {
   "cell_type": "markdown",
   "metadata": {},
   "source": [
    "#### Dealing with outliers\n",
    "\n",
    "Visualizing the stats. We see a huge number of outliers in the dataset after looking to min, max, mean and standard deviation of each feature.\n",
    "All the ingredient features should have a reasonable value <=100g except the energy which is expressed in kJ. "
   ]
  },
  {
   "cell_type": "markdown",
   "metadata": {},
   "source": [
    "First, the column `serving_quantity` is not an ingredient. It can be dropped "
   ]
  },
  {
   "cell_type": "code",
   "execution_count": 27,
   "metadata": {
    "ExecuteTime": {
     "end_time": "2019-11-24T19:54:28.348173Z",
     "start_time": "2019-11-24T19:54:28.270065Z"
    }
   },
   "outputs": [],
   "source": [
    "nutrition_facts_thresh_df=nutrition_facts_thresh_df.drop(columns=['serving_quantity'])"
   ]
  },
  {
   "cell_type": "code",
   "execution_count": 28,
   "metadata": {
    "ExecuteTime": {
     "end_time": "2019-11-24T19:54:28.363951Z",
     "start_time": "2019-11-24T19:54:28.348173Z"
    }
   },
   "outputs": [],
   "source": [
    "# storing the columns fields in a list\n",
    "fields=list(nutrition_facts_thresh_df.columns)"
   ]
  },
  {
   "cell_type": "markdown",
   "metadata": {},
   "source": [
    "Let us now remove the outliers. All nutrition feautres should have a value <=100g (except energy_100g)"
   ]
  },
  {
   "cell_type": "code",
   "execution_count": 29,
   "metadata": {
    "ExecuteTime": {
     "end_time": "2019-11-24T19:54:28.566909Z",
     "start_time": "2019-11-24T19:54:28.363951Z"
    }
   },
   "outputs": [],
   "source": [
    "nutrition_facts_clean_df= nutrition_facts_thresh_df[(nutrition_facts_thresh_df\n",
    "                                                      [nutrition_facts_thresh_df.columns.difference(['energy_100g'])] <= 100.0).all(1)]\n"
   ]
  },
  {
   "cell_type": "markdown",
   "metadata": {},
   "source": [
    "Negative values can not be possible. Except for the nutrition score that is by definition defined between -14 and 40 "
   ]
  },
  {
   "cell_type": "code",
   "execution_count": 30,
   "metadata": {
    "ExecuteTime": {
     "end_time": "2019-11-24T19:54:28.582492Z",
     "start_time": "2019-11-24T19:54:28.566909Z"
    }
   },
   "outputs": [],
   "source": [
    "\n",
    "nutrition_facts_clean_df = nutrition_facts_clean_df[(nutrition_facts_clean_df[nutrition_facts_clean_df.columns.difference(['nutrition_score_fr_100g', 'nutrition_score_uk_100g'])] >= 0).all(1)]"
   ]
  },
  {
   "cell_type": "code",
   "execution_count": 31,
   "metadata": {
    "ExecuteTime": {
     "end_time": "2019-11-24T19:54:28.598114Z",
     "start_time": "2019-11-24T19:54:28.582492Z"
    },
    "scrolled": true
   },
   "outputs": [
    {
     "name": "stdout",
     "output_type": "stream",
     "text": [
      "We have only 1748 rows left\n"
     ]
    }
   ],
   "source": [
    "print(\"We have only {} rows left\".format(nutrition_facts_clean_df.shape[0]))"
   ]
  },
  {
   "cell_type": "markdown",
   "metadata": {},
   "source": [
    "We lost a huge number of rows by removing the outliers. The dataset is highly corrupted in terms of ingredients.  We are going to see later if this number of samples is enough to have significant results. "
   ]
  },
  {
   "cell_type": "code",
   "execution_count": 32,
   "metadata": {
    "ExecuteTime": {
     "end_time": "2019-11-24T19:54:28.629354Z",
     "start_time": "2019-11-24T19:54:28.598114Z"
    },
    "scrolled": true
   },
   "outputs": [
    {
     "data": {
      "text/html": [
       "<div>\n",
       "<style scoped>\n",
       "    .dataframe tbody tr th:only-of-type {\n",
       "        vertical-align: middle;\n",
       "    }\n",
       "\n",
       "    .dataframe tbody tr th {\n",
       "        vertical-align: top;\n",
       "    }\n",
       "\n",
       "    .dataframe thead th {\n",
       "        text-align: right;\n",
       "    }\n",
       "</style>\n",
       "<table border=\"1\" class=\"dataframe\">\n",
       "  <thead>\n",
       "    <tr style=\"text-align: right;\">\n",
       "      <th></th>\n",
       "      <th>additives_n</th>\n",
       "      <th>ingredients_from_palm_oil_n</th>\n",
       "      <th>ingredients_that_may_be_from_palm_oil_n</th>\n",
       "      <th>nova_group</th>\n",
       "      <th>energy-kcal_100g</th>\n",
       "      <th>energy_100g</th>\n",
       "      <th>fat_100g</th>\n",
       "      <th>saturated-fat_100g</th>\n",
       "      <th>carbohydrates_100g</th>\n",
       "      <th>sugars_100g</th>\n",
       "      <th>fiber_100g</th>\n",
       "      <th>proteins_100g</th>\n",
       "      <th>salt_100g</th>\n",
       "      <th>sodium_100g</th>\n",
       "      <th>nutrition-score-fr_100g</th>\n",
       "      <th>nutrition-score-uk_100g</th>\n",
       "    </tr>\n",
       "    <tr>\n",
       "      <th>code</th>\n",
       "      <th></th>\n",
       "      <th></th>\n",
       "      <th></th>\n",
       "      <th></th>\n",
       "      <th></th>\n",
       "      <th></th>\n",
       "      <th></th>\n",
       "      <th></th>\n",
       "      <th></th>\n",
       "      <th></th>\n",
       "      <th></th>\n",
       "      <th></th>\n",
       "      <th></th>\n",
       "      <th></th>\n",
       "      <th></th>\n",
       "      <th></th>\n",
       "    </tr>\n",
       "  </thead>\n",
       "  <tbody>\n",
       "    <tr>\n",
       "      <td>00071604</td>\n",
       "      <td>1.0</td>\n",
       "      <td>0.0</td>\n",
       "      <td>0.0</td>\n",
       "      <td>4.0</td>\n",
       "      <td>29.0</td>\n",
       "      <td>29.0</td>\n",
       "      <td>0.10</td>\n",
       "      <td>0.1</td>\n",
       "      <td>1.100</td>\n",
       "      <td>1.100</td>\n",
       "      <td>0.100</td>\n",
       "      <td>0.200</td>\n",
       "      <td>0.10000</td>\n",
       "      <td>0.040000</td>\n",
       "      <td>2.0</td>\n",
       "      <td>0.0</td>\n",
       "    </tr>\n",
       "    <tr>\n",
       "      <td>0011110489579</td>\n",
       "      <td>5.0</td>\n",
       "      <td>0.0</td>\n",
       "      <td>0.0</td>\n",
       "      <td>4.0</td>\n",
       "      <td>0.0</td>\n",
       "      <td>0.0</td>\n",
       "      <td>0.00</td>\n",
       "      <td>0.0</td>\n",
       "      <td>0.000</td>\n",
       "      <td>0.000</td>\n",
       "      <td>0.000</td>\n",
       "      <td>0.000</td>\n",
       "      <td>0.01524</td>\n",
       "      <td>0.006096</td>\n",
       "      <td>0.0</td>\n",
       "      <td>0.0</td>\n",
       "    </tr>\n",
       "    <tr>\n",
       "      <td>0011110738448</td>\n",
       "      <td>2.0</td>\n",
       "      <td>0.0</td>\n",
       "      <td>0.0</td>\n",
       "      <td>4.0</td>\n",
       "      <td>8.0</td>\n",
       "      <td>8.0</td>\n",
       "      <td>0.00</td>\n",
       "      <td>0.0</td>\n",
       "      <td>0.000</td>\n",
       "      <td>0.000</td>\n",
       "      <td>0.000</td>\n",
       "      <td>0.420</td>\n",
       "      <td>0.97282</td>\n",
       "      <td>0.389128</td>\n",
       "      <td>4.0</td>\n",
       "      <td>4.0</td>\n",
       "    </tr>\n",
       "    <tr>\n",
       "      <td>0011110738462</td>\n",
       "      <td>0.0</td>\n",
       "      <td>0.0</td>\n",
       "      <td>0.0</td>\n",
       "      <td>4.0</td>\n",
       "      <td>8.0</td>\n",
       "      <td>8.0</td>\n",
       "      <td>0.00</td>\n",
       "      <td>0.0</td>\n",
       "      <td>0.420</td>\n",
       "      <td>0.420</td>\n",
       "      <td>0.000</td>\n",
       "      <td>0.000</td>\n",
       "      <td>0.77216</td>\n",
       "      <td>0.308864</td>\n",
       "      <td>3.0</td>\n",
       "      <td>3.0</td>\n",
       "    </tr>\n",
       "    <tr>\n",
       "      <td>0011110810014</td>\n",
       "      <td>0.0</td>\n",
       "      <td>0.0</td>\n",
       "      <td>0.0</td>\n",
       "      <td>3.0</td>\n",
       "      <td>71.0</td>\n",
       "      <td>71.0</td>\n",
       "      <td>0.00</td>\n",
       "      <td>0.0</td>\n",
       "      <td>3.330</td>\n",
       "      <td>0.000</td>\n",
       "      <td>3.300</td>\n",
       "      <td>0.000</td>\n",
       "      <td>1.60782</td>\n",
       "      <td>0.643128</td>\n",
       "      <td>4.0</td>\n",
       "      <td>4.0</td>\n",
       "    </tr>\n",
       "    <tr>\n",
       "      <td>0011110825872</td>\n",
       "      <td>1.0</td>\n",
       "      <td>0.0</td>\n",
       "      <td>0.0</td>\n",
       "      <td>3.0</td>\n",
       "      <td>59.0</td>\n",
       "      <td>59.0</td>\n",
       "      <td>0.00</td>\n",
       "      <td>0.0</td>\n",
       "      <td>2.110</td>\n",
       "      <td>0.000</td>\n",
       "      <td>0.700</td>\n",
       "      <td>0.700</td>\n",
       "      <td>0.08890</td>\n",
       "      <td>0.035560</td>\n",
       "      <td>0.0</td>\n",
       "      <td>0.0</td>\n",
       "    </tr>\n",
       "    <tr>\n",
       "      <td>0011110845931</td>\n",
       "      <td>4.0</td>\n",
       "      <td>0.0</td>\n",
       "      <td>0.0</td>\n",
       "      <td>4.0</td>\n",
       "      <td>69.6</td>\n",
       "      <td>69.6</td>\n",
       "      <td>1.25</td>\n",
       "      <td>0.0</td>\n",
       "      <td>0.833</td>\n",
       "      <td>0.417</td>\n",
       "      <td>0.417</td>\n",
       "      <td>0.417</td>\n",
       "      <td>0.19100</td>\n",
       "      <td>0.076200</td>\n",
       "      <td>0.0</td>\n",
       "      <td>0.0</td>\n",
       "    </tr>\n",
       "    <tr>\n",
       "      <td>0011110874399</td>\n",
       "      <td>0.0</td>\n",
       "      <td>0.0</td>\n",
       "      <td>0.0</td>\n",
       "      <td>4.0</td>\n",
       "      <td>8.0</td>\n",
       "      <td>8.0</td>\n",
       "      <td>0.00</td>\n",
       "      <td>0.0</td>\n",
       "      <td>0.420</td>\n",
       "      <td>0.420</td>\n",
       "      <td>0.000</td>\n",
       "      <td>0.000</td>\n",
       "      <td>0.80518</td>\n",
       "      <td>0.322072</td>\n",
       "      <td>3.0</td>\n",
       "      <td>3.0</td>\n",
       "    </tr>\n",
       "    <tr>\n",
       "      <td>0011110893291</td>\n",
       "      <td>0.0</td>\n",
       "      <td>0.0</td>\n",
       "      <td>0.0</td>\n",
       "      <td>3.0</td>\n",
       "      <td>0.0</td>\n",
       "      <td>0.0</td>\n",
       "      <td>0.00</td>\n",
       "      <td>0.0</td>\n",
       "      <td>0.000</td>\n",
       "      <td>0.000</td>\n",
       "      <td>0.000</td>\n",
       "      <td>0.000</td>\n",
       "      <td>3.05000</td>\n",
       "      <td>1.220000</td>\n",
       "      <td>10.0</td>\n",
       "      <td>10.0</td>\n",
       "    </tr>\n",
       "    <tr>\n",
       "      <td>0011110913487</td>\n",
       "      <td>0.0</td>\n",
       "      <td>0.0</td>\n",
       "      <td>0.0</td>\n",
       "      <td>4.0</td>\n",
       "      <td>17.0</td>\n",
       "      <td>17.0</td>\n",
       "      <td>0.00</td>\n",
       "      <td>0.0</td>\n",
       "      <td>0.830</td>\n",
       "      <td>0.420</td>\n",
       "      <td>0.000</td>\n",
       "      <td>0.000</td>\n",
       "      <td>0.58166</td>\n",
       "      <td>0.232664</td>\n",
       "      <td>2.0</td>\n",
       "      <td>2.0</td>\n",
       "    </tr>\n",
       "  </tbody>\n",
       "</table>\n",
       "</div>"
      ],
      "text/plain": [
       "               additives_n  ingredients_from_palm_oil_n  \\\n",
       "code                                                      \n",
       "00071604               1.0                          0.0   \n",
       "0011110489579          5.0                          0.0   \n",
       "0011110738448          2.0                          0.0   \n",
       "0011110738462          0.0                          0.0   \n",
       "0011110810014          0.0                          0.0   \n",
       "0011110825872          1.0                          0.0   \n",
       "0011110845931          4.0                          0.0   \n",
       "0011110874399          0.0                          0.0   \n",
       "0011110893291          0.0                          0.0   \n",
       "0011110913487          0.0                          0.0   \n",
       "\n",
       "               ingredients_that_may_be_from_palm_oil_n  nova_group  \\\n",
       "code                                                                 \n",
       "00071604                                           0.0         4.0   \n",
       "0011110489579                                      0.0         4.0   \n",
       "0011110738448                                      0.0         4.0   \n",
       "0011110738462                                      0.0         4.0   \n",
       "0011110810014                                      0.0         3.0   \n",
       "0011110825872                                      0.0         3.0   \n",
       "0011110845931                                      0.0         4.0   \n",
       "0011110874399                                      0.0         4.0   \n",
       "0011110893291                                      0.0         3.0   \n",
       "0011110913487                                      0.0         4.0   \n",
       "\n",
       "               energy-kcal_100g  energy_100g  fat_100g  saturated-fat_100g  \\\n",
       "code                                                                         \n",
       "00071604                   29.0         29.0      0.10                 0.1   \n",
       "0011110489579               0.0          0.0      0.00                 0.0   \n",
       "0011110738448               8.0          8.0      0.00                 0.0   \n",
       "0011110738462               8.0          8.0      0.00                 0.0   \n",
       "0011110810014              71.0         71.0      0.00                 0.0   \n",
       "0011110825872              59.0         59.0      0.00                 0.0   \n",
       "0011110845931              69.6         69.6      1.25                 0.0   \n",
       "0011110874399               8.0          8.0      0.00                 0.0   \n",
       "0011110893291               0.0          0.0      0.00                 0.0   \n",
       "0011110913487              17.0         17.0      0.00                 0.0   \n",
       "\n",
       "               carbohydrates_100g  sugars_100g  fiber_100g  proteins_100g  \\\n",
       "code                                                                        \n",
       "00071604                    1.100        1.100       0.100          0.200   \n",
       "0011110489579               0.000        0.000       0.000          0.000   \n",
       "0011110738448               0.000        0.000       0.000          0.420   \n",
       "0011110738462               0.420        0.420       0.000          0.000   \n",
       "0011110810014               3.330        0.000       3.300          0.000   \n",
       "0011110825872               2.110        0.000       0.700          0.700   \n",
       "0011110845931               0.833        0.417       0.417          0.417   \n",
       "0011110874399               0.420        0.420       0.000          0.000   \n",
       "0011110893291               0.000        0.000       0.000          0.000   \n",
       "0011110913487               0.830        0.420       0.000          0.000   \n",
       "\n",
       "               salt_100g  sodium_100g  nutrition-score-fr_100g  \\\n",
       "code                                                             \n",
       "00071604         0.10000     0.040000                      2.0   \n",
       "0011110489579    0.01524     0.006096                      0.0   \n",
       "0011110738448    0.97282     0.389128                      4.0   \n",
       "0011110738462    0.77216     0.308864                      3.0   \n",
       "0011110810014    1.60782     0.643128                      4.0   \n",
       "0011110825872    0.08890     0.035560                      0.0   \n",
       "0011110845931    0.19100     0.076200                      0.0   \n",
       "0011110874399    0.80518     0.322072                      3.0   \n",
       "0011110893291    3.05000     1.220000                     10.0   \n",
       "0011110913487    0.58166     0.232664                      2.0   \n",
       "\n",
       "               nutrition-score-uk_100g  \n",
       "code                                    \n",
       "00071604                           0.0  \n",
       "0011110489579                      0.0  \n",
       "0011110738448                      4.0  \n",
       "0011110738462                      3.0  \n",
       "0011110810014                      4.0  \n",
       "0011110825872                      0.0  \n",
       "0011110845931                      0.0  \n",
       "0011110874399                      3.0  \n",
       "0011110893291                     10.0  \n",
       "0011110913487                      2.0  "
      ]
     },
     "execution_count": 32,
     "metadata": {},
     "output_type": "execute_result"
    }
   ],
   "source": [
    "nutrition_facts_clean_df.head(10)"
   ]
  },
  {
   "cell_type": "markdown",
   "metadata": {},
   "source": [
    "We lost a huge number of rows but the dataset is now very clean !! "
   ]
  },
  {
   "cell_type": "markdown",
   "metadata": {},
   "source": [
    "### Data exploration"
   ]
  },
  {
   "cell_type": "markdown",
   "metadata": {},
   "source": [
    "Now we have a clean dataset. Our strategy to find the impact of each variable on the nutrition score is the following: \n",
    "\n",
    "* 1) Correlation analysis between the variables \n",
    "* 2) Performing ordinary least square (OLS) regression using statsmodel \n",
    "* 3) Coefficient analysis\n"
   ]
  },
  {
   "cell_type": "markdown",
   "metadata": {},
   "source": [
    "Before analyzing the impact of our variables on the nutrition score, we need to normalize our data by removing the mean and dividng by the standard deviation "
   ]
  },
  {
   "cell_type": "code",
   "execution_count": 33,
   "metadata": {
    "ExecuteTime": {
     "end_time": "2019-11-24T19:54:28.660597Z",
     "start_time": "2019-11-24T19:54:28.629354Z"
    }
   },
   "outputs": [],
   "source": [
    "nutrition_facts_clean_df = nutrition_facts_clean_df.select_dtypes(include=float).transform(lambda x: (x - x.mean()) / x.std())"
   ]
  },
  {
   "cell_type": "markdown",
   "metadata": {},
   "source": [
    "We can check now if the mean of our variables is close to zero and the standard deviation is close to 1. "
   ]
  },
  {
   "cell_type": "code",
   "execution_count": 34,
   "metadata": {
    "ExecuteTime": {
     "end_time": "2019-11-24T19:54:28.738705Z",
     "start_time": "2019-11-24T19:54:28.660597Z"
    }
   },
   "outputs": [
    {
     "data": {
      "text/html": [
       "<div>\n",
       "<style scoped>\n",
       "    .dataframe tbody tr th:only-of-type {\n",
       "        vertical-align: middle;\n",
       "    }\n",
       "\n",
       "    .dataframe tbody tr th {\n",
       "        vertical-align: top;\n",
       "    }\n",
       "\n",
       "    .dataframe thead th {\n",
       "        text-align: right;\n",
       "    }\n",
       "</style>\n",
       "<table border=\"1\" class=\"dataframe\">\n",
       "  <thead>\n",
       "    <tr style=\"text-align: right;\">\n",
       "      <th></th>\n",
       "      <th>additives_n</th>\n",
       "      <th>ingredients_from_palm_oil_n</th>\n",
       "      <th>ingredients_that_may_be_from_palm_oil_n</th>\n",
       "      <th>nova_group</th>\n",
       "      <th>energy-kcal_100g</th>\n",
       "      <th>energy_100g</th>\n",
       "      <th>fat_100g</th>\n",
       "      <th>saturated-fat_100g</th>\n",
       "      <th>carbohydrates_100g</th>\n",
       "      <th>sugars_100g</th>\n",
       "      <th>fiber_100g</th>\n",
       "      <th>proteins_100g</th>\n",
       "      <th>salt_100g</th>\n",
       "      <th>sodium_100g</th>\n",
       "      <th>nutrition-score-fr_100g</th>\n",
       "      <th>nutrition-score-uk_100g</th>\n",
       "    </tr>\n",
       "  </thead>\n",
       "  <tbody>\n",
       "    <tr>\n",
       "      <td>count</td>\n",
       "      <td>1.748000e+03</td>\n",
       "      <td>1.748000e+03</td>\n",
       "      <td>1.748000e+03</td>\n",
       "      <td>1.748000e+03</td>\n",
       "      <td>1.748000e+03</td>\n",
       "      <td>1.748000e+03</td>\n",
       "      <td>1.748000e+03</td>\n",
       "      <td>1.748000e+03</td>\n",
       "      <td>1.748000e+03</td>\n",
       "      <td>1.748000e+03</td>\n",
       "      <td>1.748000e+03</td>\n",
       "      <td>1.748000e+03</td>\n",
       "      <td>1.748000e+03</td>\n",
       "      <td>1.748000e+03</td>\n",
       "      <td>1.748000e+03</td>\n",
       "      <td>1.748000e+03</td>\n",
       "    </tr>\n",
       "    <tr>\n",
       "      <td>mean</td>\n",
       "      <td>2.543414e-16</td>\n",
       "      <td>1.112367e-15</td>\n",
       "      <td>-8.413052e-16</td>\n",
       "      <td>3.841321e-16</td>\n",
       "      <td>2.249662e-16</td>\n",
       "      <td>1.998147e-16</td>\n",
       "      <td>-4.090137e-16</td>\n",
       "      <td>-1.438907e-16</td>\n",
       "      <td>-1.898589e-16</td>\n",
       "      <td>3.103289e-16</td>\n",
       "      <td>1.042104e-15</td>\n",
       "      <td>-5.010929e-16</td>\n",
       "      <td>-4.404848e-16</td>\n",
       "      <td>1.871739e-15</td>\n",
       "      <td>5.551115e-17</td>\n",
       "      <td>3.252547e-15</td>\n",
       "    </tr>\n",
       "    <tr>\n",
       "      <td>std</td>\n",
       "      <td>1.000000e+00</td>\n",
       "      <td>1.000000e+00</td>\n",
       "      <td>1.000000e+00</td>\n",
       "      <td>1.000000e+00</td>\n",
       "      <td>1.000000e+00</td>\n",
       "      <td>1.000000e+00</td>\n",
       "      <td>1.000000e+00</td>\n",
       "      <td>1.000000e+00</td>\n",
       "      <td>1.000000e+00</td>\n",
       "      <td>1.000000e+00</td>\n",
       "      <td>1.000000e+00</td>\n",
       "      <td>1.000000e+00</td>\n",
       "      <td>1.000000e+00</td>\n",
       "      <td>1.000000e+00</td>\n",
       "      <td>1.000000e+00</td>\n",
       "      <td>1.000000e+00</td>\n",
       "    </tr>\n",
       "    <tr>\n",
       "      <td>min</td>\n",
       "      <td>-8.613039e-01</td>\n",
       "      <td>-8.311731e-02</td>\n",
       "      <td>-1.472095e-01</td>\n",
       "      <td>-2.380709e+00</td>\n",
       "      <td>-1.022623e+00</td>\n",
       "      <td>-1.014629e+00</td>\n",
       "      <td>-1.141023e-01</td>\n",
       "      <td>-1.222432e-01</td>\n",
       "      <td>-3.267985e-01</td>\n",
       "      <td>-3.247022e-01</td>\n",
       "      <td>-1.934493e-01</td>\n",
       "      <td>-1.856277e-01</td>\n",
       "      <td>-1.891762e-01</td>\n",
       "      <td>-1.891670e-01</td>\n",
       "      <td>-9.881935e-01</td>\n",
       "      <td>-5.272459e-01</td>\n",
       "    </tr>\n",
       "    <tr>\n",
       "      <td>25%</td>\n",
       "      <td>-8.613039e-01</td>\n",
       "      <td>-8.311731e-02</td>\n",
       "      <td>-1.472095e-01</td>\n",
       "      <td>-4.149654e-01</td>\n",
       "      <td>-1.022623e+00</td>\n",
       "      <td>-1.014629e+00</td>\n",
       "      <td>-1.141023e-01</td>\n",
       "      <td>-1.222432e-01</td>\n",
       "      <td>-3.267985e-01</td>\n",
       "      <td>-3.247022e-01</td>\n",
       "      <td>-1.934493e-01</td>\n",
       "      <td>-1.856277e-01</td>\n",
       "      <td>-1.891762e-01</td>\n",
       "      <td>-1.891670e-01</td>\n",
       "      <td>-9.881935e-01</td>\n",
       "      <td>-5.272459e-01</td>\n",
       "    </tr>\n",
       "    <tr>\n",
       "      <td>50%</td>\n",
       "      <td>-4.063147e-01</td>\n",
       "      <td>-8.311731e-02</td>\n",
       "      <td>-1.472095e-01</td>\n",
       "      <td>5.679066e-01</td>\n",
       "      <td>-4.564418e-01</td>\n",
       "      <td>-4.547819e-01</td>\n",
       "      <td>-1.141023e-01</td>\n",
       "      <td>-1.222432e-01</td>\n",
       "      <td>-2.482046e-01</td>\n",
       "      <td>-2.820822e-01</td>\n",
       "      <td>-1.934493e-01</td>\n",
       "      <td>-1.856277e-01</td>\n",
       "      <td>-1.854753e-01</td>\n",
       "      <td>-1.854663e-01</td>\n",
       "      <td>-4.303501e-01</td>\n",
       "      <td>-5.272459e-01</td>\n",
       "    </tr>\n",
       "    <tr>\n",
       "      <td>75%</td>\n",
       "      <td>5.036637e-01</td>\n",
       "      <td>-8.311731e-02</td>\n",
       "      <td>-1.472095e-01</td>\n",
       "      <td>5.679066e-01</td>\n",
       "      <td>9.994527e-01</td>\n",
       "      <td>9.848239e-01</td>\n",
       "      <td>-1.141023e-01</td>\n",
       "      <td>-1.222432e-01</td>\n",
       "      <td>5.196720e-02</td>\n",
       "      <td>1.483793e-01</td>\n",
       "      <td>-1.883977e-01</td>\n",
       "      <td>1.948857e-02</td>\n",
       "      <td>-1.010043e-01</td>\n",
       "      <td>-1.009816e-01</td>\n",
       "      <td>6.853369e-01</td>\n",
       "      <td>9.505379e-02</td>\n",
       "    </tr>\n",
       "    <tr>\n",
       "      <td>max</td>\n",
       "      <td>4.598567e+00</td>\n",
       "      <td>1.202430e+01</td>\n",
       "      <td>1.304880e+01</td>\n",
       "      <td>5.679066e-01</td>\n",
       "      <td>1.673478e+00</td>\n",
       "      <td>6.236719e+00</td>\n",
       "      <td>2.456213e+01</td>\n",
       "      <td>1.554943e+01</td>\n",
       "      <td>9.142343e+00</td>\n",
       "      <td>1.388195e+01</td>\n",
       "      <td>3.163161e+01</td>\n",
       "      <td>2.032600e+01</td>\n",
       "      <td>1.392052e+01</td>\n",
       "      <td>1.391979e+01</td>\n",
       "      <td>5.984850e+00</td>\n",
       "      <td>6.006901e+00</td>\n",
       "    </tr>\n",
       "  </tbody>\n",
       "</table>\n",
       "</div>"
      ],
      "text/plain": [
       "        additives_n  ingredients_from_palm_oil_n  \\\n",
       "count  1.748000e+03                 1.748000e+03   \n",
       "mean   2.543414e-16                 1.112367e-15   \n",
       "std    1.000000e+00                 1.000000e+00   \n",
       "min   -8.613039e-01                -8.311731e-02   \n",
       "25%   -8.613039e-01                -8.311731e-02   \n",
       "50%   -4.063147e-01                -8.311731e-02   \n",
       "75%    5.036637e-01                -8.311731e-02   \n",
       "max    4.598567e+00                 1.202430e+01   \n",
       "\n",
       "       ingredients_that_may_be_from_palm_oil_n    nova_group  \\\n",
       "count                             1.748000e+03  1.748000e+03   \n",
       "mean                             -8.413052e-16  3.841321e-16   \n",
       "std                               1.000000e+00  1.000000e+00   \n",
       "min                              -1.472095e-01 -2.380709e+00   \n",
       "25%                              -1.472095e-01 -4.149654e-01   \n",
       "50%                              -1.472095e-01  5.679066e-01   \n",
       "75%                              -1.472095e-01  5.679066e-01   \n",
       "max                               1.304880e+01  5.679066e-01   \n",
       "\n",
       "       energy-kcal_100g   energy_100g      fat_100g  saturated-fat_100g  \\\n",
       "count      1.748000e+03  1.748000e+03  1.748000e+03        1.748000e+03   \n",
       "mean       2.249662e-16  1.998147e-16 -4.090137e-16       -1.438907e-16   \n",
       "std        1.000000e+00  1.000000e+00  1.000000e+00        1.000000e+00   \n",
       "min       -1.022623e+00 -1.014629e+00 -1.141023e-01       -1.222432e-01   \n",
       "25%       -1.022623e+00 -1.014629e+00 -1.141023e-01       -1.222432e-01   \n",
       "50%       -4.564418e-01 -4.547819e-01 -1.141023e-01       -1.222432e-01   \n",
       "75%        9.994527e-01  9.848239e-01 -1.141023e-01       -1.222432e-01   \n",
       "max        1.673478e+00  6.236719e+00  2.456213e+01        1.554943e+01   \n",
       "\n",
       "       carbohydrates_100g   sugars_100g    fiber_100g  proteins_100g  \\\n",
       "count        1.748000e+03  1.748000e+03  1.748000e+03   1.748000e+03   \n",
       "mean        -1.898589e-16  3.103289e-16  1.042104e-15  -5.010929e-16   \n",
       "std          1.000000e+00  1.000000e+00  1.000000e+00   1.000000e+00   \n",
       "min         -3.267985e-01 -3.247022e-01 -1.934493e-01  -1.856277e-01   \n",
       "25%         -3.267985e-01 -3.247022e-01 -1.934493e-01  -1.856277e-01   \n",
       "50%         -2.482046e-01 -2.820822e-01 -1.934493e-01  -1.856277e-01   \n",
       "75%          5.196720e-02  1.483793e-01 -1.883977e-01   1.948857e-02   \n",
       "max          9.142343e+00  1.388195e+01  3.163161e+01   2.032600e+01   \n",
       "\n",
       "          salt_100g   sodium_100g  nutrition-score-fr_100g  \\\n",
       "count  1.748000e+03  1.748000e+03             1.748000e+03   \n",
       "mean  -4.404848e-16  1.871739e-15             5.551115e-17   \n",
       "std    1.000000e+00  1.000000e+00             1.000000e+00   \n",
       "min   -1.891762e-01 -1.891670e-01            -9.881935e-01   \n",
       "25%   -1.891762e-01 -1.891670e-01            -9.881935e-01   \n",
       "50%   -1.854753e-01 -1.854663e-01            -4.303501e-01   \n",
       "75%   -1.010043e-01 -1.009816e-01             6.853369e-01   \n",
       "max    1.392052e+01  1.391979e+01             5.984850e+00   \n",
       "\n",
       "       nutrition-score-uk_100g  \n",
       "count             1.748000e+03  \n",
       "mean              3.252547e-15  \n",
       "std               1.000000e+00  \n",
       "min              -5.272459e-01  \n",
       "25%              -5.272459e-01  \n",
       "50%              -5.272459e-01  \n",
       "75%               9.505379e-02  \n",
       "max               6.006901e+00  "
      ]
     },
     "execution_count": 34,
     "metadata": {},
     "output_type": "execute_result"
    }
   ],
   "source": [
    "nutrition_facts_clean_df.describe()"
   ]
  },
  {
   "cell_type": "markdown",
   "metadata": {},
   "source": [
    "Great! our data is now ready for the analysis on the impact of our variables on the nutrition score."
   ]
  },
  {
   "cell_type": "markdown",
   "metadata": {},
   "source": [
    "Before doing so, let's see the correlation between variables visualized in a heatmap."
   ]
  },
  {
   "cell_type": "markdown",
   "metadata": {},
   "source": [
    "#### Correlation analysis"
   ]
  },
  {
   "cell_type": "code",
   "execution_count": 35,
   "metadata": {
    "ExecuteTime": {
     "end_time": "2019-11-24T19:54:29.129490Z",
     "start_time": "2019-11-24T19:54:28.738705Z"
    }
   },
   "outputs": [
    {
     "data": {
      "text/plain": [
       "<matplotlib.axes._subplots.AxesSubplot at 0x16ea7783a90>"
      ]
     },
     "execution_count": 35,
     "metadata": {},
     "output_type": "execute_result"
    },
    {
     "data": {
      "image/png": "[encoded data removed]",
      "text/plain": [
       "<Figure size 720x720 with 2 Axes>"
      ]
     },
     "metadata": {
      "needs_background": "light"
     },
     "output_type": "display_data"
    }
   ],
   "source": [
    "correlation_variables = nutrition_facts_clean_df.corr(method = \"pearson\")\n",
    "\n",
    "f, ax = plt.subplots(figsize=(10, 10))\n",
    "\n",
    "sns.heatmap(correlation_variables, mask=np.zeros_like(correlation_variables, dtype=np.bool),cmap=sns.diverging_palette(200, 10, as_cmap=True), square=True, ax=ax)"
   ]
  },
  {
   "cell_type": "markdown",
   "metadata": {},
   "source": [
    "From the plot of correlation above we can confirm first that `nutrition-score-fr_100g` and `nutrition-score-uk_100g` are nearly the same.    \n",
    "We can see also a  correlation equal to 1 between `sodium_100g` and `salt_100g`. This is why we will drop the column `sodium_100g` to avoid redundancy. "
   ]
  },
  {
   "cell_type": "code",
   "execution_count": 36,
   "metadata": {
    "ExecuteTime": {
     "end_time": "2019-11-24T19:54:29.145071Z",
     "start_time": "2019-11-24T19:54:29.129490Z"
    }
   },
   "outputs": [],
   "source": [
    "#We drop sodium column. \n",
    "nutrition_facts_clean_df=nutrition_facts_clean_df.drop(columns=['sodium_100g'])\n",
    "fields_left=nutrition_facts_clean_df.columns"
   ]
  },
  {
   "cell_type": "code",
   "execution_count": 37,
   "metadata": {
    "ExecuteTime": {
     "end_time": "2019-11-24T19:54:29.160633Z",
     "start_time": "2019-11-24T19:54:29.145071Z"
    }
   },
   "outputs": [],
   "source": [
    "#We drop one of the nutrition scores \n",
    "nutrition_facts_clean_df=nutrition_facts_clean_df.drop(columns=['nutrition-score-uk_100g'])\n"
   ]
  },
  {
   "cell_type": "code",
   "execution_count": 38,
   "metadata": {
    "ExecuteTime": {
     "end_time": "2019-11-24T19:54:29.176679Z",
     "start_time": "2019-11-24T19:54:29.160633Z"
    }
   },
   "outputs": [],
   "source": [
    "fields_left=nutrition_facts_clean_df.columns"
   ]
  },
  {
   "cell_type": "markdown",
   "metadata": {},
   "source": [
    "Let's see the heatmap again. "
   ]
  },
  {
   "cell_type": "code",
   "execution_count": 39,
   "metadata": {
    "ExecuteTime": {
     "end_time": "2019-11-24T19:54:29.551013Z",
     "start_time": "2019-11-24T19:54:29.176679Z"
    }
   },
   "outputs": [
    {
     "data": {
      "text/plain": [
       "<matplotlib.axes._subplots.AxesSubplot at 0x16ea766be10>"
      ]
     },
     "execution_count": 39,
     "metadata": {},
     "output_type": "execute_result"
    },
    {
     "data": {
      "image/png": "[encoded data removed]",
      "text/plain": [
       "<Figure size 720x720 with 2 Axes>"
      ]
     },
     "metadata": {
      "needs_background": "light"
     },
     "output_type": "display_data"
    }
   ],
   "source": [
    "#calculating pearson correlation\n",
    "correlation_variables = nutrition_facts_clean_df.corr(method = \"pearson\")\n",
    "\n",
    "f, ax = plt.subplots(figsize=(10, 10))\n",
    "\n",
    "#we draw the heatmap using seaborn\n",
    "sns.heatmap(correlation_variables, mask=np.zeros_like(correlation_variables, dtype=np.bool),cmap=sns.diverging_palette(200, 10, as_cmap=True), square=True, ax=ax)"
   ]
  },
  {
   "cell_type": "markdown",
   "metadata": {},
   "source": [
    "By looking at the heatmap, we can already see that `energey_100g`, `fat_100g`, `saturated_fat_100g` and `sugar_100g` have the highest correlation on the nutrition score.\n"
   ]
  },
  {
   "cell_type": "markdown",
   "metadata": {},
   "source": [
    "Now everything is ready. What we want to do is to find the impact of each ingredient on the nutrition score. One way to do that is a regression. It allows us to see the impact of each variable on this score by looking to the weights. "
   ]
  },
  {
   "cell_type": "markdown",
   "metadata": {},
   "source": [
    "#### OLS Regression"
   ]
  },
  {
   "cell_type": "markdown",
   "metadata": {},
   "source": [
    "Let's prepare our formula for the regression: "
   ]
  },
  {
   "cell_type": "markdown",
   "metadata": {},
   "source": [
    "We rename the columns by replacing '-' by '_'. This will allow us to create the formula for the statsmodel regression since'-' is interpreted as a math operation while defining the formula as a string. "
   ]
  },
  {
   "cell_type": "code",
   "execution_count": 40,
   "metadata": {
    "ExecuteTime": {
     "end_time": "2019-11-24T19:54:29.582834Z",
     "start_time": "2019-11-24T19:54:29.551013Z"
    }
   },
   "outputs": [],
   "source": [
    "for field in fields: \n",
    "    nutrition_facts_clean_df = nutrition_facts_clean_df.rename(columns={field: field.replace('-','_')})\n",
    "fields=nutrition_facts_clean_df.columns"
   ]
  },
  {
   "cell_type": "code",
   "execution_count": 41,
   "metadata": {
    "ExecuteTime": {
     "end_time": "2019-11-24T19:54:29.613970Z",
     "start_time": "2019-11-24T19:54:29.582834Z"
    },
    "scrolled": false
   },
   "outputs": [
    {
     "data": {
      "text/html": [
       "<div>\n",
       "<style scoped>\n",
       "    .dataframe tbody tr th:only-of-type {\n",
       "        vertical-align: middle;\n",
       "    }\n",
       "\n",
       "    .dataframe tbody tr th {\n",
       "        vertical-align: top;\n",
       "    }\n",
       "\n",
       "    .dataframe thead th {\n",
       "        text-align: right;\n",
       "    }\n",
       "</style>\n",
       "<table border=\"1\" class=\"dataframe\">\n",
       "  <thead>\n",
       "    <tr style=\"text-align: right;\">\n",
       "      <th></th>\n",
       "      <th>additives_n</th>\n",
       "      <th>ingredients_from_palm_oil_n</th>\n",
       "      <th>ingredients_that_may_be_from_palm_oil_n</th>\n",
       "      <th>nova_group</th>\n",
       "      <th>energy_kcal_100g</th>\n",
       "      <th>energy_100g</th>\n",
       "      <th>fat_100g</th>\n",
       "      <th>saturated_fat_100g</th>\n",
       "      <th>carbohydrates_100g</th>\n",
       "      <th>sugars_100g</th>\n",
       "      <th>fiber_100g</th>\n",
       "      <th>proteins_100g</th>\n",
       "      <th>salt_100g</th>\n",
       "      <th>nutrition_score_fr_100g</th>\n",
       "    </tr>\n",
       "    <tr>\n",
       "      <th>code</th>\n",
       "      <th></th>\n",
       "      <th></th>\n",
       "      <th></th>\n",
       "      <th></th>\n",
       "      <th></th>\n",
       "      <th></th>\n",
       "      <th></th>\n",
       "      <th></th>\n",
       "      <th></th>\n",
       "      <th></th>\n",
       "      <th></th>\n",
       "      <th></th>\n",
       "      <th></th>\n",
       "      <th></th>\n",
       "    </tr>\n",
       "  </thead>\n",
       "  <tbody>\n",
       "    <tr>\n",
       "      <td>00071604</td>\n",
       "      <td>-0.406315</td>\n",
       "      <td>-0.083117</td>\n",
       "      <td>-0.147209</td>\n",
       "      <td>0.567907</td>\n",
       "      <td>-0.240754</td>\n",
       "      <td>-0.241507</td>\n",
       "      <td>-0.089426</td>\n",
       "      <td>-0.049011</td>\n",
       "      <td>-0.222638</td>\n",
       "      <td>-0.168429</td>\n",
       "      <td>-0.142933</td>\n",
       "      <td>-0.083070</td>\n",
       "      <td>-0.174606</td>\n",
       "      <td>-0.430350</td>\n",
       "    </tr>\n",
       "    <tr>\n",
       "      <td>0011110489579</td>\n",
       "      <td>1.413642</td>\n",
       "      <td>-0.083117</td>\n",
       "      <td>-0.147209</td>\n",
       "      <td>0.567907</td>\n",
       "      <td>-1.022623</td>\n",
       "      <td>-1.014629</td>\n",
       "      <td>-0.114102</td>\n",
       "      <td>-0.122243</td>\n",
       "      <td>-0.326798</td>\n",
       "      <td>-0.324702</td>\n",
       "      <td>-0.193449</td>\n",
       "      <td>-0.185628</td>\n",
       "      <td>-0.186956</td>\n",
       "      <td>-0.988194</td>\n",
       "    </tr>\n",
       "    <tr>\n",
       "      <td>0011110738448</td>\n",
       "      <td>0.048674</td>\n",
       "      <td>-0.083117</td>\n",
       "      <td>-0.147209</td>\n",
       "      <td>0.567907</td>\n",
       "      <td>-0.806935</td>\n",
       "      <td>-0.801354</td>\n",
       "      <td>-0.114102</td>\n",
       "      <td>-0.122243</td>\n",
       "      <td>-0.326798</td>\n",
       "      <td>-0.324702</td>\n",
       "      <td>-0.193449</td>\n",
       "      <td>0.029744</td>\n",
       "      <td>-0.047432</td>\n",
       "      <td>0.127493</td>\n",
       "    </tr>\n",
       "    <tr>\n",
       "      <td>0011110738462</td>\n",
       "      <td>-0.861304</td>\n",
       "      <td>-0.083117</td>\n",
       "      <td>-0.147209</td>\n",
       "      <td>0.567907</td>\n",
       "      <td>-0.806935</td>\n",
       "      <td>-0.801354</td>\n",
       "      <td>-0.114102</td>\n",
       "      <td>-0.122243</td>\n",
       "      <td>-0.287028</td>\n",
       "      <td>-0.265034</td>\n",
       "      <td>-0.193449</td>\n",
       "      <td>-0.185628</td>\n",
       "      <td>-0.076669</td>\n",
       "      <td>-0.151428</td>\n",
       "    </tr>\n",
       "    <tr>\n",
       "      <td>0011110810014</td>\n",
       "      <td>-0.861304</td>\n",
       "      <td>-0.083117</td>\n",
       "      <td>-0.147209</td>\n",
       "      <td>-0.414965</td>\n",
       "      <td>0.891609</td>\n",
       "      <td>0.878186</td>\n",
       "      <td>-0.114102</td>\n",
       "      <td>-0.122243</td>\n",
       "      <td>-0.011476</td>\n",
       "      <td>-0.324702</td>\n",
       "      <td>1.473577</td>\n",
       "      <td>-0.185628</td>\n",
       "      <td>0.045091</td>\n",
       "      <td>0.127493</td>\n",
       "    </tr>\n",
       "  </tbody>\n",
       "</table>\n",
       "</div>"
      ],
      "text/plain": [
       "               additives_n  ingredients_from_palm_oil_n  \\\n",
       "code                                                      \n",
       "00071604         -0.406315                    -0.083117   \n",
       "0011110489579     1.413642                    -0.083117   \n",
       "0011110738448     0.048674                    -0.083117   \n",
       "0011110738462    -0.861304                    -0.083117   \n",
       "0011110810014    -0.861304                    -0.083117   \n",
       "\n",
       "               ingredients_that_may_be_from_palm_oil_n  nova_group  \\\n",
       "code                                                                 \n",
       "00071604                                     -0.147209    0.567907   \n",
       "0011110489579                                -0.147209    0.567907   \n",
       "0011110738448                                -0.147209    0.567907   \n",
       "0011110738462                                -0.147209    0.567907   \n",
       "0011110810014                                -0.147209   -0.414965   \n",
       "\n",
       "               energy_kcal_100g  energy_100g  fat_100g  saturated_fat_100g  \\\n",
       "code                                                                         \n",
       "00071604              -0.240754    -0.241507 -0.089426           -0.049011   \n",
       "0011110489579         -1.022623    -1.014629 -0.114102           -0.122243   \n",
       "0011110738448         -0.806935    -0.801354 -0.114102           -0.122243   \n",
       "0011110738462         -0.806935    -0.801354 -0.114102           -0.122243   \n",
       "0011110810014          0.891609     0.878186 -0.114102           -0.122243   \n",
       "\n",
       "               carbohydrates_100g  sugars_100g  fiber_100g  proteins_100g  \\\n",
       "code                                                                        \n",
       "00071604                -0.222638    -0.168429   -0.142933      -0.083070   \n",
       "0011110489579           -0.326798    -0.324702   -0.193449      -0.185628   \n",
       "0011110738448           -0.326798    -0.324702   -0.193449       0.029744   \n",
       "0011110738462           -0.287028    -0.265034   -0.193449      -0.185628   \n",
       "0011110810014           -0.011476    -0.324702    1.473577      -0.185628   \n",
       "\n",
       "               salt_100g  nutrition_score_fr_100g  \n",
       "code                                               \n",
       "00071604       -0.174606                -0.430350  \n",
       "0011110489579  -0.186956                -0.988194  \n",
       "0011110738448  -0.047432                 0.127493  \n",
       "0011110738462  -0.076669                -0.151428  \n",
       "0011110810014   0.045091                 0.127493  "
      ]
     },
     "execution_count": 41,
     "metadata": {},
     "output_type": "execute_result"
    }
   ],
   "source": [
    "nutrition_facts_clean_df.head()"
   ]
  },
  {
   "cell_type": "code",
   "execution_count": 42,
   "metadata": {
    "ExecuteTime": {
     "end_time": "2019-11-24T19:54:29.629120Z",
     "start_time": "2019-11-24T19:54:29.613970Z"
    }
   },
   "outputs": [
    {
     "data": {
      "text/plain": [
       "Index(['additives_n', 'ingredients_from_palm_oil_n',\n",
       "       'ingredients_that_may_be_from_palm_oil_n', 'nova_group',\n",
       "       'energy-kcal_100g', 'energy_100g', 'fat_100g', 'saturated-fat_100g',\n",
       "       'carbohydrates_100g', 'sugars_100g', 'fiber_100g', 'proteins_100g',\n",
       "       'salt_100g', 'nutrition-score-fr_100g'],\n",
       "      dtype='object')"
      ]
     },
     "execution_count": 42,
     "metadata": {},
     "output_type": "execute_result"
    }
   ],
   "source": [
    "fields_left"
   ]
  },
  {
   "cell_type": "code",
   "execution_count": 43,
   "metadata": {
    "ExecuteTime": {
     "end_time": "2019-11-24T19:54:29.644742Z",
     "start_time": "2019-11-24T19:54:29.629120Z"
    }
   },
   "outputs": [
    {
     "data": {
      "text/plain": [
       "'nutrition_score_fr_100g ~ additives_n+ingredients_from_palm_oil_n+ingredients_that_may_be_from_palm_oil_n+nova_group+energy_kcal_100g+energy_100g+fat_100g+saturated_fat_100g+carbohydrates_100g+sugars_100g+fiber_100g+proteins_100g+salt_100g'"
      ]
     },
     "execution_count": 43,
     "metadata": {},
     "output_type": "execute_result"
    }
   ],
   "source": [
    "# OLS regression formula \n",
    "fields_left=nutrition_facts_clean_df.columns\n",
    "formula_string=\"nutrition_score_fr_100g ~ \"\n",
    "for field in fields_left[:-1]:\n",
    "    formula_string=formula_string+field+\"+\"\n",
    "formula_string=formula_string[:-1]\n",
    "formula_string"
   ]
  },
  {
   "cell_type": "code",
   "execution_count": 44,
   "metadata": {
    "ExecuteTime": {
     "end_time": "2019-11-24T19:54:29.816577Z",
     "start_time": "2019-11-24T19:54:29.644742Z"
    },
    "scrolled": true
   },
   "outputs": [
    {
     "name": "stdout",
     "output_type": "stream",
     "text": [
      "                               OLS Regression Results                              \n",
      "===================================================================================\n",
      "Dep. Variable:     nutrition_score_fr_100g   R-squared:                       0.382\n",
      "Model:                                 OLS   Adj. R-squared:                  0.377\n",
      "Method:                      Least Squares   F-statistic:                     82.47\n",
      "Date:                     Sun, 24 Nov 2019   Prob (F-statistic):          1.45e-170\n",
      "Time:                             20:54:29   Log-Likelihood:                -2059.1\n",
      "No. Observations:                     1748   AIC:                             4146.\n",
      "Df Residuals:                         1734   BIC:                             4223.\n",
      "Df Model:                               13                                         \n",
      "Covariance Type:                 nonrobust                                         \n",
      "===========================================================================================================\n",
      "                                              coef    std err          t      P>|t|      [0.025      0.975]\n",
      "-----------------------------------------------------------------------------------------------------------\n",
      "Intercept                                2.429e-17      0.019   1.29e-15      1.000      -0.037       0.037\n",
      "additives_n                                 0.0039      0.022      0.179      0.858      -0.039       0.046\n",
      "ingredients_from_palm_oil_n                 0.0112      0.019      0.593      0.553      -0.026       0.048\n",
      "ingredients_that_may_be_from_palm_oil_n    -0.0051      0.020     -0.259      0.796      -0.044       0.033\n",
      "nova_group                                  0.0767      0.021      3.641      0.000       0.035       0.118\n",
      "energy_kcal_100g                            0.4247      0.131      3.240      0.001       0.168       0.682\n",
      "energy_100g                                -0.1177      0.131     -0.898      0.369      -0.375       0.139\n",
      "fat_100g                                   -0.1014      0.029     -3.540      0.000      -0.158      -0.045\n",
      "saturated_fat_100g                          0.2709      0.031      8.812      0.000       0.211       0.331\n",
      "carbohydrates_100g                         -0.0050      0.027     -0.185      0.853      -0.057       0.048\n",
      "sugars_100g                                 0.2908      0.027     10.715      0.000       0.238       0.344\n",
      "fiber_100g                                 -0.0768      0.020     -3.922      0.000      -0.115      -0.038\n",
      "proteins_100g                               0.0260      0.021      1.239      0.215      -0.015       0.067\n",
      "salt_100g                                   0.3299      0.019     17.379      0.000       0.293       0.367\n",
      "==============================================================================\n",
      "Omnibus:                      239.454   Durbin-Watson:                   1.558\n",
      "Prob(Omnibus):                  0.000   Jarque-Bera (JB):              408.125\n",
      "Skew:                           0.897   Prob(JB):                     2.38e-89\n",
      "Kurtosis:                       4.544   Cond. No.                         15.1\n",
      "==============================================================================\n",
      "\n",
      "Warnings:\n",
      "[1] Standard Errors assume that the covariance matrix of the errors is correctly specified.\n"
     ]
    },
    {
     "name": "stderr",
     "output_type": "stream",
     "text": [
      "C:\\Users\\Thomas\\Anaconda3\\lib\\site-packages\\statsmodels\\compat\\pandas.py:49: FutureWarning: The Panel class is removed from pandas. Accessing it from the top-level namespace will also be removed in the next version\n",
      "  data_klasses = (pandas.Series, pandas.DataFrame, pandas.Panel)\n"
     ]
    }
   ],
   "source": [
    "nutrition_score_regression = sm.ols(formula= formula_string, data = nutrition_facts_clean_df)\n",
    "res = nutrition_score_regression.fit()\n",
    "print(res.summary())"
   ]
  },
  {
   "cell_type": "markdown",
   "metadata": {},
   "source": [
    "### Regression results "
   ]
  },
  {
   "cell_type": "markdown",
   "metadata": {},
   "source": [
    "Analysing the regression results from the coeficents of each ingredient, we can deduce the impact of these ingredients on the the nutrition score.  \n",
    "\n",
    "#### Positive coef \n",
    "* `sugars_100g` has the highest positive impact nutrition score ~ 0.37  \n",
    "* `saturated_fat_100g`has the fourth highest impact on nutrition socre ~ 0,36\n",
    "* `energy_100` has the second highest nutrition score ~ 0.18 \n",
    "* `fat_100g` with a coef ~ 0.16\n",
    "* `salt_100g` with a coef ~ 0.16\n",
    "* `nova_group`with a coef ~ 0.12\n",
    "\n",
    "\n",
    "#### Negative coef \n",
    "* `fiber_100g` has the highest negative nutrition score ~-0.2 \n",
    "\n",
    "#### Zero coef\n",
    "* `ingredients_from_palm_oil_n ` , `additives_n  ` and `carbohydrates_100g` don't have any impact on the nutrition score \n",
    "\n",
    "From the french nutrition score datasheet page 24, we see that the highest the nutrition score is the lowest the nutritional quality is. We can then deduce that all products with a high percentage of energy, sugar, salt, and saturated fat all unhealthy and products with a high percentage of fiber are healthy. All other ingredients do not have a huge impact on the nutrition score.  \n",
    "By analyzing the p-value we can deduce that our variables are statistically significant except the `ingredients_that_may_be_from_palm_oil_n`.    \n",
    "The number of samples we have in hand after dropping the outliers and NaNs is enough to have significant results."
   ]
  },
  {
   "cell_type": "markdown",
   "metadata": {},
   "source": [
    "One of the features which seems to have a high impact on the nutrition score is the nova group. The values of this group are {1,2,3,4}\n",
    "\n",
    "* Group 1 - Unprocessed or minimally processed foods :Unprocessed (or natural) foods are edible parts of plants (seeds, fruits, leaves, stems, roots) or of animals (muscle, offal, eggs, milk), and also fungi, algae and water, after separation from nature.\n",
    "* Group 2 - Processed culinary ingredients : Processed culinary ingredients, such as oils, butter, sugar and salt, are substances derived from Group 1 foods or from nature by processes that include pressing, refining, grinding, milling and drying.\n",
    "* Group 3 - Processed foods : Processed foods, such as bottled vegetables, canned fish, fruits in syrup, cheeses and freshly made breads, are made essentially by adding salt, oil, sugar or other substances from Group 2 to Group 1 foods. \n",
    "* Group 4 - Ultra-processed food and drink products: Ultra-processed foods, such as soft drinks, sweet or savoury packaged snacks, reconstituted meat products and pre-prepared frozen dishes.  \n",
    "\n",
    "Beeing in a higher group leads also to a high nutrition score and then low nutritional quality.  "
   ]
  },
  {
   "cell_type": "markdown",
   "metadata": {},
   "source": [
    "#### Conclusion"
   ]
  },
  {
   "cell_type": "markdown",
   "metadata": {},
   "source": [
    "We can conclude that the analysis of the nutrients on the nutrition score is giving a satisfactory results. The main problem we encontered here is the missing values. We were forced to loose a huge number of rows and fetures from the dataset.  \n",
    "We think that maybe some products don't contain some of the ingredients so the editor didn't  set the corresponding value to zero and thus added a missing value to the dataset. This can explain the huge number of missing values in the dataset. "
   ]
  },
  {
   "cell_type": "markdown",
   "metadata": {},
   "source": [
    "## Question 2: Comparing bio vs. normal products, is there a real difference in composition?"
   ]
  },
  {
   "cell_type": "markdown",
   "metadata": {},
   "source": [
    "A lot of products claim to be bio. Different terms are used depending on the location (organic, bio, ...), but overall they all refer to the same fact that the product was mostly produced in compliance with the standards of [organic farming](https://en.wikipedia.org/wiki/Organic_farming). In the common knowledge, people often claim that organic or bio products are healthier than non-organic products.\n",
    "\n",
    "In the upcoming analysis, we will try to investigate whether this statement is quantitavely true or if sometimes companies take advantage of the \"bio\" acronym to gain market shares.\n",
    "\n",
    "We will conduct this analysis by investigating different columns of interest: \n",
    "\n",
    "* We have access to two different nutritional scores. We will try to investigate whether differences can be observed with respect to this column, i.e if bio/organic products tend to obtain better nutritional scores than standard products.\n",
    "    - In addition, some bio products may obtain bad nutritional scores. We will try to pinpoint why some bio products would still get such bad scores.\n",
    "    \n",
    "    \n",
    "* As stated above, organic products should undergo as little tratment as possible, inducing a more natural product. This should directly be represented by a lower capacity in additives. Hence as a first step we will assess whether there is a different in additives between bio and normal products."
   ]
  },
  {
   "cell_type": "markdown",
   "metadata": {},
   "source": [
    "### Data exploration\n",
    "\n",
    "Let's see if we can separate the *bio/organic* products from the regular ones.\n",
    "\n",
    "Some product contain words such as 'bio', 'biologic', 'organic' in their `product_name`, so this can be use to distinguish them from normal products. In addition, the dataset contains the columns `labels`, `labels_tags` and `labels_en`, which contain information about quality labels/certifications which also include bio products.\n",
    "\n",
    "Thus, these columns can be used to split the dataset into 'bio' products and regular products. We will seach for keywords in these columns to determine if a product is bio:"
   ]
  },
  {
   "cell_type": "code",
   "execution_count": 45,
   "metadata": {
    "ExecuteTime": {
     "end_time": "2019-11-24T19:54:29.832198Z",
     "start_time": "2019-11-24T19:54:29.816577Z"
    }
   },
   "outputs": [],
   "source": [
    "bio_keywords = ['bio', 'organi'] # bio --> bio, biological, biologique, etc.; organi --> organic, organique\n",
    "\n",
    "contains_bio_keywords = lambda x: any([(kw in str(x)) for kw in bio_keywords])\n",
    "\n",
    "#food_facts_df.dropna(subset=['product_name'], inplace=True)"
   ]
  },
  {
   "cell_type": "code",
   "execution_count": 46,
   "metadata": {
    "ExecuteTime": {
     "end_time": "2019-11-24T19:54:46.218971Z",
     "start_time": "2019-11-24T19:54:29.832198Z"
    },
    "scrolled": false
   },
   "outputs": [
    {
     "name": "stdout",
     "output_type": "stream",
     "text": [
      "There are 74414 bio products, and 976565 non-bio products.\n"
     ]
    },
    {
     "data": {
      "text/html": [
       "<div>\n",
       "<style scoped>\n",
       "    .dataframe tbody tr th:only-of-type {\n",
       "        vertical-align: middle;\n",
       "    }\n",
       "\n",
       "    .dataframe tbody tr th {\n",
       "        vertical-align: top;\n",
       "    }\n",
       "\n",
       "    .dataframe thead th {\n",
       "        text-align: right;\n",
       "    }\n",
       "</style>\n",
       "<table border=\"1\" class=\"dataframe\">\n",
       "  <thead>\n",
       "    <tr style=\"text-align: right;\">\n",
       "      <th></th>\n",
       "      <th>url</th>\n",
       "      <th>creator</th>\n",
       "      <th>created_t</th>\n",
       "      <th>created_datetime</th>\n",
       "      <th>last_modified_t</th>\n",
       "      <th>last_modified_datetime</th>\n",
       "      <th>product_name</th>\n",
       "      <th>generic_name</th>\n",
       "      <th>quantity</th>\n",
       "      <th>packaging</th>\n",
       "      <th>...</th>\n",
       "      <th>carbon-footprint-from-meat-or-fish_100g</th>\n",
       "      <th>nutrition-score-fr_100g</th>\n",
       "      <th>nutrition-score-uk_100g</th>\n",
       "      <th>glycemic-index_100g</th>\n",
       "      <th>water-hardness_100g</th>\n",
       "      <th>choline_100g</th>\n",
       "      <th>phylloquinone_100g</th>\n",
       "      <th>beta-glucan_100g</th>\n",
       "      <th>inositol_100g</th>\n",
       "      <th>carnitine_100g</th>\n",
       "    </tr>\n",
       "    <tr>\n",
       "      <th>code</th>\n",
       "      <th></th>\n",
       "      <th></th>\n",
       "      <th></th>\n",
       "      <th></th>\n",
       "      <th></th>\n",
       "      <th></th>\n",
       "      <th></th>\n",
       "      <th></th>\n",
       "      <th></th>\n",
       "      <th></th>\n",
       "      <th></th>\n",
       "      <th></th>\n",
       "      <th></th>\n",
       "      <th></th>\n",
       "      <th></th>\n",
       "      <th></th>\n",
       "      <th></th>\n",
       "      <th></th>\n",
       "      <th></th>\n",
       "      <th></th>\n",
       "      <th></th>\n",
       "    </tr>\n",
       "  </thead>\n",
       "  <tbody>\n",
       "    <tr>\n",
       "      <td>0000000001427</td>\n",
       "      <td>http://world-en.openfoodfacts.org/product/0000...</td>\n",
       "      <td>kiliweb</td>\n",
       "      <td>1550231727</td>\n",
       "      <td>2019-02-15T11:55:27Z</td>\n",
       "      <td>1550231732</td>\n",
       "      <td>2019-02-15T11:55:32Z</td>\n",
       "      <td>Pain de maïs bio</td>\n",
       "      <td>NaN</td>\n",
       "      <td>NaN</td>\n",
       "      <td>NaN</td>\n",
       "      <td>...</td>\n",
       "      <td>NaN</td>\n",
       "      <td>NaN</td>\n",
       "      <td>NaN</td>\n",
       "      <td>NaN</td>\n",
       "      <td>NaN</td>\n",
       "      <td>NaN</td>\n",
       "      <td>NaN</td>\n",
       "      <td>NaN</td>\n",
       "      <td>NaN</td>\n",
       "      <td>NaN</td>\n",
       "    </tr>\n",
       "    <tr>\n",
       "      <td>000000000429</td>\n",
       "      <td>http://world-en.openfoodfacts.org/product/0000...</td>\n",
       "      <td>kiliweb</td>\n",
       "      <td>1567080029</td>\n",
       "      <td>2019-08-29T12:00:29Z</td>\n",
       "      <td>1567080749</td>\n",
       "      <td>2019-08-29T12:12:29Z</td>\n",
       "      <td>Jus de Pommes</td>\n",
       "      <td>NaN</td>\n",
       "      <td>NaN</td>\n",
       "      <td>NaN</td>\n",
       "      <td>...</td>\n",
       "      <td>NaN</td>\n",
       "      <td>NaN</td>\n",
       "      <td>NaN</td>\n",
       "      <td>NaN</td>\n",
       "      <td>NaN</td>\n",
       "      <td>NaN</td>\n",
       "      <td>NaN</td>\n",
       "      <td>NaN</td>\n",
       "      <td>NaN</td>\n",
       "      <td>NaN</td>\n",
       "    </tr>\n",
       "    <tr>\n",
       "      <td>000000001011</td>\n",
       "      <td>http://world-en.openfoodfacts.org/product/0000...</td>\n",
       "      <td>kiliweb</td>\n",
       "      <td>1568142714</td>\n",
       "      <td>2019-09-10T19:11:54Z</td>\n",
       "      <td>1568143389</td>\n",
       "      <td>2019-09-10T19:23:09Z</td>\n",
       "      <td>Fromage blanc fermier de chèvre au lait entier</td>\n",
       "      <td>NaN</td>\n",
       "      <td>NaN</td>\n",
       "      <td>NaN</td>\n",
       "      <td>...</td>\n",
       "      <td>NaN</td>\n",
       "      <td>NaN</td>\n",
       "      <td>NaN</td>\n",
       "      <td>NaN</td>\n",
       "      <td>NaN</td>\n",
       "      <td>NaN</td>\n",
       "      <td>NaN</td>\n",
       "      <td>NaN</td>\n",
       "      <td>NaN</td>\n",
       "      <td>NaN</td>\n",
       "    </tr>\n",
       "    <tr>\n",
       "      <td>0000000014595</td>\n",
       "      <td>http://world-en.openfoodfacts.org/product/0000...</td>\n",
       "      <td>kiliweb</td>\n",
       "      <td>1520321992</td>\n",
       "      <td>2018-03-06T07:39:52Z</td>\n",
       "      <td>1561463802</td>\n",
       "      <td>2019-06-25T11:56:42Z</td>\n",
       "      <td>Pâte de fruit fraise</td>\n",
       "      <td>NaN</td>\n",
       "      <td>NaN</td>\n",
       "      <td>NaN</td>\n",
       "      <td>...</td>\n",
       "      <td>NaN</td>\n",
       "      <td>NaN</td>\n",
       "      <td>NaN</td>\n",
       "      <td>NaN</td>\n",
       "      <td>NaN</td>\n",
       "      <td>NaN</td>\n",
       "      <td>NaN</td>\n",
       "      <td>NaN</td>\n",
       "      <td>NaN</td>\n",
       "      <td>NaN</td>\n",
       "    </tr>\n",
       "    <tr>\n",
       "      <td>0000000016087</td>\n",
       "      <td>http://world-en.openfoodfacts.org/product/0000...</td>\n",
       "      <td>usda-ndb-import</td>\n",
       "      <td>1489055731</td>\n",
       "      <td>2017-03-09T10:35:31Z</td>\n",
       "      <td>1545997008</td>\n",
       "      <td>2018-12-28T11:36:48Z</td>\n",
       "      <td>Organic Salted Nut Mix</td>\n",
       "      <td>NaN</td>\n",
       "      <td>NaN</td>\n",
       "      <td>NaN</td>\n",
       "      <td>...</td>\n",
       "      <td>NaN</td>\n",
       "      <td>NaN</td>\n",
       "      <td>NaN</td>\n",
       "      <td>NaN</td>\n",
       "      <td>NaN</td>\n",
       "      <td>NaN</td>\n",
       "      <td>NaN</td>\n",
       "      <td>NaN</td>\n",
       "      <td>NaN</td>\n",
       "      <td>NaN</td>\n",
       "    </tr>\n",
       "  </tbody>\n",
       "</table>\n",
       "<p>5 rows × 176 columns</p>\n",
       "</div>"
      ],
      "text/plain": [
       "                                                             url  \\\n",
       "code                                                               \n",
       "0000000001427  http://world-en.openfoodfacts.org/product/0000...   \n",
       "000000000429   http://world-en.openfoodfacts.org/product/0000...   \n",
       "000000001011   http://world-en.openfoodfacts.org/product/0000...   \n",
       "0000000014595  http://world-en.openfoodfacts.org/product/0000...   \n",
       "0000000016087  http://world-en.openfoodfacts.org/product/0000...   \n",
       "\n",
       "                       creator   created_t      created_datetime  \\\n",
       "code                                                               \n",
       "0000000001427          kiliweb  1550231727  2019-02-15T11:55:27Z   \n",
       "000000000429           kiliweb  1567080029  2019-08-29T12:00:29Z   \n",
       "000000001011           kiliweb  1568142714  2019-09-10T19:11:54Z   \n",
       "0000000014595          kiliweb  1520321992  2018-03-06T07:39:52Z   \n",
       "0000000016087  usda-ndb-import  1489055731  2017-03-09T10:35:31Z   \n",
       "\n",
       "               last_modified_t last_modified_datetime  \\\n",
       "code                                                    \n",
       "0000000001427       1550231732   2019-02-15T11:55:32Z   \n",
       "000000000429        1567080749   2019-08-29T12:12:29Z   \n",
       "000000001011        1568143389   2019-09-10T19:23:09Z   \n",
       "0000000014595       1561463802   2019-06-25T11:56:42Z   \n",
       "0000000016087       1545997008   2018-12-28T11:36:48Z   \n",
       "\n",
       "                                                 product_name generic_name  \\\n",
       "code                                                                         \n",
       "0000000001427                                Pain de maïs bio          NaN   \n",
       "000000000429                                    Jus de Pommes          NaN   \n",
       "000000001011   Fromage blanc fermier de chèvre au lait entier          NaN   \n",
       "0000000014595                            Pâte de fruit fraise          NaN   \n",
       "0000000016087                          Organic Salted Nut Mix          NaN   \n",
       "\n",
       "              quantity packaging  ... carbon-footprint-from-meat-or-fish_100g  \\\n",
       "code                              ...                                           \n",
       "0000000001427      NaN       NaN  ...                                     NaN   \n",
       "000000000429       NaN       NaN  ...                                     NaN   \n",
       "000000001011       NaN       NaN  ...                                     NaN   \n",
       "0000000014595      NaN       NaN  ...                                     NaN   \n",
       "0000000016087      NaN       NaN  ...                                     NaN   \n",
       "\n",
       "              nutrition-score-fr_100g nutrition-score-uk_100g  \\\n",
       "code                                                            \n",
       "0000000001427                     NaN                     NaN   \n",
       "000000000429                      NaN                     NaN   \n",
       "000000001011                      NaN                     NaN   \n",
       "0000000014595                     NaN                     NaN   \n",
       "0000000016087                     NaN                     NaN   \n",
       "\n",
       "              glycemic-index_100g water-hardness_100g choline_100g  \\\n",
       "code                                                                 \n",
       "0000000001427                 NaN                 NaN          NaN   \n",
       "000000000429                  NaN                 NaN          NaN   \n",
       "000000001011                  NaN                 NaN          NaN   \n",
       "0000000014595                 NaN                 NaN          NaN   \n",
       "0000000016087                 NaN                 NaN          NaN   \n",
       "\n",
       "              phylloquinone_100g beta-glucan_100g inositol_100g carnitine_100g  \n",
       "code                                                                            \n",
       "0000000001427                NaN              NaN           NaN            NaN  \n",
       "000000000429                 NaN              NaN           NaN            NaN  \n",
       "000000001011                 NaN              NaN           NaN            NaN  \n",
       "0000000014595                NaN              NaN           NaN            NaN  \n",
       "0000000016087                NaN              NaN           NaN            NaN  \n",
       "\n",
       "[5 rows x 176 columns]"
      ]
     },
     "execution_count": 46,
     "metadata": {},
     "output_type": "execute_result"
    }
   ],
   "source": [
    "# Check for products matching the bio keywords in the 4 columns\n",
    "bio_products = (food_facts_df['product_name'].apply(contains_bio_keywords)) \\\n",
    "             | (food_facts_df['labels'].apply(contains_bio_keywords)) \\\n",
    "             | (food_facts_df['labels_tags'].apply(contains_bio_keywords)) \\\n",
    "             | (food_facts_df['labels_en'].apply(contains_bio_keywords))\n",
    "\n",
    "bio_df = food_facts_df[bio_products]\n",
    "\n",
    "non_bio_df = food_facts_df[~bio_products]\n",
    "\n",
    "print('There are {} bio products, and {} non-bio products.'.format(bio_df.shape[0], non_bio_df.shape[0]))\n",
    "bio_df.head(5)"
   ]
  },
  {
   "cell_type": "markdown",
   "metadata": {},
   "source": [
    "### Nutritional score analysis"
   ]
  },
  {
   "cell_type": "markdown",
   "metadata": {},
   "source": [
    "We now have a dataset split into bio and regular products, although the 2 categories are highly unbalanced. Let's analyze quickly if there is a difference in their nutritional score. The French nutritional score (`nutrition_grade_fr`) ranks the products from 'A' (best) to 'E' (worst) depending on their composition. so let's have a look at the relative distribution of those grades among the bio and regular products:"
   ]
  },
  {
   "cell_type": "code",
   "execution_count": 47,
   "metadata": {
    "ExecuteTime": {
     "end_time": "2019-11-24T19:54:46.703236Z",
     "start_time": "2019-11-24T19:54:46.218971Z"
    }
   },
   "outputs": [
    {
     "data": {
      "image/png": "[encoded data removed]",
      "text/plain": [
       "<Figure size 864x432 with 1 Axes>"
      ]
     },
     "metadata": {
      "needs_background": "light"
     },
     "output_type": "display_data"
    }
   ],
   "source": [
    "score_field = 'nutrition_grade_fr'\n",
    "\n",
    "scores_df = pd.DataFrame([bio_df[score_field].value_counts(normalize=True).sort_index().rename('bio'),\n",
    "             non_bio_df[score_field].value_counts(normalize=True).sort_index().rename('regular')])\n",
    "\n",
    "scores_df = scores_df.transpose()\n",
    "\n",
    "scores_df.plot(kind='bar', color=['green', 'orange'], rot=0, figsize=(12, 6))\n",
    "\n",
    "plt.title('Distribution of nutritional score (nutrition_grade_fr field)')\n",
    "plt.xlabel('Score')\n",
    "plt.ylabel('Proportion')\n",
    "\n",
    "plt.show()"
   ]
  },
  {
   "cell_type": "markdown",
   "metadata": {},
   "source": [
    "There is a clear difference in the distribution of the nutritional score. The proportion of bio product with grade 'A' and 'B' is much higher than that of the regular products. Conversaly, there are less bio products with grade 'D' and 'E'. So overall, it seems that the bio products are healthier than the regular ones. \n",
    "\n",
    "There is another nutritional score indicated in the dataset, which is the UK one (`nutrition-score-uk_100g`). Let's see if the trend we observed is similar:"
   ]
  },
  {
   "cell_type": "code",
   "execution_count": 48,
   "metadata": {
    "ExecuteTime": {
     "end_time": "2019-11-24T19:54:47.952929Z",
     "start_time": "2019-11-24T19:54:46.703236Z"
    }
   },
   "outputs": [
    {
     "data": {
      "image/png": "[encoded data removed]",
      "text/plain": [
       "<Figure size 864x432 with 1 Axes>"
      ]
     },
     "metadata": {
      "needs_background": "light"
     },
     "output_type": "display_data"
    }
   ],
   "source": [
    "score_field = 'nutrition-score-uk_100g'\n",
    "\n",
    "scores_df = pd.DataFrame([bio_df[score_field].value_counts(normalize=True).sort_index().rename('bio'),\n",
    "             non_bio_df[score_field].value_counts(normalize=True).sort_index().rename('regular')])\n",
    "\n",
    "scores_df = scores_df.transpose()\n",
    "\n",
    "scores_df.plot(kind='bar', color=['green', 'orange'], rot=0, figsize=(12, 6))\n",
    "\n",
    "plt.title('Distribution of nutritional score (nutrition_grade_fr field)')\n",
    "plt.xlabel('Score')\n",
    "plt.ylabel('Proportion')\n",
    "\n",
    "plt.show()"
   ]
  },
  {
   "cell_type": "markdown",
   "metadata": {},
   "source": [
    "The same observation can be made for the uk nutritional score (`nutrition-score-uk_100g`): the distribution of bio product shows that in proportion, they are more bio product that have a good nutritional score, and there are more regular products with a bad nutritional score."
   ]
  },
  {
   "cell_type": "markdown",
   "metadata": {},
   "source": [
    "### Results\n",
    "\n",
    "We were able to separate products that are bio from the product that are not. Although we obtain two unbalanced sets of products, we obtained encouraging results, so we are going to keep investigating the question 'bio vs. regular products'."
   ]
  },
  {
   "cell_type": "markdown",
   "metadata": {},
   "source": [
    "### Additives analysis"
   ]
  },
  {
   "cell_type": "markdown",
   "metadata": {},
   "source": [
    "First we extract the product_name and additives_tags columns for the bio and non-bio dataframes computed above."
   ]
  },
  {
   "cell_type": "code",
   "execution_count": 49,
   "metadata": {
    "ExecuteTime": {
     "end_time": "2019-11-24T19:54:47.999807Z",
     "start_time": "2019-11-24T19:54:47.952929Z"
    }
   },
   "outputs": [],
   "source": [
    "bio_additives_df = bio_df[['product_name','additives_en']]\n",
    "non_bio_additives_df = non_bio_df[['product_name','additives_en']]"
   ]
  },
  {
   "cell_type": "code",
   "execution_count": 50,
   "metadata": {
    "ExecuteTime": {
     "end_time": "2019-11-24T19:54:48.031035Z",
     "start_time": "2019-11-24T19:54:47.999807Z"
    }
   },
   "outputs": [
    {
     "data": {
      "text/html": [
       "<div>\n",
       "<style scoped>\n",
       "    .dataframe tbody tr th:only-of-type {\n",
       "        vertical-align: middle;\n",
       "    }\n",
       "\n",
       "    .dataframe tbody tr th {\n",
       "        vertical-align: top;\n",
       "    }\n",
       "\n",
       "    .dataframe thead th {\n",
       "        text-align: right;\n",
       "    }\n",
       "</style>\n",
       "<table border=\"1\" class=\"dataframe\">\n",
       "  <thead>\n",
       "    <tr style=\"text-align: right;\">\n",
       "      <th></th>\n",
       "      <th>product_name</th>\n",
       "      <th>additives_en</th>\n",
       "    </tr>\n",
       "    <tr>\n",
       "      <th>code</th>\n",
       "      <th></th>\n",
       "      <th></th>\n",
       "    </tr>\n",
       "  </thead>\n",
       "  <tbody>\n",
       "    <tr>\n",
       "      <td>0000000001427</td>\n",
       "      <td>Pain de maïs bio</td>\n",
       "      <td>NaN</td>\n",
       "    </tr>\n",
       "    <tr>\n",
       "      <td>000000000429</td>\n",
       "      <td>Jus de Pommes</td>\n",
       "      <td>NaN</td>\n",
       "    </tr>\n",
       "    <tr>\n",
       "      <td>000000001011</td>\n",
       "      <td>Fromage blanc fermier de chèvre au lait entier</td>\n",
       "      <td>NaN</td>\n",
       "    </tr>\n",
       "    <tr>\n",
       "      <td>0000000014595</td>\n",
       "      <td>Pâte de fruit fraise</td>\n",
       "      <td>NaN</td>\n",
       "    </tr>\n",
       "    <tr>\n",
       "      <td>0000000016087</td>\n",
       "      <td>Organic Salted Nut Mix</td>\n",
       "      <td>NaN</td>\n",
       "    </tr>\n",
       "    <tr>\n",
       "      <td>0000000016094</td>\n",
       "      <td>Organic Polenta</td>\n",
       "      <td>NaN</td>\n",
       "    </tr>\n",
       "    <tr>\n",
       "      <td>0000000016117</td>\n",
       "      <td>Organic Long Grain White Rice</td>\n",
       "      <td>NaN</td>\n",
       "    </tr>\n",
       "    <tr>\n",
       "      <td>0000000016124</td>\n",
       "      <td>Organic Muesli</td>\n",
       "      <td>E307c - Alpha-tocopherol</td>\n",
       "    </tr>\n",
       "    <tr>\n",
       "      <td>0000000016193</td>\n",
       "      <td>Organic Dark Chocolate Minis</td>\n",
       "      <td>NaN</td>\n",
       "    </tr>\n",
       "    <tr>\n",
       "      <td>0000000016513</td>\n",
       "      <td>Organic Sunflower Oil</td>\n",
       "      <td>NaN</td>\n",
       "    </tr>\n",
       "  </tbody>\n",
       "</table>\n",
       "</div>"
      ],
      "text/plain": [
       "                                                 product_name  \\\n",
       "code                                                            \n",
       "0000000001427                                Pain de maïs bio   \n",
       "000000000429                                    Jus de Pommes   \n",
       "000000001011   Fromage blanc fermier de chèvre au lait entier   \n",
       "0000000014595                            Pâte de fruit fraise   \n",
       "0000000016087                          Organic Salted Nut Mix   \n",
       "0000000016094                                 Organic Polenta   \n",
       "0000000016117                   Organic Long Grain White Rice   \n",
       "0000000016124                                  Organic Muesli   \n",
       "0000000016193                    Organic Dark Chocolate Minis   \n",
       "0000000016513                           Organic Sunflower Oil   \n",
       "\n",
       "                           additives_en  \n",
       "code                                     \n",
       "0000000001427                       NaN  \n",
       "000000000429                        NaN  \n",
       "000000001011                        NaN  \n",
       "0000000014595                       NaN  \n",
       "0000000016087                       NaN  \n",
       "0000000016094                       NaN  \n",
       "0000000016117                       NaN  \n",
       "0000000016124  E307c - Alpha-tocopherol  \n",
       "0000000016193                       NaN  \n",
       "0000000016513                       NaN  "
      ]
     },
     "execution_count": 50,
     "metadata": {},
     "output_type": "execute_result"
    }
   ],
   "source": [
    "bio_additives_df.head(10)"
   ]
  },
  {
   "cell_type": "markdown",
   "metadata": {},
   "source": [
    "We remark that a lot of products do not contain any additives. One should be careful with this as this could be either that the product indeed does not contain any additives, or simply because the data is missing this information.\n",
    "\n",
    "As we are trying to compare the different additives present in the bio and normal products and not quantizing how many products of these two categories contain additives, we can drop the rows not containing this information."
   ]
  },
  {
   "cell_type": "code",
   "execution_count": 51,
   "metadata": {
    "ExecuteTime": {
     "end_time": "2019-11-24T19:54:48.952694Z",
     "start_time": "2019-11-24T19:54:48.031035Z"
    }
   },
   "outputs": [
    {
     "name": "stdout",
     "output_type": "stream",
     "text": [
      "Length of bio dataset : 9569\n",
      "Length of non-bio dataset : 234967\n"
     ]
    }
   ],
   "source": [
    "bio_additives_df = bio_additives_df.dropna()\n",
    "non_bio_additives_df = non_bio_additives_df.dropna()\n",
    "print(\"Length of bio dataset : {}\\nLength of non-bio dataset : {}\" .format(len(bio_additives_df), len(non_bio_additives_df)))"
   ]
  },
  {
   "cell_type": "code",
   "execution_count": 52,
   "metadata": {
    "ExecuteTime": {
     "end_time": "2019-11-24T19:54:48.983935Z",
     "start_time": "2019-11-24T19:54:48.952694Z"
    }
   },
   "outputs": [
    {
     "data": {
      "text/html": [
       "<div>\n",
       "<style scoped>\n",
       "    .dataframe tbody tr th:only-of-type {\n",
       "        vertical-align: middle;\n",
       "    }\n",
       "\n",
       "    .dataframe tbody tr th {\n",
       "        vertical-align: top;\n",
       "    }\n",
       "\n",
       "    .dataframe thead th {\n",
       "        text-align: right;\n",
       "    }\n",
       "</style>\n",
       "<table border=\"1\" class=\"dataframe\">\n",
       "  <thead>\n",
       "    <tr style=\"text-align: right;\">\n",
       "      <th></th>\n",
       "      <th>product_name</th>\n",
       "      <th>additives_en</th>\n",
       "    </tr>\n",
       "    <tr>\n",
       "      <th>code</th>\n",
       "      <th></th>\n",
       "      <th></th>\n",
       "    </tr>\n",
       "  </thead>\n",
       "  <tbody>\n",
       "    <tr>\n",
       "      <td>0000000016124</td>\n",
       "      <td>Organic Muesli</td>\n",
       "      <td>E307c - Alpha-tocopherol</td>\n",
       "    </tr>\n",
       "    <tr>\n",
       "      <td>0000000018517</td>\n",
       "      <td>Seventh Heaven Organic Trail Mix</td>\n",
       "      <td>E322 - Lecithins,E322i - Lecithin</td>\n",
       "    </tr>\n",
       "    <tr>\n",
       "      <td>0000000035286</td>\n",
       "      <td>Organic Shoyu</td>\n",
       "      <td>E1510 - Ethanon</td>\n",
       "    </tr>\n",
       "    <tr>\n",
       "      <td>0000000035293</td>\n",
       "      <td>Organic Wheat-Free Tamari</td>\n",
       "      <td>E1510 - Ethanon</td>\n",
       "    </tr>\n",
       "    <tr>\n",
       "      <td>0002000000776</td>\n",
       "      <td>Fondant de saumon</td>\n",
       "      <td>E336 - Potassium tartrates,E336i - Monopotassi...</td>\n",
       "    </tr>\n",
       "  </tbody>\n",
       "</table>\n",
       "</div>"
      ],
      "text/plain": [
       "                                   product_name  \\\n",
       "code                                              \n",
       "0000000016124                    Organic Muesli   \n",
       "0000000018517  Seventh Heaven Organic Trail Mix   \n",
       "0000000035286                     Organic Shoyu   \n",
       "0000000035293         Organic Wheat-Free Tamari   \n",
       "0002000000776                 Fondant de saumon   \n",
       "\n",
       "                                                    additives_en  \n",
       "code                                                              \n",
       "0000000016124                           E307c - Alpha-tocopherol  \n",
       "0000000018517                  E322 - Lecithins,E322i - Lecithin  \n",
       "0000000035286                                    E1510 - Ethanon  \n",
       "0000000035293                                    E1510 - Ethanon  \n",
       "0002000000776  E336 - Potassium tartrates,E336i - Monopotassi...  "
      ]
     },
     "execution_count": 52,
     "metadata": {},
     "output_type": "execute_result"
    }
   ],
   "source": [
    "bio_additives_df.head()"
   ]
  },
  {
   "cell_type": "markdown",
   "metadata": {},
   "source": [
    "We observe a highly unbalanced dataset between products being organic and products not being organic. This will be taken into account for the upcoming analysis.\n",
    "\n",
    "The additives_tags contains a string being a list. Let's process this column to enable a list representation, and then exploding this column to have a single element per row in this column."
   ]
  },
  {
   "cell_type": "code",
   "execution_count": 53,
   "metadata": {
    "ExecuteTime": {
     "end_time": "2019-11-24T19:54:51.077191Z",
     "start_time": "2019-11-24T19:54:48.983935Z"
    }
   },
   "outputs": [],
   "source": [
    "bio_additives_df['additives_en'] = bio_additives_df['additives_en'].apply(lambda x: list(x.split(\",\")))\n",
    "bio_additives_df_exploded = bio_additives_df.explode('additives_en')\n",
    "\n",
    "non_bio_additives_df['additives_en'] = non_bio_additives_df['additives_en'].apply(lambda x: list(x.split(\",\")))\n",
    "non_bio_additives_df_exploded = non_bio_additives_df.explode('additives_en')"
   ]
  },
  {
   "cell_type": "code",
   "execution_count": 54,
   "metadata": {
    "ExecuteTime": {
     "end_time": "2019-11-24T19:54:51.092813Z",
     "start_time": "2019-11-24T19:54:51.077191Z"
    }
   },
   "outputs": [
    {
     "data": {
      "text/html": [
       "<div>\n",
       "<style scoped>\n",
       "    .dataframe tbody tr th:only-of-type {\n",
       "        vertical-align: middle;\n",
       "    }\n",
       "\n",
       "    .dataframe tbody tr th {\n",
       "        vertical-align: top;\n",
       "    }\n",
       "\n",
       "    .dataframe thead th {\n",
       "        text-align: right;\n",
       "    }\n",
       "</style>\n",
       "<table border=\"1\" class=\"dataframe\">\n",
       "  <thead>\n",
       "    <tr style=\"text-align: right;\">\n",
       "      <th></th>\n",
       "      <th>product_name</th>\n",
       "      <th>additives_en</th>\n",
       "    </tr>\n",
       "    <tr>\n",
       "      <th>code</th>\n",
       "      <th></th>\n",
       "      <th></th>\n",
       "    </tr>\n",
       "  </thead>\n",
       "  <tbody>\n",
       "    <tr>\n",
       "      <td>0000000016124</td>\n",
       "      <td>Organic Muesli</td>\n",
       "      <td>E307c - Alpha-tocopherol</td>\n",
       "    </tr>\n",
       "    <tr>\n",
       "      <td>0000000018517</td>\n",
       "      <td>Seventh Heaven Organic Trail Mix</td>\n",
       "      <td>E322 - Lecithins</td>\n",
       "    </tr>\n",
       "    <tr>\n",
       "      <td>0000000018517</td>\n",
       "      <td>Seventh Heaven Organic Trail Mix</td>\n",
       "      <td>E322i - Lecithin</td>\n",
       "    </tr>\n",
       "    <tr>\n",
       "      <td>0000000035286</td>\n",
       "      <td>Organic Shoyu</td>\n",
       "      <td>E1510 - Ethanon</td>\n",
       "    </tr>\n",
       "    <tr>\n",
       "      <td>0000000035293</td>\n",
       "      <td>Organic Wheat-Free Tamari</td>\n",
       "      <td>E1510 - Ethanon</td>\n",
       "    </tr>\n",
       "    <tr>\n",
       "      <td>0002000000776</td>\n",
       "      <td>Fondant de saumon</td>\n",
       "      <td>E336 - Potassium tartrates</td>\n",
       "    </tr>\n",
       "    <tr>\n",
       "      <td>0002000000776</td>\n",
       "      <td>Fondant de saumon</td>\n",
       "      <td>E336i - Monopotassium tartrate</td>\n",
       "    </tr>\n",
       "    <tr>\n",
       "      <td>0002000002466</td>\n",
       "      <td>2 MINI BAGUETTES SANS GLUTEN</td>\n",
       "      <td>E412 - Guar gum</td>\n",
       "    </tr>\n",
       "    <tr>\n",
       "      <td>0002000002466</td>\n",
       "      <td>2 MINI BAGUETTES SANS GLUTEN</td>\n",
       "      <td>E415 - Xanthan gum</td>\n",
       "    </tr>\n",
       "    <tr>\n",
       "      <td>00023923201965</td>\n",
       "      <td>Organic Sunny Days Snack Bars</td>\n",
       "      <td>E170 - Calcium carbonate</td>\n",
       "    </tr>\n",
       "  </tbody>\n",
       "</table>\n",
       "</div>"
      ],
      "text/plain": [
       "                                    product_name  \\\n",
       "code                                               \n",
       "0000000016124                     Organic Muesli   \n",
       "0000000018517   Seventh Heaven Organic Trail Mix   \n",
       "0000000018517   Seventh Heaven Organic Trail Mix   \n",
       "0000000035286                      Organic Shoyu   \n",
       "0000000035293          Organic Wheat-Free Tamari   \n",
       "0002000000776                  Fondant de saumon   \n",
       "0002000000776                  Fondant de saumon   \n",
       "0002000002466       2 MINI BAGUETTES SANS GLUTEN   \n",
       "0002000002466       2 MINI BAGUETTES SANS GLUTEN   \n",
       "00023923201965     Organic Sunny Days Snack Bars   \n",
       "\n",
       "                                  additives_en  \n",
       "code                                            \n",
       "0000000016124         E307c - Alpha-tocopherol  \n",
       "0000000018517                 E322 - Lecithins  \n",
       "0000000018517                 E322i - Lecithin  \n",
       "0000000035286                  E1510 - Ethanon  \n",
       "0000000035293                  E1510 - Ethanon  \n",
       "0002000000776       E336 - Potassium tartrates  \n",
       "0002000000776   E336i - Monopotassium tartrate  \n",
       "0002000002466                  E412 - Guar gum  \n",
       "0002000002466               E415 - Xanthan gum  \n",
       "00023923201965        E170 - Calcium carbonate  "
      ]
     },
     "execution_count": 54,
     "metadata": {},
     "output_type": "execute_result"
    }
   ],
   "source": [
    "bio_additives_df_exploded.head(10)"
   ]
  },
  {
   "cell_type": "code",
   "execution_count": 55,
   "metadata": {
    "ExecuteTime": {
     "end_time": "2019-11-24T19:54:51.498977Z",
     "start_time": "2019-11-24T19:54:51.092813Z"
    }
   },
   "outputs": [],
   "source": [
    "bio_additives_df = bio_additives_df_exploded.groupby('additives_en') \\\n",
    "                                                     .count() \\\n",
    "                                                     .sort_values('product_name', ascending=False) \\\n",
    "                                                     .reset_index() \\\n",
    "                                                     .rename(columns={'additives_en' : 'additive', \"product_name\" : \"count\"})\n",
    "    \n",
    "non_bio_additives_df = non_bio_additives_df_exploded.groupby('additives_en') \\\n",
    "                                                             .count() \\\n",
    "                                                             .sort_values('product_name', ascending=False) \\\n",
    "                                                             .reset_index() \\\n",
    "                                                             .rename(columns={'additives_en' : 'additive', \"product_name\" : \"count\"})"
   ]
  },
  {
   "cell_type": "markdown",
   "metadata": {},
   "source": [
    "First let's observe the 5 most used additive in Bio and non-Bio products, which is not biased by the unbalancing of the dataset."
   ]
  },
  {
   "cell_type": "code",
   "execution_count": 56,
   "metadata": {
    "ExecuteTime": {
     "end_time": "2019-11-24T19:54:51.530213Z",
     "start_time": "2019-11-24T19:54:51.498977Z"
    }
   },
   "outputs": [
    {
     "name": "stdout",
     "output_type": "stream",
     "text": [
      "The most used additives for bio products are : \n",
      "0            E322 - Lecithins\n",
      "1          E330 - Citric acid\n",
      "2    E500 - Sodium carbonates\n",
      "3              E440 - Pectins\n",
      "4            E322i - Lecithin\n",
      "Name: additive, dtype: object \n",
      "\n",
      "\n",
      "The most used additives for normal products are : \n",
      "0                              E330 - Citric acid\n",
      "1                                E322 - Lecithins\n",
      "2                                E322i - Lecithin\n",
      "3                              E415 - Xanthan gum\n",
      "4    E471 - Mono- and diglycerides of fatty acids\n",
      "Name: additive, dtype: object\n"
     ]
    }
   ],
   "source": [
    "most_used_bio = bio_additives_df['additive'][:5]\n",
    "most_used_normal = non_bio_additives_df['additive'][:5]\n",
    "print(\"The most used additives for bio products are : \\n{} \\n\\n\\n\"\n",
    "      \"The most used additives for normal products are : \\n{}\" .format(most_used_bio, most_used_normal))"
   ]
  },
  {
   "cell_type": "markdown",
   "metadata": {},
   "source": [
    "We already observe a difference from the top 5 used additives for bio product vs normal product. Let's try to visualize the global picture"
   ]
  },
  {
   "cell_type": "markdown",
   "metadata": {},
   "source": [
    "First we compute the proportion of each additive in its own dataset"
   ]
  },
  {
   "cell_type": "code",
   "execution_count": 57,
   "metadata": {
    "ExecuteTime": {
     "end_time": "2019-11-24T19:54:51.561462Z",
     "start_time": "2019-11-24T19:54:51.530213Z"
    }
   },
   "outputs": [],
   "source": [
    "bio_additives_df['proportion'] = bio_additives_df['count'] / bio_additives_df['count'].sum()\n",
    "non_bio_additives_df['proportion'] = non_bio_additives_df['count'] / non_bio_additives_df['count'].sum()"
   ]
  },
  {
   "cell_type": "markdown",
   "metadata": {},
   "source": [
    "Let's observe the results, taking the normal products as a reference."
   ]
  },
  {
   "cell_type": "code",
   "execution_count": 58,
   "metadata": {
    "ExecuteTime": {
     "end_time": "2019-11-24T19:54:53.779680Z",
     "start_time": "2019-11-24T19:54:51.561462Z"
    }
   },
   "outputs": [
    {
     "data": {
      "image/png": "[encoded data removed]",
      "text/plain": [
       "<Figure size 1440x504 with 1 Axes>"
      ]
     },
     "metadata": {
      "needs_background": "light"
     },
     "output_type": "display_data"
    }
   ],
   "source": [
    "n_to_plot = 70\n",
    "\n",
    "figure = plt.figure(figsize=(20,7))\n",
    "\n",
    "additive_tag_bio = bio_additives_df.additive.apply(lambda x: x.split(\" \")[0])\n",
    "additive_tag_normal = non_bio_additives_df.additive.apply(lambda x: x.split(\" \")[0])\n",
    "\n",
    "plt.bar(additive_tag_bio[:n_to_plot], bio_additives_df.proportion[:n_to_plot], label='Bio')\n",
    "plt.bar(additive_tag_normal[:n_to_plot], non_bio_additives_df.proportion[:n_to_plot], label='Normal', alpha=0.7)\n",
    "\n",
    "plt.title('Proportion of different additives in bio and normal products')\n",
    "plt.xlabel('Additive')\n",
    "plt.ylabel('Proportion')\n",
    "plt.legend()\n",
    "plt.xticks(rotation = (90), fontsize = 8, va='top')\n",
    "plt.show()"
   ]
  },
  {
   "cell_type": "markdown",
   "metadata": {},
   "source": [
    "Many different analysis can be conducted from this graph.\n",
    "\n",
    "* Let's analyze one of the spike present for the bio products and not for the normal products. One of the biggest is with the E440 and E440i additives. With a quick search online, we determine that this specific additive is [Pectin](https://en.wikipedia.org/wiki/Pectin). This specific additive is also used for [medicine](https://www.webmd.com/vitamins/ai/ingredientmono-500/pectin) and is hence not harmful at all.\n",
    "\n",
    "* Another big peak present for bio products and not for normal products is with the E300 additive. Again, a quick search online revealed that this additive represent [ascorbic acid](https://www.webmd.com/drugs/2/drug-322/ascorbic-acid-vitamin-c-oral/details) and is known to be an antioxident, hence again not harmful at all.\n",
    "\n",
    "* We observe that going down the most present additives, the normal products contains some additives that are not present at all in bio products. Let's observe some of them a bit deeper\n",
    "    - Let's observe the E471 additive which is a big peak for the non-bio products. We found that this additive represent the Mono- and diglycerides of fatty acids. It was set not to be harmful but is still prohibited in biological food in the EU due to its source from fatty acids ([source in french](https://www.additifs-alimentaires.net/E471.php)). The presence of this additive in the dataset even if it is prohibited in the EU may be explained by the fact that it may not be prohibited in other countries, such as in the United States or also that some products may have had contacts to other non-bio products and hence have been contaminated with this additive.\n",
    "    - E450 is another big peak for non-bio products and represents the Diphosphates and Pyrophosphates. These specific products are doubtful as the harmful dosages are not known ([source in french](https://additifs-alimentaires.net/E450.php)). This is hence the first additive which is known to be dangerous, and being present in normal products and not in bio products."
   ]
  },
  {
   "cell_type": "markdown",
   "metadata": {},
   "source": [
    "### Primary results\n",
    "\n",
    "We observe that there is a significant difference in terms of present additives between the two categories of bio and non-bio products. This is encouraging for future work on the differentiation of these two categories. \n",
    "Here we presented a **non-exhaustive** list of the difference with respect to a few additives selected visually on the graph. Future work include the batch processing of such additives which are often represented by groups which are cited on [this](https://en.wikipedia.org/wiki/E_number) wikipedia page. Next steps is to produce a more robust analysis with respect to these groups"
   ]
  },
  {
   "cell_type": "markdown",
   "metadata": {},
   "source": [
    "## Question 3: What are the levels of interdependencies between nations based on their production and importations?"
   ]
  },
  {
   "cell_type": "markdown",
   "metadata": {},
   "source": [
    "### Additional cleaning"
   ]
  },
  {
   "cell_type": "markdown",
   "metadata": {},
   "source": [
    "### Data exploration"
   ]
  },
  {
   "cell_type": "markdown",
   "metadata": {},
   "source": [
    "### Results\n",
    "\n",
    "quick conclusion, we **don't keep** the question, further investigations"
   ]
  },
  {
   "cell_type": "markdown",
   "metadata": {},
   "source": [
    "## Complementary dataset"
   ]
  },
  {
   "cell_type": "markdown",
   "metadata": {},
   "source": [
    "The Open Food Facts dataset is interesting and provides a lot of information about products that are sold in supermarkets. However, one of its limitations is that it mainly contains 'processed food', and no information on raw food such as fresh vegetables, fruits, etc.\n",
    "\n",
    "For our investigations, we would like to have informations on such products, and hence need to find extra data. We came accross the [Ciqual nutritional composition table](https://www.data.gouv.fr/fr/datasets/table-de-composition-nutritionnelle-des-aliments-ciqual/), which is a dataset containing the composition of food and dishes. The dataset was created by a French certified public organism and the data it contains is very reliable. In particular, it contains the composition data for fruits and vegetables that we are interested in."
   ]
  },
  {
   "cell_type": "code",
   "execution_count": 62,
   "metadata": {
    "ExecuteTime": {
     "end_time": "2019-11-24T19:56:03.478750Z",
     "start_time": "2019-11-24T19:56:03.041353Z"
    }
   },
   "outputs": [
    {
     "data": {
      "text/html": [
       "<div>\n",
       "<style scoped>\n",
       "    .dataframe tbody tr th:only-of-type {\n",
       "        vertical-align: middle;\n",
       "    }\n",
       "\n",
       "    .dataframe tbody tr th {\n",
       "        vertical-align: top;\n",
       "    }\n",
       "\n",
       "    .dataframe thead th {\n",
       "        text-align: right;\n",
       "    }\n",
       "</style>\n",
       "<table border=\"1\" class=\"dataframe\">\n",
       "  <thead>\n",
       "    <tr style=\"text-align: right;\">\n",
       "      <th></th>\n",
       "      <th>alim_grp_code</th>\n",
       "      <th>alim_ssgrp_code</th>\n",
       "      <th>alim_ssssgrp_code</th>\n",
       "      <th>alim_grp_nom_fr</th>\n",
       "      <th>alim_ssgrp_nom_fr</th>\n",
       "      <th>alim_ssssgrp_nom_fr</th>\n",
       "      <th>alim_code</th>\n",
       "      <th>alim_nom_fr</th>\n",
       "      <th>alim_nom_fr.1</th>\n",
       "      <th>Energie, Règlement UE N° 1169/2011 (kcal/100g)</th>\n",
       "      <th>...</th>\n",
       "      <th>Vitamine K1 (µg/100g)</th>\n",
       "      <th>Vitamine K2 (µg/100g)</th>\n",
       "      <th>Vitamine C (mg/100g)</th>\n",
       "      <th>Vitamine B1 ou Thiamine (mg/100g)</th>\n",
       "      <th>Vitamine B2 ou Riboflavine (mg/100g)</th>\n",
       "      <th>Vitamine B3 ou PP ou Niacine (mg/100g)</th>\n",
       "      <th>Vitamine B5 ou Acide pantothénique (mg/100g)</th>\n",
       "      <th>Vitamine B6 (mg/100g)</th>\n",
       "      <th>Vitamine B9 ou Folates totaux (µg/100g)</th>\n",
       "      <th>Vitamine B12 (µg/100g)</th>\n",
       "    </tr>\n",
       "  </thead>\n",
       "  <tbody>\n",
       "    <tr>\n",
       "      <td>0</td>\n",
       "      <td>1</td>\n",
       "      <td>101</td>\n",
       "      <td>0</td>\n",
       "      <td>entrées et plats composés</td>\n",
       "      <td>salades composées et crudités</td>\n",
       "      <td>-</td>\n",
       "      <td>25600</td>\n",
       "      <td>Céleri rémoulade, préemballé</td>\n",
       "      <td>Céleri rémoulade, préemballé</td>\n",
       "      <td>-</td>\n",
       "      <td>...</td>\n",
       "      <td>-</td>\n",
       "      <td>-</td>\n",
       "      <td>25,2</td>\n",
       "      <td>&lt; 0,04</td>\n",
       "      <td>&lt; 0,04</td>\n",
       "      <td>0,38</td>\n",
       "      <td>0,28</td>\n",
       "      <td>0,19</td>\n",
       "      <td>28</td>\n",
       "      <td>&lt; 0,08</td>\n",
       "    </tr>\n",
       "    <tr>\n",
       "      <td>1</td>\n",
       "      <td>1</td>\n",
       "      <td>101</td>\n",
       "      <td>0</td>\n",
       "      <td>entrées et plats composés</td>\n",
       "      <td>salades composées et crudités</td>\n",
       "      <td>-</td>\n",
       "      <td>25601</td>\n",
       "      <td>Salade de thon et légumes, appertisée, égouttée</td>\n",
       "      <td>Salade de thon et légumes, appertisée, égouttée</td>\n",
       "      <td>-</td>\n",
       "      <td>...</td>\n",
       "      <td>-</td>\n",
       "      <td>-</td>\n",
       "      <td>2,75</td>\n",
       "      <td>&lt; 0,04</td>\n",
       "      <td>0,053</td>\n",
       "      <td>4,45</td>\n",
       "      <td>&lt; 0,16</td>\n",
       "      <td>0,29</td>\n",
       "      <td>31</td>\n",
       "      <td>1,45</td>\n",
       "    </tr>\n",
       "    <tr>\n",
       "      <td>2</td>\n",
       "      <td>1</td>\n",
       "      <td>101</td>\n",
       "      <td>0</td>\n",
       "      <td>entrées et plats composés</td>\n",
       "      <td>salades composées et crudités</td>\n",
       "      <td>-</td>\n",
       "      <td>25602</td>\n",
       "      <td>Salade composée avec viande ou poisson, appert...</td>\n",
       "      <td>Salade composée avec viande ou poisson, appert...</td>\n",
       "      <td>-</td>\n",
       "      <td>...</td>\n",
       "      <td>9,75</td>\n",
       "      <td>-</td>\n",
       "      <td>-</td>\n",
       "      <td>0,032</td>\n",
       "      <td>0,022</td>\n",
       "      <td>4,13</td>\n",
       "      <td>0,2</td>\n",
       "      <td>0,12</td>\n",
       "      <td>11,1</td>\n",
       "      <td>1,23</td>\n",
       "    </tr>\n",
       "    <tr>\n",
       "      <td>3</td>\n",
       "      <td>1</td>\n",
       "      <td>101</td>\n",
       "      <td>0</td>\n",
       "      <td>entrées et plats composés</td>\n",
       "      <td>salades composées et crudités</td>\n",
       "      <td>-</td>\n",
       "      <td>25605</td>\n",
       "      <td>Champignon à la grecque</td>\n",
       "      <td>Champignon à la grecque</td>\n",
       "      <td>-</td>\n",
       "      <td>...</td>\n",
       "      <td>-</td>\n",
       "      <td>-</td>\n",
       "      <td>10,3</td>\n",
       "      <td>0,062</td>\n",
       "      <td>0,2</td>\n",
       "      <td>1,88</td>\n",
       "      <td>0,76</td>\n",
       "      <td>0,11</td>\n",
       "      <td>27,3</td>\n",
       "      <td>0,018</td>\n",
       "    </tr>\n",
       "    <tr>\n",
       "      <td>4</td>\n",
       "      <td>1</td>\n",
       "      <td>101</td>\n",
       "      <td>0</td>\n",
       "      <td>entrées et plats composés</td>\n",
       "      <td>salades composées et crudités</td>\n",
       "      <td>-</td>\n",
       "      <td>25606</td>\n",
       "      <td>Salade de pommes de terre maison</td>\n",
       "      <td>Salade de pommes de terre maison</td>\n",
       "      <td>-</td>\n",
       "      <td>...</td>\n",
       "      <td>-</td>\n",
       "      <td>-</td>\n",
       "      <td>10</td>\n",
       "      <td>0,077</td>\n",
       "      <td>0,06</td>\n",
       "      <td>0,89</td>\n",
       "      <td>0,53</td>\n",
       "      <td>0,14</td>\n",
       "      <td>7</td>\n",
       "      <td>0</td>\n",
       "    </tr>\n",
       "  </tbody>\n",
       "</table>\n",
       "<p>5 rows × 69 columns</p>\n",
       "</div>"
      ],
      "text/plain": [
       "   alim_grp_code  alim_ssgrp_code  alim_ssssgrp_code  \\\n",
       "0              1              101                  0   \n",
       "1              1              101                  0   \n",
       "2              1              101                  0   \n",
       "3              1              101                  0   \n",
       "4              1              101                  0   \n",
       "\n",
       "             alim_grp_nom_fr              alim_ssgrp_nom_fr  \\\n",
       "0  entrées et plats composés  salades composées et crudités   \n",
       "1  entrées et plats composés  salades composées et crudités   \n",
       "2  entrées et plats composés  salades composées et crudités   \n",
       "3  entrées et plats composés  salades composées et crudités   \n",
       "4  entrées et plats composés  salades composées et crudités   \n",
       "\n",
       "  alim_ssssgrp_nom_fr  alim_code  \\\n",
       "0                   -      25600   \n",
       "1                   -      25601   \n",
       "2                   -      25602   \n",
       "3                   -      25605   \n",
       "4                   -      25606   \n",
       "\n",
       "                                         alim_nom_fr  \\\n",
       "0                       Céleri rémoulade, préemballé   \n",
       "1    Salade de thon et légumes, appertisée, égouttée   \n",
       "2  Salade composée avec viande ou poisson, appert...   \n",
       "3                            Champignon à la grecque   \n",
       "4                   Salade de pommes de terre maison   \n",
       "\n",
       "                                       alim_nom_fr.1  \\\n",
       "0                       Céleri rémoulade, préemballé   \n",
       "1    Salade de thon et légumes, appertisée, égouttée   \n",
       "2  Salade composée avec viande ou poisson, appert...   \n",
       "3                            Champignon à la grecque   \n",
       "4                   Salade de pommes de terre maison   \n",
       "\n",
       "  Energie, Règlement UE N° 1169/2011 (kcal/100g)  ... Vitamine K1 (µg/100g)  \\\n",
       "0                                              -  ...                     -   \n",
       "1                                              -  ...                     -   \n",
       "2                                              -  ...                  9,75   \n",
       "3                                              -  ...                     -   \n",
       "4                                              -  ...                     -   \n",
       "\n",
       "  Vitamine K2 (µg/100g) Vitamine C (mg/100g)  \\\n",
       "0                     -                 25,2   \n",
       "1                     -                 2,75   \n",
       "2                     -                    -   \n",
       "3                     -                 10,3   \n",
       "4                     -                   10   \n",
       "\n",
       "  Vitamine B1 ou Thiamine (mg/100g) Vitamine B2 ou Riboflavine (mg/100g)  \\\n",
       "0                            < 0,04                               < 0,04   \n",
       "1                            < 0,04                                0,053   \n",
       "2                             0,032                                0,022   \n",
       "3                             0,062                                  0,2   \n",
       "4                             0,077                                 0,06   \n",
       "\n",
       "  Vitamine B3 ou PP ou Niacine (mg/100g)  \\\n",
       "0                                   0,38   \n",
       "1                                   4,45   \n",
       "2                                   4,13   \n",
       "3                                   1,88   \n",
       "4                                   0,89   \n",
       "\n",
       "  Vitamine B5 ou Acide pantothénique (mg/100g) Vitamine B6 (mg/100g)  \\\n",
       "0                                         0,28                  0,19   \n",
       "1                                       < 0,16                  0,29   \n",
       "2                                          0,2                  0,12   \n",
       "3                                         0,76                  0,11   \n",
       "4                                         0,53                  0,14   \n",
       "\n",
       "  Vitamine B9 ou Folates totaux (µg/100g) Vitamine B12 (µg/100g)  \n",
       "0                                      28                 < 0,08  \n",
       "1                                      31                   1,45  \n",
       "2                                    11,1                   1,23  \n",
       "3                                    27,3                  0,018  \n",
       "4                                       7                      0  \n",
       "\n",
       "[5 rows x 69 columns]"
      ]
     },
     "execution_count": 62,
     "metadata": {},
     "output_type": "execute_result"
    }
   ],
   "source": [
    "CIQUAL_DATASET_PATH = 'data/TableCiqual2017_ExcelFR_2017 11 17.xls'\n",
    "\n",
    "ciqual_df = pd.read_excel(CIQUAL_DATASET_PATH)\n",
    "ciqual_df.head(5)"
   ]
  },
  {
   "cell_type": "markdown",
   "metadata": {},
   "source": [
    "The dataset has 3 categorical columns (`alim_grp_nom_fr`, `alim_ssgrp_nom_fr`, `alim_ssssgrp_nom_fr`) that can be used to easily extract the food we are interested in. For instance, if we want to keep only the vegetables:"
   ]
  },
  {
   "cell_type": "code",
   "execution_count": 63,
   "metadata": {
    "ExecuteTime": {
     "end_time": "2019-11-24T19:56:08.618165Z",
     "start_time": "2019-11-24T19:56:08.586961Z"
    }
   },
   "outputs": [
    {
     "data": {
      "text/html": [
       "<div>\n",
       "<style scoped>\n",
       "    .dataframe tbody tr th:only-of-type {\n",
       "        vertical-align: middle;\n",
       "    }\n",
       "\n",
       "    .dataframe tbody tr th {\n",
       "        vertical-align: top;\n",
       "    }\n",
       "\n",
       "    .dataframe thead th {\n",
       "        text-align: right;\n",
       "    }\n",
       "</style>\n",
       "<table border=\"1\" class=\"dataframe\">\n",
       "  <thead>\n",
       "    <tr style=\"text-align: right;\">\n",
       "      <th></th>\n",
       "      <th>alim_grp_code</th>\n",
       "      <th>alim_ssgrp_code</th>\n",
       "      <th>alim_ssssgrp_code</th>\n",
       "      <th>alim_grp_nom_fr</th>\n",
       "      <th>alim_ssgrp_nom_fr</th>\n",
       "      <th>alim_ssssgrp_nom_fr</th>\n",
       "      <th>alim_code</th>\n",
       "      <th>alim_nom_fr</th>\n",
       "      <th>alim_nom_fr.1</th>\n",
       "      <th>Energie, Règlement UE N° 1169/2011 (kcal/100g)</th>\n",
       "      <th>...</th>\n",
       "      <th>Vitamine K1 (µg/100g)</th>\n",
       "      <th>Vitamine K2 (µg/100g)</th>\n",
       "      <th>Vitamine C (mg/100g)</th>\n",
       "      <th>Vitamine B1 ou Thiamine (mg/100g)</th>\n",
       "      <th>Vitamine B2 ou Riboflavine (mg/100g)</th>\n",
       "      <th>Vitamine B3 ou PP ou Niacine (mg/100g)</th>\n",
       "      <th>Vitamine B5 ou Acide pantothénique (mg/100g)</th>\n",
       "      <th>Vitamine B6 (mg/100g)</th>\n",
       "      <th>Vitamine B9 ou Folates totaux (µg/100g)</th>\n",
       "      <th>Vitamine B12 (µg/100g)</th>\n",
       "    </tr>\n",
       "  </thead>\n",
       "  <tbody>\n",
       "    <tr>\n",
       "      <td>308</td>\n",
       "      <td>2</td>\n",
       "      <td>201</td>\n",
       "      <td>20101</td>\n",
       "      <td>fruits, légumes, légumineuses et oléagineux</td>\n",
       "      <td>légumes</td>\n",
       "      <td>légumes crus</td>\n",
       "      <td>13004</td>\n",
       "      <td>Avocat, pulpe, cru</td>\n",
       "      <td>Avocat, pulpe, cru</td>\n",
       "      <td>155</td>\n",
       "      <td>...</td>\n",
       "      <td>14,5</td>\n",
       "      <td>-</td>\n",
       "      <td>4,07</td>\n",
       "      <td>0,05</td>\n",
       "      <td>0,13</td>\n",
       "      <td>1,2</td>\n",
       "      <td>0,77</td>\n",
       "      <td>0,12</td>\n",
       "      <td>79,9</td>\n",
       "      <td>0</td>\n",
       "    </tr>\n",
       "    <tr>\n",
       "      <td>309</td>\n",
       "      <td>2</td>\n",
       "      <td>201</td>\n",
       "      <td>20101</td>\n",
       "      <td>fruits, légumes, légumineuses et oléagineux</td>\n",
       "      <td>légumes</td>\n",
       "      <td>légumes crus</td>\n",
       "      <td>20004</td>\n",
       "      <td>Bette ou blette, crue</td>\n",
       "      <td>Bette ou blette, crue</td>\n",
       "      <td>12,3</td>\n",
       "      <td>...</td>\n",
       "      <td>&lt; 0,8</td>\n",
       "      <td>-</td>\n",
       "      <td>3,08</td>\n",
       "      <td>&lt; 0,015</td>\n",
       "      <td>0,015</td>\n",
       "      <td>&lt; 0,1</td>\n",
       "      <td>0,2</td>\n",
       "      <td>0,036</td>\n",
       "      <td>24,7</td>\n",
       "      <td>0</td>\n",
       "    </tr>\n",
       "    <tr>\n",
       "      <td>310</td>\n",
       "      <td>2</td>\n",
       "      <td>201</td>\n",
       "      <td>20101</td>\n",
       "      <td>fruits, légumes, légumineuses et oléagineux</td>\n",
       "      <td>légumes</td>\n",
       "      <td>légumes crus</td>\n",
       "      <td>20009</td>\n",
       "      <td>Carotte, crue</td>\n",
       "      <td>Carotte, crue</td>\n",
       "      <td>36,4</td>\n",
       "      <td>...</td>\n",
       "      <td>13,8</td>\n",
       "      <td>-</td>\n",
       "      <td>5,84</td>\n",
       "      <td>0,054</td>\n",
       "      <td>0,047</td>\n",
       "      <td>0,99</td>\n",
       "      <td>0,28</td>\n",
       "      <td>0,13</td>\n",
       "      <td>32,3</td>\n",
       "      <td>0</td>\n",
       "    </tr>\n",
       "    <tr>\n",
       "      <td>311</td>\n",
       "      <td>2</td>\n",
       "      <td>201</td>\n",
       "      <td>20101</td>\n",
       "      <td>fruits, légumes, légumineuses et oléagineux</td>\n",
       "      <td>légumes</td>\n",
       "      <td>légumes crus</td>\n",
       "      <td>20010</td>\n",
       "      <td>Champignon, tout type, cru</td>\n",
       "      <td>Champignon, tout type, cru</td>\n",
       "      <td>21,6</td>\n",
       "      <td>...</td>\n",
       "      <td>0</td>\n",
       "      <td>-</td>\n",
       "      <td>3,4</td>\n",
       "      <td>0,084</td>\n",
       "      <td>0,42</td>\n",
       "      <td>4,55</td>\n",
       "      <td>1,75</td>\n",
       "      <td>0,082</td>\n",
       "      <td>29</td>\n",
       "      <td>0</td>\n",
       "    </tr>\n",
       "    <tr>\n",
       "      <td>312</td>\n",
       "      <td>2</td>\n",
       "      <td>201</td>\n",
       "      <td>20101</td>\n",
       "      <td>fruits, légumes, légumineuses et oléagineux</td>\n",
       "      <td>légumes</td>\n",
       "      <td>légumes crus</td>\n",
       "      <td>20012</td>\n",
       "      <td>Salade ou chicorée frisée, crue</td>\n",
       "      <td>Salade ou chicorée frisée, crue</td>\n",
       "      <td>22,7</td>\n",
       "      <td>...</td>\n",
       "      <td>298</td>\n",
       "      <td>-</td>\n",
       "      <td>18,5</td>\n",
       "      <td>0,07</td>\n",
       "      <td>0,088</td>\n",
       "      <td>0,45</td>\n",
       "      <td>1,03</td>\n",
       "      <td>0,063</td>\n",
       "      <td>126</td>\n",
       "      <td>0</td>\n",
       "    </tr>\n",
       "  </tbody>\n",
       "</table>\n",
       "<p>5 rows × 69 columns</p>\n",
       "</div>"
      ],
      "text/plain": [
       "     alim_grp_code  alim_ssgrp_code  alim_ssssgrp_code  \\\n",
       "308              2              201              20101   \n",
       "309              2              201              20101   \n",
       "310              2              201              20101   \n",
       "311              2              201              20101   \n",
       "312              2              201              20101   \n",
       "\n",
       "                                 alim_grp_nom_fr alim_ssgrp_nom_fr  \\\n",
       "308  fruits, légumes, légumineuses et oléagineux           légumes   \n",
       "309  fruits, légumes, légumineuses et oléagineux           légumes   \n",
       "310  fruits, légumes, légumineuses et oléagineux           légumes   \n",
       "311  fruits, légumes, légumineuses et oléagineux           légumes   \n",
       "312  fruits, légumes, légumineuses et oléagineux           légumes   \n",
       "\n",
       "    alim_ssssgrp_nom_fr  alim_code                      alim_nom_fr  \\\n",
       "308        légumes crus      13004               Avocat, pulpe, cru   \n",
       "309        légumes crus      20004            Bette ou blette, crue   \n",
       "310        légumes crus      20009                    Carotte, crue   \n",
       "311        légumes crus      20010       Champignon, tout type, cru   \n",
       "312        légumes crus      20012  Salade ou chicorée frisée, crue   \n",
       "\n",
       "                       alim_nom_fr.1  \\\n",
       "308               Avocat, pulpe, cru   \n",
       "309            Bette ou blette, crue   \n",
       "310                    Carotte, crue   \n",
       "311       Champignon, tout type, cru   \n",
       "312  Salade ou chicorée frisée, crue   \n",
       "\n",
       "    Energie, Règlement UE N° 1169/2011 (kcal/100g)  ... Vitamine K1 (µg/100g)  \\\n",
       "308                                            155  ...                  14,5   \n",
       "309                                           12,3  ...                 < 0,8   \n",
       "310                                           36,4  ...                  13,8   \n",
       "311                                           21,6  ...                     0   \n",
       "312                                           22,7  ...                   298   \n",
       "\n",
       "    Vitamine K2 (µg/100g) Vitamine C (mg/100g)  \\\n",
       "308                     -                 4,07   \n",
       "309                     -                 3,08   \n",
       "310                     -                 5,84   \n",
       "311                     -                  3,4   \n",
       "312                     -                 18,5   \n",
       "\n",
       "    Vitamine B1 ou Thiamine (mg/100g) Vitamine B2 ou Riboflavine (mg/100g)  \\\n",
       "308                              0,05                                 0,13   \n",
       "309                           < 0,015                                0,015   \n",
       "310                             0,054                                0,047   \n",
       "311                             0,084                                 0,42   \n",
       "312                              0,07                                0,088   \n",
       "\n",
       "    Vitamine B3 ou PP ou Niacine (mg/100g)  \\\n",
       "308                                    1,2   \n",
       "309                                  < 0,1   \n",
       "310                                   0,99   \n",
       "311                                   4,55   \n",
       "312                                   0,45   \n",
       "\n",
       "    Vitamine B5 ou Acide pantothénique (mg/100g) Vitamine B6 (mg/100g)  \\\n",
       "308                                         0,77                  0,12   \n",
       "309                                          0,2                 0,036   \n",
       "310                                         0,28                  0,13   \n",
       "311                                         1,75                 0,082   \n",
       "312                                         1,03                 0,063   \n",
       "\n",
       "    Vitamine B9 ou Folates totaux (µg/100g) Vitamine B12 (µg/100g)  \n",
       "308                                    79,9                      0  \n",
       "309                                    24,7                      0  \n",
       "310                                    32,3                      0  \n",
       "311                                      29                      0  \n",
       "312                                     126                      0  \n",
       "\n",
       "[5 rows x 69 columns]"
      ]
     },
     "execution_count": 63,
     "metadata": {},
     "output_type": "execute_result"
    }
   ],
   "source": [
    "vegetables_df = ciqual_df[ciqual_df['alim_ssgrp_nom_fr'] == 'légumes']\n",
    "vegetables_df.head(5)"
   ]
  },
  {
   "cell_type": "markdown",
   "metadata": {},
   "source": [
    "It is interesting to note that the vegetables are present in both in 'raw' and 'cooked' form (french: 'cuit' and 'cru'). As an example of what we could do with this dataset, let's analyse the differences in vitamins when cooking the vegetables differently:"
   ]
  },
  {
   "cell_type": "code",
   "execution_count": 64,
   "metadata": {
    "ExecuteTime": {
     "end_time": "2019-11-24T19:56:13.976333Z",
     "start_time": "2019-11-24T19:56:13.960710Z"
    }
   },
   "outputs": [],
   "source": [
    "# Separate raw and cooked vegetables\n",
    "vegetables_raw_df = vegetables_df[vegetables_df['alim_ssssgrp_nom_fr'].str.contains('crus')]\n",
    "vegetables_cooked_df = vegetables_df[vegetables_df['alim_ssssgrp_nom_fr'].str.contains('cuits')]\n",
    "\n",
    "# Vitamin columns\n",
    "vitamins_columns = vegetables_cooked_df.columns[vegetables_cooked_df.columns.str.contains('Vitamine')]\n",
    "\n",
    "# Keep vitamins columns\n",
    "vitamins_raw_df = vegetables_raw_df[vitamins_columns].copy()\n",
    "vitamins_cooked_df = vegetables_cooked_df[vitamins_columns].copy()"
   ]
  },
  {
   "cell_type": "markdown",
   "metadata": {},
   "source": [
    "We remove two columns that are almost empty for the remaining products and make sure the remaining fields are converted to float numbers:"
   ]
  },
  {
   "cell_type": "code",
   "execution_count": 65,
   "metadata": {
    "ExecuteTime": {
     "end_time": "2019-11-24T19:56:19.584332Z",
     "start_time": "2019-11-24T19:56:19.521849Z"
    }
   },
   "outputs": [
    {
     "data": {
      "text/html": [
       "<div>\n",
       "<style scoped>\n",
       "    .dataframe tbody tr th:only-of-type {\n",
       "        vertical-align: middle;\n",
       "    }\n",
       "\n",
       "    .dataframe tbody tr th {\n",
       "        vertical-align: top;\n",
       "    }\n",
       "\n",
       "    .dataframe thead th {\n",
       "        text-align: right;\n",
       "    }\n",
       "</style>\n",
       "<table border=\"1\" class=\"dataframe\">\n",
       "  <thead>\n",
       "    <tr style=\"text-align: right;\">\n",
       "      <th></th>\n",
       "      <th>Vitamine D (µg/100g)</th>\n",
       "      <th>Vitamine E (mg/100g)</th>\n",
       "      <th>Vitamine K1 (µg/100g)</th>\n",
       "      <th>Vitamine C (mg/100g)</th>\n",
       "      <th>Vitamine B1 ou Thiamine (mg/100g)</th>\n",
       "      <th>Vitamine B2 ou Riboflavine (mg/100g)</th>\n",
       "      <th>Vitamine B3 ou PP ou Niacine (mg/100g)</th>\n",
       "      <th>Vitamine B5 ou Acide pantothénique (mg/100g)</th>\n",
       "      <th>Vitamine B6 (mg/100g)</th>\n",
       "      <th>Vitamine B9 ou Folates totaux (µg/100g)</th>\n",
       "    </tr>\n",
       "  </thead>\n",
       "  <tbody>\n",
       "    <tr>\n",
       "      <td>421</td>\n",
       "      <td>0.0</td>\n",
       "      <td>0.19</td>\n",
       "      <td>14.8</td>\n",
       "      <td>9.1</td>\n",
       "      <td>0.050</td>\n",
       "      <td>0.089</td>\n",
       "      <td>1.11</td>\n",
       "      <td>0.240</td>\n",
       "      <td>0.081</td>\n",
       "      <td>89.0</td>\n",
       "    </tr>\n",
       "    <tr>\n",
       "      <td>422</td>\n",
       "      <td>0.0</td>\n",
       "      <td>1.35</td>\n",
       "      <td>65.3</td>\n",
       "      <td>16.1</td>\n",
       "      <td>0.110</td>\n",
       "      <td>0.120</td>\n",
       "      <td>1.06</td>\n",
       "      <td>0.190</td>\n",
       "      <td>0.050</td>\n",
       "      <td>142.0</td>\n",
       "    </tr>\n",
       "    <tr>\n",
       "      <td>423</td>\n",
       "      <td>0.0</td>\n",
       "      <td>0.41</td>\n",
       "      <td>2.9</td>\n",
       "      <td>1.3</td>\n",
       "      <td>0.076</td>\n",
       "      <td>0.020</td>\n",
       "      <td>0.60</td>\n",
       "      <td>0.075</td>\n",
       "      <td>0.086</td>\n",
       "      <td>14.0</td>\n",
       "    </tr>\n",
       "    <tr>\n",
       "      <td>424</td>\n",
       "      <td>0.0</td>\n",
       "      <td>0.04</td>\n",
       "      <td>0.2</td>\n",
       "      <td>3.6</td>\n",
       "      <td>0.027</td>\n",
       "      <td>0.040</td>\n",
       "      <td>0.33</td>\n",
       "      <td>0.150</td>\n",
       "      <td>0.067</td>\n",
       "      <td>80.0</td>\n",
       "    </tr>\n",
       "    <tr>\n",
       "      <td>425</td>\n",
       "      <td>0.0</td>\n",
       "      <td>0.41</td>\n",
       "      <td>0.0</td>\n",
       "      <td>0.0</td>\n",
       "      <td>0.000</td>\n",
       "      <td>0.000</td>\n",
       "      <td>0.00</td>\n",
       "      <td>0.170</td>\n",
       "      <td>0.024</td>\n",
       "      <td>43.2</td>\n",
       "    </tr>\n",
       "  </tbody>\n",
       "</table>\n",
       "</div>"
      ],
      "text/plain": [
       "     Vitamine D (µg/100g)  Vitamine E (mg/100g)  Vitamine K1 (µg/100g)  \\\n",
       "421                   0.0                  0.19                   14.8   \n",
       "422                   0.0                  1.35                   65.3   \n",
       "423                   0.0                  0.41                    2.9   \n",
       "424                   0.0                  0.04                    0.2   \n",
       "425                   0.0                  0.41                    0.0   \n",
       "\n",
       "     Vitamine C (mg/100g)  Vitamine B1 ou Thiamine (mg/100g)  \\\n",
       "421                   9.1                              0.050   \n",
       "422                  16.1                              0.110   \n",
       "423                   1.3                              0.076   \n",
       "424                   3.6                              0.027   \n",
       "425                   0.0                              0.000   \n",
       "\n",
       "     Vitamine B2 ou Riboflavine (mg/100g)  \\\n",
       "421                                 0.089   \n",
       "422                                 0.120   \n",
       "423                                 0.020   \n",
       "424                                 0.040   \n",
       "425                                 0.000   \n",
       "\n",
       "     Vitamine B3 ou PP ou Niacine (mg/100g)  \\\n",
       "421                                    1.11   \n",
       "422                                    1.06   \n",
       "423                                    0.60   \n",
       "424                                    0.33   \n",
       "425                                    0.00   \n",
       "\n",
       "     Vitamine B5 ou Acide pantothénique (mg/100g)  Vitamine B6 (mg/100g)  \\\n",
       "421                                         0.240                  0.081   \n",
       "422                                         0.190                  0.050   \n",
       "423                                         0.075                  0.086   \n",
       "424                                         0.150                  0.067   \n",
       "425                                         0.170                  0.024   \n",
       "\n",
       "     Vitamine B9 ou Folates totaux (µg/100g)  \n",
       "421                                     89.0  \n",
       "422                                    142.0  \n",
       "423                                     14.0  \n",
       "424                                     80.0  \n",
       "425                                     43.2  "
      ]
     },
     "execution_count": 65,
     "metadata": {},
     "output_type": "execute_result"
    }
   ],
   "source": [
    "# Remove almost empty columns\n",
    "vitamins_raw_df.drop(columns=['Vitamine K2 (µg/100g)', 'Vitamine B12 (µg/100g)'], inplace=True)\n",
    "vitamins_cooked_df.drop(columns=['Vitamine K2 (µg/100g)', 'Vitamine B12 (µg/100g)'], inplace=True)\n",
    "\n",
    "def convert_to_float(value):\n",
    "    try:\n",
    "        if type(value) == float:\n",
    "            return value\n",
    "        \n",
    "        float_value = float(value.replace(',', '.'))\n",
    "        return float_value\n",
    "    except ValueError:\n",
    "        if value == '-':\n",
    "            return 0.0\n",
    "        else:\n",
    "            numbers = re.findall( r'\\d+\\.*\\d*', value)\n",
    "            \n",
    "            if numbers:\n",
    "                return float(numbers[0])\n",
    "            else:\n",
    "                return 0.0\n",
    "\n",
    "# Clean columns\n",
    "vitamins_raw_df = vitamins_raw_df.applymap(convert_to_float)\n",
    "vitamins_cooked_df = vitamins_cooked_df.applymap(convert_to_float)\n",
    "vitamins_cooked_df.head(5)"
   ]
  },
  {
   "cell_type": "markdown",
   "metadata": {},
   "source": [
    "Now let's see the average quantity of each vitamins across all vegetables:"
   ]
  },
  {
   "cell_type": "code",
   "execution_count": null,
   "metadata": {
    "ExecuteTime": {
     "start_time": "2019-11-24T19:56:13.133Z"
    }
   },
   "outputs": [],
   "source": [
    "vitamins_grouped_df = pd.DataFrame([vitamins_raw_df.mean().rename('raw'),\n",
    "                                    vitamins_cooked_df.mean().rename('cooked')])\n",
    "\n",
    "vitamins_grouped_df = vitamins_grouped_df.transpose()\n",
    "\n",
    "vitamins_grouped_df.plot(kind='bar', color=['green', 'red'])\n",
    "\n",
    "plt.title('Mean quantity of vitamins in vegetables')\n",
    "plt.xlabel('Vitamin')\n",
    "plt.ylabel('Quantity')\n",
    "\n",
    "plt.show()"
   ]
  },
  {
   "cell_type": "markdown",
   "metadata": {},
   "source": [
    "As a reminder, this is simply an example to illustrate this complementary and what we could get from it."
   ]
  },
  {
   "cell_type": "markdown",
   "metadata": {},
   "source": [
    "## Conclusion: proposed data story"
   ]
  }
 ],
 "metadata": {
  "kernelspec": {
   "display_name": "Python 3",
   "language": "python",
   "name": "python3"
  },
  "language_info": {
   "codemirror_mode": {
    "name": "ipython",
    "version": 3
   },
   "file_extension": ".py",
   "mimetype": "text/x-python",
   "name": "python",
   "nbconvert_exporter": "python",
   "pygments_lexer": "ipython3",
   "version": "3.7.1"
  },
  "toc": {
   "base_numbering": 1,
   "nav_menu": {},
   "number_sections": true,
   "sideBar": true,
   "skip_h1_title": false,
   "title_cell": "Table of Contents",
   "title_sidebar": "Contents",
   "toc_cell": false,
   "toc_position": {},
   "toc_section_display": true,
   "toc_window_display": false
  },
  "varInspector": {
   "cols": {
    "lenName": 16,
    "lenType": 16,
    "lenVar": 40
   },
   "kernels_config": {
    "python": {
     "delete_cmd_postfix": "",
     "delete_cmd_prefix": "del ",
     "library": "var_list.py",
     "varRefreshCmd": "print(var_dic_list())"
    },
    "r": {
     "delete_cmd_postfix": ") ",
     "delete_cmd_prefix": "rm(",
     "library": "var_list.r",
     "varRefreshCmd": "cat(var_dic_list()) "
    }
   },
   "types_to_exclude": [
    "module",
    "function",
    "builtin_function_or_method",
    "instance",
    "_Feature"
   ],
   "window_display": false
  }
 },
 "nbformat": 4,
 "nbformat_minor": 2
}
