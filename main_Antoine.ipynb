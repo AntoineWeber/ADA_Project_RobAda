{
 "cells": [
  {
   "cell_type": "markdown",
   "metadata": {},
   "source": [
    "# Free Diving into Food Facts"
   ]
  },
  {
   "cell_type": "markdown",
   "metadata": {},
   "source": [
    "### Imports needed for the processing"
   ]
  },
  {
   "cell_type": "code",
   "execution_count": 1,
   "metadata": {},
   "outputs": [],
   "source": [
    "import pandas as pd\n",
    "import numpy as np\n",
    "import matplotlib\n",
    "import matplotlib.pyplot as plt\n",
    "%matplotlib inline\n",
    "\n",
    "from pyspark.sql import *\n",
    "from pyspark.sql.functions import *\n",
    "from pyspark import SparkContext\n",
    "\n",
    "import ast\n",
    "\n",
    "matplotlib.rcParams.update({'font.size': 16})"
   ]
  },
  {
   "cell_type": "markdown",
   "metadata": {},
   "source": [
    "Initiate the spark session and context."
   ]
  },
  {
   "cell_type": "code",
   "execution_count": 2,
   "metadata": {},
   "outputs": [],
   "source": [
    "# create the session\n",
    "spark = SparkSession.builder.getOrCreate()\n",
    "\n",
    "# create the context\n",
    "sc = spark.sparkContext"
   ]
  },
  {
   "cell_type": "markdown",
   "metadata": {},
   "source": [
    "Sanity check on the spark version and get the Spark UI link"
   ]
  },
  {
   "cell_type": "code",
   "execution_count": 3,
   "metadata": {},
   "outputs": [
    {
     "data": {
      "text/html": [
       "\n",
       "            <div>\n",
       "                <p><b>SparkSession - in-memory</b></p>\n",
       "                \n",
       "        <div>\n",
       "            <p><b>SparkContext</b></p>\n",
       "\n",
       "            <p><a href=\"http://DESKTOP-T41QEH5:4040\">Spark UI</a></p>\n",
       "\n",
       "            <dl>\n",
       "              <dt>Version</dt>\n",
       "                <dd><code>v2.4.4</code></dd>\n",
       "              <dt>Master</dt>\n",
       "                <dd><code>local[*]</code></dd>\n",
       "              <dt>AppName</dt>\n",
       "                <dd><code>pyspark-shell</code></dd>\n",
       "            </dl>\n",
       "        </div>\n",
       "        \n",
       "            </div>\n",
       "        "
      ],
      "text/plain": [
       "<pyspark.sql.session.SparkSession at 0x1a752e89320>"
      ]
     },
     "execution_count": 3,
     "metadata": {},
     "output_type": "execute_result"
    }
   ],
   "source": [
    "spark"
   ]
  },
  {
   "cell_type": "markdown",
   "metadata": {},
   "source": [
    "## Data information"
   ]
  },
  {
   "cell_type": "markdown",
   "metadata": {},
   "source": [
    "Load data with Spark (used for the upcoming exploration)"
   ]
  },
  {
   "cell_type": "code",
   "execution_count": 4,
   "metadata": {},
   "outputs": [],
   "source": [
    "foodFacts_spark = spark.read.format(\"csv\")\\\n",
    "                            .option(\"delimiter\", '\\t')\\\n",
    "                            .option(\"encoding\", \"UTF-8\")\\\n",
    "                            .option(\"header\", \"true\")\\\n",
    "                            .load(\"data/en.openfoodfacts.org.products.csv\")"
   ]
  },
  {
   "cell_type": "markdown",
   "metadata": {},
   "source": [
    "Load data with pandas"
   ]
  },
  {
   "cell_type": "code",
   "execution_count": 5,
   "metadata": {},
   "outputs": [],
   "source": [
    "#foodFacts_df = pd.read_csv(\"data/en.openfoodfacts.org.products.csv\", sep='\\t', encoding='UTF-8')"
   ]
  },
  {
   "cell_type": "code",
   "execution_count": 6,
   "metadata": {},
   "outputs": [
    {
     "name": "stdout",
     "output_type": "stream",
     "text": [
      "root\n",
      " |-- code: string (nullable = true)\n",
      " |-- url: string (nullable = true)\n",
      " |-- creator: string (nullable = true)\n",
      " |-- created_t: string (nullable = true)\n",
      " |-- created_datetime: string (nullable = true)\n",
      " |-- last_modified_t: string (nullable = true)\n",
      " |-- last_modified_datetime: string (nullable = true)\n",
      " |-- product_name: string (nullable = true)\n",
      " |-- generic_name: string (nullable = true)\n",
      " |-- quantity: string (nullable = true)\n",
      " |-- packaging: string (nullable = true)\n",
      " |-- packaging_tags: string (nullable = true)\n",
      " |-- brands: string (nullable = true)\n",
      " |-- brands_tags: string (nullable = true)\n",
      " |-- categories: string (nullable = true)\n",
      " |-- categories_tags: string (nullable = true)\n",
      " |-- categories_en: string (nullable = true)\n",
      " |-- origins: string (nullable = true)\n",
      " |-- origins_tags: string (nullable = true)\n",
      " |-- manufacturing_places: string (nullable = true)\n",
      " |-- manufacturing_places_tags: string (nullable = true)\n",
      " |-- labels: string (nullable = true)\n",
      " |-- labels_tags: string (nullable = true)\n",
      " |-- labels_en: string (nullable = true)\n",
      " |-- emb_codes: string (nullable = true)\n",
      " |-- emb_codes_tags: string (nullable = true)\n",
      " |-- first_packaging_code_geo: string (nullable = true)\n",
      " |-- cities: string (nullable = true)\n",
      " |-- cities_tags: string (nullable = true)\n",
      " |-- purchase_places: string (nullable = true)\n",
      " |-- stores: string (nullable = true)\n",
      " |-- countries: string (nullable = true)\n",
      " |-- countries_tags: string (nullable = true)\n",
      " |-- countries_en: string (nullable = true)\n",
      " |-- ingredients_text: string (nullable = true)\n",
      " |-- allergens: string (nullable = true)\n",
      " |-- allergens_en: string (nullable = true)\n",
      " |-- traces: string (nullable = true)\n",
      " |-- traces_tags: string (nullable = true)\n",
      " |-- traces_en: string (nullable = true)\n",
      " |-- serving_size: string (nullable = true)\n",
      " |-- serving_quantity: string (nullable = true)\n",
      " |-- no_nutriments: string (nullable = true)\n",
      " |-- additives_n: string (nullable = true)\n",
      " |-- additives: string (nullable = true)\n",
      " |-- additives_tags: string (nullable = true)\n",
      " |-- additives_en: string (nullable = true)\n",
      " |-- ingredients_from_palm_oil_n: string (nullable = true)\n",
      " |-- ingredients_from_palm_oil: string (nullable = true)\n",
      " |-- ingredients_from_palm_oil_tags: string (nullable = true)\n",
      " |-- ingredients_that_may_be_from_palm_oil_n: string (nullable = true)\n",
      " |-- ingredients_that_may_be_from_palm_oil: string (nullable = true)\n",
      " |-- ingredients_that_may_be_from_palm_oil_tags: string (nullable = true)\n",
      " |-- nutrition_grade_fr: string (nullable = true)\n",
      " |-- nova_group: string (nullable = true)\n",
      " |-- pnns_groups_1: string (nullable = true)\n",
      " |-- pnns_groups_2: string (nullable = true)\n",
      " |-- states: string (nullable = true)\n",
      " |-- states_tags: string (nullable = true)\n",
      " |-- states_en: string (nullable = true)\n",
      " |-- main_category: string (nullable = true)\n",
      " |-- main_category_en: string (nullable = true)\n",
      " |-- image_url: string (nullable = true)\n",
      " |-- image_small_url: string (nullable = true)\n",
      " |-- image_ingredients_url: string (nullable = true)\n",
      " |-- image_ingredients_small_url: string (nullable = true)\n",
      " |-- image_nutrition_url: string (nullable = true)\n",
      " |-- image_nutrition_small_url: string (nullable = true)\n",
      " |-- energy_100g: string (nullable = true)\n",
      " |-- energy-from-fat_100g: string (nullable = true)\n",
      " |-- fat_100g: string (nullable = true)\n",
      " |-- saturated-fat_100g: string (nullable = true)\n",
      " |-- -butyric-acid_100g: string (nullable = true)\n",
      " |-- -caproic-acid_100g: string (nullable = true)\n",
      " |-- -caprylic-acid_100g: string (nullable = true)\n",
      " |-- -capric-acid_100g: string (nullable = true)\n",
      " |-- -lauric-acid_100g: string (nullable = true)\n",
      " |-- -myristic-acid_100g: string (nullable = true)\n",
      " |-- -palmitic-acid_100g: string (nullable = true)\n",
      " |-- -stearic-acid_100g: string (nullable = true)\n",
      " |-- -arachidic-acid_100g: string (nullable = true)\n",
      " |-- -behenic-acid_100g: string (nullable = true)\n",
      " |-- -lignoceric-acid_100g: string (nullable = true)\n",
      " |-- -cerotic-acid_100g: string (nullable = true)\n",
      " |-- -montanic-acid_100g: string (nullable = true)\n",
      " |-- -melissic-acid_100g: string (nullable = true)\n",
      " |-- monounsaturated-fat_100g: string (nullable = true)\n",
      " |-- polyunsaturated-fat_100g: string (nullable = true)\n",
      " |-- omega-3-fat_100g: string (nullable = true)\n",
      " |-- -alpha-linolenic-acid_100g: string (nullable = true)\n",
      " |-- -eicosapentaenoic-acid_100g: string (nullable = true)\n",
      " |-- -docosahexaenoic-acid_100g: string (nullable = true)\n",
      " |-- omega-6-fat_100g: string (nullable = true)\n",
      " |-- -linoleic-acid_100g: string (nullable = true)\n",
      " |-- -arachidonic-acid_100g: string (nullable = true)\n",
      " |-- -gamma-linolenic-acid_100g: string (nullable = true)\n",
      " |-- -dihomo-gamma-linolenic-acid_100g: string (nullable = true)\n",
      " |-- omega-9-fat_100g: string (nullable = true)\n",
      " |-- -oleic-acid_100g: string (nullable = true)\n",
      " |-- -elaidic-acid_100g: string (nullable = true)\n",
      " |-- -gondoic-acid_100g: string (nullable = true)\n",
      " |-- -mead-acid_100g: string (nullable = true)\n",
      " |-- -erucic-acid_100g: string (nullable = true)\n",
      " |-- -nervonic-acid_100g: string (nullable = true)\n",
      " |-- trans-fat_100g: string (nullable = true)\n",
      " |-- cholesterol_100g: string (nullable = true)\n",
      " |-- carbohydrates_100g: string (nullable = true)\n",
      " |-- sugars_100g: string (nullable = true)\n",
      " |-- -sucrose_100g: string (nullable = true)\n",
      " |-- -glucose_100g: string (nullable = true)\n",
      " |-- -fructose_100g: string (nullable = true)\n",
      " |-- -lactose_100g: string (nullable = true)\n",
      " |-- -maltose_100g: string (nullable = true)\n",
      " |-- -maltodextrins_100g: string (nullable = true)\n",
      " |-- starch_100g: string (nullable = true)\n",
      " |-- polyols_100g: string (nullable = true)\n",
      " |-- fiber_100g: string (nullable = true)\n",
      " |-- proteins_100g: string (nullable = true)\n",
      " |-- casein_100g: string (nullable = true)\n",
      " |-- serum-proteins_100g: string (nullable = true)\n",
      " |-- nucleotides_100g: string (nullable = true)\n",
      " |-- salt_100g: string (nullable = true)\n",
      " |-- sodium_100g: string (nullable = true)\n",
      " |-- alcohol_100g: string (nullable = true)\n",
      " |-- vitamin-a_100g: string (nullable = true)\n",
      " |-- beta-carotene_100g: string (nullable = true)\n",
      " |-- vitamin-d_100g: string (nullable = true)\n",
      " |-- vitamin-e_100g: string (nullable = true)\n",
      " |-- vitamin-k_100g: string (nullable = true)\n",
      " |-- vitamin-c_100g: string (nullable = true)\n",
      " |-- vitamin-b1_100g: string (nullable = true)\n",
      " |-- vitamin-b2_100g: string (nullable = true)\n",
      " |-- vitamin-pp_100g: string (nullable = true)\n",
      " |-- vitamin-b6_100g: string (nullable = true)\n",
      " |-- vitamin-b9_100g: string (nullable = true)\n",
      " |-- folates_100g: string (nullable = true)\n",
      " |-- vitamin-b12_100g: string (nullable = true)\n",
      " |-- biotin_100g: string (nullable = true)\n",
      " |-- pantothenic-acid_100g: string (nullable = true)\n",
      " |-- silica_100g: string (nullable = true)\n",
      " |-- bicarbonate_100g: string (nullable = true)\n",
      " |-- potassium_100g: string (nullable = true)\n",
      " |-- chloride_100g: string (nullable = true)\n",
      " |-- calcium_100g: string (nullable = true)\n",
      " |-- phosphorus_100g: string (nullable = true)\n",
      " |-- iron_100g: string (nullable = true)\n",
      " |-- magnesium_100g: string (nullable = true)\n",
      " |-- zinc_100g: string (nullable = true)\n",
      " |-- copper_100g: string (nullable = true)\n",
      " |-- manganese_100g: string (nullable = true)\n",
      " |-- fluoride_100g: string (nullable = true)\n",
      " |-- selenium_100g: string (nullable = true)\n",
      " |-- chromium_100g: string (nullable = true)\n",
      " |-- molybdenum_100g: string (nullable = true)\n",
      " |-- iodine_100g: string (nullable = true)\n",
      " |-- caffeine_100g: string (nullable = true)\n",
      " |-- taurine_100g: string (nullable = true)\n",
      " |-- ph_100g: string (nullable = true)\n",
      " |-- fruits-vegetables-nuts_100g: string (nullable = true)\n",
      " |-- fruits-vegetables-nuts-dried_100g: string (nullable = true)\n",
      " |-- fruits-vegetables-nuts-estimate_100g: string (nullable = true)\n",
      " |-- collagen-meat-protein-ratio_100g: string (nullable = true)\n",
      " |-- cocoa_100g: string (nullable = true)\n",
      " |-- chlorophyl_100g: string (nullable = true)\n",
      " |-- carbon-footprint_100g: string (nullable = true)\n",
      " |-- carbon-footprint-from-meat-or-fish_100g: string (nullable = true)\n",
      " |-- nutrition-score-fr_100g: string (nullable = true)\n",
      " |-- nutrition-score-uk_100g: string (nullable = true)\n",
      " |-- glycemic-index_100g: string (nullable = true)\n",
      " |-- water-hardness_100g: string (nullable = true)\n",
      " |-- choline_100g: string (nullable = true)\n",
      " |-- phylloquinone_100g: string (nullable = true)\n",
      " |-- beta-glucan_100g: string (nullable = true)\n",
      " |-- inositol_100g: string (nullable = true)\n",
      " |-- carnitine_100g: string (nullable = true)\n",
      "\n"
     ]
    }
   ],
   "source": [
    "foodFacts_spark.printSchema()"
   ]
  },
  {
   "cell_type": "code",
   "execution_count": 7,
   "metadata": {},
   "outputs": [
    {
     "name": "stdout",
     "output_type": "stream",
     "text": [
      "There are in total 1030905 products in this list, including duplicates.\n"
     ]
    }
   ],
   "source": [
    "print('There are in total {} products in this list, including duplicates.' .format(foodFacts_spark.count()))"
   ]
  },
  {
   "cell_type": "markdown",
   "metadata": {},
   "source": [
    "Lets observe the difference between generic_name and product_name"
   ]
  },
  {
   "cell_type": "code",
   "execution_count": 8,
   "metadata": {},
   "outputs": [
    {
     "name": "stdout",
     "output_type": "stream",
     "text": [
      "+--------------------+------------+\n",
      "|        generic_name|ProductCount|\n",
      "+--------------------+------------+\n",
      "|                null|      938384|\n",
      "|pâtes alimentaire...|         171|\n",
      "|               bière|         127|\n",
      "|pâtes alimentaire...|         123|\n",
      "|beignets fourrés ...|         122|\n",
      "|beignets fourrés ...|         113|\n",
      "|jambon cuit supér...|         107|\n",
      "|       chocolat noir|         106|\n",
      "|        jus d'orange|          99|\n",
      "|  aliment pour bébés|          94|\n",
      "|           vin rouge|          92|\n",
      "|pâte feuilletée a...|          85|\n",
      "|    chocolat au lait|          83|\n",
      "|lait demi-écrémé ...|          79|\n",
      "|        bière blonde|          74|\n",
      "|natürliches miner...|          72|\n",
      "|        jus de pomme|          63|\n",
      "|eau minérale natu...|          63|\n",
      "|  pâtes alimentaires|          63|\n",
      "|plat préparé en c...|          61|\n",
      "+--------------------+------------+\n",
      "only showing top 20 rows\n",
      "\n"
     ]
    }
   ],
   "source": [
    "product_counts_generic = foodFacts_spark.withColumn('generic_name', lower(col('generic_name')))\\\n",
    "                                        .groupBy(\"generic_name\")\\\n",
    "                                        .agg(count(\"*\").alias(\"ProductCount\"))\\\n",
    "                                        .sort(desc(\"ProductCount\"))\n",
    "product_counts_generic.show()"
   ]
  },
  {
   "cell_type": "code",
   "execution_count": 9,
   "metadata": {},
   "outputs": [
    {
     "name": "stdout",
     "output_type": "stream",
     "text": [
      "+--------------------+------------+\n",
      "|        product_name|ProductCount|\n",
      "+--------------------+------------+\n",
      "|                null|       51183|\n",
      "|               comté|         715|\n",
      "|     filet de poulet|         696|\n",
      "|     produit inconnu|         596|\n",
      "|huile d'olive vie...|         580|\n",
      "|aceite de oliva v...|         561|\n",
      "|            emmental|         541|\n",
      "|        jus de pomme|         516|\n",
      "|                miel|         505|\n",
      "|       huile d'olive|         502|\n",
      "|          mayonnaise|         450|\n",
      "|    filets de poulet|         437|\n",
      "|           ice cream|         424|\n",
      "|extra virgin oliv...|         415|\n",
      "|            chocolat|         409|\n",
      "|           spaghetti|         388|\n",
      "|        jus d'orange|         373|\n",
      "|              poulet|         365|\n",
      "|             ketchup|         335|\n",
      "|        pain complet|         311|\n",
      "+--------------------+------------+\n",
      "only showing top 20 rows\n",
      "\n"
     ]
    }
   ],
   "source": [
    "product_counts_standard = foodFacts_spark.withColumn('product_name', lower(col('product_name')))\\\n",
    "                                         .groupBy(\"product_name\")\\\n",
    "                                         .agg(count(\"*\").alias(\"ProductCount\"))\\\n",
    "                                         .sort(desc(\"ProductCount\"))\n",
    "product_counts_standard.show()"
   ]
  },
  {
   "cell_type": "markdown",
   "metadata": {},
   "source": [
    "First observation is that the dataset contains a lot of undefined product. The name of the product is the most crucial information we need to actually determine what the row represents. Hence, we will drop these rows. (IDEA : regression to predict what product it was ?)\n",
    "\n",
    "Second observation is that the product name will most likely be the interesting column as it regroups better similar products.\n",
    "\n",
    "and third observation is that the dataset is constructed based on different languages..."
   ]
  },
  {
   "cell_type": "code",
   "execution_count": 10,
   "metadata": {},
   "outputs": [],
   "source": [
    "foodFacts_spark = foodFacts_spark.where(\"product_name != 'null' AND product_name != 'Produit inconnu'\")"
   ]
  },
  {
   "cell_type": "code",
   "execution_count": 11,
   "metadata": {},
   "outputs": [
    {
     "name": "stdout",
     "output_type": "stream",
     "text": [
      "+--------------------+------------+\n",
      "|        product_name|ProductCount|\n",
      "+--------------------+------------+\n",
      "|               comté|         715|\n",
      "|     filet de poulet|         696|\n",
      "|huile d'olive vie...|         580|\n",
      "|aceite de oliva v...|         561|\n",
      "|            emmental|         541|\n",
      "|        jus de pomme|         516|\n",
      "|                miel|         505|\n",
      "|       huile d'olive|         502|\n",
      "|          mayonnaise|         450|\n",
      "|    filets de poulet|         437|\n",
      "|           ice cream|         424|\n",
      "|extra virgin oliv...|         415|\n",
      "|            chocolat|         409|\n",
      "|           spaghetti|         388|\n",
      "|        jus d'orange|         373|\n",
      "|              poulet|         365|\n",
      "|             ketchup|         335|\n",
      "|        pain complet|         311|\n",
      "|      tomato ketchup|         309|\n",
      "|        potato chips|         300|\n",
      "+--------------------+------------+\n",
      "only showing top 20 rows\n",
      "\n"
     ]
    }
   ],
   "source": [
    "product_counts_standard_cleaned = foodFacts_spark.withColumn('product_name', lower(col('product_name')))\\\n",
    "                                                 .groupBy(\"product_name\")\\\n",
    "                                                 .agg(count(\"*\").alias(\"ProductCount\"))\\\n",
    "                                                 .sort(desc(\"ProductCount\"))\n",
    "\n",
    "product_counts_standard_cleaned.show()"
   ]
  },
  {
   "cell_type": "markdown",
   "metadata": {},
   "source": [
    "Let's observe if product having the same name overall have the same content. We'll focus on the Mayonnaise. The resulting dataset will be small enough to be put in a Pandas dataframe"
   ]
  },
  {
   "cell_type": "markdown",
   "metadata": {},
   "source": [
    "# Mayonnaise analysis ;)"
   ]
  },
  {
   "cell_type": "code",
   "execution_count": 12,
   "metadata": {},
   "outputs": [],
   "source": [
    "mayonnaise_comparison = foodFacts_spark.where(\"product_name = 'Mayonnaise'\").toPandas()"
   ]
  },
  {
   "cell_type": "code",
   "execution_count": 13,
   "metadata": {},
   "outputs": [
    {
     "data": {
      "text/html": [
       "<div>\n",
       "<style scoped>\n",
       "    .dataframe tbody tr th:only-of-type {\n",
       "        vertical-align: middle;\n",
       "    }\n",
       "\n",
       "    .dataframe tbody tr th {\n",
       "        vertical-align: top;\n",
       "    }\n",
       "\n",
       "    .dataframe thead th {\n",
       "        text-align: right;\n",
       "    }\n",
       "</style>\n",
       "<table border=\"1\" class=\"dataframe\">\n",
       "  <thead>\n",
       "    <tr style=\"text-align: right;\">\n",
       "      <th></th>\n",
       "      <th>code</th>\n",
       "      <th>url</th>\n",
       "      <th>creator</th>\n",
       "      <th>created_t</th>\n",
       "      <th>created_datetime</th>\n",
       "      <th>last_modified_t</th>\n",
       "      <th>last_modified_datetime</th>\n",
       "      <th>product_name</th>\n",
       "      <th>generic_name</th>\n",
       "      <th>quantity</th>\n",
       "      <th>...</th>\n",
       "      <th>carbon-footprint-from-meat-or-fish_100g</th>\n",
       "      <th>nutrition-score-fr_100g</th>\n",
       "      <th>nutrition-score-uk_100g</th>\n",
       "      <th>glycemic-index_100g</th>\n",
       "      <th>water-hardness_100g</th>\n",
       "      <th>choline_100g</th>\n",
       "      <th>phylloquinone_100g</th>\n",
       "      <th>beta-glucan_100g</th>\n",
       "      <th>inositol_100g</th>\n",
       "      <th>carnitine_100g</th>\n",
       "    </tr>\n",
       "  </thead>\n",
       "  <tbody>\n",
       "    <tr>\n",
       "      <td>0</td>\n",
       "      <td>0011110019141</td>\n",
       "      <td>http://world-en.openfoodfacts.org/product/0011...</td>\n",
       "      <td>usda-ndb-import</td>\n",
       "      <td>1489062692</td>\n",
       "      <td>2017-03-09T12:31:32Z</td>\n",
       "      <td>1546199115</td>\n",
       "      <td>2018-12-30T19:45:15Z</td>\n",
       "      <td>Mayonnaise</td>\n",
       "      <td>None</td>\n",
       "      <td>None</td>\n",
       "      <td>...</td>\n",
       "      <td>None</td>\n",
       "      <td>24</td>\n",
       "      <td>24</td>\n",
       "      <td>None</td>\n",
       "      <td>None</td>\n",
       "      <td>None</td>\n",
       "      <td>None</td>\n",
       "      <td>None</td>\n",
       "      <td>None</td>\n",
       "      <td>None</td>\n",
       "    </tr>\n",
       "    <tr>\n",
       "      <td>1</td>\n",
       "      <td>0017548828119</td>\n",
       "      <td>http://world-en.openfoodfacts.org/product/0017...</td>\n",
       "      <td>usda-ndb-import</td>\n",
       "      <td>1489066739</td>\n",
       "      <td>2017-03-09T13:38:59Z</td>\n",
       "      <td>1557343065</td>\n",
       "      <td>2019-05-08T19:17:45Z</td>\n",
       "      <td>Mayonnaise</td>\n",
       "      <td>None</td>\n",
       "      <td>None</td>\n",
       "      <td>...</td>\n",
       "      <td>None</td>\n",
       "      <td>19</td>\n",
       "      <td>19</td>\n",
       "      <td>None</td>\n",
       "      <td>None</td>\n",
       "      <td>None</td>\n",
       "      <td>None</td>\n",
       "      <td>None</td>\n",
       "      <td>None</td>\n",
       "      <td>None</td>\n",
       "    </tr>\n",
       "    <tr>\n",
       "      <td>2</td>\n",
       "      <td>0021600103908</td>\n",
       "      <td>http://world-en.openfoodfacts.org/product/0021...</td>\n",
       "      <td>usda-ndb-import</td>\n",
       "      <td>1489094080</td>\n",
       "      <td>2017-03-09T21:14:40Z</td>\n",
       "      <td>1557343032</td>\n",
       "      <td>2019-05-08T19:17:12Z</td>\n",
       "      <td>Mayonnaise</td>\n",
       "      <td>None</td>\n",
       "      <td>None</td>\n",
       "      <td>...</td>\n",
       "      <td>None</td>\n",
       "      <td>24</td>\n",
       "      <td>24</td>\n",
       "      <td>None</td>\n",
       "      <td>None</td>\n",
       "      <td>None</td>\n",
       "      <td>None</td>\n",
       "      <td>None</td>\n",
       "      <td>None</td>\n",
       "      <td>None</td>\n",
       "    </tr>\n",
       "    <tr>\n",
       "      <td>3</td>\n",
       "      <td>0023005002107</td>\n",
       "      <td>http://world-en.openfoodfacts.org/product/0023...</td>\n",
       "      <td>kiliweb</td>\n",
       "      <td>1546122366</td>\n",
       "      <td>2018-12-29T22:26:06Z</td>\n",
       "      <td>1547475647</td>\n",
       "      <td>2019-01-14T14:20:47Z</td>\n",
       "      <td>Mayonnaise</td>\n",
       "      <td>None</td>\n",
       "      <td>None</td>\n",
       "      <td>...</td>\n",
       "      <td>None</td>\n",
       "      <td>None</td>\n",
       "      <td>None</td>\n",
       "      <td>None</td>\n",
       "      <td>None</td>\n",
       "      <td>None</td>\n",
       "      <td>None</td>\n",
       "      <td>None</td>\n",
       "      <td>None</td>\n",
       "      <td>None</td>\n",
       "    </tr>\n",
       "    <tr>\n",
       "      <td>4</td>\n",
       "      <td>0026700157387</td>\n",
       "      <td>http://world-en.openfoodfacts.org/product/0026...</td>\n",
       "      <td>usda-ndb-import</td>\n",
       "      <td>1489062118</td>\n",
       "      <td>2017-03-09T12:21:58Z</td>\n",
       "      <td>1557343007</td>\n",
       "      <td>2019-05-08T19:16:47Z</td>\n",
       "      <td>Mayonnaise</td>\n",
       "      <td>None</td>\n",
       "      <td>None</td>\n",
       "      <td>...</td>\n",
       "      <td>None</td>\n",
       "      <td>24</td>\n",
       "      <td>24</td>\n",
       "      <td>None</td>\n",
       "      <td>None</td>\n",
       "      <td>None</td>\n",
       "      <td>None</td>\n",
       "      <td>None</td>\n",
       "      <td>None</td>\n",
       "      <td>None</td>\n",
       "    </tr>\n",
       "  </tbody>\n",
       "</table>\n",
       "<p>5 rows × 175 columns</p>\n",
       "</div>"
      ],
      "text/plain": [
       "            code                                                url  \\\n",
       "0  0011110019141  http://world-en.openfoodfacts.org/product/0011...   \n",
       "1  0017548828119  http://world-en.openfoodfacts.org/product/0017...   \n",
       "2  0021600103908  http://world-en.openfoodfacts.org/product/0021...   \n",
       "3  0023005002107  http://world-en.openfoodfacts.org/product/0023...   \n",
       "4  0026700157387  http://world-en.openfoodfacts.org/product/0026...   \n",
       "\n",
       "           creator   created_t      created_datetime last_modified_t  \\\n",
       "0  usda-ndb-import  1489062692  2017-03-09T12:31:32Z      1546199115   \n",
       "1  usda-ndb-import  1489066739  2017-03-09T13:38:59Z      1557343065   \n",
       "2  usda-ndb-import  1489094080  2017-03-09T21:14:40Z      1557343032   \n",
       "3          kiliweb  1546122366  2018-12-29T22:26:06Z      1547475647   \n",
       "4  usda-ndb-import  1489062118  2017-03-09T12:21:58Z      1557343007   \n",
       "\n",
       "  last_modified_datetime product_name generic_name quantity  ...  \\\n",
       "0   2018-12-30T19:45:15Z   Mayonnaise         None     None  ...   \n",
       "1   2019-05-08T19:17:45Z   Mayonnaise         None     None  ...   \n",
       "2   2019-05-08T19:17:12Z   Mayonnaise         None     None  ...   \n",
       "3   2019-01-14T14:20:47Z   Mayonnaise         None     None  ...   \n",
       "4   2019-05-08T19:16:47Z   Mayonnaise         None     None  ...   \n",
       "\n",
       "  carbon-footprint-from-meat-or-fish_100g nutrition-score-fr_100g  \\\n",
       "0                                    None                      24   \n",
       "1                                    None                      19   \n",
       "2                                    None                      24   \n",
       "3                                    None                    None   \n",
       "4                                    None                      24   \n",
       "\n",
       "  nutrition-score-uk_100g glycemic-index_100g water-hardness_100g  \\\n",
       "0                      24                None                None   \n",
       "1                      19                None                None   \n",
       "2                      24                None                None   \n",
       "3                    None                None                None   \n",
       "4                      24                None                None   \n",
       "\n",
       "  choline_100g phylloquinone_100g beta-glucan_100g inositol_100g  \\\n",
       "0         None               None             None          None   \n",
       "1         None               None             None          None   \n",
       "2         None               None             None          None   \n",
       "3         None               None             None          None   \n",
       "4         None               None             None          None   \n",
       "\n",
       "  carnitine_100g  \n",
       "0           None  \n",
       "1           None  \n",
       "2           None  \n",
       "3           None  \n",
       "4           None  \n",
       "\n",
       "[5 rows x 175 columns]"
      ]
     },
     "execution_count": 13,
     "metadata": {},
     "output_type": "execute_result"
    }
   ],
   "source": [
    "mayonnaise_comparison.head()"
   ]
  },
  {
   "cell_type": "markdown",
   "metadata": {},
   "source": [
    "Let's compare the UK and FR nutrition scores."
   ]
  },
  {
   "cell_type": "code",
   "execution_count": 14,
   "metadata": {},
   "outputs": [
    {
     "data": {
      "image/png": "[encoded data removed]",
      "text/plain": [
       "<Figure size 432x288 with 1 Axes>"
      ]
     },
     "metadata": {
      "needs_background": "light"
     },
     "output_type": "display_data"
    }
   ],
   "source": [
    "columns = ['nutrition-score-fr_100g', 'nutrition-score-uk_100g']\n",
    "clean_mayonnaise = mayonnaise_comparison.dropna(subset=columns).copy()\n",
    "clean_mayonnaise[columns] = clean_mayonnaise[columns].applymap(int)\n",
    "\n",
    "plt.scatter(range(len(clean_mayonnaise['nutrition-score-fr_100g'])), clean_mayonnaise['nutrition-score-fr_100g'], marker='x', label='Score FR')\n",
    "plt.scatter(range(len(clean_mayonnaise['nutrition-score-uk_100g'])), clean_mayonnaise['nutrition-score-uk_100g'], marker='+', label='Score UK')\n",
    "plt.legend()\n",
    "plt.ylabel('Nutrition score')\n",
    "plt.xlabel('Mayonnaise occurence')\n",
    "plt.title('Nutrition score for the Mayonnaise product')\n",
    "plt.show()"
   ]
  },
  {
   "cell_type": "markdown",
   "metadata": {},
   "source": [
    "Let's try to highlight the difference"
   ]
  },
  {
   "cell_type": "code",
   "execution_count": 15,
   "metadata": {},
   "outputs": [
    {
     "data": {
      "image/png": "[encoded data removed]",
      "text/plain": [
       "<Figure size 432x288 with 1 Axes>"
      ]
     },
     "metadata": {
      "needs_background": "light"
     },
     "output_type": "display_data"
    }
   ],
   "source": [
    "plt.scatter(clean_mayonnaise['nutrition-score-fr_100g'], clean_mayonnaise['nutrition-score-uk_100g'])\n",
    "plt.ylabel('UK nutrition score')\n",
    "plt.xlabel('FR nutrition score')\n",
    "plt.title('Nutrition score for the Mayonnaise product')\n",
    "plt.grid(True)\n",
    "plt.show()"
   ]
  },
  {
   "cell_type": "code",
   "execution_count": 16,
   "metadata": {},
   "outputs": [
    {
     "name": "stdout",
     "output_type": "stream",
     "text": [
      "We conclude that the UK and FR nutrition scores should be equal and that there are some errors in the dataset,which is not very surprising for an opensource dataset. Considering the nutrition score for the mayonnaise product, 1.7045454545454533% of the data is ambiguous.\n"
     ]
    }
   ],
   "source": [
    "print (\"We conclude that the UK and FR nutrition scores should be equal and that there are some errors in the dataset,\"\n",
    "       \"which is not very surprising for an opensource dataset. Considering the nutrition score for \"\n",
    "       \"the mayonnaise product, {}% of the data is ambiguous.\" \\\n",
    "       .format(100 - np.sum(clean_mayonnaise['nutrition-score-fr_100g'] == clean_mayonnaise['nutrition-score-uk_100g'])*100 / len(clean_mayonnaise)))"
   ]
  },
  {
   "cell_type": "markdown",
   "metadata": {},
   "source": [
    "Let's do a similar analysis but for the content in saturated fat as the Mayonnaise product should containt a lot of fat."
   ]
  },
  {
   "cell_type": "code",
   "execution_count": 17,
   "metadata": {},
   "outputs": [
    {
     "data": {
      "image/png": "[encoded data removed]",
      "text/plain": [
       "<Figure size 432x288 with 1 Axes>"
      ]
     },
     "metadata": {
      "needs_background": "light"
     },
     "output_type": "display_data"
    }
   ],
   "source": [
    "clean_mayonnaise = mayonnaise_comparison.dropna(subset=['saturated-fat_100g']).copy()\n",
    "clean_mayonnaise['saturated-fat_100g'] = clean_mayonnaise['saturated-fat_100g'].map(float)\n",
    "\n",
    "plt.scatter(range(len(clean_mayonnaise)), clean_mayonnaise['saturated-fat_100g'], marker='o',s=15)\n",
    "plt.title('Saturated fat content in mayonnaise')\n",
    "plt.xlabel('Mayonnaise occurence')\n",
    "plt.ylabel('Saturated fat per 100g')\n",
    "plt.grid(True)\n",
    "plt.show()"
   ]
  },
  {
   "cell_type": "markdown",
   "metadata": {},
   "source": [
    "Here we observe some divergence in the dataset with a few outliers. This may come from the fact that this mayonnaise product contains different types of mayonnaise, such as light mayonnaise etc.. <br>\n",
    "Let's check"
   ]
  },
  {
   "cell_type": "code",
   "execution_count": 18,
   "metadata": {},
   "outputs": [
    {
     "name": "stdout",
     "output_type": "stream",
     "text": [
      "+--------------------+------------+\n",
      "|        product_name|ProductCount|\n",
      "+--------------------+------------+\n",
      "|          mayonnaise|         450|\n",
      "|     real mayonnaise|         116|\n",
      "|mayonnaise à la m...|          69|\n",
      "|    light mayonnaise|          37|\n",
      "| mayonnaise de dijon|          25|\n",
      "|  organic mayonnaise|          22|\n",
      "|      mayonnaise bio|          17|\n",
      "|   mayonnaise légère|          17|\n",
      "|mayonnaise au citron|          15|\n",
      "|   mayonnaise nature|          13|\n",
      "|mayonnaise dressi...|          12|\n",
      "|  mayonnaise allégée|          11|\n",
      "|    mayonnaise light|          10|\n",
      "|mayonnaise aux oeufs|          10|\n",
      "|mayonnaise aux oe...|          10|\n",
      "|thon sauce mayonn...|           9|\n",
      "|macédoine de légu...|           9|\n",
      "|   mayonnaise citron|           9|\n",
      "|delikatess mayonn...|           9|\n",
      "|mayonnaise à la m...|           8|\n",
      "+--------------------+------------+\n",
      "only showing top 20 rows\n",
      "\n"
     ]
    }
   ],
   "source": [
    "product_counts_standard_cleaned.filter(col('product_name').contains('mayonnaise')).show()"
   ]
  },
  {
   "cell_type": "markdown",
   "metadata": {},
   "source": [
    "We remark that the different types of mayonnaise have different names, hence one can assume that the \"mayonnaise\" product only contains the standard mayonnaise.\n",
    "\n",
    "Hence, this product has some divergence in at least the field representing the saturated fat. This may come from the fact that this is an opensource dataset, hence some people may have simply rounded the number that they read/analysed on the product list of content."
   ]
  },
  {
   "cell_type": "markdown",
   "metadata": {},
   "source": [
    "# Bio VS non-Bio"
   ]
  },
  {
   "cell_type": "markdown",
   "metadata": {},
   "source": [
    "A lot of products claim to be bio. Different terms are used depending on the location (organic, bio, ...), but overall they all refer to the same fact that the product was mostly produced in compliance with the standards of [organic farming](https://en.wikipedia.org/wiki/Organic_farming). In the common knowledge, people often claim that organic or bio products are healthier than non-organic products.\n",
    "\n",
    "In the upcoming analysis, we will try to investigate whether this statement is quantitavely true or if sometimes companies take advantage of the \"bio\" acronym to gain market shares.\n",
    "\n",
    "We will conduct this analysis by investigating different columns of interest: \n",
    "\n",
    "* As stated above, organic products should undergo as little tratment as possible, inducing a more natural product. This should directly be represented by a lower capacity in additives. Hence as a first step we will assess whether there is a different in additives between bio and normal products.\n",
    "* ADD MORE ANALYSIS"
   ]
  },
  {
   "cell_type": "markdown",
   "metadata": {},
   "source": [
    "### Additives"
   ]
  },
  {
   "cell_type": "markdown",
   "metadata": {},
   "source": [
    "First we extract the product_name and additives_tags columns and clean it to have no undefined values."
   ]
  },
  {
   "cell_type": "code",
   "execution_count": 19,
   "metadata": {},
   "outputs": [],
   "source": [
    "additives_df = foodFacts_spark.select(['product_name','additives_en']).toPandas()"
   ]
  },
  {
   "cell_type": "code",
   "execution_count": 20,
   "metadata": {},
   "outputs": [
    {
     "data": {
      "text/html": [
       "<div>\n",
       "<style scoped>\n",
       "    .dataframe tbody tr th:only-of-type {\n",
       "        vertical-align: middle;\n",
       "    }\n",
       "\n",
       "    .dataframe tbody tr th {\n",
       "        vertical-align: top;\n",
       "    }\n",
       "\n",
       "    .dataframe thead th {\n",
       "        text-align: right;\n",
       "    }\n",
       "</style>\n",
       "<table border=\"1\" class=\"dataframe\">\n",
       "  <thead>\n",
       "    <tr style=\"text-align: right;\">\n",
       "      <th></th>\n",
       "      <th>product_name</th>\n",
       "      <th>additives_en</th>\n",
       "    </tr>\n",
       "  </thead>\n",
       "  <tbody>\n",
       "    <tr>\n",
       "      <td>0</td>\n",
       "      <td>Vitória crackers</td>\n",
       "      <td>None</td>\n",
       "    </tr>\n",
       "    <tr>\n",
       "      <td>1</td>\n",
       "      <td>Cacao</td>\n",
       "      <td>None</td>\n",
       "    </tr>\n",
       "    <tr>\n",
       "      <td>2</td>\n",
       "      <td>moutarde au moût de raisin</td>\n",
       "      <td>E160c - Paprika extract</td>\n",
       "    </tr>\n",
       "    <tr>\n",
       "      <td>3</td>\n",
       "      <td>Sfiudwx</td>\n",
       "      <td>None</td>\n",
       "    </tr>\n",
       "    <tr>\n",
       "      <td>4</td>\n",
       "      <td>Sauce Sweety chili 0%</td>\n",
       "      <td>None</td>\n",
       "    </tr>\n",
       "  </tbody>\n",
       "</table>\n",
       "</div>"
      ],
      "text/plain": [
       "                   product_name             additives_en\n",
       "0              Vitória crackers                     None\n",
       "1                         Cacao                     None\n",
       "2   moutarde au moût de raisin   E160c - Paprika extract\n",
       "3                       Sfiudwx                     None\n",
       "4         Sauce Sweety chili 0%                     None"
      ]
     },
     "execution_count": 20,
     "metadata": {},
     "output_type": "execute_result"
    }
   ],
   "source": [
    "additives_df.head()"
   ]
  },
  {
   "cell_type": "markdown",
   "metadata": {},
   "source": [
    "We remark that a lot of products do not contain any additives. One should be careful with this as this could be either that the product indeed does not contain any additives, or simply because the data is missing this information.\n",
    "\n",
    "As we are trying to compare the different additives present in the bio and normal products and not quantizing how many products of these two categories contain additives, we can drop the rows not containing this information."
   ]
  },
  {
   "cell_type": "code",
   "execution_count": 21,
   "metadata": {},
   "outputs": [
    {
     "data": {
      "text/plain": [
       "(243335, 2)"
      ]
     },
     "execution_count": 21,
     "metadata": {},
     "output_type": "execute_result"
    }
   ],
   "source": [
    "additives_df = additives_df.dropna()\n",
    "additives_df.shape"
   ]
  },
  {
   "cell_type": "code",
   "execution_count": 22,
   "metadata": {},
   "outputs": [
    {
     "data": {
      "text/html": [
       "<div>\n",
       "<style scoped>\n",
       "    .dataframe tbody tr th:only-of-type {\n",
       "        vertical-align: middle;\n",
       "    }\n",
       "\n",
       "    .dataframe tbody tr th {\n",
       "        vertical-align: top;\n",
       "    }\n",
       "\n",
       "    .dataframe thead th {\n",
       "        text-align: right;\n",
       "    }\n",
       "</style>\n",
       "<table border=\"1\" class=\"dataframe\">\n",
       "  <thead>\n",
       "    <tr style=\"text-align: right;\">\n",
       "      <th></th>\n",
       "      <th>product_name</th>\n",
       "      <th>additives_en</th>\n",
       "    </tr>\n",
       "  </thead>\n",
       "  <tbody>\n",
       "    <tr>\n",
       "      <td>2</td>\n",
       "      <td>moutarde au moût de raisin</td>\n",
       "      <td>E160c - Paprika extract</td>\n",
       "    </tr>\n",
       "    <tr>\n",
       "      <td>14</td>\n",
       "      <td>Solène céréales poulet</td>\n",
       "      <td>E150 - Caramel,E160a - Alpha-carotene,E202 - P...</td>\n",
       "    </tr>\n",
       "    <tr>\n",
       "      <td>21</td>\n",
       "      <td>Crème dessert chocolat</td>\n",
       "      <td>E406 - Agar</td>\n",
       "    </tr>\n",
       "    <tr>\n",
       "      <td>37</td>\n",
       "      <td>Suedois saumon</td>\n",
       "      <td>E300 - Ascorbic acid,E503 - Ammonium carbonates</td>\n",
       "    </tr>\n",
       "    <tr>\n",
       "      <td>42</td>\n",
       "      <td>Salade shaker taboulé</td>\n",
       "      <td>E202 - Potassium sorbate</td>\n",
       "    </tr>\n",
       "  </tbody>\n",
       "</table>\n",
       "</div>"
      ],
      "text/plain": [
       "                    product_name  \\\n",
       "2    moutarde au moût de raisin    \n",
       "14        Solène céréales poulet   \n",
       "21        Crème dessert chocolat   \n",
       "37                Suedois saumon   \n",
       "42         Salade shaker taboulé   \n",
       "\n",
       "                                         additives_en  \n",
       "2                             E160c - Paprika extract  \n",
       "14  E150 - Caramel,E160a - Alpha-carotene,E202 - P...  \n",
       "21                                        E406 - Agar  \n",
       "37    E300 - Ascorbic acid,E503 - Ammonium carbonates  \n",
       "42                           E202 - Potassium sorbate  "
      ]
     },
     "execution_count": 22,
     "metadata": {},
     "output_type": "execute_result"
    }
   ],
   "source": [
    "additives_df.head()"
   ]
  },
  {
   "cell_type": "markdown",
   "metadata": {},
   "source": [
    "Now we create a new column identifying if the product is bio or not"
   ]
  },
  {
   "cell_type": "code",
   "execution_count": 23,
   "metadata": {},
   "outputs": [],
   "source": [
    "organic_keywords = 'organic|bio'\n",
    "additives_df['bio_product'] = additives_df['product_name'].str.contains(organic_keywords)"
   ]
  },
  {
   "cell_type": "code",
   "execution_count": 24,
   "metadata": {},
   "outputs": [
    {
     "name": "stdout",
     "output_type": "stream",
     "text": [
      "There are 1400 bio products and 241935 normal products with the additive column filled.\n"
     ]
    }
   ],
   "source": [
    "nNormal, nBio = additives_df['bio_product'].value_counts()\n",
    "print('There are {} bio products and {} normal products with the additive column filled.' .format(nBio, nNormal))"
   ]
  },
  {
   "cell_type": "markdown",
   "metadata": {},
   "source": [
    "We observe a highly unbalanced dataset between products being organic and products not being organic. This will be taken into account for the upcoming analysis.\n",
    "\n",
    "The additives_tags contains a string being a list. Let's process this column to enable an array, and then exploding this column to have a single element per row in this column."
   ]
  },
  {
   "cell_type": "code",
   "execution_count": 25,
   "metadata": {},
   "outputs": [],
   "source": [
    "additives_df['additives_en'] = additives_df['additives_en'].apply(lambda x: list(x.split(\",\")))\n",
    "additives_df_exploded = additives_df.explode('additives_en')"
   ]
  },
  {
   "cell_type": "code",
   "execution_count": 26,
   "metadata": {},
   "outputs": [
    {
     "data": {
      "text/html": [
       "<div>\n",
       "<style scoped>\n",
       "    .dataframe tbody tr th:only-of-type {\n",
       "        vertical-align: middle;\n",
       "    }\n",
       "\n",
       "    .dataframe tbody tr th {\n",
       "        vertical-align: top;\n",
       "    }\n",
       "\n",
       "    .dataframe thead th {\n",
       "        text-align: right;\n",
       "    }\n",
       "</style>\n",
       "<table border=\"1\" class=\"dataframe\">\n",
       "  <thead>\n",
       "    <tr style=\"text-align: right;\">\n",
       "      <th></th>\n",
       "      <th>product_name</th>\n",
       "      <th>additives_en</th>\n",
       "      <th>bio_product</th>\n",
       "    </tr>\n",
       "  </thead>\n",
       "  <tbody>\n",
       "    <tr>\n",
       "      <td>2</td>\n",
       "      <td>moutarde au moût de raisin</td>\n",
       "      <td>E160c - Paprika extract</td>\n",
       "      <td>False</td>\n",
       "    </tr>\n",
       "    <tr>\n",
       "      <td>14</td>\n",
       "      <td>Solène céréales poulet</td>\n",
       "      <td>E150 - Caramel</td>\n",
       "      <td>False</td>\n",
       "    </tr>\n",
       "    <tr>\n",
       "      <td>14</td>\n",
       "      <td>Solène céréales poulet</td>\n",
       "      <td>E160a - Alpha-carotene</td>\n",
       "      <td>False</td>\n",
       "    </tr>\n",
       "    <tr>\n",
       "      <td>14</td>\n",
       "      <td>Solène céréales poulet</td>\n",
       "      <td>E202 - Potassium sorbate</td>\n",
       "      <td>False</td>\n",
       "    </tr>\n",
       "    <tr>\n",
       "      <td>14</td>\n",
       "      <td>Solène céréales poulet</td>\n",
       "      <td>E316 - Sodium erythorbate</td>\n",
       "      <td>False</td>\n",
       "    </tr>\n",
       "  </tbody>\n",
       "</table>\n",
       "</div>"
      ],
      "text/plain": [
       "                    product_name               additives_en  bio_product\n",
       "2    moutarde au moût de raisin     E160c - Paprika extract        False\n",
       "14        Solène céréales poulet             E150 - Caramel        False\n",
       "14        Solène céréales poulet     E160a - Alpha-carotene        False\n",
       "14        Solène céréales poulet   E202 - Potassium sorbate        False\n",
       "14        Solène céréales poulet  E316 - Sodium erythorbate        False"
      ]
     },
     "execution_count": 26,
     "metadata": {},
     "output_type": "execute_result"
    }
   ],
   "source": [
    "additives_df_exploded.head()"
   ]
  },
  {
   "cell_type": "markdown",
   "metadata": {},
   "source": [
    "Let's create a dataframe for bio products and another dataframe for non-bio products."
   ]
  },
  {
   "cell_type": "code",
   "execution_count": 27,
   "metadata": {},
   "outputs": [],
   "source": [
    "mask_bio = additives_df_exploded['bio_product'] == True\n",
    "additives_bio_df = additives_df_exploded[mask_bio]\n",
    "additives_normal_df = additives_df_exploded[~mask_bio]"
   ]
  },
  {
   "cell_type": "code",
   "execution_count": 28,
   "metadata": {},
   "outputs": [],
   "source": [
    "additives_bio_df = additives_bio_df.groupby('additives_en') \\\n",
    "                                   .count() \\\n",
    "                                   .sort_values('product_name', ascending=False) \\\n",
    "                                   .reset_index() \\\n",
    "                                   .drop(columns='bio_product') \\\n",
    "                                   .rename(columns={'additives_en' : 'additive', \"product_name\" : \"count\"})\n",
    "    \n",
    "additives_normal_df = additives_normal_df.groupby('additives_en') \\\n",
    "                                         .count() \\\n",
    "                                         .sort_values('product_name', ascending=False) \\\n",
    "                                         .reset_index() \\\n",
    "                                         .drop(columns='bio_product') \\\n",
    "                                         .rename(columns={'additives_en' : 'additive', \"product_name\" : \"count\"})"
   ]
  },
  {
   "cell_type": "markdown",
   "metadata": {},
   "source": [
    "First let's observe the 5 most used additive in Bio and non-Bio products, which is not biased by the unbalancing of the dataset."
   ]
  },
  {
   "cell_type": "code",
   "execution_count": 29,
   "metadata": {},
   "outputs": [
    {
     "name": "stdout",
     "output_type": "stream",
     "text": [
      "The most used additives for bio products are : \n",
      "0      E330 - Citric acid\n",
      "1          E440 - Pectins\n",
      "2        E322 - Lecithins\n",
      "3          E440i - Pectin\n",
      "4    E300 - Ascorbic acid\n",
      "Name: additive, dtype: object \n",
      "\n",
      "\n",
      "The most used additives for normal products are : \n",
      "0          E330 - Citric acid\n",
      "1            E322 - Lecithins\n",
      "2            E322i - Lecithin\n",
      "3          E415 - Xanthan gum\n",
      "4    E500 - Sodium carbonates\n",
      "Name: additive, dtype: object\n"
     ]
    }
   ],
   "source": [
    "most_used_bio = additives_bio_df['additive'][:5]\n",
    "most_used_normal = additives_normal_df['additive'][:5]\n",
    "print(\"The most used additives for bio products are : \\n{} \\n\\n\\n\"\n",
    "      \"The most used additives for normal products are : \\n{}\" .format(most_used_bio, most_used_normal))"
   ]
  },
  {
   "cell_type": "markdown",
   "metadata": {},
   "source": [
    "We already observe a difference from the top 5 used additives for bio product vs normal product. Let's try to visualize the global picture"
   ]
  },
  {
   "cell_type": "markdown",
   "metadata": {},
   "source": [
    "First we compute the proportion of each additive in its own dataset"
   ]
  },
  {
   "cell_type": "code",
   "execution_count": 30,
   "metadata": {},
   "outputs": [],
   "source": [
    "additives_bio_df['proportion'] = additives_bio_df['count'] / additives_bio_df['count'].sum()\n",
    "additives_normal_df['proportion'] = additives_normal_df['count'] / additives_normal_df['count'].sum()"
   ]
  },
  {
   "cell_type": "markdown",
   "metadata": {},
   "source": [
    "Let's observe the results, taking the normal products as a reference."
   ]
  },
  {
   "cell_type": "code",
   "execution_count": 31,
   "metadata": {},
   "outputs": [
    {
     "data": {
      "image/png": "[encoded data removed]",
      "text/plain": [
       "<Figure size 1440x504 with 1 Axes>"
      ]
     },
     "metadata": {
      "needs_background": "light"
     },
     "output_type": "display_data"
    }
   ],
   "source": [
    "n_to_plot = 70\n",
    "\n",
    "figure = plt.figure(figsize=(20,7))\n",
    "\n",
    "additive_tag_bio = additives_bio_df.additive.apply(lambda x: x.split(\" \")[0])\n",
    "additive_tag_normal = additives_normal_df.additive.apply(lambda x: x.split(\" \")[0])\n",
    "\n",
    "plt.bar(additive_tag_bio[:n_to_plot], additives_bio_df.proportion[:n_to_plot], label='Bio')\n",
    "plt.bar(additive_tag_normal[:n_to_plot], additives_normal_df.proportion[:n_to_plot], label='Normal', alpha=0.7)\n",
    "\n",
    "plt.title('Proportion of different additives in bio and normal products')\n",
    "plt.xlabel('Additive')\n",
    "plt.ylabel('Proportion')\n",
    "plt.legend()\n",
    "plt.xticks(rotation = (90), fontsize = 8, va='top')\n",
    "plt.show()"
   ]
  },
  {
   "cell_type": "markdown",
   "metadata": {},
   "source": [
    "Many different analysis can be conducted from this graph.\n",
    "\n",
    "* Let's analyze of of the spike present for the bio products and not for the normal products. The most obvious one is with the E440 and E440i additives. With a quick search online, we determine that this specific additive is [Pectin](https://en.wikipedia.org/wiki/Pectin). This specific additive is also used for [medicine](https://www.webmd.com/vitamins/ai/ingredientmono-500/pectin) and is hence not harmful at all.\n",
    "\n",
    "* Another big peak present for bio products and not for normal products is with the E300 additive. Again, a quick search online revealed that this additive represent [ascorbic acid](https://www.webmd.com/drugs/2/drug-322/ascorbic-acid-vitamin-c-oral/details) and is known to be an antioxident, hence again not harmful at all.\n",
    "\n",
    "* We observe that going down the most present additives, the normal products contains some additives that are not present at all in bio products. Let's observe some of them a bit deeper\n",
    "    - Let's observe the E471 additive. We found that this additive represent the Mono- and diglycerides of fatty acids. It was set not to be harmful but is still prohibited in biological food in the EU due to its source from fatty acids. ([source in french](https://www.additifs-alimentaires.net/E471.php)). The presence of this additive in the dataset even if it is prohibited in the EU may be explained by the fact that it may not be prohibited in other countries, such as in the United States.\n",
    "    - E450 represent the Diphosphates and Pyrophosphates. These specific products are doubtful as the harmful dosages are not known ([source in french](https://additifs-alimentaires.net/E450.php)). This is hence the first additive which is known to be dangerous, and being present in normal products and not in bio products.\n",
    "    \n",
    "<br>\n",
    "<br>\n",
    "    \n",
    "* Continuer du blabla mais avec ce graph y'a déjà bien moyen de pépon le bio parce-que les produits normaux ont plein d'additifs assez sale, surtout présent vers la queue de ce graphe."
   ]
  },
  {
   "cell_type": "code",
   "execution_count": null,
   "metadata": {},
   "outputs": [],
   "source": []
  }
 ],
 "metadata": {
  "kernelspec": {
   "display_name": "Python 3",
   "language": "python",
   "name": "python3"
  },
  "language_info": {
   "codemirror_mode": {
    "name": "ipython",
    "version": 3
   },
   "file_extension": ".py",
   "mimetype": "text/x-python",
   "name": "python",
   "nbconvert_exporter": "python",
   "pygments_lexer": "ipython3",
   "version": "3.7.3"
  }
 },
 "nbformat": 4,
 "nbformat_minor": 2
}
