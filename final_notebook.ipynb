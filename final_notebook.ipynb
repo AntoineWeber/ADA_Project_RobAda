{
 "cells": [
  {
   "cell_type": "markdown",
   "metadata": {},
   "source": [
    "# ADA - Final notebook\n",
    "\n",
    "This notebook contains all the code which has been used to generate the plots and figures of our [datastory](https://antoineweber.github.io/ADA_Project_RobAda/).\n",
    "\n",
    "As a summary, our goal was to investigate the potential difference between organic/bio products and regular ones, based on the [Open Food Facts](https://ch-en.openfoodfacts.org/data) dataset.\n",
    "\n",
    "**TODO:** Add table of content. (Tkt Lucas avec mon extension jupyter j'ai juste a cliquer un bouton, pas besoin d'écrire 20 lignes a la main)"
   ]
  },
  {
   "cell_type": "markdown",
   "metadata": {},
   "source": [
    "## Imports"
   ]
  },
  {
   "cell_type": "code",
   "execution_count": 1,
   "metadata": {
    "ExecuteTime": {
     "end_time": "2019-12-15T10:33:46.053300Z",
     "start_time": "2019-12-15T10:33:35.952451Z"
    }
   },
   "outputs": [],
   "source": [
    "import pickle\n",
    "import pprint\n",
    "import time\n",
    "import sys\n",
    "import os\n",
    "import json\n",
    "import copy\n",
    "import folium\n",
    "import itertools\n",
    "import numpy as np\n",
    "import matplotlib as mpl\n",
    "import matplotlib.pyplot as plt\n",
    "import pandas as pd\n",
    "import re\n",
    "import seaborn as sns\n",
    "import statsmodels.formula.api as sm\n",
    "\n",
    "from sklearn.feature_extraction.text import CountVectorizer\n",
    "from string import punctuation\n",
    "from math import pi\n",
    "\n",
    "# We generate the interactive plots with Altair\n",
    "import altair as alt"
   ]
  },
  {
   "cell_type": "markdown",
   "metadata": {},
   "source": [
    "## Loading the dataset"
   ]
  },
  {
   "cell_type": "code",
   "execution_count": 2,
   "metadata": {
    "ExecuteTime": {
     "end_time": "2019-12-15T10:34:36.767382Z",
     "start_time": "2019-12-15T10:33:46.053300Z"
    }
   },
   "outputs": [
    {
     "data": {
      "text/html": [
       "<div>\n",
       "<style scoped>\n",
       "    .dataframe tbody tr th:only-of-type {\n",
       "        vertical-align: middle;\n",
       "    }\n",
       "\n",
       "    .dataframe tbody tr th {\n",
       "        vertical-align: top;\n",
       "    }\n",
       "\n",
       "    .dataframe thead th {\n",
       "        text-align: right;\n",
       "    }\n",
       "</style>\n",
       "<table border=\"1\" class=\"dataframe\">\n",
       "  <thead>\n",
       "    <tr style=\"text-align: right;\">\n",
       "      <th></th>\n",
       "      <th>code</th>\n",
       "      <th>url</th>\n",
       "      <th>creator</th>\n",
       "      <th>created_t</th>\n",
       "      <th>created_datetime</th>\n",
       "      <th>last_modified_t</th>\n",
       "      <th>last_modified_datetime</th>\n",
       "      <th>product_name</th>\n",
       "      <th>generic_name</th>\n",
       "      <th>quantity</th>\n",
       "      <th>...</th>\n",
       "      <th>carbon-footprint-from-meat-or-fish_100g</th>\n",
       "      <th>nutrition-score-fr_100g</th>\n",
       "      <th>nutrition-score-uk_100g</th>\n",
       "      <th>glycemic-index_100g</th>\n",
       "      <th>water-hardness_100g</th>\n",
       "      <th>choline_100g</th>\n",
       "      <th>phylloquinone_100g</th>\n",
       "      <th>beta-glucan_100g</th>\n",
       "      <th>inositol_100g</th>\n",
       "      <th>carnitine_100g</th>\n",
       "    </tr>\n",
       "  </thead>\n",
       "  <tbody>\n",
       "    <tr>\n",
       "      <td>0</td>\n",
       "      <td>0000000000017</td>\n",
       "      <td>http://world-en.openfoodfacts.org/product/0000...</td>\n",
       "      <td>kiliweb</td>\n",
       "      <td>1529059080</td>\n",
       "      <td>2018-06-15T10:38:00Z</td>\n",
       "      <td>1561463718</td>\n",
       "      <td>2019-06-25T11:55:18Z</td>\n",
       "      <td>Vitória crackers</td>\n",
       "      <td>NaN</td>\n",
       "      <td>NaN</td>\n",
       "      <td>...</td>\n",
       "      <td>NaN</td>\n",
       "      <td>NaN</td>\n",
       "      <td>NaN</td>\n",
       "      <td>NaN</td>\n",
       "      <td>NaN</td>\n",
       "      <td>NaN</td>\n",
       "      <td>NaN</td>\n",
       "      <td>NaN</td>\n",
       "      <td>NaN</td>\n",
       "      <td>NaN</td>\n",
       "    </tr>\n",
       "    <tr>\n",
       "      <td>1</td>\n",
       "      <td>0000000000031</td>\n",
       "      <td>http://world-en.openfoodfacts.org/product/0000...</td>\n",
       "      <td>isagoofy</td>\n",
       "      <td>1539464774</td>\n",
       "      <td>2018-10-13T21:06:14Z</td>\n",
       "      <td>1539464817</td>\n",
       "      <td>2018-10-13T21:06:57Z</td>\n",
       "      <td>Cacao</td>\n",
       "      <td>NaN</td>\n",
       "      <td>130 g</td>\n",
       "      <td>...</td>\n",
       "      <td>NaN</td>\n",
       "      <td>NaN</td>\n",
       "      <td>NaN</td>\n",
       "      <td>NaN</td>\n",
       "      <td>NaN</td>\n",
       "      <td>NaN</td>\n",
       "      <td>NaN</td>\n",
       "      <td>NaN</td>\n",
       "      <td>NaN</td>\n",
       "      <td>NaN</td>\n",
       "    </tr>\n",
       "    <tr>\n",
       "      <td>2</td>\n",
       "      <td>00000000001111111111</td>\n",
       "      <td>http://world-en.openfoodfacts.org/product/0000...</td>\n",
       "      <td>openfoodfacts-contributors</td>\n",
       "      <td>1560020173</td>\n",
       "      <td>2019-06-08T18:56:13Z</td>\n",
       "      <td>1560020173</td>\n",
       "      <td>2019-06-08T18:56:13Z</td>\n",
       "      <td>Sfiudwx</td>\n",
       "      <td>NaN</td>\n",
       "      <td>dgesc</td>\n",
       "      <td>...</td>\n",
       "      <td>NaN</td>\n",
       "      <td>NaN</td>\n",
       "      <td>NaN</td>\n",
       "      <td>NaN</td>\n",
       "      <td>NaN</td>\n",
       "      <td>NaN</td>\n",
       "      <td>NaN</td>\n",
       "      <td>NaN</td>\n",
       "      <td>NaN</td>\n",
       "      <td>NaN</td>\n",
       "    </tr>\n",
       "    <tr>\n",
       "      <td>3</td>\n",
       "      <td>0000000000123</td>\n",
       "      <td>http://world-en.openfoodfacts.org/product/0000...</td>\n",
       "      <td>kiliweb</td>\n",
       "      <td>1535737982</td>\n",
       "      <td>2018-08-31T17:53:02Z</td>\n",
       "      <td>1535737986</td>\n",
       "      <td>2018-08-31T17:53:06Z</td>\n",
       "      <td>Sauce Sweety chili 0%</td>\n",
       "      <td>NaN</td>\n",
       "      <td>NaN</td>\n",
       "      <td>...</td>\n",
       "      <td>NaN</td>\n",
       "      <td>NaN</td>\n",
       "      <td>NaN</td>\n",
       "      <td>NaN</td>\n",
       "      <td>NaN</td>\n",
       "      <td>NaN</td>\n",
       "      <td>NaN</td>\n",
       "      <td>NaN</td>\n",
       "      <td>NaN</td>\n",
       "      <td>NaN</td>\n",
       "    </tr>\n",
       "    <tr>\n",
       "      <td>4</td>\n",
       "      <td>0000000000178</td>\n",
       "      <td>http://world-en.openfoodfacts.org/product/0000...</td>\n",
       "      <td>kiliweb</td>\n",
       "      <td>1542456332</td>\n",
       "      <td>2018-11-17T12:05:32Z</td>\n",
       "      <td>1542456333</td>\n",
       "      <td>2018-11-17T12:05:33Z</td>\n",
       "      <td>Mini coco</td>\n",
       "      <td>NaN</td>\n",
       "      <td>NaN</td>\n",
       "      <td>...</td>\n",
       "      <td>NaN</td>\n",
       "      <td>NaN</td>\n",
       "      <td>NaN</td>\n",
       "      <td>NaN</td>\n",
       "      <td>NaN</td>\n",
       "      <td>NaN</td>\n",
       "      <td>NaN</td>\n",
       "      <td>NaN</td>\n",
       "      <td>NaN</td>\n",
       "      <td>NaN</td>\n",
       "    </tr>\n",
       "  </tbody>\n",
       "</table>\n",
       "<p>5 rows × 175 columns</p>\n",
       "</div>"
      ],
      "text/plain": [
       "                   code                                                url  \\\n",
       "0         0000000000017  http://world-en.openfoodfacts.org/product/0000...   \n",
       "1         0000000000031  http://world-en.openfoodfacts.org/product/0000...   \n",
       "2  00000000001111111111  http://world-en.openfoodfacts.org/product/0000...   \n",
       "3         0000000000123  http://world-en.openfoodfacts.org/product/0000...   \n",
       "4         0000000000178  http://world-en.openfoodfacts.org/product/0000...   \n",
       "\n",
       "                      creator   created_t      created_datetime  \\\n",
       "0                     kiliweb  1529059080  2018-06-15T10:38:00Z   \n",
       "1                    isagoofy  1539464774  2018-10-13T21:06:14Z   \n",
       "2  openfoodfacts-contributors  1560020173  2019-06-08T18:56:13Z   \n",
       "3                     kiliweb  1535737982  2018-08-31T17:53:02Z   \n",
       "4                     kiliweb  1542456332  2018-11-17T12:05:32Z   \n",
       "\n",
       "   last_modified_t last_modified_datetime           product_name generic_name  \\\n",
       "0       1561463718   2019-06-25T11:55:18Z       Vitória crackers          NaN   \n",
       "1       1539464817   2018-10-13T21:06:57Z                  Cacao          NaN   \n",
       "2       1560020173   2019-06-08T18:56:13Z                Sfiudwx          NaN   \n",
       "3       1535737986   2018-08-31T17:53:06Z  Sauce Sweety chili 0%          NaN   \n",
       "4       1542456333   2018-11-17T12:05:33Z              Mini coco          NaN   \n",
       "\n",
       "  quantity  ... carbon-footprint-from-meat-or-fish_100g  \\\n",
       "0      NaN  ...                                     NaN   \n",
       "1    130 g  ...                                     NaN   \n",
       "2    dgesc  ...                                     NaN   \n",
       "3      NaN  ...                                     NaN   \n",
       "4      NaN  ...                                     NaN   \n",
       "\n",
       "  nutrition-score-fr_100g nutrition-score-uk_100g glycemic-index_100g  \\\n",
       "0                     NaN                     NaN                 NaN   \n",
       "1                     NaN                     NaN                 NaN   \n",
       "2                     NaN                     NaN                 NaN   \n",
       "3                     NaN                     NaN                 NaN   \n",
       "4                     NaN                     NaN                 NaN   \n",
       "\n",
       "  water-hardness_100g choline_100g phylloquinone_100g beta-glucan_100g  \\\n",
       "0                 NaN          NaN                NaN              NaN   \n",
       "1                 NaN          NaN                NaN              NaN   \n",
       "2                 NaN          NaN                NaN              NaN   \n",
       "3                 NaN          NaN                NaN              NaN   \n",
       "4                 NaN          NaN                NaN              NaN   \n",
       "\n",
       "  inositol_100g carnitine_100g  \n",
       "0           NaN            NaN  \n",
       "1           NaN            NaN  \n",
       "2           NaN            NaN  \n",
       "3           NaN            NaN  \n",
       "4           NaN            NaN  \n",
       "\n",
       "[5 rows x 175 columns]"
      ]
     },
     "execution_count": 2,
     "metadata": {},
     "output_type": "execute_result"
    }
   ],
   "source": [
    "# Make sure to download the dataset and place it in the data folder\n",
    "OPEN_FOOD_FACTS_PATH = 'data/en.openfoodfacts.org.products.csv'\n",
    "ENCODING = 'UTF-8'\n",
    "\n",
    "chunksize = 100000\n",
    "tfr = pd.read_csv(OPEN_FOOD_FACTS_PATH, encoding=ENCODING, sep='\\t', chunksize=chunksize, iterator=True, low_memory=False)\n",
    "food_facts_df = pd.concat(tfr, ignore_index=True)\n",
    "food_facts_df.head(5)"
   ]
  },
  {
   "cell_type": "code",
   "execution_count": 3,
   "metadata": {
    "ExecuteTime": {
     "end_time": "2019-12-15T10:34:36.783003Z",
     "start_time": "2019-12-15T10:34:36.767382Z"
    }
   },
   "outputs": [
    {
     "name": "stdout",
     "output_type": "stream",
     "text": [
      "There are 1021880 rows, hence products, in the dataset.\n",
      "There are 175 columns, hence fields, in the dataset.\n"
     ]
    }
   ],
   "source": [
    "print(\"There are {} rows, hence products, in the dataset.\".format(food_facts_df.shape[0]))\n",
    "print(\"There are {} columns, hence fields, in the dataset.\".format(food_facts_df.shape[1]))"
   ]
  },
  {
   "cell_type": "markdown",
   "metadata": {},
   "source": [
    "### Available fields <a class=\"anchor\" id=\"availablefields\"></a> \n",
    "\n",
    "The dataset description is available [here](https://static.openfoodfacts.org/data/data-fields.txt).\n",
    "\n",
    "This dataset is provided with a text file describing the different fields. We present a brief overview of the main types of fields:\n",
    "\n",
    "* field `code` containing the product's code. \n",
    "* field `creator` indicating who added the product to the dataset. \n",
    "* field `countries` showing where the product is selled. \n",
    "* fields that end with `_t` are dates in the UNIX timestamp format (number of seconds since Jan 1st 1970)\n",
    "* fields that end with `_datetime` are dates in the iso8601 format: yyyy-mm-ddThh:mn:ssZ\n",
    "* fields that end with `_tags` are comma separated list of tags (e.g. categories_tags is the set of normalized tags computer from the categories field)\n",
    "* fields that end with a language 2 letter code (e.g. fr for French) is the set of tags in that language\n",
    "* fields that end with `_100g` correspond to the amount of a nutriment (in g, or kJ for energy) for 100 g or 100 ml of product\n",
    "* fields that end with `_serving` correspond to the amount of a nutriment (in g, or kJ for energy) for 1 serving of the product"
   ]
  },
  {
   "cell_type": "markdown",
   "metadata": {},
   "source": [
    "**TODO:** Add general cleaning part if it is still necessary"
   ]
  },
  {
   "cell_type": "markdown",
   "metadata": {},
   "source": [
    "## Bio vs. regular products\n",
    "\n",
    "A lot of products claim to be bio. Different terms are used depending on the location (organic, bio, ...), but overall they all refer to the same fact that the product was mostly produced in compliance with the standards of [organic farming](https://en.wikipedia.org/wiki/Organic_farming). In the common knowledge, people often claim that organic or bio products are healthier than non-organic products.\n",
    "\n",
    "In the upcoming analysis, we will try to investigate whether this statement is quantitavely true or if sometimes companies take advantage of the \"bio\" acronym to gain market shares.\n",
    "\n",
    "We will conduct this analysis by investigating different columns of interest: \n",
    "\n",
    "* We have access to two different nutritional scores. We will try to investigate whether differences can be observed with respect to this column, i.e if bio/organic products tend to obtain better nutritional scores than standard products.\n",
    "    - In addition, some bio products may obtain bad nutritional scores. We will try to pinpoint why some bio products would still get such bad scores.\n",
    "    \n",
    "    \n",
    "* As stated above, organic products should undergo as little tratment as possible, inducing a more natural product. This should directly be represented by a lower capacity in additives. Hence as a first step we will assess whether there is a different in additives between bio and normal products.\n",
    "\n",
    "### Extracting organic/bio products\n",
    "\n",
    "Some product contain words such as 'bio', 'biologic', 'organic' in their `product_name`, so this can be use to distinguish them from normal products. In addition, the dataset contains the columns `labels`, `labels_tags` and `labels_en`, which contain information about quality labels/certifications which also include bio products.\n",
    "\n",
    "Thus, these columns can be used to split the dataset into 'bio' products and regular products. We will seach for keywords in these columns to determine if a product is bio:"
   ]
  },
  {
   "cell_type": "code",
   "execution_count": 4,
   "metadata": {
    "ExecuteTime": {
     "end_time": "2019-12-15T10:34:36.798625Z",
     "start_time": "2019-12-15T10:34:36.783003Z"
    }
   },
   "outputs": [],
   "source": [
    "bio_keywords = ['bio', 'organi'] # bio --> bio, biological, biologique, etc.; organi --> organic, organique\n",
    "\n",
    "contains_bio_keywords = lambda x: any([(kw in str(x)) for kw in bio_keywords])"
   ]
  },
  {
   "cell_type": "markdown",
   "metadata": {},
   "source": [
    "Let's add a new boolean column to the dataframe, to specify is the product is organic:"
   ]
  },
  {
   "cell_type": "code",
   "execution_count": 5,
   "metadata": {
    "ExecuteTime": {
     "end_time": "2019-12-15T10:35:50.226448Z",
     "start_time": "2019-12-15T10:35:41.912551Z"
    }
   },
   "outputs": [
    {
     "name": "stdout",
     "output_type": "stream",
     "text": [
      "There are 72700 bio products, and 949180 non-bio products.\n"
     ]
    },
    {
     "data": {
      "text/html": [
       "<div>\n",
       "<style scoped>\n",
       "    .dataframe tbody tr th:only-of-type {\n",
       "        vertical-align: middle;\n",
       "    }\n",
       "\n",
       "    .dataframe tbody tr th {\n",
       "        vertical-align: top;\n",
       "    }\n",
       "\n",
       "    .dataframe thead th {\n",
       "        text-align: right;\n",
       "    }\n",
       "</style>\n",
       "<table border=\"1\" class=\"dataframe\">\n",
       "  <thead>\n",
       "    <tr style=\"text-align: right;\">\n",
       "      <th></th>\n",
       "      <th>code</th>\n",
       "      <th>url</th>\n",
       "      <th>creator</th>\n",
       "      <th>created_t</th>\n",
       "      <th>created_datetime</th>\n",
       "      <th>last_modified_t</th>\n",
       "      <th>last_modified_datetime</th>\n",
       "      <th>product_name</th>\n",
       "      <th>generic_name</th>\n",
       "      <th>quantity</th>\n",
       "      <th>...</th>\n",
       "      <th>nutrition-score-fr_100g</th>\n",
       "      <th>nutrition-score-uk_100g</th>\n",
       "      <th>glycemic-index_100g</th>\n",
       "      <th>water-hardness_100g</th>\n",
       "      <th>choline_100g</th>\n",
       "      <th>phylloquinone_100g</th>\n",
       "      <th>beta-glucan_100g</th>\n",
       "      <th>inositol_100g</th>\n",
       "      <th>carnitine_100g</th>\n",
       "      <th>bio</th>\n",
       "    </tr>\n",
       "  </thead>\n",
       "  <tbody>\n",
       "    <tr>\n",
       "      <td>18</td>\n",
       "      <td>0000000001427</td>\n",
       "      <td>http://world-en.openfoodfacts.org/product/0000...</td>\n",
       "      <td>kiliweb</td>\n",
       "      <td>1550231727</td>\n",
       "      <td>2019-02-15T11:55:27Z</td>\n",
       "      <td>1550231732</td>\n",
       "      <td>2019-02-15T11:55:32Z</td>\n",
       "      <td>Pain de maïs bio</td>\n",
       "      <td>NaN</td>\n",
       "      <td>NaN</td>\n",
       "      <td>...</td>\n",
       "      <td>NaN</td>\n",
       "      <td>NaN</td>\n",
       "      <td>NaN</td>\n",
       "      <td>NaN</td>\n",
       "      <td>NaN</td>\n",
       "      <td>NaN</td>\n",
       "      <td>NaN</td>\n",
       "      <td>NaN</td>\n",
       "      <td>NaN</td>\n",
       "      <td>True</td>\n",
       "    </tr>\n",
       "    <tr>\n",
       "      <td>39</td>\n",
       "      <td>000000000429</td>\n",
       "      <td>http://world-en.openfoodfacts.org/product/0000...</td>\n",
       "      <td>kiliweb</td>\n",
       "      <td>1567080029</td>\n",
       "      <td>2019-08-29T12:00:29Z</td>\n",
       "      <td>1567080749</td>\n",
       "      <td>2019-08-29T12:12:29Z</td>\n",
       "      <td>Jus de Pommes</td>\n",
       "      <td>NaN</td>\n",
       "      <td>NaN</td>\n",
       "      <td>...</td>\n",
       "      <td>NaN</td>\n",
       "      <td>NaN</td>\n",
       "      <td>NaN</td>\n",
       "      <td>NaN</td>\n",
       "      <td>NaN</td>\n",
       "      <td>NaN</td>\n",
       "      <td>NaN</td>\n",
       "      <td>NaN</td>\n",
       "      <td>NaN</td>\n",
       "      <td>True</td>\n",
       "    </tr>\n",
       "    <tr>\n",
       "      <td>62</td>\n",
       "      <td>000000001011</td>\n",
       "      <td>http://world-en.openfoodfacts.org/product/0000...</td>\n",
       "      <td>kiliweb</td>\n",
       "      <td>1568142714</td>\n",
       "      <td>2019-09-10T19:11:54Z</td>\n",
       "      <td>1568143389</td>\n",
       "      <td>2019-09-10T19:23:09Z</td>\n",
       "      <td>Fromage blanc fermier de chèvre au lait entier</td>\n",
       "      <td>NaN</td>\n",
       "      <td>NaN</td>\n",
       "      <td>...</td>\n",
       "      <td>NaN</td>\n",
       "      <td>NaN</td>\n",
       "      <td>NaN</td>\n",
       "      <td>NaN</td>\n",
       "      <td>NaN</td>\n",
       "      <td>NaN</td>\n",
       "      <td>NaN</td>\n",
       "      <td>NaN</td>\n",
       "      <td>NaN</td>\n",
       "      <td>True</td>\n",
       "    </tr>\n",
       "    <tr>\n",
       "      <td>84</td>\n",
       "      <td>0000000014595</td>\n",
       "      <td>http://world-en.openfoodfacts.org/product/0000...</td>\n",
       "      <td>kiliweb</td>\n",
       "      <td>1520321992</td>\n",
       "      <td>2018-03-06T07:39:52Z</td>\n",
       "      <td>1561463802</td>\n",
       "      <td>2019-06-25T11:56:42Z</td>\n",
       "      <td>Pâte de fruit fraise</td>\n",
       "      <td>NaN</td>\n",
       "      <td>NaN</td>\n",
       "      <td>...</td>\n",
       "      <td>NaN</td>\n",
       "      <td>NaN</td>\n",
       "      <td>NaN</td>\n",
       "      <td>NaN</td>\n",
       "      <td>NaN</td>\n",
       "      <td>NaN</td>\n",
       "      <td>NaN</td>\n",
       "      <td>NaN</td>\n",
       "      <td>NaN</td>\n",
       "      <td>True</td>\n",
       "    </tr>\n",
       "    <tr>\n",
       "      <td>93</td>\n",
       "      <td>0000000016087</td>\n",
       "      <td>http://world-en.openfoodfacts.org/product/0000...</td>\n",
       "      <td>usda-ndb-import</td>\n",
       "      <td>1489055731</td>\n",
       "      <td>2017-03-09T10:35:31Z</td>\n",
       "      <td>1545997008</td>\n",
       "      <td>2018-12-28T11:36:48Z</td>\n",
       "      <td>Organic Salted Nut Mix</td>\n",
       "      <td>NaN</td>\n",
       "      <td>NaN</td>\n",
       "      <td>...</td>\n",
       "      <td>NaN</td>\n",
       "      <td>NaN</td>\n",
       "      <td>NaN</td>\n",
       "      <td>NaN</td>\n",
       "      <td>NaN</td>\n",
       "      <td>NaN</td>\n",
       "      <td>NaN</td>\n",
       "      <td>NaN</td>\n",
       "      <td>NaN</td>\n",
       "      <td>True</td>\n",
       "    </tr>\n",
       "  </tbody>\n",
       "</table>\n",
       "<p>5 rows × 176 columns</p>\n",
       "</div>"
      ],
      "text/plain": [
       "             code                                                url  \\\n",
       "18  0000000001427  http://world-en.openfoodfacts.org/product/0000...   \n",
       "39   000000000429  http://world-en.openfoodfacts.org/product/0000...   \n",
       "62   000000001011  http://world-en.openfoodfacts.org/product/0000...   \n",
       "84  0000000014595  http://world-en.openfoodfacts.org/product/0000...   \n",
       "93  0000000016087  http://world-en.openfoodfacts.org/product/0000...   \n",
       "\n",
       "            creator   created_t      created_datetime  last_modified_t  \\\n",
       "18          kiliweb  1550231727  2019-02-15T11:55:27Z       1550231732   \n",
       "39          kiliweb  1567080029  2019-08-29T12:00:29Z       1567080749   \n",
       "62          kiliweb  1568142714  2019-09-10T19:11:54Z       1568143389   \n",
       "84          kiliweb  1520321992  2018-03-06T07:39:52Z       1561463802   \n",
       "93  usda-ndb-import  1489055731  2017-03-09T10:35:31Z       1545997008   \n",
       "\n",
       "   last_modified_datetime                                    product_name  \\\n",
       "18   2019-02-15T11:55:32Z                                Pain de maïs bio   \n",
       "39   2019-08-29T12:12:29Z                                   Jus de Pommes   \n",
       "62   2019-09-10T19:23:09Z  Fromage blanc fermier de chèvre au lait entier   \n",
       "84   2019-06-25T11:56:42Z                            Pâte de fruit fraise   \n",
       "93   2018-12-28T11:36:48Z                          Organic Salted Nut Mix   \n",
       "\n",
       "   generic_name quantity  ... nutrition-score-fr_100g nutrition-score-uk_100g  \\\n",
       "18          NaN      NaN  ...                     NaN                     NaN   \n",
       "39          NaN      NaN  ...                     NaN                     NaN   \n",
       "62          NaN      NaN  ...                     NaN                     NaN   \n",
       "84          NaN      NaN  ...                     NaN                     NaN   \n",
       "93          NaN      NaN  ...                     NaN                     NaN   \n",
       "\n",
       "   glycemic-index_100g water-hardness_100g choline_100g phylloquinone_100g  \\\n",
       "18                 NaN                 NaN          NaN                NaN   \n",
       "39                 NaN                 NaN          NaN                NaN   \n",
       "62                 NaN                 NaN          NaN                NaN   \n",
       "84                 NaN                 NaN          NaN                NaN   \n",
       "93                 NaN                 NaN          NaN                NaN   \n",
       "\n",
       "   beta-glucan_100g inositol_100g carnitine_100g   bio  \n",
       "18              NaN           NaN            NaN  True  \n",
       "39              NaN           NaN            NaN  True  \n",
       "62              NaN           NaN            NaN  True  \n",
       "84              NaN           NaN            NaN  True  \n",
       "93              NaN           NaN            NaN  True  \n",
       "\n",
       "[5 rows x 176 columns]"
      ]
     },
     "execution_count": 5,
     "metadata": {},
     "output_type": "execute_result"
    }
   ],
   "source": [
    "# Check for products matching the bio keywords in the 4 columns\n",
    "bio_products = (food_facts_df['product_name'].apply(contains_bio_keywords)) \\\n",
    "             | (food_facts_df['labels'].apply(contains_bio_keywords)) \\\n",
    "             | (food_facts_df['labels_tags'].apply(contains_bio_keywords)) \\\n",
    "             | (food_facts_df['labels_en'].apply(contains_bio_keywords))\n",
    "\n",
    "food_facts_df['bio'] = bio_products\n",
    "\n",
    "print('There are {} bio products, and {} non-bio products.'.format(food_facts_df['bio'].sum(), \n",
    "                                                len(food_facts_df['bio']) - food_facts_df['bio'].sum()))\n",
    "food_facts_df[food_facts_df['bio'] == True].head(5)"
   ]
  },
  {
   "cell_type": "markdown",
   "metadata": {},
   "source": [
    "We now have a new column in our dataset indicating whether products are organic or regular."
   ]
  },
  {
   "cell_type": "markdown",
   "metadata": {},
   "source": [
    "## Categorical analysis\n",
    "\n",
    "**TODO: explain that this was a point of improvement from milestone 2** Since there is a different representation of product categories between regular and organic products, balancing the datasets as much as possible is essential to provide insightful information regarding both categories. This was the main shortcomming of milestone 2 and this is adressed here.\n",
    "\n",
    "For our analysis, we want to compare organic and regular products in terms of **nutrional score**, **contained additives**, **nova groups** and more. However, as shown in the previous section we have two highly unbalanced classes, as there are much fewer organic products. In addition to this, we don't know if the distribution of product categories is different between the regular and organic data. For instance, it could be possible that for organic products there are much more juices than other types of products.\n",
    "\n",
    "In order to provide a more rigourous analysis, we will try to split the dataset into different categories, and then perform a comparative analysis in each category"
   ]
  },
  {
   "cell_type": "markdown",
   "metadata": {},
   "source": [
    "### Determining the categories of products in the dataset\n",
    "\n",
    "The open food facts dataset contains several columns representing the categories : **TODO: list the columns**. The column that is most present is `categories_en`. It is composed of a set of categories separated by commas. In addition, there are some metadata inside it to specify the language of the keywords, such `en:` and `fr:` for english and french respectively.\n",
    "\n",
    "Our goal is to find out which categories are actually present in `categories_en`. Then we can find common categories to split the dataset based on keywords. For instance, if we wanted to find all the dairy products, we could look for the keywords `[milk, cheese, yoghurt]` in `categories_en`. \n",
    "\n",
    "We can also look for keywords related to the category in the `product_name` column. However, it would be more difficult to obtain a reliable splitting. Indeed, if we had a product named `goat milk`, it could be classified in the `meat` category since its name contains `goat`, whereas it's `categories_en` columns would not have `meat` in it. For this reason, we use only the `categories_en` column. **TODO: maybe check with both columns**"
   ]
  },
  {
   "cell_type": "code",
   "execution_count": 6,
   "metadata": {
    "ExecuteTime": {
     "end_time": "2019-12-15T10:35:50.389277Z",
     "start_time": "2019-12-15T10:35:50.226448Z"
    },
    "scrolled": true
   },
   "outputs": [
    {
     "data": {
      "text/html": [
       "<div>\n",
       "<style scoped>\n",
       "    .dataframe tbody tr th:only-of-type {\n",
       "        vertical-align: middle;\n",
       "    }\n",
       "\n",
       "    .dataframe tbody tr th {\n",
       "        vertical-align: top;\n",
       "    }\n",
       "\n",
       "    .dataframe thead th {\n",
       "        text-align: right;\n",
       "    }\n",
       "</style>\n",
       "<table border=\"1\" class=\"dataframe\">\n",
       "  <thead>\n",
       "    <tr style=\"text-align: right;\">\n",
       "      <th></th>\n",
       "      <th>categories_en</th>\n",
       "    </tr>\n",
       "  </thead>\n",
       "  <tbody>\n",
       "    <tr>\n",
       "      <td>2</td>\n",
       "      <td>fr:xsf</td>\n",
       "    </tr>\n",
       "    <tr>\n",
       "      <td>8</td>\n",
       "      <td>Meals,Prepared vegetables,Grated carrots,Seaso...</td>\n",
       "    </tr>\n",
       "    <tr>\n",
       "      <td>15</td>\n",
       "      <td>Pies,Sweet pies,Coconut pies</td>\n",
       "    </tr>\n",
       "    <tr>\n",
       "      <td>23</td>\n",
       "      <td>Plant-based foods and beverages,Plant-based fo...</td>\n",
       "    </tr>\n",
       "    <tr>\n",
       "      <td>25</td>\n",
       "      <td>Meats,Poultries,Chickens,fr:Aiguillettes de po...</td>\n",
       "    </tr>\n",
       "  </tbody>\n",
       "</table>\n",
       "</div>"
      ],
      "text/plain": [
       "                                        categories_en\n",
       "2                                              fr:xsf\n",
       "8   Meals,Prepared vegetables,Grated carrots,Seaso...\n",
       "15                       Pies,Sweet pies,Coconut pies\n",
       "23  Plant-based foods and beverages,Plant-based fo...\n",
       "25  Meats,Poultries,Chickens,fr:Aiguillettes de po..."
      ]
     },
     "execution_count": 6,
     "metadata": {},
     "output_type": "execute_result"
    }
   ],
   "source": [
    "# Get the relevant column from the dataset\n",
    "categories_df = food_facts_df[['categories_en']].dropna().copy()\n",
    "categories_df.head(5)"
   ]
  },
  {
   "cell_type": "markdown",
   "metadata": {},
   "source": [
    "Our goal is to identify the most common words describing the categories of products across the dataset. \n",
    "\n",
    "We use the [CountVectorizer](https://scikit-learn.org/stable/modules/generated/sklearn.feature_extraction.text.CountVectorizer.html) class to build a bag of words from `categories_en`.\n",
    "\n",
    "We leverage the arguments of the class to transform all the words to lowercase, ignore stopwords and perform character normalization (remove accents, etc.). In addition, we discard the words that have less than **50** occurences."
   ]
  },
  {
   "cell_type": "code",
   "execution_count": 7,
   "metadata": {
    "ExecuteTime": {
     "end_time": "2019-12-15T10:35:56.903952Z",
     "start_time": "2019-12-15T10:35:50.389277Z"
    }
   },
   "outputs": [
    {
     "name": "stdout",
     "output_type": "stream",
     "text": [
      "There are 1693 different words in total.\n",
      "Keywords: ['10', '12', '18', '2000', '2012', '2013', 'abbey', 'abondance', 'abricot', 'acacia']\n"
     ]
    }
   ],
   "source": [
    "def strip_accents(words):\n",
    "    \"\"\" Remove accents in a list of words. \"\"\"\n",
    "    \n",
    "    # If words is [], None or similar\n",
    "    if not words:\n",
    "        return words \n",
    "    \n",
    "    # We use the CountVectorizer to actually remove accents\n",
    "    vectorizer = CountVectorizer(lowercase=False, strip_accents='ascii')\n",
    "    vectorizer.fit_transform(words)\n",
    "    \n",
    "    return vectorizer.get_feature_names()\n",
    "\n",
    "# We use the stopwords from nltk (uncomment following 2 lines to download the keywords)\n",
    "#import nltk \n",
    "#nltk.download('stopwords') \n",
    "from nltk.corpus import stopwords\n",
    "\n",
    "# We need french+english stopwords as there are both languages in the column\n",
    "stop_words = stopwords.words('english')\n",
    "stop_words.extend(strip_accents(stopwords.words('french')))\n",
    "\n",
    "# These labels is present in the column to signify french/english categories\n",
    "stop_words.append('fr')\n",
    "stop_words.append('en')\n",
    "\n",
    "# Remove dupplicates if any\n",
    "stop_words = list(set(stop_words))\n",
    "\n",
    "# Discard categories that are too rare \n",
    "min_occurences = 50\n",
    "\n",
    "vectorizer = CountVectorizer(stop_words=stop_words, lowercase=True, \n",
    "                             strip_accents='ascii', min_df=min_occurences)\n",
    "\n",
    "bag = vectorizer.fit_transform(categories_df['categories_en'].values)\n",
    "bag_features = vectorizer.get_feature_names()\n",
    "print('There are {} different words in total.'.format(len(bag_features)))\n",
    "print('Keywords:', bag_features[:10]) "
   ]
  },
  {
   "cell_type": "markdown",
   "metadata": {},
   "source": [
    "Let's find out the most common words:"
   ]
  },
  {
   "cell_type": "code",
   "execution_count": 8,
   "metadata": {
    "ExecuteTime": {
     "end_time": "2019-12-15T10:35:57.777891Z",
     "start_time": "2019-12-15T10:35:56.906033Z"
    }
   },
   "outputs": [
    {
     "data": {
      "image/png": "[encoded data removed]",
      "text/plain": [
       "<Figure size 720x1440 with 1 Axes>"
      ]
     },
     "metadata": {
      "needs_background": "light"
     },
     "output_type": "display_data"
    }
   ],
   "source": [
    "# Sum along the columns to get the total number of occurencies of each token\n",
    "words_occurences = np.array(bag.sum(axis=0))[0]\n",
    "\n",
    "# Build a dataframe with the words occurencies\n",
    "words_occurencies_df = pd.DataFrame({'word':bag_features,'count':words_occurences}).sort_values(by=['count'],ascending=False)\\\n",
    "                            .reset_index().drop(columns='index')\n",
    "\n",
    "# Plot the most common words\n",
    "n = 50\n",
    "plt.figure(figsize=(10,20))\n",
    "plt.barh(words_occurencies_df.loc[0:n]['word'].values[::-1],\n",
    "         words_occurencies_df.loc[0:n]['count'].values[::-1])\n",
    "plt.title('Words occurencies of the \"categories_en\" tag (first {})'.format(n))\n",
    "plt.ylabel('Word')\n",
    "plt.xlabel('Nb. occurences')\n",
    "plt.show()"
   ]
  },
  {
   "cell_type": "markdown",
   "metadata": {},
   "source": [
    "There is a good list of words that can be used for categories, although some of them are too general, for instance the most common ones which are `foods` and `based`.\n",
    "\n",
    "Let's clean the column `categories_en` using the same pre-processing and stop-words removal as before:"
   ]
  },
  {
   "cell_type": "code",
   "execution_count": 9,
   "metadata": {
    "ExecuteTime": {
     "end_time": "2019-12-15T10:36:19.057881Z",
     "start_time": "2019-12-15T10:35:57.777891Z"
    }
   },
   "outputs": [
    {
     "data": {
      "text/html": [
       "<div>\n",
       "<style scoped>\n",
       "    .dataframe tbody tr th:only-of-type {\n",
       "        vertical-align: middle;\n",
       "    }\n",
       "\n",
       "    .dataframe tbody tr th {\n",
       "        vertical-align: top;\n",
       "    }\n",
       "\n",
       "    .dataframe thead th {\n",
       "        text-align: right;\n",
       "    }\n",
       "</style>\n",
       "<table border=\"1\" class=\"dataframe\">\n",
       "  <thead>\n",
       "    <tr style=\"text-align: right;\">\n",
       "      <th></th>\n",
       "      <th>categories_en</th>\n",
       "    </tr>\n",
       "  </thead>\n",
       "  <tbody>\n",
       "    <tr>\n",
       "      <td>2</td>\n",
       "      <td>xsf</td>\n",
       "    </tr>\n",
       "    <tr>\n",
       "      <td>8</td>\n",
       "      <td>meals prepared vegetables grated carrots seaso...</td>\n",
       "    </tr>\n",
       "    <tr>\n",
       "      <td>15</td>\n",
       "      <td>pies sweet pies coconut pies</td>\n",
       "    </tr>\n",
       "    <tr>\n",
       "      <td>23</td>\n",
       "      <td>plant based foods beverages plant based foods ...</td>\n",
       "    </tr>\n",
       "    <tr>\n",
       "      <td>25</td>\n",
       "      <td>meats poultries chickens aiguillettes poulet</td>\n",
       "    </tr>\n",
       "  </tbody>\n",
       "</table>\n",
       "</div>"
      ],
      "text/plain": [
       "                                        categories_en\n",
       "2                                                 xsf\n",
       "8   meals prepared vegetables grated carrots seaso...\n",
       "15                       pies sweet pies coconut pies\n",
       "23  plant based foods beverages plant based foods ...\n",
       "25       meats poultries chickens aiguillettes poulet"
      ]
     },
     "execution_count": 9,
     "metadata": {},
     "output_type": "execute_result"
    }
   ],
   "source": [
    "preprocessor = vectorizer.build_preprocessor()\n",
    "tokenizer = vectorizer.build_tokenizer()\n",
    "\n",
    "categories_df['categories_en'] = categories_df['categories_en'].apply(preprocessor).apply(tokenizer)\\\n",
    "                                    .apply(lambda words: ' '.join([w for w in words if w not in stop_words]))\n",
    "categories_df.head(5)"
   ]
  },
  {
   "cell_type": "markdown",
   "metadata": {},
   "source": [
    "We can now define a function that can be used to obtain the product that belong to a specific category defined by keywords:"
   ]
  },
  {
   "cell_type": "code",
   "execution_count": 10,
   "metadata": {
    "ExecuteTime": {
     "end_time": "2019-12-15T10:36:19.080042Z",
     "start_time": "2019-12-15T10:36:19.057881Z"
    }
   },
   "outputs": [],
   "source": [
    "def find_products_from_category(raw_df, pre_processed_df, category_keywords):\n",
    "    \"\"\" Obtain the products that fall in a given category.\n",
    "    \n",
    "    A product belong to a category if its column `categories_en` contain\n",
    "    one of the category_keywords.\n",
    "    \n",
    "    Args:\n",
    "        raw_df: raw Open Food Facts dataframe to be able to fetch all the products information\n",
    "        pre_processed_df: datframe where the columns `categories_en` have been\n",
    "                          cleaned of stopwords, case, accents, etc.\n",
    "        category_keywords: List of keywords to find in `categories_en`. Note that since the\n",
    "                           pre_processed_df is a clean string, there is no need to include\n",
    "                           variations such as `cheese` and `cheeses`, a common step is enough.\n",
    "        \n",
    "    Return:\n",
    "        The products that belong to the categories, with all the info from raw_df\n",
    "    \n",
    "    \"\"\"\n",
    "    \n",
    "    products = pre_processed_df[pre_processed_df['categories_en'].apply(\n",
    "                lambda x : any(kw in x for kw in category_keywords))]\n",
    "    \n",
    "    return raw_df.loc[products.index]"
   ]
  },
  {
   "cell_type": "markdown",
   "metadata": {},
   "source": [
    "For instance let's obtain the dairy products:"
   ]
  },
  {
   "cell_type": "code",
   "execution_count": 11,
   "metadata": {
    "ExecuteTime": {
     "end_time": "2019-12-15T10:36:19.828698Z",
     "start_time": "2019-12-15T10:36:19.080042Z"
    }
   },
   "outputs": [
    {
     "name": "stdout",
     "output_type": "stream",
     "text": [
      "There are 49523 dairy products.\n"
     ]
    },
    {
     "data": {
      "text/html": [
       "<div>\n",
       "<style scoped>\n",
       "    .dataframe tbody tr th:only-of-type {\n",
       "        vertical-align: middle;\n",
       "    }\n",
       "\n",
       "    .dataframe tbody tr th {\n",
       "        vertical-align: top;\n",
       "    }\n",
       "\n",
       "    .dataframe thead th {\n",
       "        text-align: right;\n",
       "    }\n",
       "</style>\n",
       "<table border=\"1\" class=\"dataframe\">\n",
       "  <thead>\n",
       "    <tr style=\"text-align: right;\">\n",
       "      <th></th>\n",
       "      <th>code</th>\n",
       "      <th>url</th>\n",
       "      <th>creator</th>\n",
       "      <th>created_t</th>\n",
       "      <th>created_datetime</th>\n",
       "      <th>last_modified_t</th>\n",
       "      <th>last_modified_datetime</th>\n",
       "      <th>product_name</th>\n",
       "      <th>generic_name</th>\n",
       "      <th>quantity</th>\n",
       "      <th>...</th>\n",
       "      <th>nutrition-score-fr_100g</th>\n",
       "      <th>nutrition-score-uk_100g</th>\n",
       "      <th>glycemic-index_100g</th>\n",
       "      <th>water-hardness_100g</th>\n",
       "      <th>choline_100g</th>\n",
       "      <th>phylloquinone_100g</th>\n",
       "      <th>beta-glucan_100g</th>\n",
       "      <th>inositol_100g</th>\n",
       "      <th>carnitine_100g</th>\n",
       "      <th>bio</th>\n",
       "    </tr>\n",
       "  </thead>\n",
       "  <tbody>\n",
       "    <tr>\n",
       "      <td>48</td>\n",
       "      <td>0000000005005</td>\n",
       "      <td>http://world-en.openfoodfacts.org/product/0000...</td>\n",
       "      <td>kiliweb</td>\n",
       "      <td>1521663684</td>\n",
       "      <td>2018-03-21T20:21:24Z</td>\n",
       "      <td>1545934272</td>\n",
       "      <td>2018-12-27T18:11:12Z</td>\n",
       "      <td>Abondance</td>\n",
       "      <td>NaN</td>\n",
       "      <td>NaN</td>\n",
       "      <td>...</td>\n",
       "      <td>14.0</td>\n",
       "      <td>19.0</td>\n",
       "      <td>NaN</td>\n",
       "      <td>NaN</td>\n",
       "      <td>NaN</td>\n",
       "      <td>NaN</td>\n",
       "      <td>NaN</td>\n",
       "      <td>NaN</td>\n",
       "      <td>NaN</td>\n",
       "      <td>False</td>\n",
       "    </tr>\n",
       "    <tr>\n",
       "      <td>313</td>\n",
       "      <td>0000000491228</td>\n",
       "      <td>http://world-en.openfoodfacts.org/product/0000...</td>\n",
       "      <td>kiliweb</td>\n",
       "      <td>1543690964</td>\n",
       "      <td>2018-12-01T19:02:44Z</td>\n",
       "      <td>1543692731</td>\n",
       "      <td>2018-12-01T19:32:11Z</td>\n",
       "      <td>Entremets Crème Brulée</td>\n",
       "      <td>NaN</td>\n",
       "      <td>20 g</td>\n",
       "      <td>...</td>\n",
       "      <td>2.0</td>\n",
       "      <td>2.0</td>\n",
       "      <td>NaN</td>\n",
       "      <td>NaN</td>\n",
       "      <td>NaN</td>\n",
       "      <td>NaN</td>\n",
       "      <td>NaN</td>\n",
       "      <td>NaN</td>\n",
       "      <td>NaN</td>\n",
       "      <td>False</td>\n",
       "    </tr>\n",
       "    <tr>\n",
       "      <td>748</td>\n",
       "      <td>0000405017511</td>\n",
       "      <td>http://world-en.openfoodfacts.org/product/0000...</td>\n",
       "      <td>kiliweb</td>\n",
       "      <td>1551706268</td>\n",
       "      <td>2019-03-04T13:31:08Z</td>\n",
       "      <td>1552159083</td>\n",
       "      <td>2019-03-09T19:18:03Z</td>\n",
       "      <td>Chaource lait cru</td>\n",
       "      <td>NaN</td>\n",
       "      <td>NaN</td>\n",
       "      <td>...</td>\n",
       "      <td>NaN</td>\n",
       "      <td>NaN</td>\n",
       "      <td>NaN</td>\n",
       "      <td>NaN</td>\n",
       "      <td>NaN</td>\n",
       "      <td>NaN</td>\n",
       "      <td>NaN</td>\n",
       "      <td>NaN</td>\n",
       "      <td>NaN</td>\n",
       "      <td>False</td>\n",
       "    </tr>\n",
       "    <tr>\n",
       "      <td>983</td>\n",
       "      <td>0000939333330</td>\n",
       "      <td>http://world-en.openfoodfacts.org/product/0000...</td>\n",
       "      <td>emoups</td>\n",
       "      <td>1569696676</td>\n",
       "      <td>2019-09-28T18:51:16Z</td>\n",
       "      <td>1569697074</td>\n",
       "      <td>2019-09-28T18:57:54Z</td>\n",
       "      <td>creme fraiche</td>\n",
       "      <td>NaN</td>\n",
       "      <td>213g, 7.5OZ</td>\n",
       "      <td>...</td>\n",
       "      <td>14.0</td>\n",
       "      <td>14.0</td>\n",
       "      <td>NaN</td>\n",
       "      <td>NaN</td>\n",
       "      <td>NaN</td>\n",
       "      <td>NaN</td>\n",
       "      <td>NaN</td>\n",
       "      <td>NaN</td>\n",
       "      <td>NaN</td>\n",
       "      <td>False</td>\n",
       "    </tr>\n",
       "    <tr>\n",
       "      <td>1054</td>\n",
       "      <td>00011747</td>\n",
       "      <td>http://world-en.openfoodfacts.org/product/0001...</td>\n",
       "      <td>teolemon</td>\n",
       "      <td>1424634361</td>\n",
       "      <td>2015-02-22T19:46:01Z</td>\n",
       "      <td>1561464979</td>\n",
       "      <td>2019-06-25T12:16:19Z</td>\n",
       "      <td>Triple Belgian Chocolaté Chunk Cookies</td>\n",
       "      <td>NaN</td>\n",
       "      <td>225 g e</td>\n",
       "      <td>...</td>\n",
       "      <td>23.0</td>\n",
       "      <td>23.0</td>\n",
       "      <td>NaN</td>\n",
       "      <td>NaN</td>\n",
       "      <td>NaN</td>\n",
       "      <td>NaN</td>\n",
       "      <td>NaN</td>\n",
       "      <td>NaN</td>\n",
       "      <td>NaN</td>\n",
       "      <td>False</td>\n",
       "    </tr>\n",
       "    <tr>\n",
       "      <td>1063</td>\n",
       "      <td>0001200001217</td>\n",
       "      <td>http://world-en.openfoodfacts.org/product/0001...</td>\n",
       "      <td>date-limite-app</td>\n",
       "      <td>1534008219</td>\n",
       "      <td>2018-08-11T17:23:39Z</td>\n",
       "      <td>1545929001</td>\n",
       "      <td>2018-12-27T16:43:21Z</td>\n",
       "      <td>comte</td>\n",
       "      <td>NaN</td>\n",
       "      <td>NaN</td>\n",
       "      <td>...</td>\n",
       "      <td>NaN</td>\n",
       "      <td>NaN</td>\n",
       "      <td>NaN</td>\n",
       "      <td>NaN</td>\n",
       "      <td>NaN</td>\n",
       "      <td>NaN</td>\n",
       "      <td>NaN</td>\n",
       "      <td>NaN</td>\n",
       "      <td>NaN</td>\n",
       "      <td>False</td>\n",
       "    </tr>\n",
       "    <tr>\n",
       "      <td>1089</td>\n",
       "      <td>00013029</td>\n",
       "      <td>http://world-en.openfoodfacts.org/product/0001...</td>\n",
       "      <td>beniben</td>\n",
       "      <td>1494672859</td>\n",
       "      <td>2017-05-13T10:54:19Z</td>\n",
       "      <td>1494674596</td>\n",
       "      <td>2017-05-13T11:23:16Z</td>\n",
       "      <td>Cheddar</td>\n",
       "      <td>Cheddar en tranches</td>\n",
       "      <td>7.788 kg (6 * 1,298 kg)</td>\n",
       "      <td>...</td>\n",
       "      <td>NaN</td>\n",
       "      <td>NaN</td>\n",
       "      <td>NaN</td>\n",
       "      <td>NaN</td>\n",
       "      <td>NaN</td>\n",
       "      <td>NaN</td>\n",
       "      <td>NaN</td>\n",
       "      <td>NaN</td>\n",
       "      <td>NaN</td>\n",
       "      <td>False</td>\n",
       "    </tr>\n",
       "    <tr>\n",
       "      <td>1192</td>\n",
       "      <td>0002000000707</td>\n",
       "      <td>http://world-en.openfoodfacts.org/product/0002...</td>\n",
       "      <td>kiliweb</td>\n",
       "      <td>1536492887</td>\n",
       "      <td>2018-09-09T11:34:47Z</td>\n",
       "      <td>1569853724</td>\n",
       "      <td>2019-09-30T14:28:44Z</td>\n",
       "      <td>Camenbert de Normandie</td>\n",
       "      <td>NaN</td>\n",
       "      <td>NaN</td>\n",
       "      <td>...</td>\n",
       "      <td>16.0</td>\n",
       "      <td>21.0</td>\n",
       "      <td>NaN</td>\n",
       "      <td>NaN</td>\n",
       "      <td>NaN</td>\n",
       "      <td>NaN</td>\n",
       "      <td>NaN</td>\n",
       "      <td>NaN</td>\n",
       "      <td>NaN</td>\n",
       "      <td>False</td>\n",
       "    </tr>\n",
       "    <tr>\n",
       "      <td>1193</td>\n",
       "      <td>0002000000714</td>\n",
       "      <td>http://world-en.openfoodfacts.org/product/0002...</td>\n",
       "      <td>kiliweb</td>\n",
       "      <td>1518439760</td>\n",
       "      <td>2018-02-12T12:49:20Z</td>\n",
       "      <td>1552560002</td>\n",
       "      <td>2019-03-14T10:40:02Z</td>\n",
       "      <td>Yaourt nature brebis</td>\n",
       "      <td>NaN</td>\n",
       "      <td>NaN</td>\n",
       "      <td>...</td>\n",
       "      <td>-3.0</td>\n",
       "      <td>-3.0</td>\n",
       "      <td>NaN</td>\n",
       "      <td>NaN</td>\n",
       "      <td>NaN</td>\n",
       "      <td>NaN</td>\n",
       "      <td>NaN</td>\n",
       "      <td>NaN</td>\n",
       "      <td>NaN</td>\n",
       "      <td>True</td>\n",
       "    </tr>\n",
       "    <tr>\n",
       "      <td>1209</td>\n",
       "      <td>0002000001698</td>\n",
       "      <td>http://world-en.openfoodfacts.org/product/0002...</td>\n",
       "      <td>kiliweb</td>\n",
       "      <td>1549132328</td>\n",
       "      <td>2019-02-02T18:32:08Z</td>\n",
       "      <td>1552569293</td>\n",
       "      <td>2019-03-14T13:14:53Z</td>\n",
       "      <td>Yaourt au lait de brebis bio Nature</td>\n",
       "      <td>NaN</td>\n",
       "      <td>NaN</td>\n",
       "      <td>...</td>\n",
       "      <td>NaN</td>\n",
       "      <td>NaN</td>\n",
       "      <td>NaN</td>\n",
       "      <td>NaN</td>\n",
       "      <td>NaN</td>\n",
       "      <td>NaN</td>\n",
       "      <td>NaN</td>\n",
       "      <td>NaN</td>\n",
       "      <td>NaN</td>\n",
       "      <td>True</td>\n",
       "    </tr>\n",
       "  </tbody>\n",
       "</table>\n",
       "<p>10 rows × 176 columns</p>\n",
       "</div>"
      ],
      "text/plain": [
       "               code                                                url  \\\n",
       "48    0000000005005  http://world-en.openfoodfacts.org/product/0000...   \n",
       "313   0000000491228  http://world-en.openfoodfacts.org/product/0000...   \n",
       "748   0000405017511  http://world-en.openfoodfacts.org/product/0000...   \n",
       "983   0000939333330  http://world-en.openfoodfacts.org/product/0000...   \n",
       "1054       00011747  http://world-en.openfoodfacts.org/product/0001...   \n",
       "1063  0001200001217  http://world-en.openfoodfacts.org/product/0001...   \n",
       "1089       00013029  http://world-en.openfoodfacts.org/product/0001...   \n",
       "1192  0002000000707  http://world-en.openfoodfacts.org/product/0002...   \n",
       "1193  0002000000714  http://world-en.openfoodfacts.org/product/0002...   \n",
       "1209  0002000001698  http://world-en.openfoodfacts.org/product/0002...   \n",
       "\n",
       "              creator   created_t      created_datetime  last_modified_t  \\\n",
       "48            kiliweb  1521663684  2018-03-21T20:21:24Z       1545934272   \n",
       "313           kiliweb  1543690964  2018-12-01T19:02:44Z       1543692731   \n",
       "748           kiliweb  1551706268  2019-03-04T13:31:08Z       1552159083   \n",
       "983            emoups  1569696676  2019-09-28T18:51:16Z       1569697074   \n",
       "1054         teolemon  1424634361  2015-02-22T19:46:01Z       1561464979   \n",
       "1063  date-limite-app  1534008219  2018-08-11T17:23:39Z       1545929001   \n",
       "1089          beniben  1494672859  2017-05-13T10:54:19Z       1494674596   \n",
       "1192          kiliweb  1536492887  2018-09-09T11:34:47Z       1569853724   \n",
       "1193          kiliweb  1518439760  2018-02-12T12:49:20Z       1552560002   \n",
       "1209          kiliweb  1549132328  2019-02-02T18:32:08Z       1552569293   \n",
       "\n",
       "     last_modified_datetime                            product_name  \\\n",
       "48     2018-12-27T18:11:12Z                               Abondance   \n",
       "313    2018-12-01T19:32:11Z                  Entremets Crème Brulée   \n",
       "748    2019-03-09T19:18:03Z                       Chaource lait cru   \n",
       "983    2019-09-28T18:57:54Z                           creme fraiche   \n",
       "1054   2019-06-25T12:16:19Z  Triple Belgian Chocolaté Chunk Cookies   \n",
       "1063   2018-12-27T16:43:21Z                                   comte   \n",
       "1089   2017-05-13T11:23:16Z                                 Cheddar   \n",
       "1192   2019-09-30T14:28:44Z                  Camenbert de Normandie   \n",
       "1193   2019-03-14T10:40:02Z                    Yaourt nature brebis   \n",
       "1209   2019-03-14T13:14:53Z     Yaourt au lait de brebis bio Nature   \n",
       "\n",
       "             generic_name                 quantity  ...  \\\n",
       "48                    NaN                      NaN  ...   \n",
       "313                   NaN                     20 g  ...   \n",
       "748                   NaN                      NaN  ...   \n",
       "983                   NaN              213g, 7.5OZ  ...   \n",
       "1054                  NaN                  225 g e  ...   \n",
       "1063                  NaN                      NaN  ...   \n",
       "1089  Cheddar en tranches  7.788 kg (6 * 1,298 kg)  ...   \n",
       "1192                  NaN                      NaN  ...   \n",
       "1193                  NaN                      NaN  ...   \n",
       "1209                  NaN                      NaN  ...   \n",
       "\n",
       "     nutrition-score-fr_100g nutrition-score-uk_100g glycemic-index_100g  \\\n",
       "48                      14.0                    19.0                 NaN   \n",
       "313                      2.0                     2.0                 NaN   \n",
       "748                      NaN                     NaN                 NaN   \n",
       "983                     14.0                    14.0                 NaN   \n",
       "1054                    23.0                    23.0                 NaN   \n",
       "1063                     NaN                     NaN                 NaN   \n",
       "1089                     NaN                     NaN                 NaN   \n",
       "1192                    16.0                    21.0                 NaN   \n",
       "1193                    -3.0                    -3.0                 NaN   \n",
       "1209                     NaN                     NaN                 NaN   \n",
       "\n",
       "     water-hardness_100g choline_100g phylloquinone_100g beta-glucan_100g  \\\n",
       "48                   NaN          NaN                NaN              NaN   \n",
       "313                  NaN          NaN                NaN              NaN   \n",
       "748                  NaN          NaN                NaN              NaN   \n",
       "983                  NaN          NaN                NaN              NaN   \n",
       "1054                 NaN          NaN                NaN              NaN   \n",
       "1063                 NaN          NaN                NaN              NaN   \n",
       "1089                 NaN          NaN                NaN              NaN   \n",
       "1192                 NaN          NaN                NaN              NaN   \n",
       "1193                 NaN          NaN                NaN              NaN   \n",
       "1209                 NaN          NaN                NaN              NaN   \n",
       "\n",
       "     inositol_100g carnitine_100g    bio  \n",
       "48             NaN            NaN  False  \n",
       "313            NaN            NaN  False  \n",
       "748            NaN            NaN  False  \n",
       "983            NaN            NaN  False  \n",
       "1054           NaN            NaN  False  \n",
       "1063           NaN            NaN  False  \n",
       "1089           NaN            NaN  False  \n",
       "1192           NaN            NaN  False  \n",
       "1193           NaN            NaN   True  \n",
       "1209           NaN            NaN   True  \n",
       "\n",
       "[10 rows x 176 columns]"
      ]
     },
     "execution_count": 11,
     "metadata": {},
     "output_type": "execute_result"
    }
   ],
   "source": [
    "dairy_kw = ['dairies','milk','cheese']\n",
    "dairy_df = find_products_from_category(food_facts_df, categories_df, category_keywords=dairy_kw)\n",
    "print('There are {} dairy products.'.format(dairy_df.shape[0]))\n",
    "dairy_df.head(10)"
   ]
  },
  {
   "cell_type": "markdown",
   "metadata": {},
   "source": [
    "### Choice of categories\n",
    "\n",
    "There are several possible choice of categories in which we can split the products. For instance, the products could be selected and grouped based on their type, following the food pyramid:\n",
    "\n",
    "<img src=\"images/Food_pyramid.gif\">\n",
    "\n",
    "However, this splitting would yield highly unbalanced categories, and we would not produce granular categories.\n",
    "\n",
    "Instead, we decided to choose a set of categories and sub-categories drawing inspiration from the [Ciqual dataset](https://www.data.gouv.fr/en/datasets/table-de-composition-nutritionnelle-des-aliments-ciqual/) that we investigated during milestone 2. The food products are separated in 3 levels of categories, and we produced the following categories based on it. As we have products in english as well as in french, we provide the french translation of the subcategory to search as well in this languages."
   ]
  },
  {
   "cell_type": "code",
   "execution_count": 12,
   "metadata": {
    "ExecuteTime": {
     "end_time": "2019-12-15T10:36:19.859945Z",
     "start_time": "2019-12-15T10:36:19.828698Z"
    }
   },
   "outputs": [],
   "source": [
    "categories = \\\n",
    "{\n",
    "    'meat, fish, egg':\n",
    "    {\n",
    "        'meat': 'viande',\n",
    "        'fish': 'poisson',\n",
    "        'egg': 'oeuf',\n",
    "    },\n",
    "    \n",
    "    # TODO: check : Not enough data in openfoodfact from fresh products as there is mostly processed food\n",
    "    'fruit, vegetable':\n",
    "    {\n",
    "        'fruit': 'fruit',\n",
    "        'vegetable': 'legume',\n",
    "        'legume': 'Legumineuse',\n",
    "        'seed': 'graine',\n",
    "    },\n",
    "    \n",
    "    'cereal': # Cereal-based products\n",
    "    {\n",
    "        'pasta': 'pate',\n",
    "        'rice': 'riz',\n",
    "        'flour': 'farine',\n",
    "        'bread': 'pain',\n",
    "        'biscuit': 'biscuit',\n",
    "        #'cereals': 'cereales' # Breakfast\n",
    "    },\n",
    "    \n",
    "    'drink':\n",
    "    {\n",
    "        'water': 'eau',\n",
    "        'juice': 'jus',\n",
    "        'soda': 'boisson gazeuse',\n",
    "        'alcohol': 'alcool',\n",
    "    },\n",
    "    \n",
    "    'dairy':\n",
    "    {\n",
    "        'milk': 'lait',\n",
    "        'cheese': 'fromage',\n",
    "        'yoghurt': 'yaourt',\n",
    "        'cream': 'creme',\n",
    "    },\n",
    "    \n",
    "    'cooking ingredient':\n",
    "    {\n",
    "        'salsa': 'sauce',\n",
    "        'spice': 'epice',\n",
    "        'salt': 'sel',\n",
    "        'herb': 'herbe',\n",
    "        'condiment': 'condiment',\n",
    "    },\n",
    "    \n",
    "    'fat':\n",
    "    {\n",
    "        'oil': 'huile',\n",
    "        'butter': 'beurre',\n",
    "    },\n",
    "    \n",
    "    'sugary product':\n",
    "    {\n",
    "        'sugar': 'sucre',\n",
    "        'jam': 'confiture',\n",
    "        'candy': 'bonbon',\n",
    "        'chocolate': 'chocolat',\n",
    "        'ice cream': 'glace',\n",
    "    },\n",
    "}"
   ]
  },
  {
   "cell_type": "markdown",
   "metadata": {},
   "source": [
    "We have quite a few categories, but we now need to find keywords associated to each of them. We could create this list manually but this can prove to be quite tedious and time-consuming. Instead we will harness the power of web-scraping to get such lists automatically."
   ]
  },
  {
   "cell_type": "markdown",
   "metadata": {},
   "source": [
    "### Web scraping the category keywords\n",
    "\n",
    "Wikipedia has pages that list food by categories, but the formatting not homogenous and we would not go faster if we needed to implement a robust scrapping method.\n",
    "\n",
    "Instead, what we can do is use the name of our categories and find their synonyms using [synonymy](http://www.synonymy.com/synonym.php?word=bob) for instance. For each keywords of categories, we can fetch a list of synonym that we cross-reference with the actual categories in our dataset (obtained previously with CountVectorizer). Finally, we manually filter out the words that are too generic or irrelevant.\n",
    "\n",
    "We will use BeautifulSoup for web scraping the results.\n",
    "\n",
    "> **Note**: You can directly jump to [this cell](#json_cell) and load the generated json isntead of scrapping again the data. "
   ]
  },
  {
   "cell_type": "code",
   "execution_count": 13,
   "metadata": {
    "ExecuteTime": {
     "end_time": "2019-12-15T10:36:20.044848Z",
     "start_time": "2019-12-15T10:36:19.859945Z"
    },
    "jupyter": {
     "outputs_hidden": true
    }
   },
   "outputs": [],
   "source": [
    "import requests\n",
    "from bs4 import BeautifulSoup"
   ]
  },
  {
   "cell_type": "markdown",
   "metadata": {},
   "source": [
    "Let's define a function to get the webpage associated to the word of which we want to know the synonyms, and fetch the results. We chose this website because it is easy to scrap, and it has also a french version which uses the same HTML layout !"
   ]
  },
  {
   "cell_type": "code",
   "execution_count": 14,
   "metadata": {
    "ExecuteTime": {
     "end_time": "2019-12-15T10:36:20.060430Z",
     "start_time": "2019-12-15T10:36:20.044848Z"
    }
   },
   "outputs": [],
   "source": [
    "def get_synonyms(word, language='en'):\n",
    "    \"\"\" Fetch the list of synonyms by scrapping the website http://www.synonymy.com, \n",
    "    or its French version http://www.synonymes.com (which is exactly the same).\n",
    "    \n",
    "    Args:\n",
    "        word: Word for which to fetch the synonyms\n",
    "        language: 'en' or 'fr'\n",
    "        \n",
    "    Return:\n",
    "        A list of string which are the synonyms.\n",
    "    \n",
    "    \"\"\"\n",
    "    BASE_URL_EN = 'http://www.synonymy.com/synonym.php?word={word}'\n",
    "    BASE_URL_FR = 'http://www.synonymes.com/synonyme.php?mot={word}'\n",
    "    \n",
    "    # Build url\n",
    "    if language == 'en':\n",
    "        url = BASE_URL_EN.format(word=word)\n",
    "    elif language == 'fr':\n",
    "        url = BASE_URL_FR.format(word=word)\n",
    "\n",
    "    # Get web page for specified word\n",
    "    r = requests.get(url)\n",
    "    soup = BeautifulSoup(r.text, 'html.parser')\n",
    "    \n",
    "    synonyms = []\n",
    "    \n",
    "    # The synonyms on this website are in 'div' with class 'defbox'\n",
    "    for defbox in soup.find_all('div', {'class': 'defbox'}):\n",
    "        synonyms_links = defbox.find_all('a')\n",
    "        synonyms.extend([s.text for s in synonyms_links])\n",
    "        \n",
    "    # Remove dupplicates\n",
    "    synonyms = list(set(synonyms))\n",
    "    \n",
    "    # Remove empty strings ('')\n",
    "    synonyms = [s for s in synonyms if s]\n",
    "    \n",
    "    # Remove accents\n",
    "    synonyms = strip_accents(synonyms)\n",
    "    \n",
    "    return synonyms"
   ]
  },
  {
   "cell_type": "markdown",
   "metadata": {},
   "source": [
    "Let's see how it works:"
   ]
  },
  {
   "cell_type": "code",
   "execution_count": 15,
   "metadata": {
    "ExecuteTime": {
     "end_time": "2019-12-15T10:36:20.399365Z",
     "start_time": "2019-12-15T10:36:20.060430Z"
    }
   },
   "outputs": [
    {
     "name": "stdout",
     "output_type": "stream",
     "text": [
      "english: ['aftermath', 'capsule', 'effect', 'mature', 'nut', 'outcome', 'pay', 'pod', 'product', 'seed']\n",
      "french: ['agrume', 'avantage', 'baie', 'benefice', 'conclusion', 'consequence', 'de', 'drupe', 'effet', 'fruits', 'germe', 'graine', 'mer', 'moisson', 'nature', 'pepins', 'produit', 'profit', 'rapport', 'recompense', 'resultat', 'rouges', 'secs']\n"
     ]
    }
   ],
   "source": [
    "print('english:', get_synonyms('fruit', 'en'))\n",
    "print('french:', get_synonyms('fruit', 'fr'))"
   ]
  },
  {
   "cell_type": "markdown",
   "metadata": {},
   "source": [
    "Now, we have a way to find keywords related to our categories. For each subcategory, we can fetch the synonyms in english and in french. We keep only the synonyms that are present in the list of keywords of categories that we had extracted from the Open Food Facts dataset:"
   ]
  },
  {
   "cell_type": "code",
   "execution_count": 16,
   "metadata": {
    "ExecuteTime": {
     "end_time": "2019-12-15T10:37:25.375349Z",
     "start_time": "2019-12-15T10:36:20.399365Z"
    },
    "jupyter": {
     "outputs_hidden": true
    }
   },
   "outputs": [
    {
     "name": "stdout",
     "output_type": "stream",
     "text": [
      "meat, fish, egg\n",
      "\t meat\n",
      "\t\t ['meat', 'viande', 'volaille', 'meal', 'beef', 'porc', 'lamb', 'lean', 'short', 'agneau', 'food', 'turkey', 'veau']\n",
      "\t fish\n",
      "\t\t ['fish', 'poisson', 'poisson', 'peche', 'fish', 'seafood']\n",
      "\t egg\n",
      "\t\t ['egg', 'oeuf']\n",
      "fruit, vegetable\n",
      "\t fruit\n",
      "\t\t ['fruit', 'seed', 'rouges', 'secs', 'mer', 'produit', 'nature', 'nut', 'fruits']\n",
      "\t vegetable\n",
      "\t\t ['vegetable', 'legume', 'plant', 'organic']\n",
      "\t legume\n",
      "\t\t ['legume', 'Legumineuse']\n",
      "\t seed\n",
      "\t\t ['seed', 'graine', 'corn', 'plant', 'nut', 'grain', 'berry']\n",
      "cereal\n",
      "\t pasta\n",
      "\t\t ['pasta', 'pate', 'terrine', 'vent', 'bloc', 'creme', 'paste', 'foie', 'gateau']\n",
      "\t rice\n",
      "\t\t ['rice', 'riz', 'riz', 'eau', 'vie']\n",
      "\t flour\n",
      "\t\t ['flour', 'farine', 'farine']\n",
      "\t bread\n",
      "\t\t ['bread', 'pain', 'meal', 'pain', 'lait', 'meals', 'campagne', 'petit', 'grain', 'croute', 'food']\n",
      "\t biscuit\n",
      "\t\t ['biscuit']\n",
      "drink\n",
      "\t water\n",
      "\t\t ['water', 'eau', 'ice', 'jus', 'liquid', 'boisson']\n",
      "\t juice\n",
      "\t\t ['juice', 'jus', 'juice', 'sauce', 'liqueur', 'drink', 'eau', 'cafe', 'jus', 'vie', 'fruit', 'boisson']\n",
      "\t soda\n",
      "\t\t ['soda', 'boisson gazeuse', 'soft', 'drink', 'cocktail']\n",
      "\t alcohol\n",
      "\t\t ['alcohol', 'alcool', 'wine', 'spirits']\n",
      "dairy\n",
      "\t milk\n",
      "\t\t ['milk', 'lait', 'cream', 'liquid', 'lit']\n",
      "\t cheese\n",
      "\t\t ['cheese', 'fromage']\n",
      "\t yoghurt\n",
      "\t\t ['yoghurt', 'yaourt']\n",
      "\t cream\n",
      "\t\t ['cream', 'creme', 'gratin']\n",
      "cooking ingredient\n",
      "\t salsa\n",
      "\t\t ['salsa', 'sauce', 'coulis']\n",
      "\t spice\n",
      "\t\t ['spice', 'epice', 'sale', 'extract', 'pepper', 'poivre']\n",
      "\t salt\n",
      "\t\t ['salt', 'sel', 'piment', 'gout', 'spice', 'salted', 'salt', 'preserved', 'marinated', 'pickled']\n",
      "\t herb\n",
      "\t\t ['herb', 'herbe', 'animal', 'nature', 'pre', 'marie']\n",
      "\t condiment\n",
      "\t\t ['condiment']\n",
      "fat\n",
      "\t oil\n",
      "\t\t ['oil', 'huile', 'gras', 'oleagineux', 'legume', 'oil']\n",
      "\t butter\n",
      "\t\t ['butter', 'beurre']\n",
      "sugary product\n",
      "\t sugar\n",
      "\t\t ['sugar', 'sucre', 'lactose', 'doux', 'caramel']\n",
      "\t jam\n",
      "\t\t ['jam', 'confiture']\n",
      "\t candy\n",
      "\t\t ['candy', 'bonbon']\n",
      "\t chocolate\n",
      "\t\t ['chocolate', 'chocolat']\n",
      "\t ice cream\n",
      "\t\t ['ice cream', 'glace', 'ice', 'creme', 'nature', 'cream', 'liegeois']\n"
     ]
    }
   ],
   "source": [
    "# Build the list of keywords for the sub categories\n",
    "category_keywords = copy.deepcopy(categories)\n",
    "\n",
    "for category in categories:\n",
    "    print(category)\n",
    "    for english, french in categories[category].items():\n",
    "        \n",
    "        # Fetch synonyms\n",
    "        synonyms = get_synonyms(english, 'en')\n",
    "        synonyms.extend(get_synonyms(french, 'fr'))\n",
    "        \n",
    "        # Remove dupplicates\n",
    "        synonyms = list(set(synonyms))\n",
    "        \n",
    "        # Keep only categories in Open Food Facts\n",
    "        synonyms = [s for s in synonyms if s in words_occurencies_df.word.values]\n",
    "        \n",
    "        # Always include name of sub category\n",
    "        if french != english:\n",
    "            synonyms.insert(0, french)\n",
    "        synonyms.insert(0, english)\n",
    "        \n",
    "        category_keywords[category][english] = synonyms\n",
    "        \n",
    "        print('\\t', english)\n",
    "        print('\\t\\t', category_keywords[category][english])"
   ]
  },
  {
   "cell_type": "markdown",
   "metadata": {},
   "source": [
    "As you can see the keywords are quite good, but there are still a few irrelevant keywords (for instance: `jam` is associated with the words `fix` and `box` which are not synonyms in the case of the food.\n",
    "\n",
    "There are few keywords so that we can manually edit the results and remove the irrelevant or too generic keywords; we can also add some if we feel like there are some missing."
   ]
  },
  {
   "cell_type": "code",
   "execution_count": 17,
   "metadata": {
    "ExecuteTime": {
     "end_time": "2019-12-15T10:37:25.406017Z",
     "start_time": "2019-12-15T10:37:25.375349Z"
    }
   },
   "outputs": [],
   "source": [
    "# Save as json for manual editing\n",
    "with open('data/category_keywords.json', 'w') as outfile:\n",
    "    json.dump(category_keywords, outfile, indent=2)"
   ]
  },
  {
   "cell_type": "markdown",
   "metadata": {},
   "source": [
    "<a id='json_cell'></a>\n",
    "Here is the final version after manual editing:"
   ]
  },
  {
   "cell_type": "code",
   "execution_count": 18,
   "metadata": {
    "ExecuteTime": {
     "end_time": "2019-12-15T10:37:25.437186Z",
     "start_time": "2019-12-15T10:37:25.406017Z"
    }
   },
   "outputs": [
    {
     "name": "stdout",
     "output_type": "stream",
     "text": [
      "{'cereal': {'biscuit': ['biscuit'],\n",
      "            'bread': ['bread', 'pain', 'croute'],\n",
      "            'flour': ['flour', 'farine'],\n",
      "            'pasta': ['pasta', 'pate'],\n",
      "            'rice': ['rice', 'riz']},\n",
      " 'cooking ingredient': {'condiment': ['condiment',\n",
      "                                      'seasoning',\n",
      "                                      'flavouring',\n",
      "                                      'assaisonnement'],\n",
      "                        'herb': ['herb', 'herbe'],\n",
      "                        'salsa': ['salsa', 'sauce'],\n",
      "                        'salt': ['salt', 'sel', 'sodium'],\n",
      "                        'spice': ['spice',\n",
      "                                  'epice',\n",
      "                                  'seasoning',\n",
      "                                  'assaisonnement',\n",
      "                                  'zest',\n",
      "                                  'pepper',\n",
      "                                  'piment']},\n",
      " 'dairy': {'cheese': ['cheese', 'fromage'],\n",
      "           'cream': ['cream', 'creme'],\n",
      "           'milk': ['milk', 'lait'],\n",
      "           'yoghurt': ['yoghurt', 'yaourt']},\n",
      " 'drink': {'alcohol': ['alcohol',\n",
      "                       'alcool',\n",
      "                       'wine',\n",
      "                       'liquor',\n",
      "                       'spirits',\n",
      "                       'beer'],\n",
      "           'juice': ['juice', 'jus'],\n",
      "           'soda': ['soda', 'boisson gazeuse'],\n",
      "           'water': ['water', 'eau']},\n",
      " 'fat': {'butter': ['butter', 'beurre'], 'oil': ['oil', 'huile', 'graisse']},\n",
      " 'fruit, vegetable': {'fruit': ['fruit',\n",
      "                                'baie',\n",
      "                                'graine',\n",
      "                                'nut',\n",
      "                                'germe',\n",
      "                                'seed'],\n",
      "                      'legume': ['legume', 'Legumineuse'],\n",
      "                      'seed': ['seed',\n",
      "                               'graine',\n",
      "                               'nut',\n",
      "                               'germe',\n",
      "                               'corn',\n",
      "                               'berry',\n",
      "                               'grain'],\n",
      "                      'vegetable': ['vegetable', 'legume', 'organic', 'plant']},\n",
      " 'meat, fish, egg': {'egg': ['egg', 'oeuf'],\n",
      "                     'fish': ['fish',\n",
      "                              'poisson',\n",
      "                              'seafood',\n",
      "                              'fish',\n",
      "                              'friture',\n",
      "                              'fruit de mer'],\n",
      "                     'meat': ['meat',\n",
      "                              'viande',\n",
      "                              'gibier',\n",
      "                              'beef',\n",
      "                              'veau',\n",
      "                              'chair',\n",
      "                              'volaille',\n",
      "                              'lamb',\n",
      "                              'meal',\n",
      "                              'agneau',\n",
      "                              'turkey',\n",
      "                              'porc',\n",
      "                              'mouton']},\n",
      " 'sugary product': {'candy': ['candy',\n",
      "                              'bonbon',\n",
      "                              'bonbon',\n",
      "                              'caramel',\n",
      "                              'sucrerie',\n",
      "                              'confiserie',\n",
      "                              'friandise'],\n",
      "                    'chocolate': ['chocolate', 'chocolat'],\n",
      "                    'ice cream': ['ice cream', 'glace', 'sorbet', 'gelato'],\n",
      "                    'jam': ['jam', 'confiture'],\n",
      "                    'sugar': ['sugar', 'sucre', 'cassonade']}}\n"
     ]
    }
   ],
   "source": [
    "with open('data/category_keywords_edited.json', 'r') as file:\n",
    "    category_keywords = json.load(file)\n",
    "\n",
    "pprint.pprint(category_keywords)"
   ]
  },
  {
   "cell_type": "markdown",
   "metadata": {},
   "source": [
    "With this final list of keywords, we can easily fetch the products that belong to a given sub-category."
   ]
  },
  {
   "cell_type": "markdown",
   "metadata": {},
   "source": [
    "### Categorical dataframes\n",
    "\n",
    "We can now split the data in categories. Please note that the **categories may overlap !** Indeed, we merely search by keywords and do not impose any constraints on the obtained set of products. This is fine as long as we keep this fact in mind.\n",
    "\n",
    "Let's fill in a dictionary that will contain a dataframe for each subcategory. For the parent categories, we would simply need to merge the children subcategory dataframes."
   ]
  },
  {
   "cell_type": "code",
   "execution_count": 19,
   "metadata": {
    "ExecuteTime": {
     "end_time": "2019-12-15T10:37:45.464732Z",
     "start_time": "2019-12-15T10:37:25.437186Z"
    }
   },
   "outputs": [
    {
     "name": "stdout",
     "output_type": "stream",
     "text": [
      "meat, fish, egg\n",
      "\t meat\n",
      "\t\t number of products: 62654\n",
      "\t fish\n",
      "\t\t number of products: 17469\n",
      "\t egg\n",
      "\t\t number of products: 6289\n",
      "\t total products: 86412\n",
      "fruit, vegetable\n",
      "\t fruit\n",
      "\t\t number of products: 67327\n",
      "\t vegetable\n",
      "\t\t number of products: 116011\n",
      "\t legume\n",
      "\t\t number of products: 8254\n",
      "\t seed\n",
      "\t\t number of products: 29472\n",
      "\t total products: 221064\n",
      "cereal\n",
      "\t pasta\n",
      "\t\t number of products: 13921\n",
      "\t rice\n",
      "\t\t number of products: 7814\n",
      "\t flour\n",
      "\t\t number of products: 1722\n",
      "\t bread\n",
      "\t\t number of products: 12917\n",
      "\t biscuit\n",
      "\t\t number of products: 22497\n",
      "\t total products: 58871\n",
      "drink\n",
      "\t water\n",
      "\t\t number of products: 6962\n",
      "\t juice\n",
      "\t\t number of products: 9166\n",
      "\t soda\n",
      "\t\t number of products: 3545\n",
      "\t alcohol\n",
      "\t\t number of products: 41878\n",
      "\t total products: 61551\n",
      "dairy\n",
      "\t milk\n",
      "\t\t number of products: 43469\n",
      "\t cheese\n",
      "\t\t number of products: 21628\n",
      "\t yoghurt\n",
      "\t\t number of products: 1149\n",
      "\t cream\n",
      "\t\t number of products: 10794\n",
      "\t total products: 77040\n",
      "cooking ingredient\n",
      "\t salsa\n",
      "\t\t number of products: 18407\n",
      "\t spice\n",
      "\t\t number of products: 3851\n",
      "\t salt\n",
      "\t\t number of products: 19198\n",
      "\t herb\n",
      "\t\t number of products: 3855\n",
      "\t condiment\n",
      "\t\t number of products: 8783\n",
      "\t total products: 54094\n",
      "fat\n",
      "\t oil\n",
      "\t\t number of products: 10896\n",
      "\t butter\n",
      "\t\t number of products: 4786\n",
      "\t total products: 15682\n",
      "sugary product\n",
      "\t sugar\n",
      "\t\t number of products: 3029\n",
      "\t jam\n",
      "\t\t number of products: 8123\n",
      "\t candy\n",
      "\t\t number of products: 4284\n",
      "\t chocolate\n",
      "\t\t number of products: 23679\n",
      "\t ice cream\n",
      "\t\t number of products: 4860\n",
      "\t total products: 43975\n"
     ]
    }
   ],
   "source": [
    "sub_categories_df_dict = copy.deepcopy(categories)\n",
    "\n",
    "parent_categories_df_dict = {}\n",
    "\n",
    "for category in sub_categories_df_dict:\n",
    "    print(category)\n",
    "    \n",
    "    for subcategory in sub_categories_df_dict[category]:\n",
    "        \n",
    "        # Get keywords associated to the subcategory\n",
    "        subcategory_kw = category_keywords[category][subcategory]\n",
    "\n",
    "        # Get dataframe of products in the subcategory\n",
    "        sub_categories_df_dict[category][subcategory] = \\\n",
    "                                find_products_from_category(food_facts_df, categories_df, \n",
    "                                                            category_keywords=subcategory_kw)\n",
    "        \n",
    "        print('\\t', subcategory)\n",
    "        print('\\t\\t number of products:', sub_categories_df_dict[category][subcategory].shape[0])\n",
    "    \n",
    "    parent_categories_df_dict[category] = pd.concat([df for df in sub_categories_df_dict[category].values()])\n",
    "    print('\\t total products:', parent_categories_df_dict[category].shape[0])"
   ]
  },
  {
   "cell_type": "markdown",
   "metadata": {},
   "source": [
    "**TODO: remove haha**\n",
    "\n",
    "**My beloved team members you can now use the dataframe of each sub categories as follows:**"
   ]
  },
  {
   "cell_type": "code",
   "execution_count": 20,
   "metadata": {
    "ExecuteTime": {
     "end_time": "2019-12-15T10:37:45.527207Z",
     "start_time": "2019-12-15T10:37:45.464732Z"
    }
   },
   "outputs": [
    {
     "data": {
      "text/html": [
       "<div>\n",
       "<style scoped>\n",
       "    .dataframe tbody tr th:only-of-type {\n",
       "        vertical-align: middle;\n",
       "    }\n",
       "\n",
       "    .dataframe tbody tr th {\n",
       "        vertical-align: top;\n",
       "    }\n",
       "\n",
       "    .dataframe thead th {\n",
       "        text-align: right;\n",
       "    }\n",
       "</style>\n",
       "<table border=\"1\" class=\"dataframe\">\n",
       "  <thead>\n",
       "    <tr style=\"text-align: right;\">\n",
       "      <th></th>\n",
       "      <th>code</th>\n",
       "      <th>url</th>\n",
       "      <th>creator</th>\n",
       "      <th>created_t</th>\n",
       "      <th>created_datetime</th>\n",
       "      <th>last_modified_t</th>\n",
       "      <th>last_modified_datetime</th>\n",
       "      <th>product_name</th>\n",
       "      <th>generic_name</th>\n",
       "      <th>quantity</th>\n",
       "      <th>...</th>\n",
       "      <th>nutrition-score-fr_100g</th>\n",
       "      <th>nutrition-score-uk_100g</th>\n",
       "      <th>glycemic-index_100g</th>\n",
       "      <th>water-hardness_100g</th>\n",
       "      <th>choline_100g</th>\n",
       "      <th>phylloquinone_100g</th>\n",
       "      <th>beta-glucan_100g</th>\n",
       "      <th>inositol_100g</th>\n",
       "      <th>carnitine_100g</th>\n",
       "      <th>bio</th>\n",
       "    </tr>\n",
       "  </thead>\n",
       "  <tbody>\n",
       "    <tr>\n",
       "      <td>392</td>\n",
       "      <td>0000010206515</td>\n",
       "      <td>http://world-en.openfoodfacts.org/product/0000...</td>\n",
       "      <td>kiliweb</td>\n",
       "      <td>1511122551</td>\n",
       "      <td>2017-11-19T20:15:51Z</td>\n",
       "      <td>1511124271</td>\n",
       "      <td>2017-11-19T20:44:31Z</td>\n",
       "      <td>Pâte à Sucre</td>\n",
       "      <td>Pâte à Sucre - Fondant</td>\n",
       "      <td>250 g</td>\n",
       "      <td>...</td>\n",
       "      <td>18.0</td>\n",
       "      <td>18.0</td>\n",
       "      <td>NaN</td>\n",
       "      <td>NaN</td>\n",
       "      <td>NaN</td>\n",
       "      <td>NaN</td>\n",
       "      <td>NaN</td>\n",
       "      <td>NaN</td>\n",
       "      <td>NaN</td>\n",
       "      <td>False</td>\n",
       "    </tr>\n",
       "    <tr>\n",
       "      <td>406</td>\n",
       "      <td>0000010216477</td>\n",
       "      <td>http://world-en.openfoodfacts.org/product/0000...</td>\n",
       "      <td>kiliweb</td>\n",
       "      <td>1530396566</td>\n",
       "      <td>2018-06-30T22:09:26Z</td>\n",
       "      <td>1561464028</td>\n",
       "      <td>2019-06-25T12:00:28Z</td>\n",
       "      <td>Pate a sucre</td>\n",
       "      <td>NaN</td>\n",
       "      <td>NaN</td>\n",
       "      <td>...</td>\n",
       "      <td>17.0</td>\n",
       "      <td>17.0</td>\n",
       "      <td>NaN</td>\n",
       "      <td>NaN</td>\n",
       "      <td>NaN</td>\n",
       "      <td>NaN</td>\n",
       "      <td>NaN</td>\n",
       "      <td>NaN</td>\n",
       "      <td>NaN</td>\n",
       "      <td>False</td>\n",
       "    </tr>\n",
       "    <tr>\n",
       "      <td>407</td>\n",
       "      <td>0000010216491</td>\n",
       "      <td>http://world-en.openfoodfacts.org/product/0000...</td>\n",
       "      <td>kiliweb</td>\n",
       "      <td>1524386529</td>\n",
       "      <td>2018-04-22T08:42:09Z</td>\n",
       "      <td>1542756116</td>\n",
       "      <td>2018-11-20T23:21:56Z</td>\n",
       "      <td>Pâte à sucre</td>\n",
       "      <td>NaN</td>\n",
       "      <td>NaN</td>\n",
       "      <td>...</td>\n",
       "      <td>17.0</td>\n",
       "      <td>17.0</td>\n",
       "      <td>NaN</td>\n",
       "      <td>NaN</td>\n",
       "      <td>NaN</td>\n",
       "      <td>NaN</td>\n",
       "      <td>NaN</td>\n",
       "      <td>NaN</td>\n",
       "      <td>NaN</td>\n",
       "      <td>False</td>\n",
       "    </tr>\n",
       "    <tr>\n",
       "      <td>502</td>\n",
       "      <td>0000030053014</td>\n",
       "      <td>http://world-en.openfoodfacts.org/product/0000...</td>\n",
       "      <td>date-limite-app</td>\n",
       "      <td>1430153513</td>\n",
       "      <td>2015-04-27T16:51:53Z</td>\n",
       "      <td>1543066400</td>\n",
       "      <td>2018-11-24T13:33:20Z</td>\n",
       "      <td>Pastille Vichy</td>\n",
       "      <td>Bonbon Vichy avec édulcorants, parfum menthe</td>\n",
       "      <td>19 g e</td>\n",
       "      <td>...</td>\n",
       "      <td>3.0</td>\n",
       "      <td>3.0</td>\n",
       "      <td>NaN</td>\n",
       "      <td>NaN</td>\n",
       "      <td>NaN</td>\n",
       "      <td>NaN</td>\n",
       "      <td>NaN</td>\n",
       "      <td>NaN</td>\n",
       "      <td>NaN</td>\n",
       "      <td>False</td>\n",
       "    </tr>\n",
       "    <tr>\n",
       "      <td>565</td>\n",
       "      <td>0000069029790</td>\n",
       "      <td>http://world-en.openfoodfacts.org/product/0000...</td>\n",
       "      <td>kiliweb</td>\n",
       "      <td>1524583040</td>\n",
       "      <td>2018-04-24T15:17:20Z</td>\n",
       "      <td>1561464325</td>\n",
       "      <td>2019-06-25T12:05:25Z</td>\n",
       "      <td>Gaufres de Bruxelles</td>\n",
       "      <td>NaN</td>\n",
       "      <td>NaN</td>\n",
       "      <td>...</td>\n",
       "      <td>2.0</td>\n",
       "      <td>2.0</td>\n",
       "      <td>NaN</td>\n",
       "      <td>NaN</td>\n",
       "      <td>NaN</td>\n",
       "      <td>NaN</td>\n",
       "      <td>NaN</td>\n",
       "      <td>NaN</td>\n",
       "      <td>NaN</td>\n",
       "      <td>False</td>\n",
       "    </tr>\n",
       "  </tbody>\n",
       "</table>\n",
       "<p>5 rows × 176 columns</p>\n",
       "</div>"
      ],
      "text/plain": [
       "              code                                                url  \\\n",
       "392  0000010206515  http://world-en.openfoodfacts.org/product/0000...   \n",
       "406  0000010216477  http://world-en.openfoodfacts.org/product/0000...   \n",
       "407  0000010216491  http://world-en.openfoodfacts.org/product/0000...   \n",
       "502  0000030053014  http://world-en.openfoodfacts.org/product/0000...   \n",
       "565  0000069029790  http://world-en.openfoodfacts.org/product/0000...   \n",
       "\n",
       "             creator   created_t      created_datetime  last_modified_t  \\\n",
       "392          kiliweb  1511122551  2017-11-19T20:15:51Z       1511124271   \n",
       "406          kiliweb  1530396566  2018-06-30T22:09:26Z       1561464028   \n",
       "407          kiliweb  1524386529  2018-04-22T08:42:09Z       1542756116   \n",
       "502  date-limite-app  1430153513  2015-04-27T16:51:53Z       1543066400   \n",
       "565          kiliweb  1524583040  2018-04-24T15:17:20Z       1561464325   \n",
       "\n",
       "    last_modified_datetime          product_name  \\\n",
       "392   2017-11-19T20:44:31Z          Pâte à Sucre   \n",
       "406   2019-06-25T12:00:28Z          Pate a sucre   \n",
       "407   2018-11-20T23:21:56Z          Pâte à sucre   \n",
       "502   2018-11-24T13:33:20Z        Pastille Vichy   \n",
       "565   2019-06-25T12:05:25Z  Gaufres de Bruxelles   \n",
       "\n",
       "                                     generic_name quantity  ...  \\\n",
       "392                        Pâte à Sucre - Fondant    250 g  ...   \n",
       "406                                           NaN      NaN  ...   \n",
       "407                                           NaN      NaN  ...   \n",
       "502  Bonbon Vichy avec édulcorants, parfum menthe   19 g e  ...   \n",
       "565                                           NaN      NaN  ...   \n",
       "\n",
       "    nutrition-score-fr_100g nutrition-score-uk_100g glycemic-index_100g  \\\n",
       "392                    18.0                    18.0                 NaN   \n",
       "406                    17.0                    17.0                 NaN   \n",
       "407                    17.0                    17.0                 NaN   \n",
       "502                     3.0                     3.0                 NaN   \n",
       "565                     2.0                     2.0                 NaN   \n",
       "\n",
       "    water-hardness_100g choline_100g phylloquinone_100g beta-glucan_100g  \\\n",
       "392                 NaN          NaN                NaN              NaN   \n",
       "406                 NaN          NaN                NaN              NaN   \n",
       "407                 NaN          NaN                NaN              NaN   \n",
       "502                 NaN          NaN                NaN              NaN   \n",
       "565                 NaN          NaN                NaN              NaN   \n",
       "\n",
       "    inositol_100g carnitine_100g    bio  \n",
       "392           NaN            NaN  False  \n",
       "406           NaN            NaN  False  \n",
       "407           NaN            NaN  False  \n",
       "502           NaN            NaN  False  \n",
       "565           NaN            NaN  False  \n",
       "\n",
       "[5 rows x 176 columns]"
      ]
     },
     "execution_count": 20,
     "metadata": {},
     "output_type": "execute_result"
    }
   ],
   "source": [
    "# For a subcategory\n",
    "sub_categories_df_dict['sugary product']['sugar'].head(5)\n",
    "\n",
    "# For a parent category\n",
    "parent_categories_df_dict['sugary product'].head(5)"
   ]
  },
  {
   "cell_type": "markdown",
   "metadata": {},
   "source": [
    "## Plot generation"
   ]
  },
  {
   "cell_type": "markdown",
   "metadata": {},
   "source": [
    "**TEAM:** Until we have a good altair plot, you can use the following snippet to plot by categories or sub categories:"
   ]
  },
  {
   "cell_type": "markdown",
   "metadata": {},
   "source": [
    "The following method plots for a given set of categories the specified score along with some statistics concerning the dataset:"
   ]
  },
  {
   "cell_type": "code",
   "execution_count": 21,
   "metadata": {},
   "outputs": [],
   "source": [
    "def plot_score_per_subcategory(df_dict, score_field = 'nutrition_grade_fr', categories = ['sugary product']):\n",
    "    '''\n",
    "    df_dict: \n",
    "        For main categories: \n",
    "            df = parent_categories_df_dict\n",
    "        For subcategories:\n",
    "            df = sub_categories_df_dict[\"category\"]\n",
    "    score_field: \n",
    "        'nutrition_grade_fr' | 'nova_group' | 'nutrition-score-uk_100g'\n",
    "    category: \n",
    "        list of categories\n",
    "    '''\n",
    "    \n",
    "    for i,category in enumerate(categories):\n",
    "        \n",
    "        # Extract the corresponding dataframe\n",
    "        df = df_dict[category]\n",
    "        \n",
    "        # Show statistics\n",
    "        n_bio, n_reg = len(df[df['bio']==True]), len(df)\n",
    "        print('Proportion of bio products: {0:.2f}% (bio: {bio}, regular: {reg})'.format(n_bio/n_reg*100,bio=n_bio,reg=n_reg))\n",
    "        \n",
    "        # Plot the nutrition score for the given category \n",
    "        plt.figure();\n",
    "        scores_df = pd.DataFrame([df[df['bio'] == True][score_field].value_counts(normalize=True).sort_index().rename('bio'),\n",
    "                     df[df['bio'] == False][score_field].value_counts(normalize=True).sort_index().rename('regular')])\n",
    "        scores_df = scores_df.transpose()\n",
    "        \n",
    "        if score_field == 'nutrition-score-uk_100g':\n",
    "            fs=(20,3)\n",
    "            scores_df.plot.area(color=['green', 'orange'], stacked=False, alpha=0.5, rot=0, figsize=fs);\n",
    "            #scores_df.plot(kind='bar', color=['green', 'orange'], rot=0, figsize=fs);\n",
    "        else:\n",
    "            fs = (10,3)\n",
    "            scores_df.plot(kind='bar', color=['green', 'orange'], rot=0, figsize=fs);\n",
    "        plt.title('[{}] ({})'.format(category,score_field));\n",
    "        plt.xlabel('Score');\n",
    "        plt.ylabel('Proportion');\n",
    "        plt.show();"
   ]
  },
  {
   "cell_type": "code",
   "execution_count": 22,
   "metadata": {},
   "outputs": [
    {
     "name": "stdout",
     "output_type": "stream",
     "text": [
      "Proportion of bio products: 7.13% (bio: 6160, regular: 86412)\n"
     ]
    },
    {
     "data": {
      "text/plain": [
       "<Figure size 432x288 with 0 Axes>"
      ]
     },
     "metadata": {},
     "output_type": "display_data"
    },
    {
     "data": {
      "image/png": "[encoded data removed]",
      "text/plain": [
       "<Figure size 720x216 with 1 Axes>"
      ]
     },
     "metadata": {
      "needs_background": "light"
     },
     "output_type": "display_data"
    },
    {
     "name": "stdout",
     "output_type": "stream",
     "text": [
      "Proportion of bio products: 16.40% (bio: 36249, regular: 221064)\n"
     ]
    },
    {
     "data": {
      "text/plain": [
       "<Figure size 432x288 with 0 Axes>"
      ]
     },
     "metadata": {},
     "output_type": "display_data"
    },
    {
     "data": {
      "image/png": "[encoded data removed]",
      "text/plain": [
       "<Figure size 720x216 with 1 Axes>"
      ]
     },
     "metadata": {
      "needs_background": "light"
     },
     "output_type": "display_data"
    },
    {
     "name": "stdout",
     "output_type": "stream",
     "text": [
      "Proportion of bio products: 11.81% (bio: 6951, regular: 58871)\n"
     ]
    },
    {
     "data": {
      "text/plain": [
       "<Figure size 432x288 with 0 Axes>"
      ]
     },
     "metadata": {},
     "output_type": "display_data"
    },
    {
     "data": {
      "image/png": "[encoded data removed]",
      "text/plain": [
       "<Figure size 720x216 with 1 Axes>"
      ]
     },
     "metadata": {
      "needs_background": "light"
     },
     "output_type": "display_data"
    },
    {
     "name": "stdout",
     "output_type": "stream",
     "text": [
      "Proportion of bio products: 10.51% (bio: 6470, regular: 61551)\n"
     ]
    },
    {
     "data": {
      "text/plain": [
       "<Figure size 432x288 with 0 Axes>"
      ]
     },
     "metadata": {},
     "output_type": "display_data"
    },
    {
     "data": {
      "image/png": "[encoded data removed]",
      "text/plain": [
       "<Figure size 720x216 with 1 Axes>"
      ]
     },
     "metadata": {
      "needs_background": "light"
     },
     "output_type": "display_data"
    },
    {
     "name": "stdout",
     "output_type": "stream",
     "text": [
      "Proportion of bio products: 9.80% (bio: 7549, regular: 77040)\n"
     ]
    },
    {
     "data": {
      "text/plain": [
       "<Figure size 432x288 with 0 Axes>"
      ]
     },
     "metadata": {},
     "output_type": "display_data"
    },
    {
     "data": {
      "image/png": "[encoded data removed]",
      "text/plain": [
       "<Figure size 720x216 with 1 Axes>"
      ]
     },
     "metadata": {
      "needs_background": "light"
     },
     "output_type": "display_data"
    },
    {
     "name": "stdout",
     "output_type": "stream",
     "text": [
      "Proportion of bio products: 9.16% (bio: 4956, regular: 54094)\n"
     ]
    },
    {
     "data": {
      "text/plain": [
       "<Figure size 432x288 with 0 Axes>"
      ]
     },
     "metadata": {},
     "output_type": "display_data"
    },
    {
     "data": {
      "image/png": "[encoded data removed]",
      "text/plain": [
       "<Figure size 720x216 with 1 Axes>"
      ]
     },
     "metadata": {
      "needs_background": "light"
     },
     "output_type": "display_data"
    },
    {
     "name": "stdout",
     "output_type": "stream",
     "text": [
      "Proportion of bio products: 12.89% (bio: 2021, regular: 15682)\n"
     ]
    },
    {
     "data": {
      "text/plain": [
       "<Figure size 432x288 with 0 Axes>"
      ]
     },
     "metadata": {},
     "output_type": "display_data"
    },
    {
     "data": {
      "image/png": "[encoded data removed]",
      "text/plain": [
       "<Figure size 720x216 with 1 Axes>"
      ]
     },
     "metadata": {
      "needs_background": "light"
     },
     "output_type": "display_data"
    },
    {
     "name": "stdout",
     "output_type": "stream",
     "text": [
      "Proportion of bio products: 10.80% (bio: 4750, regular: 43975)\n"
     ]
    },
    {
     "data": {
      "text/plain": [
       "<Figure size 432x288 with 0 Axes>"
      ]
     },
     "metadata": {},
     "output_type": "display_data"
    },
    {
     "data": {
      "image/png": "[encoded data removed]",
      "text/plain": [
       "<Figure size 720x216 with 1 Axes>"
      ]
     },
     "metadata": {
      "needs_background": "light"
     },
     "output_type": "display_data"
    }
   ],
   "source": [
    "# Score:      nutrition_grade_fr\n",
    "# Categories: main \n",
    "plot_score_per_subcategory(parent_categories_df_dict, score_field = 'nutrition_grade_fr', categories = categories.keys())"
   ]
  },
  {
   "cell_type": "code",
   "execution_count": 23,
   "metadata": {},
   "outputs": [
    {
     "name": "stdout",
     "output_type": "stream",
     "text": [
      "Proportion of bio products: 7.13% (bio: 6160, regular: 86412)\n"
     ]
    },
    {
     "data": {
      "text/plain": [
       "<Figure size 432x288 with 0 Axes>"
      ]
     },
     "metadata": {},
     "output_type": "display_data"
    },
    {
     "data": {
      "image/png": "[encoded data removed]",
      "text/plain": [
       "<Figure size 1440x216 with 1 Axes>"
      ]
     },
     "metadata": {
      "needs_background": "light"
     },
     "output_type": "display_data"
    },
    {
     "name": "stdout",
     "output_type": "stream",
     "text": [
      "Proportion of bio products: 16.40% (bio: 36249, regular: 221064)\n"
     ]
    },
    {
     "data": {
      "text/plain": [
       "<Figure size 432x288 with 0 Axes>"
      ]
     },
     "metadata": {},
     "output_type": "display_data"
    },
    {
     "data": {
      "image/png": "[encoded data removed]",
      "text/plain": [
       "<Figure size 1440x216 with 1 Axes>"
      ]
     },
     "metadata": {
      "needs_background": "light"
     },
     "output_type": "display_data"
    },
    {
     "name": "stdout",
     "output_type": "stream",
     "text": [
      "Proportion of bio products: 11.81% (bio: 6951, regular: 58871)\n"
     ]
    },
    {
     "data": {
      "text/plain": [
       "<Figure size 432x288 with 0 Axes>"
      ]
     },
     "metadata": {},
     "output_type": "display_data"
    },
    {
     "data": {
      "image/png": "[encoded data removed]",
      "text/plain": [
       "<Figure size 1440x216 with 1 Axes>"
      ]
     },
     "metadata": {
      "needs_background": "light"
     },
     "output_type": "display_data"
    },
    {
     "name": "stdout",
     "output_type": "stream",
     "text": [
      "Proportion of bio products: 10.51% (bio: 6470, regular: 61551)\n"
     ]
    },
    {
     "data": {
      "text/plain": [
       "<Figure size 432x288 with 0 Axes>"
      ]
     },
     "metadata": {},
     "output_type": "display_data"
    },
    {
     "data": {
      "image/png": "[encoded data removed]",
      "text/plain": [
       "<Figure size 1440x216 with 1 Axes>"
      ]
     },
     "metadata": {
      "needs_background": "light"
     },
     "output_type": "display_data"
    },
    {
     "name": "stdout",
     "output_type": "stream",
     "text": [
      "Proportion of bio products: 9.80% (bio: 7549, regular: 77040)\n"
     ]
    },
    {
     "data": {
      "text/plain": [
       "<Figure size 432x288 with 0 Axes>"
      ]
     },
     "metadata": {},
     "output_type": "display_data"
    },
    {
     "data": {
      "image/png": "[encoded data removed]",
      "text/plain": [
       "<Figure size 1440x216 with 1 Axes>"
      ]
     },
     "metadata": {
      "needs_background": "light"
     },
     "output_type": "display_data"
    },
    {
     "name": "stdout",
     "output_type": "stream",
     "text": [
      "Proportion of bio products: 9.16% (bio: 4956, regular: 54094)\n"
     ]
    },
    {
     "data": {
      "text/plain": [
       "<Figure size 432x288 with 0 Axes>"
      ]
     },
     "metadata": {},
     "output_type": "display_data"
    },
    {
     "data": {
      "image/png": "[encoded data removed]",
      "text/plain": [
       "<Figure size 1440x216 with 1 Axes>"
      ]
     },
     "metadata": {
      "needs_background": "light"
     },
     "output_type": "display_data"
    },
    {
     "name": "stdout",
     "output_type": "stream",
     "text": [
      "Proportion of bio products: 12.89% (bio: 2021, regular: 15682)\n"
     ]
    },
    {
     "data": {
      "text/plain": [
       "<Figure size 432x288 with 0 Axes>"
      ]
     },
     "metadata": {},
     "output_type": "display_data"
    },
    {
     "data": {
      "image/png": "[encoded data removed]",
      "text/plain": [
       "<Figure size 1440x216 with 1 Axes>"
      ]
     },
     "metadata": {
      "needs_background": "light"
     },
     "output_type": "display_data"
    },
    {
     "name": "stdout",
     "output_type": "stream",
     "text": [
      "Proportion of bio products: 10.80% (bio: 4750, regular: 43975)\n"
     ]
    },
    {
     "data": {
      "text/plain": [
       "<Figure size 432x288 with 0 Axes>"
      ]
     },
     "metadata": {},
     "output_type": "display_data"
    },
    {
     "data": {
      "image/png": "[encoded data removed]",
      "text/plain": [
       "<Figure size 1440x216 with 1 Axes>"
      ]
     },
     "metadata": {
      "needs_background": "light"
     },
     "output_type": "display_data"
    }
   ],
   "source": [
    "# Score:      nutrition-score-uk_100g\n",
    "# Categories: main \n",
    "plot_score_per_subcategory(parent_categories_df_dict, score_field = 'nutrition-score-uk_100g', categories = categories.keys())"
   ]
  },
  {
   "cell_type": "markdown",
   "metadata": {},
   "source": [
    "**First observation**: the distribution for both scores `nutrition_grade_fr` and `nutrition-score-uk_100g` is always similar. The bio products distributions are always slightly better than regular products but it seems their score remain comparable. "
   ]
  },
  {
   "cell_type": "code",
   "execution_count": 24,
   "metadata": {},
   "outputs": [
    {
     "name": "stdout",
     "output_type": "stream",
     "text": [
      "Proportion of bio products: 7.13% (bio: 6160, regular: 86412)\n"
     ]
    },
    {
     "data": {
      "text/plain": [
       "<Figure size 432x288 with 0 Axes>"
      ]
     },
     "metadata": {},
     "output_type": "display_data"
    },
    {
     "data": {
      "image/png": "[encoded data removed]",
      "text/plain": [
       "<Figure size 720x216 with 1 Axes>"
      ]
     },
     "metadata": {
      "needs_background": "light"
     },
     "output_type": "display_data"
    },
    {
     "name": "stdout",
     "output_type": "stream",
     "text": [
      "Proportion of bio products: 16.40% (bio: 36249, regular: 221064)\n"
     ]
    },
    {
     "data": {
      "text/plain": [
       "<Figure size 432x288 with 0 Axes>"
      ]
     },
     "metadata": {},
     "output_type": "display_data"
    },
    {
     "data": {
      "image/png": "[encoded data removed]",
      "text/plain": [
       "<Figure size 720x216 with 1 Axes>"
      ]
     },
     "metadata": {
      "needs_background": "light"
     },
     "output_type": "display_data"
    },
    {
     "name": "stdout",
     "output_type": "stream",
     "text": [
      "Proportion of bio products: 11.81% (bio: 6951, regular: 58871)\n"
     ]
    },
    {
     "data": {
      "text/plain": [
       "<Figure size 432x288 with 0 Axes>"
      ]
     },
     "metadata": {},
     "output_type": "display_data"
    },
    {
     "data": {
      "image/png": "[encoded data removed]",
      "text/plain": [
       "<Figure size 720x216 with 1 Axes>"
      ]
     },
     "metadata": {
      "needs_background": "light"
     },
     "output_type": "display_data"
    },
    {
     "name": "stdout",
     "output_type": "stream",
     "text": [
      "Proportion of bio products: 10.51% (bio: 6470, regular: 61551)\n"
     ]
    },
    {
     "data": {
      "text/plain": [
       "<Figure size 432x288 with 0 Axes>"
      ]
     },
     "metadata": {},
     "output_type": "display_data"
    },
    {
     "data": {
      "image/png": "[encoded data removed]",
      "text/plain": [
       "<Figure size 720x216 with 1 Axes>"
      ]
     },
     "metadata": {
      "needs_background": "light"
     },
     "output_type": "display_data"
    },
    {
     "name": "stdout",
     "output_type": "stream",
     "text": [
      "Proportion of bio products: 9.80% (bio: 7549, regular: 77040)\n"
     ]
    },
    {
     "data": {
      "text/plain": [
       "<Figure size 432x288 with 0 Axes>"
      ]
     },
     "metadata": {},
     "output_type": "display_data"
    },
    {
     "data": {
      "image/png": "[encoded data removed]",
      "text/plain": [
       "<Figure size 720x216 with 1 Axes>"
      ]
     },
     "metadata": {
      "needs_background": "light"
     },
     "output_type": "display_data"
    },
    {
     "name": "stdout",
     "output_type": "stream",
     "text": [
      "Proportion of bio products: 9.16% (bio: 4956, regular: 54094)\n"
     ]
    },
    {
     "data": {
      "text/plain": [
       "<Figure size 432x288 with 0 Axes>"
      ]
     },
     "metadata": {},
     "output_type": "display_data"
    },
    {
     "data": {
      "image/png": "[encoded data removed]",
      "text/plain": [
       "<Figure size 720x216 with 1 Axes>"
      ]
     },
     "metadata": {
      "needs_background": "light"
     },
     "output_type": "display_data"
    },
    {
     "name": "stdout",
     "output_type": "stream",
     "text": [
      "Proportion of bio products: 12.89% (bio: 2021, regular: 15682)\n"
     ]
    },
    {
     "data": {
      "text/plain": [
       "<Figure size 432x288 with 0 Axes>"
      ]
     },
     "metadata": {},
     "output_type": "display_data"
    },
    {
     "data": {
      "image/png": "[encoded data removed]",
      "text/plain": [
       "<Figure size 720x216 with 1 Axes>"
      ]
     },
     "metadata": {
      "needs_background": "light"
     },
     "output_type": "display_data"
    },
    {
     "name": "stdout",
     "output_type": "stream",
     "text": [
      "Proportion of bio products: 10.80% (bio: 4750, regular: 43975)\n"
     ]
    },
    {
     "data": {
      "text/plain": [
       "<Figure size 432x288 with 0 Axes>"
      ]
     },
     "metadata": {},
     "output_type": "display_data"
    },
    {
     "data": {
      "image/png": "[encoded data removed]",
      "text/plain": [
       "<Figure size 720x216 with 1 Axes>"
      ]
     },
     "metadata": {
      "needs_background": "light"
     },
     "output_type": "display_data"
    }
   ],
   "source": [
    "# Score:      nova_group\n",
    "# Categories: main \n",
    "plot_score_per_subcategory(parent_categories_df_dict, score_field = 'nova_group', categories = categories.keys())"
   ]
  },
  {
   "cell_type": "markdown",
   "metadata": {},
   "source": [
    "**Note**: The nova group does not seem to provide much insight. Some type of bio products are also largely pre-processed. "
   ]
  },
  {
   "cell_type": "markdown",
   "metadata": {},
   "source": [
    "## Additives analysis\n",
    "\n",
    "Let us try to analyze the additives for a given category of products. The **meat**'s nutritional score tends to be better for bio products than regular one. Let us see if the additives also show a difference between the two types."
   ]
  },
  {
   "cell_type": "code",
   "execution_count": 25,
   "metadata": {},
   "outputs": [],
   "source": [
    "del food_facts_df # I ran out of RAM lol"
   ]
  },
  {
   "cell_type": "code",
   "execution_count": 26,
   "metadata": {},
   "outputs": [],
   "source": [
    "# Select a single category - in this case: meat\n",
    "meat_df = parent_categories_df_dict['meat, fish, egg']"
   ]
  },
  {
   "cell_type": "code",
   "execution_count": 27,
   "metadata": {},
   "outputs": [],
   "source": [
    "# Get the bio products\n",
    "bio_df = meat_df[meat_df['bio']==True]\n",
    "bio_additives_df = bio_df[['product_name','additives_en']].fillna('') # DO NOT drop the NaN rows\n",
    "\n",
    "# Get the non-bio products\n",
    "non_bio_df = meat_df[meat_df['bio']==False]\n",
    "non_bio_additives_df = non_bio_df[['product_name','additives_en']].fillna('')"
   ]
  },
  {
   "cell_type": "code",
   "execution_count": 28,
   "metadata": {},
   "outputs": [
    {
     "name": "stdout",
     "output_type": "stream",
     "text": [
      "Bio products with additives: 1188, without: 4972 (19.29% with additives)\n",
      "Non-bio products with additives: 30996, without: 49256 (38.62% with additives)\n"
     ]
    }
   ],
   "source": [
    "# Compute the proportions of products with and without additives\n",
    "num_bio_without = len(bio_df[bio_df['additives_en'].isnull()])\n",
    "num_bio_with = len(bio_df) - num_bio_without\n",
    "print('Bio products with additives: {}, without: {}'.format(num_bio_with, num_bio_without),end=' ')\n",
    "print('({0:.2f}% with additives)'.format(num_bio_with/(num_bio_with+num_bio_without)*100))\n",
    "\n",
    "num_non_bio_without = len(non_bio_df[non_bio_df['additives_en'].isnull()])\n",
    "num_non_bio_with = len(non_bio_df) - num_non_bio_without\n",
    "print('Non-bio products with additives: {}, without: {}'.format(num_non_bio_with, num_non_bio_without),end=' ')\n",
    "print('({0:.2f}% with additives)'.format(num_non_bio_with/(num_non_bio_with+num_non_bio_without)*100))"
   ]
  },
  {
   "cell_type": "code",
   "execution_count": 29,
   "metadata": {},
   "outputs": [],
   "source": [
    "# Explode the additives into separate rows\n",
    "bio_additives_df['additives_en'] = bio_additives_df['additives_en'].apply(lambda x: list(x.split(\",\")))\n",
    "bio_additives_df_exploded = bio_additives_df.explode('additives_en')\n",
    "\n",
    "non_bio_additives_df['additives_en'] = non_bio_additives_df['additives_en'].apply(lambda x: list(x.split(\",\")))\n",
    "non_bio_additives_df_exploded = non_bio_additives_df.explode('additives_en')"
   ]
  },
  {
   "cell_type": "code",
   "execution_count": 30,
   "metadata": {},
   "outputs": [],
   "source": [
    "# Count the most present additives per type of product (hence bio vs. non-bio)\n",
    "bio_additives_df = bio_additives_df_exploded.groupby('additives_en') \\\n",
    "                                                     .count() \\\n",
    "                                                     .sort_values('product_name', ascending=False) \\\n",
    "                                                     .reset_index() \\\n",
    "                                                     .rename(columns={'additives_en' : 'additive', \"product_name\" : \"count\"})\n",
    "\n",
    "non_bio_additives_df = non_bio_additives_df_exploded.groupby('additives_en') \\\n",
    "                                                             .count() \\\n",
    "                                                             .sort_values('product_name', ascending=False) \\\n",
    "                                                             .reset_index() \\\n",
    "                                                             .rename(columns={'additives_en' : 'additive', \"product_name\" : \"count\"})"
   ]
  },
  {
   "cell_type": "code",
   "execution_count": 31,
   "metadata": {},
   "outputs": [],
   "source": [
    "# Only store the code of the additive \n",
    "bio_additives_df['additive'] = bio_additives_df['additive'].apply(lambda x : x.split(' ')[0])\n",
    "non_bio_additives_df['additive'] = non_bio_additives_df['additive'].apply(lambda x : x.split(' ')[0])"
   ]
  },
  {
   "cell_type": "code",
   "execution_count": 32,
   "metadata": {},
   "outputs": [],
   "source": [
    "# Normalize the additive counts\n",
    "bio_additives_df['count'] = bio_additives_df['count'].apply(lambda x : x/bio_additives_df['count'].sum())\n",
    "non_bio_additives_df['count'] = non_bio_additives_df['count'].apply(lambda x : x/non_bio_additives_df['count'].sum())"
   ]
  },
  {
   "cell_type": "code",
   "execution_count": 33,
   "metadata": {},
   "outputs": [
    {
     "data": {
      "text/html": [
       "<div>\n",
       "<style scoped>\n",
       "    .dataframe tbody tr th:only-of-type {\n",
       "        vertical-align: middle;\n",
       "    }\n",
       "\n",
       "    .dataframe tbody tr th {\n",
       "        vertical-align: top;\n",
       "    }\n",
       "\n",
       "    .dataframe thead th {\n",
       "        text-align: right;\n",
       "    }\n",
       "</style>\n",
       "<table border=\"1\" class=\"dataframe\">\n",
       "  <thead>\n",
       "    <tr style=\"text-align: right;\">\n",
       "      <th></th>\n",
       "      <th>additive</th>\n",
       "      <th>count</th>\n",
       "    </tr>\n",
       "  </thead>\n",
       "  <tbody>\n",
       "    <tr>\n",
       "      <td>0</td>\n",
       "      <td></td>\n",
       "      <td>0.713668</td>\n",
       "    </tr>\n",
       "    <tr>\n",
       "      <td>1</td>\n",
       "      <td>E250</td>\n",
       "      <td>0.049249</td>\n",
       "    </tr>\n",
       "    <tr>\n",
       "      <td>2</td>\n",
       "      <td>E301</td>\n",
       "      <td>0.030542</td>\n",
       "    </tr>\n",
       "    <tr>\n",
       "      <td>3</td>\n",
       "      <td>E412</td>\n",
       "      <td>0.030160</td>\n",
       "    </tr>\n",
       "    <tr>\n",
       "      <td>4</td>\n",
       "      <td>E415</td>\n",
       "      <td>0.029651</td>\n",
       "    </tr>\n",
       "  </tbody>\n",
       "</table>\n",
       "</div>"
      ],
      "text/plain": [
       "  additive     count\n",
       "0           0.713668\n",
       "1     E250  0.049249\n",
       "2     E301  0.030542\n",
       "3     E412  0.030160\n",
       "4     E415  0.029651"
      ]
     },
     "execution_count": 33,
     "metadata": {},
     "output_type": "execute_result"
    }
   ],
   "source": [
    "bio_additives_df.head(5) # Note the first row represents the number of products without any additive"
   ]
  },
  {
   "cell_type": "code",
   "execution_count": 34,
   "metadata": {},
   "outputs": [
    {
     "data": {
      "text/html": [
       "<div>\n",
       "<style scoped>\n",
       "    .dataframe tbody tr th:only-of-type {\n",
       "        vertical-align: middle;\n",
       "    }\n",
       "\n",
       "    .dataframe tbody tr th {\n",
       "        vertical-align: top;\n",
       "    }\n",
       "\n",
       "    .dataframe thead th {\n",
       "        text-align: right;\n",
       "    }\n",
       "</style>\n",
       "<table border=\"1\" class=\"dataframe\">\n",
       "  <thead>\n",
       "    <tr style=\"text-align: right;\">\n",
       "      <th></th>\n",
       "      <th>additive</th>\n",
       "      <th>count</th>\n",
       "    </tr>\n",
       "  </thead>\n",
       "  <tbody>\n",
       "    <tr>\n",
       "      <td>0</td>\n",
       "      <td></td>\n",
       "      <td>0.337602</td>\n",
       "    </tr>\n",
       "    <tr>\n",
       "      <td>1</td>\n",
       "      <td>E250</td>\n",
       "      <td>0.091402</td>\n",
       "    </tr>\n",
       "    <tr>\n",
       "      <td>2</td>\n",
       "      <td>E14XX</td>\n",
       "      <td>0.046988</td>\n",
       "    </tr>\n",
       "    <tr>\n",
       "      <td>3</td>\n",
       "      <td>E301</td>\n",
       "      <td>0.042330</td>\n",
       "    </tr>\n",
       "    <tr>\n",
       "      <td>4</td>\n",
       "      <td>E330</td>\n",
       "      <td>0.036376</td>\n",
       "    </tr>\n",
       "  </tbody>\n",
       "</table>\n",
       "</div>"
      ],
      "text/plain": [
       "  additive     count\n",
       "0           0.337602\n",
       "1     E250  0.091402\n",
       "2    E14XX  0.046988\n",
       "3     E301  0.042330\n",
       "4     E330  0.036376"
      ]
     },
     "execution_count": 34,
     "metadata": {},
     "output_type": "execute_result"
    }
   ],
   "source": [
    "non_bio_additives_df.head(5) # Note the first row represents the number of products without any additive"
   ]
  },
  {
   "cell_type": "code",
   "execution_count": 35,
   "metadata": {},
   "outputs": [
    {
     "data": {
      "text/html": [
       "<div>\n",
       "<style scoped>\n",
       "    .dataframe tbody tr th:only-of-type {\n",
       "        vertical-align: middle;\n",
       "    }\n",
       "\n",
       "    .dataframe tbody tr th {\n",
       "        vertical-align: top;\n",
       "    }\n",
       "\n",
       "    .dataframe thead th {\n",
       "        text-align: right;\n",
       "    }\n",
       "</style>\n",
       "<table border=\"1\" class=\"dataframe\">\n",
       "  <thead>\n",
       "    <tr style=\"text-align: right;\">\n",
       "      <th></th>\n",
       "      <th>additive</th>\n",
       "      <th>count_bio</th>\n",
       "      <th>count_non_bio</th>\n",
       "    </tr>\n",
       "  </thead>\n",
       "  <tbody>\n",
       "    <tr>\n",
       "      <td>0</td>\n",
       "      <td></td>\n",
       "      <td>0.713668</td>\n",
       "      <td>0.337602</td>\n",
       "    </tr>\n",
       "    <tr>\n",
       "      <td>77</td>\n",
       "      <td>E100</td>\n",
       "      <td>0.000127</td>\n",
       "      <td>0.003161</td>\n",
       "    </tr>\n",
       "    <tr>\n",
       "      <td>113</td>\n",
       "      <td>E101</td>\n",
       "      <td>0.000000</td>\n",
       "      <td>0.000693</td>\n",
       "    </tr>\n",
       "    <tr>\n",
       "      <td>127</td>\n",
       "      <td>E101i</td>\n",
       "      <td>0.000000</td>\n",
       "      <td>0.000419</td>\n",
       "    </tr>\n",
       "    <tr>\n",
       "      <td>320</td>\n",
       "      <td>E101ii</td>\n",
       "      <td>0.000000</td>\n",
       "      <td>0.000006</td>\n",
       "    </tr>\n",
       "  </tbody>\n",
       "</table>\n",
       "</div>"
      ],
      "text/plain": [
       "    additive  count_bio  count_non_bio\n",
       "0              0.713668       0.337602\n",
       "77      E100   0.000127       0.003161\n",
       "113     E101   0.000000       0.000693\n",
       "127    E101i   0.000000       0.000419\n",
       "320   E101ii   0.000000       0.000006"
      ]
     },
     "execution_count": 35,
     "metadata": {},
     "output_type": "execute_result"
    }
   ],
   "source": [
    "# Merge\n",
    "merge_df = pd.merge(bio_additives_df, non_bio_additives_df, on='additive', how='outer') \\\n",
    "                     .rename(columns = {\"count_x\" : 'count_bio', \"count_y\" : 'count_non_bio'}) \\\n",
    "                     .fillna(0.0).sort_values('additive')\n",
    "merge_df.head()"
   ]
  },
  {
   "cell_type": "code",
   "execution_count": 36,
   "metadata": {},
   "outputs": [
    {
     "data": {
      "text/plain": [
       "<matplotlib.legend.Legend at 0x1a51811b38>"
      ]
     },
     "execution_count": 36,
     "metadata": {},
     "output_type": "execute_result"
    },
    {
     "data": {
      "image/png": "[encoded data removed]",
      "text/plain": [
       "<Figure size 1800x288 with 1 Axes>"
      ]
     },
     "metadata": {
      "needs_background": "light"
     },
     "output_type": "display_data"
    }
   ],
   "source": [
    "plt.figure(figsize=(25,4))\n",
    "\n",
    "plt.plot(merge_df['additive'].values[1:],merge_df['count_bio'].values[1:],label='Bio',color='g')\n",
    "plt.plot(merge_df['additive'].values[1:],merge_df['count_non_bio'].values[1:],label='Non-bio',color='orange')\n",
    "\n",
    "plt.title('Bio vs. non-bio additive proportions')\n",
    "plt.xlabel('additive')\n",
    "plt.xticks(rotation=90)\n",
    "plt.ylabel('Proportion')\n",
    "#plt.yscale('log')\n",
    "plt.legend()"
   ]
  },
  {
   "cell_type": "code",
   "execution_count": 247,
   "metadata": {},
   "outputs": [],
   "source": [
    "# Mapping to simplify the additives representation\n",
    "#map_func = {1 : 'Colorants', \\\n",
    "#            2 : 'Preservatives', \\\n",
    "#            3 : 'Antioxidants / acidity regulators', \\\n",
    "#            4 : 'Thickeners, stabilisers and emulsifiers', \\\n",
    "#            5 : 'pH regulators and anti-caking agents', \\\n",
    "#            6 : 'Flavour enhancers', \\\n",
    "#            7 : 'Antibiotics', \\\n",
    "#            9 : 'Glazing agents, gases and sweeteners'}\n",
    "map_func = {1 : 'Colorants', \\\n",
    "            2 : 'Preservatives', \\\n",
    "            3 : 'Antioxidants', \\\n",
    "            4 : 'Thickeners', \\\n",
    "            5 : 'Anti-caking agents', \\\n",
    "            6 : 'Flavour enhancers', \\\n",
    "            7 : 'Antibiotics', \\\n",
    "            9 : 'Glazing agents'}"
   ]
  },
  {
   "cell_type": "code",
   "execution_count": 38,
   "metadata": {},
   "outputs": [
    {
     "data": {
      "text/html": [
       "<div>\n",
       "<style scoped>\n",
       "    .dataframe tbody tr th:only-of-type {\n",
       "        vertical-align: middle;\n",
       "    }\n",
       "\n",
       "    .dataframe tbody tr th {\n",
       "        vertical-align: top;\n",
       "    }\n",
       "\n",
       "    .dataframe thead th {\n",
       "        text-align: right;\n",
       "    }\n",
       "</style>\n",
       "<table border=\"1\" class=\"dataframe\">\n",
       "  <thead>\n",
       "    <tr style=\"text-align: right;\">\n",
       "      <th></th>\n",
       "      <th>additive</th>\n",
       "      <th>count_bio</th>\n",
       "      <th>count_non_bio</th>\n",
       "    </tr>\n",
       "  </thead>\n",
       "  <tbody>\n",
       "    <tr>\n",
       "      <td>0</td>\n",
       "      <td></td>\n",
       "      <td>0.713668</td>\n",
       "      <td>0.337602</td>\n",
       "    </tr>\n",
       "    <tr>\n",
       "      <td>77</td>\n",
       "      <td>E100</td>\n",
       "      <td>0.000127</td>\n",
       "      <td>0.003161</td>\n",
       "    </tr>\n",
       "    <tr>\n",
       "      <td>113</td>\n",
       "      <td>E101</td>\n",
       "      <td>0.000000</td>\n",
       "      <td>0.000693</td>\n",
       "    </tr>\n",
       "    <tr>\n",
       "      <td>127</td>\n",
       "      <td>E101i</td>\n",
       "      <td>0.000000</td>\n",
       "      <td>0.000419</td>\n",
       "    </tr>\n",
       "    <tr>\n",
       "      <td>320</td>\n",
       "      <td>E101ii</td>\n",
       "      <td>0.000000</td>\n",
       "      <td>0.000006</td>\n",
       "    </tr>\n",
       "    <tr>\n",
       "      <td>...</td>\n",
       "      <td>...</td>\n",
       "      <td>...</td>\n",
       "      <td>...</td>\n",
       "    </tr>\n",
       "    <tr>\n",
       "      <td>287</td>\n",
       "      <td>E964</td>\n",
       "      <td>0.000000</td>\n",
       "      <td>0.000006</td>\n",
       "    </tr>\n",
       "    <tr>\n",
       "      <td>186</td>\n",
       "      <td>E965</td>\n",
       "      <td>0.000000</td>\n",
       "      <td>0.000084</td>\n",
       "    </tr>\n",
       "    <tr>\n",
       "      <td>286</td>\n",
       "      <td>E965ii</td>\n",
       "      <td>0.000000</td>\n",
       "      <td>0.000006</td>\n",
       "    </tr>\n",
       "    <tr>\n",
       "      <td>265</td>\n",
       "      <td>E966</td>\n",
       "      <td>0.000000</td>\n",
       "      <td>0.000011</td>\n",
       "    </tr>\n",
       "    <tr>\n",
       "      <td>344</td>\n",
       "      <td>E968</td>\n",
       "      <td>0.000000</td>\n",
       "      <td>0.000006</td>\n",
       "    </tr>\n",
       "  </tbody>\n",
       "</table>\n",
       "<p>345 rows × 3 columns</p>\n",
       "</div>"
      ],
      "text/plain": [
       "    additive  count_bio  count_non_bio\n",
       "0              0.713668       0.337602\n",
       "77      E100   0.000127       0.003161\n",
       "113     E101   0.000000       0.000693\n",
       "127    E101i   0.000000       0.000419\n",
       "320   E101ii   0.000000       0.000006\n",
       "..       ...        ...            ...\n",
       "287     E964   0.000000       0.000006\n",
       "186     E965   0.000000       0.000084\n",
       "286   E965ii   0.000000       0.000006\n",
       "265     E966   0.000000       0.000011\n",
       "344     E968   0.000000       0.000006\n",
       "\n",
       "[345 rows x 3 columns]"
      ]
     },
     "execution_count": 38,
     "metadata": {},
     "output_type": "execute_result"
    }
   ],
   "source": [
    "merge_df"
   ]
  },
  {
   "cell_type": "code",
   "execution_count": 39,
   "metadata": {},
   "outputs": [
    {
     "data": {
      "text/html": [
       "<div>\n",
       "<style scoped>\n",
       "    .dataframe tbody tr th:only-of-type {\n",
       "        vertical-align: middle;\n",
       "    }\n",
       "\n",
       "    .dataframe tbody tr th {\n",
       "        vertical-align: top;\n",
       "    }\n",
       "\n",
       "    .dataframe thead th {\n",
       "        text-align: right;\n",
       "    }\n",
       "</style>\n",
       "<table border=\"1\" class=\"dataframe\">\n",
       "  <thead>\n",
       "    <tr style=\"text-align: right;\">\n",
       "      <th></th>\n",
       "      <th>additive</th>\n",
       "      <th>count_bio</th>\n",
       "      <th>count_non_bio</th>\n",
       "    </tr>\n",
       "  </thead>\n",
       "  <tbody>\n",
       "    <tr>\n",
       "      <td>0</td>\n",
       "      <td>NaN</td>\n",
       "      <td>0.713668</td>\n",
       "      <td>0.337602</td>\n",
       "    </tr>\n",
       "    <tr>\n",
       "      <td>77</td>\n",
       "      <td>Colorants</td>\n",
       "      <td>0.000127</td>\n",
       "      <td>0.003161</td>\n",
       "    </tr>\n",
       "    <tr>\n",
       "      <td>113</td>\n",
       "      <td>Colorants</td>\n",
       "      <td>0.000000</td>\n",
       "      <td>0.000693</td>\n",
       "    </tr>\n",
       "    <tr>\n",
       "      <td>127</td>\n",
       "      <td>Colorants</td>\n",
       "      <td>0.000000</td>\n",
       "      <td>0.000419</td>\n",
       "    </tr>\n",
       "    <tr>\n",
       "      <td>320</td>\n",
       "      <td>Colorants</td>\n",
       "      <td>0.000000</td>\n",
       "      <td>0.000006</td>\n",
       "    </tr>\n",
       "    <tr>\n",
       "      <td>...</td>\n",
       "      <td>...</td>\n",
       "      <td>...</td>\n",
       "      <td>...</td>\n",
       "    </tr>\n",
       "    <tr>\n",
       "      <td>287</td>\n",
       "      <td>Glazing agents, gases and sweeteners</td>\n",
       "      <td>0.000000</td>\n",
       "      <td>0.000006</td>\n",
       "    </tr>\n",
       "    <tr>\n",
       "      <td>186</td>\n",
       "      <td>Glazing agents, gases and sweeteners</td>\n",
       "      <td>0.000000</td>\n",
       "      <td>0.000084</td>\n",
       "    </tr>\n",
       "    <tr>\n",
       "      <td>286</td>\n",
       "      <td>Glazing agents, gases and sweeteners</td>\n",
       "      <td>0.000000</td>\n",
       "      <td>0.000006</td>\n",
       "    </tr>\n",
       "    <tr>\n",
       "      <td>265</td>\n",
       "      <td>Glazing agents, gases and sweeteners</td>\n",
       "      <td>0.000000</td>\n",
       "      <td>0.000011</td>\n",
       "    </tr>\n",
       "    <tr>\n",
       "      <td>344</td>\n",
       "      <td>Glazing agents, gases and sweeteners</td>\n",
       "      <td>0.000000</td>\n",
       "      <td>0.000006</td>\n",
       "    </tr>\n",
       "  </tbody>\n",
       "</table>\n",
       "<p>345 rows × 3 columns</p>\n",
       "</div>"
      ],
      "text/plain": [
       "                                 additive  count_bio  count_non_bio\n",
       "0                                     NaN   0.713668       0.337602\n",
       "77                              Colorants   0.000127       0.003161\n",
       "113                             Colorants   0.000000       0.000693\n",
       "127                             Colorants   0.000000       0.000419\n",
       "320                             Colorants   0.000000       0.000006\n",
       "..                                    ...        ...            ...\n",
       "287  Glazing agents, gases and sweeteners   0.000000       0.000006\n",
       "186  Glazing agents, gases and sweeteners   0.000000       0.000084\n",
       "286  Glazing agents, gases and sweeteners   0.000000       0.000006\n",
       "265  Glazing agents, gases and sweeteners   0.000000       0.000011\n",
       "344  Glazing agents, gases and sweeteners   0.000000       0.000006\n",
       "\n",
       "[345 rows x 3 columns]"
      ]
     },
     "execution_count": 39,
     "metadata": {},
     "output_type": "execute_result"
    }
   ],
   "source": [
    "merge_df['additive'] = merge_df['additive'].apply(lambda x: int(str(x)[1]) if len(str(x))>0 else 'what').map(map_func)\n",
    "merge_df"
   ]
  },
  {
   "cell_type": "code",
   "execution_count": 40,
   "metadata": {},
   "outputs": [
    {
     "data": {
      "text/html": [
       "<div>\n",
       "<style scoped>\n",
       "    .dataframe tbody tr th:only-of-type {\n",
       "        vertical-align: middle;\n",
       "    }\n",
       "\n",
       "    .dataframe tbody tr th {\n",
       "        vertical-align: top;\n",
       "    }\n",
       "\n",
       "    .dataframe thead th {\n",
       "        text-align: right;\n",
       "    }\n",
       "</style>\n",
       "<table border=\"1\" class=\"dataframe\">\n",
       "  <thead>\n",
       "    <tr style=\"text-align: right;\">\n",
       "      <th></th>\n",
       "      <th>count_bio</th>\n",
       "      <th>count_non_bio</th>\n",
       "    </tr>\n",
       "    <tr>\n",
       "      <th>additive</th>\n",
       "      <th></th>\n",
       "      <th></th>\n",
       "    </tr>\n",
       "  </thead>\n",
       "  <tbody>\n",
       "    <tr>\n",
       "      <td>Antioxidants / acidity regulators</td>\n",
       "      <td>0.103461</td>\n",
       "      <td>0.171102</td>\n",
       "    </tr>\n",
       "    <tr>\n",
       "      <td>Colorants</td>\n",
       "      <td>0.007254</td>\n",
       "      <td>0.104845</td>\n",
       "    </tr>\n",
       "    <tr>\n",
       "      <td>Flavour enhancers</td>\n",
       "      <td>0.000255</td>\n",
       "      <td>0.017549</td>\n",
       "    </tr>\n",
       "    <tr>\n",
       "      <td>Glazing agents, gases and sweeteners</td>\n",
       "      <td>0.000255</td>\n",
       "      <td>0.002094</td>\n",
       "    </tr>\n",
       "    <tr>\n",
       "      <td>Preservatives</td>\n",
       "      <td>0.063884</td>\n",
       "      <td>0.166260</td>\n",
       "    </tr>\n",
       "    <tr>\n",
       "      <td>Thickeners, stabilisers and emulsifiers</td>\n",
       "      <td>0.093281</td>\n",
       "      <td>0.176408</td>\n",
       "    </tr>\n",
       "    <tr>\n",
       "      <td>pH regulators and anti-caking agents</td>\n",
       "      <td>0.017943</td>\n",
       "      <td>0.024139</td>\n",
       "    </tr>\n",
       "  </tbody>\n",
       "</table>\n",
       "</div>"
      ],
      "text/plain": [
       "                                         count_bio  count_non_bio\n",
       "additive                                                         \n",
       "Antioxidants / acidity regulators         0.103461       0.171102\n",
       "Colorants                                 0.007254       0.104845\n",
       "Flavour enhancers                         0.000255       0.017549\n",
       "Glazing agents, gases and sweeteners      0.000255       0.002094\n",
       "Preservatives                             0.063884       0.166260\n",
       "Thickeners, stabilisers and emulsifiers   0.093281       0.176408\n",
       "pH regulators and anti-caking agents      0.017943       0.024139"
      ]
     },
     "execution_count": 40,
     "metadata": {},
     "output_type": "execute_result"
    }
   ],
   "source": [
    "aggreg_merge_df = merge_df.groupby('additive').sum()\n",
    "aggreg_merge_df"
   ]
  },
  {
   "cell_type": "code",
   "execution_count": 41,
   "metadata": {},
   "outputs": [
    {
     "data": {
      "image/png": "[encoded data removed]",
      "text/plain": [
       "<Figure size 576x576 with 1 Axes>"
      ]
     },
     "metadata": {
      "needs_background": "light"
     },
     "output_type": "display_data"
    }
   ],
   "source": [
    "# Create a radar plot\n",
    "additives=aggreg_merge_df.index\n",
    "N = len(additives)\n",
    "angles = [n / float(N) * 2 * pi for n in range(N)] + [0.0]\n",
    " \n",
    "# Initialise the spider plot\n",
    "plt.gcf().set_size_inches(8, 8)\n",
    "ax = plt.subplot(111, polar=True)\n",
    " \n",
    "ax.set_theta_offset(pi / 2)\n",
    "ax.set_theta_direction(-1)\n",
    " \n",
    "plt.xticks(angles, additives)\n",
    " \n",
    "ax.set_rlabel_position(0)\n",
    "\n",
    "values=list(aggreg_merge_df['count_non_bio'].values) + [aggreg_merge_df['count_non_bio'].values[0]]\n",
    "ax.plot(angles, values, linewidth=1, linestyle='solid', label=\"Non-bio products\",color='orange')\n",
    "ax.fill(angles, values, 'orange', alpha=0.1)\n",
    "\n",
    "values=list(aggreg_merge_df['count_bio'].values) + [aggreg_merge_df['count_bio'].values[0]]\n",
    "ax.plot(angles, values, linewidth=1, linestyle='solid', label=\"Bio products\",color='green')\n",
    "ax.fill(angles, values, 'g', alpha=0.1)\n",
    "\n",
    "plt.title('Proportions of additives for bio and non-bio products')\n",
    "plt.legend(loc='upper right')\n",
    "plt.show()"
   ]
  },
  {
   "cell_type": "markdown",
   "metadata": {},
   "source": [
    "### Create a function that generates a radar plot from the dataset\n",
    "\n",
    "The following function does exactly what was done in a previous cell. It simply groups the whole process and makes it simple to reuse the code to generate a radar plot for any given category. "
   ]
  },
  {
   "cell_type": "code",
   "execution_count": 248,
   "metadata": {},
   "outputs": [],
   "source": [
    "def radar_plot_additives(df, category, mapping_func):\n",
    "    '''\n",
    "    arguments: \n",
    "        df: \n",
    "            dataframe similar to food_fact_df\n",
    "    outputs: \n",
    "        dataframe used by the radar plot \n",
    "    '''\n",
    "    \n",
    "    df = df[category]\n",
    "    \n",
    "    # Get the bio products\n",
    "    bio_df = df[df['bio']==True]\n",
    "    bio_additives_df = bio_df[['product_name','additives_en']].fillna('') # DO NOT drop the NaN rows\n",
    "\n",
    "    # Get the non-bio products\n",
    "    non_bio_df = df[df['bio']==False]\n",
    "    non_bio_additives_df = non_bio_df[['product_name','additives_en']].fillna('')\n",
    "    \n",
    "    # Compute the proportions of products with and without additives\n",
    "    num_bio_without = len(bio_df[bio_df['additives_en'].isnull()])\n",
    "    num_bio_with = len(bio_df) - num_bio_without\n",
    "    print('Bio products with additives: {}, without: {}'.format(num_bio_with, num_bio_without),end=' ')\n",
    "    print('({0:.2f}% with additives)'.format(num_bio_with/(num_bio_with+num_bio_without)*100))\n",
    "\n",
    "    num_non_bio_without = len(non_bio_df[non_bio_df['additives_en'].isnull()])\n",
    "    num_non_bio_with = len(non_bio_df) - num_non_bio_without\n",
    "    print('Non-bio products with additives: {}, without: {}'.format(num_non_bio_with, num_non_bio_without),end=' ')\n",
    "    print('({0:.2f}% with additives)'.format(num_non_bio_with/(num_non_bio_with+num_non_bio_without)*100))\n",
    "    \n",
    "    # Explode the additives into separate rows\n",
    "    bio_additives_df['additives_en'] = bio_additives_df['additives_en'].apply(lambda x: list(x.split(\",\")))\n",
    "    bio_additives_df_exploded = bio_additives_df.explode('additives_en')\n",
    "\n",
    "    non_bio_additives_df['additives_en'] = non_bio_additives_df['additives_en'].apply(lambda x: list(x.split(\",\")))\n",
    "    non_bio_additives_df_exploded = non_bio_additives_df.explode('additives_en')\n",
    "    \n",
    "    # Count the most present additives per type of product (hence bio vs. non-bio)\n",
    "    bio_additives_df = bio_additives_df_exploded.groupby('additives_en') \\\n",
    "                                                         .count() \\\n",
    "                                                         .sort_values('product_name', ascending=False) \\\n",
    "                                                         .reset_index() \\\n",
    "                                                         .rename(columns={'additives_en' : 'additive', \"product_name\" : \"count\"})\n",
    "\n",
    "    non_bio_additives_df = non_bio_additives_df_exploded.groupby('additives_en') \\\n",
    "                                                                 .count() \\\n",
    "                                                                 .sort_values('product_name', ascending=False) \\\n",
    "                                                                 .reset_index() \\\n",
    "                                                                 .rename(columns={'additives_en' : 'additive', \"product_name\" : \"count\"})\n",
    "    \n",
    "    # Only store the code of the additive \n",
    "    bio_additives_df['additive'] = bio_additives_df['additive'].apply(lambda x : x.split(' ')[0])\n",
    "    non_bio_additives_df['additive'] = non_bio_additives_df['additive'].apply(lambda x : x.split(' ')[0])\n",
    "    \n",
    "    # Normalize the additive counts\n",
    "    bio_additives_df['count'] = bio_additives_df['count'].apply(lambda x : x/bio_additives_df['count'].sum())\n",
    "    non_bio_additives_df['count'] = non_bio_additives_df['count'].apply(lambda x : x/non_bio_additives_df['count'].sum())\n",
    "    \n",
    "    # Merge\n",
    "    merge_df = pd.merge(bio_additives_df, non_bio_additives_df, on='additive', how='outer') \\\n",
    "                         .rename(columns = {\"count_x\" : 'bio: '+category, \"count_y\" : 'non bio: '+category}) \\\n",
    "                         .fillna(0.0).sort_values('additive')\n",
    "    \n",
    "    # Apply the mapping and group\n",
    "    def transform_add(x):\n",
    "        try:\n",
    "            x = int(str(x)[1]) if len(str(x))>0 else -1\n",
    "            return x\n",
    "        except:\n",
    "            return -1\n",
    "    merge_df['additive'] = merge_df['additive'].apply(transform_add).map(map_func)\n",
    "    aggreg_merge_df = merge_df.groupby('additive').sum()\n",
    "    \n",
    "    \n",
    "    \n",
    "    # Plot the radar (finally... maybe I should find a way to reduce this function.)\n",
    "    # Create a radar plot\n",
    "    #additives=aggreg_merge_df.index\n",
    "    #N = len(additives)\n",
    "    #angles = [n / float(N) * 2 * pi for n in range(N)] + [0.0]\n",
    "#\n",
    "    ## Initialise the spider plot\n",
    "    #plt.gcf().set_size_inches(8, 8)\n",
    "    #ax = plt.subplot(111, polar=True)\n",
    "#\n",
    "    #ax.set_theta_offset(pi / 2)\n",
    "    #ax.set_theta_direction(-1)\n",
    "#\n",
    "    #plt.xticks(angles, additives)\n",
    "#\n",
    "    #ax.set_rlabel_position(0)\n",
    "#\n",
    "    #values=list(aggreg_merge_df['count_non_bio'].values) + [aggreg_merge_df['count_non_bio'].values[0]]\n",
    "    #ax.plot(angles, values, linewidth=1, linestyle='solid', label=\"Non-bio products\",color='orange')\n",
    "    #ax.fill(angles, values, 'orange', alpha=0.1)\n",
    "#\n",
    "    #values=list(aggreg_merge_df['count_bio'].values) + [aggreg_merge_df['count_bio'].values[0]]\n",
    "    #ax.plot(angles, values, linewidth=1, linestyle='solid', label=\"Bio products\",color='green')\n",
    "    #ax.fill(angles, values, 'g', alpha=0.1)\n",
    "#\n",
    "    #plt.title('Proportions of additives for bio and non-bio products')\n",
    "    #plt.legend(loc='upper right')\n",
    "    #plt.show()\n",
    "    \n",
    "    return aggreg_merge_df"
   ]
  },
  {
   "cell_type": "code",
   "execution_count": 249,
   "metadata": {},
   "outputs": [],
   "source": [
    "import pygal\n",
    "from IPython.display import SVG, HTML\n",
    "from pygal.style import Style"
   ]
  },
  {
   "cell_type": "code",
   "execution_count": 252,
   "metadata": {},
   "outputs": [
    {
     "name": "stdout",
     "output_type": "stream",
     "text": [
      "Bio products with additives: 1188, without: 4972 (19.29% with additives)\n",
      "Non-bio products with additives: 30996, without: 49256 (38.62% with additives)\n",
      "Bio products with additives: 5263, without: 30986 (14.52% with additives)\n",
      "Non-bio products with additives: 48446, without: 136369 (26.21% with additives)\n",
      "Bio products with additives: 2182, without: 4769 (31.39% with additives)\n",
      "Non-bio products with additives: 23219, without: 28701 (44.72% with additives)\n",
      "Bio products with additives: 743, without: 5727 (11.48% with additives)\n",
      "Non-bio products with additives: 16193, without: 38888 (29.40% with additives)\n",
      "Bio products with additives: 1471, without: 6078 (19.49% with additives)\n",
      "Non-bio products with additives: 21673, without: 47818 (31.19% with additives)\n",
      "Bio products with additives: 683, without: 4273 (13.78% with additives)\n",
      "Non-bio products with additives: 17171, without: 31967 (34.94% with additives)\n",
      "Bio products with additives: 138, without: 1883 (6.83% with additives)\n",
      "Non-bio products with additives: 1555, without: 12106 (11.38% with additives)\n",
      "Bio products with additives: 1870, without: 2880 (39.37% with additives)\n",
      "Non-bio products with additives: 22605, without: 16620 (57.63% with additives)\n"
     ]
    }
   ],
   "source": [
    "clean_for_radar_df = pd.DataFrame({'additives_all' : [map_func[key] for key in map_func.keys()]})\n",
    "\n",
    "for category in list(categories.keys()):\n",
    "    iter_df = radar_plot_additives(parent_categories_df_dict, category, map_func)\n",
    "    clean_for_radar_df = clean_for_radar_df.merge(iter_df, how='left', left_on = 'additives_all', right_on='additive')\n",
    "    \n",
    "clean_for_radar_df.fillna(0, inplace=True)\n",
    "clean_for_radar_df = clean_for_radar_df.set_index('additives_all')"
   ]
  },
  {
   "cell_type": "code",
   "execution_count": 253,
   "metadata": {},
   "outputs": [
    {
     "data": {
      "text/html": [
       "<div>\n",
       "<style scoped>\n",
       "    .dataframe tbody tr th:only-of-type {\n",
       "        vertical-align: middle;\n",
       "    }\n",
       "\n",
       "    .dataframe tbody tr th {\n",
       "        vertical-align: top;\n",
       "    }\n",
       "\n",
       "    .dataframe thead th {\n",
       "        text-align: right;\n",
       "    }\n",
       "</style>\n",
       "<table border=\"1\" class=\"dataframe\">\n",
       "  <thead>\n",
       "    <tr style=\"text-align: right;\">\n",
       "      <th></th>\n",
       "      <th>bio: meat, fish, egg</th>\n",
       "      <th>non bio: meat, fish, egg</th>\n",
       "      <th>bio: fruit, vegetable</th>\n",
       "      <th>non bio: fruit, vegetable</th>\n",
       "      <th>bio: cereal</th>\n",
       "      <th>non bio: cereal</th>\n",
       "      <th>bio: drink</th>\n",
       "      <th>non bio: drink</th>\n",
       "      <th>bio: dairy</th>\n",
       "      <th>non bio: dairy</th>\n",
       "      <th>bio: cooking ingredient</th>\n",
       "      <th>non bio: cooking ingredient</th>\n",
       "      <th>bio: fat</th>\n",
       "      <th>non bio: fat</th>\n",
       "      <th>bio: sugary product</th>\n",
       "      <th>non bio: sugary product</th>\n",
       "    </tr>\n",
       "    <tr>\n",
       "      <th>additives_all</th>\n",
       "      <th></th>\n",
       "      <th></th>\n",
       "      <th></th>\n",
       "      <th></th>\n",
       "      <th></th>\n",
       "      <th></th>\n",
       "      <th></th>\n",
       "      <th></th>\n",
       "      <th></th>\n",
       "      <th></th>\n",
       "      <th></th>\n",
       "      <th></th>\n",
       "      <th></th>\n",
       "      <th></th>\n",
       "      <th></th>\n",
       "      <th></th>\n",
       "    </tr>\n",
       "  </thead>\n",
       "  <tbody>\n",
       "    <tr>\n",
       "      <td>Colorants</td>\n",
       "      <td>0.007254</td>\n",
       "      <td>0.104845</td>\n",
       "      <td>0.001849</td>\n",
       "      <td>0.053400</td>\n",
       "      <td>0.007466</td>\n",
       "      <td>0.091180</td>\n",
       "      <td>0.007958</td>\n",
       "      <td>0.091193</td>\n",
       "      <td>0.010320</td>\n",
       "      <td>0.109639</td>\n",
       "      <td>0.005937</td>\n",
       "      <td>0.113953</td>\n",
       "      <td>0.001790</td>\n",
       "      <td>0.037379</td>\n",
       "      <td>0.002290</td>\n",
       "      <td>0.102951</td>\n",
       "    </tr>\n",
       "    <tr>\n",
       "      <td>Preservatives</td>\n",
       "      <td>0.063884</td>\n",
       "      <td>0.166260</td>\n",
       "      <td>0.003312</td>\n",
       "      <td>0.043614</td>\n",
       "      <td>0.005789</td>\n",
       "      <td>0.063691</td>\n",
       "      <td>0.035475</td>\n",
       "      <td>0.086238</td>\n",
       "      <td>0.019322</td>\n",
       "      <td>0.061954</td>\n",
       "      <td>0.016507</td>\n",
       "      <td>0.117756</td>\n",
       "      <td>0.001432</td>\n",
       "      <td>0.026729</td>\n",
       "      <td>0.002424</td>\n",
       "      <td>0.026501</td>\n",
       "    </tr>\n",
       "    <tr>\n",
       "      <td>Antioxidants</td>\n",
       "      <td>0.103461</td>\n",
       "      <td>0.171102</td>\n",
       "      <td>0.073576</td>\n",
       "      <td>0.150090</td>\n",
       "      <td>0.191275</td>\n",
       "      <td>0.194862</td>\n",
       "      <td>0.085139</td>\n",
       "      <td>0.216305</td>\n",
       "      <td>0.061612</td>\n",
       "      <td>0.110997</td>\n",
       "      <td>0.067188</td>\n",
       "      <td>0.151903</td>\n",
       "      <td>0.042607</td>\n",
       "      <td>0.071014</td>\n",
       "      <td>0.224242</td>\n",
       "      <td>0.308878</td>\n",
       "    </tr>\n",
       "    <tr>\n",
       "      <td>Thickeners</td>\n",
       "      <td>0.093281</td>\n",
       "      <td>0.176408</td>\n",
       "      <td>0.127936</td>\n",
       "      <td>0.141056</td>\n",
       "      <td>0.083977</td>\n",
       "      <td>0.250151</td>\n",
       "      <td>0.019080</td>\n",
       "      <td>0.063280</td>\n",
       "      <td>0.148522</td>\n",
       "      <td>0.220182</td>\n",
       "      <td>0.046771</td>\n",
       "      <td>0.108828</td>\n",
       "      <td>0.005729</td>\n",
       "      <td>0.075654</td>\n",
       "      <td>0.247003</td>\n",
       "      <td>0.295368</td>\n",
       "    </tr>\n",
       "    <tr>\n",
       "      <td>Anti-caking agents</td>\n",
       "      <td>0.017943</td>\n",
       "      <td>0.024139</td>\n",
       "      <td>0.006296</td>\n",
       "      <td>0.016991</td>\n",
       "      <td>0.279362</td>\n",
       "      <td>0.165923</td>\n",
       "      <td>0.009108</td>\n",
       "      <td>0.008446</td>\n",
       "      <td>0.012571</td>\n",
       "      <td>0.015272</td>\n",
       "      <td>0.016942</td>\n",
       "      <td>0.037214</td>\n",
       "      <td>0.068027</td>\n",
       "      <td>0.038170</td>\n",
       "      <td>0.095219</td>\n",
       "      <td>0.079980</td>\n",
       "    </tr>\n",
       "    <tr>\n",
       "      <td>Flavour enhancers</td>\n",
       "      <td>0.000255</td>\n",
       "      <td>0.017549</td>\n",
       "      <td>0.000023</td>\n",
       "      <td>0.008081</td>\n",
       "      <td>0.000000</td>\n",
       "      <td>0.005537</td>\n",
       "      <td>0.000384</td>\n",
       "      <td>0.000955</td>\n",
       "      <td>0.000388</td>\n",
       "      <td>0.001627</td>\n",
       "      <td>0.000000</td>\n",
       "      <td>0.030122</td>\n",
       "      <td>0.000000</td>\n",
       "      <td>0.005272</td>\n",
       "      <td>0.000000</td>\n",
       "      <td>0.000502</td>\n",
       "    </tr>\n",
       "    <tr>\n",
       "      <td>Antibiotics</td>\n",
       "      <td>0.000000</td>\n",
       "      <td>0.000000</td>\n",
       "      <td>0.000000</td>\n",
       "      <td>0.000002</td>\n",
       "      <td>0.000000</td>\n",
       "      <td>0.000000</td>\n",
       "      <td>0.000000</td>\n",
       "      <td>0.000015</td>\n",
       "      <td>0.000000</td>\n",
       "      <td>0.000017</td>\n",
       "      <td>0.000000</td>\n",
       "      <td>0.000000</td>\n",
       "      <td>0.000000</td>\n",
       "      <td>0.000000</td>\n",
       "      <td>0.000000</td>\n",
       "      <td>0.000000</td>\n",
       "    </tr>\n",
       "    <tr>\n",
       "      <td>Glazing agents</td>\n",
       "      <td>0.000255</td>\n",
       "      <td>0.002094</td>\n",
       "      <td>0.000269</td>\n",
       "      <td>0.014200</td>\n",
       "      <td>0.000671</td>\n",
       "      <td>0.006640</td>\n",
       "      <td>0.002109</td>\n",
       "      <td>0.081888</td>\n",
       "      <td>0.000776</td>\n",
       "      <td>0.013948</td>\n",
       "      <td>0.000869</td>\n",
       "      <td>0.006295</td>\n",
       "      <td>0.000000</td>\n",
       "      <td>0.004745</td>\n",
       "      <td>0.004040</td>\n",
       "      <td>0.037226</td>\n",
       "    </tr>\n",
       "  </tbody>\n",
       "</table>\n",
       "</div>"
      ],
      "text/plain": [
       "                    bio: meat, fish, egg  non bio: meat, fish, egg  \\\n",
       "additives_all                                                        \n",
       "Colorants                       0.007254                  0.104845   \n",
       "Preservatives                   0.063884                  0.166260   \n",
       "Antioxidants                    0.103461                  0.171102   \n",
       "Thickeners                      0.093281                  0.176408   \n",
       "Anti-caking agents              0.017943                  0.024139   \n",
       "Flavour enhancers               0.000255                  0.017549   \n",
       "Antibiotics                     0.000000                  0.000000   \n",
       "Glazing agents                  0.000255                  0.002094   \n",
       "\n",
       "                    bio: fruit, vegetable  non bio: fruit, vegetable  \\\n",
       "additives_all                                                          \n",
       "Colorants                        0.001849                   0.053400   \n",
       "Preservatives                    0.003312                   0.043614   \n",
       "Antioxidants                     0.073576                   0.150090   \n",
       "Thickeners                       0.127936                   0.141056   \n",
       "Anti-caking agents               0.006296                   0.016991   \n",
       "Flavour enhancers                0.000023                   0.008081   \n",
       "Antibiotics                      0.000000                   0.000002   \n",
       "Glazing agents                   0.000269                   0.014200   \n",
       "\n",
       "                    bio: cereal  non bio: cereal  bio: drink  non bio: drink  \\\n",
       "additives_all                                                                  \n",
       "Colorants              0.007466         0.091180    0.007958        0.091193   \n",
       "Preservatives          0.005789         0.063691    0.035475        0.086238   \n",
       "Antioxidants           0.191275         0.194862    0.085139        0.216305   \n",
       "Thickeners             0.083977         0.250151    0.019080        0.063280   \n",
       "Anti-caking agents     0.279362         0.165923    0.009108        0.008446   \n",
       "Flavour enhancers      0.000000         0.005537    0.000384        0.000955   \n",
       "Antibiotics            0.000000         0.000000    0.000000        0.000015   \n",
       "Glazing agents         0.000671         0.006640    0.002109        0.081888   \n",
       "\n",
       "                    bio: dairy  non bio: dairy  bio: cooking ingredient  \\\n",
       "additives_all                                                             \n",
       "Colorants             0.010320        0.109639                 0.005937   \n",
       "Preservatives         0.019322        0.061954                 0.016507   \n",
       "Antioxidants          0.061612        0.110997                 0.067188   \n",
       "Thickeners            0.148522        0.220182                 0.046771   \n",
       "Anti-caking agents    0.012571        0.015272                 0.016942   \n",
       "Flavour enhancers     0.000388        0.001627                 0.000000   \n",
       "Antibiotics           0.000000        0.000017                 0.000000   \n",
       "Glazing agents        0.000776        0.013948                 0.000869   \n",
       "\n",
       "                    non bio: cooking ingredient  bio: fat  non bio: fat  \\\n",
       "additives_all                                                             \n",
       "Colorants                              0.113953  0.001790      0.037379   \n",
       "Preservatives                          0.117756  0.001432      0.026729   \n",
       "Antioxidants                           0.151903  0.042607      0.071014   \n",
       "Thickeners                             0.108828  0.005729      0.075654   \n",
       "Anti-caking agents                     0.037214  0.068027      0.038170   \n",
       "Flavour enhancers                      0.030122  0.000000      0.005272   \n",
       "Antibiotics                            0.000000  0.000000      0.000000   \n",
       "Glazing agents                         0.006295  0.000000      0.004745   \n",
       "\n",
       "                    bio: sugary product  non bio: sugary product  \n",
       "additives_all                                                     \n",
       "Colorants                      0.002290                 0.102951  \n",
       "Preservatives                  0.002424                 0.026501  \n",
       "Antioxidants                   0.224242                 0.308878  \n",
       "Thickeners                     0.247003                 0.295368  \n",
       "Anti-caking agents             0.095219                 0.079980  \n",
       "Flavour enhancers              0.000000                 0.000502  \n",
       "Antibiotics                    0.000000                 0.000000  \n",
       "Glazing agents                 0.004040                 0.037226  "
      ]
     },
     "execution_count": 253,
     "metadata": {},
     "output_type": "execute_result"
    }
   ],
   "source": [
    "clean_for_radar_df"
   ]
  },
  {
   "cell_type": "code",
   "execution_count": 270,
   "metadata": {},
   "outputs": [],
   "source": [
    "html_pygal = \"\"\"\n",
    "<!DOCTYPE html>\n",
    "<html>\n",
    "  <head>\n",
    "  <script type=\"text/javascript\" src=\"http://kozea.github.com/pygal.js/javascripts/svg.jquery.js\"></script>\n",
    "  <script type=\"text/javascript\" src=\"https://kozea.github.io/pygal.js/2.0.x/pygal-tooltips.min.js\"\"></script>\n",
    "  </head>\n",
    "  <body>\n",
    "    <figure>\n",
    "      {rendered_chart}\n",
    "    </figure>\n",
    "  </body>\n",
    "</html>\n",
    "\"\"\""
   ]
  },
  {
   "cell_type": "code",
   "execution_count": 288,
   "metadata": {},
   "outputs": [],
   "source": [
    "custom_style = Style(\n",
    "  background='transparent',\n",
    "  plot_background='transparent',\n",
    "  foreground='#000000',\n",
    "  foreground_strong='#000000',\n",
    "  foreground_subtle='#000000',\n",
    "  opacity='.3',\n",
    "  opacity_hover='.9',\n",
    "  transition='300ms ease-in',\n",
    "  label_font_size=15,\n",
    "  legend_font_size=12,\n",
    "  colors = ['#780116','#c32f27', '#7dcd85','#80ab82', '#db7c26','f7b538', '#2e4057','#048ba8', '#454545','#636363', '#a36d90','#cc7e85', '#e3d083','#f9ebaa', '#b88b47','#b59767'])\n"
   ]
  },
  {
   "cell_type": "code",
   "execution_count": 289,
   "metadata": {
    "scrolled": false
   },
   "outputs": [],
   "source": [
    "radar_chart = pygal.Radar(fill=True, show_dots=False, style=custom_style, legend_box_size=10, truncate_legend=-1, spacing=20)\n",
    "radar_chart.title = 'Proportions of additives for bio and non-bio products.'\n",
    "radar_chart.x_labels = list(clean_for_radar_df.index.values)\n",
    "\n",
    "for (columnName, columnData) in clean_for_radar_df.iteritems():\n",
    "    radar_chart.add(columnName, columnData.values)\n",
    "\n",
    "html_data = html_pygal.format(rendered_chart=radar_chart.render())\n",
    "\n",
    "\n",
    "Html_file= open(\"radarplot.html\",\"w\")\n",
    "Html_file.write(html_data)\n",
    "Html_file.close()"
   ]
  },
  {
   "cell_type": "markdown",
   "metadata": {},
   "source": [
    "### Nutritional score for each category\n",
    "\n",
    "We want to plot the nutritional score for bio vs. regular products. The score distribution can be filtered for a category of products or a subcategory of products."
   ]
  },
  {
   "cell_type": "markdown",
   "metadata": {},
   "source": [
    "We could leverage the Altair API to use directly the whole dataframe as in the following commented cell, but then every product would be encoded in the final json files for each plot, which is intractable."
   ]
  },
  {
   "cell_type": "code",
   "execution_count": 44,
   "metadata": {
    "ExecuteTime": {
     "end_time": "2019-12-15T10:37:45.542829Z",
     "start_time": "2019-12-15T10:37:45.527207Z"
    }
   },
   "outputs": [
    {
     "data": {
      "text/plain": [
       "\"score_field = 'nutrition_grade_fr'\\n\\nbar_plot = alt.Chart(food_facts_df).mark_bar().encode(\\n    x= alt.X(score_field, bin=True),\\n    y='Count()'\\n    color='bio'\\n)\""
      ]
     },
     "execution_count": 44,
     "metadata": {},
     "output_type": "execute_result"
    }
   ],
   "source": [
    "\"\"\"score_field = 'nutrition_grade_fr'\n",
    "\n",
    "bar_plot = alt.Chart(food_facts_df).mark_bar().encode(\n",
    "    x= alt.X(score_field, bin=True),\n",
    "    y='Count()'\n",
    "    color='bio'\n",
    ")\"\"\""
   ]
  },
  {
   "cell_type": "markdown",
   "metadata": {},
   "source": [
    "Instead, we generate much smaller dataframe with the final data we want to plot and render them using Altair."
   ]
  },
  {
   "cell_type": "code",
   "execution_count": 45,
   "metadata": {
    "ExecuteTime": {
     "end_time": "2019-12-15T11:39:36.630733Z",
     "start_time": "2019-12-15T11:39:29.443402Z"
    },
    "scrolled": true
   },
   "outputs": [
    {
     "ename": "NameError",
     "evalue": "name 'food_facts_df' is not defined",
     "output_type": "error",
     "traceback": [
      "\u001b[0;31m---------------------------------------------------------------------------\u001b[0m",
      "\u001b[0;31mNameError\u001b[0m                                 Traceback (most recent call last)",
      "\u001b[0;32m<ipython-input-45-bed16d7040b3>\u001b[0m in \u001b[0;36m<module>\u001b[0;34m\u001b[0m\n\u001b[1;32m      1\u001b[0m \u001b[0mscore_field\u001b[0m \u001b[0;34m=\u001b[0m \u001b[0;34m'nutrition_grade_fr'\u001b[0m\u001b[0;34m\u001b[0m\u001b[0;34m\u001b[0m\u001b[0m\n\u001b[1;32m      2\u001b[0m \u001b[0;34m\u001b[0m\u001b[0m\n\u001b[0;32m----> 3\u001b[0;31m scores_bio_df = pd.DataFrame([food_facts_df[food_facts_df['bio'] == True][score_field] \\\n\u001b[0m\u001b[1;32m      4\u001b[0m                                                 .value_counts(normalize=True).sort_index().rename('proportion')])\n\u001b[1;32m      5\u001b[0m \u001b[0;34m\u001b[0m\u001b[0m\n",
      "\u001b[0;31mNameError\u001b[0m: name 'food_facts_df' is not defined"
     ]
    }
   ],
   "source": [
    "score_field = 'nutrition_grade_fr'\n",
    "\n",
    "scores_bio_df = pd.DataFrame([food_facts_df[food_facts_df['bio'] == True][score_field] \\\n",
    "                                                .value_counts(normalize=True).sort_index().rename('proportion')])\n",
    "\n",
    "scores_bio_df = scores_bio_df.transpose()\n",
    "scores_bio_df['type'] = 'bio'\n",
    "\n",
    "scores_regular_df = pd.DataFrame([food_facts_df[food_facts_df['bio'] == False][score_field] \\\n",
    "                                                .value_counts(normalize=True).sort_index().rename('proportion')])\n",
    "\n",
    "scores_regular_df = scores_regular_df.transpose()\n",
    "scores_regular_df['type'] = 'regular'\n",
    "\n",
    "scores_df = pd.concat([scores_bio_df, scores_regular_df])\n",
    "scores_df.reset_index(level=0, inplace=True)\n",
    "scores_df.rename(columns={'index': 'score'}, inplace=True)\n",
    "\n",
    "scores_df"
   ]
  },
  {
   "cell_type": "code",
   "execution_count": null,
   "metadata": {
    "ExecuteTime": {
     "end_time": "2019-12-15T13:13:43.502028Z",
     "start_time": "2019-12-15T13:13:43.472703Z"
    }
   },
   "outputs": [],
   "source": [
    "hover = alt.selection_single(on='mouseover', nearest=False, empty='none', encodings=['y'])\n",
    "\n",
    "bar_plot = alt.Chart(scores_df).mark_bar().encode(\n",
    "    column = alt.Column('score:N', title='Nutritional score'),\n",
    "    x = alt.X('type:O', title=None, axis=None),\n",
    "    y = alt.Y('proportion:Q', title='Proportion of products'),\n",
    "    color = alt.Color('type:N', title='Type of product'),\n",
    "    strokeOpacity = alt.condition(hover, alt.value(1), alt.value(0)),\n",
    "    tooltip = alt.Tooltip(['proportion'], format='.1%')) \\\n",
    "        .configure_bar(cornerRadius=3, stroke='blue', strokeWidth=3) \\\n",
    "        .configure_axis(grid=False) \\\n",
    "        .configure_view(strokeOpacity=0) \\\n",
    "        .add_selection(hover)"
   ]
  },
  {
   "cell_type": "code",
   "execution_count": null,
   "metadata": {
    "ExecuteTime": {
     "end_time": "2019-12-15T13:13:48.442198Z",
     "start_time": "2019-12-15T13:13:48.421895Z"
    }
   },
   "outputs": [],
   "source": [
    "bar_plot.save('plots/bar.html')"
   ]
  },
  {
   "cell_type": "code",
   "execution_count": null,
   "metadata": {},
   "outputs": [],
   "source": []
  }
 ],
 "metadata": {
  "kernelspec": {
   "display_name": "Python 3",
   "language": "python",
   "name": "python3"
  },
  "language_info": {
   "codemirror_mode": {
    "name": "ipython",
    "version": 3
   },
   "file_extension": ".py",
   "mimetype": "text/x-python",
   "name": "python",
   "nbconvert_exporter": "python",
   "pygments_lexer": "ipython3",
   "version": "3.7.3"
  },
  "toc": {
   "base_numbering": 1,
   "nav_menu": {},
   "number_sections": true,
   "sideBar": true,
   "skip_h1_title": false,
   "title_cell": "Table of Contents",
   "title_sidebar": "Contents",
   "toc_cell": false,
   "toc_position": {},
   "toc_section_display": true,
   "toc_window_display": false
  },
  "varInspector": {
   "cols": {
    "lenName": 16,
    "lenType": 16,
    "lenVar": 40
   },
   "kernels_config": {
    "python": {
     "delete_cmd_postfix": "",
     "delete_cmd_prefix": "del ",
     "library": "var_list.py",
     "varRefreshCmd": "print(var_dic_list())"
    },
    "r": {
     "delete_cmd_postfix": ") ",
     "delete_cmd_prefix": "rm(",
     "library": "var_list.r",
     "varRefreshCmd": "cat(var_dic_list()) "
    }
   },
   "types_to_exclude": [
    "module",
    "function",
    "builtin_function_or_method",
    "instance",
    "_Feature"
   ],
   "window_display": false
  }
 },
 "nbformat": 4,
 "nbformat_minor": 4
}
