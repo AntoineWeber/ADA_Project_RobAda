{
 "cells": [
  {
   "cell_type": "markdown",
   "metadata": {},
   "source": [
    "# ADA - Final notebook\n",
    "\n",
    "This notebook contains all the code which has been used to generate the plots and figures of our [datastory](https://antoineweber.github.io/ADA_Project_RobAda/).\n",
    "\n",
    "As a summary, our goal was to investigate the potential difference between organic/bio products and regular ones, based on the [Open Food Facts](https://ch-en.openfoodfacts.org/data) dataset.\n",
    "\n",
    "**TODO:** Add table of content. (Tkt Lucas avec mon extension jupyter j'ai juste a cliquer un bouton, pas besoin d'écrire 20 lignes a la main)"
   ]
  },
  {
   "cell_type": "markdown",
   "metadata": {},
   "source": [
    "## Imports"
   ]
  },
  {
   "cell_type": "code",
   "execution_count": 534,
   "metadata": {
    "ExecuteTime": {
     "end_time": "2019-12-15T18:17:48.825313Z",
     "start_time": "2019-12-15T18:17:41.336305Z"
    }
   },
   "outputs": [],
   "source": [
    "import pickle\n",
    "import pprint\n",
    "import time\n",
    "import sys\n",
    "import os\n",
    "import json\n",
    "import copy\n",
    "import folium\n",
    "import itertools\n",
    "import numpy as np\n",
    "import matplotlib as mpl\n",
    "import matplotlib.pyplot as plt\n",
    "import pandas as pd\n",
    "import re\n",
    "import seaborn as sns\n",
    "import statsmodels.formula.api as sm\n",
    "\n",
    "from sklearn.feature_extraction.text import CountVectorizer\n",
    "from string import punctuation\n",
    "from math import pi\n",
    "\n",
    "# We generate the interactive plots with Altair\n",
    "import altair as alt"
   ]
  },
  {
   "cell_type": "markdown",
   "metadata": {},
   "source": [
    "## Loading the dataset"
   ]
  },
  {
   "cell_type": "code",
   "execution_count": 535,
   "metadata": {
    "ExecuteTime": {
     "end_time": "2019-12-15T18:18:45.237083Z",
     "start_time": "2019-12-15T18:17:48.840934Z"
    }
   },
   "outputs": [
    {
     "ename": "KeyboardInterrupt",
     "evalue": "",
     "output_type": "error",
     "traceback": [
      "\u001b[0;31m---------------------------------------------------------------------------\u001b[0m",
      "\u001b[0;31mKeyboardInterrupt\u001b[0m                         Traceback (most recent call last)",
      "\u001b[0;32m<ipython-input-535-cb57993661d6>\u001b[0m in \u001b[0;36m<module>\u001b[0;34m\u001b[0m\n\u001b[1;32m      5\u001b[0m \u001b[0mchunksize\u001b[0m \u001b[0;34m=\u001b[0m \u001b[0;36m100000\u001b[0m\u001b[0;34m\u001b[0m\u001b[0;34m\u001b[0m\u001b[0m\n\u001b[1;32m      6\u001b[0m \u001b[0mtfr\u001b[0m \u001b[0;34m=\u001b[0m \u001b[0mpd\u001b[0m\u001b[0;34m.\u001b[0m\u001b[0mread_csv\u001b[0m\u001b[0;34m(\u001b[0m\u001b[0mOPEN_FOOD_FACTS_PATH\u001b[0m\u001b[0;34m,\u001b[0m \u001b[0mencoding\u001b[0m\u001b[0;34m=\u001b[0m\u001b[0mENCODING\u001b[0m\u001b[0;34m,\u001b[0m \u001b[0msep\u001b[0m\u001b[0;34m=\u001b[0m\u001b[0;34m'\\t'\u001b[0m\u001b[0;34m,\u001b[0m \u001b[0mchunksize\u001b[0m\u001b[0;34m=\u001b[0m\u001b[0mchunksize\u001b[0m\u001b[0;34m,\u001b[0m \u001b[0miterator\u001b[0m\u001b[0;34m=\u001b[0m\u001b[0;32mTrue\u001b[0m\u001b[0;34m,\u001b[0m \u001b[0mlow_memory\u001b[0m\u001b[0;34m=\u001b[0m\u001b[0;32mFalse\u001b[0m\u001b[0;34m)\u001b[0m\u001b[0;34m\u001b[0m\u001b[0;34m\u001b[0m\u001b[0m\n\u001b[0;32m----> 7\u001b[0;31m \u001b[0mfood_facts_df\u001b[0m \u001b[0;34m=\u001b[0m \u001b[0mpd\u001b[0m\u001b[0;34m.\u001b[0m\u001b[0mconcat\u001b[0m\u001b[0;34m(\u001b[0m\u001b[0mtfr\u001b[0m\u001b[0;34m,\u001b[0m \u001b[0mignore_index\u001b[0m\u001b[0;34m=\u001b[0m\u001b[0;32mTrue\u001b[0m\u001b[0;34m)\u001b[0m\u001b[0;34m\u001b[0m\u001b[0;34m\u001b[0m\u001b[0m\n\u001b[0m\u001b[1;32m      8\u001b[0m \u001b[0mfood_facts_df\u001b[0m\u001b[0;34m.\u001b[0m\u001b[0mhead\u001b[0m\u001b[0;34m(\u001b[0m\u001b[0;36m5\u001b[0m\u001b[0;34m)\u001b[0m\u001b[0;34m\u001b[0m\u001b[0;34m\u001b[0m\u001b[0m\n",
      "\u001b[0;32m/anaconda3/lib/python3.7/site-packages/pandas/core/reshape/concat.py\u001b[0m in \u001b[0;36mconcat\u001b[0;34m(objs, axis, join, join_axes, ignore_index, keys, levels, names, verify_integrity, sort, copy)\u001b[0m\n\u001b[1;32m    253\u001b[0m         \u001b[0mverify_integrity\u001b[0m\u001b[0;34m=\u001b[0m\u001b[0mverify_integrity\u001b[0m\u001b[0;34m,\u001b[0m\u001b[0;34m\u001b[0m\u001b[0;34m\u001b[0m\u001b[0m\n\u001b[1;32m    254\u001b[0m         \u001b[0mcopy\u001b[0m\u001b[0;34m=\u001b[0m\u001b[0mcopy\u001b[0m\u001b[0;34m,\u001b[0m\u001b[0;34m\u001b[0m\u001b[0;34m\u001b[0m\u001b[0m\n\u001b[0;32m--> 255\u001b[0;31m         \u001b[0msort\u001b[0m\u001b[0;34m=\u001b[0m\u001b[0msort\u001b[0m\u001b[0;34m,\u001b[0m\u001b[0;34m\u001b[0m\u001b[0;34m\u001b[0m\u001b[0m\n\u001b[0m\u001b[1;32m    256\u001b[0m     )\n\u001b[1;32m    257\u001b[0m \u001b[0;34m\u001b[0m\u001b[0m\n",
      "\u001b[0;32m/anaconda3/lib/python3.7/site-packages/pandas/core/reshape/concat.py\u001b[0m in \u001b[0;36m__init__\u001b[0;34m(self, objs, axis, join, join_axes, keys, levels, names, ignore_index, verify_integrity, copy, sort)\u001b[0m\n\u001b[1;32m    299\u001b[0m             \u001b[0mobjs\u001b[0m \u001b[0;34m=\u001b[0m \u001b[0;34m[\u001b[0m\u001b[0mobjs\u001b[0m\u001b[0;34m[\u001b[0m\u001b[0mk\u001b[0m\u001b[0;34m]\u001b[0m \u001b[0;32mfor\u001b[0m \u001b[0mk\u001b[0m \u001b[0;32min\u001b[0m \u001b[0mkeys\u001b[0m\u001b[0;34m]\u001b[0m\u001b[0;34m\u001b[0m\u001b[0;34m\u001b[0m\u001b[0m\n\u001b[1;32m    300\u001b[0m         \u001b[0;32melse\u001b[0m\u001b[0;34m:\u001b[0m\u001b[0;34m\u001b[0m\u001b[0;34m\u001b[0m\u001b[0m\n\u001b[0;32m--> 301\u001b[0;31m             \u001b[0mobjs\u001b[0m \u001b[0;34m=\u001b[0m \u001b[0mlist\u001b[0m\u001b[0;34m(\u001b[0m\u001b[0mobjs\u001b[0m\u001b[0;34m)\u001b[0m\u001b[0;34m\u001b[0m\u001b[0;34m\u001b[0m\u001b[0m\n\u001b[0m\u001b[1;32m    302\u001b[0m \u001b[0;34m\u001b[0m\u001b[0m\n\u001b[1;32m    303\u001b[0m         \u001b[0;32mif\u001b[0m \u001b[0mlen\u001b[0m\u001b[0;34m(\u001b[0m\u001b[0mobjs\u001b[0m\u001b[0;34m)\u001b[0m \u001b[0;34m==\u001b[0m \u001b[0;36m0\u001b[0m\u001b[0;34m:\u001b[0m\u001b[0;34m\u001b[0m\u001b[0;34m\u001b[0m\u001b[0m\n",
      "\u001b[0;32m/anaconda3/lib/python3.7/site-packages/pandas/io/parsers.py\u001b[0m in \u001b[0;36m__next__\u001b[0;34m(self)\u001b[0m\n\u001b[1;32m   1126\u001b[0m     \u001b[0;32mdef\u001b[0m \u001b[0m__next__\u001b[0m\u001b[0;34m(\u001b[0m\u001b[0mself\u001b[0m\u001b[0;34m)\u001b[0m\u001b[0;34m:\u001b[0m\u001b[0;34m\u001b[0m\u001b[0;34m\u001b[0m\u001b[0m\n\u001b[1;32m   1127\u001b[0m         \u001b[0;32mtry\u001b[0m\u001b[0;34m:\u001b[0m\u001b[0;34m\u001b[0m\u001b[0;34m\u001b[0m\u001b[0m\n\u001b[0;32m-> 1128\u001b[0;31m             \u001b[0;32mreturn\u001b[0m \u001b[0mself\u001b[0m\u001b[0;34m.\u001b[0m\u001b[0mget_chunk\u001b[0m\u001b[0;34m(\u001b[0m\u001b[0;34m)\u001b[0m\u001b[0;34m\u001b[0m\u001b[0;34m\u001b[0m\u001b[0m\n\u001b[0m\u001b[1;32m   1129\u001b[0m         \u001b[0;32mexcept\u001b[0m \u001b[0mStopIteration\u001b[0m\u001b[0;34m:\u001b[0m\u001b[0;34m\u001b[0m\u001b[0;34m\u001b[0m\u001b[0m\n\u001b[1;32m   1130\u001b[0m             \u001b[0mself\u001b[0m\u001b[0;34m.\u001b[0m\u001b[0mclose\u001b[0m\u001b[0;34m(\u001b[0m\u001b[0;34m)\u001b[0m\u001b[0;34m\u001b[0m\u001b[0;34m\u001b[0m\u001b[0m\n",
      "\u001b[0;32m/anaconda3/lib/python3.7/site-packages/pandas/io/parsers.py\u001b[0m in \u001b[0;36mget_chunk\u001b[0;34m(self, size)\u001b[0m\n\u001b[1;32m   1186\u001b[0m                 \u001b[0;32mraise\u001b[0m \u001b[0mStopIteration\u001b[0m\u001b[0;34m\u001b[0m\u001b[0;34m\u001b[0m\u001b[0m\n\u001b[1;32m   1187\u001b[0m             \u001b[0msize\u001b[0m \u001b[0;34m=\u001b[0m \u001b[0mmin\u001b[0m\u001b[0;34m(\u001b[0m\u001b[0msize\u001b[0m\u001b[0;34m,\u001b[0m \u001b[0mself\u001b[0m\u001b[0;34m.\u001b[0m\u001b[0mnrows\u001b[0m \u001b[0;34m-\u001b[0m \u001b[0mself\u001b[0m\u001b[0;34m.\u001b[0m\u001b[0m_currow\u001b[0m\u001b[0;34m)\u001b[0m\u001b[0;34m\u001b[0m\u001b[0;34m\u001b[0m\u001b[0m\n\u001b[0;32m-> 1188\u001b[0;31m         \u001b[0;32mreturn\u001b[0m \u001b[0mself\u001b[0m\u001b[0;34m.\u001b[0m\u001b[0mread\u001b[0m\u001b[0;34m(\u001b[0m\u001b[0mnrows\u001b[0m\u001b[0;34m=\u001b[0m\u001b[0msize\u001b[0m\u001b[0;34m)\u001b[0m\u001b[0;34m\u001b[0m\u001b[0;34m\u001b[0m\u001b[0m\n\u001b[0m\u001b[1;32m   1189\u001b[0m \u001b[0;34m\u001b[0m\u001b[0m\n\u001b[1;32m   1190\u001b[0m \u001b[0;34m\u001b[0m\u001b[0m\n",
      "\u001b[0;32m/anaconda3/lib/python3.7/site-packages/pandas/io/parsers.py\u001b[0m in \u001b[0;36mread\u001b[0;34m(self, nrows)\u001b[0m\n\u001b[1;32m   1152\u001b[0m     \u001b[0;32mdef\u001b[0m \u001b[0mread\u001b[0m\u001b[0;34m(\u001b[0m\u001b[0mself\u001b[0m\u001b[0;34m,\u001b[0m \u001b[0mnrows\u001b[0m\u001b[0;34m=\u001b[0m\u001b[0;32mNone\u001b[0m\u001b[0;34m)\u001b[0m\u001b[0;34m:\u001b[0m\u001b[0;34m\u001b[0m\u001b[0;34m\u001b[0m\u001b[0m\n\u001b[1;32m   1153\u001b[0m         \u001b[0mnrows\u001b[0m \u001b[0;34m=\u001b[0m \u001b[0m_validate_integer\u001b[0m\u001b[0;34m(\u001b[0m\u001b[0;34m\"nrows\"\u001b[0m\u001b[0;34m,\u001b[0m \u001b[0mnrows\u001b[0m\u001b[0;34m)\u001b[0m\u001b[0;34m\u001b[0m\u001b[0;34m\u001b[0m\u001b[0m\n\u001b[0;32m-> 1154\u001b[0;31m         \u001b[0mret\u001b[0m \u001b[0;34m=\u001b[0m \u001b[0mself\u001b[0m\u001b[0;34m.\u001b[0m\u001b[0m_engine\u001b[0m\u001b[0;34m.\u001b[0m\u001b[0mread\u001b[0m\u001b[0;34m(\u001b[0m\u001b[0mnrows\u001b[0m\u001b[0;34m)\u001b[0m\u001b[0;34m\u001b[0m\u001b[0;34m\u001b[0m\u001b[0m\n\u001b[0m\u001b[1;32m   1155\u001b[0m \u001b[0;34m\u001b[0m\u001b[0m\n\u001b[1;32m   1156\u001b[0m         \u001b[0;31m# May alter columns / col_dict\u001b[0m\u001b[0;34m\u001b[0m\u001b[0;34m\u001b[0m\u001b[0;34m\u001b[0m\u001b[0m\n",
      "\u001b[0;32m/anaconda3/lib/python3.7/site-packages/pandas/io/parsers.py\u001b[0m in \u001b[0;36mread\u001b[0;34m(self, nrows)\u001b[0m\n\u001b[1;32m   2057\u001b[0m     \u001b[0;32mdef\u001b[0m \u001b[0mread\u001b[0m\u001b[0;34m(\u001b[0m\u001b[0mself\u001b[0m\u001b[0;34m,\u001b[0m \u001b[0mnrows\u001b[0m\u001b[0;34m=\u001b[0m\u001b[0;32mNone\u001b[0m\u001b[0;34m)\u001b[0m\u001b[0;34m:\u001b[0m\u001b[0;34m\u001b[0m\u001b[0;34m\u001b[0m\u001b[0m\n\u001b[1;32m   2058\u001b[0m         \u001b[0;32mtry\u001b[0m\u001b[0;34m:\u001b[0m\u001b[0;34m\u001b[0m\u001b[0;34m\u001b[0m\u001b[0m\n\u001b[0;32m-> 2059\u001b[0;31m             \u001b[0mdata\u001b[0m \u001b[0;34m=\u001b[0m \u001b[0mself\u001b[0m\u001b[0;34m.\u001b[0m\u001b[0m_reader\u001b[0m\u001b[0;34m.\u001b[0m\u001b[0mread\u001b[0m\u001b[0;34m(\u001b[0m\u001b[0mnrows\u001b[0m\u001b[0;34m)\u001b[0m\u001b[0;34m\u001b[0m\u001b[0;34m\u001b[0m\u001b[0m\n\u001b[0m\u001b[1;32m   2060\u001b[0m         \u001b[0;32mexcept\u001b[0m \u001b[0mStopIteration\u001b[0m\u001b[0;34m:\u001b[0m\u001b[0;34m\u001b[0m\u001b[0;34m\u001b[0m\u001b[0m\n\u001b[1;32m   2061\u001b[0m             \u001b[0;32mif\u001b[0m \u001b[0mself\u001b[0m\u001b[0;34m.\u001b[0m\u001b[0m_first_chunk\u001b[0m\u001b[0;34m:\u001b[0m\u001b[0;34m\u001b[0m\u001b[0;34m\u001b[0m\u001b[0m\n",
      "\u001b[0;32mpandas/_libs/parsers.pyx\u001b[0m in \u001b[0;36mpandas._libs.parsers.TextReader.read\u001b[0;34m()\u001b[0m\n",
      "\u001b[0;32mpandas/_libs/parsers.pyx\u001b[0m in \u001b[0;36mpandas._libs.parsers.TextReader._read_rows\u001b[0;34m()\u001b[0m\n",
      "\u001b[0;32mpandas/_libs/parsers.pyx\u001b[0m in \u001b[0;36mpandas._libs.parsers.TextReader._convert_column_data\u001b[0;34m()\u001b[0m\n",
      "\u001b[0;32mpandas/_libs/parsers.pyx\u001b[0m in \u001b[0;36mpandas._libs.parsers.TextReader._convert_tokens\u001b[0;34m()\u001b[0m\n",
      "\u001b[0;32mpandas/_libs/parsers.pyx\u001b[0m in \u001b[0;36mpandas._libs.parsers.TextReader._convert_with_dtype\u001b[0;34m()\u001b[0m\n",
      "\u001b[0;32m/anaconda3/lib/python3.7/site-packages/pandas/core/dtypes/common.py\u001b[0m in \u001b[0;36mis_categorical_dtype\u001b[0;34m(arr_or_dtype)\u001b[0m\n\u001b[1;32m    676\u001b[0m \u001b[0;34m\u001b[0m\u001b[0m\n\u001b[1;32m    677\u001b[0m \u001b[0;34m\u001b[0m\u001b[0m\n\u001b[0;32m--> 678\u001b[0;31m \u001b[0;32mdef\u001b[0m \u001b[0mis_categorical_dtype\u001b[0m\u001b[0;34m(\u001b[0m\u001b[0marr_or_dtype\u001b[0m\u001b[0;34m)\u001b[0m\u001b[0;34m:\u001b[0m\u001b[0;34m\u001b[0m\u001b[0;34m\u001b[0m\u001b[0m\n\u001b[0m\u001b[1;32m    679\u001b[0m     \"\"\"\n\u001b[1;32m    680\u001b[0m     \u001b[0mCheck\u001b[0m \u001b[0mwhether\u001b[0m \u001b[0man\u001b[0m \u001b[0marray\u001b[0m\u001b[0;34m-\u001b[0m\u001b[0mlike\u001b[0m \u001b[0;32mor\u001b[0m \u001b[0mdtype\u001b[0m \u001b[0;32mis\u001b[0m \u001b[0mof\u001b[0m \u001b[0mthe\u001b[0m \u001b[0mCategorical\u001b[0m \u001b[0mdtype\u001b[0m\u001b[0;34m.\u001b[0m\u001b[0;34m\u001b[0m\u001b[0;34m\u001b[0m\u001b[0m\n",
      "\u001b[0;31mKeyboardInterrupt\u001b[0m: "
     ]
    }
   ],
   "source": [
    "# Make sure to download the dataset and place it in the data folder\n",
    "OPEN_FOOD_FACTS_PATH = 'data/en.openfoodfacts.org.products.csv'\n",
    "ENCODING = 'UTF-8'\n",
    "\n",
    "chunksize = 100000\n",
    "tfr = pd.read_csv(OPEN_FOOD_FACTS_PATH, encoding=ENCODING, sep='\\t', chunksize=chunksize, iterator=True, low_memory=False)\n",
    "food_facts_df = pd.concat(tfr, ignore_index=True)\n",
    "food_facts_df.head(5)"
   ]
  },
  {
   "cell_type": "code",
   "execution_count": null,
   "metadata": {
    "ExecuteTime": {
     "end_time": "2019-12-15T18:18:47.220959Z",
     "start_time": "2019-12-15T18:18:47.189727Z"
    }
   },
   "outputs": [],
   "source": [
    "print(\"There are {} rows, hence products, in the dataset.\".format(food_facts_df.shape[0]))\n",
    "print(\"There are {} columns, hence fields, in the dataset.\".format(food_facts_df.shape[1]))"
   ]
  },
  {
   "cell_type": "markdown",
   "metadata": {},
   "source": [
    "### Available fields <a class=\"anchor\" id=\"availablefields\"></a> \n",
    "\n",
    "The dataset description is available [here](https://static.openfoodfacts.org/data/data-fields.txt).\n",
    "\n",
    "This dataset is provided with a text file describing the different fields. We present a brief overview of the main types of fields:\n",
    "\n",
    "* field `code` containing the product's code. \n",
    "* field `creator` indicating who added the product to the dataset. \n",
    "* field `countries` showing where the product is selled. \n",
    "* fields that end with `_t` are dates in the UNIX timestamp format (number of seconds since Jan 1st 1970)\n",
    "* fields that end with `_datetime` are dates in the iso8601 format: yyyy-mm-ddThh:mn:ssZ\n",
    "* fields that end with `_tags` are comma separated list of tags (e.g. categories_tags is the set of normalized tags computer from the categories field)\n",
    "* fields that end with a language 2 letter code (e.g. fr for French) is the set of tags in that language\n",
    "* fields that end with `_100g` correspond to the amount of a nutriment (in g, or kJ for energy) for 100 g or 100 ml of product\n",
    "* fields that end with `_serving` correspond to the amount of a nutriment (in g, or kJ for energy) for 1 serving of the product"
   ]
  },
  {
   "cell_type": "markdown",
   "metadata": {},
   "source": [
    "**TODO:** Add general cleaning part if it is still necessary"
   ]
  },
  {
   "cell_type": "markdown",
   "metadata": {},
   "source": [
    "## Bio vs. regular products\n",
    "\n",
    "A lot of products claim to be bio. Different terms are used depending on the location (organic, bio, ...), but overall they all refer to the same fact that the product was mostly produced in compliance with the standards of [organic farming](https://en.wikipedia.org/wiki/Organic_farming). In the common knowledge, people often claim that organic or bio products are healthier than non-organic products.\n",
    "\n",
    "In the upcoming analysis, we will try to investigate whether this statement is quantitavely true or if sometimes companies take advantage of the \"bio\" acronym to gain market shares.\n",
    "\n",
    "We will conduct this analysis by investigating different columns of interest: \n",
    "\n",
    "* We have access to two different nutritional scores. We will try to investigate whether differences can be observed with respect to this column, i.e if bio/organic products tend to obtain better nutritional scores than standard products.\n",
    "    - In addition, some bio products may obtain bad nutritional scores. We will try to pinpoint why some bio products would still get such bad scores.\n",
    "    \n",
    "    \n",
    "* As stated above, organic products should undergo as little tratment as possible, inducing a more natural product. This should directly be represented by a lower capacity in additives. Hence as a first step we will assess whether there is a different in additives between bio and normal products.\n",
    "\n",
    "### Extracting organic/bio products\n",
    "\n",
    "Some product contain words such as 'bio', 'biologic', 'organic' in their `product_name`, so this can be use to distinguish them from normal products. In addition, the dataset contains the columns `labels`, `labels_tags` and `labels_en`, which contain information about quality labels/certifications which also include bio products.\n",
    "\n",
    "Thus, these columns can be used to split the dataset into 'bio' products and regular products. We will seach for keywords in these columns to determine if a product is bio:"
   ]
  },
  {
   "cell_type": "code",
   "execution_count": null,
   "metadata": {
    "ExecuteTime": {
     "end_time": "2019-12-15T18:18:49.048652Z",
     "start_time": "2019-12-15T18:18:49.033031Z"
    }
   },
   "outputs": [],
   "source": [
    "bio_keywords = ['bio', 'organi'] # bio --> bio, biological, biologique, etc.; organi --> organic, organique\n",
    "\n",
    "contains_bio_keywords = lambda x: any([(kw in str(x)) for kw in bio_keywords])"
   ]
  },
  {
   "cell_type": "markdown",
   "metadata": {},
   "source": [
    "Let's add a new boolean column to the dataframe, to specify is the product is organic:"
   ]
  },
  {
   "cell_type": "code",
   "execution_count": null,
   "metadata": {
    "ExecuteTime": {
     "end_time": "2019-12-15T18:18:59.374397Z",
     "start_time": "2019-12-15T18:18:50.517063Z"
    }
   },
   "outputs": [],
   "source": [
    "# Check for products matching the bio keywords in the 4 columns\n",
    "bio_products = (food_facts_df['product_name'].apply(contains_bio_keywords)) \\\n",
    "             | (food_facts_df['labels'].apply(contains_bio_keywords)) \\\n",
    "             | (food_facts_df['labels_tags'].apply(contains_bio_keywords)) \\\n",
    "             | (food_facts_df['labels_en'].apply(contains_bio_keywords))\n",
    "\n",
    "food_facts_df['bio'] = bio_products\n",
    "\n",
    "print('There are {} bio products, and {} non-bio products.'.format(food_facts_df['bio'].sum(), \n",
    "                                                len(food_facts_df['bio']) - food_facts_df['bio'].sum()))\n",
    "food_facts_df[food_facts_df['bio'] == True].head(5)"
   ]
  },
  {
   "cell_type": "markdown",
   "metadata": {},
   "source": [
    "We now have partition of our dataset into two sets: organic and regular products."
   ]
  },
  {
   "cell_type": "markdown",
   "metadata": {},
   "source": [
    "## Categorical analysis\n",
    "\n",
    "**TODO: explain that this was a point of improvement from milestone 2**\n",
    "\n",
    "For our analysis, we want to compare organic and regular products in terms of nutrional score, contained additives, nova groups and more. However, as shown in the previous section we have two highly unbalanced classes, as there are much fewer organic products. In addition to this, we don't know if the distribution of product categories is different between the regular and organic data. For instance, it could be possible that for organic products there are much more juices than other types of products.\n",
    "\n",
    "In order to provide a more rigourous analysis, we will try to split the dataset into different categories, and then perform a comparative analysis in each category"
   ]
  },
  {
   "cell_type": "markdown",
   "metadata": {},
   "source": [
    "### Determining the categories of products in the dataset\n",
    "\n",
    "The open food facts dataset contains several columns representing the categories : **TODO: list the columns**. The column that is most present is `categories_en`. It is composed of a set of categories separated by commas. In addition, there are some metadata inside it to specify the language of the keywords, such `en:` and `fr:` for english and french respectively.\n",
    "\n",
    "Our goal is to find out which categories are actually present in `categories_en`. Then we can find common categories to split the dataset based on keywords. For instance, if we wanted to find all the dairy products, we could look for the keywords `[milk, cheese, yoghurt]` in `categories_en`. \n",
    "\n",
    "We can also look for keywords related to the category in the `product_name` column. However, it would be more difficult to obtain a reliable splitting. Indeed, if we had a product named `goat milk`, it could be classified in the `meat` category since its name contains `goat`, whereas it's `categories_en` columns would not have `meat` in it. For this reason, we use only the `categories_en` column. **TODO: maybe check with both columns**"
   ]
  },
  {
   "cell_type": "code",
   "execution_count": null,
   "metadata": {
    "ExecuteTime": {
     "end_time": "2019-12-15T18:19:00.092926Z",
     "start_time": "2019-12-15T18:18:59.952335Z"
    },
    "scrolled": true
   },
   "outputs": [],
   "source": [
    "# Get the relevant column from the dataset\n",
    "categories_df = food_facts_df[['categories_en']].dropna().copy()\n",
    "categories_df.head(5)"
   ]
  },
  {
   "cell_type": "markdown",
   "metadata": {},
   "source": [
    "Our goal is to identify the most common words describing the categories of products across the dataset. \n",
    "\n",
    "We use the [CountVectorizer](https://scikit-learn.org/stable/modules/generated/sklearn.feature_extraction.text.CountVectorizer.html) class to build a bag of words from `categories_en`.\n",
    "\n",
    "We leverage the arguments of the class to transform all the words to lowercase, ignore stopwords and perform character normalization (remove accents, etc.). In addition, we discard the words that have less than **50** occurences."
   ]
  },
  {
   "cell_type": "code",
   "execution_count": null,
   "metadata": {
    "ExecuteTime": {
     "end_time": "2019-12-15T18:19:07.682132Z",
     "start_time": "2019-12-15T18:19:00.670952Z"
    }
   },
   "outputs": [],
   "source": [
    "def strip_accents(words):\n",
    "    \"\"\" Remove accents in a list of words. \"\"\"\n",
    "    \n",
    "    # If words is [], None or similar\n",
    "    if not words:\n",
    "        return words \n",
    "    \n",
    "    # We use the CountVectorizer to actually remove accents\n",
    "    vectorizer = CountVectorizer(lowercase=False, strip_accents='ascii')\n",
    "    vectorizer.fit_transform(words)\n",
    "    \n",
    "    return vectorizer.get_feature_names()\n",
    "\n",
    "# We use the stopwords from nltk\n",
    "from nltk.corpus import stopwords\n",
    "\n",
    "# We need french+english stopwords as there are both languages in the column\n",
    "stop_words = stopwords.words('english')\n",
    "stop_words.extend(strip_accents(stopwords.words('french')))\n",
    "\n",
    "# These labels is present in the column to signify french/english categories\n",
    "stop_words.append('fr')\n",
    "stop_words.append('en')\n",
    "\n",
    "# Remove dupplicates if any\n",
    "stop_words = list(set(stop_words))\n",
    "\n",
    "min_occurences = 50\n",
    "\n",
    "vectorizer = CountVectorizer(stop_words=stop_words, lowercase=True, \n",
    "                             strip_accents='ascii', min_df=min_occurences)\n",
    "\n",
    "bag = vectorizer.fit_transform(categories_df['categories_en'].values)\n",
    "bag_features = vectorizer.get_feature_names()\n",
    "print('There are {} different words in total.'.format(len(bag_features)))\n",
    "print('Keywords:', bag_features[:10]) "
   ]
  },
  {
   "cell_type": "markdown",
   "metadata": {},
   "source": [
    "Let's find out the most common words:"
   ]
  },
  {
   "cell_type": "code",
   "execution_count": null,
   "metadata": {
    "ExecuteTime": {
     "end_time": "2019-12-15T18:19:09.150501Z",
     "start_time": "2019-12-15T18:19:08.244467Z"
    }
   },
   "outputs": [],
   "source": [
    "# Sum along the columns to get the total number of occurencies of each token\n",
    "words_occurences = np.array(bag.sum(axis=0))[0]\n",
    "\n",
    "# Build a dataframe with the words occurencies\n",
    "words_occurencies_df = pd.DataFrame({'word':bag_features,'count':words_occurences}).sort_values(by=['count'],ascending=False)\\\n",
    "                            .reset_index().drop(columns='index')\n",
    "\n",
    "# Plot the most common words\n",
    "n = 50\n",
    "plt.figure(figsize=(10,20))\n",
    "plt.barh(words_occurencies_df.loc[0:n]['word'].values[::-1],\n",
    "         words_occurencies_df.loc[0:n]['count'].values[::-1])\n",
    "plt.title('Words occurencies of the \"categories_en\" tag (first {})'.format(n))\n",
    "plt.ylabel('Word')\n",
    "plt.xlabel('Nb. occurences')\n",
    "plt.show()"
   ]
  },
  {
   "cell_type": "markdown",
   "metadata": {},
   "source": [
    "There is a good list of words that can be used for categories, although some of them are too general, for instance the most common ones which are `foods` and `based`.\n",
    "\n",
    "Let's clean the column `categories_en` using the same pre-processing and stop-words removal as before:"
   ]
  },
  {
   "cell_type": "code",
   "execution_count": null,
   "metadata": {
    "ExecuteTime": {
     "end_time": "2019-12-15T18:19:31.185909Z",
     "start_time": "2019-12-15T18:19:09.775452Z"
    }
   },
   "outputs": [],
   "source": [
    "preprocessor = vectorizer.build_preprocessor()\n",
    "tokenizer = vectorizer.build_tokenizer()\n",
    "\n",
    "categories_df['categories_en'] = categories_df['categories_en'].apply(preprocessor).apply(tokenizer)\\\n",
    "                                    .apply(lambda words: ' '.join([w for w in words if w not in stop_words]))\n",
    "categories_df.head(5)"
   ]
  },
  {
   "cell_type": "markdown",
   "metadata": {},
   "source": [
    "We can now define a function that can be used to obtain the product that belong to a specific category defined by keywords:"
   ]
  },
  {
   "cell_type": "code",
   "execution_count": null,
   "metadata": {
    "ExecuteTime": {
     "end_time": "2019-12-15T18:19:31.842052Z",
     "start_time": "2019-12-15T18:19:31.826351Z"
    }
   },
   "outputs": [],
   "source": [
    "def find_products_from_category(raw_df, pre_processed_df, category_keywords):\n",
    "    \"\"\" Obtain the products that fall in a given category.\n",
    "    \n",
    "    A product belong to a category if its column `categories_en` contain\n",
    "    one of the category_keywords.\n",
    "    \n",
    "    Args:\n",
    "        raw_df: raw Open Food Facts dataframe to be able to fetch all the products information\n",
    "        pre_processed_df: datframe where the columns `categories_en` have been\n",
    "                          cleaned of stopwords, case, accents, etc.\n",
    "        category_keywords: List of keywords to find in `categories_en`. Note that since the\n",
    "                           pre_processed_df is a clean string, there is no need to include\n",
    "                           variations such as `cheese` and `cheeses`, a common step is enough.\n",
    "        \n",
    "    Return:\n",
    "        The products that belong to the categories, with all the info from raw_df\n",
    "    \n",
    "    \"\"\"\n",
    "    \n",
    "    products = pre_processed_df[pre_processed_df['categories_en'].apply(\n",
    "                lambda x : any(kw in x for kw in category_keywords))]\n",
    "    \n",
    "    return raw_df.loc[products.index]"
   ]
  },
  {
   "cell_type": "markdown",
   "metadata": {},
   "source": [
    "For instance let's obtain the dairy products:"
   ]
  },
  {
   "cell_type": "code",
   "execution_count": null,
   "metadata": {
    "ExecuteTime": {
     "end_time": "2019-12-15T15:22:54.846573Z",
     "start_time": "2019-12-15T15:22:54.257559Z"
    }
   },
   "outputs": [],
   "source": [
    "dairy_kw = ['dairies','milk','cheese']\n",
    "dairy_df = find_products_from_category(food_facts_df, categories_df, category_keywords=dairy_kw)\n",
    "print('There are {} dairy products.'.format(dairy_df.shape[0]))\n",
    "dairy_df.head(10)"
   ]
  },
  {
   "cell_type": "markdown",
   "metadata": {},
   "source": [
    "### Choice of categories\n",
    "\n",
    "There are several possible choice of categories in which we can split the products. For instance, the products could be selected and grouped based on their type, following the food pyramid:\n",
    "\n",
    "<img src=\"images/Food_pyramid.gif\">\n",
    "\n",
    "However, this splitting would yield highly unbalanced categories, and we would not produce granular categories.\n",
    "\n",
    "Instead, we decided to choose a set of categories and sub-categories drawing inspiration from the [Ciqual dataset](https://www.data.gouv.fr/en/datasets/table-de-composition-nutritionnelle-des-aliments-ciqual/) that we investigated during milestone 2. The food products are separated in 3 levels of categories, and we produced the following categories based on it. As we have products in english as well as in french, we provide the french translation of the subcategory to search as well in this languages."
   ]
  },
  {
   "cell_type": "code",
   "execution_count": null,
   "metadata": {
    "ExecuteTime": {
     "end_time": "2019-12-15T18:19:32.482492Z",
     "start_time": "2019-12-15T18:19:32.451284Z"
    }
   },
   "outputs": [],
   "source": [
    "categories = \\\n",
    "{\n",
    "    'meat, fish, egg':\n",
    "    {\n",
    "        'meat': 'viande',\n",
    "        'fish': 'poisson',\n",
    "        'egg': 'oeuf',\n",
    "    },\n",
    "    \n",
    "    # TODO: check : Not enough data in openfoodfact from fresh products as there is mostly processed food\n",
    "    'fruit, vegetable':\n",
    "    {\n",
    "        'fruit': 'fruit',\n",
    "        'vegetable': 'legume',\n",
    "        'legume': 'Legumineuse',\n",
    "        'seed': 'graine',\n",
    "    },\n",
    "    \n",
    "    'cereal': # Cereal-based products\n",
    "    {\n",
    "        'pasta': 'pate',\n",
    "        'rice': 'riz',\n",
    "        'flour': 'farine',\n",
    "        'bread': 'pain',\n",
    "        'biscuit': 'biscuit',\n",
    "        #'cereals': 'cereales' # Breakfast\n",
    "    },\n",
    "    \n",
    "    'drink':\n",
    "    {\n",
    "        'water': 'eau',\n",
    "        'juice': 'jus',\n",
    "        'soda': 'boisson gazeuse',\n",
    "        'alcohol': 'alcool',\n",
    "    },\n",
    "    \n",
    "    'dairy':\n",
    "    {\n",
    "        'milk': 'lait',\n",
    "        'cheese': 'fromage',\n",
    "        'yoghurt': 'yaourt',\n",
    "        'cream': 'creme',\n",
    "    },\n",
    "    \n",
    "    'cooking ingredient':\n",
    "    {\n",
    "        'salsa': 'sauce',\n",
    "        'spice': 'epice',\n",
    "        'salt': 'sel',\n",
    "        'herb': 'herbe',\n",
    "        'condiment': 'condiment',\n",
    "    },\n",
    "    \n",
    "    'fat':\n",
    "    {\n",
    "        'oil': 'huile',\n",
    "        'butter': 'beurre',\n",
    "    },\n",
    "    \n",
    "    'sugary product':\n",
    "    {\n",
    "        'sugar': 'sucre',\n",
    "        'jam': 'confiture',\n",
    "        'candy': 'bonbon',\n",
    "        'chocolate': 'chocolat',\n",
    "        'ice cream': 'glace',\n",
    "    },\n",
    "}"
   ]
  },
  {
   "cell_type": "markdown",
   "metadata": {},
   "source": [
    "We have quite a few categories, but we now need to find keywords associated to each of them. We could create this list manually but this can prove to be quite tedious and time-consuming. Instead we will harness the power of web-scraping to get such lists automatically."
   ]
  },
  {
   "cell_type": "markdown",
   "metadata": {},
   "source": [
    "### Web scraping the category keywords\n",
    "\n",
    "Wikipedia has pages that list food by categories, but the formatting not homogenous and we would not go faster if we needed to implement a robust scrapping method.\n",
    "\n",
    "Instead, what we can do is use the name of our categories and find their synonyms using [synonymy](http://www.synonymy.com/synonym.php?word=bob) for instance. For each keywords of categories, we can fetch a list of synonym that we cross-reference with the actual categories in our dataset (obtained previously with CountVectorizer). Finally, we manually filter out the words that are too generic or irrelevant.\n",
    "\n",
    "We will use BeautifulSoup for web scraping the results."
   ]
  },
  {
   "cell_type": "code",
   "execution_count": null,
   "metadata": {
    "ExecuteTime": {
     "end_time": "2019-12-15T18:19:33.294793Z",
     "start_time": "2019-12-15T18:19:33.122957Z"
    }
   },
   "outputs": [],
   "source": [
    "import requests\n",
    "from bs4 import BeautifulSoup"
   ]
  },
  {
   "cell_type": "markdown",
   "metadata": {},
   "source": [
    "Let's define a function to get the webpage associated to the word of which we want to know the synonyms, and fetch the results. We chose this website because it is easy to scrap, and it has also a french version which uses the same HTML layout !"
   ]
  },
  {
   "cell_type": "code",
   "execution_count": null,
   "metadata": {
    "ExecuteTime": {
     "end_time": "2019-12-15T18:19:34.278905Z",
     "start_time": "2019-12-15T18:19:34.247701Z"
    }
   },
   "outputs": [],
   "source": [
    "def get_synonyms(word, language='en'):\n",
    "    \"\"\" Fetch the list of synonyms by scrapping the website http://www.synonymy.com, \n",
    "    or its French version http://www.synonymes.com (which is exactly the same).\n",
    "    \n",
    "    Args:\n",
    "        word: Word for which to fetch the synonyms\n",
    "        language: 'en' or 'fr'\n",
    "        \n",
    "    Return:\n",
    "        A list of string which are the synonyms.\n",
    "    \n",
    "    \"\"\"\n",
    "    BASE_URL_EN = 'http://www.synonymy.com/synonym.php?word={word}'\n",
    "    BASE_URL_FR = 'http://www.synonymes.com/synonyme.php?mot={word}'\n",
    "    \n",
    "    # Build url\n",
    "    if language == 'en':\n",
    "        url = BASE_URL_EN.format(word=word)\n",
    "    elif language == 'fr':\n",
    "        url = BASE_URL_FR.format(word=word)\n",
    "\n",
    "    # Get web page for specified word\n",
    "    r = requests.get(url)\n",
    "    soup = BeautifulSoup(r.text, 'html.parser')\n",
    "    \n",
    "    synonyms = []\n",
    "    \n",
    "    # The synonyms on this website are in 'div' with class 'defbox'\n",
    "    for defbox in soup.find_all('div', {'class': 'defbox'}):\n",
    "        synonyms_links = defbox.find_all('a')\n",
    "        synonyms.extend([s.text for s in synonyms_links])\n",
    "        \n",
    "    # Remove dupplicates\n",
    "    synonyms = list(set(synonyms))\n",
    "    \n",
    "    # Remove empty strings ('')\n",
    "    synonyms = [s for s in synonyms if s]\n",
    "    \n",
    "    # Remove accents\n",
    "    synonyms = strip_accents(synonyms)\n",
    "    \n",
    "    return synonyms"
   ]
  },
  {
   "cell_type": "markdown",
   "metadata": {},
   "source": [
    "Let's see how it works:"
   ]
  },
  {
   "cell_type": "code",
   "execution_count": null,
   "metadata": {
    "ExecuteTime": {
     "end_time": "2019-12-15T10:36:20.399365Z",
     "start_time": "2019-12-15T10:36:20.060430Z"
    }
   },
   "outputs": [],
   "source": [
    "print('english:', get_synonyms('fruit', 'en'))\n",
    "print('french:', get_synonyms('fruit', 'fr'))"
   ]
  },
  {
   "cell_type": "markdown",
   "metadata": {},
   "source": [
    "Now, we have a way to find keywords related to our categories. For each subcategory, we can fetch the synonyms in english and in french. We keep only the synonyms that are present in the list of keywords of categories that we had extracted from the Open Food Facts dataset:"
   ]
  },
  {
   "cell_type": "code",
   "execution_count": null,
   "metadata": {
    "ExecuteTime": {
     "end_time": "2019-12-15T10:37:25.375349Z",
     "start_time": "2019-12-15T10:36:20.399365Z"
    }
   },
   "outputs": [],
   "source": [
    "# Build the list of keywords for the sub categories\n",
    "category_keywords = copy.deepcopy(categories)\n",
    "\n",
    "for category in categories:\n",
    "    print(category)\n",
    "    for english, french in categories[category].items():\n",
    "        \n",
    "        # Fetch synonyms\n",
    "        synonyms = get_synonyms(english, 'en')\n",
    "        synonyms.extend(get_synonyms(french, 'fr'))\n",
    "        \n",
    "        # Remove dupplicates\n",
    "        synonyms = list(set(synonyms))\n",
    "        \n",
    "        # Keep only categories in Open Food Facts\n",
    "        synonyms = [s for s in synonyms if s in words_occurencies_df.word.values]\n",
    "        \n",
    "        # Always include name of sub category\n",
    "        if french != english:\n",
    "            synonyms.insert(0, french)\n",
    "        synonyms.insert(0, english)\n",
    "        \n",
    "        category_keywords[category][english] = synonyms\n",
    "        \n",
    "        print('\\t', english)\n",
    "        print('\\t\\t', category_keywords[category][english])"
   ]
  },
  {
   "cell_type": "markdown",
   "metadata": {},
   "source": [
    "As you can see the keywords are quite good, but there are still a few irrelevant keywords (for instance: `jam` is associated with the words `fix` and `box` which are not synonyms in the case of the food.\n",
    "\n",
    "There are few keywords so that we can manually edit the results and remove the irrelevant or too generic keywords; we can also add some if we feel like there are some missing."
   ]
  },
  {
   "cell_type": "code",
   "execution_count": null,
   "metadata": {
    "ExecuteTime": {
     "end_time": "2019-12-15T10:37:25.406017Z",
     "start_time": "2019-12-15T10:37:25.375349Z"
    }
   },
   "outputs": [],
   "source": [
    "# Save as json for manual editing\n",
    "with open('data/category_keywords.json', 'w') as outfile:\n",
    "    json.dump(category_keywords, outfile, indent=2)"
   ]
  },
  {
   "cell_type": "markdown",
   "metadata": {},
   "source": [
    "Here is the final version after manual editing:"
   ]
  },
  {
   "cell_type": "code",
   "execution_count": null,
   "metadata": {
    "ExecuteTime": {
     "end_time": "2019-12-15T20:09:42.398435Z",
     "start_time": "2019-12-15T20:09:42.387465Z"
    },
    "scrolled": false
   },
   "outputs": [],
   "source": [
    "with open('data/category_keywords_edited.json', 'r') as file:\n",
    "    category_keywords = json.load(file)\n",
    "\n",
    "pprint.pprint(category_keywords)"
   ]
  },
  {
   "cell_type": "markdown",
   "metadata": {},
   "source": [
    "With this final list of keywords, we can easily fetch the products that belong to a given sub-category."
   ]
  },
  {
   "cell_type": "markdown",
   "metadata": {},
   "source": [
    "### Categorical dataframes\n",
    "\n",
    "We can now split the data in categories. Please note that the **categories may overlap !** Indeed, we merely search by keywords and do not impose any constraints on the obtained set of products. This is fine as long as we keep this fact in mind.\n",
    "\n",
    "Let's fill in a dictionary that will contain a dataframe for each subcategory. For the parent categories, we would simply need to merge the children subcategory dataframes."
   ]
  },
  {
   "cell_type": "code",
   "execution_count": null,
   "metadata": {
    "ExecuteTime": {
     "end_time": "2019-12-15T20:10:20.491045Z",
     "start_time": "2019-12-15T20:09:50.410270Z"
    }
   },
   "outputs": [],
   "source": [
    "sub_categories_df_dict = copy.deepcopy(categories)\n",
    "\n",
    "parent_categories_df_dict = {}\n",
    "\n",
    "for category in sub_categories_df_dict:\n",
    "    print(category)\n",
    "    \n",
    "    for subcategory in sub_categories_df_dict[category]:\n",
    "        \n",
    "        # Get keywords associated to the subcategory\n",
    "        subcategory_kw = category_keywords[category][subcategory]\n",
    "\n",
    "        # Get dataframe of products in the subcategory\n",
    "        sub_categories_df_dict[category][subcategory] = \\\n",
    "                                find_products_from_category(food_facts_df, categories_df, \n",
    "                                                            category_keywords=subcategory_kw)\n",
    "        \n",
    "        print('\\t', subcategory)\n",
    "        print('\\t\\t number of products:', sub_categories_df_dict[category][subcategory].shape[0])\n",
    "    \n",
    "    parent_categories_df_dict[category] = pd.concat([df for df in sub_categories_df_dict[category].values()])\n",
    "    print('\\t total products:', parent_categories_df_dict[category].shape[0])"
   ]
  },
  {
   "cell_type": "markdown",
   "metadata": {},
   "source": [
    "**TODO: remove haha**\n",
    "\n",
    "**My beloved team members you can now use the dataframe of each sub categories as follows:**"
   ]
  },
  {
   "cell_type": "code",
   "execution_count": null,
   "metadata": {
    "ExecuteTime": {
     "end_time": "2019-12-15T10:37:45.527207Z",
     "start_time": "2019-12-15T10:37:45.464732Z"
    }
   },
   "outputs": [],
   "source": [
    "# For a subcategory\n",
    "sub_categories_df_dict['sugary product']['sugar'].head(5)\n",
    "\n",
    "# For a parent category\n",
    "parent_categories_df_dict['sugary product'].head(5)"
   ]
  },
  {
   "cell_type": "markdown",
   "metadata": {},
   "source": [
    "## Plot generation"
   ]
  },
  {
   "cell_type": "markdown",
   "metadata": {},
   "source": [
    "**TEAM:** Until we have a good altair plot, you can use the following snippet to plot by categories or sub categories:"
   ]
  },
  {
   "cell_type": "code",
   "execution_count": null,
   "metadata": {
    "ExecuteTime": {
     "end_time": "2019-12-15T13:55:09.468847Z",
     "start_time": "2019-12-15T13:55:09.268360Z"
    }
   },
   "outputs": [],
   "source": [
    "score_field = 'nutrition_grade_fr' # or 'nova_group' or 'nutrition-score-uk_100g'\n",
    "\n",
    "category = 'sugary product'\n",
    "subcategory = 'sugar'\n",
    "\n",
    "df = sub_categories_df_dict[category][subcategory]\n",
    "\n",
    "# For a parent category\n",
    "#df = parent_categories_df_dict[category]\n",
    "\n",
    "scores_df = pd.DataFrame([df[df['bio'] == True][score_field].value_counts(normalize=True).sort_index().rename('bio'),\n",
    "             df[df['bio'] == False][score_field].value_counts(normalize=True).sort_index().rename('regular')])\n",
    "\n",
    "scores_df = scores_df.transpose()\n",
    "\n",
    "scores_df.plot(kind='bar', color=['green', 'orange'], rot=0, figsize=(12, 6))\n",
    "\n",
    "plt.title('Distribution of nutritional score (nutrition_grade_fr field)')\n",
    "plt.xlabel('Score')\n",
    "plt.ylabel('Proportion')\n",
    "\n",
    "plt.show()"
   ]
  },
  {
   "cell_type": "markdown",
   "metadata": {},
   "source": [
    "### Nutritional score for each category\n",
    "\n",
    "We want to plot the nutritional score for bio vs. regular products. The score distribution can be filtered for a category of products or a subcategory of products."
   ]
  },
  {
   "cell_type": "markdown",
   "metadata": {},
   "source": [
    "We could leverage the Altair API to use directly the whole dataframe as in the following commented cell, but then every product would be encoded in the final json files for each plot, which is intractable."
   ]
  },
  {
   "cell_type": "code",
   "execution_count": null,
   "metadata": {
    "ExecuteTime": {
     "end_time": "2019-12-15T10:37:45.542829Z",
     "start_time": "2019-12-15T10:37:45.527207Z"
    }
   },
   "outputs": [],
   "source": [
    "\"\"\"score_field = 'nutrition_grade_fr'\n",
    "\n",
    "bar_plot = alt.Chart(food_facts_df).mark_bar().encode(\n",
    "    x= alt.X(score_field, bin=True),\n",
    "    y='Count()'\n",
    "    color='bio'\n",
    ")\"\"\""
   ]
  },
  {
   "cell_type": "markdown",
   "metadata": {},
   "source": [
    "Instead, we generate much smaller dataframe with the final data we want to plot and render them using Altair."
   ]
  },
  {
   "cell_type": "code",
   "execution_count": null,
   "metadata": {
    "ExecuteTime": {
     "end_time": "2019-12-15T16:52:43.663667Z",
     "start_time": "2019-12-15T16:52:29.635766Z"
    },
    "scrolled": true
   },
   "outputs": [],
   "source": [
    "score_field = 'nutrition_grade_fr'\n",
    "\n",
    "scores_bio_df = pd.DataFrame([food_facts_df[food_facts_df['bio'] == True][score_field] \\\n",
    "                                                .value_counts(normalize=True).sort_index().rename('proportion')])\n",
    "\n",
    "scores_bio_df = scores_bio_df.transpose()\n",
    "scores_bio_df['type'] = 'bio'\n",
    "\n",
    "scores_regular_df = pd.DataFrame([food_facts_df[food_facts_df['bio'] == False][score_field] \\\n",
    "                                                .value_counts(normalize=True).sort_index().rename('proportion')])\n",
    "\n",
    "scores_regular_df = scores_regular_df.transpose()\n",
    "scores_regular_df['type'] = 'regular'\n",
    "\n",
    "scores_df = pd.concat([scores_bio_df, scores_regular_df])\n",
    "scores_df.reset_index(level=0, inplace=True)\n",
    "scores_df.rename(columns={'index': 'score'}, inplace=True)\n",
    "\n",
    "scores_df"
   ]
  },
  {
   "cell_type": "code",
   "execution_count": null,
   "metadata": {
    "ExecuteTime": {
     "end_time": "2019-12-15T13:13:43.502028Z",
     "start_time": "2019-12-15T13:13:43.472703Z"
    }
   },
   "outputs": [],
   "source": [
    "hover = alt.selection_single(on='mouseover', nearest=False, empty='none', encodings=['y'])\n",
    "\n",
    "bar_plot = alt.Chart(scores_df).mark_bar().encode(\n",
    "    column = alt.Column('score:N', title='Nutritional score'),\n",
    "    x = alt.X('type:O', title=None, axis=None),\n",
    "    y = alt.Y('proportion:Q', title='Proportion of products'),\n",
    "    color = alt.Color('type:N', title='Type of product'),\n",
    "    strokeOpacity = alt.condition(hover, alt.value(1), alt.value(0)),\n",
    "    tooltip = alt.Tooltip(['proportion'], format='.1%')) \\\n",
    "        .configure_bar(cornerRadius=3, stroke='blue', strokeWidth=3) \\\n",
    "        .configure_axis(grid=False) \\\n",
    "        .configure_view(strokeOpacity=0) \\\n",
    "        .add_selection(hover)"
   ]
  },
  {
   "cell_type": "code",
   "execution_count": null,
   "metadata": {
    "ExecuteTime": {
     "end_time": "2019-12-15T13:13:48.442198Z",
     "start_time": "2019-12-15T13:13:48.421895Z"
    }
   },
   "outputs": [],
   "source": [
    "bar_plot.save('plots/bar.html')"
   ]
  },
  {
   "cell_type": "markdown",
   "metadata": {},
   "source": [
    "### Sunburst categories"
   ]
  },
  {
   "cell_type": "code",
   "execution_count": null,
   "metadata": {
    "ExecuteTime": {
     "end_time": "2019-12-15T16:04:56.140068Z",
     "start_time": "2019-12-15T16:04:56.108815Z"
    }
   },
   "outputs": [],
   "source": [
    "def categories_to_json_tree(categories, json_path):\n",
    "    \n",
    "    tree = []\n",
    "    \n",
    "    element_id = 1\n",
    "    root_id = element_id\n",
    "    \n",
    "    tree.append({\n",
    "            'id': element_id,\n",
    "            'name': 'all products',\n",
    "        })\n",
    "    \n",
    "    for category in categories:\n",
    "        element_id += 1\n",
    "        parent_id = element_id\n",
    "        \n",
    "        tree.append({\n",
    "            'id': element_id,\n",
    "            'name': category,\n",
    "            'parent': root_id\n",
    "        })\n",
    "        \n",
    "        for subcategory in categories[category]:\n",
    "            element_id += 1\n",
    "            \n",
    "            tree.append({\n",
    "                'id': element_id,\n",
    "                'name': subcategory,\n",
    "                'parent': parent_id,\n",
    "                'size': 20\n",
    "            })\n",
    "            \n",
    "    with open(json_path, 'w') as outfile:\n",
    "        json.dump(tree, outfile)"
   ]
  },
  {
   "cell_type": "code",
   "execution_count": null,
   "metadata": {
    "ExecuteTime": {
     "end_time": "2019-12-15T16:05:01.176134Z",
     "start_time": "2019-12-15T16:05:01.160507Z"
    }
   },
   "outputs": [],
   "source": [
    "categories_to_json_tree(categories, 'data/categories_tree.json')"
   ]
  },
  {
   "cell_type": "markdown",
   "metadata": {},
   "source": [
    "### Select categories plot"
   ]
  },
  {
   "cell_type": "code",
   "execution_count": null,
   "metadata": {
    "ExecuteTime": {
     "end_time": "2019-12-15T18:19:57.828622Z",
     "start_time": "2019-12-15T18:19:57.796969Z"
    }
   },
   "outputs": [],
   "source": [
    "def compute_category_summary(field, cat='all products', subcat=None):\n",
    "    \n",
    "    # Get the correct data collection\n",
    "    if cat == 'all products':\n",
    "        df = food_facts_df\n",
    "    elif subcat is None and cat in parent_categories_df_dict:\n",
    "        df = parent_categories_df_dict[cat]\n",
    "    elif subcat and cat in parent_categories_df_dict and subcat in sub_categories_df_dict[cat]:\n",
    "        df = sub_categories_df_dict[cat][subcat]\n",
    "    else:\n",
    "        print('Unknown category')\n",
    "        return\n",
    "    \n",
    "    \n",
    "    summary_bio_df = pd.DataFrame([df[df['bio'] == True][field] \\\n",
    "                                        .value_counts(normalize=True).sort_index().rename('proportion')])\n",
    "\n",
    "    summary_bio_df = summary_bio_df.transpose()\n",
    "    summary_bio_df['type'] = 'bio'\n",
    "\n",
    "    summary_regular_df = pd.DataFrame([df[df['bio'] == False][field] \\\n",
    "                                        .value_counts(normalize=True).sort_index().rename('proportion')])\n",
    "\n",
    "    summary_regular_df = summary_regular_df.transpose()\n",
    "    summary_regular_df['type'] = 'regular'\n",
    "\n",
    "    summary_df = pd.concat([summary_bio_df, summary_regular_df])\n",
    "    summary_df.reset_index(level=0, inplace=True)\n",
    "    summary_df.rename(columns={'index': 'score'}, inplace=True)\n",
    "    \n",
    "    # Add single category for filtering latter in the plots\n",
    "    if cat == 'all products':\n",
    "        summary_df['category'] = 'all products'\n",
    "    elif subcat is None and cat in parent_categories_df_dict:\n",
    "        summary_df['category'] = cat\n",
    "    elif subcat and cat in parent_categories_df_dict and subcat in sub_categories_df_dict[cat]:\n",
    "        summary_df['category'] = subcat\n",
    "\n",
    "    return summary_df\n",
    "\n",
    "def compute_all_categories_summary(field):\n",
    "    \n",
    "    summary_df = compute_category_summary(field, cat='all products', subcat=None)\n",
    "    \n",
    "    for category in sub_categories_df_dict:\n",
    "        \n",
    "        summary_df = pd.concat([summary_df, compute_category_summary(field, cat=category, subcat=None)])\n",
    "    \n",
    "        for subcategory in sub_categories_df_dict[category]:\n",
    "            \n",
    "            summary_df = pd.concat([summary_df, \n",
    "                                    compute_category_summary(field, cat=category, subcat=subcategory)])\n",
    "                                   \n",
    "    summary_df.reset_index(level=0, drop = True, inplace=True)\n",
    "    \n",
    "    return summary_df"
   ]
  },
  {
   "cell_type": "code",
   "execution_count": null,
   "metadata": {
    "ExecuteTime": {
     "end_time": "2019-12-15T18:20:13.058877Z",
     "start_time": "2019-12-15T18:20:00.077540Z"
    },
    "scrolled": false
   },
   "outputs": [],
   "source": [
    "scores_df = compute_all_categories_summary(field='nutrition_grade_fr')\n",
    "scores_df"
   ]
  },
  {
   "cell_type": "code",
   "execution_count": null,
   "metadata": {
    "ExecuteTime": {
     "end_time": "2019-12-15T18:20:15.183324Z",
     "start_time": "2019-12-15T18:20:15.042734Z"
    }
   },
   "outputs": [],
   "source": [
    "# Category dropdown filter\n",
    "genre_dropdown = alt.binding_select(options=list(scores_df['category'].value_counts().index), name=\"Product category\")\n",
    "genre_select = alt.selection_single(fields=['category'], bind=genre_dropdown, name=\"Product category\")\n",
    "\n",
    "bar_plot = alt.Chart(scores_df, width=150, title='Proportion of products for a given score for bio and non-bio products.').mark_bar().encode(\n",
    "    column = alt.Column('score:N', title='Nutritional score'),\n",
    "    x = alt.X('type:O', title=None, axis=None),\n",
    "    y = alt.Y('proportion:Q', title='Proportion of products'),\n",
    "    color = alt.Color('type:N', title='Type of product'),\n",
    "    tooltip = alt.Tooltip(['proportion'], format='.1%')) \\\n",
    "        .configure_bar(cornerRadius=3) \\\n",
    "        .configure_axis(grid=False, labelFontSize=16,titleFontSize=16) \\\n",
    "        .configure_view(strokeOpacity=0) \\\n",
    "        .add_selection(genre_select).transform_filter(genre_select)\n",
    "\n",
    "# To visualize the standalone plot \n",
    "bar_plot.save('plots/cat.html')"
   ]
  },
  {
   "cell_type": "code",
   "execution_count": null,
   "metadata": {
    "ExecuteTime": {
     "end_time": "2019-12-15T18:20:17.245338Z",
     "start_time": "2019-12-15T18:20:17.214099Z"
    }
   },
   "outputs": [],
   "source": [
    "# Save it to json for the data story\n",
    "bar_plot.save('plots/nutritional_score.json')"
   ]
  },
  {
   "cell_type": "markdown",
   "metadata": {},
   "source": [
    "# Interactive plots for FR nutritional score"
   ]
  },
  {
   "cell_type": "code",
   "execution_count": 555,
   "metadata": {},
   "outputs": [],
   "source": [
    "import plotly\n",
    "from plotly import graph_objs as go, tools\n",
    "import numpy as np\n",
    "import json"
   ]
  },
  {
   "cell_type": "code",
   "execution_count": 556,
   "metadata": {},
   "outputs": [
    {
     "data": {
      "text/html": [
       "<div>\n",
       "<style scoped>\n",
       "    .dataframe tbody tr th:only-of-type {\n",
       "        vertical-align: middle;\n",
       "    }\n",
       "\n",
       "    .dataframe tbody tr th {\n",
       "        vertical-align: top;\n",
       "    }\n",
       "\n",
       "    .dataframe thead th {\n",
       "        text-align: right;\n",
       "    }\n",
       "</style>\n",
       "<table border=\"1\" class=\"dataframe\">\n",
       "  <thead>\n",
       "    <tr style=\"text-align: right;\">\n",
       "      <th></th>\n",
       "      <th>score</th>\n",
       "      <th>proportion</th>\n",
       "      <th>type</th>\n",
       "      <th>category</th>\n",
       "    </tr>\n",
       "  </thead>\n",
       "  <tbody>\n",
       "    <tr>\n",
       "      <td>0</td>\n",
       "      <td>a</td>\n",
       "      <td>0.220811</td>\n",
       "      <td>bio</td>\n",
       "      <td>all products</td>\n",
       "    </tr>\n",
       "    <tr>\n",
       "      <td>1</td>\n",
       "      <td>b</td>\n",
       "      <td>0.162882</td>\n",
       "      <td>bio</td>\n",
       "      <td>all products</td>\n",
       "    </tr>\n",
       "    <tr>\n",
       "      <td>2</td>\n",
       "      <td>c</td>\n",
       "      <td>0.223159</td>\n",
       "      <td>bio</td>\n",
       "      <td>all products</td>\n",
       "    </tr>\n",
       "    <tr>\n",
       "      <td>3</td>\n",
       "      <td>d</td>\n",
       "      <td>0.244452</td>\n",
       "      <td>bio</td>\n",
       "      <td>all products</td>\n",
       "    </tr>\n",
       "    <tr>\n",
       "      <td>4</td>\n",
       "      <td>e</td>\n",
       "      <td>0.148697</td>\n",
       "      <td>bio</td>\n",
       "      <td>all products</td>\n",
       "    </tr>\n",
       "    <tr>\n",
       "      <td>...</td>\n",
       "      <td>...</td>\n",
       "      <td>...</td>\n",
       "      <td>...</td>\n",
       "      <td>...</td>\n",
       "    </tr>\n",
       "    <tr>\n",
       "      <td>404</td>\n",
       "      <td>a</td>\n",
       "      <td>0.006824</td>\n",
       "      <td>regular</td>\n",
       "      <td>ice cream</td>\n",
       "    </tr>\n",
       "    <tr>\n",
       "      <td>405</td>\n",
       "      <td>b</td>\n",
       "      <td>0.022118</td>\n",
       "      <td>regular</td>\n",
       "      <td>ice cream</td>\n",
       "    </tr>\n",
       "    <tr>\n",
       "      <td>406</td>\n",
       "      <td>c</td>\n",
       "      <td>0.308471</td>\n",
       "      <td>regular</td>\n",
       "      <td>ice cream</td>\n",
       "    </tr>\n",
       "    <tr>\n",
       "      <td>407</td>\n",
       "      <td>d</td>\n",
       "      <td>0.543294</td>\n",
       "      <td>regular</td>\n",
       "      <td>ice cream</td>\n",
       "    </tr>\n",
       "    <tr>\n",
       "      <td>408</td>\n",
       "      <td>e</td>\n",
       "      <td>0.119294</td>\n",
       "      <td>regular</td>\n",
       "      <td>ice cream</td>\n",
       "    </tr>\n",
       "  </tbody>\n",
       "</table>\n",
       "<p>409 rows × 4 columns</p>\n",
       "</div>"
      ],
      "text/plain": [
       "    score  proportion     type      category\n",
       "0       a    0.220811      bio  all products\n",
       "1       b    0.162882      bio  all products\n",
       "2       c    0.223159      bio  all products\n",
       "3       d    0.244452      bio  all products\n",
       "4       e    0.148697      bio  all products\n",
       "..    ...         ...      ...           ...\n",
       "404     a    0.006824  regular     ice cream\n",
       "405     b    0.022118  regular     ice cream\n",
       "406     c    0.308471  regular     ice cream\n",
       "407     d    0.543294  regular     ice cream\n",
       "408     e    0.119294  regular     ice cream\n",
       "\n",
       "[409 rows x 4 columns]"
      ]
     },
     "execution_count": 556,
     "metadata": {},
     "output_type": "execute_result"
    }
   ],
   "source": [
    "scores_df = compute_all_categories_summary(field='nutrition_grade_fr')\n",
    "scores_df"
   ]
  },
  {
   "cell_type": "code",
   "execution_count": 592,
   "metadata": {},
   "outputs": [],
   "source": [
    "def compute_sub_element(fig,df,category,ptype):\n",
    "    boolean=False\n",
    "    if cat == 'meat, fish, egg':\n",
    "        boolean = True\n",
    "    \n",
    "    if ptype == 'bar':\n",
    "        \n",
    "        fig.add_trace(go.Bar(x=df[(df['category'] == category) & \\\n",
    "                                  (df['type'] == 'regular')]['score'], \\\n",
    "                             y=df[(df['category'] == category) & \\\n",
    "                                  (df['type'] == 'regular')]['proportion'], \n",
    "                             name='Regular products', \n",
    "                             marker_color='#736372',\n",
    "                             visible=boolean))\n",
    "        \n",
    "        fig.add_trace(go.Bar(x=df[(df['category'] == category) & \\\n",
    "                                  (df['type'] == 'bio')]['score'], \\\n",
    "                             y=df[(df['category'] == category) & \\\n",
    "                                  (df['type'] == 'bio')]['proportion'], \n",
    "                             name='Bio products', \n",
    "                             marker_color='#7DCD85',\n",
    "                             visible=boolean))\n",
    "        \n",
    "    elif ptype == 'scatter':\n",
    "        \n",
    "        fig.add_trace(go.Scatter(x=df[(df['category'] == category) & \\\n",
    "                                  (df['type'] == 'regular')]['score'], \\\n",
    "                                 y=df[(df['category'] == category) & \\\n",
    "                                  (df['type'] == 'regular')]['proportion'], \n",
    "                                 name='Regular products', \n",
    "                                 marker_color='#736372',\n",
    "                                 visible=boolean,\n",
    "                                 fill='tozeroy'))\n",
    "        \n",
    "        fig.add_trace(go.Scatter(x=df[(df['category'] == category) & \\\n",
    "                                  (df['type'] == 'bio')]['score'], \\\n",
    "                                 y=df[(df['category'] == category) & \\\n",
    "                                  (df['type'] == 'bio')]['proportion'], \n",
    "                                 name='Bio products', \n",
    "                                 marker_color='#7DCD85',\n",
    "                                 visible=boolean,\n",
    "                                 fill='tozeroy'))\n",
    "\n",
    "    elif ptype == 'radar':\n",
    "        \n",
    "        sub_df = df[(df['category'] == category) & (df['type'] == 'regular')]\n",
    "        sub_df = sub_df.sort_values(by='additive')\n",
    "        theta = list(sub_df['additive'].values)\n",
    "        theta.append(sub_df['additive'].values[0])\n",
    "        r = list(sub_df['proportion'].values)\n",
    "        r.append(sub_df['proportion'].values[0])\n",
    "        \n",
    "        fig.add_trace(go.Scatterpolar(r=r, \\\n",
    "                                      theta=theta, \n",
    "                                      name='Regular products', \n",
    "                                      marker_color='#736372',\n",
    "                                      visible=boolean,\n",
    "                                      fill='toself'))\n",
    "                \n",
    "        sub_df = df[(df['category'] == category) & (df['type'] == 'bio')]\n",
    "        sub_df = sub_df.sort_values(by='additive')\n",
    "        theta = list(sub_df['additive'].values)\n",
    "        theta.append(sub_df['additive'].values[0])\n",
    "        r = list(sub_df['proportion'].values)\n",
    "        r.append(sub_df['proportion'].values[0])\n",
    "        \n",
    "        fig.add_trace(go.Scatterpolar(r=r, \\\n",
    "                                      theta=theta, \n",
    "                                      name='Bio products', \n",
    "                                      marker_color='#7DCD85',\n",
    "                                      visible=boolean,\n",
    "                                      fill='toself'))\n",
    "        \n",
    "    return fig"
   ]
  },
  {
   "cell_type": "code",
   "execution_count": 558,
   "metadata": {},
   "outputs": [],
   "source": [
    "def construct_bool_visibility(bool_vector, cur_cat, cat_list, depth='parent'):  \n",
    "    n = len(bool_vector)\n",
    "    idx = cat_list.index(cur_cat)\n",
    "    bool_vector[(2*idx):(2*idx+2)] = True\n",
    "    return bool_vector   "
   ]
  },
  {
   "cell_type": "code",
   "execution_count": 559,
   "metadata": {},
   "outputs": [
    {
     "data": {
      "application/vnd.plotly.v1+json": {
       "config": {
        "plotlyServerURL": "https://plot.ly"
       },
       "data": [
        {
         "marker": {
          "color": "#736372"
         },
         "name": "Regular products",
         "opacity": 0.5,
         "type": "bar",
         "visible": true,
         "x": [
          "a",
          "b",
          "c",
          "d",
          "e"
         ],
         "y": [
          0.12398212296966979,
          0.19671965171610814,
          0.23812898653437278,
          0.26131416421990483,
          0.17985507455994446
         ]
        },
        {
         "marker": {
          "color": "#7DCD85"
         },
         "name": "Bio products",
         "opacity": 0.5,
         "type": "bar",
         "visible": true,
         "x": [
          "a",
          "b",
          "c",
          "d",
          "e"
         ],
         "y": [
          0.22217806041335453,
          0.23430047694753578,
          0.2539745627980922,
          0.20488871224165342,
          0.08465818759936407
         ]
        },
        {
         "marker": {
          "color": "#736372"
         },
         "name": "Regular products",
         "opacity": 0.5,
         "type": "bar",
         "visible": false,
         "x": [
          "a",
          "b",
          "c",
          "d",
          "e"
         ],
         "y": [
          0.29934139457086106,
          0.13207652367843328,
          0.26293340767327594,
          0.2082168867825905,
          0.09743178729483919
         ]
        },
        {
         "marker": {
          "color": "#7DCD85"
         },
         "name": "Bio products",
         "opacity": 0.5,
         "type": "bar",
         "visible": false,
         "x": [
          "a",
          "b",
          "c",
          "d",
          "e"
         ],
         "y": [
          0.3603855721393035,
          0.16480099502487564,
          0.255838861249309,
          0.1638336097291321,
          0.05514096185737977
         ]
        },
        {
         "marker": {
          "color": "#736372"
         },
         "name": "Regular products",
         "opacity": 0.5,
         "type": "bar",
         "visible": false,
         "x": [
          "a",
          "b",
          "c",
          "d",
          "e"
         ],
         "y": [
          0.1422875816993464,
          0.12176470588235294,
          0.1591285403050109,
          0.2911111111111111,
          0.28570806100217866
         ]
        },
        {
         "marker": {
          "color": "#7DCD85"
         },
         "name": "Bio products",
         "opacity": 0.5,
         "type": "bar",
         "visible": false,
         "x": [
          "a",
          "b",
          "c",
          "d",
          "e"
         ],
         "y": [
          0.28922585794094174,
          0.1375897845171588,
          0.13551476456504388,
          0.2490023942537909,
          0.18866719872306464
         ]
        },
        {
         "marker": {
          "color": "#736372"
         },
         "name": "Regular products",
         "opacity": 0.5,
         "type": "bar",
         "visible": false,
         "x": [
          "a",
          "b",
          "c",
          "d",
          "e"
         ],
         "y": [
          0.11215476120369824,
          0.13762440374536247,
          0.22937400624227078,
          0.16274071020552383,
          0.3581061186031447
         ]
        },
        {
         "marker": {
          "color": "#7DCD85"
         },
         "name": "Bio products",
         "opacity": 0.5,
         "type": "bar",
         "visible": false,
         "x": [
          "a",
          "b",
          "c",
          "d",
          "e"
         ],
         "y": [
          0.01579163248564397,
          0.17596390484003283,
          0.2945036915504512,
          0.19216570959803117,
          0.32157506152584087
         ]
        },
        {
         "marker": {
          "color": "#736372"
         },
         "name": "Regular products",
         "opacity": 0.5,
         "type": "bar",
         "visible": false,
         "x": [
          "a",
          "b",
          "c",
          "d",
          "e"
         ],
         "y": [
          0.07940373161341274,
          0.13735233143571687,
          0.1751620652209681,
          0.49402744414097205,
          0.11405442758893021
         ]
        },
        {
         "marker": {
          "color": "#7DCD85"
         },
         "name": "Bio products",
         "opacity": 0.5,
         "type": "bar",
         "visible": false,
         "x": [
          "a",
          "b",
          "c",
          "d",
          "e"
         ],
         "y": [
          0.1046203649205415,
          0.27972336668628606,
          0.1883460859329017,
          0.3253384343731607,
          0.10197174808711007
         ]
        },
        {
         "marker": {
          "color": "#736372"
         },
         "name": "Regular products",
         "opacity": 0.5,
         "type": "bar",
         "visible": false,
         "x": [
          "a",
          "b",
          "c",
          "d",
          "e"
         ],
         "y": [
          0.063804900871396,
          0.07205099713433534,
          0.2584361658576525,
          0.44669278905199133,
          0.15901514708462483
         ]
        },
        {
         "marker": {
          "color": "#7DCD85"
         },
         "name": "Bio products",
         "opacity": 0.5,
         "type": "bar",
         "visible": false,
         "x": [
          "a",
          "b",
          "c",
          "d",
          "e"
         ],
         "y": [
          0.138283378746594,
          0.08923705722070845,
          0.2939373297002725,
          0.3399182561307902,
          0.13862397820163488
         ]
        },
        {
         "marker": {
          "color": "#736372"
         },
         "name": "Regular products",
         "opacity": 0.5,
         "type": "bar",
         "visible": false,
         "x": [
          "a",
          "b",
          "c",
          "d",
          "e"
         ],
         "y": [
          0.0357788562184794,
          0.05785517175754116,
          0.38890474831097155,
          0.3094490436768484,
          0.20801218003615948
         ]
        },
        {
         "marker": {
          "color": "#7DCD85"
         },
         "name": "Bio products",
         "opacity": 0.5,
         "type": "bar",
         "visible": false,
         "x": [
          "a",
          "b",
          "c",
          "d",
          "e"
         ],
         "y": [
          0.03360370799536501,
          0.03186558516801854,
          0.38933951332560834,
          0.32444959443800697,
          0.22074159907300117
         ]
        },
        {
         "marker": {
          "color": "#736372"
         },
         "name": "Regular products",
         "opacity": 0.5,
         "type": "bar",
         "visible": false,
         "x": [
          "a",
          "b",
          "c",
          "d",
          "e"
         ],
         "y": [
          0.009888641425389755,
          0.025389755011135856,
          0.16356347438752783,
          0.29208611729769857,
          0.5090720118782479
         ]
        },
        {
         "marker": {
          "color": "#7DCD85"
         },
         "name": "Bio products",
         "opacity": 0.5,
         "type": "bar",
         "visible": false,
         "x": [
          "a",
          "b",
          "c",
          "d",
          "e"
         ],
         "y": [
          0.018535681186283594,
          0.02757182576459685,
          0.23378127896200185,
          0.34522706209453197,
          0.37488415199258573
         ]
        }
       ],
       "layout": {
        "annotations": [
         {
          "align": "left",
          "showarrow": false,
          "text": "Category:",
          "x": -0.6,
          "y": 1.08,
          "yref": "paper"
         }
        ],
        "plot_bgcolor": "rgba(0,0,0,0)",
        "template": {
         "data": {
          "bar": [
           {
            "error_x": {
             "color": "#2a3f5f"
            },
            "error_y": {
             "color": "#2a3f5f"
            },
            "marker": {
             "line": {
              "color": "#E5ECF6",
              "width": 0.5
             }
            },
            "type": "bar"
           }
          ],
          "barpolar": [
           {
            "marker": {
             "line": {
              "color": "#E5ECF6",
              "width": 0.5
             }
            },
            "type": "barpolar"
           }
          ],
          "carpet": [
           {
            "aaxis": {
             "endlinecolor": "#2a3f5f",
             "gridcolor": "white",
             "linecolor": "white",
             "minorgridcolor": "white",
             "startlinecolor": "#2a3f5f"
            },
            "baxis": {
             "endlinecolor": "#2a3f5f",
             "gridcolor": "white",
             "linecolor": "white",
             "minorgridcolor": "white",
             "startlinecolor": "#2a3f5f"
            },
            "type": "carpet"
           }
          ],
          "choropleth": [
           {
            "colorbar": {
             "outlinewidth": 0,
             "ticks": ""
            },
            "type": "choropleth"
           }
          ],
          "contour": [
           {
            "colorbar": {
             "outlinewidth": 0,
             "ticks": ""
            },
            "colorscale": [
             [
              0,
              "#0d0887"
             ],
             [
              0.1111111111111111,
              "#46039f"
             ],
             [
              0.2222222222222222,
              "#7201a8"
             ],
             [
              0.3333333333333333,
              "#9c179e"
             ],
             [
              0.4444444444444444,
              "#bd3786"
             ],
             [
              0.5555555555555556,
              "#d8576b"
             ],
             [
              0.6666666666666666,
              "#ed7953"
             ],
             [
              0.7777777777777778,
              "#fb9f3a"
             ],
             [
              0.8888888888888888,
              "#fdca26"
             ],
             [
              1,
              "#f0f921"
             ]
            ],
            "type": "contour"
           }
          ],
          "contourcarpet": [
           {
            "colorbar": {
             "outlinewidth": 0,
             "ticks": ""
            },
            "type": "contourcarpet"
           }
          ],
          "heatmap": [
           {
            "colorbar": {
             "outlinewidth": 0,
             "ticks": ""
            },
            "colorscale": [
             [
              0,
              "#0d0887"
             ],
             [
              0.1111111111111111,
              "#46039f"
             ],
             [
              0.2222222222222222,
              "#7201a8"
             ],
             [
              0.3333333333333333,
              "#9c179e"
             ],
             [
              0.4444444444444444,
              "#bd3786"
             ],
             [
              0.5555555555555556,
              "#d8576b"
             ],
             [
              0.6666666666666666,
              "#ed7953"
             ],
             [
              0.7777777777777778,
              "#fb9f3a"
             ],
             [
              0.8888888888888888,
              "#fdca26"
             ],
             [
              1,
              "#f0f921"
             ]
            ],
            "type": "heatmap"
           }
          ],
          "heatmapgl": [
           {
            "colorbar": {
             "outlinewidth": 0,
             "ticks": ""
            },
            "colorscale": [
             [
              0,
              "#0d0887"
             ],
             [
              0.1111111111111111,
              "#46039f"
             ],
             [
              0.2222222222222222,
              "#7201a8"
             ],
             [
              0.3333333333333333,
              "#9c179e"
             ],
             [
              0.4444444444444444,
              "#bd3786"
             ],
             [
              0.5555555555555556,
              "#d8576b"
             ],
             [
              0.6666666666666666,
              "#ed7953"
             ],
             [
              0.7777777777777778,
              "#fb9f3a"
             ],
             [
              0.8888888888888888,
              "#fdca26"
             ],
             [
              1,
              "#f0f921"
             ]
            ],
            "type": "heatmapgl"
           }
          ],
          "histogram": [
           {
            "marker": {
             "colorbar": {
              "outlinewidth": 0,
              "ticks": ""
             }
            },
            "type": "histogram"
           }
          ],
          "histogram2d": [
           {
            "colorbar": {
             "outlinewidth": 0,
             "ticks": ""
            },
            "colorscale": [
             [
              0,
              "#0d0887"
             ],
             [
              0.1111111111111111,
              "#46039f"
             ],
             [
              0.2222222222222222,
              "#7201a8"
             ],
             [
              0.3333333333333333,
              "#9c179e"
             ],
             [
              0.4444444444444444,
              "#bd3786"
             ],
             [
              0.5555555555555556,
              "#d8576b"
             ],
             [
              0.6666666666666666,
              "#ed7953"
             ],
             [
              0.7777777777777778,
              "#fb9f3a"
             ],
             [
              0.8888888888888888,
              "#fdca26"
             ],
             [
              1,
              "#f0f921"
             ]
            ],
            "type": "histogram2d"
           }
          ],
          "histogram2dcontour": [
           {
            "colorbar": {
             "outlinewidth": 0,
             "ticks": ""
            },
            "colorscale": [
             [
              0,
              "#0d0887"
             ],
             [
              0.1111111111111111,
              "#46039f"
             ],
             [
              0.2222222222222222,
              "#7201a8"
             ],
             [
              0.3333333333333333,
              "#9c179e"
             ],
             [
              0.4444444444444444,
              "#bd3786"
             ],
             [
              0.5555555555555556,
              "#d8576b"
             ],
             [
              0.6666666666666666,
              "#ed7953"
             ],
             [
              0.7777777777777778,
              "#fb9f3a"
             ],
             [
              0.8888888888888888,
              "#fdca26"
             ],
             [
              1,
              "#f0f921"
             ]
            ],
            "type": "histogram2dcontour"
           }
          ],
          "mesh3d": [
           {
            "colorbar": {
             "outlinewidth": 0,
             "ticks": ""
            },
            "type": "mesh3d"
           }
          ],
          "parcoords": [
           {
            "line": {
             "colorbar": {
              "outlinewidth": 0,
              "ticks": ""
             }
            },
            "type": "parcoords"
           }
          ],
          "pie": [
           {
            "automargin": true,
            "type": "pie"
           }
          ],
          "scatter": [
           {
            "marker": {
             "colorbar": {
              "outlinewidth": 0,
              "ticks": ""
             }
            },
            "type": "scatter"
           }
          ],
          "scatter3d": [
           {
            "line": {
             "colorbar": {
              "outlinewidth": 0,
              "ticks": ""
             }
            },
            "marker": {
             "colorbar": {
              "outlinewidth": 0,
              "ticks": ""
             }
            },
            "type": "scatter3d"
           }
          ],
          "scattercarpet": [
           {
            "marker": {
             "colorbar": {
              "outlinewidth": 0,
              "ticks": ""
             }
            },
            "type": "scattercarpet"
           }
          ],
          "scattergeo": [
           {
            "marker": {
             "colorbar": {
              "outlinewidth": 0,
              "ticks": ""
             }
            },
            "type": "scattergeo"
           }
          ],
          "scattergl": [
           {
            "marker": {
             "colorbar": {
              "outlinewidth": 0,
              "ticks": ""
             }
            },
            "type": "scattergl"
           }
          ],
          "scattermapbox": [
           {
            "marker": {
             "colorbar": {
              "outlinewidth": 0,
              "ticks": ""
             }
            },
            "type": "scattermapbox"
           }
          ],
          "scatterpolar": [
           {
            "marker": {
             "colorbar": {
              "outlinewidth": 0,
              "ticks": ""
             }
            },
            "type": "scatterpolar"
           }
          ],
          "scatterpolargl": [
           {
            "marker": {
             "colorbar": {
              "outlinewidth": 0,
              "ticks": ""
             }
            },
            "type": "scatterpolargl"
           }
          ],
          "scatterternary": [
           {
            "marker": {
             "colorbar": {
              "outlinewidth": 0,
              "ticks": ""
             }
            },
            "type": "scatterternary"
           }
          ],
          "surface": [
           {
            "colorbar": {
             "outlinewidth": 0,
             "ticks": ""
            },
            "colorscale": [
             [
              0,
              "#0d0887"
             ],
             [
              0.1111111111111111,
              "#46039f"
             ],
             [
              0.2222222222222222,
              "#7201a8"
             ],
             [
              0.3333333333333333,
              "#9c179e"
             ],
             [
              0.4444444444444444,
              "#bd3786"
             ],
             [
              0.5555555555555556,
              "#d8576b"
             ],
             [
              0.6666666666666666,
              "#ed7953"
             ],
             [
              0.7777777777777778,
              "#fb9f3a"
             ],
             [
              0.8888888888888888,
              "#fdca26"
             ],
             [
              1,
              "#f0f921"
             ]
            ],
            "type": "surface"
           }
          ],
          "table": [
           {
            "cells": {
             "fill": {
              "color": "#EBF0F8"
             },
             "line": {
              "color": "white"
             }
            },
            "header": {
             "fill": {
              "color": "#C8D4E3"
             },
             "line": {
              "color": "white"
             }
            },
            "type": "table"
           }
          ]
         },
         "layout": {
          "annotationdefaults": {
           "arrowcolor": "#2a3f5f",
           "arrowhead": 0,
           "arrowwidth": 1
          },
          "coloraxis": {
           "colorbar": {
            "outlinewidth": 0,
            "ticks": ""
           }
          },
          "colorscale": {
           "diverging": [
            [
             0,
             "#8e0152"
            ],
            [
             0.1,
             "#c51b7d"
            ],
            [
             0.2,
             "#de77ae"
            ],
            [
             0.3,
             "#f1b6da"
            ],
            [
             0.4,
             "#fde0ef"
            ],
            [
             0.5,
             "#f7f7f7"
            ],
            [
             0.6,
             "#e6f5d0"
            ],
            [
             0.7,
             "#b8e186"
            ],
            [
             0.8,
             "#7fbc41"
            ],
            [
             0.9,
             "#4d9221"
            ],
            [
             1,
             "#276419"
            ]
           ],
           "sequential": [
            [
             0,
             "#0d0887"
            ],
            [
             0.1111111111111111,
             "#46039f"
            ],
            [
             0.2222222222222222,
             "#7201a8"
            ],
            [
             0.3333333333333333,
             "#9c179e"
            ],
            [
             0.4444444444444444,
             "#bd3786"
            ],
            [
             0.5555555555555556,
             "#d8576b"
            ],
            [
             0.6666666666666666,
             "#ed7953"
            ],
            [
             0.7777777777777778,
             "#fb9f3a"
            ],
            [
             0.8888888888888888,
             "#fdca26"
            ],
            [
             1,
             "#f0f921"
            ]
           ],
           "sequentialminus": [
            [
             0,
             "#0d0887"
            ],
            [
             0.1111111111111111,
             "#46039f"
            ],
            [
             0.2222222222222222,
             "#7201a8"
            ],
            [
             0.3333333333333333,
             "#9c179e"
            ],
            [
             0.4444444444444444,
             "#bd3786"
            ],
            [
             0.5555555555555556,
             "#d8576b"
            ],
            [
             0.6666666666666666,
             "#ed7953"
            ],
            [
             0.7777777777777778,
             "#fb9f3a"
            ],
            [
             0.8888888888888888,
             "#fdca26"
            ],
            [
             1,
             "#f0f921"
            ]
           ]
          },
          "colorway": [
           "#636efa",
           "#EF553B",
           "#00cc96",
           "#ab63fa",
           "#FFA15A",
           "#19d3f3",
           "#FF6692",
           "#B6E880",
           "#FF97FF",
           "#FECB52"
          ],
          "font": {
           "color": "#2a3f5f"
          },
          "geo": {
           "bgcolor": "white",
           "lakecolor": "white",
           "landcolor": "#E5ECF6",
           "showlakes": true,
           "showland": true,
           "subunitcolor": "white"
          },
          "hoverlabel": {
           "align": "left"
          },
          "hovermode": "closest",
          "mapbox": {
           "style": "light"
          },
          "paper_bgcolor": "white",
          "plot_bgcolor": "#E5ECF6",
          "polar": {
           "angularaxis": {
            "gridcolor": "white",
            "linecolor": "white",
            "ticks": ""
           },
           "bgcolor": "#E5ECF6",
           "radialaxis": {
            "gridcolor": "white",
            "linecolor": "white",
            "ticks": ""
           }
          },
          "scene": {
           "xaxis": {
            "backgroundcolor": "#E5ECF6",
            "gridcolor": "white",
            "gridwidth": 2,
            "linecolor": "white",
            "showbackground": true,
            "ticks": "",
            "zerolinecolor": "white"
           },
           "yaxis": {
            "backgroundcolor": "#E5ECF6",
            "gridcolor": "white",
            "gridwidth": 2,
            "linecolor": "white",
            "showbackground": true,
            "ticks": "",
            "zerolinecolor": "white"
           },
           "zaxis": {
            "backgroundcolor": "#E5ECF6",
            "gridcolor": "white",
            "gridwidth": 2,
            "linecolor": "white",
            "showbackground": true,
            "ticks": "",
            "zerolinecolor": "white"
           }
          },
          "shapedefaults": {
           "line": {
            "color": "#2a3f5f"
           }
          },
          "ternary": {
           "aaxis": {
            "gridcolor": "white",
            "linecolor": "white",
            "ticks": ""
           },
           "baxis": {
            "gridcolor": "white",
            "linecolor": "white",
            "ticks": ""
           },
           "bgcolor": "#E5ECF6",
           "caxis": {
            "gridcolor": "white",
            "linecolor": "white",
            "ticks": ""
           }
          },
          "title": {
           "x": 0.05
          },
          "xaxis": {
           "automargin": true,
           "gridcolor": "white",
           "linecolor": "white",
           "ticks": "",
           "title": {
            "standoff": 15
           },
           "zerolinecolor": "white",
           "zerolinewidth": 2
          },
          "yaxis": {
           "automargin": true,
           "gridcolor": "white",
           "linecolor": "white",
           "ticks": "",
           "title": {
            "standoff": 15
           },
           "zerolinecolor": "white",
           "zerolinewidth": 2
          }
         }
        },
        "title": {
         "text": "Proportions of products of a given FR nutritional score for bio and non-bio products different food categories.",
         "x": 0.5,
         "xanchor": "center",
         "y": 0.95,
         "yanchor": "top"
        },
        "updatemenus": [
         {
          "buttons": [
           {
            "args": [
             {
              "visible": [
               true,
               true,
               false,
               false,
               false,
               false,
               false,
               false,
               false,
               false,
               false,
               false,
               false,
               false,
               false,
               false
              ]
             }
            ],
            "label": "meat, fish, egg",
            "method": "update"
           },
           {
            "args": [
             {
              "visible": [
               false,
               false,
               true,
               true,
               false,
               false,
               false,
               false,
               false,
               false,
               false,
               false,
               false,
               false,
               false,
               false
              ]
             }
            ],
            "label": "fruit, vegetable",
            "method": "update"
           },
           {
            "args": [
             {
              "visible": [
               false,
               false,
               false,
               false,
               true,
               true,
               false,
               false,
               false,
               false,
               false,
               false,
               false,
               false,
               false,
               false
              ]
             }
            ],
            "label": "cereal",
            "method": "update"
           },
           {
            "args": [
             {
              "visible": [
               false,
               false,
               false,
               false,
               false,
               false,
               true,
               true,
               false,
               false,
               false,
               false,
               false,
               false,
               false,
               false
              ]
             }
            ],
            "label": "drink",
            "method": "update"
           },
           {
            "args": [
             {
              "visible": [
               false,
               false,
               false,
               false,
               false,
               false,
               false,
               false,
               true,
               true,
               false,
               false,
               false,
               false,
               false,
               false
              ]
             }
            ],
            "label": "dairy",
            "method": "update"
           },
           {
            "args": [
             {
              "visible": [
               false,
               false,
               false,
               false,
               false,
               false,
               false,
               false,
               false,
               false,
               true,
               true,
               false,
               false,
               false,
               false
              ]
             }
            ],
            "label": "cooking ingredient",
            "method": "update"
           },
           {
            "args": [
             {
              "visible": [
               false,
               false,
               false,
               false,
               false,
               false,
               false,
               false,
               false,
               false,
               false,
               false,
               true,
               true,
               false,
               false
              ]
             }
            ],
            "label": "fat",
            "method": "update"
           },
           {
            "args": [
             {
              "visible": [
               false,
               false,
               false,
               false,
               false,
               false,
               false,
               false,
               false,
               false,
               false,
               false,
               false,
               false,
               true,
               true
              ]
             }
            ],
            "label": "sugary product",
            "method": "update"
           }
          ],
          "direction": "down",
          "showactive": true,
          "x": 0.1,
          "xanchor": "left",
          "y": 1.1,
          "yanchor": "top"
         }
        ],
        "xaxis": {
         "tickfont": {
          "size": 14
         },
         "title": {
          "font": {
           "size": 16
          },
          "text": "FR Nutritional score"
         },
         "type": "category"
        },
        "yaxis": {
         "gridcolor": "black",
         "tickfont": {
          "size": 14
         },
         "title": {
          "font": {
           "size": 16
          },
          "text": "Propotions"
         }
        }
       }
      },
      "text/html": [
       "<div>\n",
       "        \n",
       "        \n",
       "            <div id=\"214b937d-795e-4e35-a5b0-f03f3e658fc3\" class=\"plotly-graph-div\" style=\"height:525px; width:100%;\"></div>\n",
       "            <script type=\"text/javascript\">\n",
       "                require([\"plotly\"], function(Plotly) {\n",
       "                    window.PLOTLYENV=window.PLOTLYENV || {};\n",
       "                    \n",
       "                if (document.getElementById(\"214b937d-795e-4e35-a5b0-f03f3e658fc3\")) {\n",
       "                    Plotly.newPlot(\n",
       "                        '214b937d-795e-4e35-a5b0-f03f3e658fc3',\n",
       "                        [{\"marker\": {\"color\": \"#736372\"}, \"name\": \"Regular products\", \"opacity\": 0.5, \"type\": \"bar\", \"visible\": true, \"x\": [\"a\", \"b\", \"c\", \"d\", \"e\"], \"y\": [0.12398212296966979, 0.19671965171610814, 0.23812898653437278, 0.26131416421990483, 0.17985507455994446]}, {\"marker\": {\"color\": \"#7DCD85\"}, \"name\": \"Bio products\", \"opacity\": 0.5, \"type\": \"bar\", \"visible\": true, \"x\": [\"a\", \"b\", \"c\", \"d\", \"e\"], \"y\": [0.22217806041335453, 0.23430047694753578, 0.2539745627980922, 0.20488871224165342, 0.08465818759936407]}, {\"marker\": {\"color\": \"#736372\"}, \"name\": \"Regular products\", \"opacity\": 0.5, \"type\": \"bar\", \"visible\": false, \"x\": [\"a\", \"b\", \"c\", \"d\", \"e\"], \"y\": [0.29934139457086106, 0.13207652367843328, 0.26293340767327594, 0.2082168867825905, 0.09743178729483919]}, {\"marker\": {\"color\": \"#7DCD85\"}, \"name\": \"Bio products\", \"opacity\": 0.5, \"type\": \"bar\", \"visible\": false, \"x\": [\"a\", \"b\", \"c\", \"d\", \"e\"], \"y\": [0.3603855721393035, 0.16480099502487564, 0.255838861249309, 0.1638336097291321, 0.05514096185737977]}, {\"marker\": {\"color\": \"#736372\"}, \"name\": \"Regular products\", \"opacity\": 0.5, \"type\": \"bar\", \"visible\": false, \"x\": [\"a\", \"b\", \"c\", \"d\", \"e\"], \"y\": [0.1422875816993464, 0.12176470588235294, 0.1591285403050109, 0.2911111111111111, 0.28570806100217866]}, {\"marker\": {\"color\": \"#7DCD85\"}, \"name\": \"Bio products\", \"opacity\": 0.5, \"type\": \"bar\", \"visible\": false, \"x\": [\"a\", \"b\", \"c\", \"d\", \"e\"], \"y\": [0.28922585794094174, 0.1375897845171588, 0.13551476456504388, 0.2490023942537909, 0.18866719872306464]}, {\"marker\": {\"color\": \"#736372\"}, \"name\": \"Regular products\", \"opacity\": 0.5, \"type\": \"bar\", \"visible\": false, \"x\": [\"a\", \"b\", \"c\", \"d\", \"e\"], \"y\": [0.11215476120369824, 0.13762440374536247, 0.22937400624227078, 0.16274071020552383, 0.3581061186031447]}, {\"marker\": {\"color\": \"#7DCD85\"}, \"name\": \"Bio products\", \"opacity\": 0.5, \"type\": \"bar\", \"visible\": false, \"x\": [\"a\", \"b\", \"c\", \"d\", \"e\"], \"y\": [0.01579163248564397, 0.17596390484003283, 0.2945036915504512, 0.19216570959803117, 0.32157506152584087]}, {\"marker\": {\"color\": \"#736372\"}, \"name\": \"Regular products\", \"opacity\": 0.5, \"type\": \"bar\", \"visible\": false, \"x\": [\"a\", \"b\", \"c\", \"d\", \"e\"], \"y\": [0.07940373161341274, 0.13735233143571687, 0.1751620652209681, 0.49402744414097205, 0.11405442758893021]}, {\"marker\": {\"color\": \"#7DCD85\"}, \"name\": \"Bio products\", \"opacity\": 0.5, \"type\": \"bar\", \"visible\": false, \"x\": [\"a\", \"b\", \"c\", \"d\", \"e\"], \"y\": [0.1046203649205415, 0.27972336668628606, 0.1883460859329017, 0.3253384343731607, 0.10197174808711007]}, {\"marker\": {\"color\": \"#736372\"}, \"name\": \"Regular products\", \"opacity\": 0.5, \"type\": \"bar\", \"visible\": false, \"x\": [\"a\", \"b\", \"c\", \"d\", \"e\"], \"y\": [0.063804900871396, 0.07205099713433534, 0.2584361658576525, 0.44669278905199133, 0.15901514708462483]}, {\"marker\": {\"color\": \"#7DCD85\"}, \"name\": \"Bio products\", \"opacity\": 0.5, \"type\": \"bar\", \"visible\": false, \"x\": [\"a\", \"b\", \"c\", \"d\", \"e\"], \"y\": [0.138283378746594, 0.08923705722070845, 0.2939373297002725, 0.3399182561307902, 0.13862397820163488]}, {\"marker\": {\"color\": \"#736372\"}, \"name\": \"Regular products\", \"opacity\": 0.5, \"type\": \"bar\", \"visible\": false, \"x\": [\"a\", \"b\", \"c\", \"d\", \"e\"], \"y\": [0.0357788562184794, 0.05785517175754116, 0.38890474831097155, 0.3094490436768484, 0.20801218003615948]}, {\"marker\": {\"color\": \"#7DCD85\"}, \"name\": \"Bio products\", \"opacity\": 0.5, \"type\": \"bar\", \"visible\": false, \"x\": [\"a\", \"b\", \"c\", \"d\", \"e\"], \"y\": [0.03360370799536501, 0.03186558516801854, 0.38933951332560834, 0.32444959443800697, 0.22074159907300117]}, {\"marker\": {\"color\": \"#736372\"}, \"name\": \"Regular products\", \"opacity\": 0.5, \"type\": \"bar\", \"visible\": false, \"x\": [\"a\", \"b\", \"c\", \"d\", \"e\"], \"y\": [0.009888641425389755, 0.025389755011135856, 0.16356347438752783, 0.29208611729769857, 0.5090720118782479]}, {\"marker\": {\"color\": \"#7DCD85\"}, \"name\": \"Bio products\", \"opacity\": 0.5, \"type\": \"bar\", \"visible\": false, \"x\": [\"a\", \"b\", \"c\", \"d\", \"e\"], \"y\": [0.018535681186283594, 0.02757182576459685, 0.23378127896200185, 0.34522706209453197, 0.37488415199258573]}],\n",
       "                        {\"annotations\": [{\"align\": \"left\", \"showarrow\": false, \"text\": \"Category:\", \"x\": -0.6, \"y\": 1.08, \"yref\": \"paper\"}], \"plot_bgcolor\": \"rgba(0,0,0,0)\", \"template\": {\"data\": {\"bar\": [{\"error_x\": {\"color\": \"#2a3f5f\"}, \"error_y\": {\"color\": \"#2a3f5f\"}, \"marker\": {\"line\": {\"color\": \"#E5ECF6\", \"width\": 0.5}}, \"type\": \"bar\"}], \"barpolar\": [{\"marker\": {\"line\": {\"color\": \"#E5ECF6\", \"width\": 0.5}}, \"type\": \"barpolar\"}], \"carpet\": [{\"aaxis\": {\"endlinecolor\": \"#2a3f5f\", \"gridcolor\": \"white\", \"linecolor\": \"white\", \"minorgridcolor\": \"white\", \"startlinecolor\": \"#2a3f5f\"}, \"baxis\": {\"endlinecolor\": \"#2a3f5f\", \"gridcolor\": \"white\", \"linecolor\": \"white\", \"minorgridcolor\": \"white\", \"startlinecolor\": \"#2a3f5f\"}, \"type\": \"carpet\"}], \"choropleth\": [{\"colorbar\": {\"outlinewidth\": 0, \"ticks\": \"\"}, \"type\": \"choropleth\"}], \"contour\": [{\"colorbar\": {\"outlinewidth\": 0, \"ticks\": \"\"}, \"colorscale\": [[0.0, \"#0d0887\"], [0.1111111111111111, \"#46039f\"], [0.2222222222222222, \"#7201a8\"], [0.3333333333333333, \"#9c179e\"], [0.4444444444444444, \"#bd3786\"], [0.5555555555555556, \"#d8576b\"], [0.6666666666666666, \"#ed7953\"], [0.7777777777777778, \"#fb9f3a\"], [0.8888888888888888, \"#fdca26\"], [1.0, \"#f0f921\"]], \"type\": \"contour\"}], \"contourcarpet\": [{\"colorbar\": {\"outlinewidth\": 0, \"ticks\": \"\"}, \"type\": \"contourcarpet\"}], \"heatmap\": [{\"colorbar\": {\"outlinewidth\": 0, \"ticks\": \"\"}, \"colorscale\": [[0.0, \"#0d0887\"], [0.1111111111111111, \"#46039f\"], [0.2222222222222222, \"#7201a8\"], [0.3333333333333333, \"#9c179e\"], [0.4444444444444444, \"#bd3786\"], [0.5555555555555556, \"#d8576b\"], [0.6666666666666666, \"#ed7953\"], [0.7777777777777778, \"#fb9f3a\"], [0.8888888888888888, \"#fdca26\"], [1.0, \"#f0f921\"]], \"type\": \"heatmap\"}], \"heatmapgl\": [{\"colorbar\": {\"outlinewidth\": 0, \"ticks\": \"\"}, \"colorscale\": [[0.0, \"#0d0887\"], [0.1111111111111111, \"#46039f\"], [0.2222222222222222, \"#7201a8\"], [0.3333333333333333, \"#9c179e\"], [0.4444444444444444, \"#bd3786\"], [0.5555555555555556, \"#d8576b\"], [0.6666666666666666, \"#ed7953\"], [0.7777777777777778, \"#fb9f3a\"], [0.8888888888888888, \"#fdca26\"], [1.0, \"#f0f921\"]], \"type\": \"heatmapgl\"}], \"histogram\": [{\"marker\": {\"colorbar\": {\"outlinewidth\": 0, \"ticks\": \"\"}}, \"type\": \"histogram\"}], \"histogram2d\": [{\"colorbar\": {\"outlinewidth\": 0, \"ticks\": \"\"}, \"colorscale\": [[0.0, \"#0d0887\"], [0.1111111111111111, \"#46039f\"], [0.2222222222222222, \"#7201a8\"], [0.3333333333333333, \"#9c179e\"], [0.4444444444444444, \"#bd3786\"], [0.5555555555555556, \"#d8576b\"], [0.6666666666666666, \"#ed7953\"], [0.7777777777777778, \"#fb9f3a\"], [0.8888888888888888, \"#fdca26\"], [1.0, \"#f0f921\"]], \"type\": \"histogram2d\"}], \"histogram2dcontour\": [{\"colorbar\": {\"outlinewidth\": 0, \"ticks\": \"\"}, \"colorscale\": [[0.0, \"#0d0887\"], [0.1111111111111111, \"#46039f\"], [0.2222222222222222, \"#7201a8\"], [0.3333333333333333, \"#9c179e\"], [0.4444444444444444, \"#bd3786\"], [0.5555555555555556, \"#d8576b\"], [0.6666666666666666, \"#ed7953\"], [0.7777777777777778, \"#fb9f3a\"], [0.8888888888888888, \"#fdca26\"], [1.0, \"#f0f921\"]], \"type\": \"histogram2dcontour\"}], \"mesh3d\": [{\"colorbar\": {\"outlinewidth\": 0, \"ticks\": \"\"}, \"type\": \"mesh3d\"}], \"parcoords\": [{\"line\": {\"colorbar\": {\"outlinewidth\": 0, \"ticks\": \"\"}}, \"type\": \"parcoords\"}], \"pie\": [{\"automargin\": true, \"type\": \"pie\"}], \"scatter\": [{\"marker\": {\"colorbar\": {\"outlinewidth\": 0, \"ticks\": \"\"}}, \"type\": \"scatter\"}], \"scatter3d\": [{\"line\": {\"colorbar\": {\"outlinewidth\": 0, \"ticks\": \"\"}}, \"marker\": {\"colorbar\": {\"outlinewidth\": 0, \"ticks\": \"\"}}, \"type\": \"scatter3d\"}], \"scattercarpet\": [{\"marker\": {\"colorbar\": {\"outlinewidth\": 0, \"ticks\": \"\"}}, \"type\": \"scattercarpet\"}], \"scattergeo\": [{\"marker\": {\"colorbar\": {\"outlinewidth\": 0, \"ticks\": \"\"}}, \"type\": \"scattergeo\"}], \"scattergl\": [{\"marker\": {\"colorbar\": {\"outlinewidth\": 0, \"ticks\": \"\"}}, \"type\": \"scattergl\"}], \"scattermapbox\": [{\"marker\": {\"colorbar\": {\"outlinewidth\": 0, \"ticks\": \"\"}}, \"type\": \"scattermapbox\"}], \"scatterpolar\": [{\"marker\": {\"colorbar\": {\"outlinewidth\": 0, \"ticks\": \"\"}}, \"type\": \"scatterpolar\"}], \"scatterpolargl\": [{\"marker\": {\"colorbar\": {\"outlinewidth\": 0, \"ticks\": \"\"}}, \"type\": \"scatterpolargl\"}], \"scatterternary\": [{\"marker\": {\"colorbar\": {\"outlinewidth\": 0, \"ticks\": \"\"}}, \"type\": \"scatterternary\"}], \"surface\": [{\"colorbar\": {\"outlinewidth\": 0, \"ticks\": \"\"}, \"colorscale\": [[0.0, \"#0d0887\"], [0.1111111111111111, \"#46039f\"], [0.2222222222222222, \"#7201a8\"], [0.3333333333333333, \"#9c179e\"], [0.4444444444444444, \"#bd3786\"], [0.5555555555555556, \"#d8576b\"], [0.6666666666666666, \"#ed7953\"], [0.7777777777777778, \"#fb9f3a\"], [0.8888888888888888, \"#fdca26\"], [1.0, \"#f0f921\"]], \"type\": \"surface\"}], \"table\": [{\"cells\": {\"fill\": {\"color\": \"#EBF0F8\"}, \"line\": {\"color\": \"white\"}}, \"header\": {\"fill\": {\"color\": \"#C8D4E3\"}, \"line\": {\"color\": \"white\"}}, \"type\": \"table\"}]}, \"layout\": {\"annotationdefaults\": {\"arrowcolor\": \"#2a3f5f\", \"arrowhead\": 0, \"arrowwidth\": 1}, \"coloraxis\": {\"colorbar\": {\"outlinewidth\": 0, \"ticks\": \"\"}}, \"colorscale\": {\"diverging\": [[0, \"#8e0152\"], [0.1, \"#c51b7d\"], [0.2, \"#de77ae\"], [0.3, \"#f1b6da\"], [0.4, \"#fde0ef\"], [0.5, \"#f7f7f7\"], [0.6, \"#e6f5d0\"], [0.7, \"#b8e186\"], [0.8, \"#7fbc41\"], [0.9, \"#4d9221\"], [1, \"#276419\"]], \"sequential\": [[0.0, \"#0d0887\"], [0.1111111111111111, \"#46039f\"], [0.2222222222222222, \"#7201a8\"], [0.3333333333333333, \"#9c179e\"], [0.4444444444444444, \"#bd3786\"], [0.5555555555555556, \"#d8576b\"], [0.6666666666666666, \"#ed7953\"], [0.7777777777777778, \"#fb9f3a\"], [0.8888888888888888, \"#fdca26\"], [1.0, \"#f0f921\"]], \"sequentialminus\": [[0.0, \"#0d0887\"], [0.1111111111111111, \"#46039f\"], [0.2222222222222222, \"#7201a8\"], [0.3333333333333333, \"#9c179e\"], [0.4444444444444444, \"#bd3786\"], [0.5555555555555556, \"#d8576b\"], [0.6666666666666666, \"#ed7953\"], [0.7777777777777778, \"#fb9f3a\"], [0.8888888888888888, \"#fdca26\"], [1.0, \"#f0f921\"]]}, \"colorway\": [\"#636efa\", \"#EF553B\", \"#00cc96\", \"#ab63fa\", \"#FFA15A\", \"#19d3f3\", \"#FF6692\", \"#B6E880\", \"#FF97FF\", \"#FECB52\"], \"font\": {\"color\": \"#2a3f5f\"}, \"geo\": {\"bgcolor\": \"white\", \"lakecolor\": \"white\", \"landcolor\": \"#E5ECF6\", \"showlakes\": true, \"showland\": true, \"subunitcolor\": \"white\"}, \"hoverlabel\": {\"align\": \"left\"}, \"hovermode\": \"closest\", \"mapbox\": {\"style\": \"light\"}, \"paper_bgcolor\": \"white\", \"plot_bgcolor\": \"#E5ECF6\", \"polar\": {\"angularaxis\": {\"gridcolor\": \"white\", \"linecolor\": \"white\", \"ticks\": \"\"}, \"bgcolor\": \"#E5ECF6\", \"radialaxis\": {\"gridcolor\": \"white\", \"linecolor\": \"white\", \"ticks\": \"\"}}, \"scene\": {\"xaxis\": {\"backgroundcolor\": \"#E5ECF6\", \"gridcolor\": \"white\", \"gridwidth\": 2, \"linecolor\": \"white\", \"showbackground\": true, \"ticks\": \"\", \"zerolinecolor\": \"white\"}, \"yaxis\": {\"backgroundcolor\": \"#E5ECF6\", \"gridcolor\": \"white\", \"gridwidth\": 2, \"linecolor\": \"white\", \"showbackground\": true, \"ticks\": \"\", \"zerolinecolor\": \"white\"}, \"zaxis\": {\"backgroundcolor\": \"#E5ECF6\", \"gridcolor\": \"white\", \"gridwidth\": 2, \"linecolor\": \"white\", \"showbackground\": true, \"ticks\": \"\", \"zerolinecolor\": \"white\"}}, \"shapedefaults\": {\"line\": {\"color\": \"#2a3f5f\"}}, \"ternary\": {\"aaxis\": {\"gridcolor\": \"white\", \"linecolor\": \"white\", \"ticks\": \"\"}, \"baxis\": {\"gridcolor\": \"white\", \"linecolor\": \"white\", \"ticks\": \"\"}, \"bgcolor\": \"#E5ECF6\", \"caxis\": {\"gridcolor\": \"white\", \"linecolor\": \"white\", \"ticks\": \"\"}}, \"title\": {\"x\": 0.05}, \"xaxis\": {\"automargin\": true, \"gridcolor\": \"white\", \"linecolor\": \"white\", \"ticks\": \"\", \"title\": {\"standoff\": 15}, \"zerolinecolor\": \"white\", \"zerolinewidth\": 2}, \"yaxis\": {\"automargin\": true, \"gridcolor\": \"white\", \"linecolor\": \"white\", \"ticks\": \"\", \"title\": {\"standoff\": 15}, \"zerolinecolor\": \"white\", \"zerolinewidth\": 2}}}, \"title\": {\"text\": \"Proportions of products of a given FR nutritional score for bio and non-bio products different food categories.\", \"x\": 0.5, \"xanchor\": \"center\", \"y\": 0.95, \"yanchor\": \"top\"}, \"updatemenus\": [{\"buttons\": [{\"args\": [{\"visible\": [true, true, false, false, false, false, false, false, false, false, false, false, false, false, false, false]}], \"label\": \"meat, fish, egg\", \"method\": \"update\"}, {\"args\": [{\"visible\": [false, false, true, true, false, false, false, false, false, false, false, false, false, false, false, false]}], \"label\": \"fruit, vegetable\", \"method\": \"update\"}, {\"args\": [{\"visible\": [false, false, false, false, true, true, false, false, false, false, false, false, false, false, false, false]}], \"label\": \"cereal\", \"method\": \"update\"}, {\"args\": [{\"visible\": [false, false, false, false, false, false, true, true, false, false, false, false, false, false, false, false]}], \"label\": \"drink\", \"method\": \"update\"}, {\"args\": [{\"visible\": [false, false, false, false, false, false, false, false, true, true, false, false, false, false, false, false]}], \"label\": \"dairy\", \"method\": \"update\"}, {\"args\": [{\"visible\": [false, false, false, false, false, false, false, false, false, false, true, true, false, false, false, false]}], \"label\": \"cooking ingredient\", \"method\": \"update\"}, {\"args\": [{\"visible\": [false, false, false, false, false, false, false, false, false, false, false, false, true, true, false, false]}], \"label\": \"fat\", \"method\": \"update\"}, {\"args\": [{\"visible\": [false, false, false, false, false, false, false, false, false, false, false, false, false, false, true, true]}], \"label\": \"sugary product\", \"method\": \"update\"}], \"direction\": \"down\", \"showactive\": true, \"x\": 0.1, \"xanchor\": \"left\", \"y\": 1.1, \"yanchor\": \"top\"}], \"xaxis\": {\"tickfont\": {\"size\": 14}, \"title\": {\"font\": {\"size\": 16}, \"text\": \"FR Nutritional score\"}, \"type\": \"category\"}, \"yaxis\": {\"gridcolor\": \"black\", \"tickfont\": {\"size\": 14}, \"title\": {\"font\": {\"size\": 16}, \"text\": \"Propotions\"}}},\n",
       "                        {\"responsive\": true}\n",
       "                    ).then(function(){\n",
       "                            \n",
       "var gd = document.getElementById('214b937d-795e-4e35-a5b0-f03f3e658fc3');\n",
       "var x = new MutationObserver(function (mutations, observer) {{\n",
       "        var display = window.getComputedStyle(gd).display;\n",
       "        if (!display || display === 'none') {{\n",
       "            console.log([gd, 'removed!']);\n",
       "            Plotly.purge(gd);\n",
       "            observer.disconnect();\n",
       "        }}\n",
       "}});\n",
       "\n",
       "// Listen for the removal of the full notebook cells\n",
       "var notebookContainer = gd.closest('#notebook-container');\n",
       "if (notebookContainer) {{\n",
       "    x.observe(notebookContainer, {childList: true});\n",
       "}}\n",
       "\n",
       "// Listen for the clearing of the current output cell\n",
       "var outputEl = gd.closest('.output');\n",
       "if (outputEl) {{\n",
       "    x.observe(outputEl, {childList: true});\n",
       "}}\n",
       "\n",
       "                        })\n",
       "                };\n",
       "                });\n",
       "            </script>\n",
       "        </div>"
      ]
     },
     "metadata": {},
     "output_type": "display_data"
    }
   ],
   "source": [
    "updatemenus = [\n",
    "    {\n",
    "        'buttons': list(),\n",
    "        'direction': 'down',\n",
    "        'showactive': True,\n",
    "        'x':0.1,\n",
    "        'xanchor':\"left\",\n",
    "        'y':1.1,\n",
    "        'yanchor':\"top\"\n",
    "    }\n",
    "]\n",
    "fig = go.Figure()\n",
    "n_cat = len(list(categories.keys()))\n",
    "\n",
    "vect_parent = []\n",
    "\n",
    "for cat in categories.keys():\n",
    "    fig = compute_sub_element(fig, scores_df, cat,'bar')\n",
    "    vect = np.full(n_cat*2, False, dtype=bool)\n",
    "    vect_parent = construct_bool_visibility(vect, cat, list(categories.keys()))\n",
    "    updatemenus[0]['buttons'].append({'method': 'update',\n",
    "                                      'label': cat,\n",
    "                                      'args' : [\n",
    "                                          {'visible': vect_parent}\n",
    "                                      ]})\n",
    "    \n",
    "\n",
    "fig.update_layout(updatemenus=updatemenus,\n",
    "                  title=dict(text='Proportions of products of a given FR nutritional score for bio and non-bio products different food categories.',\n",
    "                             xanchor= 'center',\n",
    "                             yanchor= 'top',\n",
    "                             x = 0.5,\n",
    "                             y = 0.95),\n",
    "                  yaxis=dict(\n",
    "                            title='Propotions',\n",
    "                            titlefont_size=16,\n",
    "                            tickfont_size=14,\n",
    "                            gridcolor = 'black',\n",
    "                            ),\n",
    "                  xaxis=dict(\n",
    "                            title='FR Nutritional score',\n",
    "                            titlefont_size=16,\n",
    "                            tickfont_size=14,\n",
    "                            type=\"category\"\n",
    "                            ),\n",
    "                  plot_bgcolor='rgba(0,0,0,0)',\n",
    "                  annotations = [go.layout.Annotation(text=\"Category:\", showarrow=False,\n",
    "                                     x=-0.6, y=1.08, yref=\"paper\", align=\"left\")]\n",
    "                 )\n",
    "fig.update_yaxes()\n",
    "fig.show()\n",
    "fig.write_json('FRnutriscore.json')"
   ]
  },
  {
   "cell_type": "markdown",
   "metadata": {},
   "source": [
    "# Interactive plots for nova score"
   ]
  },
  {
   "cell_type": "code",
   "execution_count": 541,
   "metadata": {},
   "outputs": [
    {
     "data": {
      "text/html": [
       "<div>\n",
       "<style scoped>\n",
       "    .dataframe tbody tr th:only-of-type {\n",
       "        vertical-align: middle;\n",
       "    }\n",
       "\n",
       "    .dataframe tbody tr th {\n",
       "        vertical-align: top;\n",
       "    }\n",
       "\n",
       "    .dataframe thead th {\n",
       "        text-align: right;\n",
       "    }\n",
       "</style>\n",
       "<table border=\"1\" class=\"dataframe\">\n",
       "  <thead>\n",
       "    <tr style=\"text-align: right;\">\n",
       "      <th></th>\n",
       "      <th>score</th>\n",
       "      <th>proportion</th>\n",
       "      <th>type</th>\n",
       "      <th>category</th>\n",
       "    </tr>\n",
       "  </thead>\n",
       "  <tbody>\n",
       "    <tr>\n",
       "      <td>0</td>\n",
       "      <td>1.0</td>\n",
       "      <td>0.211954</td>\n",
       "      <td>bio</td>\n",
       "      <td>all products</td>\n",
       "    </tr>\n",
       "    <tr>\n",
       "      <td>1</td>\n",
       "      <td>2.0</td>\n",
       "      <td>0.039226</td>\n",
       "      <td>bio</td>\n",
       "      <td>all products</td>\n",
       "    </tr>\n",
       "    <tr>\n",
       "      <td>2</td>\n",
       "      <td>3.0</td>\n",
       "      <td>0.355809</td>\n",
       "      <td>bio</td>\n",
       "      <td>all products</td>\n",
       "    </tr>\n",
       "    <tr>\n",
       "      <td>3</td>\n",
       "      <td>4.0</td>\n",
       "      <td>0.393012</td>\n",
       "      <td>bio</td>\n",
       "      <td>all products</td>\n",
       "    </tr>\n",
       "    <tr>\n",
       "      <td>4</td>\n",
       "      <td>1.0</td>\n",
       "      <td>0.061217</td>\n",
       "      <td>regular</td>\n",
       "      <td>all products</td>\n",
       "    </tr>\n",
       "    <tr>\n",
       "      <td>...</td>\n",
       "      <td>...</td>\n",
       "      <td>...</td>\n",
       "      <td>...</td>\n",
       "      <td>...</td>\n",
       "    </tr>\n",
       "    <tr>\n",
       "      <td>299</td>\n",
       "      <td>3.0</td>\n",
       "      <td>0.040698</td>\n",
       "      <td>bio</td>\n",
       "      <td>ice cream</td>\n",
       "    </tr>\n",
       "    <tr>\n",
       "      <td>300</td>\n",
       "      <td>4.0</td>\n",
       "      <td>0.959302</td>\n",
       "      <td>bio</td>\n",
       "      <td>ice cream</td>\n",
       "    </tr>\n",
       "    <tr>\n",
       "      <td>301</td>\n",
       "      <td>1.0</td>\n",
       "      <td>0.000607</td>\n",
       "      <td>regular</td>\n",
       "      <td>ice cream</td>\n",
       "    </tr>\n",
       "    <tr>\n",
       "      <td>302</td>\n",
       "      <td>3.0</td>\n",
       "      <td>0.024575</td>\n",
       "      <td>regular</td>\n",
       "      <td>ice cream</td>\n",
       "    </tr>\n",
       "    <tr>\n",
       "      <td>303</td>\n",
       "      <td>4.0</td>\n",
       "      <td>0.974818</td>\n",
       "      <td>regular</td>\n",
       "      <td>ice cream</td>\n",
       "    </tr>\n",
       "  </tbody>\n",
       "</table>\n",
       "<p>304 rows × 4 columns</p>\n",
       "</div>"
      ],
      "text/plain": [
       "     score  proportion     type      category\n",
       "0      1.0    0.211954      bio  all products\n",
       "1      2.0    0.039226      bio  all products\n",
       "2      3.0    0.355809      bio  all products\n",
       "3      4.0    0.393012      bio  all products\n",
       "4      1.0    0.061217  regular  all products\n",
       "..     ...         ...      ...           ...\n",
       "299    3.0    0.040698      bio     ice cream\n",
       "300    4.0    0.959302      bio     ice cream\n",
       "301    1.0    0.000607  regular     ice cream\n",
       "302    3.0    0.024575  regular     ice cream\n",
       "303    4.0    0.974818  regular     ice cream\n",
       "\n",
       "[304 rows x 4 columns]"
      ]
     },
     "execution_count": 541,
     "metadata": {},
     "output_type": "execute_result"
    }
   ],
   "source": [
    "scores_df = compute_all_categories_summary(field='nova_group')\n",
    "scores_df"
   ]
  },
  {
   "cell_type": "code",
   "execution_count": 542,
   "metadata": {},
   "outputs": [
    {
     "data": {
      "application/vnd.plotly.v1+json": {
       "config": {
        "plotlyServerURL": "https://plot.ly"
       },
       "data": [
        {
         "marker": {
          "color": "#736372"
         },
         "name": "Regular products",
         "type": "bar",
         "visible": true,
         "x": [
          1,
          2,
          3,
          4
         ],
         "y": [
          0.04156952447983108,
          0.00043988914793472047,
          0.3051511019223156,
          0.6528394844499186
         ]
        },
        {
         "marker": {
          "color": "#7DCD85"
         },
         "name": "Bio products",
         "type": "bar",
         "visible": true,
         "x": [
          1,
          3,
          4
         ],
         "y": [
          0.0921120913336793,
          0.5539699014011417,
          0.353918007265179
         ]
        },
        {
         "marker": {
          "color": "#736372"
         },
         "name": "Regular products",
         "type": "bar",
         "visible": false,
         "x": [
          1,
          2,
          3,
          4
         ],
         "y": [
          0.24691283170638048,
          0.029648941975383494,
          0.27802704177529863,
          0.44541118454293743
         ]
        },
        {
         "marker": {
          "color": "#7DCD85"
         },
         "name": "Bio products",
         "type": "bar",
         "visible": false,
         "x": [
          1,
          2,
          3,
          4
         ],
         "y": [
          0.38654593769991635,
          0.033216869248560606,
          0.3252300575759067,
          0.2550071354756164
         ]
        },
        {
         "marker": {
          "color": "#736372"
         },
         "name": "Regular products",
         "type": "bar",
         "visible": false,
         "x": [
          1,
          2,
          3,
          4
         ],
         "y": [
          0.0974630021141649,
          0.0035336756266988825,
          0.1878284506191483,
          0.7111748716399879
         ]
        },
        {
         "marker": {
          "color": "#7DCD85"
         },
         "name": "Bio products",
         "type": "bar",
         "visible": false,
         "x": [
          1,
          2,
          3,
          4
         ],
         "y": [
          0.202081526452732,
          0.002168256721595837,
          0.3731569817866435,
          0.4225932350390286
         ]
        },
        {
         "marker": {
          "color": "#736372"
         },
         "name": "Regular products",
         "type": "bar",
         "visible": false,
         "x": [
          1,
          2,
          3,
          4
         ],
         "y": [
          0.23376290546972248,
          0.005857801859852091,
          0.21820311927949038,
          0.542176173390935
         ]
        },
        {
         "marker": {
          "color": "#7DCD85"
         },
         "name": "Bio products",
         "type": "bar",
         "visible": false,
         "x": [
          1,
          2,
          3,
          4
         ],
         "y": [
          0.4921369102682701,
          0.001541782300339192,
          0.299722479185939,
          0.20659882824545175
         ]
        },
        {
         "marker": {
          "color": "#736372"
         },
         "name": "Regular products",
         "type": "bar",
         "visible": false,
         "x": [
          1,
          2,
          3,
          4
         ],
         "y": [
          0.041218591329254005,
          0.019737013409712276,
          0.341674261163911,
          0.5973701340971228
         ]
        },
        {
         "marker": {
          "color": "#7DCD85"
         },
         "name": "Bio products",
         "type": "bar",
         "visible": false,
         "x": [
          1,
          2,
          3,
          4
         ],
         "y": [
          0.08180682764363031,
          0.021856786011656953,
          0.46398834304746045,
          0.4323480432972523
         ]
        },
        {
         "marker": {
          "color": "#736372"
         },
         "name": "Regular products",
         "type": "bar",
         "visible": false,
         "x": [
          1,
          2,
          3,
          4
         ],
         "y": [
          0.052891203069334064,
          0.07714442312962455,
          0.3134420389147712,
          0.5565223348862702
         ]
        },
        {
         "marker": {
          "color": "#7DCD85"
         },
         "name": "Bio products",
         "type": "bar",
         "visible": false,
         "x": [
          1,
          2,
          3,
          4
         ],
         "y": [
          0.18324607329842932,
          0.12958115183246074,
          0.4816753926701571,
          0.2054973821989529
         ]
        },
        {
         "marker": {
          "color": "#736372"
         },
         "name": "Regular products",
         "type": "bar",
         "visible": false,
         "x": [
          1,
          2,
          3,
          4
         ],
         "y": [
          0.03527469228459922,
          0.27994596217352147,
          0.40168117682377663,
          0.28309816871810267
         ]
        },
        {
         "marker": {
          "color": "#7DCD85"
         },
         "name": "Bio products",
         "type": "bar",
         "visible": false,
         "x": [
          1,
          2,
          3,
          4
         ],
         "y": [
          0.22107438016528927,
          0.29855371900826444,
          0.3522727272727273,
          0.128099173553719
         ]
        },
        {
         "marker": {
          "color": "#736372"
         },
         "name": "Regular products",
         "type": "bar",
         "visible": false,
         "x": [
          1,
          2,
          3,
          4
         ],
         "y": [
          0.007142302616256502,
          0.014789224439096343,
          0.0696374505085009,
          0.9084310224361463
         ]
        },
        {
         "marker": {
          "color": "#7DCD85"
         },
         "name": "Bio products",
         "type": "bar",
         "visible": false,
         "x": [
          1,
          2,
          3,
          4
         ],
         "y": [
          0.023142509135200974,
          0.02892813641900122,
          0.28197320341047505,
          0.6659561510353228
         ]
        }
       ],
       "layout": {
        "annotations": [
         {
          "align": "left",
          "showarrow": false,
          "text": "Category:",
          "x": -0.6,
          "y": 1.08,
          "yref": "paper"
         }
        ],
        "plot_bgcolor": "rgba(0,0,0,0)",
        "template": {
         "data": {
          "bar": [
           {
            "error_x": {
             "color": "#2a3f5f"
            },
            "error_y": {
             "color": "#2a3f5f"
            },
            "marker": {
             "line": {
              "color": "#E5ECF6",
              "width": 0.5
             }
            },
            "type": "bar"
           }
          ],
          "barpolar": [
           {
            "marker": {
             "line": {
              "color": "#E5ECF6",
              "width": 0.5
             }
            },
            "type": "barpolar"
           }
          ],
          "carpet": [
           {
            "aaxis": {
             "endlinecolor": "#2a3f5f",
             "gridcolor": "white",
             "linecolor": "white",
             "minorgridcolor": "white",
             "startlinecolor": "#2a3f5f"
            },
            "baxis": {
             "endlinecolor": "#2a3f5f",
             "gridcolor": "white",
             "linecolor": "white",
             "minorgridcolor": "white",
             "startlinecolor": "#2a3f5f"
            },
            "type": "carpet"
           }
          ],
          "choropleth": [
           {
            "colorbar": {
             "outlinewidth": 0,
             "ticks": ""
            },
            "type": "choropleth"
           }
          ],
          "contour": [
           {
            "colorbar": {
             "outlinewidth": 0,
             "ticks": ""
            },
            "colorscale": [
             [
              0,
              "#0d0887"
             ],
             [
              0.1111111111111111,
              "#46039f"
             ],
             [
              0.2222222222222222,
              "#7201a8"
             ],
             [
              0.3333333333333333,
              "#9c179e"
             ],
             [
              0.4444444444444444,
              "#bd3786"
             ],
             [
              0.5555555555555556,
              "#d8576b"
             ],
             [
              0.6666666666666666,
              "#ed7953"
             ],
             [
              0.7777777777777778,
              "#fb9f3a"
             ],
             [
              0.8888888888888888,
              "#fdca26"
             ],
             [
              1,
              "#f0f921"
             ]
            ],
            "type": "contour"
           }
          ],
          "contourcarpet": [
           {
            "colorbar": {
             "outlinewidth": 0,
             "ticks": ""
            },
            "type": "contourcarpet"
           }
          ],
          "heatmap": [
           {
            "colorbar": {
             "outlinewidth": 0,
             "ticks": ""
            },
            "colorscale": [
             [
              0,
              "#0d0887"
             ],
             [
              0.1111111111111111,
              "#46039f"
             ],
             [
              0.2222222222222222,
              "#7201a8"
             ],
             [
              0.3333333333333333,
              "#9c179e"
             ],
             [
              0.4444444444444444,
              "#bd3786"
             ],
             [
              0.5555555555555556,
              "#d8576b"
             ],
             [
              0.6666666666666666,
              "#ed7953"
             ],
             [
              0.7777777777777778,
              "#fb9f3a"
             ],
             [
              0.8888888888888888,
              "#fdca26"
             ],
             [
              1,
              "#f0f921"
             ]
            ],
            "type": "heatmap"
           }
          ],
          "heatmapgl": [
           {
            "colorbar": {
             "outlinewidth": 0,
             "ticks": ""
            },
            "colorscale": [
             [
              0,
              "#0d0887"
             ],
             [
              0.1111111111111111,
              "#46039f"
             ],
             [
              0.2222222222222222,
              "#7201a8"
             ],
             [
              0.3333333333333333,
              "#9c179e"
             ],
             [
              0.4444444444444444,
              "#bd3786"
             ],
             [
              0.5555555555555556,
              "#d8576b"
             ],
             [
              0.6666666666666666,
              "#ed7953"
             ],
             [
              0.7777777777777778,
              "#fb9f3a"
             ],
             [
              0.8888888888888888,
              "#fdca26"
             ],
             [
              1,
              "#f0f921"
             ]
            ],
            "type": "heatmapgl"
           }
          ],
          "histogram": [
           {
            "marker": {
             "colorbar": {
              "outlinewidth": 0,
              "ticks": ""
             }
            },
            "type": "histogram"
           }
          ],
          "histogram2d": [
           {
            "colorbar": {
             "outlinewidth": 0,
             "ticks": ""
            },
            "colorscale": [
             [
              0,
              "#0d0887"
             ],
             [
              0.1111111111111111,
              "#46039f"
             ],
             [
              0.2222222222222222,
              "#7201a8"
             ],
             [
              0.3333333333333333,
              "#9c179e"
             ],
             [
              0.4444444444444444,
              "#bd3786"
             ],
             [
              0.5555555555555556,
              "#d8576b"
             ],
             [
              0.6666666666666666,
              "#ed7953"
             ],
             [
              0.7777777777777778,
              "#fb9f3a"
             ],
             [
              0.8888888888888888,
              "#fdca26"
             ],
             [
              1,
              "#f0f921"
             ]
            ],
            "type": "histogram2d"
           }
          ],
          "histogram2dcontour": [
           {
            "colorbar": {
             "outlinewidth": 0,
             "ticks": ""
            },
            "colorscale": [
             [
              0,
              "#0d0887"
             ],
             [
              0.1111111111111111,
              "#46039f"
             ],
             [
              0.2222222222222222,
              "#7201a8"
             ],
             [
              0.3333333333333333,
              "#9c179e"
             ],
             [
              0.4444444444444444,
              "#bd3786"
             ],
             [
              0.5555555555555556,
              "#d8576b"
             ],
             [
              0.6666666666666666,
              "#ed7953"
             ],
             [
              0.7777777777777778,
              "#fb9f3a"
             ],
             [
              0.8888888888888888,
              "#fdca26"
             ],
             [
              1,
              "#f0f921"
             ]
            ],
            "type": "histogram2dcontour"
           }
          ],
          "mesh3d": [
           {
            "colorbar": {
             "outlinewidth": 0,
             "ticks": ""
            },
            "type": "mesh3d"
           }
          ],
          "parcoords": [
           {
            "line": {
             "colorbar": {
              "outlinewidth": 0,
              "ticks": ""
             }
            },
            "type": "parcoords"
           }
          ],
          "pie": [
           {
            "automargin": true,
            "type": "pie"
           }
          ],
          "scatter": [
           {
            "marker": {
             "colorbar": {
              "outlinewidth": 0,
              "ticks": ""
             }
            },
            "type": "scatter"
           }
          ],
          "scatter3d": [
           {
            "line": {
             "colorbar": {
              "outlinewidth": 0,
              "ticks": ""
             }
            },
            "marker": {
             "colorbar": {
              "outlinewidth": 0,
              "ticks": ""
             }
            },
            "type": "scatter3d"
           }
          ],
          "scattercarpet": [
           {
            "marker": {
             "colorbar": {
              "outlinewidth": 0,
              "ticks": ""
             }
            },
            "type": "scattercarpet"
           }
          ],
          "scattergeo": [
           {
            "marker": {
             "colorbar": {
              "outlinewidth": 0,
              "ticks": ""
             }
            },
            "type": "scattergeo"
           }
          ],
          "scattergl": [
           {
            "marker": {
             "colorbar": {
              "outlinewidth": 0,
              "ticks": ""
             }
            },
            "type": "scattergl"
           }
          ],
          "scattermapbox": [
           {
            "marker": {
             "colorbar": {
              "outlinewidth": 0,
              "ticks": ""
             }
            },
            "type": "scattermapbox"
           }
          ],
          "scatterpolar": [
           {
            "marker": {
             "colorbar": {
              "outlinewidth": 0,
              "ticks": ""
             }
            },
            "type": "scatterpolar"
           }
          ],
          "scatterpolargl": [
           {
            "marker": {
             "colorbar": {
              "outlinewidth": 0,
              "ticks": ""
             }
            },
            "type": "scatterpolargl"
           }
          ],
          "scatterternary": [
           {
            "marker": {
             "colorbar": {
              "outlinewidth": 0,
              "ticks": ""
             }
            },
            "type": "scatterternary"
           }
          ],
          "surface": [
           {
            "colorbar": {
             "outlinewidth": 0,
             "ticks": ""
            },
            "colorscale": [
             [
              0,
              "#0d0887"
             ],
             [
              0.1111111111111111,
              "#46039f"
             ],
             [
              0.2222222222222222,
              "#7201a8"
             ],
             [
              0.3333333333333333,
              "#9c179e"
             ],
             [
              0.4444444444444444,
              "#bd3786"
             ],
             [
              0.5555555555555556,
              "#d8576b"
             ],
             [
              0.6666666666666666,
              "#ed7953"
             ],
             [
              0.7777777777777778,
              "#fb9f3a"
             ],
             [
              0.8888888888888888,
              "#fdca26"
             ],
             [
              1,
              "#f0f921"
             ]
            ],
            "type": "surface"
           }
          ],
          "table": [
           {
            "cells": {
             "fill": {
              "color": "#EBF0F8"
             },
             "line": {
              "color": "white"
             }
            },
            "header": {
             "fill": {
              "color": "#C8D4E3"
             },
             "line": {
              "color": "white"
             }
            },
            "type": "table"
           }
          ]
         },
         "layout": {
          "annotationdefaults": {
           "arrowcolor": "#2a3f5f",
           "arrowhead": 0,
           "arrowwidth": 1
          },
          "coloraxis": {
           "colorbar": {
            "outlinewidth": 0,
            "ticks": ""
           }
          },
          "colorscale": {
           "diverging": [
            [
             0,
             "#8e0152"
            ],
            [
             0.1,
             "#c51b7d"
            ],
            [
             0.2,
             "#de77ae"
            ],
            [
             0.3,
             "#f1b6da"
            ],
            [
             0.4,
             "#fde0ef"
            ],
            [
             0.5,
             "#f7f7f7"
            ],
            [
             0.6,
             "#e6f5d0"
            ],
            [
             0.7,
             "#b8e186"
            ],
            [
             0.8,
             "#7fbc41"
            ],
            [
             0.9,
             "#4d9221"
            ],
            [
             1,
             "#276419"
            ]
           ],
           "sequential": [
            [
             0,
             "#0d0887"
            ],
            [
             0.1111111111111111,
             "#46039f"
            ],
            [
             0.2222222222222222,
             "#7201a8"
            ],
            [
             0.3333333333333333,
             "#9c179e"
            ],
            [
             0.4444444444444444,
             "#bd3786"
            ],
            [
             0.5555555555555556,
             "#d8576b"
            ],
            [
             0.6666666666666666,
             "#ed7953"
            ],
            [
             0.7777777777777778,
             "#fb9f3a"
            ],
            [
             0.8888888888888888,
             "#fdca26"
            ],
            [
             1,
             "#f0f921"
            ]
           ],
           "sequentialminus": [
            [
             0,
             "#0d0887"
            ],
            [
             0.1111111111111111,
             "#46039f"
            ],
            [
             0.2222222222222222,
             "#7201a8"
            ],
            [
             0.3333333333333333,
             "#9c179e"
            ],
            [
             0.4444444444444444,
             "#bd3786"
            ],
            [
             0.5555555555555556,
             "#d8576b"
            ],
            [
             0.6666666666666666,
             "#ed7953"
            ],
            [
             0.7777777777777778,
             "#fb9f3a"
            ],
            [
             0.8888888888888888,
             "#fdca26"
            ],
            [
             1,
             "#f0f921"
            ]
           ]
          },
          "colorway": [
           "#636efa",
           "#EF553B",
           "#00cc96",
           "#ab63fa",
           "#FFA15A",
           "#19d3f3",
           "#FF6692",
           "#B6E880",
           "#FF97FF",
           "#FECB52"
          ],
          "font": {
           "color": "#2a3f5f"
          },
          "geo": {
           "bgcolor": "white",
           "lakecolor": "white",
           "landcolor": "#E5ECF6",
           "showlakes": true,
           "showland": true,
           "subunitcolor": "white"
          },
          "hoverlabel": {
           "align": "left"
          },
          "hovermode": "closest",
          "mapbox": {
           "style": "light"
          },
          "paper_bgcolor": "white",
          "plot_bgcolor": "#E5ECF6",
          "polar": {
           "angularaxis": {
            "gridcolor": "white",
            "linecolor": "white",
            "ticks": ""
           },
           "bgcolor": "#E5ECF6",
           "radialaxis": {
            "gridcolor": "white",
            "linecolor": "white",
            "ticks": ""
           }
          },
          "scene": {
           "xaxis": {
            "backgroundcolor": "#E5ECF6",
            "gridcolor": "white",
            "gridwidth": 2,
            "linecolor": "white",
            "showbackground": true,
            "ticks": "",
            "zerolinecolor": "white"
           },
           "yaxis": {
            "backgroundcolor": "#E5ECF6",
            "gridcolor": "white",
            "gridwidth": 2,
            "linecolor": "white",
            "showbackground": true,
            "ticks": "",
            "zerolinecolor": "white"
           },
           "zaxis": {
            "backgroundcolor": "#E5ECF6",
            "gridcolor": "white",
            "gridwidth": 2,
            "linecolor": "white",
            "showbackground": true,
            "ticks": "",
            "zerolinecolor": "white"
           }
          },
          "shapedefaults": {
           "line": {
            "color": "#2a3f5f"
           }
          },
          "ternary": {
           "aaxis": {
            "gridcolor": "white",
            "linecolor": "white",
            "ticks": ""
           },
           "baxis": {
            "gridcolor": "white",
            "linecolor": "white",
            "ticks": ""
           },
           "bgcolor": "#E5ECF6",
           "caxis": {
            "gridcolor": "white",
            "linecolor": "white",
            "ticks": ""
           }
          },
          "title": {
           "x": 0.05
          },
          "xaxis": {
           "automargin": true,
           "gridcolor": "white",
           "linecolor": "white",
           "ticks": "",
           "title": {
            "standoff": 15
           },
           "zerolinecolor": "white",
           "zerolinewidth": 2
          },
          "yaxis": {
           "automargin": true,
           "gridcolor": "white",
           "linecolor": "white",
           "ticks": "",
           "title": {
            "standoff": 15
           },
           "zerolinecolor": "white",
           "zerolinewidth": 2
          }
         }
        },
        "title": {
         "text": "Proportion of products of a given Nova score for bio and non-bio products different food categories.",
         "x": 0.5,
         "xanchor": "center",
         "y": 0.95,
         "yanchor": "top"
        },
        "updatemenus": [
         {
          "buttons": [
           {
            "args": [
             {
              "visible": [
               true,
               true,
               false,
               false,
               false,
               false,
               false,
               false,
               false,
               false,
               false,
               false,
               false,
               false,
               false,
               false
              ]
             }
            ],
            "label": "meat, fish, egg",
            "method": "update"
           },
           {
            "args": [
             {
              "visible": [
               false,
               false,
               true,
               true,
               false,
               false,
               false,
               false,
               false,
               false,
               false,
               false,
               false,
               false,
               false,
               false
              ]
             }
            ],
            "label": "fruit, vegetable",
            "method": "update"
           },
           {
            "args": [
             {
              "visible": [
               false,
               false,
               false,
               false,
               true,
               true,
               false,
               false,
               false,
               false,
               false,
               false,
               false,
               false,
               false,
               false
              ]
             }
            ],
            "label": "cereal",
            "method": "update"
           },
           {
            "args": [
             {
              "visible": [
               false,
               false,
               false,
               false,
               false,
               false,
               true,
               true,
               false,
               false,
               false,
               false,
               false,
               false,
               false,
               false
              ]
             }
            ],
            "label": "drink",
            "method": "update"
           },
           {
            "args": [
             {
              "visible": [
               false,
               false,
               false,
               false,
               false,
               false,
               false,
               false,
               true,
               true,
               false,
               false,
               false,
               false,
               false,
               false
              ]
             }
            ],
            "label": "dairy",
            "method": "update"
           },
           {
            "args": [
             {
              "visible": [
               false,
               false,
               false,
               false,
               false,
               false,
               false,
               false,
               false,
               false,
               true,
               true,
               false,
               false,
               false,
               false
              ]
             }
            ],
            "label": "cooking ingredient",
            "method": "update"
           },
           {
            "args": [
             {
              "visible": [
               false,
               false,
               false,
               false,
               false,
               false,
               false,
               false,
               false,
               false,
               false,
               false,
               true,
               true,
               false,
               false
              ]
             }
            ],
            "label": "fat",
            "method": "update"
           },
           {
            "args": [
             {
              "visible": [
               false,
               false,
               false,
               false,
               false,
               false,
               false,
               false,
               false,
               false,
               false,
               false,
               false,
               false,
               true,
               true
              ]
             }
            ],
            "label": "sugary product",
            "method": "update"
           }
          ],
          "direction": "down",
          "showactive": true,
          "x": 0.1,
          "xanchor": "left",
          "y": 1.1,
          "yanchor": "top"
         }
        ],
        "xaxis": {
         "tickfont": {
          "size": 14
         },
         "title": {
          "font": {
           "size": 16
          },
          "text": "Nova group"
         },
         "type": "category"
        },
        "yaxis": {
         "gridcolor": "black",
         "tickfont": {
          "size": 14
         },
         "title": {
          "font": {
           "size": 16
          },
          "text": "Propotions"
         }
        }
       }
      },
      "text/html": [
       "<div>\n",
       "        \n",
       "        \n",
       "            <div id=\"395bedef-b703-4a16-810a-6488320c7cd1\" class=\"plotly-graph-div\" style=\"height:525px; width:100%;\"></div>\n",
       "            <script type=\"text/javascript\">\n",
       "                require([\"plotly\"], function(Plotly) {\n",
       "                    window.PLOTLYENV=window.PLOTLYENV || {};\n",
       "                    \n",
       "                if (document.getElementById(\"395bedef-b703-4a16-810a-6488320c7cd1\")) {\n",
       "                    Plotly.newPlot(\n",
       "                        '395bedef-b703-4a16-810a-6488320c7cd1',\n",
       "                        [{\"marker\": {\"color\": \"#736372\"}, \"name\": \"Regular products\", \"type\": \"bar\", \"visible\": true, \"x\": [1.0, 2.0, 3.0, 4.0], \"y\": [0.04156952447983108, 0.00043988914793472047, 0.3051511019223156, 0.6528394844499186]}, {\"marker\": {\"color\": \"#7DCD85\"}, \"name\": \"Bio products\", \"type\": \"bar\", \"visible\": true, \"x\": [1.0, 3.0, 4.0], \"y\": [0.0921120913336793, 0.5539699014011417, 0.353918007265179]}, {\"marker\": {\"color\": \"#736372\"}, \"name\": \"Regular products\", \"type\": \"bar\", \"visible\": false, \"x\": [1.0, 2.0, 3.0, 4.0], \"y\": [0.24691283170638048, 0.029648941975383494, 0.27802704177529863, 0.44541118454293743]}, {\"marker\": {\"color\": \"#7DCD85\"}, \"name\": \"Bio products\", \"type\": \"bar\", \"visible\": false, \"x\": [1.0, 2.0, 3.0, 4.0], \"y\": [0.38654593769991635, 0.033216869248560606, 0.3252300575759067, 0.2550071354756164]}, {\"marker\": {\"color\": \"#736372\"}, \"name\": \"Regular products\", \"type\": \"bar\", \"visible\": false, \"x\": [1.0, 2.0, 3.0, 4.0], \"y\": [0.0974630021141649, 0.0035336756266988825, 0.1878284506191483, 0.7111748716399879]}, {\"marker\": {\"color\": \"#7DCD85\"}, \"name\": \"Bio products\", \"type\": \"bar\", \"visible\": false, \"x\": [1.0, 2.0, 3.0, 4.0], \"y\": [0.202081526452732, 0.002168256721595837, 0.3731569817866435, 0.4225932350390286]}, {\"marker\": {\"color\": \"#736372\"}, \"name\": \"Regular products\", \"type\": \"bar\", \"visible\": false, \"x\": [1.0, 2.0, 3.0, 4.0], \"y\": [0.23376290546972248, 0.005857801859852091, 0.21820311927949038, 0.542176173390935]}, {\"marker\": {\"color\": \"#7DCD85\"}, \"name\": \"Bio products\", \"type\": \"bar\", \"visible\": false, \"x\": [1.0, 2.0, 3.0, 4.0], \"y\": [0.4921369102682701, 0.001541782300339192, 0.299722479185939, 0.20659882824545175]}, {\"marker\": {\"color\": \"#736372\"}, \"name\": \"Regular products\", \"type\": \"bar\", \"visible\": false, \"x\": [1.0, 2.0, 3.0, 4.0], \"y\": [0.041218591329254005, 0.019737013409712276, 0.341674261163911, 0.5973701340971228]}, {\"marker\": {\"color\": \"#7DCD85\"}, \"name\": \"Bio products\", \"type\": \"bar\", \"visible\": false, \"x\": [1.0, 2.0, 3.0, 4.0], \"y\": [0.08180682764363031, 0.021856786011656953, 0.46398834304746045, 0.4323480432972523]}, {\"marker\": {\"color\": \"#736372\"}, \"name\": \"Regular products\", \"type\": \"bar\", \"visible\": false, \"x\": [1.0, 2.0, 3.0, 4.0], \"y\": [0.052891203069334064, 0.07714442312962455, 0.3134420389147712, 0.5565223348862702]}, {\"marker\": {\"color\": \"#7DCD85\"}, \"name\": \"Bio products\", \"type\": \"bar\", \"visible\": false, \"x\": [1.0, 2.0, 3.0, 4.0], \"y\": [0.18324607329842932, 0.12958115183246074, 0.4816753926701571, 0.2054973821989529]}, {\"marker\": {\"color\": \"#736372\"}, \"name\": \"Regular products\", \"type\": \"bar\", \"visible\": false, \"x\": [1.0, 2.0, 3.0, 4.0], \"y\": [0.03527469228459922, 0.27994596217352147, 0.40168117682377663, 0.28309816871810267]}, {\"marker\": {\"color\": \"#7DCD85\"}, \"name\": \"Bio products\", \"type\": \"bar\", \"visible\": false, \"x\": [1.0, 2.0, 3.0, 4.0], \"y\": [0.22107438016528927, 0.29855371900826444, 0.3522727272727273, 0.128099173553719]}, {\"marker\": {\"color\": \"#736372\"}, \"name\": \"Regular products\", \"type\": \"bar\", \"visible\": false, \"x\": [1.0, 2.0, 3.0, 4.0], \"y\": [0.007142302616256502, 0.014789224439096343, 0.0696374505085009, 0.9084310224361463]}, {\"marker\": {\"color\": \"#7DCD85\"}, \"name\": \"Bio products\", \"type\": \"bar\", \"visible\": false, \"x\": [1.0, 2.0, 3.0, 4.0], \"y\": [0.023142509135200974, 0.02892813641900122, 0.28197320341047505, 0.6659561510353228]}],\n",
       "                        {\"annotations\": [{\"align\": \"left\", \"showarrow\": false, \"text\": \"Category:\", \"x\": -0.6, \"y\": 1.08, \"yref\": \"paper\"}], \"plot_bgcolor\": \"rgba(0,0,0,0)\", \"template\": {\"data\": {\"bar\": [{\"error_x\": {\"color\": \"#2a3f5f\"}, \"error_y\": {\"color\": \"#2a3f5f\"}, \"marker\": {\"line\": {\"color\": \"#E5ECF6\", \"width\": 0.5}}, \"type\": \"bar\"}], \"barpolar\": [{\"marker\": {\"line\": {\"color\": \"#E5ECF6\", \"width\": 0.5}}, \"type\": \"barpolar\"}], \"carpet\": [{\"aaxis\": {\"endlinecolor\": \"#2a3f5f\", \"gridcolor\": \"white\", \"linecolor\": \"white\", \"minorgridcolor\": \"white\", \"startlinecolor\": \"#2a3f5f\"}, \"baxis\": {\"endlinecolor\": \"#2a3f5f\", \"gridcolor\": \"white\", \"linecolor\": \"white\", \"minorgridcolor\": \"white\", \"startlinecolor\": \"#2a3f5f\"}, \"type\": \"carpet\"}], \"choropleth\": [{\"colorbar\": {\"outlinewidth\": 0, \"ticks\": \"\"}, \"type\": \"choropleth\"}], \"contour\": [{\"colorbar\": {\"outlinewidth\": 0, \"ticks\": \"\"}, \"colorscale\": [[0.0, \"#0d0887\"], [0.1111111111111111, \"#46039f\"], [0.2222222222222222, \"#7201a8\"], [0.3333333333333333, \"#9c179e\"], [0.4444444444444444, \"#bd3786\"], [0.5555555555555556, \"#d8576b\"], [0.6666666666666666, \"#ed7953\"], [0.7777777777777778, \"#fb9f3a\"], [0.8888888888888888, \"#fdca26\"], [1.0, \"#f0f921\"]], \"type\": \"contour\"}], \"contourcarpet\": [{\"colorbar\": {\"outlinewidth\": 0, \"ticks\": \"\"}, \"type\": \"contourcarpet\"}], \"heatmap\": [{\"colorbar\": {\"outlinewidth\": 0, \"ticks\": \"\"}, \"colorscale\": [[0.0, \"#0d0887\"], [0.1111111111111111, \"#46039f\"], [0.2222222222222222, \"#7201a8\"], [0.3333333333333333, \"#9c179e\"], [0.4444444444444444, \"#bd3786\"], [0.5555555555555556, \"#d8576b\"], [0.6666666666666666, \"#ed7953\"], [0.7777777777777778, \"#fb9f3a\"], [0.8888888888888888, \"#fdca26\"], [1.0, \"#f0f921\"]], \"type\": \"heatmap\"}], \"heatmapgl\": [{\"colorbar\": {\"outlinewidth\": 0, \"ticks\": \"\"}, \"colorscale\": [[0.0, \"#0d0887\"], [0.1111111111111111, \"#46039f\"], [0.2222222222222222, \"#7201a8\"], [0.3333333333333333, \"#9c179e\"], [0.4444444444444444, \"#bd3786\"], [0.5555555555555556, \"#d8576b\"], [0.6666666666666666, \"#ed7953\"], [0.7777777777777778, \"#fb9f3a\"], [0.8888888888888888, \"#fdca26\"], [1.0, \"#f0f921\"]], \"type\": \"heatmapgl\"}], \"histogram\": [{\"marker\": {\"colorbar\": {\"outlinewidth\": 0, \"ticks\": \"\"}}, \"type\": \"histogram\"}], \"histogram2d\": [{\"colorbar\": {\"outlinewidth\": 0, \"ticks\": \"\"}, \"colorscale\": [[0.0, \"#0d0887\"], [0.1111111111111111, \"#46039f\"], [0.2222222222222222, \"#7201a8\"], [0.3333333333333333, \"#9c179e\"], [0.4444444444444444, \"#bd3786\"], [0.5555555555555556, \"#d8576b\"], [0.6666666666666666, \"#ed7953\"], [0.7777777777777778, \"#fb9f3a\"], [0.8888888888888888, \"#fdca26\"], [1.0, \"#f0f921\"]], \"type\": \"histogram2d\"}], \"histogram2dcontour\": [{\"colorbar\": {\"outlinewidth\": 0, \"ticks\": \"\"}, \"colorscale\": [[0.0, \"#0d0887\"], [0.1111111111111111, \"#46039f\"], [0.2222222222222222, \"#7201a8\"], [0.3333333333333333, \"#9c179e\"], [0.4444444444444444, \"#bd3786\"], [0.5555555555555556, \"#d8576b\"], [0.6666666666666666, \"#ed7953\"], [0.7777777777777778, \"#fb9f3a\"], [0.8888888888888888, \"#fdca26\"], [1.0, \"#f0f921\"]], \"type\": \"histogram2dcontour\"}], \"mesh3d\": [{\"colorbar\": {\"outlinewidth\": 0, \"ticks\": \"\"}, \"type\": \"mesh3d\"}], \"parcoords\": [{\"line\": {\"colorbar\": {\"outlinewidth\": 0, \"ticks\": \"\"}}, \"type\": \"parcoords\"}], \"pie\": [{\"automargin\": true, \"type\": \"pie\"}], \"scatter\": [{\"marker\": {\"colorbar\": {\"outlinewidth\": 0, \"ticks\": \"\"}}, \"type\": \"scatter\"}], \"scatter3d\": [{\"line\": {\"colorbar\": {\"outlinewidth\": 0, \"ticks\": \"\"}}, \"marker\": {\"colorbar\": {\"outlinewidth\": 0, \"ticks\": \"\"}}, \"type\": \"scatter3d\"}], \"scattercarpet\": [{\"marker\": {\"colorbar\": {\"outlinewidth\": 0, \"ticks\": \"\"}}, \"type\": \"scattercarpet\"}], \"scattergeo\": [{\"marker\": {\"colorbar\": {\"outlinewidth\": 0, \"ticks\": \"\"}}, \"type\": \"scattergeo\"}], \"scattergl\": [{\"marker\": {\"colorbar\": {\"outlinewidth\": 0, \"ticks\": \"\"}}, \"type\": \"scattergl\"}], \"scattermapbox\": [{\"marker\": {\"colorbar\": {\"outlinewidth\": 0, \"ticks\": \"\"}}, \"type\": \"scattermapbox\"}], \"scatterpolar\": [{\"marker\": {\"colorbar\": {\"outlinewidth\": 0, \"ticks\": \"\"}}, \"type\": \"scatterpolar\"}], \"scatterpolargl\": [{\"marker\": {\"colorbar\": {\"outlinewidth\": 0, \"ticks\": \"\"}}, \"type\": \"scatterpolargl\"}], \"scatterternary\": [{\"marker\": {\"colorbar\": {\"outlinewidth\": 0, \"ticks\": \"\"}}, \"type\": \"scatterternary\"}], \"surface\": [{\"colorbar\": {\"outlinewidth\": 0, \"ticks\": \"\"}, \"colorscale\": [[0.0, \"#0d0887\"], [0.1111111111111111, \"#46039f\"], [0.2222222222222222, \"#7201a8\"], [0.3333333333333333, \"#9c179e\"], [0.4444444444444444, \"#bd3786\"], [0.5555555555555556, \"#d8576b\"], [0.6666666666666666, \"#ed7953\"], [0.7777777777777778, \"#fb9f3a\"], [0.8888888888888888, \"#fdca26\"], [1.0, \"#f0f921\"]], \"type\": \"surface\"}], \"table\": [{\"cells\": {\"fill\": {\"color\": \"#EBF0F8\"}, \"line\": {\"color\": \"white\"}}, \"header\": {\"fill\": {\"color\": \"#C8D4E3\"}, \"line\": {\"color\": \"white\"}}, \"type\": \"table\"}]}, \"layout\": {\"annotationdefaults\": {\"arrowcolor\": \"#2a3f5f\", \"arrowhead\": 0, \"arrowwidth\": 1}, \"coloraxis\": {\"colorbar\": {\"outlinewidth\": 0, \"ticks\": \"\"}}, \"colorscale\": {\"diverging\": [[0, \"#8e0152\"], [0.1, \"#c51b7d\"], [0.2, \"#de77ae\"], [0.3, \"#f1b6da\"], [0.4, \"#fde0ef\"], [0.5, \"#f7f7f7\"], [0.6, \"#e6f5d0\"], [0.7, \"#b8e186\"], [0.8, \"#7fbc41\"], [0.9, \"#4d9221\"], [1, \"#276419\"]], \"sequential\": [[0.0, \"#0d0887\"], [0.1111111111111111, \"#46039f\"], [0.2222222222222222, \"#7201a8\"], [0.3333333333333333, \"#9c179e\"], [0.4444444444444444, \"#bd3786\"], [0.5555555555555556, \"#d8576b\"], [0.6666666666666666, \"#ed7953\"], [0.7777777777777778, \"#fb9f3a\"], [0.8888888888888888, \"#fdca26\"], [1.0, \"#f0f921\"]], \"sequentialminus\": [[0.0, \"#0d0887\"], [0.1111111111111111, \"#46039f\"], [0.2222222222222222, \"#7201a8\"], [0.3333333333333333, \"#9c179e\"], [0.4444444444444444, \"#bd3786\"], [0.5555555555555556, \"#d8576b\"], [0.6666666666666666, \"#ed7953\"], [0.7777777777777778, \"#fb9f3a\"], [0.8888888888888888, \"#fdca26\"], [1.0, \"#f0f921\"]]}, \"colorway\": [\"#636efa\", \"#EF553B\", \"#00cc96\", \"#ab63fa\", \"#FFA15A\", \"#19d3f3\", \"#FF6692\", \"#B6E880\", \"#FF97FF\", \"#FECB52\"], \"font\": {\"color\": \"#2a3f5f\"}, \"geo\": {\"bgcolor\": \"white\", \"lakecolor\": \"white\", \"landcolor\": \"#E5ECF6\", \"showlakes\": true, \"showland\": true, \"subunitcolor\": \"white\"}, \"hoverlabel\": {\"align\": \"left\"}, \"hovermode\": \"closest\", \"mapbox\": {\"style\": \"light\"}, \"paper_bgcolor\": \"white\", \"plot_bgcolor\": \"#E5ECF6\", \"polar\": {\"angularaxis\": {\"gridcolor\": \"white\", \"linecolor\": \"white\", \"ticks\": \"\"}, \"bgcolor\": \"#E5ECF6\", \"radialaxis\": {\"gridcolor\": \"white\", \"linecolor\": \"white\", \"ticks\": \"\"}}, \"scene\": {\"xaxis\": {\"backgroundcolor\": \"#E5ECF6\", \"gridcolor\": \"white\", \"gridwidth\": 2, \"linecolor\": \"white\", \"showbackground\": true, \"ticks\": \"\", \"zerolinecolor\": \"white\"}, \"yaxis\": {\"backgroundcolor\": \"#E5ECF6\", \"gridcolor\": \"white\", \"gridwidth\": 2, \"linecolor\": \"white\", \"showbackground\": true, \"ticks\": \"\", \"zerolinecolor\": \"white\"}, \"zaxis\": {\"backgroundcolor\": \"#E5ECF6\", \"gridcolor\": \"white\", \"gridwidth\": 2, \"linecolor\": \"white\", \"showbackground\": true, \"ticks\": \"\", \"zerolinecolor\": \"white\"}}, \"shapedefaults\": {\"line\": {\"color\": \"#2a3f5f\"}}, \"ternary\": {\"aaxis\": {\"gridcolor\": \"white\", \"linecolor\": \"white\", \"ticks\": \"\"}, \"baxis\": {\"gridcolor\": \"white\", \"linecolor\": \"white\", \"ticks\": \"\"}, \"bgcolor\": \"#E5ECF6\", \"caxis\": {\"gridcolor\": \"white\", \"linecolor\": \"white\", \"ticks\": \"\"}}, \"title\": {\"x\": 0.05}, \"xaxis\": {\"automargin\": true, \"gridcolor\": \"white\", \"linecolor\": \"white\", \"ticks\": \"\", \"title\": {\"standoff\": 15}, \"zerolinecolor\": \"white\", \"zerolinewidth\": 2}, \"yaxis\": {\"automargin\": true, \"gridcolor\": \"white\", \"linecolor\": \"white\", \"ticks\": \"\", \"title\": {\"standoff\": 15}, \"zerolinecolor\": \"white\", \"zerolinewidth\": 2}}}, \"title\": {\"text\": \"Proportion of products of a given Nova score for bio and non-bio products different food categories.\", \"x\": 0.5, \"xanchor\": \"center\", \"y\": 0.95, \"yanchor\": \"top\"}, \"updatemenus\": [{\"buttons\": [{\"args\": [{\"visible\": [true, true, false, false, false, false, false, false, false, false, false, false, false, false, false, false]}], \"label\": \"meat, fish, egg\", \"method\": \"update\"}, {\"args\": [{\"visible\": [false, false, true, true, false, false, false, false, false, false, false, false, false, false, false, false]}], \"label\": \"fruit, vegetable\", \"method\": \"update\"}, {\"args\": [{\"visible\": [false, false, false, false, true, true, false, false, false, false, false, false, false, false, false, false]}], \"label\": \"cereal\", \"method\": \"update\"}, {\"args\": [{\"visible\": [false, false, false, false, false, false, true, true, false, false, false, false, false, false, false, false]}], \"label\": \"drink\", \"method\": \"update\"}, {\"args\": [{\"visible\": [false, false, false, false, false, false, false, false, true, true, false, false, false, false, false, false]}], \"label\": \"dairy\", \"method\": \"update\"}, {\"args\": [{\"visible\": [false, false, false, false, false, false, false, false, false, false, true, true, false, false, false, false]}], \"label\": \"cooking ingredient\", \"method\": \"update\"}, {\"args\": [{\"visible\": [false, false, false, false, false, false, false, false, false, false, false, false, true, true, false, false]}], \"label\": \"fat\", \"method\": \"update\"}, {\"args\": [{\"visible\": [false, false, false, false, false, false, false, false, false, false, false, false, false, false, true, true]}], \"label\": \"sugary product\", \"method\": \"update\"}], \"direction\": \"down\", \"showactive\": true, \"x\": 0.1, \"xanchor\": \"left\", \"y\": 1.1, \"yanchor\": \"top\"}], \"xaxis\": {\"tickfont\": {\"size\": 14}, \"title\": {\"font\": {\"size\": 16}, \"text\": \"Nova group\"}, \"type\": \"category\"}, \"yaxis\": {\"gridcolor\": \"black\", \"tickfont\": {\"size\": 14}, \"title\": {\"font\": {\"size\": 16}, \"text\": \"Propotions\"}}},\n",
       "                        {\"responsive\": true}\n",
       "                    ).then(function(){\n",
       "                            \n",
       "var gd = document.getElementById('395bedef-b703-4a16-810a-6488320c7cd1');\n",
       "var x = new MutationObserver(function (mutations, observer) {{\n",
       "        var display = window.getComputedStyle(gd).display;\n",
       "        if (!display || display === 'none') {{\n",
       "            console.log([gd, 'removed!']);\n",
       "            Plotly.purge(gd);\n",
       "            observer.disconnect();\n",
       "        }}\n",
       "}});\n",
       "\n",
       "// Listen for the removal of the full notebook cells\n",
       "var notebookContainer = gd.closest('#notebook-container');\n",
       "if (notebookContainer) {{\n",
       "    x.observe(notebookContainer, {childList: true});\n",
       "}}\n",
       "\n",
       "// Listen for the clearing of the current output cell\n",
       "var outputEl = gd.closest('.output');\n",
       "if (outputEl) {{\n",
       "    x.observe(outputEl, {childList: true});\n",
       "}}\n",
       "\n",
       "                        })\n",
       "                };\n",
       "                });\n",
       "            </script>\n",
       "        </div>"
      ]
     },
     "metadata": {},
     "output_type": "display_data"
    }
   ],
   "source": [
    "updatemenus = [\n",
    "    {\n",
    "        'buttons': list(),\n",
    "        'direction': 'down',\n",
    "        'showactive': True,\n",
    "        'x':0.1,\n",
    "        'xanchor':\"left\",\n",
    "        'y':1.1,\n",
    "        'yanchor':\"top\"\n",
    "    }\n",
    "]\n",
    "fig = go.Figure()\n",
    "n_cat = len(list(categories.keys()))\n",
    "\n",
    "vect_parent = []\n",
    "vect_child = []\n",
    "\n",
    "for cat in categories.keys():\n",
    "    fig = compute_sub_element(fig, scores_df, cat, 'bar')\n",
    "    vect = np.full(n_cat*2, False, dtype=bool)\n",
    "    vect_parent = construct_bool_visibility(vect, cat, list(categories.keys()))\n",
    "    updatemenus[0]['buttons'].append({'method': 'update',\n",
    "                                      'label': cat,\n",
    "                                      'args' : [\n",
    "                                          {'visible': vect_parent}\n",
    "                                      ]})\n",
    "    \n",
    "\n",
    "fig.update_layout(updatemenus=updatemenus,\n",
    "                  title=dict(text='Proportion of products of a given Nova score for bio and non-bio products different food categories.',\n",
    "                             xanchor= 'center',\n",
    "                             yanchor= 'top',\n",
    "                             x = 0.5,\n",
    "                             y = 0.95),\n",
    "                  yaxis=dict(\n",
    "                            title='Propotions',\n",
    "                            titlefont_size=16,\n",
    "                            tickfont_size=14,\n",
    "                            gridcolor = 'black',\n",
    "                            ),\n",
    "                  xaxis=dict(\n",
    "                            title='Nova group',\n",
    "                            titlefont_size=16,\n",
    "                            tickfont_size=14,\n",
    "                            type=\"category\"\n",
    "                            ),\n",
    "                  plot_bgcolor='rgba(0,0,0,0)',\n",
    "                  annotations = [go.layout.Annotation(text=\"Category:\", showarrow=False,\n",
    "                                     x=-0.6, y=1.08, yref=\"paper\", align=\"left\")]\n",
    "                 )\n",
    "fig.update_yaxes()\n",
    "fig.show()\n",
    "fig.write_json('novascore.json')"
   ]
  },
  {
   "cell_type": "code",
   "execution_count": 543,
   "metadata": {},
   "outputs": [
    {
     "data": {
      "text/html": [
       "<div>\n",
       "<style scoped>\n",
       "    .dataframe tbody tr th:only-of-type {\n",
       "        vertical-align: middle;\n",
       "    }\n",
       "\n",
       "    .dataframe tbody tr th {\n",
       "        vertical-align: top;\n",
       "    }\n",
       "\n",
       "    .dataframe thead th {\n",
       "        text-align: right;\n",
       "    }\n",
       "</style>\n",
       "<table border=\"1\" class=\"dataframe\">\n",
       "  <thead>\n",
       "    <tr style=\"text-align: right;\">\n",
       "      <th></th>\n",
       "      <th>score</th>\n",
       "      <th>proportion</th>\n",
       "      <th>type</th>\n",
       "      <th>category</th>\n",
       "    </tr>\n",
       "  </thead>\n",
       "  <tbody>\n",
       "    <tr>\n",
       "      <td>8</td>\n",
       "      <td>1.0</td>\n",
       "      <td>0.092112</td>\n",
       "      <td>bio</td>\n",
       "      <td>meat, fish, egg</td>\n",
       "    </tr>\n",
       "    <tr>\n",
       "      <td>9</td>\n",
       "      <td>3.0</td>\n",
       "      <td>0.553970</td>\n",
       "      <td>bio</td>\n",
       "      <td>meat, fish, egg</td>\n",
       "    </tr>\n",
       "    <tr>\n",
       "      <td>10</td>\n",
       "      <td>4.0</td>\n",
       "      <td>0.353918</td>\n",
       "      <td>bio</td>\n",
       "      <td>meat, fish, egg</td>\n",
       "    </tr>\n",
       "    <tr>\n",
       "      <td>11</td>\n",
       "      <td>1.0</td>\n",
       "      <td>0.041570</td>\n",
       "      <td>regular</td>\n",
       "      <td>meat, fish, egg</td>\n",
       "    </tr>\n",
       "    <tr>\n",
       "      <td>12</td>\n",
       "      <td>2.0</td>\n",
       "      <td>0.000440</td>\n",
       "      <td>regular</td>\n",
       "      <td>meat, fish, egg</td>\n",
       "    </tr>\n",
       "    <tr>\n",
       "      <td>13</td>\n",
       "      <td>3.0</td>\n",
       "      <td>0.305151</td>\n",
       "      <td>regular</td>\n",
       "      <td>meat, fish, egg</td>\n",
       "    </tr>\n",
       "    <tr>\n",
       "      <td>14</td>\n",
       "      <td>4.0</td>\n",
       "      <td>0.652839</td>\n",
       "      <td>regular</td>\n",
       "      <td>meat, fish, egg</td>\n",
       "    </tr>\n",
       "  </tbody>\n",
       "</table>\n",
       "</div>"
      ],
      "text/plain": [
       "    score  proportion     type         category\n",
       "8     1.0    0.092112      bio  meat, fish, egg\n",
       "9     3.0    0.553970      bio  meat, fish, egg\n",
       "10    4.0    0.353918      bio  meat, fish, egg\n",
       "11    1.0    0.041570  regular  meat, fish, egg\n",
       "12    2.0    0.000440  regular  meat, fish, egg\n",
       "13    3.0    0.305151  regular  meat, fish, egg\n",
       "14    4.0    0.652839  regular  meat, fish, egg"
      ]
     },
     "execution_count": 543,
     "metadata": {},
     "output_type": "execute_result"
    }
   ],
   "source": [
    "scores_df[scores_df['category'] == 'meat, fish, egg']"
   ]
  },
  {
   "cell_type": "markdown",
   "metadata": {},
   "source": [
    "# Interactive plot for UK nutritional score"
   ]
  },
  {
   "cell_type": "code",
   "execution_count": 544,
   "metadata": {},
   "outputs": [
    {
     "data": {
      "text/html": [
       "<div>\n",
       "<style scoped>\n",
       "    .dataframe tbody tr th:only-of-type {\n",
       "        vertical-align: middle;\n",
       "    }\n",
       "\n",
       "    .dataframe tbody tr th {\n",
       "        vertical-align: top;\n",
       "    }\n",
       "\n",
       "    .dataframe thead th {\n",
       "        text-align: right;\n",
       "    }\n",
       "</style>\n",
       "<table border=\"1\" class=\"dataframe\">\n",
       "  <thead>\n",
       "    <tr style=\"text-align: right;\">\n",
       "      <th></th>\n",
       "      <th>score</th>\n",
       "      <th>proportion</th>\n",
       "      <th>type</th>\n",
       "      <th>category</th>\n",
       "    </tr>\n",
       "  </thead>\n",
       "  <tbody>\n",
       "    <tr>\n",
       "      <td>0</td>\n",
       "      <td>-15.0</td>\n",
       "      <td>0.000096</td>\n",
       "      <td>bio</td>\n",
       "      <td>all products</td>\n",
       "    </tr>\n",
       "    <tr>\n",
       "      <td>1</td>\n",
       "      <td>-14.0</td>\n",
       "      <td>0.000032</td>\n",
       "      <td>bio</td>\n",
       "      <td>all products</td>\n",
       "    </tr>\n",
       "    <tr>\n",
       "      <td>2</td>\n",
       "      <td>-13.0</td>\n",
       "      <td>0.000225</td>\n",
       "      <td>bio</td>\n",
       "      <td>all products</td>\n",
       "    </tr>\n",
       "    <tr>\n",
       "      <td>3</td>\n",
       "      <td>-12.0</td>\n",
       "      <td>0.000354</td>\n",
       "      <td>bio</td>\n",
       "      <td>all products</td>\n",
       "    </tr>\n",
       "    <tr>\n",
       "      <td>4</td>\n",
       "      <td>-11.0</td>\n",
       "      <td>0.000868</td>\n",
       "      <td>bio</td>\n",
       "      <td>all products</td>\n",
       "    </tr>\n",
       "    <tr>\n",
       "      <td>...</td>\n",
       "      <td>...</td>\n",
       "      <td>...</td>\n",
       "      <td>...</td>\n",
       "      <td>...</td>\n",
       "    </tr>\n",
       "    <tr>\n",
       "      <td>3134</td>\n",
       "      <td>24.0</td>\n",
       "      <td>0.000941</td>\n",
       "      <td>regular</td>\n",
       "      <td>ice cream</td>\n",
       "    </tr>\n",
       "    <tr>\n",
       "      <td>3135</td>\n",
       "      <td>25.0</td>\n",
       "      <td>0.000706</td>\n",
       "      <td>regular</td>\n",
       "      <td>ice cream</td>\n",
       "    </tr>\n",
       "    <tr>\n",
       "      <td>3136</td>\n",
       "      <td>26.0</td>\n",
       "      <td>0.000706</td>\n",
       "      <td>regular</td>\n",
       "      <td>ice cream</td>\n",
       "    </tr>\n",
       "    <tr>\n",
       "      <td>3137</td>\n",
       "      <td>28.0</td>\n",
       "      <td>0.000235</td>\n",
       "      <td>regular</td>\n",
       "      <td>ice cream</td>\n",
       "    </tr>\n",
       "    <tr>\n",
       "      <td>3138</td>\n",
       "      <td>31.0</td>\n",
       "      <td>0.000706</td>\n",
       "      <td>regular</td>\n",
       "      <td>ice cream</td>\n",
       "    </tr>\n",
       "  </tbody>\n",
       "</table>\n",
       "<p>3139 rows × 4 columns</p>\n",
       "</div>"
      ],
      "text/plain": [
       "      score  proportion     type      category\n",
       "0     -15.0    0.000096      bio  all products\n",
       "1     -14.0    0.000032      bio  all products\n",
       "2     -13.0    0.000225      bio  all products\n",
       "3     -12.0    0.000354      bio  all products\n",
       "4     -11.0    0.000868      bio  all products\n",
       "...     ...         ...      ...           ...\n",
       "3134   24.0    0.000941  regular     ice cream\n",
       "3135   25.0    0.000706  regular     ice cream\n",
       "3136   26.0    0.000706  regular     ice cream\n",
       "3137   28.0    0.000235  regular     ice cream\n",
       "3138   31.0    0.000706  regular     ice cream\n",
       "\n",
       "[3139 rows x 4 columns]"
      ]
     },
     "execution_count": 544,
     "metadata": {},
     "output_type": "execute_result"
    }
   ],
   "source": [
    "scores_df = compute_all_categories_summary(field='nutrition-score-uk_100g')\n",
    "scores_df"
   ]
  },
  {
   "cell_type": "code",
   "execution_count": 545,
   "metadata": {},
   "outputs": [
    {
     "data": {
      "application/vnd.plotly.v1+json": {
       "config": {
        "plotlyServerURL": "https://plot.ly"
       },
       "data": [
        {
         "fill": "tozeroy",
         "marker": {
          "color": "#736372"
         },
         "name": "Regular products",
         "type": "scatter",
         "visible": true,
         "x": [
          -12,
          -11,
          -10,
          -9,
          -8,
          -7,
          -6,
          -5,
          -4,
          -3,
          -2,
          -1,
          0,
          1,
          2,
          3,
          4,
          5,
          6,
          7,
          8,
          9,
          10,
          11,
          12,
          13,
          14,
          15,
          16,
          17,
          18,
          19,
          20,
          21,
          22,
          23,
          24,
          25,
          26,
          27,
          28,
          29,
          30,
          31,
          36
         ],
         "y": [
          2.892723354402002e-05,
          2.892723354402002e-05,
          0.00011570893417608008,
          0.0003037359522122102,
          0.0007087172218284905,
          0.0010124531740407007,
          0.001967051880993361,
          0.0056986650081719435,
          0.027466408250047005,
          0.019974254762145822,
          0.024501366811784955,
          0.04220483374072521,
          0.060212036621877664,
          0.0634374231620359,
          0.07305572831542255,
          0.08232690666628097,
          0.06745830862465468,
          0.05273434675074849,
          0.011946947453680268,
          0.006870217966704754,
          0.004281230564514963,
          0.005018875019887473,
          0.007289662853093045,
          0.04732495407801675,
          0.037504158289821954,
          0.03592762406167286,
          0.03219601093449428,
          0.026352709758602235,
          0.026410564225690276,
          0.024834029997541186,
          0.025672919770317767,
          0.028724742909211877,
          0.037677721691086075,
          0.04334745946571399,
          0.0198006913608817,
          0.011643211501468057,
          0.01573641504794689,
          0.01650298673686342,
          0.008374434110993796,
          0.0025166693183297415,
          0.0005640810541083903,
          8.678170063206005e-05,
          0.0001301725509480901,
          1.446361677201001e-05,
          1.446361677201001e-05
         ]
        },
        {
         "fill": "tozeroy",
         "marker": {
          "color": "#7DCD85"
         },
         "name": "Bio products",
         "type": "scatter",
         "visible": true,
         "x": [
          -13,
          -11,
          -10,
          -9,
          -8,
          -7,
          -6,
          -5,
          -4,
          -3,
          -2,
          -1,
          0,
          1,
          2,
          3,
          4,
          5,
          6,
          7,
          8,
          9,
          10,
          11,
          12,
          13,
          14,
          15,
          16,
          17,
          18,
          19,
          20,
          21,
          22,
          23,
          24,
          25,
          26,
          27,
          28,
          30,
          32
         ],
         "y": [
          0.000397456279809221,
          0.0001987281399046105,
          0.000397456279809221,
          0.0001987281399046105,
          0.0023847376788553257,
          0.0029809220985691576,
          0.009737678855325914,
          0.014904610492845787,
          0.03457869634340222,
          0.03994435612082671,
          0.0417329093799682,
          0.07492050874403816,
          0.0737281399046105,
          0.08187599364069953,
          0.07849761526232114,
          0.07690779014308426,
          0.07889507154213037,
          0.04451510333863275,
          0.014705882352941176,
          0.015302066772655007,
          0.00814785373608903,
          0.006955484896661367,
          0.008744038155802861,
          0.04014308426073132,
          0.031597774244833066,
          0.031399046104928455,
          0.038751987281399045,
          0.014109697933227345,
          0.014308426073131956,
          0.01212241653418124,
          0.013314785373608903,
          0.01629570747217806,
          0.017686804451510333,
          0.015103338632750398,
          0.013712241653418123,
          0.005564387917329093,
          0.010930047694753578,
          0.010333863275039745,
          0.001987281399046105,
          0.0013910969793322733,
          0.0001987281399046105,
          0.0001987281399046105,
          0.0001987281399046105
         ]
        },
        {
         "fill": "tozeroy",
         "marker": {
          "color": "#736372"
         },
         "name": "Regular products",
         "type": "scatter",
         "visible": false,
         "x": [
          -15,
          -14,
          -13,
          -12,
          -11,
          -10,
          -9,
          -8,
          -7,
          -6,
          -5,
          -4,
          -3,
          -2,
          -1,
          0,
          1,
          2,
          3,
          4,
          5,
          6,
          7,
          8,
          9,
          10,
          11,
          12,
          13,
          14,
          15,
          16,
          17,
          18,
          19,
          20,
          21,
          22,
          23,
          24,
          25,
          26,
          27,
          28,
          29,
          30,
          31,
          32,
          33,
          35,
          36,
          37
         ],
         "y": [
          4.878660737932284e-05,
          0.00020211594485719463,
          0.0005087746198129382,
          0.0017423788349758159,
          0.0020769155712911723,
          0.005561673241242804,
          0.006725582303006649,
          0.013269957207175814,
          0.01672683681576783,
          0.03491727185291535,
          0.041663762701941706,
          0.06120628371503046,
          0.07950126148227653,
          0.04427733095440543,
          0.052111066196456696,
          0.06320653461758269,
          0.05027808366206214,
          0.05227833456461438,
          0.03500787555233409,
          0.02469299284927726,
          0.021054905841847757,
          0.022316388118370247,
          0.02565478596618391,
          0.027606250261356824,
          0.023285150750616802,
          0.023020309167700478,
          0.04062530491629612,
          0.03808143181723143,
          0.02954377552584993,
          0.022009729443414505,
          0.029118635090115832,
          0.014496591906998786,
          0.015214451987008824,
          0.013005115624259489,
          0.012510280035126357,
          0.016643202631688992,
          0.00841220501526324,
          0.007129814192721038,
          0.005715002578720676,
          0.0051016852288091885,
          0.0050738071674495755,
          0.0050877461981293825,
          0.002488116976345465,
          0.00038332334369467946,
          7.66646687389359e-05,
          0.00012545127611825874,
          9.757321475864568e-05,
          4.181709203941958e-05,
          2.7878061359613052e-05,
          2.090854601970979e-05,
          1.3939030679806526e-05,
          1.3939030679806526e-05
         ]
        },
        {
         "fill": "tozeroy",
         "marker": {
          "color": "#7DCD85"
         },
         "name": "Bio products",
         "type": "scatter",
         "visible": false,
         "x": [
          -15,
          -14,
          -13,
          -12,
          -11,
          -10,
          -9,
          -8,
          -7,
          -6,
          -5,
          -4,
          -3,
          -2,
          -1,
          0,
          1,
          2,
          3,
          4,
          5,
          6,
          7,
          8,
          9,
          10,
          11,
          12,
          13,
          14,
          15,
          16,
          17,
          18,
          19,
          20,
          21,
          22,
          23,
          24,
          25,
          26,
          27,
          28,
          29,
          30,
          35
         ],
         "y": [
          0.0002763957987838585,
          0.00010364842454394693,
          0.0007255389718076285,
          0.0010710337202874515,
          0.0028676064123825317,
          0.004007739082365948,
          0.004975124378109453,
          0.008430071862907684,
          0.016998341625207296,
          0.06118711995577667,
          0.0568338861249309,
          0.06996268656716417,
          0.08530265339966832,
          0.053620784964068545,
          0.06723327805417358,
          0.07680348258706468,
          0.05534825870646766,
          0.04304864566058596,
          0.029297954671088998,
          0.022837202874516307,
          0.019969596462133775,
          0.023977335544499722,
          0.02808872305140962,
          0.026672194582642344,
          0.019935046987285793,
          0.027017689331122165,
          0.03796987285793256,
          0.0326147042564953,
          0.018000276395798785,
          0.013819789939192924,
          0.02093698175787728,
          0.010986733001658375,
          0.009742951907131012,
          0.008119126589275842,
          0.008015478164731896,
          0.019071310116086235,
          0.0029712548369264786,
          0.003351299060254284,
          0.002211166390270868,
          0.0014856274184632393,
          0.0010364842454394694,
          0.0016929242675511333,
          0.0009328358208955224,
          0.00017274737423991155,
          3.454947484798231e-05,
          0.00020729684908789387,
          3.454947484798231e-05
         ]
        },
        {
         "fill": "tozeroy",
         "marker": {
          "color": "#736372"
         },
         "name": "Regular products",
         "type": "scatter",
         "visible": false,
         "x": [
          -11,
          -10,
          -9,
          -8,
          -7,
          -6,
          -5,
          -4,
          -3,
          -2,
          -1,
          0,
          1,
          2,
          3,
          4,
          5,
          6,
          7,
          8,
          9,
          10,
          11,
          12,
          13,
          14,
          15,
          16,
          17,
          18,
          19,
          20,
          21,
          22,
          23,
          24,
          25,
          26,
          27,
          28,
          29,
          30,
          31,
          32,
          33,
          34,
          35,
          36,
          37,
          40
         ],
         "y": [
          4.357393407263775e-05,
          4.357393407263775e-05,
          0.00010893483518159437,
          0.00047931327479901523,
          0.0009804135166343493,
          0.00814832567158326,
          0.007560077561602649,
          0.03156931523562605,
          0.019956861805268088,
          0.0212422928604109,
          0.052157999084947386,
          0.04705984879844877,
          0.037800387808013244,
          0.036928909126560494,
          0.04076341532495261,
          0.030676049587136975,
          0.02300703719035273,
          0.01278894965031918,
          0.010501318111505698,
          0.011568879496285323,
          0.01180853613368483,
          0.013398984727336107,
          0.03071962352120961,
          0.03159110220266237,
          0.030479966883810106,
          0.04048018475348047,
          0.03695069609359681,
          0.03481557332403756,
          0.034074816444802716,
          0.033399420466676835,
          0.03945619730277348,
          0.03851935772021177,
          0.03743000936839583,
          0.03967406697313667,
          0.03926011459944661,
          0.03736464846728687,
          0.036449595851761475,
          0.02322490686071592,
          0.010348809342251465,
          0.003987014967646354,
          0.001220070154033857,
          0.0008061177803437983,
          0.0005664611429442907,
          0.00013072180221791326,
          0.000174295736290551,
          0.00010893483518159437,
          4.357393407263775e-05,
          6.536090110895663e-05,
          2.1786967036318875e-05,
          4.357393407263775e-05
         ]
        },
        {
         "fill": "tozeroy",
         "marker": {
          "color": "#7DCD85"
         },
         "name": "Bio products",
         "type": "scatter",
         "visible": false,
         "x": [
          -11,
          -7,
          -6,
          -5,
          -4,
          -3,
          -2,
          -1,
          0,
          1,
          2,
          3,
          4,
          5,
          6,
          7,
          8,
          9,
          10,
          11,
          12,
          13,
          14,
          15,
          16,
          17,
          18,
          19,
          20,
          21,
          22,
          23,
          24,
          25,
          26,
          27,
          28,
          29,
          32,
          35
         ],
         "y": [
          0.0001596169193934557,
          0.0012769353551476455,
          0.05570630486831604,
          0.027932960893854747,
          0.052673583399840386,
          0.035115722266560255,
          0.03719074221867518,
          0.07916999201915403,
          0.06384676775738228,
          0.04644852354349561,
          0.027613727055067837,
          0.026815642458100558,
          0.021707901037509976,
          0.01707901037509976,
          0.011652035115722267,
          0.013567438148443736,
          0.012290502793296089,
          0.012769353551476457,
          0.017557861133280128,
          0.02601755786113328,
          0.02346368715083799,
          0.025059856344772546,
          0.028411811652035115,
          0.03335993615323224,
          0.034956105347166797,
          0.034477254588986435,
          0.040383080606544296,
          0.03878691141260974,
          0.030007980845969673,
          0.029529130087789304,
          0.025059856344772546,
          0.019952114924181964,
          0.017398244213886672,
          0.017877094972067038,
          0.007980845969672785,
          0.004469273743016759,
          0.0011173184357541898,
          0.0007980845969672786,
          0.0001596169193934557,
          0.0001596169193934557
         ]
        },
        {
         "fill": "tozeroy",
         "marker": {
          "color": "#736372"
         },
         "name": "Regular products",
         "type": "scatter",
         "visible": false,
         "x": [
          -10,
          -9,
          -8,
          -7,
          -6,
          -5,
          -4,
          -3,
          -2,
          -1,
          0,
          1,
          2,
          3,
          4,
          5,
          6,
          7,
          8,
          9,
          10,
          11,
          12,
          13,
          14,
          15,
          16,
          17,
          18,
          19,
          20,
          21,
          22,
          23,
          24,
          25,
          26,
          27,
          28,
          29,
          30,
          31,
          33,
          35
         ],
         "y": [
          0.0002650020611271421,
          0.0004122254284199988,
          0.0004711147753371415,
          0.0006183381426299983,
          0.0014133443260114244,
          0.021789058359342795,
          0.07051999293327837,
          0.14669336317060244,
          0.020758494788292798,
          0.011188975914257111,
          0.26877097932983923,
          0.16865908957069667,
          0.1725163417937695,
          0.022849066603851362,
          0.009746186914787115,
          0.0058006006713385546,
          0.004122254284199988,
          0.0025911312643542785,
          0.0019139037748071373,
          0.001707791060597138,
          0.005977268712089983,
          0.003415582121194276,
          0.004298922324951417,
          0.008862846711029975,
          0.011777869383428537,
          0.0021494611624757083,
          0.0026205759378128495,
          0.0016783463871385667,
          0.002561686590895707,
          0.005182262528708557,
          0.004799481773747129,
          0.0036216948354042752,
          0.0028561333254814203,
          0.0026205759378128495,
          0.0014133443260114244,
          0.0019433484482657087,
          0.0005300041222542842,
          0.0005300041222542842,
          8.833402037571403e-05,
          0.00011777869383428538,
          5.888934691714269e-05,
          2.9444673458571344e-05,
          2.9444673458571344e-05,
          2.9444673458571344e-05
         ]
        },
        {
         "fill": "tozeroy",
         "marker": {
          "color": "#7DCD85"
         },
         "name": "Bio products",
         "type": "scatter",
         "visible": false,
         "x": [
          -10,
          -8,
          -7,
          -6,
          -5,
          -4,
          -3,
          -2,
          -1,
          0,
          1,
          2,
          3,
          4,
          5,
          6,
          7,
          8,
          9,
          10,
          11,
          12,
          13,
          14,
          15,
          16,
          17,
          19,
          20,
          22,
          24,
          25,
          26,
          27
         ],
         "y": [
          0.00041017227235438887,
          0.0006152584085315833,
          0.0016406890894175555,
          0.009023789991796555,
          0.039171452009844135,
          0.11423297785069729,
          0.23646431501230517,
          0.05127153404429861,
          0.02030352748154225,
          0.17124692370795735,
          0.15730106644790812,
          0.1279737489745693,
          0.02645611156685808,
          0.006562756357670222,
          0.003486464315012305,
          0.002255947497949139,
          0.002255947497949139,
          0.0018457752255947497,
          0.0018457752255947497,
          0.002050861361771944,
          0.002255947497949139,
          0.0026661197703035273,
          0.004511894995898278,
          0.0061525840853158325,
          0.0018457752255947497,
          0.0016406890894175555,
          0.001025430680885972,
          0.0012305168170631665,
          0.0008203445447087777,
          0.0006152584085315833,
          0.00020508613617719443,
          0.00020508613617719443,
          0.00020508613617719443,
          0.00020508613617719443
         ]
        },
        {
         "fill": "tozeroy",
         "marker": {
          "color": "#736372"
         },
         "name": "Regular products",
         "type": "scatter",
         "visible": false,
         "x": [
          -9,
          -8,
          -7,
          -6,
          -5,
          -4,
          -3,
          -2,
          -1,
          0,
          1,
          2,
          3,
          4,
          5,
          6,
          7,
          8,
          9,
          10,
          11,
          12,
          13,
          14,
          15,
          16,
          17,
          18,
          19,
          20,
          21,
          22,
          23,
          24,
          25,
          26,
          27,
          28,
          29,
          30,
          31,
          32,
          33,
          34,
          35,
          37,
          40
         ],
         "y": [
          0.00013162657540557437,
          0.00014807989733127118,
          6.581328770278719e-05,
          0.00042778637006811676,
          0.009954259765046563,
          0.007798874592780282,
          0.00878607390832209,
          0.019283293296916647,
          0.032906643851393594,
          0.048636019612359735,
          0.04399618282931324,
          0.045657968343808614,
          0.04202178419822962,
          0.029385632959294482,
          0.020928625489486326,
          0.013919510349139491,
          0.009378393497647176,
          0.0064003422290960545,
          0.004541116851492316,
          0.0035374642140248115,
          0.01566356247326335,
          0.023182730593306788,
          0.026193688505709304,
          0.029073019842706244,
          0.028398433643752673,
          0.03874757313501596,
          0.034782322550923034,
          0.0776267728454375,
          0.08228306295040969,
          0.07114416400671296,
          0.0694001118825891,
          0.049277699167461914,
          0.03098160518608707,
          0.030652538747573135,
          0.011286978841028004,
          0.01597617558985159,
          0.011122445621771036,
          0.004261410378755471,
          0.0012175458225015632,
          0.00041133304814241996,
          0.00018098654118266477,
          1.6453321925696797e-05,
          4.9359965777090394e-05,
          4.9359965777090394e-05,
          4.9359965777090394e-05,
          4.9359965777090394e-05,
          1.6453321925696797e-05
         ]
        },
        {
         "fill": "tozeroy",
         "marker": {
          "color": "#7DCD85"
         },
         "name": "Bio products",
         "type": "scatter",
         "visible": false,
         "x": [
          -6,
          -5,
          -4,
          -3,
          -2,
          -1,
          0,
          1,
          2,
          3,
          4,
          5,
          6,
          7,
          8,
          9,
          10,
          11,
          12,
          13,
          14,
          15,
          16,
          17,
          18,
          19,
          20,
          21,
          22,
          23,
          24,
          25,
          26,
          27,
          28,
          29,
          30,
          32,
          33,
          34,
          37
         ],
         "y": [
          0.0005885815185403178,
          0.012507357268981754,
          0.0042672160094173045,
          0.006032960565038258,
          0.036933490288404945,
          0.044437904649794,
          0.09711595055915244,
          0.10682754561506769,
          0.07577987051206592,
          0.05091230135373749,
          0.03899352560329605,
          0.025456150676868745,
          0.018393172454384932,
          0.008092995879929371,
          0.0033843437316068274,
          0.003972925250147146,
          0.0038257798705120657,
          0.009858740435550324,
          0.01898175397292525,
          0.02972336668628605,
          0.017216009417304296,
          0.02707474985285462,
          0.027957622130665098,
          0.028987639788110652,
          0.06812831077104178,
          0.05782813419658623,
          0.03443201883460859,
          0.030459093584461448,
          0.028251912889935255,
          0.02442613301942319,
          0.0214832254267216,
          0.0073572689817539725,
          0.012213066509711596,
          0.011771630370806356,
          0.0030900529723366685,
          0.0020600353148911123,
          0.00044143613890523835,
          0.0002942907592701589,
          0.00014714537963507945,
          0.00014714537963507945,
          0.00014714537963507945
         ]
        },
        {
         "fill": "tozeroy",
         "marker": {
          "color": "#736372"
         },
         "name": "Regular products",
         "type": "scatter",
         "visible": false,
         "x": [
          -14,
          -12,
          -11,
          -10,
          -9,
          -8,
          -7,
          -6,
          -5,
          -4,
          -3,
          -2,
          -1,
          0,
          1,
          2,
          3,
          4,
          5,
          6,
          7,
          8,
          9,
          10,
          11,
          12,
          13,
          14,
          15,
          16,
          17,
          18,
          19,
          20,
          21,
          22,
          23,
          24,
          25,
          26,
          27,
          28,
          29,
          30,
          31,
          32,
          33,
          34,
          37
         ],
         "y": [
          8.772442832914205e-05,
          8.772442832914205e-05,
          0.0004971050938651383,
          0.0021053862798994095,
          0.00038013918942628226,
          0.0006433124744137085,
          0.001345107901046845,
          0.0037136674659336804,
          0.00836306216737821,
          0.009942101877302767,
          0.014299081817650154,
          0.012281419966079888,
          0.010322241066729049,
          0.020264342944031816,
          0.021053862798994093,
          0.031288379437394,
          0.032984385051757416,
          0.03143458681794257,
          0.030703549915199718,
          0.027106848353704895,
          0.0266974676881689,
          0.027867126732557458,
          0.03500204690332768,
          0.03620094742382596,
          0.07488742031697761,
          0.06523773320077197,
          0.05804433007778233,
          0.05596818527399263,
          0.04854085034212527,
          0.0571670857944909,
          0.04570442715948301,
          0.03915433651090707,
          0.04041171998362477,
          0.03280893619509913,
          0.021872624130066087,
          0.01862682028188783,
          0.014123632960991872,
          0.010176033686180478,
          0.00880168430902392,
          0.00909409907012106,
          0.007251886075209077,
          0.00415228960757939,
          0.0023393180887771215,
          0.0004386221416457103,
          0.0002924147610971402,
          5.8482952219428036e-05,
          5.8482952219428036e-05,
          8.772442832914205e-05,
          2.9241476109714018e-05
         ]
        },
        {
         "fill": "tozeroy",
         "marker": {
          "color": "#7DCD85"
         },
         "name": "Bio products",
         "type": "scatter",
         "visible": false,
         "x": [
          -15,
          -11,
          -8,
          -7,
          -6,
          -5,
          -4,
          -3,
          -2,
          -1,
          0,
          1,
          2,
          3,
          4,
          5,
          6,
          7,
          8,
          9,
          10,
          11,
          12,
          13,
          14,
          15,
          16,
          17,
          18,
          19,
          20,
          21,
          22,
          23,
          24,
          25,
          26,
          27,
          28,
          29,
          30,
          37
         ],
         "y": [
          0.0003405994550408719,
          0.0006811989100817438,
          0.0010217983651226157,
          0.0017029972752043597,
          0.006471389645776567,
          0.031335149863760216,
          0.03508174386920981,
          0.022138964577656677,
          0.016689373297002725,
          0.023501362397820164,
          0.02826975476839237,
          0.027588555858310628,
          0.036444141689373294,
          0.036444141689373294,
          0.030994550408719346,
          0.03746594005449591,
          0.0412125340599455,
          0.03337874659400545,
          0.03337874659400545,
          0.03814713896457766,
          0.0388283378746594,
          0.060286103542234334,
          0.0739100817438692,
          0.0497275204359673,
          0.04461852861035422,
          0.024182561307901907,
          0.036444141689373294,
          0.019754768392370572,
          0.023501362397820164,
          0.026226158038147138,
          0.02316076294277929,
          0.01600817438692098,
          0.018732970027247955,
          0.012942779291553134,
          0.01055858310626703,
          0.006130790190735695,
          0.011920980926430519,
          0.01055858310626703,
          0.005108991825613079,
          0.004087193460490463,
          0.0006811989100817438,
          0.0003405994550408719
         ]
        },
        {
         "fill": "tozeroy",
         "marker": {
          "color": "#736372"
         },
         "name": "Regular products",
         "type": "scatter",
         "visible": false,
         "x": [
          -11,
          -10,
          -9,
          -8,
          -7,
          -6,
          -5,
          -4,
          -3,
          -2,
          -1,
          0,
          1,
          2,
          3,
          4,
          5,
          6,
          7,
          8,
          9,
          10,
          11,
          12,
          13,
          14,
          15,
          16,
          17,
          18,
          19,
          20,
          21,
          22,
          23,
          24,
          25,
          26,
          27,
          28,
          29,
          30,
          31,
          34
         ],
         "y": [
          9.515653249595585e-05,
          0.0003806261299838234,
          0.0003806261299838234,
          0.002474069844894852,
          0.0022837567799029405,
          0.0027595394423827195,
          0.003235322104862499,
          0.004948139689789704,
          0.003996574364830145,
          0.006756113807212865,
          0.0078028356646683795,
          0.013892853744409553,
          0.017318488914263963,
          0.02635835950137977,
          0.030735559996193738,
          0.03273384717860881,
          0.02654867256637168,
          0.005519078884765439,
          0.010657531639547056,
          0.01351222761442573,
          0.023503663526501094,
          0.020458654486630506,
          0.03948996098582168,
          0.04167856123322866,
          0.043581691883147776,
          0.05595204110762204,
          0.20468170139880104,
          0.03025977733371396,
          0.032162907983633075,
          0.03330478637358455,
          0.08021695689409078,
          0.06137596345989152,
          0.01512988866685698,
          0.010943001237034922,
          0.014273479874393378,
          0.014178323341897421,
          0.01532020173184889,
          0.016557236654296318,
          0.0187458369017033,
          0.009039870587115806,
          0.005614235417261395,
          0.0007612522599676468,
          0.00028546959748786756,
          9.515653249595585e-05
         ]
        },
        {
         "fill": "tozeroy",
         "marker": {
          "color": "#7DCD85"
         },
         "name": "Bio products",
         "type": "scatter",
         "visible": false,
         "x": [
          -5,
          -4,
          -3,
          -2,
          -1,
          0,
          1,
          2,
          3,
          4,
          5,
          6,
          7,
          8,
          9,
          10,
          11,
          12,
          13,
          14,
          15,
          16,
          17,
          18,
          19,
          20,
          21,
          22,
          23,
          24,
          25,
          26,
          27,
          28,
          29,
          30,
          35
         ],
         "y": [
          0.0017381228273464658,
          0.0017381228273464658,
          0.00869061413673233,
          0.007531865585168019,
          0.013325608342989572,
          0.010428736964078795,
          0.009269988412514484,
          0.011587485515643106,
          0.012746234067207415,
          0.015643105446118192,
          0.014484356894553883,
          0.019698725376593278,
          0.03244495944380069,
          0.04171494785631518,
          0.023754345307068367,
          0.0220162224797219,
          0.05909617612977984,
          0.04519119351100811,
          0.03186558516801854,
          0.04055619930475087,
          0.17786790266512167,
          0.023174971031286212,
          0.027809965237543453,
          0.034183082271147164,
          0.0996523754345307,
          0.13151796060254925,
          0.01100811123986095,
          0.010428736964078795,
          0.00869061413673233,
          0.005214368482039398,
          0.012746234067207415,
          0.01100811123986095,
          0.011587485515643106,
          0.005214368482039398,
          0.005214368482039398,
          0.0005793742757821553,
          0.0005793742757821553
         ]
        },
        {
         "fill": "tozeroy",
         "marker": {
          "color": "#736372"
         },
         "name": "Regular products",
         "type": "scatter",
         "visible": false,
         "x": [
          -11,
          -10,
          -9,
          -8,
          -7,
          -6,
          -5,
          -4,
          -3,
          -2,
          -1,
          0,
          1,
          2,
          3,
          4,
          5,
          6,
          7,
          8,
          9,
          10,
          11,
          12,
          13,
          14,
          15,
          16,
          17,
          18,
          19,
          20,
          21,
          22,
          23,
          24,
          25,
          26,
          27,
          28,
          29,
          30,
          31,
          32,
          33,
          34,
          35,
          36,
          37,
          38
         ],
         "y": [
          2.969561989606533e-05,
          2.969561989606533e-05,
          5.939123979213066e-05,
          0.00014847809948032666,
          0.0002078693392724573,
          0.00044543429844097997,
          0.0014253897550111359,
          0.0016035634743875279,
          0.0012175204157386784,
          0.0017520415738678545,
          0.0030289532293986637,
          0.008463251670378619,
          0.00724573125463994,
          0.010185597624350408,
          0.010601336302895323,
          0.014907201187824796,
          0.019925760950259837,
          0.02212323682256867,
          0.026696362286562733,
          0.028478099480326653,
          0.017461024498886413,
          0.023370452858203414,
          0.045196733481811434,
          0.03890126206384558,
          0.02423162583518931,
          0.041544172234595396,
          0.03646622123236823,
          0.03397178916109874,
          0.0340014847809948,
          0.03765404602821084,
          0.04175204157386785,
          0.037238307349665926,
          0.04252412769116555,
          0.040920564216778026,
          0.04712694877505568,
          0.05377876763177431,
          0.06393466963622865,
          0.09360059391239792,
          0.06034149962880475,
          0.019985152190051966,
          0.002791388270230141,
          0.0016332590942835933,
          0.0007720861172976986,
          0.0006236080178173719,
          0.0004157386785449146,
          0.0005345211581291759,
          0.00017817371937639198,
          0.00026726057906458796,
          0.00017817371937639198,
          2.969561989606533e-05
         ]
        },
        {
         "fill": "tozeroy",
         "marker": {
          "color": "#7DCD85"
         },
         "name": "Bio products",
         "type": "scatter",
         "visible": false,
         "x": [
          -8,
          -6,
          -5,
          -4,
          -3,
          -2,
          -1,
          0,
          1,
          2,
          3,
          4,
          5,
          6,
          7,
          8,
          9,
          10,
          11,
          12,
          13,
          14,
          15,
          16,
          17,
          18,
          19,
          20,
          21,
          22,
          23,
          24,
          25,
          26,
          27,
          28,
          29,
          30,
          31,
          32,
          33,
          34,
          35,
          37
         ],
         "y": [
          0.00023169601482854495,
          0.00023169601482854495,
          0.0023169601482854493,
          0.0018535681186283596,
          0.0027803521779425394,
          0.0020852641334569047,
          0.009267840593141797,
          0.012974976830398516,
          0.007182576459684893,
          0.008109360518999072,
          0.012743280815569972,
          0.015755329008341055,
          0.02293790546802595,
          0.03266913809082484,
          0.04332715477293791,
          0.036376274328081555,
          0.027340129749768304,
          0.04240037071362372,
          0.058619091751621874,
          0.04541241890639481,
          0.020852641334569044,
          0.05074142724745134,
          0.03359592215013902,
          0.03568118628359592,
          0.04796107506950881,
          0.05213160333642261,
          0.04309545875810936,
          0.03938832252085264,
          0.04031510658016682,
          0.04796107506950881,
          0.03985171455050973,
          0.04193697868396663,
          0.03498609823911029,
          0.036839666357738644,
          0.03429101019462465,
          0.008572752548656163,
          0.0020852641334569047,
          0.0013901760889712697,
          0.0004633920296570899,
          0.0006950880444856349,
          0.00023169601482854495,
          0.0009267840593141798,
          0.0004633920296570899,
          0.0009267840593141798
         ]
        }
       ],
       "layout": {
        "annotations": [
         {
          "align": "left",
          "showarrow": false,
          "text": "Category:",
          "x": -11,
          "y": 1.08,
          "yref": "paper"
         }
        ],
        "plot_bgcolor": "rgba(0,0,0,0)",
        "template": {
         "data": {
          "bar": [
           {
            "error_x": {
             "color": "#2a3f5f"
            },
            "error_y": {
             "color": "#2a3f5f"
            },
            "marker": {
             "line": {
              "color": "#E5ECF6",
              "width": 0.5
             }
            },
            "type": "bar"
           }
          ],
          "barpolar": [
           {
            "marker": {
             "line": {
              "color": "#E5ECF6",
              "width": 0.5
             }
            },
            "type": "barpolar"
           }
          ],
          "carpet": [
           {
            "aaxis": {
             "endlinecolor": "#2a3f5f",
             "gridcolor": "white",
             "linecolor": "white",
             "minorgridcolor": "white",
             "startlinecolor": "#2a3f5f"
            },
            "baxis": {
             "endlinecolor": "#2a3f5f",
             "gridcolor": "white",
             "linecolor": "white",
             "minorgridcolor": "white",
             "startlinecolor": "#2a3f5f"
            },
            "type": "carpet"
           }
          ],
          "choropleth": [
           {
            "colorbar": {
             "outlinewidth": 0,
             "ticks": ""
            },
            "type": "choropleth"
           }
          ],
          "contour": [
           {
            "colorbar": {
             "outlinewidth": 0,
             "ticks": ""
            },
            "colorscale": [
             [
              0,
              "#0d0887"
             ],
             [
              0.1111111111111111,
              "#46039f"
             ],
             [
              0.2222222222222222,
              "#7201a8"
             ],
             [
              0.3333333333333333,
              "#9c179e"
             ],
             [
              0.4444444444444444,
              "#bd3786"
             ],
             [
              0.5555555555555556,
              "#d8576b"
             ],
             [
              0.6666666666666666,
              "#ed7953"
             ],
             [
              0.7777777777777778,
              "#fb9f3a"
             ],
             [
              0.8888888888888888,
              "#fdca26"
             ],
             [
              1,
              "#f0f921"
             ]
            ],
            "type": "contour"
           }
          ],
          "contourcarpet": [
           {
            "colorbar": {
             "outlinewidth": 0,
             "ticks": ""
            },
            "type": "contourcarpet"
           }
          ],
          "heatmap": [
           {
            "colorbar": {
             "outlinewidth": 0,
             "ticks": ""
            },
            "colorscale": [
             [
              0,
              "#0d0887"
             ],
             [
              0.1111111111111111,
              "#46039f"
             ],
             [
              0.2222222222222222,
              "#7201a8"
             ],
             [
              0.3333333333333333,
              "#9c179e"
             ],
             [
              0.4444444444444444,
              "#bd3786"
             ],
             [
              0.5555555555555556,
              "#d8576b"
             ],
             [
              0.6666666666666666,
              "#ed7953"
             ],
             [
              0.7777777777777778,
              "#fb9f3a"
             ],
             [
              0.8888888888888888,
              "#fdca26"
             ],
             [
              1,
              "#f0f921"
             ]
            ],
            "type": "heatmap"
           }
          ],
          "heatmapgl": [
           {
            "colorbar": {
             "outlinewidth": 0,
             "ticks": ""
            },
            "colorscale": [
             [
              0,
              "#0d0887"
             ],
             [
              0.1111111111111111,
              "#46039f"
             ],
             [
              0.2222222222222222,
              "#7201a8"
             ],
             [
              0.3333333333333333,
              "#9c179e"
             ],
             [
              0.4444444444444444,
              "#bd3786"
             ],
             [
              0.5555555555555556,
              "#d8576b"
             ],
             [
              0.6666666666666666,
              "#ed7953"
             ],
             [
              0.7777777777777778,
              "#fb9f3a"
             ],
             [
              0.8888888888888888,
              "#fdca26"
             ],
             [
              1,
              "#f0f921"
             ]
            ],
            "type": "heatmapgl"
           }
          ],
          "histogram": [
           {
            "marker": {
             "colorbar": {
              "outlinewidth": 0,
              "ticks": ""
             }
            },
            "type": "histogram"
           }
          ],
          "histogram2d": [
           {
            "colorbar": {
             "outlinewidth": 0,
             "ticks": ""
            },
            "colorscale": [
             [
              0,
              "#0d0887"
             ],
             [
              0.1111111111111111,
              "#46039f"
             ],
             [
              0.2222222222222222,
              "#7201a8"
             ],
             [
              0.3333333333333333,
              "#9c179e"
             ],
             [
              0.4444444444444444,
              "#bd3786"
             ],
             [
              0.5555555555555556,
              "#d8576b"
             ],
             [
              0.6666666666666666,
              "#ed7953"
             ],
             [
              0.7777777777777778,
              "#fb9f3a"
             ],
             [
              0.8888888888888888,
              "#fdca26"
             ],
             [
              1,
              "#f0f921"
             ]
            ],
            "type": "histogram2d"
           }
          ],
          "histogram2dcontour": [
           {
            "colorbar": {
             "outlinewidth": 0,
             "ticks": ""
            },
            "colorscale": [
             [
              0,
              "#0d0887"
             ],
             [
              0.1111111111111111,
              "#46039f"
             ],
             [
              0.2222222222222222,
              "#7201a8"
             ],
             [
              0.3333333333333333,
              "#9c179e"
             ],
             [
              0.4444444444444444,
              "#bd3786"
             ],
             [
              0.5555555555555556,
              "#d8576b"
             ],
             [
              0.6666666666666666,
              "#ed7953"
             ],
             [
              0.7777777777777778,
              "#fb9f3a"
             ],
             [
              0.8888888888888888,
              "#fdca26"
             ],
             [
              1,
              "#f0f921"
             ]
            ],
            "type": "histogram2dcontour"
           }
          ],
          "mesh3d": [
           {
            "colorbar": {
             "outlinewidth": 0,
             "ticks": ""
            },
            "type": "mesh3d"
           }
          ],
          "parcoords": [
           {
            "line": {
             "colorbar": {
              "outlinewidth": 0,
              "ticks": ""
             }
            },
            "type": "parcoords"
           }
          ],
          "pie": [
           {
            "automargin": true,
            "type": "pie"
           }
          ],
          "scatter": [
           {
            "marker": {
             "colorbar": {
              "outlinewidth": 0,
              "ticks": ""
             }
            },
            "type": "scatter"
           }
          ],
          "scatter3d": [
           {
            "line": {
             "colorbar": {
              "outlinewidth": 0,
              "ticks": ""
             }
            },
            "marker": {
             "colorbar": {
              "outlinewidth": 0,
              "ticks": ""
             }
            },
            "type": "scatter3d"
           }
          ],
          "scattercarpet": [
           {
            "marker": {
             "colorbar": {
              "outlinewidth": 0,
              "ticks": ""
             }
            },
            "type": "scattercarpet"
           }
          ],
          "scattergeo": [
           {
            "marker": {
             "colorbar": {
              "outlinewidth": 0,
              "ticks": ""
             }
            },
            "type": "scattergeo"
           }
          ],
          "scattergl": [
           {
            "marker": {
             "colorbar": {
              "outlinewidth": 0,
              "ticks": ""
             }
            },
            "type": "scattergl"
           }
          ],
          "scattermapbox": [
           {
            "marker": {
             "colorbar": {
              "outlinewidth": 0,
              "ticks": ""
             }
            },
            "type": "scattermapbox"
           }
          ],
          "scatterpolar": [
           {
            "marker": {
             "colorbar": {
              "outlinewidth": 0,
              "ticks": ""
             }
            },
            "type": "scatterpolar"
           }
          ],
          "scatterpolargl": [
           {
            "marker": {
             "colorbar": {
              "outlinewidth": 0,
              "ticks": ""
             }
            },
            "type": "scatterpolargl"
           }
          ],
          "scatterternary": [
           {
            "marker": {
             "colorbar": {
              "outlinewidth": 0,
              "ticks": ""
             }
            },
            "type": "scatterternary"
           }
          ],
          "surface": [
           {
            "colorbar": {
             "outlinewidth": 0,
             "ticks": ""
            },
            "colorscale": [
             [
              0,
              "#0d0887"
             ],
             [
              0.1111111111111111,
              "#46039f"
             ],
             [
              0.2222222222222222,
              "#7201a8"
             ],
             [
              0.3333333333333333,
              "#9c179e"
             ],
             [
              0.4444444444444444,
              "#bd3786"
             ],
             [
              0.5555555555555556,
              "#d8576b"
             ],
             [
              0.6666666666666666,
              "#ed7953"
             ],
             [
              0.7777777777777778,
              "#fb9f3a"
             ],
             [
              0.8888888888888888,
              "#fdca26"
             ],
             [
              1,
              "#f0f921"
             ]
            ],
            "type": "surface"
           }
          ],
          "table": [
           {
            "cells": {
             "fill": {
              "color": "#EBF0F8"
             },
             "line": {
              "color": "white"
             }
            },
            "header": {
             "fill": {
              "color": "#C8D4E3"
             },
             "line": {
              "color": "white"
             }
            },
            "type": "table"
           }
          ]
         },
         "layout": {
          "annotationdefaults": {
           "arrowcolor": "#2a3f5f",
           "arrowhead": 0,
           "arrowwidth": 1
          },
          "coloraxis": {
           "colorbar": {
            "outlinewidth": 0,
            "ticks": ""
           }
          },
          "colorscale": {
           "diverging": [
            [
             0,
             "#8e0152"
            ],
            [
             0.1,
             "#c51b7d"
            ],
            [
             0.2,
             "#de77ae"
            ],
            [
             0.3,
             "#f1b6da"
            ],
            [
             0.4,
             "#fde0ef"
            ],
            [
             0.5,
             "#f7f7f7"
            ],
            [
             0.6,
             "#e6f5d0"
            ],
            [
             0.7,
             "#b8e186"
            ],
            [
             0.8,
             "#7fbc41"
            ],
            [
             0.9,
             "#4d9221"
            ],
            [
             1,
             "#276419"
            ]
           ],
           "sequential": [
            [
             0,
             "#0d0887"
            ],
            [
             0.1111111111111111,
             "#46039f"
            ],
            [
             0.2222222222222222,
             "#7201a8"
            ],
            [
             0.3333333333333333,
             "#9c179e"
            ],
            [
             0.4444444444444444,
             "#bd3786"
            ],
            [
             0.5555555555555556,
             "#d8576b"
            ],
            [
             0.6666666666666666,
             "#ed7953"
            ],
            [
             0.7777777777777778,
             "#fb9f3a"
            ],
            [
             0.8888888888888888,
             "#fdca26"
            ],
            [
             1,
             "#f0f921"
            ]
           ],
           "sequentialminus": [
            [
             0,
             "#0d0887"
            ],
            [
             0.1111111111111111,
             "#46039f"
            ],
            [
             0.2222222222222222,
             "#7201a8"
            ],
            [
             0.3333333333333333,
             "#9c179e"
            ],
            [
             0.4444444444444444,
             "#bd3786"
            ],
            [
             0.5555555555555556,
             "#d8576b"
            ],
            [
             0.6666666666666666,
             "#ed7953"
            ],
            [
             0.7777777777777778,
             "#fb9f3a"
            ],
            [
             0.8888888888888888,
             "#fdca26"
            ],
            [
             1,
             "#f0f921"
            ]
           ]
          },
          "colorway": [
           "#636efa",
           "#EF553B",
           "#00cc96",
           "#ab63fa",
           "#FFA15A",
           "#19d3f3",
           "#FF6692",
           "#B6E880",
           "#FF97FF",
           "#FECB52"
          ],
          "font": {
           "color": "#2a3f5f"
          },
          "geo": {
           "bgcolor": "white",
           "lakecolor": "white",
           "landcolor": "#E5ECF6",
           "showlakes": true,
           "showland": true,
           "subunitcolor": "white"
          },
          "hoverlabel": {
           "align": "left"
          },
          "hovermode": "closest",
          "mapbox": {
           "style": "light"
          },
          "paper_bgcolor": "white",
          "plot_bgcolor": "#E5ECF6",
          "polar": {
           "angularaxis": {
            "gridcolor": "white",
            "linecolor": "white",
            "ticks": ""
           },
           "bgcolor": "#E5ECF6",
           "radialaxis": {
            "gridcolor": "white",
            "linecolor": "white",
            "ticks": ""
           }
          },
          "scene": {
           "xaxis": {
            "backgroundcolor": "#E5ECF6",
            "gridcolor": "white",
            "gridwidth": 2,
            "linecolor": "white",
            "showbackground": true,
            "ticks": "",
            "zerolinecolor": "white"
           },
           "yaxis": {
            "backgroundcolor": "#E5ECF6",
            "gridcolor": "white",
            "gridwidth": 2,
            "linecolor": "white",
            "showbackground": true,
            "ticks": "",
            "zerolinecolor": "white"
           },
           "zaxis": {
            "backgroundcolor": "#E5ECF6",
            "gridcolor": "white",
            "gridwidth": 2,
            "linecolor": "white",
            "showbackground": true,
            "ticks": "",
            "zerolinecolor": "white"
           }
          },
          "shapedefaults": {
           "line": {
            "color": "#2a3f5f"
           }
          },
          "ternary": {
           "aaxis": {
            "gridcolor": "white",
            "linecolor": "white",
            "ticks": ""
           },
           "baxis": {
            "gridcolor": "white",
            "linecolor": "white",
            "ticks": ""
           },
           "bgcolor": "#E5ECF6",
           "caxis": {
            "gridcolor": "white",
            "linecolor": "white",
            "ticks": ""
           }
          },
          "title": {
           "x": 0.05
          },
          "xaxis": {
           "automargin": true,
           "gridcolor": "white",
           "linecolor": "white",
           "ticks": "",
           "title": {
            "standoff": 15
           },
           "zerolinecolor": "white",
           "zerolinewidth": 2
          },
          "yaxis": {
           "automargin": true,
           "gridcolor": "white",
           "linecolor": "white",
           "ticks": "",
           "title": {
            "standoff": 15
           },
           "zerolinecolor": "white",
           "zerolinewidth": 2
          }
         }
        },
        "title": {
         "text": "Proportion of products of a given UK nutritional score for bio and non-bio products and different food categories.",
         "x": 0.5,
         "xanchor": "center",
         "y": 0.95,
         "yanchor": "top"
        },
        "updatemenus": [
         {
          "buttons": [
           {
            "args": [
             {
              "visible": [
               true,
               true,
               false,
               false,
               false,
               false,
               false,
               false,
               false,
               false,
               false,
               false,
               false,
               false,
               false,
               false
              ]
             }
            ],
            "label": "meat, fish, egg",
            "method": "update"
           },
           {
            "args": [
             {
              "visible": [
               false,
               false,
               true,
               true,
               false,
               false,
               false,
               false,
               false,
               false,
               false,
               false,
               false,
               false,
               false,
               false
              ]
             }
            ],
            "label": "fruit, vegetable",
            "method": "update"
           },
           {
            "args": [
             {
              "visible": [
               false,
               false,
               false,
               false,
               true,
               true,
               false,
               false,
               false,
               false,
               false,
               false,
               false,
               false,
               false,
               false
              ]
             }
            ],
            "label": "cereal",
            "method": "update"
           },
           {
            "args": [
             {
              "visible": [
               false,
               false,
               false,
               false,
               false,
               false,
               true,
               true,
               false,
               false,
               false,
               false,
               false,
               false,
               false,
               false
              ]
             }
            ],
            "label": "drink",
            "method": "update"
           },
           {
            "args": [
             {
              "visible": [
               false,
               false,
               false,
               false,
               false,
               false,
               false,
               false,
               true,
               true,
               false,
               false,
               false,
               false,
               false,
               false
              ]
             }
            ],
            "label": "dairy",
            "method": "update"
           },
           {
            "args": [
             {
              "visible": [
               false,
               false,
               false,
               false,
               false,
               false,
               false,
               false,
               false,
               false,
               true,
               true,
               false,
               false,
               false,
               false
              ]
             }
            ],
            "label": "cooking ingredient",
            "method": "update"
           },
           {
            "args": [
             {
              "visible": [
               false,
               false,
               false,
               false,
               false,
               false,
               false,
               false,
               false,
               false,
               false,
               false,
               true,
               true,
               false,
               false
              ]
             }
            ],
            "label": "fat",
            "method": "update"
           },
           {
            "args": [
             {
              "visible": [
               false,
               false,
               false,
               false,
               false,
               false,
               false,
               false,
               false,
               false,
               false,
               false,
               false,
               false,
               true,
               true
              ]
             }
            ],
            "label": "sugary product",
            "method": "update"
           }
          ],
          "direction": "down",
          "showactive": true,
          "x": 0.1,
          "xanchor": "left",
          "y": 1.1,
          "yanchor": "top"
         }
        ],
        "xaxis": {
         "tickfont": {
          "size": 14
         },
         "title": {
          "font": {
           "size": 16
          },
          "text": "UK nutritional score"
         }
        },
        "yaxis": {
         "gridcolor": "black",
         "tickfont": {
          "size": 14
         },
         "title": {
          "font": {
           "size": 16
          },
          "text": "Propotions"
         }
        }
       }
      },
      "text/html": [
       "<div>\n",
       "        \n",
       "        \n",
       "            <div id=\"a114cad9-3594-4825-8188-52b321157167\" class=\"plotly-graph-div\" style=\"height:525px; width:100%;\"></div>\n",
       "            <script type=\"text/javascript\">\n",
       "                require([\"plotly\"], function(Plotly) {\n",
       "                    window.PLOTLYENV=window.PLOTLYENV || {};\n",
       "                    \n",
       "                if (document.getElementById(\"a114cad9-3594-4825-8188-52b321157167\")) {\n",
       "                    Plotly.newPlot(\n",
       "                        'a114cad9-3594-4825-8188-52b321157167',\n",
       "                        [{\"fill\": \"tozeroy\", \"marker\": {\"color\": \"#736372\"}, \"name\": \"Regular products\", \"type\": \"scatter\", \"visible\": true, \"x\": [-12.0, -11.0, -10.0, -9.0, -8.0, -7.0, -6.0, -5.0, -4.0, -3.0, -2.0, -1.0, 0.0, 1.0, 2.0, 3.0, 4.0, 5.0, 6.0, 7.0, 8.0, 9.0, 10.0, 11.0, 12.0, 13.0, 14.0, 15.0, 16.0, 17.0, 18.0, 19.0, 20.0, 21.0, 22.0, 23.0, 24.0, 25.0, 26.0, 27.0, 28.0, 29.0, 30.0, 31.0, 36.0], \"y\": [2.892723354402002e-05, 2.892723354402002e-05, 0.00011570893417608008, 0.0003037359522122102, 0.0007087172218284905, 0.0010124531740407007, 0.001967051880993361, 0.0056986650081719435, 0.027466408250047005, 0.019974254762145822, 0.024501366811784955, 0.04220483374072521, 0.060212036621877664, 0.0634374231620359, 0.07305572831542255, 0.08232690666628097, 0.06745830862465468, 0.05273434675074849, 0.011946947453680268, 0.006870217966704754, 0.004281230564514963, 0.005018875019887473, 0.007289662853093045, 0.04732495407801675, 0.037504158289821954, 0.03592762406167286, 0.03219601093449428, 0.026352709758602235, 0.026410564225690276, 0.024834029997541186, 0.025672919770317767, 0.028724742909211877, 0.037677721691086075, 0.04334745946571399, 0.0198006913608817, 0.011643211501468057, 0.01573641504794689, 0.01650298673686342, 0.008374434110993796, 0.0025166693183297415, 0.0005640810541083903, 8.678170063206005e-05, 0.0001301725509480901, 1.446361677201001e-05, 1.446361677201001e-05]}, {\"fill\": \"tozeroy\", \"marker\": {\"color\": \"#7DCD85\"}, \"name\": \"Bio products\", \"type\": \"scatter\", \"visible\": true, \"x\": [-13.0, -11.0, -10.0, -9.0, -8.0, -7.0, -6.0, -5.0, -4.0, -3.0, -2.0, -1.0, 0.0, 1.0, 2.0, 3.0, 4.0, 5.0, 6.0, 7.0, 8.0, 9.0, 10.0, 11.0, 12.0, 13.0, 14.0, 15.0, 16.0, 17.0, 18.0, 19.0, 20.0, 21.0, 22.0, 23.0, 24.0, 25.0, 26.0, 27.0, 28.0, 30.0, 32.0], \"y\": [0.000397456279809221, 0.0001987281399046105, 0.000397456279809221, 0.0001987281399046105, 0.0023847376788553257, 0.0029809220985691576, 0.009737678855325914, 0.014904610492845787, 0.03457869634340222, 0.03994435612082671, 0.0417329093799682, 0.07492050874403816, 0.0737281399046105, 0.08187599364069953, 0.07849761526232114, 0.07690779014308426, 0.07889507154213037, 0.04451510333863275, 0.014705882352941176, 0.015302066772655007, 0.00814785373608903, 0.006955484896661367, 0.008744038155802861, 0.04014308426073132, 0.031597774244833066, 0.031399046104928455, 0.038751987281399045, 0.014109697933227345, 0.014308426073131956, 0.01212241653418124, 0.013314785373608903, 0.01629570747217806, 0.017686804451510333, 0.015103338632750398, 0.013712241653418123, 0.005564387917329093, 0.010930047694753578, 0.010333863275039745, 0.001987281399046105, 0.0013910969793322733, 0.0001987281399046105, 0.0001987281399046105, 0.0001987281399046105]}, {\"fill\": \"tozeroy\", \"marker\": {\"color\": \"#736372\"}, \"name\": \"Regular products\", \"type\": \"scatter\", \"visible\": false, \"x\": [-15.0, -14.0, -13.0, -12.0, -11.0, -10.0, -9.0, -8.0, -7.0, -6.0, -5.0, -4.0, -3.0, -2.0, -1.0, 0.0, 1.0, 2.0, 3.0, 4.0, 5.0, 6.0, 7.0, 8.0, 9.0, 10.0, 11.0, 12.0, 13.0, 14.0, 15.0, 16.0, 17.0, 18.0, 19.0, 20.0, 21.0, 22.0, 23.0, 24.0, 25.0, 26.0, 27.0, 28.0, 29.0, 30.0, 31.0, 32.0, 33.0, 35.0, 36.0, 37.0], \"y\": [4.878660737932284e-05, 0.00020211594485719463, 0.0005087746198129382, 0.0017423788349758159, 0.0020769155712911723, 0.005561673241242804, 0.006725582303006649, 0.013269957207175814, 0.01672683681576783, 0.03491727185291535, 0.041663762701941706, 0.06120628371503046, 0.07950126148227653, 0.04427733095440543, 0.052111066196456696, 0.06320653461758269, 0.05027808366206214, 0.05227833456461438, 0.03500787555233409, 0.02469299284927726, 0.021054905841847757, 0.022316388118370247, 0.02565478596618391, 0.027606250261356824, 0.023285150750616802, 0.023020309167700478, 0.04062530491629612, 0.03808143181723143, 0.02954377552584993, 0.022009729443414505, 0.029118635090115832, 0.014496591906998786, 0.015214451987008824, 0.013005115624259489, 0.012510280035126357, 0.016643202631688992, 0.00841220501526324, 0.007129814192721038, 0.005715002578720676, 0.0051016852288091885, 0.0050738071674495755, 0.0050877461981293825, 0.002488116976345465, 0.00038332334369467946, 7.66646687389359e-05, 0.00012545127611825874, 9.757321475864568e-05, 4.181709203941958e-05, 2.7878061359613052e-05, 2.090854601970979e-05, 1.3939030679806526e-05, 1.3939030679806526e-05]}, {\"fill\": \"tozeroy\", \"marker\": {\"color\": \"#7DCD85\"}, \"name\": \"Bio products\", \"type\": \"scatter\", \"visible\": false, \"x\": [-15.0, -14.0, -13.0, -12.0, -11.0, -10.0, -9.0, -8.0, -7.0, -6.0, -5.0, -4.0, -3.0, -2.0, -1.0, 0.0, 1.0, 2.0, 3.0, 4.0, 5.0, 6.0, 7.0, 8.0, 9.0, 10.0, 11.0, 12.0, 13.0, 14.0, 15.0, 16.0, 17.0, 18.0, 19.0, 20.0, 21.0, 22.0, 23.0, 24.0, 25.0, 26.0, 27.0, 28.0, 29.0, 30.0, 35.0], \"y\": [0.0002763957987838585, 0.00010364842454394693, 0.0007255389718076285, 0.0010710337202874515, 0.0028676064123825317, 0.004007739082365948, 0.004975124378109453, 0.008430071862907684, 0.016998341625207296, 0.06118711995577667, 0.0568338861249309, 0.06996268656716417, 0.08530265339966832, 0.053620784964068545, 0.06723327805417358, 0.07680348258706468, 0.05534825870646766, 0.04304864566058596, 0.029297954671088998, 0.022837202874516307, 0.019969596462133775, 0.023977335544499722, 0.02808872305140962, 0.026672194582642344, 0.019935046987285793, 0.027017689331122165, 0.03796987285793256, 0.0326147042564953, 0.018000276395798785, 0.013819789939192924, 0.02093698175787728, 0.010986733001658375, 0.009742951907131012, 0.008119126589275842, 0.008015478164731896, 0.019071310116086235, 0.0029712548369264786, 0.003351299060254284, 0.002211166390270868, 0.0014856274184632393, 0.0010364842454394694, 0.0016929242675511333, 0.0009328358208955224, 0.00017274737423991155, 3.454947484798231e-05, 0.00020729684908789387, 3.454947484798231e-05]}, {\"fill\": \"tozeroy\", \"marker\": {\"color\": \"#736372\"}, \"name\": \"Regular products\", \"type\": \"scatter\", \"visible\": false, \"x\": [-11.0, -10.0, -9.0, -8.0, -7.0, -6.0, -5.0, -4.0, -3.0, -2.0, -1.0, 0.0, 1.0, 2.0, 3.0, 4.0, 5.0, 6.0, 7.0, 8.0, 9.0, 10.0, 11.0, 12.0, 13.0, 14.0, 15.0, 16.0, 17.0, 18.0, 19.0, 20.0, 21.0, 22.0, 23.0, 24.0, 25.0, 26.0, 27.0, 28.0, 29.0, 30.0, 31.0, 32.0, 33.0, 34.0, 35.0, 36.0, 37.0, 40.0], \"y\": [4.357393407263775e-05, 4.357393407263775e-05, 0.00010893483518159437, 0.00047931327479901523, 0.0009804135166343493, 0.00814832567158326, 0.007560077561602649, 0.03156931523562605, 0.019956861805268088, 0.0212422928604109, 0.052157999084947386, 0.04705984879844877, 0.037800387808013244, 0.036928909126560494, 0.04076341532495261, 0.030676049587136975, 0.02300703719035273, 0.01278894965031918, 0.010501318111505698, 0.011568879496285323, 0.01180853613368483, 0.013398984727336107, 0.03071962352120961, 0.03159110220266237, 0.030479966883810106, 0.04048018475348047, 0.03695069609359681, 0.03481557332403756, 0.034074816444802716, 0.033399420466676835, 0.03945619730277348, 0.03851935772021177, 0.03743000936839583, 0.03967406697313667, 0.03926011459944661, 0.03736464846728687, 0.036449595851761475, 0.02322490686071592, 0.010348809342251465, 0.003987014967646354, 0.001220070154033857, 0.0008061177803437983, 0.0005664611429442907, 0.00013072180221791326, 0.000174295736290551, 0.00010893483518159437, 4.357393407263775e-05, 6.536090110895663e-05, 2.1786967036318875e-05, 4.357393407263775e-05]}, {\"fill\": \"tozeroy\", \"marker\": {\"color\": \"#7DCD85\"}, \"name\": \"Bio products\", \"type\": \"scatter\", \"visible\": false, \"x\": [-11.0, -7.0, -6.0, -5.0, -4.0, -3.0, -2.0, -1.0, 0.0, 1.0, 2.0, 3.0, 4.0, 5.0, 6.0, 7.0, 8.0, 9.0, 10.0, 11.0, 12.0, 13.0, 14.0, 15.0, 16.0, 17.0, 18.0, 19.0, 20.0, 21.0, 22.0, 23.0, 24.0, 25.0, 26.0, 27.0, 28.0, 29.0, 32.0, 35.0], \"y\": [0.0001596169193934557, 0.0012769353551476455, 0.05570630486831604, 0.027932960893854747, 0.052673583399840386, 0.035115722266560255, 0.03719074221867518, 0.07916999201915403, 0.06384676775738228, 0.04644852354349561, 0.027613727055067837, 0.026815642458100558, 0.021707901037509976, 0.01707901037509976, 0.011652035115722267, 0.013567438148443736, 0.012290502793296089, 0.012769353551476457, 0.017557861133280128, 0.02601755786113328, 0.02346368715083799, 0.025059856344772546, 0.028411811652035115, 0.03335993615323224, 0.034956105347166797, 0.034477254588986435, 0.040383080606544296, 0.03878691141260974, 0.030007980845969673, 0.029529130087789304, 0.025059856344772546, 0.019952114924181964, 0.017398244213886672, 0.017877094972067038, 0.007980845969672785, 0.004469273743016759, 0.0011173184357541898, 0.0007980845969672786, 0.0001596169193934557, 0.0001596169193934557]}, {\"fill\": \"tozeroy\", \"marker\": {\"color\": \"#736372\"}, \"name\": \"Regular products\", \"type\": \"scatter\", \"visible\": false, \"x\": [-10.0, -9.0, -8.0, -7.0, -6.0, -5.0, -4.0, -3.0, -2.0, -1.0, 0.0, 1.0, 2.0, 3.0, 4.0, 5.0, 6.0, 7.0, 8.0, 9.0, 10.0, 11.0, 12.0, 13.0, 14.0, 15.0, 16.0, 17.0, 18.0, 19.0, 20.0, 21.0, 22.0, 23.0, 24.0, 25.0, 26.0, 27.0, 28.0, 29.0, 30.0, 31.0, 33.0, 35.0], \"y\": [0.0002650020611271421, 0.0004122254284199988, 0.0004711147753371415, 0.0006183381426299983, 0.0014133443260114244, 0.021789058359342795, 0.07051999293327837, 0.14669336317060244, 0.020758494788292798, 0.011188975914257111, 0.26877097932983923, 0.16865908957069667, 0.1725163417937695, 0.022849066603851362, 0.009746186914787115, 0.0058006006713385546, 0.004122254284199988, 0.0025911312643542785, 0.0019139037748071373, 0.001707791060597138, 0.005977268712089983, 0.003415582121194276, 0.004298922324951417, 0.008862846711029975, 0.011777869383428537, 0.0021494611624757083, 0.0026205759378128495, 0.0016783463871385667, 0.002561686590895707, 0.005182262528708557, 0.004799481773747129, 0.0036216948354042752, 0.0028561333254814203, 0.0026205759378128495, 0.0014133443260114244, 0.0019433484482657087, 0.0005300041222542842, 0.0005300041222542842, 8.833402037571403e-05, 0.00011777869383428538, 5.888934691714269e-05, 2.9444673458571344e-05, 2.9444673458571344e-05, 2.9444673458571344e-05]}, {\"fill\": \"tozeroy\", \"marker\": {\"color\": \"#7DCD85\"}, \"name\": \"Bio products\", \"type\": \"scatter\", \"visible\": false, \"x\": [-10.0, -8.0, -7.0, -6.0, -5.0, -4.0, -3.0, -2.0, -1.0, 0.0, 1.0, 2.0, 3.0, 4.0, 5.0, 6.0, 7.0, 8.0, 9.0, 10.0, 11.0, 12.0, 13.0, 14.0, 15.0, 16.0, 17.0, 19.0, 20.0, 22.0, 24.0, 25.0, 26.0, 27.0], \"y\": [0.00041017227235438887, 0.0006152584085315833, 0.0016406890894175555, 0.009023789991796555, 0.039171452009844135, 0.11423297785069729, 0.23646431501230517, 0.05127153404429861, 0.02030352748154225, 0.17124692370795735, 0.15730106644790812, 0.1279737489745693, 0.02645611156685808, 0.006562756357670222, 0.003486464315012305, 0.002255947497949139, 0.002255947497949139, 0.0018457752255947497, 0.0018457752255947497, 0.002050861361771944, 0.002255947497949139, 0.0026661197703035273, 0.004511894995898278, 0.0061525840853158325, 0.0018457752255947497, 0.0016406890894175555, 0.001025430680885972, 0.0012305168170631665, 0.0008203445447087777, 0.0006152584085315833, 0.00020508613617719443, 0.00020508613617719443, 0.00020508613617719443, 0.00020508613617719443]}, {\"fill\": \"tozeroy\", \"marker\": {\"color\": \"#736372\"}, \"name\": \"Regular products\", \"type\": \"scatter\", \"visible\": false, \"x\": [-9.0, -8.0, -7.0, -6.0, -5.0, -4.0, -3.0, -2.0, -1.0, 0.0, 1.0, 2.0, 3.0, 4.0, 5.0, 6.0, 7.0, 8.0, 9.0, 10.0, 11.0, 12.0, 13.0, 14.0, 15.0, 16.0, 17.0, 18.0, 19.0, 20.0, 21.0, 22.0, 23.0, 24.0, 25.0, 26.0, 27.0, 28.0, 29.0, 30.0, 31.0, 32.0, 33.0, 34.0, 35.0, 37.0, 40.0], \"y\": [0.00013162657540557437, 0.00014807989733127118, 6.581328770278719e-05, 0.00042778637006811676, 0.009954259765046563, 0.007798874592780282, 0.00878607390832209, 0.019283293296916647, 0.032906643851393594, 0.048636019612359735, 0.04399618282931324, 0.045657968343808614, 0.04202178419822962, 0.029385632959294482, 0.020928625489486326, 0.013919510349139491, 0.009378393497647176, 0.0064003422290960545, 0.004541116851492316, 0.0035374642140248115, 0.01566356247326335, 0.023182730593306788, 0.026193688505709304, 0.029073019842706244, 0.028398433643752673, 0.03874757313501596, 0.034782322550923034, 0.0776267728454375, 0.08228306295040969, 0.07114416400671296, 0.0694001118825891, 0.049277699167461914, 0.03098160518608707, 0.030652538747573135, 0.011286978841028004, 0.01597617558985159, 0.011122445621771036, 0.004261410378755471, 0.0012175458225015632, 0.00041133304814241996, 0.00018098654118266477, 1.6453321925696797e-05, 4.9359965777090394e-05, 4.9359965777090394e-05, 4.9359965777090394e-05, 4.9359965777090394e-05, 1.6453321925696797e-05]}, {\"fill\": \"tozeroy\", \"marker\": {\"color\": \"#7DCD85\"}, \"name\": \"Bio products\", \"type\": \"scatter\", \"visible\": false, \"x\": [-6.0, -5.0, -4.0, -3.0, -2.0, -1.0, 0.0, 1.0, 2.0, 3.0, 4.0, 5.0, 6.0, 7.0, 8.0, 9.0, 10.0, 11.0, 12.0, 13.0, 14.0, 15.0, 16.0, 17.0, 18.0, 19.0, 20.0, 21.0, 22.0, 23.0, 24.0, 25.0, 26.0, 27.0, 28.0, 29.0, 30.0, 32.0, 33.0, 34.0, 37.0], \"y\": [0.0005885815185403178, 0.012507357268981754, 0.0042672160094173045, 0.006032960565038258, 0.036933490288404945, 0.044437904649794, 0.09711595055915244, 0.10682754561506769, 0.07577987051206592, 0.05091230135373749, 0.03899352560329605, 0.025456150676868745, 0.018393172454384932, 0.008092995879929371, 0.0033843437316068274, 0.003972925250147146, 0.0038257798705120657, 0.009858740435550324, 0.01898175397292525, 0.02972336668628605, 0.017216009417304296, 0.02707474985285462, 0.027957622130665098, 0.028987639788110652, 0.06812831077104178, 0.05782813419658623, 0.03443201883460859, 0.030459093584461448, 0.028251912889935255, 0.02442613301942319, 0.0214832254267216, 0.0073572689817539725, 0.012213066509711596, 0.011771630370806356, 0.0030900529723366685, 0.0020600353148911123, 0.00044143613890523835, 0.0002942907592701589, 0.00014714537963507945, 0.00014714537963507945, 0.00014714537963507945]}, {\"fill\": \"tozeroy\", \"marker\": {\"color\": \"#736372\"}, \"name\": \"Regular products\", \"type\": \"scatter\", \"visible\": false, \"x\": [-14.0, -12.0, -11.0, -10.0, -9.0, -8.0, -7.0, -6.0, -5.0, -4.0, -3.0, -2.0, -1.0, 0.0, 1.0, 2.0, 3.0, 4.0, 5.0, 6.0, 7.0, 8.0, 9.0, 10.0, 11.0, 12.0, 13.0, 14.0, 15.0, 16.0, 17.0, 18.0, 19.0, 20.0, 21.0, 22.0, 23.0, 24.0, 25.0, 26.0, 27.0, 28.0, 29.0, 30.0, 31.0, 32.0, 33.0, 34.0, 37.0], \"y\": [8.772442832914205e-05, 8.772442832914205e-05, 0.0004971050938651383, 0.0021053862798994095, 0.00038013918942628226, 0.0006433124744137085, 0.001345107901046845, 0.0037136674659336804, 0.00836306216737821, 0.009942101877302767, 0.014299081817650154, 0.012281419966079888, 0.010322241066729049, 0.020264342944031816, 0.021053862798994093, 0.031288379437394, 0.032984385051757416, 0.03143458681794257, 0.030703549915199718, 0.027106848353704895, 0.0266974676881689, 0.027867126732557458, 0.03500204690332768, 0.03620094742382596, 0.07488742031697761, 0.06523773320077197, 0.05804433007778233, 0.05596818527399263, 0.04854085034212527, 0.0571670857944909, 0.04570442715948301, 0.03915433651090707, 0.04041171998362477, 0.03280893619509913, 0.021872624130066087, 0.01862682028188783, 0.014123632960991872, 0.010176033686180478, 0.00880168430902392, 0.00909409907012106, 0.007251886075209077, 0.00415228960757939, 0.0023393180887771215, 0.0004386221416457103, 0.0002924147610971402, 5.8482952219428036e-05, 5.8482952219428036e-05, 8.772442832914205e-05, 2.9241476109714018e-05]}, {\"fill\": \"tozeroy\", \"marker\": {\"color\": \"#7DCD85\"}, \"name\": \"Bio products\", \"type\": \"scatter\", \"visible\": false, \"x\": [-15.0, -11.0, -8.0, -7.0, -6.0, -5.0, -4.0, -3.0, -2.0, -1.0, 0.0, 1.0, 2.0, 3.0, 4.0, 5.0, 6.0, 7.0, 8.0, 9.0, 10.0, 11.0, 12.0, 13.0, 14.0, 15.0, 16.0, 17.0, 18.0, 19.0, 20.0, 21.0, 22.0, 23.0, 24.0, 25.0, 26.0, 27.0, 28.0, 29.0, 30.0, 37.0], \"y\": [0.0003405994550408719, 0.0006811989100817438, 0.0010217983651226157, 0.0017029972752043597, 0.006471389645776567, 0.031335149863760216, 0.03508174386920981, 0.022138964577656677, 0.016689373297002725, 0.023501362397820164, 0.02826975476839237, 0.027588555858310628, 0.036444141689373294, 0.036444141689373294, 0.030994550408719346, 0.03746594005449591, 0.0412125340599455, 0.03337874659400545, 0.03337874659400545, 0.03814713896457766, 0.0388283378746594, 0.060286103542234334, 0.0739100817438692, 0.0497275204359673, 0.04461852861035422, 0.024182561307901907, 0.036444141689373294, 0.019754768392370572, 0.023501362397820164, 0.026226158038147138, 0.02316076294277929, 0.01600817438692098, 0.018732970027247955, 0.012942779291553134, 0.01055858310626703, 0.006130790190735695, 0.011920980926430519, 0.01055858310626703, 0.005108991825613079, 0.004087193460490463, 0.0006811989100817438, 0.0003405994550408719]}, {\"fill\": \"tozeroy\", \"marker\": {\"color\": \"#736372\"}, \"name\": \"Regular products\", \"type\": \"scatter\", \"visible\": false, \"x\": [-11.0, -10.0, -9.0, -8.0, -7.0, -6.0, -5.0, -4.0, -3.0, -2.0, -1.0, 0.0, 1.0, 2.0, 3.0, 4.0, 5.0, 6.0, 7.0, 8.0, 9.0, 10.0, 11.0, 12.0, 13.0, 14.0, 15.0, 16.0, 17.0, 18.0, 19.0, 20.0, 21.0, 22.0, 23.0, 24.0, 25.0, 26.0, 27.0, 28.0, 29.0, 30.0, 31.0, 34.0], \"y\": [9.515653249595585e-05, 0.0003806261299838234, 0.0003806261299838234, 0.002474069844894852, 0.0022837567799029405, 0.0027595394423827195, 0.003235322104862499, 0.004948139689789704, 0.003996574364830145, 0.006756113807212865, 0.0078028356646683795, 0.013892853744409553, 0.017318488914263963, 0.02635835950137977, 0.030735559996193738, 0.03273384717860881, 0.02654867256637168, 0.005519078884765439, 0.010657531639547056, 0.01351222761442573, 0.023503663526501094, 0.020458654486630506, 0.03948996098582168, 0.04167856123322866, 0.043581691883147776, 0.05595204110762204, 0.20468170139880104, 0.03025977733371396, 0.032162907983633075, 0.03330478637358455, 0.08021695689409078, 0.06137596345989152, 0.01512988866685698, 0.010943001237034922, 0.014273479874393378, 0.014178323341897421, 0.01532020173184889, 0.016557236654296318, 0.0187458369017033, 0.009039870587115806, 0.005614235417261395, 0.0007612522599676468, 0.00028546959748786756, 9.515653249595585e-05]}, {\"fill\": \"tozeroy\", \"marker\": {\"color\": \"#7DCD85\"}, \"name\": \"Bio products\", \"type\": \"scatter\", \"visible\": false, \"x\": [-5.0, -4.0, -3.0, -2.0, -1.0, 0.0, 1.0, 2.0, 3.0, 4.0, 5.0, 6.0, 7.0, 8.0, 9.0, 10.0, 11.0, 12.0, 13.0, 14.0, 15.0, 16.0, 17.0, 18.0, 19.0, 20.0, 21.0, 22.0, 23.0, 24.0, 25.0, 26.0, 27.0, 28.0, 29.0, 30.0, 35.0], \"y\": [0.0017381228273464658, 0.0017381228273464658, 0.00869061413673233, 0.007531865585168019, 0.013325608342989572, 0.010428736964078795, 0.009269988412514484, 0.011587485515643106, 0.012746234067207415, 0.015643105446118192, 0.014484356894553883, 0.019698725376593278, 0.03244495944380069, 0.04171494785631518, 0.023754345307068367, 0.0220162224797219, 0.05909617612977984, 0.04519119351100811, 0.03186558516801854, 0.04055619930475087, 0.17786790266512167, 0.023174971031286212, 0.027809965237543453, 0.034183082271147164, 0.0996523754345307, 0.13151796060254925, 0.01100811123986095, 0.010428736964078795, 0.00869061413673233, 0.005214368482039398, 0.012746234067207415, 0.01100811123986095, 0.011587485515643106, 0.005214368482039398, 0.005214368482039398, 0.0005793742757821553, 0.0005793742757821553]}, {\"fill\": \"tozeroy\", \"marker\": {\"color\": \"#736372\"}, \"name\": \"Regular products\", \"type\": \"scatter\", \"visible\": false, \"x\": [-11.0, -10.0, -9.0, -8.0, -7.0, -6.0, -5.0, -4.0, -3.0, -2.0, -1.0, 0.0, 1.0, 2.0, 3.0, 4.0, 5.0, 6.0, 7.0, 8.0, 9.0, 10.0, 11.0, 12.0, 13.0, 14.0, 15.0, 16.0, 17.0, 18.0, 19.0, 20.0, 21.0, 22.0, 23.0, 24.0, 25.0, 26.0, 27.0, 28.0, 29.0, 30.0, 31.0, 32.0, 33.0, 34.0, 35.0, 36.0, 37.0, 38.0], \"y\": [2.969561989606533e-05, 2.969561989606533e-05, 5.939123979213066e-05, 0.00014847809948032666, 0.0002078693392724573, 0.00044543429844097997, 0.0014253897550111359, 0.0016035634743875279, 0.0012175204157386784, 0.0017520415738678545, 0.0030289532293986637, 0.008463251670378619, 0.00724573125463994, 0.010185597624350408, 0.010601336302895323, 0.014907201187824796, 0.019925760950259837, 0.02212323682256867, 0.026696362286562733, 0.028478099480326653, 0.017461024498886413, 0.023370452858203414, 0.045196733481811434, 0.03890126206384558, 0.02423162583518931, 0.041544172234595396, 0.03646622123236823, 0.03397178916109874, 0.0340014847809948, 0.03765404602821084, 0.04175204157386785, 0.037238307349665926, 0.04252412769116555, 0.040920564216778026, 0.04712694877505568, 0.05377876763177431, 0.06393466963622865, 0.09360059391239792, 0.06034149962880475, 0.019985152190051966, 0.002791388270230141, 0.0016332590942835933, 0.0007720861172976986, 0.0006236080178173719, 0.0004157386785449146, 0.0005345211581291759, 0.00017817371937639198, 0.00026726057906458796, 0.00017817371937639198, 2.969561989606533e-05]}, {\"fill\": \"tozeroy\", \"marker\": {\"color\": \"#7DCD85\"}, \"name\": \"Bio products\", \"type\": \"scatter\", \"visible\": false, \"x\": [-8.0, -6.0, -5.0, -4.0, -3.0, -2.0, -1.0, 0.0, 1.0, 2.0, 3.0, 4.0, 5.0, 6.0, 7.0, 8.0, 9.0, 10.0, 11.0, 12.0, 13.0, 14.0, 15.0, 16.0, 17.0, 18.0, 19.0, 20.0, 21.0, 22.0, 23.0, 24.0, 25.0, 26.0, 27.0, 28.0, 29.0, 30.0, 31.0, 32.0, 33.0, 34.0, 35.0, 37.0], \"y\": [0.00023169601482854495, 0.00023169601482854495, 0.0023169601482854493, 0.0018535681186283596, 0.0027803521779425394, 0.0020852641334569047, 0.009267840593141797, 0.012974976830398516, 0.007182576459684893, 0.008109360518999072, 0.012743280815569972, 0.015755329008341055, 0.02293790546802595, 0.03266913809082484, 0.04332715477293791, 0.036376274328081555, 0.027340129749768304, 0.04240037071362372, 0.058619091751621874, 0.04541241890639481, 0.020852641334569044, 0.05074142724745134, 0.03359592215013902, 0.03568118628359592, 0.04796107506950881, 0.05213160333642261, 0.04309545875810936, 0.03938832252085264, 0.04031510658016682, 0.04796107506950881, 0.03985171455050973, 0.04193697868396663, 0.03498609823911029, 0.036839666357738644, 0.03429101019462465, 0.008572752548656163, 0.0020852641334569047, 0.0013901760889712697, 0.0004633920296570899, 0.0006950880444856349, 0.00023169601482854495, 0.0009267840593141798, 0.0004633920296570899, 0.0009267840593141798]}],\n",
       "                        {\"annotations\": [{\"align\": \"left\", \"showarrow\": false, \"text\": \"Category:\", \"x\": -11.0, \"y\": 1.08, \"yref\": \"paper\"}], \"plot_bgcolor\": \"rgba(0,0,0,0)\", \"template\": {\"data\": {\"bar\": [{\"error_x\": {\"color\": \"#2a3f5f\"}, \"error_y\": {\"color\": \"#2a3f5f\"}, \"marker\": {\"line\": {\"color\": \"#E5ECF6\", \"width\": 0.5}}, \"type\": \"bar\"}], \"barpolar\": [{\"marker\": {\"line\": {\"color\": \"#E5ECF6\", \"width\": 0.5}}, \"type\": \"barpolar\"}], \"carpet\": [{\"aaxis\": {\"endlinecolor\": \"#2a3f5f\", \"gridcolor\": \"white\", \"linecolor\": \"white\", \"minorgridcolor\": \"white\", \"startlinecolor\": \"#2a3f5f\"}, \"baxis\": {\"endlinecolor\": \"#2a3f5f\", \"gridcolor\": \"white\", \"linecolor\": \"white\", \"minorgridcolor\": \"white\", \"startlinecolor\": \"#2a3f5f\"}, \"type\": \"carpet\"}], \"choropleth\": [{\"colorbar\": {\"outlinewidth\": 0, \"ticks\": \"\"}, \"type\": \"choropleth\"}], \"contour\": [{\"colorbar\": {\"outlinewidth\": 0, \"ticks\": \"\"}, \"colorscale\": [[0.0, \"#0d0887\"], [0.1111111111111111, \"#46039f\"], [0.2222222222222222, \"#7201a8\"], [0.3333333333333333, \"#9c179e\"], [0.4444444444444444, \"#bd3786\"], [0.5555555555555556, \"#d8576b\"], [0.6666666666666666, \"#ed7953\"], [0.7777777777777778, \"#fb9f3a\"], [0.8888888888888888, \"#fdca26\"], [1.0, \"#f0f921\"]], \"type\": \"contour\"}], \"contourcarpet\": [{\"colorbar\": {\"outlinewidth\": 0, \"ticks\": \"\"}, \"type\": \"contourcarpet\"}], \"heatmap\": [{\"colorbar\": {\"outlinewidth\": 0, \"ticks\": \"\"}, \"colorscale\": [[0.0, \"#0d0887\"], [0.1111111111111111, \"#46039f\"], [0.2222222222222222, \"#7201a8\"], [0.3333333333333333, \"#9c179e\"], [0.4444444444444444, \"#bd3786\"], [0.5555555555555556, \"#d8576b\"], [0.6666666666666666, \"#ed7953\"], [0.7777777777777778, \"#fb9f3a\"], [0.8888888888888888, \"#fdca26\"], [1.0, \"#f0f921\"]], \"type\": \"heatmap\"}], \"heatmapgl\": [{\"colorbar\": {\"outlinewidth\": 0, \"ticks\": \"\"}, \"colorscale\": [[0.0, \"#0d0887\"], [0.1111111111111111, \"#46039f\"], [0.2222222222222222, \"#7201a8\"], [0.3333333333333333, \"#9c179e\"], [0.4444444444444444, \"#bd3786\"], [0.5555555555555556, \"#d8576b\"], [0.6666666666666666, \"#ed7953\"], [0.7777777777777778, \"#fb9f3a\"], [0.8888888888888888, \"#fdca26\"], [1.0, \"#f0f921\"]], \"type\": \"heatmapgl\"}], \"histogram\": [{\"marker\": {\"colorbar\": {\"outlinewidth\": 0, \"ticks\": \"\"}}, \"type\": \"histogram\"}], \"histogram2d\": [{\"colorbar\": {\"outlinewidth\": 0, \"ticks\": \"\"}, \"colorscale\": [[0.0, \"#0d0887\"], [0.1111111111111111, \"#46039f\"], [0.2222222222222222, \"#7201a8\"], [0.3333333333333333, \"#9c179e\"], [0.4444444444444444, \"#bd3786\"], [0.5555555555555556, \"#d8576b\"], [0.6666666666666666, \"#ed7953\"], [0.7777777777777778, \"#fb9f3a\"], [0.8888888888888888, \"#fdca26\"], [1.0, \"#f0f921\"]], \"type\": \"histogram2d\"}], \"histogram2dcontour\": [{\"colorbar\": {\"outlinewidth\": 0, \"ticks\": \"\"}, \"colorscale\": [[0.0, \"#0d0887\"], [0.1111111111111111, \"#46039f\"], [0.2222222222222222, \"#7201a8\"], [0.3333333333333333, \"#9c179e\"], [0.4444444444444444, \"#bd3786\"], [0.5555555555555556, \"#d8576b\"], [0.6666666666666666, \"#ed7953\"], [0.7777777777777778, \"#fb9f3a\"], [0.8888888888888888, \"#fdca26\"], [1.0, \"#f0f921\"]], \"type\": \"histogram2dcontour\"}], \"mesh3d\": [{\"colorbar\": {\"outlinewidth\": 0, \"ticks\": \"\"}, \"type\": \"mesh3d\"}], \"parcoords\": [{\"line\": {\"colorbar\": {\"outlinewidth\": 0, \"ticks\": \"\"}}, \"type\": \"parcoords\"}], \"pie\": [{\"automargin\": true, \"type\": \"pie\"}], \"scatter\": [{\"marker\": {\"colorbar\": {\"outlinewidth\": 0, \"ticks\": \"\"}}, \"type\": \"scatter\"}], \"scatter3d\": [{\"line\": {\"colorbar\": {\"outlinewidth\": 0, \"ticks\": \"\"}}, \"marker\": {\"colorbar\": {\"outlinewidth\": 0, \"ticks\": \"\"}}, \"type\": \"scatter3d\"}], \"scattercarpet\": [{\"marker\": {\"colorbar\": {\"outlinewidth\": 0, \"ticks\": \"\"}}, \"type\": \"scattercarpet\"}], \"scattergeo\": [{\"marker\": {\"colorbar\": {\"outlinewidth\": 0, \"ticks\": \"\"}}, \"type\": \"scattergeo\"}], \"scattergl\": [{\"marker\": {\"colorbar\": {\"outlinewidth\": 0, \"ticks\": \"\"}}, \"type\": \"scattergl\"}], \"scattermapbox\": [{\"marker\": {\"colorbar\": {\"outlinewidth\": 0, \"ticks\": \"\"}}, \"type\": \"scattermapbox\"}], \"scatterpolar\": [{\"marker\": {\"colorbar\": {\"outlinewidth\": 0, \"ticks\": \"\"}}, \"type\": \"scatterpolar\"}], \"scatterpolargl\": [{\"marker\": {\"colorbar\": {\"outlinewidth\": 0, \"ticks\": \"\"}}, \"type\": \"scatterpolargl\"}], \"scatterternary\": [{\"marker\": {\"colorbar\": {\"outlinewidth\": 0, \"ticks\": \"\"}}, \"type\": \"scatterternary\"}], \"surface\": [{\"colorbar\": {\"outlinewidth\": 0, \"ticks\": \"\"}, \"colorscale\": [[0.0, \"#0d0887\"], [0.1111111111111111, \"#46039f\"], [0.2222222222222222, \"#7201a8\"], [0.3333333333333333, \"#9c179e\"], [0.4444444444444444, \"#bd3786\"], [0.5555555555555556, \"#d8576b\"], [0.6666666666666666, \"#ed7953\"], [0.7777777777777778, \"#fb9f3a\"], [0.8888888888888888, \"#fdca26\"], [1.0, \"#f0f921\"]], \"type\": \"surface\"}], \"table\": [{\"cells\": {\"fill\": {\"color\": \"#EBF0F8\"}, \"line\": {\"color\": \"white\"}}, \"header\": {\"fill\": {\"color\": \"#C8D4E3\"}, \"line\": {\"color\": \"white\"}}, \"type\": \"table\"}]}, \"layout\": {\"annotationdefaults\": {\"arrowcolor\": \"#2a3f5f\", \"arrowhead\": 0, \"arrowwidth\": 1}, \"coloraxis\": {\"colorbar\": {\"outlinewidth\": 0, \"ticks\": \"\"}}, \"colorscale\": {\"diverging\": [[0, \"#8e0152\"], [0.1, \"#c51b7d\"], [0.2, \"#de77ae\"], [0.3, \"#f1b6da\"], [0.4, \"#fde0ef\"], [0.5, \"#f7f7f7\"], [0.6, \"#e6f5d0\"], [0.7, \"#b8e186\"], [0.8, \"#7fbc41\"], [0.9, \"#4d9221\"], [1, \"#276419\"]], \"sequential\": [[0.0, \"#0d0887\"], [0.1111111111111111, \"#46039f\"], [0.2222222222222222, \"#7201a8\"], [0.3333333333333333, \"#9c179e\"], [0.4444444444444444, \"#bd3786\"], [0.5555555555555556, \"#d8576b\"], [0.6666666666666666, \"#ed7953\"], [0.7777777777777778, \"#fb9f3a\"], [0.8888888888888888, \"#fdca26\"], [1.0, \"#f0f921\"]], \"sequentialminus\": [[0.0, \"#0d0887\"], [0.1111111111111111, \"#46039f\"], [0.2222222222222222, \"#7201a8\"], [0.3333333333333333, \"#9c179e\"], [0.4444444444444444, \"#bd3786\"], [0.5555555555555556, \"#d8576b\"], [0.6666666666666666, \"#ed7953\"], [0.7777777777777778, \"#fb9f3a\"], [0.8888888888888888, \"#fdca26\"], [1.0, \"#f0f921\"]]}, \"colorway\": [\"#636efa\", \"#EF553B\", \"#00cc96\", \"#ab63fa\", \"#FFA15A\", \"#19d3f3\", \"#FF6692\", \"#B6E880\", \"#FF97FF\", \"#FECB52\"], \"font\": {\"color\": \"#2a3f5f\"}, \"geo\": {\"bgcolor\": \"white\", \"lakecolor\": \"white\", \"landcolor\": \"#E5ECF6\", \"showlakes\": true, \"showland\": true, \"subunitcolor\": \"white\"}, \"hoverlabel\": {\"align\": \"left\"}, \"hovermode\": \"closest\", \"mapbox\": {\"style\": \"light\"}, \"paper_bgcolor\": \"white\", \"plot_bgcolor\": \"#E5ECF6\", \"polar\": {\"angularaxis\": {\"gridcolor\": \"white\", \"linecolor\": \"white\", \"ticks\": \"\"}, \"bgcolor\": \"#E5ECF6\", \"radialaxis\": {\"gridcolor\": \"white\", \"linecolor\": \"white\", \"ticks\": \"\"}}, \"scene\": {\"xaxis\": {\"backgroundcolor\": \"#E5ECF6\", \"gridcolor\": \"white\", \"gridwidth\": 2, \"linecolor\": \"white\", \"showbackground\": true, \"ticks\": \"\", \"zerolinecolor\": \"white\"}, \"yaxis\": {\"backgroundcolor\": \"#E5ECF6\", \"gridcolor\": \"white\", \"gridwidth\": 2, \"linecolor\": \"white\", \"showbackground\": true, \"ticks\": \"\", \"zerolinecolor\": \"white\"}, \"zaxis\": {\"backgroundcolor\": \"#E5ECF6\", \"gridcolor\": \"white\", \"gridwidth\": 2, \"linecolor\": \"white\", \"showbackground\": true, \"ticks\": \"\", \"zerolinecolor\": \"white\"}}, \"shapedefaults\": {\"line\": {\"color\": \"#2a3f5f\"}}, \"ternary\": {\"aaxis\": {\"gridcolor\": \"white\", \"linecolor\": \"white\", \"ticks\": \"\"}, \"baxis\": {\"gridcolor\": \"white\", \"linecolor\": \"white\", \"ticks\": \"\"}, \"bgcolor\": \"#E5ECF6\", \"caxis\": {\"gridcolor\": \"white\", \"linecolor\": \"white\", \"ticks\": \"\"}}, \"title\": {\"x\": 0.05}, \"xaxis\": {\"automargin\": true, \"gridcolor\": \"white\", \"linecolor\": \"white\", \"ticks\": \"\", \"title\": {\"standoff\": 15}, \"zerolinecolor\": \"white\", \"zerolinewidth\": 2}, \"yaxis\": {\"automargin\": true, \"gridcolor\": \"white\", \"linecolor\": \"white\", \"ticks\": \"\", \"title\": {\"standoff\": 15}, \"zerolinecolor\": \"white\", \"zerolinewidth\": 2}}}, \"title\": {\"text\": \"Proportion of products of a given UK nutritional score for bio and non-bio products and different food categories.\", \"x\": 0.5, \"xanchor\": \"center\", \"y\": 0.95, \"yanchor\": \"top\"}, \"updatemenus\": [{\"buttons\": [{\"args\": [{\"visible\": [true, true, false, false, false, false, false, false, false, false, false, false, false, false, false, false]}], \"label\": \"meat, fish, egg\", \"method\": \"update\"}, {\"args\": [{\"visible\": [false, false, true, true, false, false, false, false, false, false, false, false, false, false, false, false]}], \"label\": \"fruit, vegetable\", \"method\": \"update\"}, {\"args\": [{\"visible\": [false, false, false, false, true, true, false, false, false, false, false, false, false, false, false, false]}], \"label\": \"cereal\", \"method\": \"update\"}, {\"args\": [{\"visible\": [false, false, false, false, false, false, true, true, false, false, false, false, false, false, false, false]}], \"label\": \"drink\", \"method\": \"update\"}, {\"args\": [{\"visible\": [false, false, false, false, false, false, false, false, true, true, false, false, false, false, false, false]}], \"label\": \"dairy\", \"method\": \"update\"}, {\"args\": [{\"visible\": [false, false, false, false, false, false, false, false, false, false, true, true, false, false, false, false]}], \"label\": \"cooking ingredient\", \"method\": \"update\"}, {\"args\": [{\"visible\": [false, false, false, false, false, false, false, false, false, false, false, false, true, true, false, false]}], \"label\": \"fat\", \"method\": \"update\"}, {\"args\": [{\"visible\": [false, false, false, false, false, false, false, false, false, false, false, false, false, false, true, true]}], \"label\": \"sugary product\", \"method\": \"update\"}], \"direction\": \"down\", \"showactive\": true, \"x\": 0.1, \"xanchor\": \"left\", \"y\": 1.1, \"yanchor\": \"top\"}], \"xaxis\": {\"tickfont\": {\"size\": 14}, \"title\": {\"font\": {\"size\": 16}, \"text\": \"UK nutritional score\"}}, \"yaxis\": {\"gridcolor\": \"black\", \"tickfont\": {\"size\": 14}, \"title\": {\"font\": {\"size\": 16}, \"text\": \"Propotions\"}}},\n",
       "                        {\"responsive\": true}\n",
       "                    ).then(function(){\n",
       "                            \n",
       "var gd = document.getElementById('a114cad9-3594-4825-8188-52b321157167');\n",
       "var x = new MutationObserver(function (mutations, observer) {{\n",
       "        var display = window.getComputedStyle(gd).display;\n",
       "        if (!display || display === 'none') {{\n",
       "            console.log([gd, 'removed!']);\n",
       "            Plotly.purge(gd);\n",
       "            observer.disconnect();\n",
       "        }}\n",
       "}});\n",
       "\n",
       "// Listen for the removal of the full notebook cells\n",
       "var notebookContainer = gd.closest('#notebook-container');\n",
       "if (notebookContainer) {{\n",
       "    x.observe(notebookContainer, {childList: true});\n",
       "}}\n",
       "\n",
       "// Listen for the clearing of the current output cell\n",
       "var outputEl = gd.closest('.output');\n",
       "if (outputEl) {{\n",
       "    x.observe(outputEl, {childList: true});\n",
       "}}\n",
       "\n",
       "                        })\n",
       "                };\n",
       "                });\n",
       "            </script>\n",
       "        </div>"
      ]
     },
     "metadata": {},
     "output_type": "display_data"
    }
   ],
   "source": [
    "updatemenus = [\n",
    "    {\n",
    "        'buttons': list(),\n",
    "        'direction': 'down',\n",
    "        'showactive': True,\n",
    "        'x':0.1,\n",
    "        'xanchor':\"left\",\n",
    "        'y':1.1,\n",
    "        'yanchor':\"top\"\n",
    "    }\n",
    "]\n",
    "fig = go.Figure()\n",
    "n_cat = len(list(categories.keys()))\n",
    "\n",
    "vect_parent = []\n",
    "\n",
    "for cat in categories.keys():\n",
    "    fig = compute_sub_element(fig, scores_df, cat, 'scatter')\n",
    "    vect = np.full(n_cat*2, False, dtype=bool)\n",
    "    vect_parent = construct_bool_visibility(vect, cat, list(categories.keys()))\n",
    "    updatemenus[0]['buttons'].append({'method': 'update',\n",
    "                                      'label': cat,\n",
    "                                      'args' : [\n",
    "                                          {'visible': vect_parent}\n",
    "                                      ]})\n",
    "    \n",
    "\n",
    "fig.update_layout(updatemenus=updatemenus,\n",
    "                  title=dict(text='Proportion of products of a given UK nutritional score for bio and non-bio products and different food categories.',\n",
    "                             xanchor= 'center',\n",
    "                             yanchor= 'top',\n",
    "                             x = 0.5,\n",
    "                             y = 0.95),\n",
    "                  yaxis=dict(\n",
    "                            title='Propotions',\n",
    "                            titlefont_size=16,\n",
    "                            tickfont_size=14,\n",
    "                            gridcolor = 'black',\n",
    "                            ),\n",
    "                  xaxis=dict(\n",
    "                            title='UK nutritional score',\n",
    "                            titlefont_size=16,\n",
    "                            tickfont_size=14\n",
    "                            ),\n",
    "                  plot_bgcolor='rgba(0,0,0,0)',\n",
    "                  annotations = [go.layout.Annotation(text=\"Category:\", showarrow=False,\n",
    "                                     x=-11.0, y=1.08, yref=\"paper\", align=\"left\")]\n",
    "                 )\n",
    "fig.update_yaxes()\n",
    "fig.show()\n",
    "fig.write_json('UKnutriscore.json')"
   ]
  },
  {
   "cell_type": "code",
   "execution_count": 561,
   "metadata": {},
   "outputs": [],
   "source": [
    "def extract_additive_type(x):\n",
    "    \"\"\" The category of an additive is defined by the first digit after the\n",
    "    letter 'E'. See https://en.wikipedia.org/wiki/E_number for the full list.\n",
    "    \"\"\"\n",
    "    try:\n",
    "        x = int(str(x)[1]) if len(str(x))>0 else -1\n",
    "        return x\n",
    "    except:\n",
    "        return -1\n",
    "\n",
    "# Map additive indices to names of category\n",
    "additive_names = {1 : 'Colorants', \\\n",
    "                  2 : 'Preservatives', \\\n",
    "                  3 : 'Antioxidants', \\\n",
    "                  4 : 'Thickeners', \\\n",
    "                  5 : 'Anti-caking agents', \\\n",
    "                  6 : 'Flavour enhancers', \\\n",
    "                  7 : 'Antibiotics', \\\n",
    "                  9 : 'Glazing agents'}\n",
    "\n",
    "def compute_category_additives_summary(cat='all products', subcat=None):\n",
    "    \n",
    "    # Get the correct data collection\n",
    "    if cat == 'all products':\n",
    "        df = food_facts_df\n",
    "    elif subcat is None and cat in parent_categories_df_dict:\n",
    "        df = parent_categories_df_dict[cat]\n",
    "    elif subcat and cat in parent_categories_df_dict and subcat in sub_categories_df_dict[cat]:\n",
    "        df = sub_categories_df_dict[cat][subcat]\n",
    "    else:\n",
    "        print('Unknown category')\n",
    "        return\n",
    "    \n",
    "    # Don't drop the NaN rows\n",
    "    df = df[['product_name', 'additives_en', 'bio']].fillna('') \n",
    "    \n",
    "    # Explode the additives into separate rows\n",
    "    df['additives_en'] = df['additives_en'].apply(lambda x: list(x.split(\",\")))\n",
    "    df = df.explode('additives_en')\n",
    "    \n",
    "    # Only keep the code of the additive (e.g. E115), discard the name\n",
    "    df['additives_en'] = df['additives_en'].apply(lambda x : x.split(' ')[0])\n",
    "    \n",
    "    # Replace additives with their categories\n",
    "    df['additives_en'] = df['additives_en'].apply(extract_additive_type).map(additive_names)\n",
    "    \n",
    "    # Split bio and regular products\n",
    "    bio_df = df[df['bio'] == True]\n",
    "    regular_df = df[df['bio'] == False]\n",
    "    \n",
    "    nb_bio = bio_df.shape[0]\n",
    "    nb_regular = regular_df.shape[0]\n",
    "    \n",
    "    # Get the proportion of product containing the additives for bio products\n",
    "    summary_bio_df = bio_df[['product_name', 'additives_en']] \\\n",
    "                               .groupby('additives_en') \\\n",
    "                               .count() \\\n",
    "                               .sort_values('product_name', ascending=False) \\\n",
    "                               .reset_index() \\\n",
    "                               .rename(columns={'additives_en' : 'additive', \"product_name\" : \"count\"})\n",
    "    \n",
    "    summary_bio_df['count'] = summary_bio_df['count'].apply(lambda x : x/nb_bio)\n",
    "    summary_bio_df = summary_bio_df.rename(columns={'count': 'proportion'})\n",
    "    summary_bio_df['type'] = 'bio'\n",
    "    \n",
    "    # Get the proportion of product containing the additives for regular products\n",
    "    summary_regular_df = regular_df[['product_name', 'additives_en']] \\\n",
    "                               .groupby('additives_en') \\\n",
    "                               .count() \\\n",
    "                               .sort_values('product_name', ascending=False) \\\n",
    "                               .reset_index() \\\n",
    "                               .rename(columns={'additives_en' : 'additive', \"product_name\" : \"count\"})\n",
    "    \n",
    "    summary_regular_df['count'] = summary_regular_df['count'].apply(lambda x : x/nb_regular)\n",
    "    summary_regular_df = summary_regular_df.rename(columns={'count': 'proportion'})\n",
    "    summary_regular_df['type'] = 'regular'\n",
    "    \n",
    "\n",
    "    summary_df = pd.concat([summary_bio_df, summary_regular_df])\n",
    "    summary_df.reset_index(level=0, drop = True, inplace=True)\n",
    "    summary_df.rename(columns={'index': 'score'}, inplace=True)\n",
    "    \n",
    "    # Add single category for filtering latter in the plots\n",
    "    if cat == 'all products':\n",
    "        summary_df['category'] = 'all products'\n",
    "    elif subcat is None and cat in parent_categories_df_dict:\n",
    "        summary_df['category'] = cat\n",
    "    elif subcat and cat in parent_categories_df_dict and subcat in sub_categories_df_dict[cat]:\n",
    "        summary_df['category'] = subcat\n",
    "\n",
    "    return summary_df\n",
    "\n",
    "def compute_all_categories_additives_summary():\n",
    "    \n",
    "    summary_df = compute_category_additives_summary(cat='all products', subcat=None)\n",
    "    \n",
    "    for category in sub_categories_df_dict:\n",
    "        \n",
    "        summary_df = pd.concat([summary_df, compute_category_additives_summary(cat=category, subcat=None)])\n",
    "    \n",
    "        for subcategory in sub_categories_df_dict[category]:\n",
    "            \n",
    "            summary_df = pd.concat([summary_df, \n",
    "                                    compute_category_additives_summary(cat=category, subcat=subcategory)])\n",
    "                                   \n",
    "    summary_df.reset_index(level=0, drop = True, inplace=True)\n",
    "    \n",
    "    return summary_df"
   ]
  },
  {
   "cell_type": "code",
   "execution_count": 562,
   "metadata": {},
   "outputs": [
    {
     "data": {
      "text/html": [
       "<div>\n",
       "<style scoped>\n",
       "    .dataframe tbody tr th:only-of-type {\n",
       "        vertical-align: middle;\n",
       "    }\n",
       "\n",
       "    .dataframe tbody tr th {\n",
       "        vertical-align: top;\n",
       "    }\n",
       "\n",
       "    .dataframe thead th {\n",
       "        text-align: right;\n",
       "    }\n",
       "</style>\n",
       "<table border=\"1\" class=\"dataframe\">\n",
       "  <thead>\n",
       "    <tr style=\"text-align: right;\">\n",
       "      <th></th>\n",
       "      <th>additive</th>\n",
       "      <th>proportion</th>\n",
       "      <th>type</th>\n",
       "      <th>category</th>\n",
       "    </tr>\n",
       "  </thead>\n",
       "  <tbody>\n",
       "    <tr>\n",
       "      <td>0</td>\n",
       "      <td>Antioxidants</td>\n",
       "      <td>0.085372</td>\n",
       "      <td>bio</td>\n",
       "      <td>all products</td>\n",
       "    </tr>\n",
       "    <tr>\n",
       "      <td>1</td>\n",
       "      <td>Thickeners</td>\n",
       "      <td>0.078436</td>\n",
       "      <td>bio</td>\n",
       "      <td>all products</td>\n",
       "    </tr>\n",
       "    <tr>\n",
       "      <td>2</td>\n",
       "      <td>Anti-caking agents</td>\n",
       "      <td>0.041775</td>\n",
       "      <td>bio</td>\n",
       "      <td>all products</td>\n",
       "    </tr>\n",
       "    <tr>\n",
       "      <td>3</td>\n",
       "      <td>Preservatives</td>\n",
       "      <td>0.014893</td>\n",
       "      <td>bio</td>\n",
       "      <td>all products</td>\n",
       "    </tr>\n",
       "    <tr>\n",
       "      <td>4</td>\n",
       "      <td>Colorants</td>\n",
       "      <td>0.007811</td>\n",
       "      <td>bio</td>\n",
       "      <td>all products</td>\n",
       "    </tr>\n",
       "    <tr>\n",
       "      <td>...</td>\n",
       "      <td>...</td>\n",
       "      <td>...</td>\n",
       "      <td>...</td>\n",
       "      <td>...</td>\n",
       "    </tr>\n",
       "    <tr>\n",
       "      <td>518</td>\n",
       "      <td>Antioxidants</td>\n",
       "      <td>0.152134</td>\n",
       "      <td>regular</td>\n",
       "      <td>ice cream</td>\n",
       "    </tr>\n",
       "    <tr>\n",
       "      <td>519</td>\n",
       "      <td>Colorants</td>\n",
       "      <td>0.136899</td>\n",
       "      <td>regular</td>\n",
       "      <td>ice cream</td>\n",
       "    </tr>\n",
       "    <tr>\n",
       "      <td>520</td>\n",
       "      <td>Anti-caking agents</td>\n",
       "      <td>0.029173</td>\n",
       "      <td>regular</td>\n",
       "      <td>ice cream</td>\n",
       "    </tr>\n",
       "    <tr>\n",
       "      <td>521</td>\n",
       "      <td>Preservatives</td>\n",
       "      <td>0.014965</td>\n",
       "      <td>regular</td>\n",
       "      <td>ice cream</td>\n",
       "    </tr>\n",
       "    <tr>\n",
       "      <td>522</td>\n",
       "      <td>Glazing agents</td>\n",
       "      <td>0.013560</td>\n",
       "      <td>regular</td>\n",
       "      <td>ice cream</td>\n",
       "    </tr>\n",
       "  </tbody>\n",
       "</table>\n",
       "<p>523 rows × 4 columns</p>\n",
       "</div>"
      ],
      "text/plain": [
       "               additive  proportion     type      category\n",
       "0          Antioxidants    0.085372      bio  all products\n",
       "1            Thickeners    0.078436      bio  all products\n",
       "2    Anti-caking agents    0.041775      bio  all products\n",
       "3         Preservatives    0.014893      bio  all products\n",
       "4             Colorants    0.007811      bio  all products\n",
       "..                  ...         ...      ...           ...\n",
       "518        Antioxidants    0.152134  regular     ice cream\n",
       "519           Colorants    0.136899  regular     ice cream\n",
       "520  Anti-caking agents    0.029173  regular     ice cream\n",
       "521       Preservatives    0.014965  regular     ice cream\n",
       "522      Glazing agents    0.013560  regular     ice cream\n",
       "\n",
       "[523 rows x 4 columns]"
      ]
     },
     "execution_count": 562,
     "metadata": {},
     "output_type": "execute_result"
    }
   ],
   "source": [
    "additive_summary_df = compute_all_categories_additives_summary()\n",
    "additive_summary_df"
   ]
  },
  {
   "cell_type": "code",
   "execution_count": 611,
   "metadata": {},
   "outputs": [
    {
     "data": {
      "application/vnd.plotly.v1+json": {
       "config": {
        "plotlyServerURL": "https://plot.ly"
       },
       "data": [
        {
         "fill": "toself",
         "marker": {
          "color": "#736372"
         },
         "name": "Regular products",
         "r": [
          0.024139182886983718,
          0.17110223686782652,
          0.10484515066044849,
          0.017548660951157532,
          0.002094445530453238,
          0.16625987880141863,
          0.17640816554497474,
          0.024139182886983718
         ],
         "theta": [
          "Anti-caking agents",
          "Antioxidants",
          "Colorants",
          "Flavour enhancers",
          "Glazing agents",
          "Preservatives",
          "Thickeners",
          "Anti-caking agents"
         ],
         "type": "scatterpolar",
         "visible": true
        },
        {
         "fill": "toself",
         "marker": {
          "color": "#7DCD85"
         },
         "name": "Bio products",
         "r": [
          0.01794349707304658,
          0.10346144057011962,
          0.007253754135912446,
          0.00025451768897938407,
          0.00025451768897938407,
          0.0638839399338254,
          0.09328073301094426,
          0.01794349707304658
         ],
         "theta": [
          "Anti-caking agents",
          "Antioxidants",
          "Colorants",
          "Flavour enhancers",
          "Glazing agents",
          "Preservatives",
          "Thickeners",
          "Anti-caking agents"
         ],
         "type": "scatterpolar",
         "visible": true
        },
        {
         "fill": "toself",
         "marker": {
          "color": "#736372"
         },
         "name": "Regular products",
         "r": [
          0.016990820633104645,
          1.91316525538843e-06,
          0.15008972745047772,
          0.05340026860840186,
          0.008081210038760727,
          0.014199512525492928,
          0.04361442832709004,
          0.14105576111453355,
          0.016990820633104645
         ],
         "theta": [
          "Anti-caking agents",
          "Antibiotics",
          "Antioxidants",
          "Colorants",
          "Flavour enhancers",
          "Glazing agents",
          "Preservatives",
          "Thickeners",
          "Anti-caking agents"
         ],
         "type": "scatterpolar",
         "visible": false
        },
        {
         "fill": "toself",
         "marker": {
          "color": "#7DCD85"
         },
         "name": "Bio products",
         "r": [
          0.0062961532610094914,
          0.07357605121183396,
          0.0018490561621552037,
          2.3405774204496248e-05,
          0.00026916640335170684,
          0.0033119170499362194,
          0.1279359618017765,
          0.0062961532610094914
         ],
         "theta": [
          "Anti-caking agents",
          "Antioxidants",
          "Colorants",
          "Flavour enhancers",
          "Glazing agents",
          "Preservatives",
          "Thickeners",
          "Anti-caking agents"
         ],
         "type": "scatterpolar",
         "visible": false
        },
        {
         "fill": "toself",
         "marker": {
          "color": "#736372"
         },
         "name": "Regular products",
         "r": [
          0.16592286201516634,
          0.1948623054315881,
          0.09117956532781829,
          0.005536809259460832,
          0.006639817132905192,
          0.06369144806066543,
          0.25015057508798666,
          0.16592286201516634
         ],
         "theta": [
          "Anti-caking agents",
          "Antioxidants",
          "Colorants",
          "Flavour enhancers",
          "Glazing agents",
          "Preservatives",
          "Thickeners",
          "Anti-caking agents"
         ],
         "type": "scatterpolar",
         "visible": false
        },
        {
         "fill": "toself",
         "marker": {
          "color": "#7DCD85"
         },
         "name": "Bio products",
         "r": [
          0.27936241610738255,
          0.1912751677852349,
          0.007466442953020134,
          0.0006711409395973154,
          0.005788590604026846,
          0.0839765100671141,
          0.27936241610738255
         ],
         "theta": [
          "Anti-caking agents",
          "Antioxidants",
          "Colorants",
          "Glazing agents",
          "Preservatives",
          "Thickeners",
          "Anti-caking agents"
         ],
         "type": "scatterpolar",
         "visible": false
        },
        {
         "fill": "toself",
         "marker": {
          "color": "#736372"
         },
         "name": "Regular products",
         "r": [
          0.008446248433116458,
          1.4922700411866532e-05,
          0.21630454247000538,
          0.09119262221691637,
          0.000955052826359458,
          0.08188831851011759,
          0.08623828568017669,
          0.06327971109652003,
          0.008446248433116458
         ],
         "theta": [
          "Anti-caking agents",
          "Antibiotics",
          "Antioxidants",
          "Colorants",
          "Flavour enhancers",
          "Glazing agents",
          "Preservatives",
          "Thickeners",
          "Anti-caking agents"
         ],
         "type": "scatterpolar",
         "visible": false
        },
        {
         "fill": "toself",
         "marker": {
          "color": "#7DCD85"
         },
         "name": "Bio products",
         "r": [
          0.009108341323106424,
          0.08513902205177373,
          0.007957813998082455,
          0.0003835091083413231,
          0.002109300095877277,
          0.03547459252157239,
          0.019079578139980825,
          0.009108341323106424
         ],
         "theta": [
          "Anti-caking agents",
          "Antioxidants",
          "Colorants",
          "Flavour enhancers",
          "Glazing agents",
          "Preservatives",
          "Thickeners",
          "Anti-caking agents"
         ],
         "type": "scatterpolar",
         "visible": false
        },
        {
         "fill": "toself",
         "marker": {
          "color": "#736372"
         },
         "name": "Regular products",
         "r": [
          0.015272400830387702,
          1.68321831341525e-05,
          0.11099702631431296,
          0.109639230208158,
          0.0016271110363014084,
          0.013948269090501038,
          0.06195365538910397,
          0.22018178757784884,
          0.015272400830387702
         ],
         "theta": [
          "Anti-caking agents",
          "Antibiotics",
          "Antioxidants",
          "Colorants",
          "Flavour enhancers",
          "Glazing agents",
          "Preservatives",
          "Thickeners",
          "Anti-caking agents"
         ],
         "type": "scatterpolar",
         "visible": false
        },
        {
         "fill": "toself",
         "marker": {
          "color": "#7DCD85"
         },
         "name": "Bio products",
         "r": [
          0.012570807790796928,
          0.06161247769069605,
          0.010320478001086366,
          0.00038798789477768295,
          0.0007759757895553659,
          0.01932179715992861,
          0.14852176612089704,
          0.012570807790796928
         ],
         "theta": [
          "Anti-caking agents",
          "Antioxidants",
          "Colorants",
          "Flavour enhancers",
          "Glazing agents",
          "Preservatives",
          "Thickeners",
          "Anti-caking agents"
         ],
         "type": "scatterpolar",
         "visible": false
        },
        {
         "fill": "toself",
         "marker": {
          "color": "#736372"
         },
         "name": "Regular products",
         "r": [
          0.03721413511686792,
          0.15190307579013204,
          0.1139525265058661,
          0.030122365806171756,
          0.006294827951457192,
          0.11775565172653815,
          0.10882789093000031,
          0.03721413511686792
         ],
         "theta": [
          "Anti-caking agents",
          "Antioxidants",
          "Colorants",
          "Flavour enhancers",
          "Glazing agents",
          "Preservatives",
          "Thickeners",
          "Anti-caking agents"
         ],
         "type": "scatterpolar",
         "visible": false
        },
        {
         "fill": "toself",
         "marker": {
          "color": "#7DCD85"
         },
         "name": "Bio products",
         "r": [
          0.016941789748045177,
          0.06718795250506805,
          0.00593686649290472,
          0.0008688097306689834,
          0.016507384882710686,
          0.046770923834346945,
          0.016941789748045177
         ],
         "theta": [
          "Anti-caking agents",
          "Antioxidants",
          "Colorants",
          "Glazing agents",
          "Preservatives",
          "Thickeners",
          "Anti-caking agents"
         ],
         "type": "scatterpolar",
         "visible": false
        },
        {
         "fill": "toself",
         "marker": {
          "color": "#736372"
         },
         "name": "Regular products",
         "r": [
          0.03816954871362294,
          0.07101433994095319,
          0.03737874314635175,
          0.005272037115141291,
          0.004744833403627162,
          0.026729228173766342,
          0.07565373260227752,
          0.03816954871362294
         ],
         "theta": [
          "Anti-caking agents",
          "Antioxidants",
          "Colorants",
          "Flavour enhancers",
          "Glazing agents",
          "Preservatives",
          "Thickeners",
          "Anti-caking agents"
         ],
         "type": "scatterpolar",
         "visible": false
        },
        {
         "fill": "toself",
         "marker": {
          "color": "#7DCD85"
         },
         "name": "Bio products",
         "r": [
          0.06802721088435375,
          0.042606516290726815,
          0.0017901897601145722,
          0.0014321518080916578,
          0.005728607232366631,
          0.06802721088435375
         ],
         "theta": [
          "Anti-caking agents",
          "Antioxidants",
          "Colorants",
          "Preservatives",
          "Thickeners",
          "Anti-caking agents"
         ],
         "type": "scatterpolar",
         "visible": false
        },
        {
         "fill": "toself",
         "marker": {
          "color": "#736372"
         },
         "name": "Regular products",
         "r": [
          0.07997960240885839,
          0.3088778087159231,
          0.1029511752897753,
          0.0005018454963413844,
          0.037225603833452046,
          0.02650067991970472,
          0.295368451725701,
          0.07997960240885839
         ],
         "theta": [
          "Anti-caking agents",
          "Antioxidants",
          "Colorants",
          "Flavour enhancers",
          "Glazing agents",
          "Preservatives",
          "Thickeners",
          "Anti-caking agents"
         ],
         "type": "scatterpolar",
         "visible": false
        },
        {
         "fill": "toself",
         "marker": {
          "color": "#7DCD85"
         },
         "name": "Bio products",
         "r": [
          0.09521885521885522,
          0.22424242424242424,
          0.0022895622895622897,
          0.00404040404040404,
          0.0024242424242424242,
          0.247003367003367,
          0.09521885521885522
         ],
         "theta": [
          "Anti-caking agents",
          "Antioxidants",
          "Colorants",
          "Glazing agents",
          "Preservatives",
          "Thickeners",
          "Anti-caking agents"
         ],
         "type": "scatterpolar",
         "visible": false
        }
       ],
       "layout": {
        "polar": {
         "bgcolor": "rgba(0.5,0.5,0.5,0.1)",
         "radialaxis": {
          "angle": 90
         }
        },
        "template": {
         "data": {
          "bar": [
           {
            "error_x": {
             "color": "#2a3f5f"
            },
            "error_y": {
             "color": "#2a3f5f"
            },
            "marker": {
             "line": {
              "color": "#E5ECF6",
              "width": 0.5
             }
            },
            "type": "bar"
           }
          ],
          "barpolar": [
           {
            "marker": {
             "line": {
              "color": "#E5ECF6",
              "width": 0.5
             }
            },
            "type": "barpolar"
           }
          ],
          "carpet": [
           {
            "aaxis": {
             "endlinecolor": "#2a3f5f",
             "gridcolor": "white",
             "linecolor": "white",
             "minorgridcolor": "white",
             "startlinecolor": "#2a3f5f"
            },
            "baxis": {
             "endlinecolor": "#2a3f5f",
             "gridcolor": "white",
             "linecolor": "white",
             "minorgridcolor": "white",
             "startlinecolor": "#2a3f5f"
            },
            "type": "carpet"
           }
          ],
          "choropleth": [
           {
            "colorbar": {
             "outlinewidth": 0,
             "ticks": ""
            },
            "type": "choropleth"
           }
          ],
          "contour": [
           {
            "colorbar": {
             "outlinewidth": 0,
             "ticks": ""
            },
            "colorscale": [
             [
              0,
              "#0d0887"
             ],
             [
              0.1111111111111111,
              "#46039f"
             ],
             [
              0.2222222222222222,
              "#7201a8"
             ],
             [
              0.3333333333333333,
              "#9c179e"
             ],
             [
              0.4444444444444444,
              "#bd3786"
             ],
             [
              0.5555555555555556,
              "#d8576b"
             ],
             [
              0.6666666666666666,
              "#ed7953"
             ],
             [
              0.7777777777777778,
              "#fb9f3a"
             ],
             [
              0.8888888888888888,
              "#fdca26"
             ],
             [
              1,
              "#f0f921"
             ]
            ],
            "type": "contour"
           }
          ],
          "contourcarpet": [
           {
            "colorbar": {
             "outlinewidth": 0,
             "ticks": ""
            },
            "type": "contourcarpet"
           }
          ],
          "heatmap": [
           {
            "colorbar": {
             "outlinewidth": 0,
             "ticks": ""
            },
            "colorscale": [
             [
              0,
              "#0d0887"
             ],
             [
              0.1111111111111111,
              "#46039f"
             ],
             [
              0.2222222222222222,
              "#7201a8"
             ],
             [
              0.3333333333333333,
              "#9c179e"
             ],
             [
              0.4444444444444444,
              "#bd3786"
             ],
             [
              0.5555555555555556,
              "#d8576b"
             ],
             [
              0.6666666666666666,
              "#ed7953"
             ],
             [
              0.7777777777777778,
              "#fb9f3a"
             ],
             [
              0.8888888888888888,
              "#fdca26"
             ],
             [
              1,
              "#f0f921"
             ]
            ],
            "type": "heatmap"
           }
          ],
          "heatmapgl": [
           {
            "colorbar": {
             "outlinewidth": 0,
             "ticks": ""
            },
            "colorscale": [
             [
              0,
              "#0d0887"
             ],
             [
              0.1111111111111111,
              "#46039f"
             ],
             [
              0.2222222222222222,
              "#7201a8"
             ],
             [
              0.3333333333333333,
              "#9c179e"
             ],
             [
              0.4444444444444444,
              "#bd3786"
             ],
             [
              0.5555555555555556,
              "#d8576b"
             ],
             [
              0.6666666666666666,
              "#ed7953"
             ],
             [
              0.7777777777777778,
              "#fb9f3a"
             ],
             [
              0.8888888888888888,
              "#fdca26"
             ],
             [
              1,
              "#f0f921"
             ]
            ],
            "type": "heatmapgl"
           }
          ],
          "histogram": [
           {
            "marker": {
             "colorbar": {
              "outlinewidth": 0,
              "ticks": ""
             }
            },
            "type": "histogram"
           }
          ],
          "histogram2d": [
           {
            "colorbar": {
             "outlinewidth": 0,
             "ticks": ""
            },
            "colorscale": [
             [
              0,
              "#0d0887"
             ],
             [
              0.1111111111111111,
              "#46039f"
             ],
             [
              0.2222222222222222,
              "#7201a8"
             ],
             [
              0.3333333333333333,
              "#9c179e"
             ],
             [
              0.4444444444444444,
              "#bd3786"
             ],
             [
              0.5555555555555556,
              "#d8576b"
             ],
             [
              0.6666666666666666,
              "#ed7953"
             ],
             [
              0.7777777777777778,
              "#fb9f3a"
             ],
             [
              0.8888888888888888,
              "#fdca26"
             ],
             [
              1,
              "#f0f921"
             ]
            ],
            "type": "histogram2d"
           }
          ],
          "histogram2dcontour": [
           {
            "colorbar": {
             "outlinewidth": 0,
             "ticks": ""
            },
            "colorscale": [
             [
              0,
              "#0d0887"
             ],
             [
              0.1111111111111111,
              "#46039f"
             ],
             [
              0.2222222222222222,
              "#7201a8"
             ],
             [
              0.3333333333333333,
              "#9c179e"
             ],
             [
              0.4444444444444444,
              "#bd3786"
             ],
             [
              0.5555555555555556,
              "#d8576b"
             ],
             [
              0.6666666666666666,
              "#ed7953"
             ],
             [
              0.7777777777777778,
              "#fb9f3a"
             ],
             [
              0.8888888888888888,
              "#fdca26"
             ],
             [
              1,
              "#f0f921"
             ]
            ],
            "type": "histogram2dcontour"
           }
          ],
          "mesh3d": [
           {
            "colorbar": {
             "outlinewidth": 0,
             "ticks": ""
            },
            "type": "mesh3d"
           }
          ],
          "parcoords": [
           {
            "line": {
             "colorbar": {
              "outlinewidth": 0,
              "ticks": ""
             }
            },
            "type": "parcoords"
           }
          ],
          "pie": [
           {
            "automargin": true,
            "type": "pie"
           }
          ],
          "scatter": [
           {
            "marker": {
             "colorbar": {
              "outlinewidth": 0,
              "ticks": ""
             }
            },
            "type": "scatter"
           }
          ],
          "scatter3d": [
           {
            "line": {
             "colorbar": {
              "outlinewidth": 0,
              "ticks": ""
             }
            },
            "marker": {
             "colorbar": {
              "outlinewidth": 0,
              "ticks": ""
             }
            },
            "type": "scatter3d"
           }
          ],
          "scattercarpet": [
           {
            "marker": {
             "colorbar": {
              "outlinewidth": 0,
              "ticks": ""
             }
            },
            "type": "scattercarpet"
           }
          ],
          "scattergeo": [
           {
            "marker": {
             "colorbar": {
              "outlinewidth": 0,
              "ticks": ""
             }
            },
            "type": "scattergeo"
           }
          ],
          "scattergl": [
           {
            "marker": {
             "colorbar": {
              "outlinewidth": 0,
              "ticks": ""
             }
            },
            "type": "scattergl"
           }
          ],
          "scattermapbox": [
           {
            "marker": {
             "colorbar": {
              "outlinewidth": 0,
              "ticks": ""
             }
            },
            "type": "scattermapbox"
           }
          ],
          "scatterpolar": [
           {
            "marker": {
             "colorbar": {
              "outlinewidth": 0,
              "ticks": ""
             }
            },
            "type": "scatterpolar"
           }
          ],
          "scatterpolargl": [
           {
            "marker": {
             "colorbar": {
              "outlinewidth": 0,
              "ticks": ""
             }
            },
            "type": "scatterpolargl"
           }
          ],
          "scatterternary": [
           {
            "marker": {
             "colorbar": {
              "outlinewidth": 0,
              "ticks": ""
             }
            },
            "type": "scatterternary"
           }
          ],
          "surface": [
           {
            "colorbar": {
             "outlinewidth": 0,
             "ticks": ""
            },
            "colorscale": [
             [
              0,
              "#0d0887"
             ],
             [
              0.1111111111111111,
              "#46039f"
             ],
             [
              0.2222222222222222,
              "#7201a8"
             ],
             [
              0.3333333333333333,
              "#9c179e"
             ],
             [
              0.4444444444444444,
              "#bd3786"
             ],
             [
              0.5555555555555556,
              "#d8576b"
             ],
             [
              0.6666666666666666,
              "#ed7953"
             ],
             [
              0.7777777777777778,
              "#fb9f3a"
             ],
             [
              0.8888888888888888,
              "#fdca26"
             ],
             [
              1,
              "#f0f921"
             ]
            ],
            "type": "surface"
           }
          ],
          "table": [
           {
            "cells": {
             "fill": {
              "color": "#EBF0F8"
             },
             "line": {
              "color": "white"
             }
            },
            "header": {
             "fill": {
              "color": "#C8D4E3"
             },
             "line": {
              "color": "white"
             }
            },
            "type": "table"
           }
          ]
         },
         "layout": {
          "annotationdefaults": {
           "arrowcolor": "#2a3f5f",
           "arrowhead": 0,
           "arrowwidth": 1
          },
          "coloraxis": {
           "colorbar": {
            "outlinewidth": 0,
            "ticks": ""
           }
          },
          "colorscale": {
           "diverging": [
            [
             0,
             "#8e0152"
            ],
            [
             0.1,
             "#c51b7d"
            ],
            [
             0.2,
             "#de77ae"
            ],
            [
             0.3,
             "#f1b6da"
            ],
            [
             0.4,
             "#fde0ef"
            ],
            [
             0.5,
             "#f7f7f7"
            ],
            [
             0.6,
             "#e6f5d0"
            ],
            [
             0.7,
             "#b8e186"
            ],
            [
             0.8,
             "#7fbc41"
            ],
            [
             0.9,
             "#4d9221"
            ],
            [
             1,
             "#276419"
            ]
           ],
           "sequential": [
            [
             0,
             "#0d0887"
            ],
            [
             0.1111111111111111,
             "#46039f"
            ],
            [
             0.2222222222222222,
             "#7201a8"
            ],
            [
             0.3333333333333333,
             "#9c179e"
            ],
            [
             0.4444444444444444,
             "#bd3786"
            ],
            [
             0.5555555555555556,
             "#d8576b"
            ],
            [
             0.6666666666666666,
             "#ed7953"
            ],
            [
             0.7777777777777778,
             "#fb9f3a"
            ],
            [
             0.8888888888888888,
             "#fdca26"
            ],
            [
             1,
             "#f0f921"
            ]
           ],
           "sequentialminus": [
            [
             0,
             "#0d0887"
            ],
            [
             0.1111111111111111,
             "#46039f"
            ],
            [
             0.2222222222222222,
             "#7201a8"
            ],
            [
             0.3333333333333333,
             "#9c179e"
            ],
            [
             0.4444444444444444,
             "#bd3786"
            ],
            [
             0.5555555555555556,
             "#d8576b"
            ],
            [
             0.6666666666666666,
             "#ed7953"
            ],
            [
             0.7777777777777778,
             "#fb9f3a"
            ],
            [
             0.8888888888888888,
             "#fdca26"
            ],
            [
             1,
             "#f0f921"
            ]
           ]
          },
          "colorway": [
           "#636efa",
           "#EF553B",
           "#00cc96",
           "#ab63fa",
           "#FFA15A",
           "#19d3f3",
           "#FF6692",
           "#B6E880",
           "#FF97FF",
           "#FECB52"
          ],
          "font": {
           "color": "#2a3f5f"
          },
          "geo": {
           "bgcolor": "white",
           "lakecolor": "white",
           "landcolor": "#E5ECF6",
           "showlakes": true,
           "showland": true,
           "subunitcolor": "white"
          },
          "hoverlabel": {
           "align": "left"
          },
          "hovermode": "closest",
          "mapbox": {
           "style": "light"
          },
          "paper_bgcolor": "white",
          "plot_bgcolor": "#E5ECF6",
          "polar": {
           "angularaxis": {
            "gridcolor": "white",
            "linecolor": "white",
            "ticks": ""
           },
           "bgcolor": "#E5ECF6",
           "radialaxis": {
            "gridcolor": "white",
            "linecolor": "white",
            "ticks": ""
           }
          },
          "scene": {
           "xaxis": {
            "backgroundcolor": "#E5ECF6",
            "gridcolor": "white",
            "gridwidth": 2,
            "linecolor": "white",
            "showbackground": true,
            "ticks": "",
            "zerolinecolor": "white"
           },
           "yaxis": {
            "backgroundcolor": "#E5ECF6",
            "gridcolor": "white",
            "gridwidth": 2,
            "linecolor": "white",
            "showbackground": true,
            "ticks": "",
            "zerolinecolor": "white"
           },
           "zaxis": {
            "backgroundcolor": "#E5ECF6",
            "gridcolor": "white",
            "gridwidth": 2,
            "linecolor": "white",
            "showbackground": true,
            "ticks": "",
            "zerolinecolor": "white"
           }
          },
          "shapedefaults": {
           "line": {
            "color": "#2a3f5f"
           }
          },
          "ternary": {
           "aaxis": {
            "gridcolor": "white",
            "linecolor": "white",
            "ticks": ""
           },
           "baxis": {
            "gridcolor": "white",
            "linecolor": "white",
            "ticks": ""
           },
           "bgcolor": "#E5ECF6",
           "caxis": {
            "gridcolor": "white",
            "linecolor": "white",
            "ticks": ""
           }
          },
          "title": {
           "x": 0.05
          },
          "xaxis": {
           "automargin": true,
           "gridcolor": "white",
           "linecolor": "white",
           "ticks": "",
           "title": {
            "standoff": 15
           },
           "zerolinecolor": "white",
           "zerolinewidth": 2
          },
          "yaxis": {
           "automargin": true,
           "gridcolor": "white",
           "linecolor": "white",
           "ticks": "",
           "title": {
            "standoff": 15
           },
           "zerolinecolor": "white",
           "zerolinewidth": 2
          }
         }
        },
        "title": {
         "text": "Proportion of additives for bio and regular products for different food categories.",
         "x": 0.5,
         "xanchor": "center",
         "y": 0.95,
         "yanchor": "top"
        },
        "updatemenus": [
         {
          "buttons": [
           {
            "args": [
             {
              "visible": [
               true,
               true,
               false,
               false,
               false,
               false,
               false,
               false,
               false,
               false,
               false,
               false,
               false,
               false,
               false,
               false
              ]
             }
            ],
            "label": "meat, fish, egg",
            "method": "update"
           },
           {
            "args": [
             {
              "visible": [
               false,
               false,
               true,
               true,
               false,
               false,
               false,
               false,
               false,
               false,
               false,
               false,
               false,
               false,
               false,
               false
              ]
             }
            ],
            "label": "fruit, vegetable",
            "method": "update"
           },
           {
            "args": [
             {
              "visible": [
               false,
               false,
               false,
               false,
               true,
               true,
               false,
               false,
               false,
               false,
               false,
               false,
               false,
               false,
               false,
               false
              ]
             }
            ],
            "label": "cereal",
            "method": "update"
           },
           {
            "args": [
             {
              "visible": [
               false,
               false,
               false,
               false,
               false,
               false,
               true,
               true,
               false,
               false,
               false,
               false,
               false,
               false,
               false,
               false
              ]
             }
            ],
            "label": "drink",
            "method": "update"
           },
           {
            "args": [
             {
              "visible": [
               false,
               false,
               false,
               false,
               false,
               false,
               false,
               false,
               true,
               true,
               false,
               false,
               false,
               false,
               false,
               false
              ]
             }
            ],
            "label": "dairy",
            "method": "update"
           },
           {
            "args": [
             {
              "visible": [
               false,
               false,
               false,
               false,
               false,
               false,
               false,
               false,
               false,
               false,
               true,
               true,
               false,
               false,
               false,
               false
              ]
             }
            ],
            "label": "cooking ingredient",
            "method": "update"
           },
           {
            "args": [
             {
              "visible": [
               false,
               false,
               false,
               false,
               false,
               false,
               false,
               false,
               false,
               false,
               false,
               false,
               true,
               true,
               false,
               false
              ]
             }
            ],
            "label": "fat",
            "method": "update"
           },
           {
            "args": [
             {
              "visible": [
               false,
               false,
               false,
               false,
               false,
               false,
               false,
               false,
               false,
               false,
               false,
               false,
               false,
               false,
               true,
               true
              ]
             }
            ],
            "label": "sugary product",
            "method": "update"
           }
          ],
          "direction": "down",
          "showactive": true,
          "x": 0.1,
          "xanchor": "left",
          "y": 1.1,
          "yanchor": "top"
         }
        ]
       }
      },
      "text/html": [
       "<div>\n",
       "        \n",
       "        \n",
       "            <div id=\"105249ff-83f5-43ef-9c61-be2258f217e9\" class=\"plotly-graph-div\" style=\"height:525px; width:100%;\"></div>\n",
       "            <script type=\"text/javascript\">\n",
       "                require([\"plotly\"], function(Plotly) {\n",
       "                    window.PLOTLYENV=window.PLOTLYENV || {};\n",
       "                    \n",
       "                if (document.getElementById(\"105249ff-83f5-43ef-9c61-be2258f217e9\")) {\n",
       "                    Plotly.newPlot(\n",
       "                        '105249ff-83f5-43ef-9c61-be2258f217e9',\n",
       "                        [{\"fill\": \"toself\", \"marker\": {\"color\": \"#736372\"}, \"name\": \"Regular products\", \"r\": [0.024139182886983718, 0.17110223686782652, 0.10484515066044849, 0.017548660951157532, 0.002094445530453238, 0.16625987880141863, 0.17640816554497474, 0.024139182886983718], \"theta\": [\"Anti-caking agents\", \"Antioxidants\", \"Colorants\", \"Flavour enhancers\", \"Glazing agents\", \"Preservatives\", \"Thickeners\", \"Anti-caking agents\"], \"type\": \"scatterpolar\", \"visible\": true}, {\"fill\": \"toself\", \"marker\": {\"color\": \"#7DCD85\"}, \"name\": \"Bio products\", \"r\": [0.01794349707304658, 0.10346144057011962, 0.007253754135912446, 0.00025451768897938407, 0.00025451768897938407, 0.0638839399338254, 0.09328073301094426, 0.01794349707304658], \"theta\": [\"Anti-caking agents\", \"Antioxidants\", \"Colorants\", \"Flavour enhancers\", \"Glazing agents\", \"Preservatives\", \"Thickeners\", \"Anti-caking agents\"], \"type\": \"scatterpolar\", \"visible\": true}, {\"fill\": \"toself\", \"marker\": {\"color\": \"#736372\"}, \"name\": \"Regular products\", \"r\": [0.016990820633104645, 1.91316525538843e-06, 0.15008972745047772, 0.05340026860840186, 0.008081210038760727, 0.014199512525492928, 0.04361442832709004, 0.14105576111453355, 0.016990820633104645], \"theta\": [\"Anti-caking agents\", \"Antibiotics\", \"Antioxidants\", \"Colorants\", \"Flavour enhancers\", \"Glazing agents\", \"Preservatives\", \"Thickeners\", \"Anti-caking agents\"], \"type\": \"scatterpolar\", \"visible\": false}, {\"fill\": \"toself\", \"marker\": {\"color\": \"#7DCD85\"}, \"name\": \"Bio products\", \"r\": [0.0062961532610094914, 0.07357605121183396, 0.0018490561621552037, 2.3405774204496248e-05, 0.00026916640335170684, 0.0033119170499362194, 0.1279359618017765, 0.0062961532610094914], \"theta\": [\"Anti-caking agents\", \"Antioxidants\", \"Colorants\", \"Flavour enhancers\", \"Glazing agents\", \"Preservatives\", \"Thickeners\", \"Anti-caking agents\"], \"type\": \"scatterpolar\", \"visible\": false}, {\"fill\": \"toself\", \"marker\": {\"color\": \"#736372\"}, \"name\": \"Regular products\", \"r\": [0.16592286201516634, 0.1948623054315881, 0.09117956532781829, 0.005536809259460832, 0.006639817132905192, 0.06369144806066543, 0.25015057508798666, 0.16592286201516634], \"theta\": [\"Anti-caking agents\", \"Antioxidants\", \"Colorants\", \"Flavour enhancers\", \"Glazing agents\", \"Preservatives\", \"Thickeners\", \"Anti-caking agents\"], \"type\": \"scatterpolar\", \"visible\": false}, {\"fill\": \"toself\", \"marker\": {\"color\": \"#7DCD85\"}, \"name\": \"Bio products\", \"r\": [0.27936241610738255, 0.1912751677852349, 0.007466442953020134, 0.0006711409395973154, 0.005788590604026846, 0.0839765100671141, 0.27936241610738255], \"theta\": [\"Anti-caking agents\", \"Antioxidants\", \"Colorants\", \"Glazing agents\", \"Preservatives\", \"Thickeners\", \"Anti-caking agents\"], \"type\": \"scatterpolar\", \"visible\": false}, {\"fill\": \"toself\", \"marker\": {\"color\": \"#736372\"}, \"name\": \"Regular products\", \"r\": [0.008446248433116458, 1.4922700411866532e-05, 0.21630454247000538, 0.09119262221691637, 0.000955052826359458, 0.08188831851011759, 0.08623828568017669, 0.06327971109652003, 0.008446248433116458], \"theta\": [\"Anti-caking agents\", \"Antibiotics\", \"Antioxidants\", \"Colorants\", \"Flavour enhancers\", \"Glazing agents\", \"Preservatives\", \"Thickeners\", \"Anti-caking agents\"], \"type\": \"scatterpolar\", \"visible\": false}, {\"fill\": \"toself\", \"marker\": {\"color\": \"#7DCD85\"}, \"name\": \"Bio products\", \"r\": [0.009108341323106424, 0.08513902205177373, 0.007957813998082455, 0.0003835091083413231, 0.002109300095877277, 0.03547459252157239, 0.019079578139980825, 0.009108341323106424], \"theta\": [\"Anti-caking agents\", \"Antioxidants\", \"Colorants\", \"Flavour enhancers\", \"Glazing agents\", \"Preservatives\", \"Thickeners\", \"Anti-caking agents\"], \"type\": \"scatterpolar\", \"visible\": false}, {\"fill\": \"toself\", \"marker\": {\"color\": \"#736372\"}, \"name\": \"Regular products\", \"r\": [0.015272400830387702, 1.68321831341525e-05, 0.11099702631431296, 0.109639230208158, 0.0016271110363014084, 0.013948269090501038, 0.06195365538910397, 0.22018178757784884, 0.015272400830387702], \"theta\": [\"Anti-caking agents\", \"Antibiotics\", \"Antioxidants\", \"Colorants\", \"Flavour enhancers\", \"Glazing agents\", \"Preservatives\", \"Thickeners\", \"Anti-caking agents\"], \"type\": \"scatterpolar\", \"visible\": false}, {\"fill\": \"toself\", \"marker\": {\"color\": \"#7DCD85\"}, \"name\": \"Bio products\", \"r\": [0.012570807790796928, 0.06161247769069605, 0.010320478001086366, 0.00038798789477768295, 0.0007759757895553659, 0.01932179715992861, 0.14852176612089704, 0.012570807790796928], \"theta\": [\"Anti-caking agents\", \"Antioxidants\", \"Colorants\", \"Flavour enhancers\", \"Glazing agents\", \"Preservatives\", \"Thickeners\", \"Anti-caking agents\"], \"type\": \"scatterpolar\", \"visible\": false}, {\"fill\": \"toself\", \"marker\": {\"color\": \"#736372\"}, \"name\": \"Regular products\", \"r\": [0.03721413511686792, 0.15190307579013204, 0.1139525265058661, 0.030122365806171756, 0.006294827951457192, 0.11775565172653815, 0.10882789093000031, 0.03721413511686792], \"theta\": [\"Anti-caking agents\", \"Antioxidants\", \"Colorants\", \"Flavour enhancers\", \"Glazing agents\", \"Preservatives\", \"Thickeners\", \"Anti-caking agents\"], \"type\": \"scatterpolar\", \"visible\": false}, {\"fill\": \"toself\", \"marker\": {\"color\": \"#7DCD85\"}, \"name\": \"Bio products\", \"r\": [0.016941789748045177, 0.06718795250506805, 0.00593686649290472, 0.0008688097306689834, 0.016507384882710686, 0.046770923834346945, 0.016941789748045177], \"theta\": [\"Anti-caking agents\", \"Antioxidants\", \"Colorants\", \"Glazing agents\", \"Preservatives\", \"Thickeners\", \"Anti-caking agents\"], \"type\": \"scatterpolar\", \"visible\": false}, {\"fill\": \"toself\", \"marker\": {\"color\": \"#736372\"}, \"name\": \"Regular products\", \"r\": [0.03816954871362294, 0.07101433994095319, 0.03737874314635175, 0.005272037115141291, 0.004744833403627162, 0.026729228173766342, 0.07565373260227752, 0.03816954871362294], \"theta\": [\"Anti-caking agents\", \"Antioxidants\", \"Colorants\", \"Flavour enhancers\", \"Glazing agents\", \"Preservatives\", \"Thickeners\", \"Anti-caking agents\"], \"type\": \"scatterpolar\", \"visible\": false}, {\"fill\": \"toself\", \"marker\": {\"color\": \"#7DCD85\"}, \"name\": \"Bio products\", \"r\": [0.06802721088435375, 0.042606516290726815, 0.0017901897601145722, 0.0014321518080916578, 0.005728607232366631, 0.06802721088435375], \"theta\": [\"Anti-caking agents\", \"Antioxidants\", \"Colorants\", \"Preservatives\", \"Thickeners\", \"Anti-caking agents\"], \"type\": \"scatterpolar\", \"visible\": false}, {\"fill\": \"toself\", \"marker\": {\"color\": \"#736372\"}, \"name\": \"Regular products\", \"r\": [0.07997960240885839, 0.3088778087159231, 0.1029511752897753, 0.0005018454963413844, 0.037225603833452046, 0.02650067991970472, 0.295368451725701, 0.07997960240885839], \"theta\": [\"Anti-caking agents\", \"Antioxidants\", \"Colorants\", \"Flavour enhancers\", \"Glazing agents\", \"Preservatives\", \"Thickeners\", \"Anti-caking agents\"], \"type\": \"scatterpolar\", \"visible\": false}, {\"fill\": \"toself\", \"marker\": {\"color\": \"#7DCD85\"}, \"name\": \"Bio products\", \"r\": [0.09521885521885522, 0.22424242424242424, 0.0022895622895622897, 0.00404040404040404, 0.0024242424242424242, 0.247003367003367, 0.09521885521885522], \"theta\": [\"Anti-caking agents\", \"Antioxidants\", \"Colorants\", \"Glazing agents\", \"Preservatives\", \"Thickeners\", \"Anti-caking agents\"], \"type\": \"scatterpolar\", \"visible\": false}],\n",
       "                        {\"polar\": {\"bgcolor\": \"rgba(0.5,0.5,0.5,0.1)\", \"radialaxis\": {\"angle\": 90}}, \"template\": {\"data\": {\"bar\": [{\"error_x\": {\"color\": \"#2a3f5f\"}, \"error_y\": {\"color\": \"#2a3f5f\"}, \"marker\": {\"line\": {\"color\": \"#E5ECF6\", \"width\": 0.5}}, \"type\": \"bar\"}], \"barpolar\": [{\"marker\": {\"line\": {\"color\": \"#E5ECF6\", \"width\": 0.5}}, \"type\": \"barpolar\"}], \"carpet\": [{\"aaxis\": {\"endlinecolor\": \"#2a3f5f\", \"gridcolor\": \"white\", \"linecolor\": \"white\", \"minorgridcolor\": \"white\", \"startlinecolor\": \"#2a3f5f\"}, \"baxis\": {\"endlinecolor\": \"#2a3f5f\", \"gridcolor\": \"white\", \"linecolor\": \"white\", \"minorgridcolor\": \"white\", \"startlinecolor\": \"#2a3f5f\"}, \"type\": \"carpet\"}], \"choropleth\": [{\"colorbar\": {\"outlinewidth\": 0, \"ticks\": \"\"}, \"type\": \"choropleth\"}], \"contour\": [{\"colorbar\": {\"outlinewidth\": 0, \"ticks\": \"\"}, \"colorscale\": [[0.0, \"#0d0887\"], [0.1111111111111111, \"#46039f\"], [0.2222222222222222, \"#7201a8\"], [0.3333333333333333, \"#9c179e\"], [0.4444444444444444, \"#bd3786\"], [0.5555555555555556, \"#d8576b\"], [0.6666666666666666, \"#ed7953\"], [0.7777777777777778, \"#fb9f3a\"], [0.8888888888888888, \"#fdca26\"], [1.0, \"#f0f921\"]], \"type\": \"contour\"}], \"contourcarpet\": [{\"colorbar\": {\"outlinewidth\": 0, \"ticks\": \"\"}, \"type\": \"contourcarpet\"}], \"heatmap\": [{\"colorbar\": {\"outlinewidth\": 0, \"ticks\": \"\"}, \"colorscale\": [[0.0, \"#0d0887\"], [0.1111111111111111, \"#46039f\"], [0.2222222222222222, \"#7201a8\"], [0.3333333333333333, \"#9c179e\"], [0.4444444444444444, \"#bd3786\"], [0.5555555555555556, \"#d8576b\"], [0.6666666666666666, \"#ed7953\"], [0.7777777777777778, \"#fb9f3a\"], [0.8888888888888888, \"#fdca26\"], [1.0, \"#f0f921\"]], \"type\": \"heatmap\"}], \"heatmapgl\": [{\"colorbar\": {\"outlinewidth\": 0, \"ticks\": \"\"}, \"colorscale\": [[0.0, \"#0d0887\"], [0.1111111111111111, \"#46039f\"], [0.2222222222222222, \"#7201a8\"], [0.3333333333333333, \"#9c179e\"], [0.4444444444444444, \"#bd3786\"], [0.5555555555555556, \"#d8576b\"], [0.6666666666666666, \"#ed7953\"], [0.7777777777777778, \"#fb9f3a\"], [0.8888888888888888, \"#fdca26\"], [1.0, \"#f0f921\"]], \"type\": \"heatmapgl\"}], \"histogram\": [{\"marker\": {\"colorbar\": {\"outlinewidth\": 0, \"ticks\": \"\"}}, \"type\": \"histogram\"}], \"histogram2d\": [{\"colorbar\": {\"outlinewidth\": 0, \"ticks\": \"\"}, \"colorscale\": [[0.0, \"#0d0887\"], [0.1111111111111111, \"#46039f\"], [0.2222222222222222, \"#7201a8\"], [0.3333333333333333, \"#9c179e\"], [0.4444444444444444, \"#bd3786\"], [0.5555555555555556, \"#d8576b\"], [0.6666666666666666, \"#ed7953\"], [0.7777777777777778, \"#fb9f3a\"], [0.8888888888888888, \"#fdca26\"], [1.0, \"#f0f921\"]], \"type\": \"histogram2d\"}], \"histogram2dcontour\": [{\"colorbar\": {\"outlinewidth\": 0, \"ticks\": \"\"}, \"colorscale\": [[0.0, \"#0d0887\"], [0.1111111111111111, \"#46039f\"], [0.2222222222222222, \"#7201a8\"], [0.3333333333333333, \"#9c179e\"], [0.4444444444444444, \"#bd3786\"], [0.5555555555555556, \"#d8576b\"], [0.6666666666666666, \"#ed7953\"], [0.7777777777777778, \"#fb9f3a\"], [0.8888888888888888, \"#fdca26\"], [1.0, \"#f0f921\"]], \"type\": \"histogram2dcontour\"}], \"mesh3d\": [{\"colorbar\": {\"outlinewidth\": 0, \"ticks\": \"\"}, \"type\": \"mesh3d\"}], \"parcoords\": [{\"line\": {\"colorbar\": {\"outlinewidth\": 0, \"ticks\": \"\"}}, \"type\": \"parcoords\"}], \"pie\": [{\"automargin\": true, \"type\": \"pie\"}], \"scatter\": [{\"marker\": {\"colorbar\": {\"outlinewidth\": 0, \"ticks\": \"\"}}, \"type\": \"scatter\"}], \"scatter3d\": [{\"line\": {\"colorbar\": {\"outlinewidth\": 0, \"ticks\": \"\"}}, \"marker\": {\"colorbar\": {\"outlinewidth\": 0, \"ticks\": \"\"}}, \"type\": \"scatter3d\"}], \"scattercarpet\": [{\"marker\": {\"colorbar\": {\"outlinewidth\": 0, \"ticks\": \"\"}}, \"type\": \"scattercarpet\"}], \"scattergeo\": [{\"marker\": {\"colorbar\": {\"outlinewidth\": 0, \"ticks\": \"\"}}, \"type\": \"scattergeo\"}], \"scattergl\": [{\"marker\": {\"colorbar\": {\"outlinewidth\": 0, \"ticks\": \"\"}}, \"type\": \"scattergl\"}], \"scattermapbox\": [{\"marker\": {\"colorbar\": {\"outlinewidth\": 0, \"ticks\": \"\"}}, \"type\": \"scattermapbox\"}], \"scatterpolar\": [{\"marker\": {\"colorbar\": {\"outlinewidth\": 0, \"ticks\": \"\"}}, \"type\": \"scatterpolar\"}], \"scatterpolargl\": [{\"marker\": {\"colorbar\": {\"outlinewidth\": 0, \"ticks\": \"\"}}, \"type\": \"scatterpolargl\"}], \"scatterternary\": [{\"marker\": {\"colorbar\": {\"outlinewidth\": 0, \"ticks\": \"\"}}, \"type\": \"scatterternary\"}], \"surface\": [{\"colorbar\": {\"outlinewidth\": 0, \"ticks\": \"\"}, \"colorscale\": [[0.0, \"#0d0887\"], [0.1111111111111111, \"#46039f\"], [0.2222222222222222, \"#7201a8\"], [0.3333333333333333, \"#9c179e\"], [0.4444444444444444, \"#bd3786\"], [0.5555555555555556, \"#d8576b\"], [0.6666666666666666, \"#ed7953\"], [0.7777777777777778, \"#fb9f3a\"], [0.8888888888888888, \"#fdca26\"], [1.0, \"#f0f921\"]], \"type\": \"surface\"}], \"table\": [{\"cells\": {\"fill\": {\"color\": \"#EBF0F8\"}, \"line\": {\"color\": \"white\"}}, \"header\": {\"fill\": {\"color\": \"#C8D4E3\"}, \"line\": {\"color\": \"white\"}}, \"type\": \"table\"}]}, \"layout\": {\"annotationdefaults\": {\"arrowcolor\": \"#2a3f5f\", \"arrowhead\": 0, \"arrowwidth\": 1}, \"coloraxis\": {\"colorbar\": {\"outlinewidth\": 0, \"ticks\": \"\"}}, \"colorscale\": {\"diverging\": [[0, \"#8e0152\"], [0.1, \"#c51b7d\"], [0.2, \"#de77ae\"], [0.3, \"#f1b6da\"], [0.4, \"#fde0ef\"], [0.5, \"#f7f7f7\"], [0.6, \"#e6f5d0\"], [0.7, \"#b8e186\"], [0.8, \"#7fbc41\"], [0.9, \"#4d9221\"], [1, \"#276419\"]], \"sequential\": [[0.0, \"#0d0887\"], [0.1111111111111111, \"#46039f\"], [0.2222222222222222, \"#7201a8\"], [0.3333333333333333, \"#9c179e\"], [0.4444444444444444, \"#bd3786\"], [0.5555555555555556, \"#d8576b\"], [0.6666666666666666, \"#ed7953\"], [0.7777777777777778, \"#fb9f3a\"], [0.8888888888888888, \"#fdca26\"], [1.0, \"#f0f921\"]], \"sequentialminus\": [[0.0, \"#0d0887\"], [0.1111111111111111, \"#46039f\"], [0.2222222222222222, \"#7201a8\"], [0.3333333333333333, \"#9c179e\"], [0.4444444444444444, \"#bd3786\"], [0.5555555555555556, \"#d8576b\"], [0.6666666666666666, \"#ed7953\"], [0.7777777777777778, \"#fb9f3a\"], [0.8888888888888888, \"#fdca26\"], [1.0, \"#f0f921\"]]}, \"colorway\": [\"#636efa\", \"#EF553B\", \"#00cc96\", \"#ab63fa\", \"#FFA15A\", \"#19d3f3\", \"#FF6692\", \"#B6E880\", \"#FF97FF\", \"#FECB52\"], \"font\": {\"color\": \"#2a3f5f\"}, \"geo\": {\"bgcolor\": \"white\", \"lakecolor\": \"white\", \"landcolor\": \"#E5ECF6\", \"showlakes\": true, \"showland\": true, \"subunitcolor\": \"white\"}, \"hoverlabel\": {\"align\": \"left\"}, \"hovermode\": \"closest\", \"mapbox\": {\"style\": \"light\"}, \"paper_bgcolor\": \"white\", \"plot_bgcolor\": \"#E5ECF6\", \"polar\": {\"angularaxis\": {\"gridcolor\": \"white\", \"linecolor\": \"white\", \"ticks\": \"\"}, \"bgcolor\": \"#E5ECF6\", \"radialaxis\": {\"gridcolor\": \"white\", \"linecolor\": \"white\", \"ticks\": \"\"}}, \"scene\": {\"xaxis\": {\"backgroundcolor\": \"#E5ECF6\", \"gridcolor\": \"white\", \"gridwidth\": 2, \"linecolor\": \"white\", \"showbackground\": true, \"ticks\": \"\", \"zerolinecolor\": \"white\"}, \"yaxis\": {\"backgroundcolor\": \"#E5ECF6\", \"gridcolor\": \"white\", \"gridwidth\": 2, \"linecolor\": \"white\", \"showbackground\": true, \"ticks\": \"\", \"zerolinecolor\": \"white\"}, \"zaxis\": {\"backgroundcolor\": \"#E5ECF6\", \"gridcolor\": \"white\", \"gridwidth\": 2, \"linecolor\": \"white\", \"showbackground\": true, \"ticks\": \"\", \"zerolinecolor\": \"white\"}}, \"shapedefaults\": {\"line\": {\"color\": \"#2a3f5f\"}}, \"ternary\": {\"aaxis\": {\"gridcolor\": \"white\", \"linecolor\": \"white\", \"ticks\": \"\"}, \"baxis\": {\"gridcolor\": \"white\", \"linecolor\": \"white\", \"ticks\": \"\"}, \"bgcolor\": \"#E5ECF6\", \"caxis\": {\"gridcolor\": \"white\", \"linecolor\": \"white\", \"ticks\": \"\"}}, \"title\": {\"x\": 0.05}, \"xaxis\": {\"automargin\": true, \"gridcolor\": \"white\", \"linecolor\": \"white\", \"ticks\": \"\", \"title\": {\"standoff\": 15}, \"zerolinecolor\": \"white\", \"zerolinewidth\": 2}, \"yaxis\": {\"automargin\": true, \"gridcolor\": \"white\", \"linecolor\": \"white\", \"ticks\": \"\", \"title\": {\"standoff\": 15}, \"zerolinecolor\": \"white\", \"zerolinewidth\": 2}}}, \"title\": {\"text\": \"Proportion of additives for bio and regular products for different food categories.\", \"x\": 0.5, \"xanchor\": \"center\", \"y\": 0.95, \"yanchor\": \"top\"}, \"updatemenus\": [{\"buttons\": [{\"args\": [{\"visible\": [true, true, false, false, false, false, false, false, false, false, false, false, false, false, false, false]}], \"label\": \"meat, fish, egg\", \"method\": \"update\"}, {\"args\": [{\"visible\": [false, false, true, true, false, false, false, false, false, false, false, false, false, false, false, false]}], \"label\": \"fruit, vegetable\", \"method\": \"update\"}, {\"args\": [{\"visible\": [false, false, false, false, true, true, false, false, false, false, false, false, false, false, false, false]}], \"label\": \"cereal\", \"method\": \"update\"}, {\"args\": [{\"visible\": [false, false, false, false, false, false, true, true, false, false, false, false, false, false, false, false]}], \"label\": \"drink\", \"method\": \"update\"}, {\"args\": [{\"visible\": [false, false, false, false, false, false, false, false, true, true, false, false, false, false, false, false]}], \"label\": \"dairy\", \"method\": \"update\"}, {\"args\": [{\"visible\": [false, false, false, false, false, false, false, false, false, false, true, true, false, false, false, false]}], \"label\": \"cooking ingredient\", \"method\": \"update\"}, {\"args\": [{\"visible\": [false, false, false, false, false, false, false, false, false, false, false, false, true, true, false, false]}], \"label\": \"fat\", \"method\": \"update\"}, {\"args\": [{\"visible\": [false, false, false, false, false, false, false, false, false, false, false, false, false, false, true, true]}], \"label\": \"sugary product\", \"method\": \"update\"}], \"direction\": \"down\", \"showactive\": true, \"x\": 0.1, \"xanchor\": \"left\", \"y\": 1.1, \"yanchor\": \"top\"}]},\n",
       "                        {\"responsive\": true}\n",
       "                    ).then(function(){\n",
       "                            \n",
       "var gd = document.getElementById('105249ff-83f5-43ef-9c61-be2258f217e9');\n",
       "var x = new MutationObserver(function (mutations, observer) {{\n",
       "        var display = window.getComputedStyle(gd).display;\n",
       "        if (!display || display === 'none') {{\n",
       "            console.log([gd, 'removed!']);\n",
       "            Plotly.purge(gd);\n",
       "            observer.disconnect();\n",
       "        }}\n",
       "}});\n",
       "\n",
       "// Listen for the removal of the full notebook cells\n",
       "var notebookContainer = gd.closest('#notebook-container');\n",
       "if (notebookContainer) {{\n",
       "    x.observe(notebookContainer, {childList: true});\n",
       "}}\n",
       "\n",
       "// Listen for the clearing of the current output cell\n",
       "var outputEl = gd.closest('.output');\n",
       "if (outputEl) {{\n",
       "    x.observe(outputEl, {childList: true});\n",
       "}}\n",
       "\n",
       "                        })\n",
       "                };\n",
       "                });\n",
       "            </script>\n",
       "        </div>"
      ]
     },
     "metadata": {},
     "output_type": "display_data"
    }
   ],
   "source": [
    "updatemenus = [\n",
    "    {\n",
    "        'buttons': list(),\n",
    "        'direction': 'down',\n",
    "        'showactive': True,\n",
    "        'x':0.1,\n",
    "        'xanchor':\"left\",\n",
    "        'y':1.1,\n",
    "        'yanchor':\"top\"\n",
    "    }\n",
    "]\n",
    "fig = go.Figure()\n",
    "n_cat = len(list(categories.keys()))\n",
    "\n",
    "vect_parent = []\n",
    "\n",
    "for cat in categories.keys():\n",
    "    fig = compute_sub_element(fig, additive_summary_df, cat, 'radar')\n",
    "    vect = np.full(n_cat*2, False, dtype=bool)\n",
    "    vect_parent = construct_bool_visibility(vect, cat, list(categories.keys()))\n",
    "    updatemenus[0]['buttons'].append({'method': 'update',\n",
    "                                      'label': cat,\n",
    "                                      'args' : [\n",
    "                                          {'visible': vect_parent}\n",
    "                                      ]})\n",
    "    \n",
    "\n",
    "fig.update_layout(updatemenus=updatemenus,\n",
    "                  title=dict(text='Proportion of additives for bio and regular products for different food categories.',\n",
    "                             xanchor= 'center',\n",
    "                             yanchor= 'top',\n",
    "                             x = 0.5,\n",
    "                             y = 0.95),\n",
    "                  polar = dict(radialaxis_angle = 90,\n",
    "                               bgcolor='rgba(0.5,0.5,0.5,0.1)',\n",
    "                               )\n",
    "                 )\n",
    "fig.update_yaxes()\n",
    "fig.show()\n",
    "fig.write_json('additiveplot.json')"
   ]
  },
  {
   "cell_type": "markdown",
   "metadata": {},
   "source": [
    "### Wordcloud for the categories\n",
    "\n",
    "To install the latest version of the library:\n",
    "\n",
    "```bash\n",
    "git clone https://github.com/amueller/word_cloud.git\n",
    "cd word_cloud\n",
    "pip install .\n",
    "```"
   ]
  },
  {
   "cell_type": "code",
   "execution_count": 549,
   "metadata": {
    "ExecuteTime": {
     "end_time": "2019-12-15T19:06:33.729550Z",
     "start_time": "2019-12-15T19:06:33.288106Z"
    }
   },
   "outputs": [],
   "source": [
    "from wordcloud import WordCloud, STOPWORDS, ImageColorGenerator\n",
    "from PIL import Image"
   ]
  },
  {
   "cell_type": "code",
   "execution_count": 550,
   "metadata": {
    "ExecuteTime": {
     "end_time": "2019-12-15T20:06:16.260341Z",
     "start_time": "2019-12-15T20:06:16.254049Z"
    }
   },
   "outputs": [],
   "source": [
    "def create_wordcloud(words, image, save_path=None):\n",
    "    \n",
    "    # Wordcloud expects the transparency color to be white with alpha=0\n",
    "    image[(image == (0, 0, 0, 0)).all(axis=2)] = (255, 255, 255, 0)\n",
    "    \n",
    "    result_wordcloud = WordCloud(stopwords=stop_words, mask=image, background_color='white', mode=\"RGBA\", \n",
    "                                 prefer_horizontal=0.8, max_words=1000).generate(words)\n",
    "\n",
    "    # create coloring from image\n",
    "    image_colors = ImageColorGenerator(image)\n",
    "    plt.figure(figsize=[7,7])\n",
    "    plt.imshow(result_wordcloud.recolor(color_func=image_colors), interpolation=\"bilinear\")\n",
    "    plt.axis(\"off\")\n",
    "\n",
    "    if save_path:\n",
    "        result_wordcloud.to_file(save_path)\n",
    "\n",
    "    plt.show()"
   ]
  },
  {
   "cell_type": "code",
   "execution_count": 551,
   "metadata": {
    "ExecuteTime": {
     "end_time": "2019-12-15T20:10:32.356787Z",
     "start_time": "2019-12-15T20:10:29.931501Z"
    }
   },
   "outputs": [
    {
     "data": {
      "image/png": "[encoded data removed]",
      "text/plain": [
       "<Figure size 504x504 with 1 Axes>"
      ]
     },
     "metadata": {
      "needs_background": "light"
     },
     "output_type": "display_data"
    },
    {
     "data": {
      "image/png": "[encoded data removed]",
      "text/plain": [
       "<Figure size 504x504 with 1 Axes>"
      ]
     },
     "metadata": {
      "needs_background": "light"
     },
     "output_type": "display_data"
    }
   ],
   "source": [
    "bread = np.array(Image.open(\"images/fish.png\"))\n",
    "\n",
    "plt.figure(figsize=[7,7])\n",
    "plt.imshow(bread, interpolation=\"bilinear\")\n",
    "plt.axis(\"off\")\n",
    "plt.show()\n",
    "\n",
    "df = sub_categories_df_dict['meat, fish, egg']['fish']\n",
    "\n",
    "words = ' '.join(df['product_name'].astype(str).values)\n",
    "\n",
    "create_wordcloud(words, image=bread, save_path='images/fish_wc.png')"
   ]
  },
  {
   "cell_type": "code",
   "execution_count": null,
   "metadata": {},
   "outputs": [],
   "source": []
  }
 ],
 "metadata": {
  "kernelspec": {
   "display_name": "Python 3",
   "language": "python",
   "name": "python3"
  },
  "language_info": {
   "codemirror_mode": {
    "name": "ipython",
    "version": 3
   },
   "file_extension": ".py",
   "mimetype": "text/x-python",
   "name": "python",
   "nbconvert_exporter": "python",
   "pygments_lexer": "ipython3",
   "version": "3.7.3"
  },
  "toc": {
   "base_numbering": 1,
   "nav_menu": {},
   "number_sections": true,
   "sideBar": true,
   "skip_h1_title": false,
   "title_cell": "Table of Contents",
   "title_sidebar": "Contents",
   "toc_cell": false,
   "toc_position": {},
   "toc_section_display": true,
   "toc_window_display": false
  },
  "varInspector": {
   "cols": {
    "lenName": 16,
    "lenType": 16,
    "lenVar": 40
   },
   "kernels_config": {
    "python": {
     "delete_cmd_postfix": "",
     "delete_cmd_prefix": "del ",
     "library": "var_list.py",
     "varRefreshCmd": "print(var_dic_list())"
    },
    "r": {
     "delete_cmd_postfix": ") ",
     "delete_cmd_prefix": "rm(",
     "library": "var_list.r",
     "varRefreshCmd": "cat(var_dic_list()) "
    }
   },
   "types_to_exclude": [
    "module",
    "function",
    "builtin_function_or_method",
    "instance",
    "_Feature"
   ],
   "window_display": false
  }
 },
 "nbformat": 4,
 "nbformat_minor": 2
}
