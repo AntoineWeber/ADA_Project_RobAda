{
 "cells": [
  {
   "cell_type": "markdown",
   "metadata": {},
   "source": [
    "# FREE DIVING INTO FOOD FACTS"
   ]
  },
  {
   "cell_type": "markdown",
   "metadata": {},
   "source": [
    "## Applied data anaylsis - Course Project "
   ]
  },
  {
   "cell_type": "markdown",
   "metadata": {},
   "source": [
    "In this notebook , we try to clean and prepare the dataset to answer the 4th question proposed in the readme.   \n",
    "**How do ingredients or categories influence the selected nutrition scores?** "
   ]
  },
  {
   "cell_type": "markdown",
   "metadata": {},
   "source": [
    "## Imports needed "
   ]
  },
  {
   "cell_type": "code",
   "execution_count": null,
   "metadata": {},
   "outputs": [],
   "source": [
    "import pandas as pd\n",
    "import numpy as np\n",
    "import matplotlib.pyplot as plt\n",
    "import seaborn as sns\n",
    "import statsmodels.formula.api as sm\n",
    "import re\n",
    "import sqlite3\n",
    "from datetime import datetime\n",
    "from sklearn.model_selection import train_test_split\n",
    "from sklearn.linear_model import Ridge # https://scikit-learn.org/stable/modules/generated/sklearn.linear_model.Ridge.html\n",
    "from sklearn.model_selection import GridSearchCV\n",
    "from sklearn.preprocessing import MinMaxScaler\n",
    "%matplotlib inline"
   ]
  },
  {
   "cell_type": "markdown",
   "metadata": {},
   "source": [
    "## Loading the dataset "
   ]
  },
  {
   "cell_type": "code",
   "execution_count": null,
   "metadata": {},
   "outputs": [],
   "source": [
    "food_facts_df = pd.read_csv('data/en.openfoodfacts.org.products.csv', sep='\\t',low_memory=False)"
   ]
  },
  {
   "cell_type": "code",
   "execution_count": null,
   "metadata": {},
   "outputs": [],
   "source": [
    "print('There are {:,} rows '.format(food_facts_df.shape[0]) + 'and {} columns in our data'.format(food_facts_df.shape[1]))\n"
   ]
  },
  {
   "cell_type": "code",
   "execution_count": null,
   "metadata": {
    "scrolled": false
   },
   "outputs": [],
   "source": [
    "food_facts_df.head()"
   ]
  },
  {
   "cell_type": "markdown",
   "metadata": {},
   "source": [
    "## Data Cleaning "
   ]
  },
  {
   "cell_type": "markdown",
   "metadata": {},
   "source": [
    "The code for each row seems to be unique, let's see if it's the case. "
   ]
  },
  {
   "cell_type": "code",
   "execution_count": null,
   "metadata": {
    "scrolled": true
   },
   "outputs": [],
   "source": [
    "print(\"We have {} rows in the dataset\".format(food_facts_df.shape[0]))\n",
    "print(\"We have {} different code in the dataset\".format((np.unique(food_facts_df['code']).shape[0])))"
   ]
  },
  {
   "cell_type": "markdown",
   "metadata": {},
   "source": [
    "Indeed, the code is unique for each row of the dataset except for a small number of duplicates. Let's check that. "
   ]
  },
  {
   "cell_type": "code",
   "execution_count": null,
   "metadata": {},
   "outputs": [],
   "source": [
    "number_duplicates=food_facts_df['code'].duplicated()\n",
    "print(\"We have {} duplicated code\".format(number_duplicates.value_counts()[1]))"
   ]
  },
  {
   "cell_type": "markdown",
   "metadata": {},
   "source": [
    "Let's start by dropping these duplicated rows:"
   ]
  },
  {
   "cell_type": "code",
   "execution_count": 7,
   "metadata": {
    "scrolled": true
   },
   "outputs": [
    {
     "name": "stdout",
     "output_type": "stream",
     "text": [
      "We have 1029238 rows in the dataset after dropping the duplicates.\n"
     ]
    }
   ],
   "source": [
    "food_facts_df.drop_duplicates(subset=['code'],inplace=True)\n",
    "print(\"We have {} rows in the dataset after dropping the duplicates.\".format(food_facts_df.shape[0]))"
   ]
  },
  {
   "cell_type": "markdown",
   "metadata": {},
   "source": [
    "Great! We have now a unique code for each row. We can set the code as an index for the whole dataset."
   ]
  },
  {
   "cell_type": "code",
   "execution_count": 8,
   "metadata": {},
   "outputs": [],
   "source": [
    "#lets fix the code as indes \n",
    "food_facts_df.set_index('code', inplace=True)"
   ]
  },
  {
   "cell_type": "code",
   "execution_count": 9,
   "metadata": {},
   "outputs": [
    {
     "data": {
      "text/html": [
       "<div>\n",
       "<style scoped>\n",
       "    .dataframe tbody tr th:only-of-type {\n",
       "        vertical-align: middle;\n",
       "    }\n",
       "\n",
       "    .dataframe tbody tr th {\n",
       "        vertical-align: top;\n",
       "    }\n",
       "\n",
       "    .dataframe thead th {\n",
       "        text-align: right;\n",
       "    }\n",
       "</style>\n",
       "<table border=\"1\" class=\"dataframe\">\n",
       "  <thead>\n",
       "    <tr style=\"text-align: right;\">\n",
       "      <th></th>\n",
       "      <th>url</th>\n",
       "      <th>creator</th>\n",
       "      <th>created_t</th>\n",
       "      <th>created_datetime</th>\n",
       "      <th>last_modified_t</th>\n",
       "      <th>last_modified_datetime</th>\n",
       "      <th>product_name</th>\n",
       "      <th>generic_name</th>\n",
       "      <th>quantity</th>\n",
       "      <th>packaging</th>\n",
       "      <th>...</th>\n",
       "      <th>carbon-footprint-from-meat-or-fish_100g</th>\n",
       "      <th>nutrition-score-fr_100g</th>\n",
       "      <th>nutrition-score-uk_100g</th>\n",
       "      <th>glycemic-index_100g</th>\n",
       "      <th>water-hardness_100g</th>\n",
       "      <th>choline_100g</th>\n",
       "      <th>phylloquinone_100g</th>\n",
       "      <th>beta-glucan_100g</th>\n",
       "      <th>inositol_100g</th>\n",
       "      <th>carnitine_100g</th>\n",
       "    </tr>\n",
       "    <tr>\n",
       "      <th>code</th>\n",
       "      <th></th>\n",
       "      <th></th>\n",
       "      <th></th>\n",
       "      <th></th>\n",
       "      <th></th>\n",
       "      <th></th>\n",
       "      <th></th>\n",
       "      <th></th>\n",
       "      <th></th>\n",
       "      <th></th>\n",
       "      <th></th>\n",
       "      <th></th>\n",
       "      <th></th>\n",
       "      <th></th>\n",
       "      <th></th>\n",
       "      <th></th>\n",
       "      <th></th>\n",
       "      <th></th>\n",
       "      <th></th>\n",
       "      <th></th>\n",
       "      <th></th>\n",
       "    </tr>\n",
       "  </thead>\n",
       "  <tbody>\n",
       "    <tr>\n",
       "      <td>0000000000017</td>\n",
       "      <td>http://world-en.openfoodfacts.org/product/0000...</td>\n",
       "      <td>kiliweb</td>\n",
       "      <td>1529059080</td>\n",
       "      <td>2018-06-15T10:38:00Z</td>\n",
       "      <td>1561463718</td>\n",
       "      <td>2019-06-25T11:55:18Z</td>\n",
       "      <td>Vitória crackers</td>\n",
       "      <td>NaN</td>\n",
       "      <td>NaN</td>\n",
       "      <td>NaN</td>\n",
       "      <td>...</td>\n",
       "      <td>NaN</td>\n",
       "      <td>NaN</td>\n",
       "      <td>NaN</td>\n",
       "      <td>NaN</td>\n",
       "      <td>NaN</td>\n",
       "      <td>NaN</td>\n",
       "      <td>NaN</td>\n",
       "      <td>NaN</td>\n",
       "      <td>NaN</td>\n",
       "      <td>NaN</td>\n",
       "    </tr>\n",
       "    <tr>\n",
       "      <td>0000000000031</td>\n",
       "      <td>http://world-en.openfoodfacts.org/product/0000...</td>\n",
       "      <td>isagoofy</td>\n",
       "      <td>1539464774</td>\n",
       "      <td>2018-10-13T21:06:14Z</td>\n",
       "      <td>1539464817</td>\n",
       "      <td>2018-10-13T21:06:57Z</td>\n",
       "      <td>Cacao</td>\n",
       "      <td>NaN</td>\n",
       "      <td>130 g</td>\n",
       "      <td>NaN</td>\n",
       "      <td>...</td>\n",
       "      <td>NaN</td>\n",
       "      <td>NaN</td>\n",
       "      <td>NaN</td>\n",
       "      <td>NaN</td>\n",
       "      <td>NaN</td>\n",
       "      <td>NaN</td>\n",
       "      <td>NaN</td>\n",
       "      <td>NaN</td>\n",
       "      <td>NaN</td>\n",
       "      <td>NaN</td>\n",
       "    </tr>\n",
       "    <tr>\n",
       "      <td>0000000000100</td>\n",
       "      <td>http://world-en.openfoodfacts.org/product/0000...</td>\n",
       "      <td>del51</td>\n",
       "      <td>1444572561</td>\n",
       "      <td>2015-10-11T14:09:21Z</td>\n",
       "      <td>1444659212</td>\n",
       "      <td>2015-10-12T14:13:32Z</td>\n",
       "      <td>moutarde au moût de raisin</td>\n",
       "      <td>NaN</td>\n",
       "      <td>100g</td>\n",
       "      <td>NaN</td>\n",
       "      <td>...</td>\n",
       "      <td>NaN</td>\n",
       "      <td>18.0</td>\n",
       "      <td>18.0</td>\n",
       "      <td>NaN</td>\n",
       "      <td>NaN</td>\n",
       "      <td>NaN</td>\n",
       "      <td>NaN</td>\n",
       "      <td>NaN</td>\n",
       "      <td>NaN</td>\n",
       "      <td>NaN</td>\n",
       "    </tr>\n",
       "    <tr>\n",
       "      <td>00000000001111111111</td>\n",
       "      <td>http://world-en.openfoodfacts.org/product/0000...</td>\n",
       "      <td>openfoodfacts-contributors</td>\n",
       "      <td>1560020173</td>\n",
       "      <td>2019-06-08T18:56:13Z</td>\n",
       "      <td>1560020173</td>\n",
       "      <td>2019-06-08T18:56:13Z</td>\n",
       "      <td>Sfiudwx</td>\n",
       "      <td>NaN</td>\n",
       "      <td>dgesc</td>\n",
       "      <td>NaN</td>\n",
       "      <td>...</td>\n",
       "      <td>NaN</td>\n",
       "      <td>NaN</td>\n",
       "      <td>NaN</td>\n",
       "      <td>NaN</td>\n",
       "      <td>NaN</td>\n",
       "      <td>NaN</td>\n",
       "      <td>NaN</td>\n",
       "      <td>NaN</td>\n",
       "      <td>NaN</td>\n",
       "      <td>NaN</td>\n",
       "    </tr>\n",
       "    <tr>\n",
       "      <td>0000000000123</td>\n",
       "      <td>http://world-en.openfoodfacts.org/product/0000...</td>\n",
       "      <td>kiliweb</td>\n",
       "      <td>1535737982</td>\n",
       "      <td>2018-08-31T17:53:02Z</td>\n",
       "      <td>1535737986</td>\n",
       "      <td>2018-08-31T17:53:06Z</td>\n",
       "      <td>Sauce Sweety chili 0%</td>\n",
       "      <td>NaN</td>\n",
       "      <td>NaN</td>\n",
       "      <td>NaN</td>\n",
       "      <td>...</td>\n",
       "      <td>NaN</td>\n",
       "      <td>NaN</td>\n",
       "      <td>NaN</td>\n",
       "      <td>NaN</td>\n",
       "      <td>NaN</td>\n",
       "      <td>NaN</td>\n",
       "      <td>NaN</td>\n",
       "      <td>NaN</td>\n",
       "      <td>NaN</td>\n",
       "      <td>NaN</td>\n",
       "    </tr>\n",
       "  </tbody>\n",
       "</table>\n",
       "<p>5 rows × 174 columns</p>\n",
       "</div>"
      ],
      "text/plain": [
       "                                                                    url  \\\n",
       "code                                                                      \n",
       "0000000000017         http://world-en.openfoodfacts.org/product/0000...   \n",
       "0000000000031         http://world-en.openfoodfacts.org/product/0000...   \n",
       "0000000000100         http://world-en.openfoodfacts.org/product/0000...   \n",
       "00000000001111111111  http://world-en.openfoodfacts.org/product/0000...   \n",
       "0000000000123         http://world-en.openfoodfacts.org/product/0000...   \n",
       "\n",
       "                                         creator   created_t  \\\n",
       "code                                                           \n",
       "0000000000017                            kiliweb  1529059080   \n",
       "0000000000031                           isagoofy  1539464774   \n",
       "0000000000100                              del51  1444572561   \n",
       "00000000001111111111  openfoodfacts-contributors  1560020173   \n",
       "0000000000123                            kiliweb  1535737982   \n",
       "\n",
       "                          created_datetime  last_modified_t  \\\n",
       "code                                                          \n",
       "0000000000017         2018-06-15T10:38:00Z       1561463718   \n",
       "0000000000031         2018-10-13T21:06:14Z       1539464817   \n",
       "0000000000100         2015-10-11T14:09:21Z       1444659212   \n",
       "00000000001111111111  2019-06-08T18:56:13Z       1560020173   \n",
       "0000000000123         2018-08-31T17:53:02Z       1535737986   \n",
       "\n",
       "                     last_modified_datetime                  product_name  \\\n",
       "code                                                                        \n",
       "0000000000017          2019-06-25T11:55:18Z              Vitória crackers   \n",
       "0000000000031          2018-10-13T21:06:57Z                         Cacao   \n",
       "0000000000100          2015-10-12T14:13:32Z   moutarde au moût de raisin    \n",
       "00000000001111111111   2019-06-08T18:56:13Z                       Sfiudwx   \n",
       "0000000000123          2018-08-31T17:53:06Z         Sauce Sweety chili 0%   \n",
       "\n",
       "                     generic_name quantity packaging  ...  \\\n",
       "code                                                  ...   \n",
       "0000000000017                 NaN      NaN       NaN  ...   \n",
       "0000000000031                 NaN    130 g       NaN  ...   \n",
       "0000000000100                 NaN     100g       NaN  ...   \n",
       "00000000001111111111          NaN    dgesc       NaN  ...   \n",
       "0000000000123                 NaN      NaN       NaN  ...   \n",
       "\n",
       "                     carbon-footprint-from-meat-or-fish_100g  \\\n",
       "code                                                           \n",
       "0000000000017                                            NaN   \n",
       "0000000000031                                            NaN   \n",
       "0000000000100                                            NaN   \n",
       "00000000001111111111                                     NaN   \n",
       "0000000000123                                            NaN   \n",
       "\n",
       "                     nutrition-score-fr_100g nutrition-score-uk_100g  \\\n",
       "code                                                                   \n",
       "0000000000017                            NaN                     NaN   \n",
       "0000000000031                            NaN                     NaN   \n",
       "0000000000100                           18.0                    18.0   \n",
       "00000000001111111111                     NaN                     NaN   \n",
       "0000000000123                            NaN                     NaN   \n",
       "\n",
       "                     glycemic-index_100g water-hardness_100g choline_100g  \\\n",
       "code                                                                        \n",
       "0000000000017                        NaN                 NaN          NaN   \n",
       "0000000000031                        NaN                 NaN          NaN   \n",
       "0000000000100                        NaN                 NaN          NaN   \n",
       "00000000001111111111                 NaN                 NaN          NaN   \n",
       "0000000000123                        NaN                 NaN          NaN   \n",
       "\n",
       "                     phylloquinone_100g beta-glucan_100g inositol_100g  \\\n",
       "code                                                                     \n",
       "0000000000017                       NaN              NaN           NaN   \n",
       "0000000000031                       NaN              NaN           NaN   \n",
       "0000000000100                       NaN              NaN           NaN   \n",
       "00000000001111111111                NaN              NaN           NaN   \n",
       "0000000000123                       NaN              NaN           NaN   \n",
       "\n",
       "                     carnitine_100g  \n",
       "code                                 \n",
       "0000000000017                   NaN  \n",
       "0000000000031                   NaN  \n",
       "0000000000100                   NaN  \n",
       "00000000001111111111            NaN  \n",
       "0000000000123                   NaN  \n",
       "\n",
       "[5 rows x 174 columns]"
      ]
     },
     "execution_count": 9,
     "metadata": {},
     "output_type": "execute_result"
    }
   ],
   "source": [
    "food_facts_df.head(5)"
   ]
  },
  {
   "cell_type": "markdown",
   "metadata": {},
   "source": [
    "As we can see from the 5 first rows in the dataset, the data is messy and has a huge number of NaNs.We need a huge data cleaning."
   ]
  },
  {
   "cell_type": "markdown",
   "metadata": {},
   "source": [
    "Before dealing with NaNs, let's try to see what are the different columns of the dataset "
   ]
  },
  {
   "cell_type": "code",
   "execution_count": 10,
   "metadata": {},
   "outputs": [
    {
     "data": {
      "text/plain": [
       "Index(['url', 'creator', 'created_t', 'created_datetime', 'last_modified_t',\n",
       "       'last_modified_datetime', 'product_name', 'generic_name', 'quantity',\n",
       "       'packaging',\n",
       "       ...\n",
       "       'carbon-footprint-from-meat-or-fish_100g', 'nutrition-score-fr_100g',\n",
       "       'nutrition-score-uk_100g', 'glycemic-index_100g', 'water-hardness_100g',\n",
       "       'choline_100g', 'phylloquinone_100g', 'beta-glucan_100g',\n",
       "       'inositol_100g', 'carnitine_100g'],\n",
       "      dtype='object', length=174)"
      ]
     },
     "execution_count": 10,
     "metadata": {},
     "output_type": "execute_result"
    }
   ],
   "source": [
    "food_facts_df.columns"
   ]
  },
  {
   "cell_type": "markdown",
   "metadata": {},
   "source": [
    "As we can see, each row of this dataset in created by an editor. This allows us to ask the following question:"
   ]
  },
  {
   "cell_type": "markdown",
   "metadata": {},
   "source": [
    "### Can we trust Open Food Facts dataset?"
   ]
  },
  {
   "cell_type": "markdown",
   "metadata": {},
   "source": [
    "The creators of each row of the dataset are provided as a field. Let's try to see who are the main contributors to this data before starting to analyze it."
   ]
  },
  {
   "cell_type": "code",
   "execution_count": 11,
   "metadata": {},
   "outputs": [
    {
     "name": "stdout",
     "output_type": "stream",
     "text": [
      "We have overall 9514 contributors\n"
     ]
    }
   ],
   "source": [
    "## Computing the number of contributors\n",
    "nb_contributors=food_facts_df['creator'].unique().shape[0]\n",
    "print(\"We have overall {} contributors\".format(nb_contributors))"
   ]
  },
  {
   "cell_type": "markdown",
   "metadata": {},
   "source": [
    "Let's see how many contributions each creator has in the dataset"
   ]
  },
  {
   "cell_type": "code",
   "execution_count": 12,
   "metadata": {},
   "outputs": [
    {
     "name": "stdout",
     "output_type": "stream",
     "text": [
      "The 10 main creators account for 89.0 % of all contributions \n",
      "\n",
      "                            counts  percentage\n",
      "kiliweb                     540476    0.525122\n",
      "usda-ndb-import             169854    0.165029\n",
      "openfoodfacts-contributors  116884    0.113564\n",
      "date-limite-app              25144    0.024430\n",
      "elcoco                       24829    0.024124\n",
      "openfood-ch-import           11459    0.011133\n",
      "sebleouf                     10140    0.009852\n",
      "tacite                        8505    0.008263\n",
      "tacinte                       5556    0.005398\n",
      "waistline-app                 4467    0.004340\n"
     ]
    }
   ],
   "source": [
    "# Computing the contributions \n",
    "counts = food_facts_df['creator'].value_counts()\n",
    "counts = counts.to_frame(name='counts')\n",
    "counts['percentage'] = counts['counts']/food_facts_df.shape[0]\n",
    "\n",
    "# Extracting only the top find and calculating the percentage of contribution\n",
    "top_10 = round(sum(counts[0:10]['percentage']),2)*100\n",
    "print(\"The 10 main\", 'creators',\"account for\", top_10,\"% of all contributions \\n\")\n",
    "print(counts.head(10))"
   ]
  },
  {
   "cell_type": "markdown",
   "metadata": {},
   "source": [
    "After googling these 5 main contributors we can easily identify them: \n",
    "* `kiliweb` represnets the YUKA app (a French app aiming to compare the products bases on different criterions)\n",
    "* `usda` represnets United States Department of Agriculture \n",
    "* `openfoodfacts-contributors` a bench of 20 main contributors.\n",
    "* `data-limite-app` food application available for ios and androids users. (French app)\n",
    "* `Elcoco` also a food application (spanish app)\n",
    "* `openfood-ch-import` seems to be openfood contributors from Switzerland"
   ]
  },
  {
   "cell_type": "markdown",
   "metadata": {},
   "source": [
    "These 6 sources of contributions seem to be reliable since we can clearly understand where the data comes from."
   ]
  },
  {
   "cell_type": "code",
   "execution_count": 13,
   "metadata": {},
   "outputs": [],
   "source": [
    "#Getting the top 6\n",
    "top5_cont=counts.head(6).index"
   ]
  },
  {
   "cell_type": "code",
   "execution_count": 14,
   "metadata": {},
   "outputs": [],
   "source": [
    "food_facts_df=food_facts_df.loc[food_facts_df['creator'].isin([top5_cont[0],top5_cont[1],top5_cont[2],top5_cont[3],top5_cont[4],top5_cont[5]])]"
   ]
  },
  {
   "cell_type": "code",
   "execution_count": 15,
   "metadata": {
    "scrolled": true
   },
   "outputs": [
    {
     "name": "stdout",
     "output_type": "stream",
     "text": [
      "There are 888,646 rows and 174 columns in our data\n"
     ]
    }
   ],
   "source": [
    "print('There are {:,} rows '.format(food_facts_df.shape[0]) + 'and {} columns in our data'.format(food_facts_df.shape[1]))"
   ]
  },
  {
   "cell_type": "markdown",
   "metadata": {},
   "source": [
    "This dataset is provided with a text file describing the different fields as follows : \n",
    "- fields that end with _t are dates in the UNIX timestamp format (number of seconds since Jan 1st 1970)\n",
    "- fields that end with _datetime are dates in the iso8601 format: yyyy-mm-ddThh:mn:ssZ\n",
    "- fields that end with _tags are comma separated list of tags (e.g. categories_tags is the set of normalized tags computer from the categories field)\n",
    "- fields that end with a language 2 letter code (e.g. fr for French) is the set of tags in that language\n",
    "- fields that end with _100g correspond to the amount of a nutriment (in g, or kJ for energy) for 100 g or 100 ml of product\n",
    "- fields that end with _serving correspond to the amount of a nutriment (in g, or kJ for energy) for 1 serving of the product\n"
   ]
  },
  {
   "cell_type": "code",
   "execution_count": 16,
   "metadata": {},
   "outputs": [
    {
     "data": {
      "text/plain": [
       "url                    object\n",
       "creator                object\n",
       "created_t               int64\n",
       "created_datetime       object\n",
       "last_modified_t         int64\n",
       "                       ...   \n",
       "choline_100g          float64\n",
       "phylloquinone_100g    float64\n",
       "beta-glucan_100g      float64\n",
       "inositol_100g         float64\n",
       "carnitine_100g        float64\n",
       "Length: 174, dtype: object"
      ]
     },
     "execution_count": 16,
     "metadata": {},
     "output_type": "execute_result"
    }
   ],
   "source": [
    "#checking the types for each feature\n",
    "food_facts_df.dtypes"
   ]
  },
  {
   "cell_type": "markdown",
   "metadata": {},
   "source": [
    "We will exclude all non float features (i.e object). "
   ]
  },
  {
   "cell_type": "code",
   "execution_count": 17,
   "metadata": {},
   "outputs": [],
   "source": [
    "food_facts_df = food_facts_df.select_dtypes(include=[np.float])"
   ]
  },
  {
   "cell_type": "code",
   "execution_count": 18,
   "metadata": {},
   "outputs": [
    {
     "data": {
      "text/plain": [
       "Index(['cities', 'allergens_en', 'serving_quantity', 'no_nutriments',\n",
       "       'additives_n', 'ingredients_from_palm_oil_n',\n",
       "       'ingredients_from_palm_oil', 'ingredients_that_may_be_from_palm_oil_n',\n",
       "       'ingredients_that_may_be_from_palm_oil', 'nova_group',\n",
       "       ...\n",
       "       'carbon-footprint-from-meat-or-fish_100g', 'nutrition-score-fr_100g',\n",
       "       'nutrition-score-uk_100g', 'glycemic-index_100g', 'water-hardness_100g',\n",
       "       'choline_100g', 'phylloquinone_100g', 'beta-glucan_100g',\n",
       "       'inositol_100g', 'carnitine_100g'],\n",
       "      dtype='object', length=117)"
      ]
     },
     "execution_count": 18,
     "metadata": {},
     "output_type": "execute_result"
    }
   ],
   "source": [
    "food_facts_df.columns"
   ]
  },
  {
   "cell_type": "code",
   "execution_count": 19,
   "metadata": {
    "scrolled": true
   },
   "outputs": [
    {
     "name": "stdout",
     "output_type": "stream",
     "text": [
      "There are 888,646 rows and 117 columns left in our data\n"
     ]
    }
   ],
   "source": [
    "print('There are {:,} rows '.format(food_facts_df.shape[0]) + 'and {} columns left in our data'.format(food_facts_df.shape[1]))"
   ]
  },
  {
   "cell_type": "markdown",
   "metadata": {},
   "source": [
    "Let us now analyze the level of completness for each editor"
   ]
  },
  {
   "cell_type": "code",
   "execution_count": null,
   "metadata": {},
   "outputs": [],
   "source": [
    "food_facts_df=food_facts_df[food_facts_df['creator']!='kiliweb']"
   ]
  },
  {
   "cell_type": "markdown",
   "metadata": {},
   "source": [
    "\n",
    "### Dealing with NaNs"
   ]
  },
  {
   "cell_type": "markdown",
   "metadata": {},
   "source": [
    "Our dataset has a huge number of NaNs. Dropping all of them will lead to an empty data frame. \n",
    "As an efficient strategy to deal with these missing values, we will first count the number of NaNs from the dataset and then remove the features where the number of missing values exceeds a certain threshold. "
   ]
  },
  {
   "cell_type": "markdown",
   "metadata": {},
   "source": [
    "Let's count the number of nans for each feature: "
   ]
  },
  {
   "cell_type": "code",
   "execution_count": 20,
   "metadata": {},
   "outputs": [],
   "source": [
    "nutrition_facts_df=food_facts_df.copy()"
   ]
  },
  {
   "cell_type": "code",
   "execution_count": 21,
   "metadata": {},
   "outputs": [
    {
     "data": {
      "text/plain": [
       "energy_100g            165091\n",
       "proteins_100g          166341\n",
       "fat_100g               168234\n",
       "carbohydrates_100g     168364\n",
       "sugars_100g            177824\n",
       "                        ...  \n",
       "-mead-acid_100g        888646\n",
       "-erucic-acid_100g      888646\n",
       "-nervonic-acid_100g    888646\n",
       "-caprylic-acid_100g    888646\n",
       "cities                 888646\n",
       "Length: 117, dtype: int64"
      ]
     },
     "execution_count": 21,
     "metadata": {},
     "output_type": "execute_result"
    }
   ],
   "source": [
    "NaNs_distribution_series=nutrition_facts_df.isnull().sum().sort_values()\n",
    "NaNs_distribution_series"
   ]
  },
  {
   "cell_type": "markdown",
   "metadata": {},
   "source": [
    "Let us visualize the distribution of NaNs in the dataset"
   ]
  },
  {
   "cell_type": "code",
   "execution_count": 22,
   "metadata": {},
   "outputs": [
    {
     "data": {
      "image/png": "[encoded data removed]",
      "text/plain": [
       "<Figure size 1080x720 with 1 Axes>"
      ]
     },
     "metadata": {
      "needs_background": "light"
     },
     "output_type": "display_data"
    }
   ],
   "source": [
    "nutrition_facts_df.isnull().sum().plot(kind='hist', figsize=(15,10))\n",
    "plt.title('Distribution of NaNs')\n",
    "plt.xlabel('NaNs')\n",
    "\n",
    "plt.show()"
   ]
  },
  {
   "cell_type": "markdown",
   "metadata": {},
   "source": [
    "Many columns have a huge number of missing values(More than 85 columns with 350000 NaNs), let's try to remove some of them by playing with the threshold value.   \n",
    "We will plot the new distribution of NaNs. Our main objective is to remove this huge peak of frequency visualized in the plot above.   \n",
    "We tune the threshold with a trial and error to have a satisfactory result. "
   ]
  },
  {
   "cell_type": "code",
   "execution_count": 23,
   "metadata": {},
   "outputs": [
    {
     "name": "stdout",
     "output_type": "stream",
     "text": [
      "There are now 738,255 rows and 16 columns left in our data\n"
     ]
    }
   ],
   "source": [
    "nutrition_facts_thresh_df = nutrition_facts_df.dropna(axis=1, thresh= len(nutrition_facts_df)*0.2,how='all')\n",
    "nutrition_facts_thresh_df = nutrition_facts_thresh_df.dropna(axis=0, how='all')\n",
    "\n",
    "print('There are now {:,} rows '.format(nutrition_facts_thresh_df.shape[0]) + 'and {} columns left in our data'.format(nutrition_facts_thresh_df.shape[1]))"
   ]
  },
  {
   "cell_type": "code",
   "execution_count": 24,
   "metadata": {},
   "outputs": [
    {
     "data": {
      "image/png": "[encoded data removed]",
      "text/plain": [
       "<Figure size 1080x720 with 1 Axes>"
      ]
     },
     "metadata": {
      "needs_background": "light"
     },
     "output_type": "display_data"
    }
   ],
   "source": [
    "nutrition_facts_thresh_df.isnull().sum().plot(kind='hist', figsize=(15,10))\n",
    "plt.title('Distribution of NaNs')\n",
    "plt.xlabel('NaNs')\n",
    "\n",
    "plt.show()"
   ]
  },
  {
   "cell_type": "code",
   "execution_count": 25,
   "metadata": {},
   "outputs": [
    {
     "data": {
      "text/plain": [
       "energy_100g                                 14700\n",
       "proteins_100g                               15950\n",
       "fat_100g                                    17843\n",
       "carbohydrates_100g                          17973\n",
       "sugars_100g                                 27433\n",
       "salt_100g                                   29240\n",
       "sodium_100g                                 29281\n",
       "saturated-fat_100g                          42171\n",
       "additives_n                                389096\n",
       "ingredients_from_palm_oil_n                389096\n",
       "ingredients_that_may_be_from_palm_oil_n    389096\n",
       "fiber_100g                                 489602\n",
       "nova_group                                 498883\n",
       "serving_quantity                           514771\n",
       "nutrition-score-fr_100g                    520610\n",
       "nutrition-score-uk_100g                    520610\n",
       "dtype: int64"
      ]
     },
     "execution_count": 25,
     "metadata": {},
     "output_type": "execute_result"
    }
   ],
   "source": [
    "nutrition_facts_thresh_df.isnull().sum().sort_values()"
   ]
  },
  {
   "cell_type": "code",
   "execution_count": 26,
   "metadata": {},
   "outputs": [
    {
     "name": "stdout",
     "output_type": "stream",
     "text": [
      "We have now 738255 of samples with 16 fields\n"
     ]
    }
   ],
   "source": [
    "print (\"We have now {} of samples with {} fields\".format(nutrition_facts_thresh_df.shape[0],\n",
    "                                                         nutrition_facts_thresh_df.shape[1]))"
   ]
  },
  {
   "cell_type": "markdown",
   "metadata": {},
   "source": [
    "We think that this is the optimal way to decrease the number of NaNs in this dataset. Putting the threshold higher then the selected value will delete the nutrition score columns. "
   ]
  },
  {
   "cell_type": "markdown",
   "metadata": {},
   "source": [
    "After dealing with the missing values, let's check the statistics of our data. "
   ]
  },
  {
   "cell_type": "markdown",
   "metadata": {},
   "source": [
    "### Lets look at the stats"
   ]
  },
  {
   "cell_type": "code",
   "execution_count": 27,
   "metadata": {},
   "outputs": [
    {
     "data": {
      "text/html": [
       "<div>\n",
       "<style scoped>\n",
       "    .dataframe tbody tr th:only-of-type {\n",
       "        vertical-align: middle;\n",
       "    }\n",
       "\n",
       "    .dataframe tbody tr th {\n",
       "        vertical-align: top;\n",
       "    }\n",
       "\n",
       "    .dataframe thead th {\n",
       "        text-align: right;\n",
       "    }\n",
       "</style>\n",
       "<table border=\"1\" class=\"dataframe\">\n",
       "  <thead>\n",
       "    <tr style=\"text-align: right;\">\n",
       "      <th></th>\n",
       "      <th>serving_quantity</th>\n",
       "      <th>additives_n</th>\n",
       "      <th>ingredients_from_palm_oil_n</th>\n",
       "      <th>ingredients_that_may_be_from_palm_oil_n</th>\n",
       "      <th>nova_group</th>\n",
       "      <th>energy_100g</th>\n",
       "      <th>fat_100g</th>\n",
       "      <th>saturated-fat_100g</th>\n",
       "      <th>carbohydrates_100g</th>\n",
       "      <th>sugars_100g</th>\n",
       "      <th>fiber_100g</th>\n",
       "      <th>proteins_100g</th>\n",
       "      <th>salt_100g</th>\n",
       "      <th>sodium_100g</th>\n",
       "      <th>nutrition-score-fr_100g</th>\n",
       "      <th>nutrition-score-uk_100g</th>\n",
       "    </tr>\n",
       "  </thead>\n",
       "  <tbody>\n",
       "    <tr>\n",
       "      <td>count</td>\n",
       "      <td>2.234840e+05</td>\n",
       "      <td>349159.000000</td>\n",
       "      <td>349159.000000</td>\n",
       "      <td>349159.000000</td>\n",
       "      <td>239372.000000</td>\n",
       "      <td>7.235550e+05</td>\n",
       "      <td>7.204120e+05</td>\n",
       "      <td>6.960840e+05</td>\n",
       "      <td>720282.00000</td>\n",
       "      <td>7.108220e+05</td>\n",
       "      <td>2.486530e+05</td>\n",
       "      <td>7.223050e+05</td>\n",
       "      <td>7.090150e+05</td>\n",
       "      <td>7.089740e+05</td>\n",
       "      <td>217645.000000</td>\n",
       "      <td>217645.000000</td>\n",
       "    </tr>\n",
       "    <tr>\n",
       "      <td>mean</td>\n",
       "      <td>1.446762e+02</td>\n",
       "      <td>1.618644</td>\n",
       "      <td>0.025696</td>\n",
       "      <td>0.066027</td>\n",
       "      <td>3.665140</td>\n",
       "      <td>9.212235e+36</td>\n",
       "      <td>2.601427e+01</td>\n",
       "      <td>1.171675e+01</td>\n",
       "      <td>30.01567</td>\n",
       "      <td>2.078074e+01</td>\n",
       "      <td>2.122561e+02</td>\n",
       "      <td>1.313906e+02</td>\n",
       "      <td>1.164393e+02</td>\n",
       "      <td>4.679614e+01</td>\n",
       "      <td>9.509251</td>\n",
       "      <td>9.291833</td>\n",
       "    </tr>\n",
       "    <tr>\n",
       "      <td>std</td>\n",
       "      <td>1.622487e+04</td>\n",
       "      <td>2.321812</td>\n",
       "      <td>0.160081</td>\n",
       "      <td>0.301313</td>\n",
       "      <td>0.772107</td>\n",
       "      <td>7.836115e+39</td>\n",
       "      <td>1.030830e+04</td>\n",
       "      <td>5.380194e+03</td>\n",
       "      <td>1013.10020</td>\n",
       "      <td>5.426413e+03</td>\n",
       "      <td>1.020974e+05</td>\n",
       "      <td>1.044948e+05</td>\n",
       "      <td>9.606399e+04</td>\n",
       "      <td>3.842717e+04</td>\n",
       "      <td>8.712979</td>\n",
       "      <td>9.203235</td>\n",
       "    </tr>\n",
       "    <tr>\n",
       "      <td>min</td>\n",
       "      <td>0.000000e+00</td>\n",
       "      <td>0.000000</td>\n",
       "      <td>0.000000</td>\n",
       "      <td>0.000000</td>\n",
       "      <td>1.000000</td>\n",
       "      <td>0.000000e+00</td>\n",
       "      <td>0.000000e+00</td>\n",
       "      <td>0.000000e+00</td>\n",
       "      <td>0.00000</td>\n",
       "      <td>-1.786000e+01</td>\n",
       "      <td>-6.700000e+00</td>\n",
       "      <td>-8.000000e+02</td>\n",
       "      <td>0.000000e+00</td>\n",
       "      <td>0.000000e+00</td>\n",
       "      <td>-15.000000</td>\n",
       "      <td>-15.000000</td>\n",
       "    </tr>\n",
       "    <tr>\n",
       "      <td>25%</td>\n",
       "      <td>2.800000e+01</td>\n",
       "      <td>0.000000</td>\n",
       "      <td>0.000000</td>\n",
       "      <td>0.000000</td>\n",
       "      <td>4.000000</td>\n",
       "      <td>4.390000e+02</td>\n",
       "      <td>5.700000e-01</td>\n",
       "      <td>1.000000e-01</td>\n",
       "      <td>3.57000</td>\n",
       "      <td>7.000000e-01</td>\n",
       "      <td>0.000000e+00</td>\n",
       "      <td>1.100000e+00</td>\n",
       "      <td>6.000000e-02</td>\n",
       "      <td>2.400000e-02</td>\n",
       "      <td>2.000000</td>\n",
       "      <td>1.000000</td>\n",
       "    </tr>\n",
       "    <tr>\n",
       "      <td>50%</td>\n",
       "      <td>4.300000e+01</td>\n",
       "      <td>1.000000</td>\n",
       "      <td>0.000000</td>\n",
       "      <td>0.000000</td>\n",
       "      <td>4.000000</td>\n",
       "      <td>1.117000e+03</td>\n",
       "      <td>6.900000e+00</td>\n",
       "      <td>1.900000e+00</td>\n",
       "      <td>15.80000</td>\n",
       "      <td>4.000000e+00</td>\n",
       "      <td>1.500000e+00</td>\n",
       "      <td>5.700000e+00</td>\n",
       "      <td>5.300000e-01</td>\n",
       "      <td>2.116000e-01</td>\n",
       "      <td>10.000000</td>\n",
       "      <td>10.000000</td>\n",
       "    </tr>\n",
       "    <tr>\n",
       "      <td>75%</td>\n",
       "      <td>1.100000e+02</td>\n",
       "      <td>2.000000</td>\n",
       "      <td>0.000000</td>\n",
       "      <td>0.000000</td>\n",
       "      <td>4.000000</td>\n",
       "      <td>1.674000e+03</td>\n",
       "      <td>2.143000e+01</td>\n",
       "      <td>7.500000e+00</td>\n",
       "      <td>54.00000</td>\n",
       "      <td>2.080000e+01</td>\n",
       "      <td>3.600000e+00</td>\n",
       "      <td>1.200000e+01</td>\n",
       "      <td>1.370000e+00</td>\n",
       "      <td>5.445760e-01</td>\n",
       "      <td>16.000000</td>\n",
       "      <td>17.000000</td>\n",
       "    </tr>\n",
       "    <tr>\n",
       "      <td>max</td>\n",
       "      <td>6.495676e+06</td>\n",
       "      <td>30.000000</td>\n",
       "      <td>3.000000</td>\n",
       "      <td>5.000000</td>\n",
       "      <td>4.000000</td>\n",
       "      <td>6.665559e+42</td>\n",
       "      <td>8.748748e+06</td>\n",
       "      <td>4.488758e+06</td>\n",
       "      <td>857855.00000</td>\n",
       "      <td>4.574988e+06</td>\n",
       "      <td>5.089889e+07</td>\n",
       "      <td>8.880858e+07</td>\n",
       "      <td>8.088869e+07</td>\n",
       "      <td>3.235548e+07</td>\n",
       "      <td>40.000000</td>\n",
       "      <td>40.000000</td>\n",
       "    </tr>\n",
       "  </tbody>\n",
       "</table>\n",
       "</div>"
      ],
      "text/plain": [
       "       serving_quantity    additives_n  ingredients_from_palm_oil_n  \\\n",
       "count      2.234840e+05  349159.000000                349159.000000   \n",
       "mean       1.446762e+02       1.618644                     0.025696   \n",
       "std        1.622487e+04       2.321812                     0.160081   \n",
       "min        0.000000e+00       0.000000                     0.000000   \n",
       "25%        2.800000e+01       0.000000                     0.000000   \n",
       "50%        4.300000e+01       1.000000                     0.000000   \n",
       "75%        1.100000e+02       2.000000                     0.000000   \n",
       "max        6.495676e+06      30.000000                     3.000000   \n",
       "\n",
       "       ingredients_that_may_be_from_palm_oil_n     nova_group   energy_100g  \\\n",
       "count                            349159.000000  239372.000000  7.235550e+05   \n",
       "mean                                  0.066027       3.665140  9.212235e+36   \n",
       "std                                   0.301313       0.772107  7.836115e+39   \n",
       "min                                   0.000000       1.000000  0.000000e+00   \n",
       "25%                                   0.000000       4.000000  4.390000e+02   \n",
       "50%                                   0.000000       4.000000  1.117000e+03   \n",
       "75%                                   0.000000       4.000000  1.674000e+03   \n",
       "max                                   5.000000       4.000000  6.665559e+42   \n",
       "\n",
       "           fat_100g  saturated-fat_100g  carbohydrates_100g   sugars_100g  \\\n",
       "count  7.204120e+05        6.960840e+05        720282.00000  7.108220e+05   \n",
       "mean   2.601427e+01        1.171675e+01            30.01567  2.078074e+01   \n",
       "std    1.030830e+04        5.380194e+03          1013.10020  5.426413e+03   \n",
       "min    0.000000e+00        0.000000e+00             0.00000 -1.786000e+01   \n",
       "25%    5.700000e-01        1.000000e-01             3.57000  7.000000e-01   \n",
       "50%    6.900000e+00        1.900000e+00            15.80000  4.000000e+00   \n",
       "75%    2.143000e+01        7.500000e+00            54.00000  2.080000e+01   \n",
       "max    8.748748e+06        4.488758e+06        857855.00000  4.574988e+06   \n",
       "\n",
       "         fiber_100g  proteins_100g     salt_100g   sodium_100g  \\\n",
       "count  2.486530e+05   7.223050e+05  7.090150e+05  7.089740e+05   \n",
       "mean   2.122561e+02   1.313906e+02  1.164393e+02  4.679614e+01   \n",
       "std    1.020974e+05   1.044948e+05  9.606399e+04  3.842717e+04   \n",
       "min   -6.700000e+00  -8.000000e+02  0.000000e+00  0.000000e+00   \n",
       "25%    0.000000e+00   1.100000e+00  6.000000e-02  2.400000e-02   \n",
       "50%    1.500000e+00   5.700000e+00  5.300000e-01  2.116000e-01   \n",
       "75%    3.600000e+00   1.200000e+01  1.370000e+00  5.445760e-01   \n",
       "max    5.089889e+07   8.880858e+07  8.088869e+07  3.235548e+07   \n",
       "\n",
       "       nutrition-score-fr_100g  nutrition-score-uk_100g  \n",
       "count            217645.000000            217645.000000  \n",
       "mean                  9.509251                 9.291833  \n",
       "std                   8.712979                 9.203235  \n",
       "min                 -15.000000               -15.000000  \n",
       "25%                   2.000000                 1.000000  \n",
       "50%                  10.000000                10.000000  \n",
       "75%                  16.000000                17.000000  \n",
       "max                  40.000000                40.000000  "
      ]
     },
     "execution_count": 27,
     "metadata": {},
     "output_type": "execute_result"
    }
   ],
   "source": [
    "nutrition_facts_thresh_df.describe()"
   ]
  },
  {
   "cell_type": "markdown",
   "metadata": {},
   "source": [
    "Well, It seems that there is no difference between the `nutrition-score-fr_100g` and `nutrition-score-uk_100g`. Let's analyse that. "
   ]
  },
  {
   "cell_type": "code",
   "execution_count": 28,
   "metadata": {},
   "outputs": [
    {
     "data": {
      "image/png": "[encoded data removed]",
      "text/plain": [
       "<Figure size 720x360 with 2 Axes>"
      ]
     },
     "metadata": {
      "needs_background": "light"
     },
     "output_type": "display_data"
    }
   ],
   "source": [
    "nutrition_facts_thresh_df[['nutrition-score-fr_100g','nutrition-score-uk_100g']].select_dtypes(include=float).plot(kind='box', subplots=True, title='Our Data before Outlier-Elimination', figsize=(10,5))\n",
    "\n",
    "plt.show()"
   ]
  },
  {
   "cell_type": "markdown",
   "metadata": {},
   "source": [
    "As expected, the two scores has the same distribution except some outliers in the `nutrition-score-fr_100g`."
   ]
  },
  {
   "cell_type": "code",
   "execution_count": 29,
   "metadata": {
    "scrolled": true
   },
   "outputs": [
    {
     "data": {
      "text/html": [
       "<div>\n",
       "<style scoped>\n",
       "    .dataframe tbody tr th:only-of-type {\n",
       "        vertical-align: middle;\n",
       "    }\n",
       "\n",
       "    .dataframe tbody tr th {\n",
       "        vertical-align: top;\n",
       "    }\n",
       "\n",
       "    .dataframe thead th {\n",
       "        text-align: right;\n",
       "    }\n",
       "</style>\n",
       "<table border=\"1\" class=\"dataframe\">\n",
       "  <thead>\n",
       "    <tr style=\"text-align: right;\">\n",
       "      <th></th>\n",
       "      <th>serving_quantity</th>\n",
       "      <th>additives_n</th>\n",
       "      <th>ingredients_from_palm_oil_n</th>\n",
       "      <th>ingredients_that_may_be_from_palm_oil_n</th>\n",
       "      <th>nova_group</th>\n",
       "      <th>energy_100g</th>\n",
       "      <th>fat_100g</th>\n",
       "      <th>saturated-fat_100g</th>\n",
       "      <th>carbohydrates_100g</th>\n",
       "      <th>sugars_100g</th>\n",
       "      <th>fiber_100g</th>\n",
       "      <th>proteins_100g</th>\n",
       "      <th>salt_100g</th>\n",
       "      <th>sodium_100g</th>\n",
       "      <th>nutrition-score-fr_100g</th>\n",
       "      <th>nutrition-score-uk_100g</th>\n",
       "    </tr>\n",
       "    <tr>\n",
       "      <th>code</th>\n",
       "      <th></th>\n",
       "      <th></th>\n",
       "      <th></th>\n",
       "      <th></th>\n",
       "      <th></th>\n",
       "      <th></th>\n",
       "      <th></th>\n",
       "      <th></th>\n",
       "      <th></th>\n",
       "      <th></th>\n",
       "      <th></th>\n",
       "      <th></th>\n",
       "      <th></th>\n",
       "      <th></th>\n",
       "      <th></th>\n",
       "      <th></th>\n",
       "    </tr>\n",
       "  </thead>\n",
       "  <tbody>\n",
       "    <tr>\n",
       "      <td>0000000000017</td>\n",
       "      <td>NaN</td>\n",
       "      <td>NaN</td>\n",
       "      <td>NaN</td>\n",
       "      <td>NaN</td>\n",
       "      <td>NaN</td>\n",
       "      <td>1569.0</td>\n",
       "      <td>7.0</td>\n",
       "      <td>3.08</td>\n",
       "      <td>70.1</td>\n",
       "      <td>15.0</td>\n",
       "      <td>NaN</td>\n",
       "      <td>7.8</td>\n",
       "      <td>1.40</td>\n",
       "      <td>0.560</td>\n",
       "      <td>NaN</td>\n",
       "      <td>NaN</td>\n",
       "    </tr>\n",
       "    <tr>\n",
       "      <td>0000000000123</td>\n",
       "      <td>NaN</td>\n",
       "      <td>NaN</td>\n",
       "      <td>NaN</td>\n",
       "      <td>NaN</td>\n",
       "      <td>NaN</td>\n",
       "      <td>88.0</td>\n",
       "      <td>0.0</td>\n",
       "      <td>0.00</td>\n",
       "      <td>4.8</td>\n",
       "      <td>0.4</td>\n",
       "      <td>NaN</td>\n",
       "      <td>0.2</td>\n",
       "      <td>2.04</td>\n",
       "      <td>0.816</td>\n",
       "      <td>NaN</td>\n",
       "      <td>NaN</td>\n",
       "    </tr>\n",
       "    <tr>\n",
       "      <td>0000000000178</td>\n",
       "      <td>NaN</td>\n",
       "      <td>NaN</td>\n",
       "      <td>NaN</td>\n",
       "      <td>NaN</td>\n",
       "      <td>NaN</td>\n",
       "      <td>251.0</td>\n",
       "      <td>3.0</td>\n",
       "      <td>1.00</td>\n",
       "      <td>10.0</td>\n",
       "      <td>3.0</td>\n",
       "      <td>NaN</td>\n",
       "      <td>2.0</td>\n",
       "      <td>1.15</td>\n",
       "      <td>0.460</td>\n",
       "      <td>NaN</td>\n",
       "      <td>NaN</td>\n",
       "    </tr>\n",
       "    <tr>\n",
       "      <td>0000000000949</td>\n",
       "      <td>NaN</td>\n",
       "      <td>NaN</td>\n",
       "      <td>NaN</td>\n",
       "      <td>NaN</td>\n",
       "      <td>NaN</td>\n",
       "      <td>134.0</td>\n",
       "      <td>0.3</td>\n",
       "      <td>0.10</td>\n",
       "      <td>5.3</td>\n",
       "      <td>3.9</td>\n",
       "      <td>NaN</td>\n",
       "      <td>0.9</td>\n",
       "      <td>0.42</td>\n",
       "      <td>0.168</td>\n",
       "      <td>1.0</td>\n",
       "      <td>1.0</td>\n",
       "    </tr>\n",
       "    <tr>\n",
       "      <td>0000000000970</td>\n",
       "      <td>NaN</td>\n",
       "      <td>NaN</td>\n",
       "      <td>NaN</td>\n",
       "      <td>NaN</td>\n",
       "      <td>NaN</td>\n",
       "      <td>540.0</td>\n",
       "      <td>4.9</td>\n",
       "      <td>3.10</td>\n",
       "      <td>16.3</td>\n",
       "      <td>16.3</td>\n",
       "      <td>NaN</td>\n",
       "      <td>4.4</td>\n",
       "      <td>0.25</td>\n",
       "      <td>0.100</td>\n",
       "      <td>NaN</td>\n",
       "      <td>NaN</td>\n",
       "    </tr>\n",
       "  </tbody>\n",
       "</table>\n",
       "</div>"
      ],
      "text/plain": [
       "               serving_quantity  additives_n  ingredients_from_palm_oil_n  \\\n",
       "code                                                                        \n",
       "0000000000017               NaN          NaN                          NaN   \n",
       "0000000000123               NaN          NaN                          NaN   \n",
       "0000000000178               NaN          NaN                          NaN   \n",
       "0000000000949               NaN          NaN                          NaN   \n",
       "0000000000970               NaN          NaN                          NaN   \n",
       "\n",
       "               ingredients_that_may_be_from_palm_oil_n  nova_group  \\\n",
       "code                                                                 \n",
       "0000000000017                                      NaN         NaN   \n",
       "0000000000123                                      NaN         NaN   \n",
       "0000000000178                                      NaN         NaN   \n",
       "0000000000949                                      NaN         NaN   \n",
       "0000000000970                                      NaN         NaN   \n",
       "\n",
       "               energy_100g  fat_100g  saturated-fat_100g  carbohydrates_100g  \\\n",
       "code                                                                           \n",
       "0000000000017       1569.0       7.0                3.08                70.1   \n",
       "0000000000123         88.0       0.0                0.00                 4.8   \n",
       "0000000000178        251.0       3.0                1.00                10.0   \n",
       "0000000000949        134.0       0.3                0.10                 5.3   \n",
       "0000000000970        540.0       4.9                3.10                16.3   \n",
       "\n",
       "               sugars_100g  fiber_100g  proteins_100g  salt_100g  sodium_100g  \\\n",
       "code                                                                            \n",
       "0000000000017         15.0         NaN            7.8       1.40        0.560   \n",
       "0000000000123          0.4         NaN            0.2       2.04        0.816   \n",
       "0000000000178          3.0         NaN            2.0       1.15        0.460   \n",
       "0000000000949          3.9         NaN            0.9       0.42        0.168   \n",
       "0000000000970         16.3         NaN            4.4       0.25        0.100   \n",
       "\n",
       "               nutrition-score-fr_100g  nutrition-score-uk_100g  \n",
       "code                                                             \n",
       "0000000000017                      NaN                      NaN  \n",
       "0000000000123                      NaN                      NaN  \n",
       "0000000000178                      NaN                      NaN  \n",
       "0000000000949                      1.0                      1.0  \n",
       "0000000000970                      NaN                      NaN  "
      ]
     },
     "execution_count": 29,
     "metadata": {},
     "output_type": "execute_result"
    }
   ],
   "source": [
    "nutrition_facts_thresh_df.head()"
   ]
  },
  {
   "cell_type": "markdown",
   "metadata": {},
   "source": [
    "We clearly see a huge number of outliers in the dataset after looking to min,max,mean and standard deviation of each feature.\n",
    "All the ingredient feature should have a resonable value <=100g except the energy which is expressed in Kj. "
   ]
  },
  {
   "cell_type": "markdown",
   "metadata": {},
   "source": [
    "### What about outliers in the row data?"
   ]
  },
  {
   "cell_type": "markdown",
   "metadata": {},
   "source": [
    "First, the column `serving_quantity` is not an ingredient. It can be dropped "
   ]
  },
  {
   "cell_type": "code",
   "execution_count": 30,
   "metadata": {},
   "outputs": [],
   "source": [
    "nutrition_facts_thresh_df=nutrition_facts_thresh_df.drop(columns=['serving_quantity'])"
   ]
  },
  {
   "cell_type": "code",
   "execution_count": 31,
   "metadata": {},
   "outputs": [],
   "source": [
    "# storing the columns fields in a list\n",
    "fields=list(nutrition_facts_thresh_df.columns)"
   ]
  },
  {
   "cell_type": "markdown",
   "metadata": {},
   "source": [
    "We rename the columns by replacing '-' by '_'. This will allow us to create the formula for the statsmodel regression since'-' is interpreted as a math operation while definiing the formula as a string. "
   ]
  },
  {
   "cell_type": "code",
   "execution_count": 32,
   "metadata": {},
   "outputs": [],
   "source": [
    "for field in fields: \n",
    "    nutrition_facts_thresh_df = nutrition_facts_thresh_df.rename(columns={field: field.replace('-','_')})\n",
    "fields=nutrition_facts_thresh_df.columns"
   ]
  },
  {
   "cell_type": "markdown",
   "metadata": {},
   "source": [
    "Let us now remove the outliers. All nutrition feautres should have a value <=100g (except energy_100g)"
   ]
  },
  {
   "cell_type": "code",
   "execution_count": 33,
   "metadata": {},
   "outputs": [],
   "source": [
    "nutrition_facts_clean_df= nutrition_facts_thresh_df[(nutrition_facts_thresh_df\n",
    "                                                      [nutrition_facts_thresh_df.columns.difference(['energy_100g'])] <= 100.0).all(1)]\n"
   ]
  },
  {
   "cell_type": "markdown",
   "metadata": {},
   "source": [
    "Negative values can not be possible. Except for the nutrition score that is by definition defined between -14 and 40 "
   ]
  },
  {
   "cell_type": "code",
   "execution_count": 34,
   "metadata": {},
   "outputs": [],
   "source": [
    "\n",
    "nutrition_facts_clean_df = nutrition_facts_clean_df[(nutrition_facts_clean_df[nutrition_facts_clean_df.columns.difference(['nutrition_score_fr_100g', 'nutrition_score_uk_100g'])] >= 0).all(1)]"
   ]
  },
  {
   "cell_type": "code",
   "execution_count": 35,
   "metadata": {},
   "outputs": [
    {
     "data": {
      "text/plain": [
       "'\\nnutrition_facts_thresh_clean_df=nutrition_facts_thresh_df.copy()\\nfor field in fields[:-1]: \\n    #nutrition_facts_thresh_clean_df=nutrition_facts_thresh_clean_df[np.abs(nutrition_facts_thresh_df_zscore[field])<=3]\\n    nutrition_facts_thresh_clean_df=nutrition_facts_thresh_clean_df[np.abs(nutrition_facts_thresh_df[field]-nutrition_facts_thresh_df\\n                                                             [field].mean())<=(3*nutrition_facts_thresh_df[field].std())]\\n'"
      ]
     },
     "execution_count": 35,
     "metadata": {},
     "output_type": "execute_result"
    }
   ],
   "source": [
    "\"\"\"\n",
    "nutrition_facts_thresh_clean_df=nutrition_facts_thresh_df.copy()\n",
    "for field in fields[:-1]: \n",
    "    #nutrition_facts_thresh_clean_df=nutrition_facts_thresh_clean_df[np.abs(nutrition_facts_thresh_df_zscore[field])<=3]\n",
    "    nutrition_facts_thresh_clean_df=nutrition_facts_thresh_clean_df[np.abs(nutrition_facts_thresh_df[field]-nutrition_facts_thresh_df\n",
    "                                                             [field].mean())<=(3*nutrition_facts_thresh_df[field].std())]\n",
    "\"\"\""
   ]
  },
  {
   "cell_type": "code",
   "execution_count": 36,
   "metadata": {
    "scrolled": true
   },
   "outputs": [
    {
     "name": "stdout",
     "output_type": "stream",
     "text": [
      "We have only 64891 rows left\n"
     ]
    }
   ],
   "source": [
    "print(\"We have only {} rows left\".format(nutrition_facts_clean_df.shape[0]))"
   ]
  },
  {
   "cell_type": "markdown",
   "metadata": {},
   "source": [
    "We lost a huge number of rows by removing the outliers. The dataset is highly corrupted in terms of ingredients.  We are going to see later if this number of samples is enough to have significant results. "
   ]
  },
  {
   "cell_type": "code",
   "execution_count": 37,
   "metadata": {
    "scrolled": true
   },
   "outputs": [
    {
     "data": {
      "text/html": [
       "<div>\n",
       "<style scoped>\n",
       "    .dataframe tbody tr th:only-of-type {\n",
       "        vertical-align: middle;\n",
       "    }\n",
       "\n",
       "    .dataframe tbody tr th {\n",
       "        vertical-align: top;\n",
       "    }\n",
       "\n",
       "    .dataframe thead th {\n",
       "        text-align: right;\n",
       "    }\n",
       "</style>\n",
       "<table border=\"1\" class=\"dataframe\">\n",
       "  <thead>\n",
       "    <tr style=\"text-align: right;\">\n",
       "      <th></th>\n",
       "      <th>additives_n</th>\n",
       "      <th>ingredients_from_palm_oil_n</th>\n",
       "      <th>ingredients_that_may_be_from_palm_oil_n</th>\n",
       "      <th>nova_group</th>\n",
       "      <th>energy_100g</th>\n",
       "      <th>fat_100g</th>\n",
       "      <th>saturated_fat_100g</th>\n",
       "      <th>carbohydrates_100g</th>\n",
       "      <th>sugars_100g</th>\n",
       "      <th>fiber_100g</th>\n",
       "      <th>proteins_100g</th>\n",
       "      <th>salt_100g</th>\n",
       "      <th>sodium_100g</th>\n",
       "      <th>nutrition_score_fr_100g</th>\n",
       "      <th>nutrition_score_uk_100g</th>\n",
       "    </tr>\n",
       "    <tr>\n",
       "      <th>code</th>\n",
       "      <th></th>\n",
       "      <th></th>\n",
       "      <th></th>\n",
       "      <th></th>\n",
       "      <th></th>\n",
       "      <th></th>\n",
       "      <th></th>\n",
       "      <th></th>\n",
       "      <th></th>\n",
       "      <th></th>\n",
       "      <th></th>\n",
       "      <th></th>\n",
       "      <th></th>\n",
       "      <th></th>\n",
       "      <th></th>\n",
       "    </tr>\n",
       "  </thead>\n",
       "  <tbody>\n",
       "    <tr>\n",
       "      <td>0000000005470</td>\n",
       "      <td>3.0</td>\n",
       "      <td>0.0</td>\n",
       "      <td>0.0</td>\n",
       "      <td>4.0</td>\n",
       "      <td>669.0</td>\n",
       "      <td>2.20</td>\n",
       "      <td>0.50</td>\n",
       "      <td>25.20</td>\n",
       "      <td>0.60</td>\n",
       "      <td>1.6</td>\n",
       "      <td>9.50</td>\n",
       "      <td>0.35800</td>\n",
       "      <td>0.143200</td>\n",
       "      <td>-4.0</td>\n",
       "      <td>-4.0</td>\n",
       "    </tr>\n",
       "    <tr>\n",
       "      <td>0000000043595</td>\n",
       "      <td>0.0</td>\n",
       "      <td>0.0</td>\n",
       "      <td>0.0</td>\n",
       "      <td>3.0</td>\n",
       "      <td>1255.0</td>\n",
       "      <td>0.00</td>\n",
       "      <td>0.00</td>\n",
       "      <td>83.33</td>\n",
       "      <td>66.67</td>\n",
       "      <td>10.0</td>\n",
       "      <td>0.00</td>\n",
       "      <td>0.00000</td>\n",
       "      <td>0.000000</td>\n",
       "      <td>3.0</td>\n",
       "      <td>3.0</td>\n",
       "    </tr>\n",
       "    <tr>\n",
       "      <td>0000000274722</td>\n",
       "      <td>2.0</td>\n",
       "      <td>0.0</td>\n",
       "      <td>0.0</td>\n",
       "      <td>4.0</td>\n",
       "      <td>450.0</td>\n",
       "      <td>2.20</td>\n",
       "      <td>0.90</td>\n",
       "      <td>15.30</td>\n",
       "      <td>0.50</td>\n",
       "      <td>0.5</td>\n",
       "      <td>6.80</td>\n",
       "      <td>0.70000</td>\n",
       "      <td>0.280000</td>\n",
       "      <td>0.0</td>\n",
       "      <td>0.0</td>\n",
       "    </tr>\n",
       "    <tr>\n",
       "      <td>0000000491228</td>\n",
       "      <td>4.0</td>\n",
       "      <td>0.0</td>\n",
       "      <td>2.0</td>\n",
       "      <td>4.0</td>\n",
       "      <td>1952.4</td>\n",
       "      <td>15.30</td>\n",
       "      <td>11.20</td>\n",
       "      <td>75.50</td>\n",
       "      <td>69.80</td>\n",
       "      <td>0.1</td>\n",
       "      <td>6.80</td>\n",
       "      <td>0.50000</td>\n",
       "      <td>0.200000</td>\n",
       "      <td>2.0</td>\n",
       "      <td>2.0</td>\n",
       "    </tr>\n",
       "    <tr>\n",
       "      <td>0000010206515</td>\n",
       "      <td>5.0</td>\n",
       "      <td>0.0</td>\n",
       "      <td>2.0</td>\n",
       "      <td>4.0</td>\n",
       "      <td>1720.0</td>\n",
       "      <td>6.42</td>\n",
       "      <td>3.53</td>\n",
       "      <td>87.86</td>\n",
       "      <td>81.67</td>\n",
       "      <td>0.0</td>\n",
       "      <td>0.03</td>\n",
       "      <td>0.10000</td>\n",
       "      <td>0.040000</td>\n",
       "      <td>18.0</td>\n",
       "      <td>18.0</td>\n",
       "    </tr>\n",
       "    <tr>\n",
       "      <td>0000020043131</td>\n",
       "      <td>0.0</td>\n",
       "      <td>0.0</td>\n",
       "      <td>0.0</td>\n",
       "      <td>3.0</td>\n",
       "      <td>1527.0</td>\n",
       "      <td>1.18</td>\n",
       "      <td>0.00</td>\n",
       "      <td>71.76</td>\n",
       "      <td>4.71</td>\n",
       "      <td>2.4</td>\n",
       "      <td>12.94</td>\n",
       "      <td>1.19634</td>\n",
       "      <td>0.478536</td>\n",
       "      <td>3.0</td>\n",
       "      <td>3.0</td>\n",
       "    </tr>\n",
       "    <tr>\n",
       "      <td>0000020045791</td>\n",
       "      <td>2.0</td>\n",
       "      <td>0.0</td>\n",
       "      <td>0.0</td>\n",
       "      <td>3.0</td>\n",
       "      <td>1749.0</td>\n",
       "      <td>21.76</td>\n",
       "      <td>5.29</td>\n",
       "      <td>51.76</td>\n",
       "      <td>32.94</td>\n",
       "      <td>2.4</td>\n",
       "      <td>5.88</td>\n",
       "      <td>0.67310</td>\n",
       "      <td>0.269240</td>\n",
       "      <td>17.0</td>\n",
       "      <td>17.0</td>\n",
       "    </tr>\n",
       "    <tr>\n",
       "      <td>0000020047825</td>\n",
       "      <td>0.0</td>\n",
       "      <td>0.0</td>\n",
       "      <td>1.0</td>\n",
       "      <td>3.0</td>\n",
       "      <td>1623.0</td>\n",
       "      <td>22.35</td>\n",
       "      <td>11.76</td>\n",
       "      <td>42.35</td>\n",
       "      <td>15.29</td>\n",
       "      <td>2.4</td>\n",
       "      <td>4.71</td>\n",
       "      <td>0.80772</td>\n",
       "      <td>0.323088</td>\n",
       "      <td>18.0</td>\n",
       "      <td>18.0</td>\n",
       "    </tr>\n",
       "    <tr>\n",
       "      <td>0000030053014</td>\n",
       "      <td>2.0</td>\n",
       "      <td>0.0</td>\n",
       "      <td>0.0</td>\n",
       "      <td>4.0</td>\n",
       "      <td>1046.0</td>\n",
       "      <td>0.00</td>\n",
       "      <td>0.00</td>\n",
       "      <td>95.00</td>\n",
       "      <td>0.00</td>\n",
       "      <td>0.0</td>\n",
       "      <td>0.00</td>\n",
       "      <td>0.00000</td>\n",
       "      <td>0.000000</td>\n",
       "      <td>3.0</td>\n",
       "      <td>3.0</td>\n",
       "    </tr>\n",
       "    <tr>\n",
       "      <td>0000040144078</td>\n",
       "      <td>2.0</td>\n",
       "      <td>0.0</td>\n",
       "      <td>1.0</td>\n",
       "      <td>4.0</td>\n",
       "      <td>2360.0</td>\n",
       "      <td>30.50</td>\n",
       "      <td>18.80</td>\n",
       "      <td>51.60</td>\n",
       "      <td>51.60</td>\n",
       "      <td>0.0</td>\n",
       "      <td>0.00</td>\n",
       "      <td>2.23000</td>\n",
       "      <td>0.892000</td>\n",
       "      <td>36.0</td>\n",
       "      <td>36.0</td>\n",
       "    </tr>\n",
       "  </tbody>\n",
       "</table>\n",
       "</div>"
      ],
      "text/plain": [
       "               additives_n  ingredients_from_palm_oil_n  \\\n",
       "code                                                      \n",
       "0000000005470          3.0                          0.0   \n",
       "0000000043595          0.0                          0.0   \n",
       "0000000274722          2.0                          0.0   \n",
       "0000000491228          4.0                          0.0   \n",
       "0000010206515          5.0                          0.0   \n",
       "0000020043131          0.0                          0.0   \n",
       "0000020045791          2.0                          0.0   \n",
       "0000020047825          0.0                          0.0   \n",
       "0000030053014          2.0                          0.0   \n",
       "0000040144078          2.0                          0.0   \n",
       "\n",
       "               ingredients_that_may_be_from_palm_oil_n  nova_group  \\\n",
       "code                                                                 \n",
       "0000000005470                                      0.0         4.0   \n",
       "0000000043595                                      0.0         3.0   \n",
       "0000000274722                                      0.0         4.0   \n",
       "0000000491228                                      2.0         4.0   \n",
       "0000010206515                                      2.0         4.0   \n",
       "0000020043131                                      0.0         3.0   \n",
       "0000020045791                                      0.0         3.0   \n",
       "0000020047825                                      1.0         3.0   \n",
       "0000030053014                                      0.0         4.0   \n",
       "0000040144078                                      1.0         4.0   \n",
       "\n",
       "               energy_100g  fat_100g  saturated_fat_100g  carbohydrates_100g  \\\n",
       "code                                                                           \n",
       "0000000005470        669.0      2.20                0.50               25.20   \n",
       "0000000043595       1255.0      0.00                0.00               83.33   \n",
       "0000000274722        450.0      2.20                0.90               15.30   \n",
       "0000000491228       1952.4     15.30               11.20               75.50   \n",
       "0000010206515       1720.0      6.42                3.53               87.86   \n",
       "0000020043131       1527.0      1.18                0.00               71.76   \n",
       "0000020045791       1749.0     21.76                5.29               51.76   \n",
       "0000020047825       1623.0     22.35               11.76               42.35   \n",
       "0000030053014       1046.0      0.00                0.00               95.00   \n",
       "0000040144078       2360.0     30.50               18.80               51.60   \n",
       "\n",
       "               sugars_100g  fiber_100g  proteins_100g  salt_100g  sodium_100g  \\\n",
       "code                                                                            \n",
       "0000000005470         0.60         1.6           9.50    0.35800     0.143200   \n",
       "0000000043595        66.67        10.0           0.00    0.00000     0.000000   \n",
       "0000000274722         0.50         0.5           6.80    0.70000     0.280000   \n",
       "0000000491228        69.80         0.1           6.80    0.50000     0.200000   \n",
       "0000010206515        81.67         0.0           0.03    0.10000     0.040000   \n",
       "0000020043131         4.71         2.4          12.94    1.19634     0.478536   \n",
       "0000020045791        32.94         2.4           5.88    0.67310     0.269240   \n",
       "0000020047825        15.29         2.4           4.71    0.80772     0.323088   \n",
       "0000030053014         0.00         0.0           0.00    0.00000     0.000000   \n",
       "0000040144078        51.60         0.0           0.00    2.23000     0.892000   \n",
       "\n",
       "               nutrition_score_fr_100g  nutrition_score_uk_100g  \n",
       "code                                                             \n",
       "0000000005470                     -4.0                     -4.0  \n",
       "0000000043595                      3.0                      3.0  \n",
       "0000000274722                      0.0                      0.0  \n",
       "0000000491228                      2.0                      2.0  \n",
       "0000010206515                     18.0                     18.0  \n",
       "0000020043131                      3.0                      3.0  \n",
       "0000020045791                     17.0                     17.0  \n",
       "0000020047825                     18.0                     18.0  \n",
       "0000030053014                      3.0                      3.0  \n",
       "0000040144078                     36.0                     36.0  "
      ]
     },
     "execution_count": 37,
     "metadata": {},
     "output_type": "execute_result"
    }
   ],
   "source": [
    "nutrition_facts_clean_df.head(10)"
   ]
  },
  {
   "cell_type": "markdown",
   "metadata": {},
   "source": [
    "We lost a huge number of rows but the dataset is now very clean !! "
   ]
  },
  {
   "cell_type": "markdown",
   "metadata": {},
   "source": [
    "## Impact of the ingredients on the nutrition score"
   ]
  },
  {
   "cell_type": "markdown",
   "metadata": {},
   "source": [
    "Before analyzing the impact of our variables on the nutrition score, we need to normalize our data by removing the mean and dividng by the standard deviation "
   ]
  },
  {
   "cell_type": "code",
   "execution_count": 38,
   "metadata": {},
   "outputs": [],
   "source": [
    "nutrition_facts_clean_df = nutrition_facts_clean_df.select_dtypes(include=float).transform(lambda x: (x - x.mean()) / x.std())"
   ]
  },
  {
   "cell_type": "markdown",
   "metadata": {},
   "source": [
    "We can check now if the mean of our variables is close to zero and the standard deviation is close to 1. "
   ]
  },
  {
   "cell_type": "code",
   "execution_count": 39,
   "metadata": {},
   "outputs": [
    {
     "data": {
      "text/html": [
       "<div>\n",
       "<style scoped>\n",
       "    .dataframe tbody tr th:only-of-type {\n",
       "        vertical-align: middle;\n",
       "    }\n",
       "\n",
       "    .dataframe tbody tr th {\n",
       "        vertical-align: top;\n",
       "    }\n",
       "\n",
       "    .dataframe thead th {\n",
       "        text-align: right;\n",
       "    }\n",
       "</style>\n",
       "<table border=\"1\" class=\"dataframe\">\n",
       "  <thead>\n",
       "    <tr style=\"text-align: right;\">\n",
       "      <th></th>\n",
       "      <th>additives_n</th>\n",
       "      <th>ingredients_from_palm_oil_n</th>\n",
       "      <th>ingredients_that_may_be_from_palm_oil_n</th>\n",
       "      <th>nova_group</th>\n",
       "      <th>energy_100g</th>\n",
       "      <th>fat_100g</th>\n",
       "      <th>saturated_fat_100g</th>\n",
       "      <th>carbohydrates_100g</th>\n",
       "      <th>sugars_100g</th>\n",
       "      <th>fiber_100g</th>\n",
       "      <th>proteins_100g</th>\n",
       "      <th>salt_100g</th>\n",
       "      <th>sodium_100g</th>\n",
       "      <th>nutrition_score_fr_100g</th>\n",
       "      <th>nutrition_score_uk_100g</th>\n",
       "    </tr>\n",
       "  </thead>\n",
       "  <tbody>\n",
       "    <tr>\n",
       "      <td>count</td>\n",
       "      <td>6.489100e+04</td>\n",
       "      <td>6.489100e+04</td>\n",
       "      <td>6.489100e+04</td>\n",
       "      <td>6.489100e+04</td>\n",
       "      <td>6.489100e+04</td>\n",
       "      <td>6.489100e+04</td>\n",
       "      <td>6.489100e+04</td>\n",
       "      <td>6.489100e+04</td>\n",
       "      <td>6.489100e+04</td>\n",
       "      <td>6.489100e+04</td>\n",
       "      <td>6.489100e+04</td>\n",
       "      <td>6.489100e+04</td>\n",
       "      <td>6.489100e+04</td>\n",
       "      <td>6.489100e+04</td>\n",
       "      <td>6.489100e+04</td>\n",
       "    </tr>\n",
       "    <tr>\n",
       "      <td>mean</td>\n",
       "      <td>1.768336e-15</td>\n",
       "      <td>6.829945e-14</td>\n",
       "      <td>-3.820820e-14</td>\n",
       "      <td>-1.328398e-14</td>\n",
       "      <td>2.914834e-16</td>\n",
       "      <td>2.186326e-14</td>\n",
       "      <td>-2.164904e-14</td>\n",
       "      <td>-1.285425e-14</td>\n",
       "      <td>4.716969e-15</td>\n",
       "      <td>2.749954e-15</td>\n",
       "      <td>-3.084354e-15</td>\n",
       "      <td>1.840389e-14</td>\n",
       "      <td>-6.506366e-14</td>\n",
       "      <td>-1.311135e-15</td>\n",
       "      <td>1.278114e-15</td>\n",
       "    </tr>\n",
       "    <tr>\n",
       "      <td>std</td>\n",
       "      <td>1.000000e+00</td>\n",
       "      <td>1.000000e+00</td>\n",
       "      <td>1.000000e+00</td>\n",
       "      <td>1.000000e+00</td>\n",
       "      <td>1.000000e+00</td>\n",
       "      <td>1.000000e+00</td>\n",
       "      <td>1.000000e+00</td>\n",
       "      <td>1.000000e+00</td>\n",
       "      <td>1.000000e+00</td>\n",
       "      <td>1.000000e+00</td>\n",
       "      <td>1.000000e+00</td>\n",
       "      <td>1.000000e+00</td>\n",
       "      <td>1.000000e+00</td>\n",
       "      <td>1.000000e+00</td>\n",
       "      <td>1.000000e+00</td>\n",
       "    </tr>\n",
       "    <tr>\n",
       "      <td>min</td>\n",
       "      <td>-7.606263e-01</td>\n",
       "      <td>-2.108649e-01</td>\n",
       "      <td>-2.680268e-01</td>\n",
       "      <td>-2.382183e+00</td>\n",
       "      <td>-1.422832e+00</td>\n",
       "      <td>-7.807819e-01</td>\n",
       "      <td>-6.320223e-01</td>\n",
       "      <td>-1.127199e+00</td>\n",
       "      <td>-7.446427e-01</td>\n",
       "      <td>-6.544841e-01</td>\n",
       "      <td>-9.271591e-01</td>\n",
       "      <td>-3.663600e-01</td>\n",
       "      <td>-3.636796e-01</td>\n",
       "      <td>-2.601862e+00</td>\n",
       "      <td>-2.480634e+00</td>\n",
       "    </tr>\n",
       "    <tr>\n",
       "      <td>25%</td>\n",
       "      <td>-7.606263e-01</td>\n",
       "      <td>-2.108649e-01</td>\n",
       "      <td>-2.680268e-01</td>\n",
       "      <td>-3.612624e-01</td>\n",
       "      <td>-9.063574e-01</td>\n",
       "      <td>-7.266425e-01</td>\n",
       "      <td>-6.184157e-01</td>\n",
       "      <td>-8.783783e-01</td>\n",
       "      <td>-6.720748e-01</td>\n",
       "      <td>-6.544841e-01</td>\n",
       "      <td>-7.245593e-01</td>\n",
       "      <td>-3.346414e-01</td>\n",
       "      <td>-3.333766e-01</td>\n",
       "      <td>-7.849687e-01</td>\n",
       "      <td>-8.278836e-01</td>\n",
       "    </tr>\n",
       "    <tr>\n",
       "      <td>50%</td>\n",
       "      <td>-3.165695e-01</td>\n",
       "      <td>-2.108649e-01</td>\n",
       "      <td>-2.680268e-01</td>\n",
       "      <td>6.491979e-01</td>\n",
       "      <td>-1.051920e-01</td>\n",
       "      <td>-4.048141e-01</td>\n",
       "      <td>-4.143160e-01</td>\n",
       "      <td>-3.920467e-01</td>\n",
       "      <td>-4.766995e-01</td>\n",
       "      <td>-2.712374e-01</td>\n",
       "      <td>-2.271587e-01</td>\n",
       "      <td>-1.544486e-01</td>\n",
       "      <td>-1.553469e-01</td>\n",
       "      <td>9.922202e-03</td>\n",
       "      <td>-1.667836e-01</td>\n",
       "    </tr>\n",
       "    <tr>\n",
       "      <td>75%</td>\n",
       "      <td>5.715441e-01</td>\n",
       "      <td>-2.108649e-01</td>\n",
       "      <td>-2.680268e-01</td>\n",
       "      <td>6.491979e-01</td>\n",
       "      <td>6.934541e-01</td>\n",
       "      <td>4.223149e-01</td>\n",
       "      <td>2.183930e-01</td>\n",
       "      <td>9.048375e-01</td>\n",
       "      <td>3.483425e-01</td>\n",
       "      <td>2.078209e-01</td>\n",
       "      <td>2.860132e-01</td>\n",
       "      <td>8.395172e-02</td>\n",
       "      <td>8.274321e-02</td>\n",
       "      <td>8.048131e-01</td>\n",
       "      <td>8.248663e-01</td>\n",
       "    </tr>\n",
       "    <tr>\n",
       "      <td>max</td>\n",
       "      <td>9.896737e+00</td>\n",
       "      <td>9.404899e+00</td>\n",
       "      <td>1.280120e+01</td>\n",
       "      <td>6.491979e-01</td>\n",
       "      <td>2.213597e+01</td>\n",
       "      <td>5.234702e+00</td>\n",
       "      <td>1.297462e+01</td>\n",
       "      <td>2.642813e+00</td>\n",
       "      <td>4.837509e+00</td>\n",
       "      <td>2.329843e+01</td>\n",
       "      <td>1.108325e+01</td>\n",
       "      <td>3.747496e+01</td>\n",
       "      <td>3.751498e+01</td>\n",
       "      <td>3.643709e+00</td>\n",
       "      <td>3.359083e+00</td>\n",
       "    </tr>\n",
       "  </tbody>\n",
       "</table>\n",
       "</div>"
      ],
      "text/plain": [
       "        additives_n  ingredients_from_palm_oil_n  \\\n",
       "count  6.489100e+04                 6.489100e+04   \n",
       "mean   1.768336e-15                 6.829945e-14   \n",
       "std    1.000000e+00                 1.000000e+00   \n",
       "min   -7.606263e-01                -2.108649e-01   \n",
       "25%   -7.606263e-01                -2.108649e-01   \n",
       "50%   -3.165695e-01                -2.108649e-01   \n",
       "75%    5.715441e-01                -2.108649e-01   \n",
       "max    9.896737e+00                 9.404899e+00   \n",
       "\n",
       "       ingredients_that_may_be_from_palm_oil_n    nova_group   energy_100g  \\\n",
       "count                             6.489100e+04  6.489100e+04  6.489100e+04   \n",
       "mean                             -3.820820e-14 -1.328398e-14  2.914834e-16   \n",
       "std                               1.000000e+00  1.000000e+00  1.000000e+00   \n",
       "min                              -2.680268e-01 -2.382183e+00 -1.422832e+00   \n",
       "25%                              -2.680268e-01 -3.612624e-01 -9.063574e-01   \n",
       "50%                              -2.680268e-01  6.491979e-01 -1.051920e-01   \n",
       "75%                              -2.680268e-01  6.491979e-01  6.934541e-01   \n",
       "max                               1.280120e+01  6.491979e-01  2.213597e+01   \n",
       "\n",
       "           fat_100g  saturated_fat_100g  carbohydrates_100g   sugars_100g  \\\n",
       "count  6.489100e+04        6.489100e+04        6.489100e+04  6.489100e+04   \n",
       "mean   2.186326e-14       -2.164904e-14       -1.285425e-14  4.716969e-15   \n",
       "std    1.000000e+00        1.000000e+00        1.000000e+00  1.000000e+00   \n",
       "min   -7.807819e-01       -6.320223e-01       -1.127199e+00 -7.446427e-01   \n",
       "25%   -7.266425e-01       -6.184157e-01       -8.783783e-01 -6.720748e-01   \n",
       "50%   -4.048141e-01       -4.143160e-01       -3.920467e-01 -4.766995e-01   \n",
       "75%    4.223149e-01        2.183930e-01        9.048375e-01  3.483425e-01   \n",
       "max    5.234702e+00        1.297462e+01        2.642813e+00  4.837509e+00   \n",
       "\n",
       "         fiber_100g  proteins_100g     salt_100g   sodium_100g  \\\n",
       "count  6.489100e+04   6.489100e+04  6.489100e+04  6.489100e+04   \n",
       "mean   2.749954e-15  -3.084354e-15  1.840389e-14 -6.506366e-14   \n",
       "std    1.000000e+00   1.000000e+00  1.000000e+00  1.000000e+00   \n",
       "min   -6.544841e-01  -9.271591e-01 -3.663600e-01 -3.636796e-01   \n",
       "25%   -6.544841e-01  -7.245593e-01 -3.346414e-01 -3.333766e-01   \n",
       "50%   -2.712374e-01  -2.271587e-01 -1.544486e-01 -1.553469e-01   \n",
       "75%    2.078209e-01   2.860132e-01  8.395172e-02  8.274321e-02   \n",
       "max    2.329843e+01   1.108325e+01  3.747496e+01  3.751498e+01   \n",
       "\n",
       "       nutrition_score_fr_100g  nutrition_score_uk_100g  \n",
       "count             6.489100e+04             6.489100e+04  \n",
       "mean             -1.311135e-15             1.278114e-15  \n",
       "std               1.000000e+00             1.000000e+00  \n",
       "min              -2.601862e+00            -2.480634e+00  \n",
       "25%              -7.849687e-01            -8.278836e-01  \n",
       "50%               9.922202e-03            -1.667836e-01  \n",
       "75%               8.048131e-01             8.248663e-01  \n",
       "max               3.643709e+00             3.359083e+00  "
      ]
     },
     "execution_count": 39,
     "metadata": {},
     "output_type": "execute_result"
    }
   ],
   "source": [
    "nutrition_facts_clean_df.describe()"
   ]
  },
  {
   "cell_type": "markdown",
   "metadata": {},
   "source": [
    "Great! our data is now ready for the analysis on the impact of our variables on the nutrition score."
   ]
  },
  {
   "cell_type": "markdown",
   "metadata": {},
   "source": [
    "Before doing so, let's see the correlation between variables visualized in a heatmap."
   ]
  },
  {
   "cell_type": "markdown",
   "metadata": {},
   "source": [
    "### Variable correlations "
   ]
  },
  {
   "cell_type": "code",
   "execution_count": 40,
   "metadata": {},
   "outputs": [
    {
     "data": {
      "text/plain": [
       "<matplotlib.axes._subplots.AxesSubplot at 0x28700753048>"
      ]
     },
     "execution_count": 40,
     "metadata": {},
     "output_type": "execute_result"
    },
    {
     "data": {
      "image/png": "[encoded data removed]",
      "text/plain": [
       "<Figure size 936x936 with 2 Axes>"
      ]
     },
     "metadata": {
      "needs_background": "light"
     },
     "output_type": "display_data"
    }
   ],
   "source": [
    "correlation_variables = nutrition_facts_clean_df.corr(method = \"pearson\")\n",
    "\n",
    "f, ax = plt.subplots(figsize=(13, 13))\n",
    "\n",
    "sns.heatmap(correlation_variables, mask=np.zeros_like(correlation_variables, dtype=np.bool),cmap=sns.diverging_palette(200, 10, as_cmap=True), square=True, ax=ax)"
   ]
  },
  {
   "cell_type": "markdown",
   "metadata": {},
   "source": [
    "From the plot of correlation above we can confirm first that `nutrition_score_fr_100g` and `nutrition_score_uk_100g` are nearly the same.    \n",
    "We can see also a  correlation equal to 1 between `sodium_100g` and `salt_100g`. This is why we will drop the column `sodium_100g` to avoid redundancy. "
   ]
  },
  {
   "cell_type": "code",
   "execution_count": 41,
   "metadata": {},
   "outputs": [],
   "source": [
    "#We drop sodium column. \n",
    "nutrition_facts_clean_df=nutrition_facts_clean_df.drop(columns=['sodium_100g'])\n",
    "fields_left=nutrition_facts_clean_df.columns"
   ]
  },
  {
   "cell_type": "code",
   "execution_count": 42,
   "metadata": {},
   "outputs": [],
   "source": [
    "#We drop one of the nutrition scores \n",
    "nutrition_facts_clean_df=nutrition_facts_clean_df.drop(columns=['nutrition_score_uk_100g'])\n"
   ]
  },
  {
   "cell_type": "code",
   "execution_count": 43,
   "metadata": {},
   "outputs": [],
   "source": [
    "nutrition_facts_clean_df=nutrition_facts_clean_df.drop(columns=[\"ingredients_from_palm_oil_n\",\"ingredients_that_may_be_from_palm_oil_n\"])\n"
   ]
  },
  {
   "cell_type": "code",
   "execution_count": 57,
   "metadata": {},
   "outputs": [],
   "source": [
    "fields_left=nutrition_facts_clean_df.columns"
   ]
  },
  {
   "cell_type": "markdown",
   "metadata": {},
   "source": [
    "Let's see the heatmap again. "
   ]
  },
  {
   "cell_type": "code",
   "execution_count": 44,
   "metadata": {},
   "outputs": [
    {
     "data": {
      "text/plain": [
       "<matplotlib.axes._subplots.AxesSubplot at 0x28701776d68>"
      ]
     },
     "execution_count": 44,
     "metadata": {},
     "output_type": "execute_result"
    },
    {
     "data": {
      "image/png": "[encoded data removed]",
      "text/plain": [
       "<Figure size 936x936 with 2 Axes>"
      ]
     },
     "metadata": {
      "needs_background": "light"
     },
     "output_type": "display_data"
    }
   ],
   "source": [
    "#calculating pearson correlation\n",
    "correlation_variables = nutrition_facts_clean_df.corr(method = \"pearson\")\n",
    "\n",
    "f, ax = plt.subplots(figsize=(13, 13))\n",
    "\n",
    "#we draw the heatmap using seaborn\n",
    "sns.heatmap(correlation_variables, mask=np.zeros_like(correlation_variables, dtype=np.bool),cmap=sns.diverging_palette(200, 10, as_cmap=True), square=True, ax=ax)"
   ]
  },
  {
   "cell_type": "markdown",
   "metadata": {},
   "source": [
    "By looking at the heatmap, we can already predict that `energey_100g`, `fat_100g`, `saturated_fat_100g` and `sugar_100g` have the highest correlation on the nutrition score.\n"
   ]
  },
  {
   "cell_type": "markdown",
   "metadata": {},
   "source": [
    "Now everything is ready. What we want to do is to find the impact of each ingredient on the nutrition score. One way to do that is a regression. It allows us to see the impact of each variable on this score by looking to the weights. "
   ]
  },
  {
   "cell_type": "markdown",
   "metadata": {},
   "source": [
    "## Regression"
   ]
  },
  {
   "cell_type": "markdown",
   "metadata": {},
   "source": [
    "### Using Ridge regression "
   ]
  },
  {
   "cell_type": "markdown",
   "metadata": {},
   "source": [
    "We split first the data to training and testing "
   ]
  },
  {
   "cell_type": "code",
   "execution_count": 46,
   "metadata": {},
   "outputs": [
    {
     "name": "stdout",
     "output_type": "stream",
     "text": [
      "Size of the training set: 51912\t(80.00%)\n",
      "Size of the testing set: 12979\t(20.00%)\n"
     ]
    }
   ],
   "source": [
    "#let's split the dataset to training and testign\n",
    "test_size = 0.2\n",
    "train_df, test_df = train_test_split(nutrition_facts_clean_df, test_size=test_size)\n",
    "print('Size of the training set: {}\\t({:.2f}%)'.format(len(train_df),len(train_df)/len(nutrition_facts_clean_df)*100))\n",
    "print('Size of the testing set: {}\\t({:.2f}%)'.format(len(test_df),len(test_df)/len(nutrition_facts_clean_df)*100))"
   ]
  },
  {
   "cell_type": "code",
   "execution_count": 47,
   "metadata": {},
   "outputs": [],
   "source": [
    "def generate_train_test_arrays(train_df, test_df):\n",
    "    ''' \n",
    "    Converts provided DataFrame objects to numpy arrays. \n",
    "    The Ridge regression requires this format to work. \n",
    "    The DataFrames should contain the training and testing\n",
    "    samples respectively. \n",
    "    \n",
    "    Returns following numpy arrays:\n",
    "        X_train, y_train, X_test, y_test\n",
    "    '''\n",
    "    \n",
    "    # Prepare the data for the regression\n",
    "    y_train = train_df.loc[:, 'nutrition_score_fr_100g'].values                 # shape is [n_sample]\n",
    "    X_train= train_df.drop(columns=['nutrition_score_fr_100g']).to_numpy()\n",
    "    y_test= test_df.loc[:, 'nutrition_score_fr_100g'].values                 # shape is [n_sample]\n",
    "    X_test= test_df.drop(columns=['nutrition_score_fr_100g']).to_numpy()\n",
    "    \n",
    "    return X_train, y_train, X_test, y_test"
   ]
  },
  {
   "cell_type": "code",
   "execution_count": 48,
   "metadata": {},
   "outputs": [],
   "source": [
    "X_train, y_train, X_test, y_test = generate_train_test_arrays(train_df, test_df)\n",
    "\n",
    "#We create a list containing the alpha values we are going to test\n",
    "alphas=list(range(0,1000,1))\n",
    "\n",
    "#Gridsearch with only on parameter\n",
    "param_grid = {'alpha':alphas}"
   ]
  },
  {
   "cell_type": "markdown",
   "metadata": {},
   "source": [
    "The ridge regression has one hyper-parameter which is $\\alpha$. Let us tune it using 5-fold crossvalidation"
   ]
  },
  {
   "cell_type": "code",
   "execution_count": 49,
   "metadata": {
    "scrolled": false
   },
   "outputs": [
    {
     "name": "stdout",
     "output_type": "stream",
     "text": [
      "# Tuning hyper-parameter alpha\n",
      "\n",
      "Best alpha: 230\n"
     ]
    }
   ],
   "source": [
    "# Let's start optimizing our hyper parameter alpha using 5-fold Cross validation, We put the flag \n",
    "print(\"# Tuning hyper-parameter alpha\\n\")\n",
    "clf = GridSearchCV(Ridge(normalize=False), param_grid, cv=5,\n",
    "                   scoring='neg_mean_squared_error')\n",
    "clf.fit(X_train,y_train)\n",
    "\n",
    "means = clf.cv_results_['mean_test_score']\n",
    "stds = clf.cv_results_['std_test_score']\n",
    "\n",
    "#printing the best alpha found\n",
    "best_alpha = clf.best_params_['alpha']\n",
    "print('Best alpha:',best_alpha)"
   ]
  },
  {
   "cell_type": "markdown",
   "metadata": {},
   "source": [
    "After tuning our hyper-parameter, we train our ridge regression."
   ]
  },
  {
   "cell_type": "code",
   "execution_count": 65,
   "metadata": {
    "scrolled": true
   },
   "outputs": [
    {
     "name": "stdout",
     "output_type": "stream",
     "text": [
      "Testing MSE =  0.3401732809209511\n"
     ]
    }
   ],
   "source": [
    "ridge     = Ridge(alpha=best_alpha,     normalize=False)\n",
    "\n",
    "# Fit the estimators\n",
    "ridge.fit(X_train, y_train)\n",
    "\n",
    "# Predict on the test set\n",
    "y_pred     = ridge.predict(X_test)\n",
    "\n",
    "print(\"Testing MSE = \",((y_test - y_pred)**2).mean())"
   ]
  },
  {
   "cell_type": "code",
   "execution_count": 60,
   "metadata": {},
   "outputs": [
    {
     "data": {
      "image/png": "[encoded data removed]",
      "text/plain": [
       "<Figure size 1440x720 with 1 Axes>"
      ]
     },
     "metadata": {
      "needs_background": "light"
     },
     "output_type": "display_data"
    }
   ],
   "source": [
    "# Let us retrain the model with alpha = 230\n",
    "ridge = Ridge(alpha=best_alpha)\n",
    "ridge.fit(X_train,y_train)\n",
    "\n",
    "# Plot the regression's weights \n",
    "\n",
    "plt.figure(figsize=(20,10))\n",
    "plt.bar(fields_left[:-1],ridge.coef_)\n",
    "plt.xticks(rotation=90)\n",
    "plt.title('Ridge regression weight of each feature')\n",
    "plt.xlabel('Feature')\n",
    "plt.ylabel('Weight value')\n",
    "plt.grid()"
   ]
  },
  {
   "cell_type": "markdown",
   "metadata": {},
   "source": [
    "* positive coef : \n",
    "\n",
    "1) sugars_100g     \n",
    "2) saturated_fat_100g  \n",
    "3) fat_100g  \n",
    "4) Nova_group  \n",
    "5) salt_100g  \n",
    "6) energy_100g  \n",
    "7) proteins_100g  \n",
    "8) additive_n    \n",
    "\n",
    "* Negative coef: \n",
    "fiber_100g "
   ]
  },
  {
   "cell_type": "markdown",
   "metadata": {},
   "source": [
    "### Ordinary least square regression using statsmodel"
   ]
  },
  {
   "cell_type": "markdown",
   "metadata": {},
   "source": [
    "Let's prepare our formula for the regression: "
   ]
  },
  {
   "cell_type": "code",
   "execution_count": 61,
   "metadata": {},
   "outputs": [
    {
     "data": {
      "text/html": [
       "<div>\n",
       "<style scoped>\n",
       "    .dataframe tbody tr th:only-of-type {\n",
       "        vertical-align: middle;\n",
       "    }\n",
       "\n",
       "    .dataframe tbody tr th {\n",
       "        vertical-align: top;\n",
       "    }\n",
       "\n",
       "    .dataframe thead th {\n",
       "        text-align: right;\n",
       "    }\n",
       "</style>\n",
       "<table border=\"1\" class=\"dataframe\">\n",
       "  <thead>\n",
       "    <tr style=\"text-align: right;\">\n",
       "      <th></th>\n",
       "      <th>additives_n</th>\n",
       "      <th>nova_group</th>\n",
       "      <th>energy_100g</th>\n",
       "      <th>fat_100g</th>\n",
       "      <th>saturated_fat_100g</th>\n",
       "      <th>carbohydrates_100g</th>\n",
       "      <th>sugars_100g</th>\n",
       "      <th>fiber_100g</th>\n",
       "      <th>proteins_100g</th>\n",
       "      <th>salt_100g</th>\n",
       "      <th>nutrition_score_fr_100g</th>\n",
       "    </tr>\n",
       "    <tr>\n",
       "      <th>code</th>\n",
       "      <th></th>\n",
       "      <th></th>\n",
       "      <th></th>\n",
       "      <th></th>\n",
       "      <th></th>\n",
       "      <th></th>\n",
       "      <th></th>\n",
       "      <th></th>\n",
       "      <th></th>\n",
       "      <th></th>\n",
       "      <th></th>\n",
       "    </tr>\n",
       "  </thead>\n",
       "  <tbody>\n",
       "    <tr>\n",
       "      <td>0000000005470</td>\n",
       "      <td>0.571544</td>\n",
       "      <td>0.649198</td>\n",
       "      <td>-0.580097</td>\n",
       "      <td>-0.648441</td>\n",
       "      <td>-0.563989</td>\n",
       "      <td>-0.177156</td>\n",
       "      <td>-0.711150</td>\n",
       "      <td>-0.271237</td>\n",
       "      <td>0.225355</td>\n",
       "      <td>-0.230888</td>\n",
       "      <td>-1.352748</td>\n",
       "    </tr>\n",
       "    <tr>\n",
       "      <td>0000000043595</td>\n",
       "      <td>-0.760626</td>\n",
       "      <td>-0.361262</td>\n",
       "      <td>0.158084</td>\n",
       "      <td>-0.780782</td>\n",
       "      <td>-0.632022</td>\n",
       "      <td>2.014352</td>\n",
       "      <td>2.976978</td>\n",
       "      <td>1.740808</td>\n",
       "      <td>-0.927159</td>\n",
       "      <td>-0.366360</td>\n",
       "      <td>-0.557857</td>\n",
       "    </tr>\n",
       "    <tr>\n",
       "      <td>0000000274722</td>\n",
       "      <td>0.127487</td>\n",
       "      <td>0.649198</td>\n",
       "      <td>-0.855970</td>\n",
       "      <td>-0.648441</td>\n",
       "      <td>-0.509563</td>\n",
       "      <td>-0.550387</td>\n",
       "      <td>-0.716732</td>\n",
       "      <td>-0.534720</td>\n",
       "      <td>-0.102202</td>\n",
       "      <td>-0.101471</td>\n",
       "      <td>-0.898525</td>\n",
       "    </tr>\n",
       "    <tr>\n",
       "      <td>0000000491228</td>\n",
       "      <td>1.015601</td>\n",
       "      <td>0.649198</td>\n",
       "      <td>1.036595</td>\n",
       "      <td>0.139587</td>\n",
       "      <td>0.891922</td>\n",
       "      <td>1.719160</td>\n",
       "      <td>3.151699</td>\n",
       "      <td>-0.630531</td>\n",
       "      <td>-0.102202</td>\n",
       "      <td>-0.177153</td>\n",
       "      <td>-0.671413</td>\n",
       "    </tr>\n",
       "    <tr>\n",
       "      <td>0000010206515</td>\n",
       "      <td>1.459658</td>\n",
       "      <td>0.649198</td>\n",
       "      <td>0.743842</td>\n",
       "      <td>-0.394588</td>\n",
       "      <td>-0.151708</td>\n",
       "      <td>2.185134</td>\n",
       "      <td>3.814300</td>\n",
       "      <td>-0.654484</td>\n",
       "      <td>-0.923520</td>\n",
       "      <td>-0.328519</td>\n",
       "      <td>1.145481</td>\n",
       "    </tr>\n",
       "  </tbody>\n",
       "</table>\n",
       "</div>"
      ],
      "text/plain": [
       "               additives_n  nova_group  energy_100g  fat_100g  \\\n",
       "code                                                            \n",
       "0000000005470     0.571544    0.649198    -0.580097 -0.648441   \n",
       "0000000043595    -0.760626   -0.361262     0.158084 -0.780782   \n",
       "0000000274722     0.127487    0.649198    -0.855970 -0.648441   \n",
       "0000000491228     1.015601    0.649198     1.036595  0.139587   \n",
       "0000010206515     1.459658    0.649198     0.743842 -0.394588   \n",
       "\n",
       "               saturated_fat_100g  carbohydrates_100g  sugars_100g  \\\n",
       "code                                                                 \n",
       "0000000005470           -0.563989           -0.177156    -0.711150   \n",
       "0000000043595           -0.632022            2.014352     2.976978   \n",
       "0000000274722           -0.509563           -0.550387    -0.716732   \n",
       "0000000491228            0.891922            1.719160     3.151699   \n",
       "0000010206515           -0.151708            2.185134     3.814300   \n",
       "\n",
       "               fiber_100g  proteins_100g  salt_100g  nutrition_score_fr_100g  \n",
       "code                                                                          \n",
       "0000000005470   -0.271237       0.225355  -0.230888                -1.352748  \n",
       "0000000043595    1.740808      -0.927159  -0.366360                -0.557857  \n",
       "0000000274722   -0.534720      -0.102202  -0.101471                -0.898525  \n",
       "0000000491228   -0.630531      -0.102202  -0.177153                -0.671413  \n",
       "0000010206515   -0.654484      -0.923520  -0.328519                 1.145481  "
      ]
     },
     "execution_count": 61,
     "metadata": {},
     "output_type": "execute_result"
    }
   ],
   "source": [
    "nutrition_facts_clean_df.head()"
   ]
  },
  {
   "cell_type": "code",
   "execution_count": 62,
   "metadata": {},
   "outputs": [
    {
     "data": {
      "text/plain": [
       "'nutrition_score_fr_100g ~ additives_n+nova_group+energy_100g+fat_100g+saturated_fat_100g+carbohydrates_100g+sugars_100g+fiber_100g+proteins_100g'"
      ]
     },
     "execution_count": 62,
     "metadata": {},
     "output_type": "execute_result"
    }
   ],
   "source": [
    "fields_left=nutrition_facts_clean_df.columns\n",
    "formula_string=\"nutrition_score_fr_100g ~ \"\n",
    "for field in fields_left[:-2]:\n",
    "    formula_string=formula_string+field+\"+\"\n",
    "formula_string=formula_string[:-1]\n",
    "formula_string"
   ]
  },
  {
   "cell_type": "code",
   "execution_count": 63,
   "metadata": {},
   "outputs": [
    {
     "name": "stdout",
     "output_type": "stream",
     "text": [
      "                               OLS Regression Results                              \n",
      "===================================================================================\n",
      "Dep. Variable:     nutrition_score_fr_100g   R-squared:                       0.653\n",
      "Model:                                 OLS   Adj. R-squared:                  0.653\n",
      "Method:                      Least Squares   F-statistic:                 1.356e+04\n",
      "Date:                     Sun, 24 Nov 2019   Prob (F-statistic):               0.00\n",
      "Time:                             14:46:09   Log-Likelihood:                -57749.\n",
      "No. Observations:                    64891   AIC:                         1.155e+05\n",
      "Df Residuals:                        64881   BIC:                         1.156e+05\n",
      "Df Model:                                9                                         \n",
      "Covariance Type:                 nonrobust                                         \n",
      "======================================================================================\n",
      "                         coef    std err          t      P>|t|      [0.025      0.975]\n",
      "--------------------------------------------------------------------------------------\n",
      "Intercept           1.251e-15      0.002   5.41e-13      1.000      -0.005       0.005\n",
      "additives_n            0.0568      0.003     21.995      0.000       0.052       0.062\n",
      "nova_group             0.1965      0.003     74.682      0.000       0.191       0.202\n",
      "energy_100g            0.1760      0.009     18.816      0.000       0.158       0.194\n",
      "fat_100g               0.1850      0.008     23.285      0.000       0.169       0.201\n",
      "saturated_fat_100g     0.2922      0.003     86.568      0.000       0.286       0.299\n",
      "carbohydrates_100g    -0.0016      0.006     -0.262      0.793      -0.013       0.010\n",
      "sugars_100g            0.3481      0.003    110.755      0.000       0.342       0.354\n",
      "fiber_100g            -0.2019      0.003    -79.110      0.000      -0.207      -0.197\n",
      "proteins_100g          0.0919      0.003     31.208      0.000       0.086       0.098\n",
      "==============================================================================\n",
      "Omnibus:                     2898.714   Durbin-Watson:                   1.373\n",
      "Prob(Omnibus):                  0.000   Jarque-Bera (JB):             5554.231\n",
      "Skew:                           0.340   Prob(JB):                         0.00\n",
      "Kurtosis:                       4.262   Cond. No.                         9.30\n",
      "==============================================================================\n",
      "\n",
      "Warnings:\n",
      "[1] Standard Errors assume that the covariance matrix of the errors is correctly specified.\n"
     ]
    }
   ],
   "source": [
    "nutrition_score_regression = sm.ols(formula= formula_string, data = nutrition_facts_clean_df)\n",
    "res = nutrition_score_regression.fit()\n",
    "print(res.summary())"
   ]
  },
  {
   "cell_type": "markdown",
   "metadata": {},
   "source": [
    "Analysing the regression results from the coeficents of each ingredient, we can deduce the impact of these ingredients on the the nutrition score.  \n",
    "\n",
    "#### Positive coef \n",
    "* `sugars_100g` has the highest positive impact nutrition score ~ 0.35  \n",
    "* `saturated_fat_100g`has the fourth highest impact on nutrition socre ~ 0,3\n",
    "* `nova_group`with a coef ~ 0.2\n",
    "* `fat_100g` with a coef ~ 0.19\n",
    "* `energy_100` has the second highest nutrition score ~ 0.18 \n",
    "\n",
    "\n",
    "\n",
    "#### Negative coef \n",
    "* `fiber_100g` has the highest negative nutrition score ~-0.2 \n",
    "\n",
    "From the french nutrition score datasheet page 24, we see that the highest the nutrition score is the lowest the nutritional quality is. We can then deduce that all products with a high percentage of energy, sugar, salt, and saturated fat all unhealthy and products with a high percentage of fiber are healthy. All other ingredients do not have a huge impact on the nutrition score.  \n",
    "By analyzing the p-value we can deduce that our variables are statistically significant except the `carbohydrate_100g`.    \n",
    "The number of samples we have in hand after dropping the outliers and NaNs is enough to have significant results."
   ]
  },
  {
   "cell_type": "markdown",
   "metadata": {},
   "source": [
    "One of the features which seems to have a high impact on the nutrition score is the nova group. The values of this group are {1,2,3,4}\n",
    "\n",
    "* Group 1 - Unprocessed or minimally processed foods :Unprocessed (or natural) foods are edible parts of plants (seeds, fruits, leaves, stems, roots) or of animals (muscle, offal, eggs, milk), and also fungi, algae and water, after separation from nature.\n",
    "* Group 2 - Processed culinary ingredients : Processed culinary ingredients, such as oils, butter, sugar and salt, are substances derived from Group 1 foods or from nature by processes that include pressing, refining, grinding, milling and drying.\n",
    "* Group 3 - Processed foods : Processed foods, such as bottled vegetables, canned fish, fruits in syrup, cheeses and freshly made breads, are made essentially by adding salt, oil, sugar or other substances from Group 2 to Group 1 foods. \n",
    "* Group 4 - Ultra-processed food and drink products: Ultra-processed foods, such as soft drinks, sweet or savoury packaged snacks, reconstituted meat products and pre-prepared frozen dishes.  \n",
    "\n",
    "Beeing in a higher group leads also to a high nutrition score and then low nutritional quality.  "
   ]
  }
 ],
 "metadata": {
  "kernelspec": {
   "display_name": "Python 3",
   "language": "python",
   "name": "python3"
  },
  "language_info": {
   "codemirror_mode": {
    "name": "ipython",
    "version": 3
   },
   "file_extension": ".py",
   "mimetype": "text/x-python",
   "name": "python",
   "nbconvert_exporter": "python",
   "pygments_lexer": "ipython3",
   "version": "3.7.0"
  }
 },
 "nbformat": 4,
 "nbformat_minor": 2
}
